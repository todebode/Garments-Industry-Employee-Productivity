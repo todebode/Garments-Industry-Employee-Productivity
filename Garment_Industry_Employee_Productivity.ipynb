{
  "cells": [
    {
      "cell_type": "markdown",
      "metadata": {
        "id": "Fh9K3W-JYkrC"
      },
      "source": [
        "# Garment Industry Employee Productivity\n",
        "\n",
        "Tijesunimi Odebode\n",
        "\n",
        "04/02/2022"
      ]
    },
    {
      "cell_type": "code",
      "execution_count": 2,
      "metadata": {
        "colab": {
          "base_uri": "https://localhost:8080/"
        },
        "id": "21UR13b8ZVDo",
        "outputId": "df570d49-d3ad-4c46-c49d-a485f4b2a9fa"
      },
      "outputs": [
        {
          "output_type": "stream",
          "name": "stdout",
          "text": [
            "Mounted at /content/drive\n"
          ]
        }
      ],
      "source": [
        "from google.colab import drive\n",
        "drive.mount('/content/drive')"
      ]
    },
    {
      "cell_type": "markdown",
      "metadata": {
        "id": "DN7FDr2SZGah"
      },
      "source": [
        "## 1. Import necessary packages"
      ]
    },
    {
      "cell_type": "code",
      "execution_count": 3,
      "metadata": {
        "id": "H4Mjes3j3CNp"
      },
      "outputs": [],
      "source": [
        "import pandas as pd\n",
        "import numpy as np\n",
        "import matplotlib.pyplot as plt\n",
        "import seaborn as sns\n",
        "from sklearn.model_selection import train_test_split\n",
        "from sklearn.compose import make_column_transformer, make_column_selector\n",
        "from sklearn.preprocessing import StandardScaler, OneHotEncoder\n",
        "from sklearn.impute import SimpleImputer\n",
        "from sklearn.pipeline import make_pipeline\n",
        "from sklearn import set_config\n",
        "set_config(display='diagram')\n",
        "from sklearn.model_selection import GridSearchCV, RandomizedSearchCV\n",
        "#Importing the KNN Classifier\n",
        "from sklearn.neighbors import KNeighborsClassifier\n",
        "# Import random forest Classifier\n",
        "from sklearn.ensemble import RandomForestClassifier\n",
        "# Import Logistic Regression\n",
        "from sklearn.linear_model import LogisticRegression\n",
        "#import accuracy, precision, recall, classification report, and confusion matrix scoring functions\n",
        "from sklearn.metrics import accuracy_score, precision_score, f1_score, recall_score, classification_report, confusion_matrix, ConfusionMatrixDisplay"
      ]
    },
    {
      "cell_type": "markdown",
      "metadata": {
        "id": "xYjbObBc3oWw"
      },
      "source": [
        "## 2. Load and verify data"
      ]
    },
    {
      "cell_type": "code",
      "execution_count": 4,
      "metadata": {
        "colab": {
          "base_uri": "https://localhost:8080/",
          "height": 357
        },
        "id": "XPF5Unpb2nOz",
        "outputId": "c63fb5e8-013e-4e0b-be56-9914f1b1f0bd"
      },
      "outputs": [
        {
          "output_type": "execute_result",
          "data": {
            "text/plain": [
              "        date   quarter  department       day  team  targeted_productivity  \\\n",
              "0 2015-01-01  Quarter1      sweing  Thursday     8                   0.80   \n",
              "1 2015-01-01  Quarter1  finishing   Thursday     1                   0.75   \n",
              "2 2015-01-01  Quarter1      sweing  Thursday    11                   0.80   \n",
              "3 2015-01-01  Quarter1      sweing  Thursday    12                   0.80   \n",
              "4 2015-01-01  Quarter1      sweing  Thursday     6                   0.80   \n",
              "\n",
              "     smv     wip  over_time  incentive  idle_time  idle_men  \\\n",
              "0  26.16  1108.0       7080         98        0.0         0   \n",
              "1   3.94     NaN        960          0        0.0         0   \n",
              "2  11.41   968.0       3660         50        0.0         0   \n",
              "3  11.41   968.0       3660         50        0.0         0   \n",
              "4  25.90  1170.0       1920         50        0.0         0   \n",
              "\n",
              "   no_of_style_change  no_of_workers  actual_productivity  \n",
              "0                   0           59.0             0.940725  \n",
              "1                   0            8.0             0.886500  \n",
              "2                   0           30.5             0.800570  \n",
              "3                   0           30.5             0.800570  \n",
              "4                   0           56.0             0.800382  "
            ],
            "text/html": [
              "\n",
              "  <div id=\"df-f2e5c379-873b-4950-bd4d-8133982dcb5c\">\n",
              "    <div class=\"colab-df-container\">\n",
              "      <div>\n",
              "<style scoped>\n",
              "    .dataframe tbody tr th:only-of-type {\n",
              "        vertical-align: middle;\n",
              "    }\n",
              "\n",
              "    .dataframe tbody tr th {\n",
              "        vertical-align: top;\n",
              "    }\n",
              "\n",
              "    .dataframe thead th {\n",
              "        text-align: right;\n",
              "    }\n",
              "</style>\n",
              "<table border=\"1\" class=\"dataframe\">\n",
              "  <thead>\n",
              "    <tr style=\"text-align: right;\">\n",
              "      <th></th>\n",
              "      <th>date</th>\n",
              "      <th>quarter</th>\n",
              "      <th>department</th>\n",
              "      <th>day</th>\n",
              "      <th>team</th>\n",
              "      <th>targeted_productivity</th>\n",
              "      <th>smv</th>\n",
              "      <th>wip</th>\n",
              "      <th>over_time</th>\n",
              "      <th>incentive</th>\n",
              "      <th>idle_time</th>\n",
              "      <th>idle_men</th>\n",
              "      <th>no_of_style_change</th>\n",
              "      <th>no_of_workers</th>\n",
              "      <th>actual_productivity</th>\n",
              "    </tr>\n",
              "  </thead>\n",
              "  <tbody>\n",
              "    <tr>\n",
              "      <th>0</th>\n",
              "      <td>2015-01-01</td>\n",
              "      <td>Quarter1</td>\n",
              "      <td>sweing</td>\n",
              "      <td>Thursday</td>\n",
              "      <td>8</td>\n",
              "      <td>0.80</td>\n",
              "      <td>26.16</td>\n",
              "      <td>1108.0</td>\n",
              "      <td>7080</td>\n",
              "      <td>98</td>\n",
              "      <td>0.0</td>\n",
              "      <td>0</td>\n",
              "      <td>0</td>\n",
              "      <td>59.0</td>\n",
              "      <td>0.940725</td>\n",
              "    </tr>\n",
              "    <tr>\n",
              "      <th>1</th>\n",
              "      <td>2015-01-01</td>\n",
              "      <td>Quarter1</td>\n",
              "      <td>finishing</td>\n",
              "      <td>Thursday</td>\n",
              "      <td>1</td>\n",
              "      <td>0.75</td>\n",
              "      <td>3.94</td>\n",
              "      <td>NaN</td>\n",
              "      <td>960</td>\n",
              "      <td>0</td>\n",
              "      <td>0.0</td>\n",
              "      <td>0</td>\n",
              "      <td>0</td>\n",
              "      <td>8.0</td>\n",
              "      <td>0.886500</td>\n",
              "    </tr>\n",
              "    <tr>\n",
              "      <th>2</th>\n",
              "      <td>2015-01-01</td>\n",
              "      <td>Quarter1</td>\n",
              "      <td>sweing</td>\n",
              "      <td>Thursday</td>\n",
              "      <td>11</td>\n",
              "      <td>0.80</td>\n",
              "      <td>11.41</td>\n",
              "      <td>968.0</td>\n",
              "      <td>3660</td>\n",
              "      <td>50</td>\n",
              "      <td>0.0</td>\n",
              "      <td>0</td>\n",
              "      <td>0</td>\n",
              "      <td>30.5</td>\n",
              "      <td>0.800570</td>\n",
              "    </tr>\n",
              "    <tr>\n",
              "      <th>3</th>\n",
              "      <td>2015-01-01</td>\n",
              "      <td>Quarter1</td>\n",
              "      <td>sweing</td>\n",
              "      <td>Thursday</td>\n",
              "      <td>12</td>\n",
              "      <td>0.80</td>\n",
              "      <td>11.41</td>\n",
              "      <td>968.0</td>\n",
              "      <td>3660</td>\n",
              "      <td>50</td>\n",
              "      <td>0.0</td>\n",
              "      <td>0</td>\n",
              "      <td>0</td>\n",
              "      <td>30.5</td>\n",
              "      <td>0.800570</td>\n",
              "    </tr>\n",
              "    <tr>\n",
              "      <th>4</th>\n",
              "      <td>2015-01-01</td>\n",
              "      <td>Quarter1</td>\n",
              "      <td>sweing</td>\n",
              "      <td>Thursday</td>\n",
              "      <td>6</td>\n",
              "      <td>0.80</td>\n",
              "      <td>25.90</td>\n",
              "      <td>1170.0</td>\n",
              "      <td>1920</td>\n",
              "      <td>50</td>\n",
              "      <td>0.0</td>\n",
              "      <td>0</td>\n",
              "      <td>0</td>\n",
              "      <td>56.0</td>\n",
              "      <td>0.800382</td>\n",
              "    </tr>\n",
              "  </tbody>\n",
              "</table>\n",
              "</div>\n",
              "      <button class=\"colab-df-convert\" onclick=\"convertToInteractive('df-f2e5c379-873b-4950-bd4d-8133982dcb5c')\"\n",
              "              title=\"Convert this dataframe to an interactive table.\"\n",
              "              style=\"display:none;\">\n",
              "        \n",
              "  <svg xmlns=\"http://www.w3.org/2000/svg\" height=\"24px\"viewBox=\"0 0 24 24\"\n",
              "       width=\"24px\">\n",
              "    <path d=\"M0 0h24v24H0V0z\" fill=\"none\"/>\n",
              "    <path d=\"M18.56 5.44l.94 2.06.94-2.06 2.06-.94-2.06-.94-.94-2.06-.94 2.06-2.06.94zm-11 1L8.5 8.5l.94-2.06 2.06-.94-2.06-.94L8.5 2.5l-.94 2.06-2.06.94zm10 10l.94 2.06.94-2.06 2.06-.94-2.06-.94-.94-2.06-.94 2.06-2.06.94z\"/><path d=\"M17.41 7.96l-1.37-1.37c-.4-.4-.92-.59-1.43-.59-.52 0-1.04.2-1.43.59L10.3 9.45l-7.72 7.72c-.78.78-.78 2.05 0 2.83L4 21.41c.39.39.9.59 1.41.59.51 0 1.02-.2 1.41-.59l7.78-7.78 2.81-2.81c.8-.78.8-2.07 0-2.86zM5.41 20L4 18.59l7.72-7.72 1.47 1.35L5.41 20z\"/>\n",
              "  </svg>\n",
              "      </button>\n",
              "      \n",
              "  <style>\n",
              "    .colab-df-container {\n",
              "      display:flex;\n",
              "      flex-wrap:wrap;\n",
              "      gap: 12px;\n",
              "    }\n",
              "\n",
              "    .colab-df-convert {\n",
              "      background-color: #E8F0FE;\n",
              "      border: none;\n",
              "      border-radius: 50%;\n",
              "      cursor: pointer;\n",
              "      display: none;\n",
              "      fill: #1967D2;\n",
              "      height: 32px;\n",
              "      padding: 0 0 0 0;\n",
              "      width: 32px;\n",
              "    }\n",
              "\n",
              "    .colab-df-convert:hover {\n",
              "      background-color: #E2EBFA;\n",
              "      box-shadow: 0px 1px 2px rgba(60, 64, 67, 0.3), 0px 1px 3px 1px rgba(60, 64, 67, 0.15);\n",
              "      fill: #174EA6;\n",
              "    }\n",
              "\n",
              "    [theme=dark] .colab-df-convert {\n",
              "      background-color: #3B4455;\n",
              "      fill: #D2E3FC;\n",
              "    }\n",
              "\n",
              "    [theme=dark] .colab-df-convert:hover {\n",
              "      background-color: #434B5C;\n",
              "      box-shadow: 0px 1px 3px 1px rgba(0, 0, 0, 0.15);\n",
              "      filter: drop-shadow(0px 1px 2px rgba(0, 0, 0, 0.3));\n",
              "      fill: #FFFFFF;\n",
              "    }\n",
              "  </style>\n",
              "\n",
              "      <script>\n",
              "        const buttonEl =\n",
              "          document.querySelector('#df-f2e5c379-873b-4950-bd4d-8133982dcb5c button.colab-df-convert');\n",
              "        buttonEl.style.display =\n",
              "          google.colab.kernel.accessAllowed ? 'block' : 'none';\n",
              "\n",
              "        async function convertToInteractive(key) {\n",
              "          const element = document.querySelector('#df-f2e5c379-873b-4950-bd4d-8133982dcb5c');\n",
              "          const dataTable =\n",
              "            await google.colab.kernel.invokeFunction('convertToInteractive',\n",
              "                                                     [key], {});\n",
              "          if (!dataTable) return;\n",
              "\n",
              "          const docLinkHtml = 'Like what you see? Visit the ' +\n",
              "            '<a target=\"_blank\" href=https://colab.research.google.com/notebooks/data_table.ipynb>data table notebook</a>'\n",
              "            + ' to learn more about interactive tables.';\n",
              "          element.innerHTML = '';\n",
              "          dataTable['output_type'] = 'display_data';\n",
              "          await google.colab.output.renderOutput(dataTable, element);\n",
              "          const docLink = document.createElement('div');\n",
              "          docLink.innerHTML = docLinkHtml;\n",
              "          element.appendChild(docLink);\n",
              "        }\n",
              "      </script>\n",
              "    </div>\n",
              "  </div>\n",
              "  "
            ]
          },
          "metadata": {},
          "execution_count": 4
        }
      ],
      "source": [
        "filename = '/content/drive/MyDrive/Coding Dojo Bootcamp/Data/garments_worker_productivity.xlsx'\n",
        "garm_prod = pd.read_excel(filename)\n",
        "garm_prod.head()"
      ]
    },
    {
      "cell_type": "markdown",
      "metadata": {
        "id": "2KuIEDCOj4XI"
      },
      "source": [
        "## 3. Explore the data"
      ]
    },
    {
      "cell_type": "markdown",
      "metadata": {
        "id": "IPFwyeMPmxpa"
      },
      "source": [
        "### a) Check for missing values. \n",
        "- Missing values will not be addressed here. Missing values will be addressed further down in the notebook. However, let's check to see the missing values."
      ]
    },
    {
      "cell_type": "code",
      "execution_count": 5,
      "metadata": {
        "colab": {
          "base_uri": "https://localhost:8080/"
        },
        "id": "2ebZZdEPkOvy",
        "outputId": "89c84c30-afe6-45b5-a525-d7b91942d539"
      },
      "outputs": [
        {
          "output_type": "stream",
          "name": "stdout",
          "text": [
            "<class 'pandas.core.frame.DataFrame'>\n",
            "RangeIndex: 1197 entries, 0 to 1196\n",
            "Data columns (total 15 columns):\n",
            " #   Column                 Non-Null Count  Dtype         \n",
            "---  ------                 --------------  -----         \n",
            " 0   date                   1197 non-null   datetime64[ns]\n",
            " 1   quarter                1197 non-null   object        \n",
            " 2   department             1197 non-null   object        \n",
            " 3   day                    1197 non-null   object        \n",
            " 4   team                   1197 non-null   int64         \n",
            " 5   targeted_productivity  1197 non-null   float64       \n",
            " 6   smv                    1197 non-null   float64       \n",
            " 7   wip                    691 non-null    float64       \n",
            " 8   over_time              1197 non-null   int64         \n",
            " 9   incentive              1197 non-null   int64         \n",
            " 10  idle_time              1197 non-null   float64       \n",
            " 11  idle_men               1197 non-null   int64         \n",
            " 12  no_of_style_change     1197 non-null   int64         \n",
            " 13  no_of_workers          1197 non-null   float64       \n",
            " 14  actual_productivity    1197 non-null   float64       \n",
            "dtypes: datetime64[ns](1), float64(6), int64(5), object(3)\n",
            "memory usage: 140.4+ KB\n"
          ]
        }
      ],
      "source": [
        "garm_prod.info()"
      ]
    },
    {
      "cell_type": "markdown",
      "metadata": {
        "id": "LbWod-oNmQTZ"
      },
      "source": [
        "- There are 1197 rows and 15 columns. There is missing data in the **'wip'** column considering there are only 691 non-null values."
      ]
    },
    {
      "cell_type": "markdown",
      "metadata": {
        "id": "oQHRTz5TxslV"
      },
      "source": [
        "### b) Explore the 'date' column to determine how to split it in preparation for modeling"
      ]
    },
    {
      "cell_type": "code",
      "execution_count": 6,
      "metadata": {
        "colab": {
          "base_uri": "https://localhost:8080/"
        },
        "id": "iL0VsleywnFR",
        "outputId": "7ba1bbc8-61de-48d9-e1e5-236733681d60"
      },
      "outputs": [
        {
          "output_type": "execute_result",
          "data": {
            "text/plain": [
              "2015-03-11    24\n",
              "2015-01-31    24\n",
              "2015-01-11    23\n",
              "2015-03-10    23\n",
              "2015-01-12    23\n",
              "2015-01-24    23\n",
              "2015-01-08    22\n",
              "2015-01-10    22\n",
              "2015-01-07    22\n",
              "2015-01-13    22\n",
              "2015-01-05    22\n",
              "2015-03-09    22\n",
              "2015-03-08    22\n",
              "2015-03-03    22\n",
              "2015-01-22    22\n",
              "2015-02-25    21\n",
              "2015-02-26    21\n",
              "2015-02-28    21\n",
              "2015-01-03    21\n",
              "2015-01-04    21\n",
              "2015-01-28    21\n",
              "2015-01-27    21\n",
              "2015-03-04    21\n",
              "2015-01-25    21\n",
              "2015-01-17    21\n",
              "2015-01-14    21\n",
              "2015-01-06    21\n",
              "2015-02-18    21\n",
              "2015-01-29    20\n",
              "2015-02-17    20\n",
              "2015-03-02    20\n",
              "2015-03-01    20\n",
              "2015-02-22    20\n",
              "2015-02-19    20\n",
              "2015-03-05    19\n",
              "2015-03-07    19\n",
              "2015-02-24    19\n",
              "2015-02-23    19\n",
              "2015-01-01    19\n",
              "2015-02-03    19\n",
              "2015-02-15    19\n",
              "2015-01-15    19\n",
              "2015-01-18    19\n",
              "2015-01-19    19\n",
              "2015-01-21    19\n",
              "2015-01-26    19\n",
              "2015-02-01    19\n",
              "2015-02-02    19\n",
              "2015-02-04    19\n",
              "2015-02-07    19\n",
              "2015-02-08    19\n",
              "2015-02-10    19\n",
              "2015-02-11    19\n",
              "2015-02-12    19\n",
              "2015-02-05    18\n",
              "2015-02-09    18\n",
              "2015-02-16    18\n",
              "2015-02-14    17\n",
              "2015-01-20    15\n",
              "Name: date, dtype: int64"
            ]
          },
          "metadata": {},
          "execution_count": 6
        }
      ],
      "source": [
        "# Check the unique values in the 'date' column\n",
        "garm_prod['date'].value_counts()"
      ]
    },
    {
      "cell_type": "markdown",
      "metadata": {
        "id": "0xHigJwRyP9-"
      },
      "source": [
        "- From the above, it looks like the evaluation of employees was done in the same year. As a result, we only have to split the 'date' columns into 2 columns (month and day)."
      ]
    },
    {
      "cell_type": "markdown",
      "metadata": {
        "id": "4pNFwmxWytHP"
      },
      "source": [
        "### c) Create a new column for the months listed in the 'date' column. The new column will be titled '**month**.'"
      ]
    },
    {
      "cell_type": "code",
      "execution_count": 7,
      "metadata": {
        "colab": {
          "base_uri": "https://localhost:8080/"
        },
        "id": "9XN2Gok2-OH3",
        "outputId": "4c961311-fa74-4a4d-cae0-a8ca3ba6512b"
      },
      "outputs": [
        {
          "output_type": "execute_result",
          "data": {
            "text/plain": [
              "0       1\n",
              "1       1\n",
              "2       1\n",
              "3       1\n",
              "4       1\n",
              "       ..\n",
              "1192    3\n",
              "1193    3\n",
              "1194    3\n",
              "1195    3\n",
              "1196    3\n",
              "Name: month, Length: 1197, dtype: int64"
            ]
          },
          "metadata": {},
          "execution_count": 7
        }
      ],
      "source": [
        "garm_prod['month'] = garm_prod['date'].dt.month\n",
        "garm_prod['month'] "
      ]
    },
    {
      "cell_type": "markdown",
      "metadata": {
        "id": "cY1yXOHMzgsy"
      },
      "source": [
        "### d) Create a new column for the numerical days listed in the 'date' column. The new column will be titled '**daynum**.'"
      ]
    },
    {
      "cell_type": "code",
      "execution_count": 8,
      "metadata": {
        "colab": {
          "base_uri": "https://localhost:8080/"
        },
        "id": "tKreQbov_kIE",
        "outputId": "620dbaf8-c405-4b0e-beb8-6e52bfe5f898"
      },
      "outputs": [
        {
          "output_type": "execute_result",
          "data": {
            "text/plain": [
              "0        1\n",
              "1        1\n",
              "2        1\n",
              "3        1\n",
              "4        1\n",
              "        ..\n",
              "1192    11\n",
              "1193    11\n",
              "1194    11\n",
              "1195    11\n",
              "1196    11\n",
              "Name: daynum, Length: 1197, dtype: int64"
            ]
          },
          "metadata": {},
          "execution_count": 8
        }
      ],
      "source": [
        "garm_prod['daynum'] = garm_prod['date'].dt.day\n",
        "garm_prod['daynum'] "
      ]
    },
    {
      "cell_type": "markdown",
      "metadata": {
        "id": "vB_GGyCYz9YR"
      },
      "source": [
        "### e) Drop the 'date' column and confirm that our dataset now has the new columns we just added"
      ]
    },
    {
      "cell_type": "code",
      "execution_count": 9,
      "metadata": {
        "colab": {
          "base_uri": "https://localhost:8080/"
        },
        "id": "WRkI0hzNz3lE",
        "outputId": "0d74f404-fc4f-434e-ebf4-0f376fa595a4"
      },
      "outputs": [
        {
          "output_type": "stream",
          "name": "stdout",
          "text": [
            "<class 'pandas.core.frame.DataFrame'>\n",
            "RangeIndex: 1197 entries, 0 to 1196\n",
            "Data columns (total 16 columns):\n",
            " #   Column                 Non-Null Count  Dtype  \n",
            "---  ------                 --------------  -----  \n",
            " 0   quarter                1197 non-null   object \n",
            " 1   department             1197 non-null   object \n",
            " 2   day                    1197 non-null   object \n",
            " 3   team                   1197 non-null   int64  \n",
            " 4   targeted_productivity  1197 non-null   float64\n",
            " 5   smv                    1197 non-null   float64\n",
            " 6   wip                    691 non-null    float64\n",
            " 7   over_time              1197 non-null   int64  \n",
            " 8   incentive              1197 non-null   int64  \n",
            " 9   idle_time              1197 non-null   float64\n",
            " 10  idle_men               1197 non-null   int64  \n",
            " 11  no_of_style_change     1197 non-null   int64  \n",
            " 12  no_of_workers          1197 non-null   float64\n",
            " 13  actual_productivity    1197 non-null   float64\n",
            " 14  month                  1197 non-null   int64  \n",
            " 15  daynum                 1197 non-null   int64  \n",
            "dtypes: float64(6), int64(7), object(3)\n",
            "memory usage: 149.8+ KB\n"
          ]
        }
      ],
      "source": [
        "# Drop the 'date' column\n",
        "garm_prod.drop(columns=['date'], inplace=True)\n",
        "# Confirm that the dataset now has the new columns added\n",
        "garm_prod.info()"
      ]
    },
    {
      "cell_type": "markdown",
      "metadata": {
        "id": "X5-bv2oP4ASv"
      },
      "source": [
        "- We now have 16 columns, confirming that the 'date' column has been dropped and two new columns have been added. Also, we can see the new columns in the dataset information above."
      ]
    },
    {
      "cell_type": "markdown",
      "metadata": {
        "id": "zIi0GT0S-7m-"
      },
      "source": [
        "### f. Make sure the 'month' and 'daynum' columns are 'object' datatype so they can be one-hot encoded later."
      ]
    },
    {
      "cell_type": "code",
      "execution_count": 10,
      "metadata": {
        "colab": {
          "base_uri": "https://localhost:8080/"
        },
        "id": "XaX6DaIZ_FmU",
        "outputId": "2cb04963-985b-400d-965e-7034aba61a4b"
      },
      "outputs": [
        {
          "output_type": "stream",
          "name": "stdout",
          "text": [
            "<class 'pandas.core.frame.DataFrame'>\n",
            "RangeIndex: 1197 entries, 0 to 1196\n",
            "Data columns (total 16 columns):\n",
            " #   Column                 Non-Null Count  Dtype  \n",
            "---  ------                 --------------  -----  \n",
            " 0   quarter                1197 non-null   object \n",
            " 1   department             1197 non-null   object \n",
            " 2   day                    1197 non-null   object \n",
            " 3   team                   1197 non-null   int64  \n",
            " 4   targeted_productivity  1197 non-null   float64\n",
            " 5   smv                    1197 non-null   float64\n",
            " 6   wip                    691 non-null    float64\n",
            " 7   over_time              1197 non-null   int64  \n",
            " 8   incentive              1197 non-null   int64  \n",
            " 9   idle_time              1197 non-null   float64\n",
            " 10  idle_men               1197 non-null   int64  \n",
            " 11  no_of_style_change     1197 non-null   int64  \n",
            " 12  no_of_workers          1197 non-null   float64\n",
            " 13  actual_productivity    1197 non-null   float64\n",
            " 14  month                  1197 non-null   object \n",
            " 15  daynum                 1197 non-null   object \n",
            "dtypes: float64(6), int64(5), object(5)\n",
            "memory usage: 149.8+ KB\n"
          ]
        }
      ],
      "source": [
        "garm_prod['month'] = garm_prod['month'].astype('object')\n",
        "garm_prod['daynum'] = garm_prod['daynum'].astype('object')\n",
        "garm_prod.info()"
      ]
    },
    {
      "cell_type": "markdown",
      "metadata": {
        "id": "dKs8VsMDLQhi"
      },
      "source": [
        "### g. Make sure the 'team' column is 'object' datatype so it can be one-hot encoded later."
      ]
    },
    {
      "cell_type": "code",
      "execution_count": 11,
      "metadata": {
        "colab": {
          "base_uri": "https://localhost:8080/"
        },
        "id": "-92mYOY9LQhk",
        "outputId": "57779f0b-ca85-42fc-97b9-1a5d85b4dae9"
      },
      "outputs": [
        {
          "output_type": "stream",
          "name": "stdout",
          "text": [
            "<class 'pandas.core.frame.DataFrame'>\n",
            "RangeIndex: 1197 entries, 0 to 1196\n",
            "Data columns (total 16 columns):\n",
            " #   Column                 Non-Null Count  Dtype  \n",
            "---  ------                 --------------  -----  \n",
            " 0   quarter                1197 non-null   object \n",
            " 1   department             1197 non-null   object \n",
            " 2   day                    1197 non-null   object \n",
            " 3   team                   1197 non-null   object \n",
            " 4   targeted_productivity  1197 non-null   float64\n",
            " 5   smv                    1197 non-null   float64\n",
            " 6   wip                    691 non-null    float64\n",
            " 7   over_time              1197 non-null   int64  \n",
            " 8   incentive              1197 non-null   int64  \n",
            " 9   idle_time              1197 non-null   float64\n",
            " 10  idle_men               1197 non-null   int64  \n",
            " 11  no_of_style_change     1197 non-null   int64  \n",
            " 12  no_of_workers          1197 non-null   float64\n",
            " 13  actual_productivity    1197 non-null   float64\n",
            " 14  month                  1197 non-null   object \n",
            " 15  daynum                 1197 non-null   object \n",
            "dtypes: float64(6), int64(4), object(6)\n",
            "memory usage: 149.8+ KB\n"
          ]
        }
      ],
      "source": [
        "garm_prod['team'] = garm_prod['team'].astype('object')\n",
        "garm_prod.info()"
      ]
    },
    {
      "cell_type": "markdown",
      "metadata": {
        "id": "UN1yzlpqnMLf"
      },
      "source": [
        "### h) Check for duplicates and address them"
      ]
    },
    {
      "cell_type": "code",
      "execution_count": 12,
      "metadata": {
        "colab": {
          "base_uri": "https://localhost:8080/"
        },
        "id": "VXhX5XfKeipD",
        "outputId": "21ba89cf-d29e-4a13-8192-09e32eeeb1b8"
      },
      "outputs": [
        {
          "output_type": "execute_result",
          "data": {
            "text/plain": [
              "0"
            ]
          },
          "metadata": {},
          "execution_count": 12
        }
      ],
      "source": [
        "# Identify and address any duplicates\n",
        "garm_prod.duplicated().sum()"
      ]
    },
    {
      "cell_type": "markdown",
      "metadata": {
        "id": "PfAEyrdzewgQ"
      },
      "source": [
        "- There are no duplicates in the dataset"
      ]
    },
    {
      "cell_type": "markdown",
      "metadata": {
        "id": "ydYSgDzmp3-8"
      },
      "source": [
        "### i) Let's check the datatypes and ensure they are all correct"
      ]
    },
    {
      "cell_type": "code",
      "execution_count": 13,
      "metadata": {
        "colab": {
          "base_uri": "https://localhost:8080/"
        },
        "id": "odpXS4Onfn7X",
        "outputId": "0c24e7c5-b596-4e5c-e975-c7268b9ab4f8"
      },
      "outputs": [
        {
          "output_type": "execute_result",
          "data": {
            "text/plain": [
              "quarter                   object\n",
              "department                object\n",
              "day                       object\n",
              "team                      object\n",
              "targeted_productivity    float64\n",
              "smv                      float64\n",
              "wip                      float64\n",
              "over_time                  int64\n",
              "incentive                  int64\n",
              "idle_time                float64\n",
              "idle_men                   int64\n",
              "no_of_style_change         int64\n",
              "no_of_workers            float64\n",
              "actual_productivity      float64\n",
              "month                     object\n",
              "daynum                    object\n",
              "dtype: object"
            ]
          },
          "metadata": {},
          "execution_count": 13
        }
      ],
      "source": [
        "gpdata_types = garm_prod.dtypes\n",
        "gpdata_types"
      ]
    },
    {
      "cell_type": "markdown",
      "metadata": {
        "id": "LV4iU-D9rb0_"
      },
      "source": [
        "- All the datatypes seeem to be correct."
      ]
    },
    {
      "cell_type": "markdown",
      "metadata": {
        "id": "4RsrecdZns_D"
      },
      "source": [
        "### j) Check for other errors/issues with the data and fix them"
      ]
    },
    {
      "cell_type": "code",
      "execution_count": 14,
      "metadata": {
        "colab": {
          "base_uri": "https://localhost:8080/",
          "height": 300
        },
        "id": "1Zp8R_Oiskge",
        "outputId": "d47843ee-d205-4353-b510-a79499f77641"
      },
      "outputs": [
        {
          "output_type": "execute_result",
          "data": {
            "text/plain": [
              "       targeted_productivity          smv           wip     over_time  \\\n",
              "count            1197.000000  1197.000000    691.000000   1197.000000   \n",
              "mean                0.729632    15.062172   1190.465991   4567.460317   \n",
              "std                 0.097891    10.943219   1837.455001   3348.823563   \n",
              "min                 0.070000     2.900000      7.000000      0.000000   \n",
              "25%                 0.700000     3.940000    774.500000   1440.000000   \n",
              "50%                 0.750000    15.260000   1039.000000   3960.000000   \n",
              "75%                 0.800000    24.260000   1252.500000   6960.000000   \n",
              "max                 0.800000    54.560000  23122.000000  25920.000000   \n",
              "\n",
              "         incentive    idle_time     idle_men  no_of_style_change  \\\n",
              "count  1197.000000  1197.000000  1197.000000         1197.000000   \n",
              "mean     38.210526     0.730159     0.369256            0.150376   \n",
              "std     160.182643    12.709757     3.268987            0.427848   \n",
              "min       0.000000     0.000000     0.000000            0.000000   \n",
              "25%       0.000000     0.000000     0.000000            0.000000   \n",
              "50%       0.000000     0.000000     0.000000            0.000000   \n",
              "75%      50.000000     0.000000     0.000000            0.000000   \n",
              "max    3600.000000   300.000000    45.000000            2.000000   \n",
              "\n",
              "       no_of_workers  actual_productivity  \n",
              "count    1197.000000          1197.000000  \n",
              "mean       34.609858             0.735091  \n",
              "std        22.197687             0.174488  \n",
              "min         2.000000             0.233705  \n",
              "25%         9.000000             0.650307  \n",
              "50%        34.000000             0.773333  \n",
              "75%        57.000000             0.850253  \n",
              "max        89.000000             1.120437  "
            ],
            "text/html": [
              "\n",
              "  <div id=\"df-a332f0aa-66eb-4be1-a2e5-b13701b084b1\">\n",
              "    <div class=\"colab-df-container\">\n",
              "      <div>\n",
              "<style scoped>\n",
              "    .dataframe tbody tr th:only-of-type {\n",
              "        vertical-align: middle;\n",
              "    }\n",
              "\n",
              "    .dataframe tbody tr th {\n",
              "        vertical-align: top;\n",
              "    }\n",
              "\n",
              "    .dataframe thead th {\n",
              "        text-align: right;\n",
              "    }\n",
              "</style>\n",
              "<table border=\"1\" class=\"dataframe\">\n",
              "  <thead>\n",
              "    <tr style=\"text-align: right;\">\n",
              "      <th></th>\n",
              "      <th>targeted_productivity</th>\n",
              "      <th>smv</th>\n",
              "      <th>wip</th>\n",
              "      <th>over_time</th>\n",
              "      <th>incentive</th>\n",
              "      <th>idle_time</th>\n",
              "      <th>idle_men</th>\n",
              "      <th>no_of_style_change</th>\n",
              "      <th>no_of_workers</th>\n",
              "      <th>actual_productivity</th>\n",
              "    </tr>\n",
              "  </thead>\n",
              "  <tbody>\n",
              "    <tr>\n",
              "      <th>count</th>\n",
              "      <td>1197.000000</td>\n",
              "      <td>1197.000000</td>\n",
              "      <td>691.000000</td>\n",
              "      <td>1197.000000</td>\n",
              "      <td>1197.000000</td>\n",
              "      <td>1197.000000</td>\n",
              "      <td>1197.000000</td>\n",
              "      <td>1197.000000</td>\n",
              "      <td>1197.000000</td>\n",
              "      <td>1197.000000</td>\n",
              "    </tr>\n",
              "    <tr>\n",
              "      <th>mean</th>\n",
              "      <td>0.729632</td>\n",
              "      <td>15.062172</td>\n",
              "      <td>1190.465991</td>\n",
              "      <td>4567.460317</td>\n",
              "      <td>38.210526</td>\n",
              "      <td>0.730159</td>\n",
              "      <td>0.369256</td>\n",
              "      <td>0.150376</td>\n",
              "      <td>34.609858</td>\n",
              "      <td>0.735091</td>\n",
              "    </tr>\n",
              "    <tr>\n",
              "      <th>std</th>\n",
              "      <td>0.097891</td>\n",
              "      <td>10.943219</td>\n",
              "      <td>1837.455001</td>\n",
              "      <td>3348.823563</td>\n",
              "      <td>160.182643</td>\n",
              "      <td>12.709757</td>\n",
              "      <td>3.268987</td>\n",
              "      <td>0.427848</td>\n",
              "      <td>22.197687</td>\n",
              "      <td>0.174488</td>\n",
              "    </tr>\n",
              "    <tr>\n",
              "      <th>min</th>\n",
              "      <td>0.070000</td>\n",
              "      <td>2.900000</td>\n",
              "      <td>7.000000</td>\n",
              "      <td>0.000000</td>\n",
              "      <td>0.000000</td>\n",
              "      <td>0.000000</td>\n",
              "      <td>0.000000</td>\n",
              "      <td>0.000000</td>\n",
              "      <td>2.000000</td>\n",
              "      <td>0.233705</td>\n",
              "    </tr>\n",
              "    <tr>\n",
              "      <th>25%</th>\n",
              "      <td>0.700000</td>\n",
              "      <td>3.940000</td>\n",
              "      <td>774.500000</td>\n",
              "      <td>1440.000000</td>\n",
              "      <td>0.000000</td>\n",
              "      <td>0.000000</td>\n",
              "      <td>0.000000</td>\n",
              "      <td>0.000000</td>\n",
              "      <td>9.000000</td>\n",
              "      <td>0.650307</td>\n",
              "    </tr>\n",
              "    <tr>\n",
              "      <th>50%</th>\n",
              "      <td>0.750000</td>\n",
              "      <td>15.260000</td>\n",
              "      <td>1039.000000</td>\n",
              "      <td>3960.000000</td>\n",
              "      <td>0.000000</td>\n",
              "      <td>0.000000</td>\n",
              "      <td>0.000000</td>\n",
              "      <td>0.000000</td>\n",
              "      <td>34.000000</td>\n",
              "      <td>0.773333</td>\n",
              "    </tr>\n",
              "    <tr>\n",
              "      <th>75%</th>\n",
              "      <td>0.800000</td>\n",
              "      <td>24.260000</td>\n",
              "      <td>1252.500000</td>\n",
              "      <td>6960.000000</td>\n",
              "      <td>50.000000</td>\n",
              "      <td>0.000000</td>\n",
              "      <td>0.000000</td>\n",
              "      <td>0.000000</td>\n",
              "      <td>57.000000</td>\n",
              "      <td>0.850253</td>\n",
              "    </tr>\n",
              "    <tr>\n",
              "      <th>max</th>\n",
              "      <td>0.800000</td>\n",
              "      <td>54.560000</td>\n",
              "      <td>23122.000000</td>\n",
              "      <td>25920.000000</td>\n",
              "      <td>3600.000000</td>\n",
              "      <td>300.000000</td>\n",
              "      <td>45.000000</td>\n",
              "      <td>2.000000</td>\n",
              "      <td>89.000000</td>\n",
              "      <td>1.120437</td>\n",
              "    </tr>\n",
              "  </tbody>\n",
              "</table>\n",
              "</div>\n",
              "      <button class=\"colab-df-convert\" onclick=\"convertToInteractive('df-a332f0aa-66eb-4be1-a2e5-b13701b084b1')\"\n",
              "              title=\"Convert this dataframe to an interactive table.\"\n",
              "              style=\"display:none;\">\n",
              "        \n",
              "  <svg xmlns=\"http://www.w3.org/2000/svg\" height=\"24px\"viewBox=\"0 0 24 24\"\n",
              "       width=\"24px\">\n",
              "    <path d=\"M0 0h24v24H0V0z\" fill=\"none\"/>\n",
              "    <path d=\"M18.56 5.44l.94 2.06.94-2.06 2.06-.94-2.06-.94-.94-2.06-.94 2.06-2.06.94zm-11 1L8.5 8.5l.94-2.06 2.06-.94-2.06-.94L8.5 2.5l-.94 2.06-2.06.94zm10 10l.94 2.06.94-2.06 2.06-.94-2.06-.94-.94-2.06-.94 2.06-2.06.94z\"/><path d=\"M17.41 7.96l-1.37-1.37c-.4-.4-.92-.59-1.43-.59-.52 0-1.04.2-1.43.59L10.3 9.45l-7.72 7.72c-.78.78-.78 2.05 0 2.83L4 21.41c.39.39.9.59 1.41.59.51 0 1.02-.2 1.41-.59l7.78-7.78 2.81-2.81c.8-.78.8-2.07 0-2.86zM5.41 20L4 18.59l7.72-7.72 1.47 1.35L5.41 20z\"/>\n",
              "  </svg>\n",
              "      </button>\n",
              "      \n",
              "  <style>\n",
              "    .colab-df-container {\n",
              "      display:flex;\n",
              "      flex-wrap:wrap;\n",
              "      gap: 12px;\n",
              "    }\n",
              "\n",
              "    .colab-df-convert {\n",
              "      background-color: #E8F0FE;\n",
              "      border: none;\n",
              "      border-radius: 50%;\n",
              "      cursor: pointer;\n",
              "      display: none;\n",
              "      fill: #1967D2;\n",
              "      height: 32px;\n",
              "      padding: 0 0 0 0;\n",
              "      width: 32px;\n",
              "    }\n",
              "\n",
              "    .colab-df-convert:hover {\n",
              "      background-color: #E2EBFA;\n",
              "      box-shadow: 0px 1px 2px rgba(60, 64, 67, 0.3), 0px 1px 3px 1px rgba(60, 64, 67, 0.15);\n",
              "      fill: #174EA6;\n",
              "    }\n",
              "\n",
              "    [theme=dark] .colab-df-convert {\n",
              "      background-color: #3B4455;\n",
              "      fill: #D2E3FC;\n",
              "    }\n",
              "\n",
              "    [theme=dark] .colab-df-convert:hover {\n",
              "      background-color: #434B5C;\n",
              "      box-shadow: 0px 1px 3px 1px rgba(0, 0, 0, 0.15);\n",
              "      filter: drop-shadow(0px 1px 2px rgba(0, 0, 0, 0.3));\n",
              "      fill: #FFFFFF;\n",
              "    }\n",
              "  </style>\n",
              "\n",
              "      <script>\n",
              "        const buttonEl =\n",
              "          document.querySelector('#df-a332f0aa-66eb-4be1-a2e5-b13701b084b1 button.colab-df-convert');\n",
              "        buttonEl.style.display =\n",
              "          google.colab.kernel.accessAllowed ? 'block' : 'none';\n",
              "\n",
              "        async function convertToInteractive(key) {\n",
              "          const element = document.querySelector('#df-a332f0aa-66eb-4be1-a2e5-b13701b084b1');\n",
              "          const dataTable =\n",
              "            await google.colab.kernel.invokeFunction('convertToInteractive',\n",
              "                                                     [key], {});\n",
              "          if (!dataTable) return;\n",
              "\n",
              "          const docLinkHtml = 'Like what you see? Visit the ' +\n",
              "            '<a target=\"_blank\" href=https://colab.research.google.com/notebooks/data_table.ipynb>data table notebook</a>'\n",
              "            + ' to learn more about interactive tables.';\n",
              "          element.innerHTML = '';\n",
              "          dataTable['output_type'] = 'display_data';\n",
              "          await google.colab.output.renderOutput(dataTable, element);\n",
              "          const docLink = document.createElement('div');\n",
              "          docLink.innerHTML = docLinkHtml;\n",
              "          element.appendChild(docLink);\n",
              "        }\n",
              "      </script>\n",
              "    </div>\n",
              "  </div>\n",
              "  "
            ]
          },
          "metadata": {},
          "execution_count": 14
        }
      ],
      "source": [
        "# Let's check the statistics for the numerical columns\n",
        "garm_prod.describe()"
      ]
    },
    {
      "cell_type": "markdown",
      "metadata": {
        "id": "eQERpCz0n2XB"
      },
      "source": [
        "- It looks like the 'actual_productivity' column has a maximum value of approximately 1.120. Based on the attribute information given on the dataset reference page (https://archive.ics.uci.edu/ml/datasets/Productivity+Prediction+of+Garment+Employees#), 'actual_productivity' should range between 0 and 1. \n",
        "\n",
        "Let's check how many rows contain a value greater than 1 in the 'actual_productivity' column."
      ]
    },
    {
      "cell_type": "code",
      "execution_count": 15,
      "metadata": {
        "colab": {
          "base_uri": "https://localhost:8080/"
        },
        "id": "flm9rc3VtX_f",
        "outputId": "5eff6698-3883-42d5-d08a-8495c7f6806d"
      },
      "outputs": [
        {
          "output_type": "execute_result",
          "data": {
            "text/plain": [
              "37"
            ]
          },
          "metadata": {},
          "execution_count": 15
        }
      ],
      "source": [
        "# Let's see how many rows contain actual_productivity > 1\n",
        "prod_filter = garm_prod['actual_productivity']>1\n",
        "prod_filter.sum()"
      ]
    },
    {
      "cell_type": "code",
      "execution_count": 16,
      "metadata": {
        "id": "07TKU8AkrMiE"
      },
      "outputs": [],
      "source": [
        "# Let's create a filter for actual_productivity < or = 1 \n",
        "# This should delete rows with actual_productivity > 1\n",
        "prod1_filter = garm_prod['actual_productivity'] <= 1\n",
        "garm_prod = garm_prod.loc[prod1_filter, :]"
      ]
    },
    {
      "cell_type": "code",
      "execution_count": 17,
      "metadata": {
        "colab": {
          "base_uri": "https://localhost:8080/"
        },
        "id": "tdjBdFK7vq77",
        "outputId": "6fe672c8-ccb6-4e7f-fc52-6431cd116dba"
      },
      "outputs": [
        {
          "output_type": "stream",
          "name": "stdout",
          "text": [
            "<class 'pandas.core.frame.DataFrame'>\n",
            "Int64Index: 1160 entries, 0 to 1196\n",
            "Data columns (total 16 columns):\n",
            " #   Column                 Non-Null Count  Dtype  \n",
            "---  ------                 --------------  -----  \n",
            " 0   quarter                1160 non-null   object \n",
            " 1   department             1160 non-null   object \n",
            " 2   day                    1160 non-null   object \n",
            " 3   team                   1160 non-null   object \n",
            " 4   targeted_productivity  1160 non-null   float64\n",
            " 5   smv                    1160 non-null   float64\n",
            " 6   wip                    666 non-null    float64\n",
            " 7   over_time              1160 non-null   int64  \n",
            " 8   incentive              1160 non-null   int64  \n",
            " 9   idle_time              1160 non-null   float64\n",
            " 10  idle_men               1160 non-null   int64  \n",
            " 11  no_of_style_change     1160 non-null   int64  \n",
            " 12  no_of_workers          1160 non-null   float64\n",
            " 13  actual_productivity    1160 non-null   float64\n",
            " 14  month                  1160 non-null   object \n",
            " 15  daynum                 1160 non-null   object \n",
            "dtypes: float64(6), int64(4), object(6)\n",
            "memory usage: 154.1+ KB\n"
          ]
        }
      ],
      "source": [
        "# Let's confirm that rows with actual_productivity > 1 have been dropped\n",
        "garm_prod.info()"
      ]
    },
    {
      "cell_type": "markdown",
      "metadata": {
        "id": "Du0NkdO5v7Sv"
      },
      "source": [
        "- We now have 1160 rows instead of 1197 previously. This confirms that 37 rows have been dropped."
      ]
    },
    {
      "cell_type": "markdown",
      "metadata": {
        "id": "idO6uBGBvYlk"
      },
      "source": [
        "## 4) Identify each feature as numerical, ordinal, or nominal.\n",
        "\n",
        "**Numerical features:** 'targeted_productivity', 'smv', 'wip', 'over_time', 'incentive', 'idle_time', 'idle_men', 'no_of_style_change', 'no_of_workers'\n",
        "\n",
        "**Nominal features:** 'quarter', 'department', 'day', 'team'\n",
        "\n",
        "**Ordinal features:** There are no ordinal features"
      ]
    },
    {
      "cell_type": "markdown",
      "metadata": {
        "id": "9gbohJIw-b_3"
      },
      "source": [
        "## 5) Find and Fix inconsistent categories of data in the nominal feature columns"
      ]
    },
    {
      "cell_type": "code",
      "execution_count": 18,
      "metadata": {
        "colab": {
          "base_uri": "https://localhost:8080/"
        },
        "id": "AoRTcCYfDCFA",
        "outputId": "2c76efe2-58ee-4328-bc66-114312e68ab1"
      },
      "outputs": [
        {
          "output_type": "execute_result",
          "data": {
            "text/plain": [
              "Index(['quarter', 'department', 'day', 'team', 'month', 'daynum'], dtype='object')"
            ]
          },
          "metadata": {},
          "execution_count": 18
        }
      ],
      "source": [
        "# Let's assign a variable to columns that are just 'object' datatypes\n",
        "obj_col = gpdata_types[gpdata_types=='object'].index\n",
        "obj_col"
      ]
    },
    {
      "cell_type": "code",
      "execution_count": 19,
      "metadata": {
        "colab": {
          "base_uri": "https://localhost:8080/"
        },
        "id": "zXoh7Ra6F_ji",
        "outputId": "7eb3695e-eeb8-4662-d7e6-9a477a754ba6"
      },
      "outputs": [
        {
          "output_type": "stream",
          "name": "stdout",
          "text": [
            "- quarter:\n",
            "Quarter1    348\n",
            "Quarter2    324\n",
            "Quarter4    243\n",
            "Quarter3    204\n",
            "Quarter5     41\n",
            "Name: quarter, dtype: int64\n",
            "\n",
            "- department:\n",
            "sweing        666\n",
            "finishing     253\n",
            "finishing     241\n",
            "Name: department, dtype: int64\n",
            "\n",
            "- day:\n",
            "Wednesday    200\n",
            "Sunday       196\n",
            "Monday       195\n",
            "Tuesday      194\n",
            "Thursday     193\n",
            "Saturday     182\n",
            "Name: day, dtype: int64\n",
            "\n",
            "- team:\n",
            "8     108\n",
            "9     104\n",
            "4     103\n",
            "10    100\n",
            "12     97\n",
            "7      96\n",
            "1      94\n",
            "6      94\n",
            "2      94\n",
            "5      92\n",
            "3      90\n",
            "11     88\n",
            "Name: team, dtype: int64\n",
            "\n",
            "- month:\n",
            "1    533\n",
            "2    415\n",
            "3    212\n",
            "Name: month, dtype: int64\n",
            "\n",
            "- daynum:\n",
            "10    63\n",
            "8     62\n",
            "11    62\n",
            "3     60\n",
            "4     59\n",
            "7     58\n",
            "5     57\n",
            "1     55\n",
            "22    42\n",
            "25    42\n",
            "24    42\n",
            "28    40\n",
            "17    40\n",
            "18    40\n",
            "9     39\n",
            "26    39\n",
            "19    39\n",
            "12    39\n",
            "2     38\n",
            "14    37\n",
            "15    35\n",
            "13    22\n",
            "31    22\n",
            "6     21\n",
            "21    19\n",
            "27    19\n",
            "29    19\n",
            "23    19\n",
            "16    17\n",
            "20    14\n",
            "Name: daynum, dtype: int64\n",
            "\n"
          ]
        }
      ],
      "source": [
        "# Let's loop through 'object' columns and see the unique values and counts in all 'object' columns\n",
        "for x in obj_col:\n",
        "    print(f'- {x}:')\n",
        "    print(garm_prod[x].value_counts(dropna=False))\n",
        "    print()"
      ]
    },
    {
      "cell_type": "markdown",
      "metadata": {
        "id": "Q5lwI6Dl_S53"
      },
      "source": [
        "- We can see from the above that\n",
        "\n",
        "a) There are no inconsistent categories of data in the 'quarter' column.\n",
        "\n",
        "b) There are no inconsistent categories of data in the 'day' column.\n",
        "\n",
        "c) There are no inconsistent categories of data in the 'month' column.\n",
        "\n",
        "d) There are no inconsistent categories of data in the 'daynum' column.\n",
        "\n",
        "e) In the 'department' column, it seems like there are two unique ways the word 'finishing' appears. However, it is not exactly obvious why this is so. Both words seem to be spelt correctly and the same way. \n",
        "\n",
        "Let's see the unique values a different way."
      ]
    },
    {
      "cell_type": "code",
      "execution_count": 20,
      "metadata": {
        "colab": {
          "base_uri": "https://localhost:8080/"
        },
        "id": "h9xZWyon-vZB",
        "outputId": "025e6ddf-fd5f-430b-9f27-96e844edae19"
      },
      "outputs": [
        {
          "output_type": "execute_result",
          "data": {
            "text/plain": [
              "array(['sweing', 'finishing ', 'finishing'], dtype=object)"
            ]
          },
          "metadata": {},
          "execution_count": 20
        }
      ],
      "source": [
        "# Let's see the unique values in the 'department' column\n",
        "garm_prod['department'].unique()"
      ]
    },
    {
      "cell_type": "markdown",
      "metadata": {
        "id": "5H7pgJfNNybV"
      },
      "source": [
        "- It is obvious from the above that in one case, 'finishing' is written with a white space after the word. So, the word appears in two ways: 'finishing ' and 'finishing'.\n"
      ]
    },
    {
      "cell_type": "code",
      "execution_count": 21,
      "metadata": {
        "colab": {
          "base_uri": "https://localhost:8080/",
          "height": 301
        },
        "id": "Fq69WFXgWkkF",
        "outputId": "697d244a-b4be-431d-982c-32c07f05fc5d"
      },
      "outputs": [
        {
          "output_type": "display_data",
          "data": {
            "text/plain": [
              "<Figure size 432x288 with 1 Axes>"
            ],
            "image/png": "[encoded data removed]"
          },
          "metadata": {
            "needs_background": "light"
          }
        }
      ],
      "source": [
        "# Let's see the unique values in the 'department' column in a bar chart\n",
        "garm_prod['department'].value_counts().plot(kind = 'bar');"
      ]
    },
    {
      "cell_type": "code",
      "execution_count": 22,
      "metadata": {
        "colab": {
          "base_uri": "https://localhost:8080/"
        },
        "id": "EGIQSN2TPxHR",
        "outputId": "fe7e037f-4a7a-4efb-f469-3743c1a352c8"
      },
      "outputs": [
        {
          "output_type": "execute_result",
          "data": {
            "text/plain": [
              "array(['finishing', 'sweing'], dtype=object)"
            ]
          },
          "metadata": {},
          "execution_count": 22
        }
      ],
      "source": [
        "# We can make 'finishing ' appear as 'finishing'\n",
        "garm_prod['department'] = garm_prod['department'].replace('finishing ','finishing')\n",
        "dept_replace = garm_prod['department'].unique()\n",
        "dept_replace.sort()\n",
        "dept_replace"
      ]
    },
    {
      "cell_type": "markdown",
      "metadata": {
        "id": "GAfGTruaQcc1"
      },
      "source": [
        "- All inconsistent 'finishing' have been corrected"
      ]
    },
    {
      "cell_type": "code",
      "execution_count": 23,
      "metadata": {
        "colab": {
          "base_uri": "https://localhost:8080/"
        },
        "id": "35qt-RNhQ3Qt",
        "outputId": "5485d307-a0af-4fb9-b8f1-709108fcad99"
      },
      "outputs": [
        {
          "output_type": "execute_result",
          "data": {
            "text/plain": [
              "sweing       666\n",
              "finishing    494\n",
              "Name: department, dtype: int64"
            ]
          },
          "metadata": {},
          "execution_count": 23
        }
      ],
      "source": [
        "# Let's run value_counts also to confirm\n",
        "garm_prod['department'].value_counts()"
      ]
    },
    {
      "cell_type": "markdown",
      "metadata": {
        "id": "wzwmCYS_RDIs"
      },
      "source": [
        "- We now have a total count of 494 (253 + 241) for the word 'finishing'"
      ]
    },
    {
      "cell_type": "code",
      "execution_count": 24,
      "metadata": {
        "colab": {
          "base_uri": "https://localhost:8080/"
        },
        "id": "tAotS_LbcizQ",
        "outputId": "a1827a85-03a9-4a14-e922-a06dcb3873f8"
      },
      "outputs": [
        {
          "output_type": "execute_result",
          "data": {
            "text/plain": [
              "array(['finishing', 'sewing'], dtype=object)"
            ]
          },
          "metadata": {},
          "execution_count": 24
        }
      ],
      "source": [
        "# We can make 'sweing' appear as 'sewing'\n",
        "garm_prod['department'] = garm_prod['department'].replace('sweing','sewing')\n",
        "dept_replace = garm_prod['department'].unique()\n",
        "dept_replace.sort()\n",
        "dept_replace"
      ]
    },
    {
      "cell_type": "markdown",
      "metadata": {
        "id": "OFoHwo_0ahV4"
      },
      "source": [
        "## 6) Identify Outliers"
      ]
    },
    {
      "cell_type": "code",
      "execution_count": 25,
      "metadata": {
        "colab": {
          "base_uri": "https://localhost:8080/",
          "height": 300
        },
        "id": "eBsHIyToBYYr",
        "outputId": "4ec6a3ad-de83-4ff2-d1e8-edec8779b73f"
      },
      "outputs": [
        {
          "output_type": "execute_result",
          "data": {
            "text/plain": [
              "       targeted_productivity         smv           wip     over_time  \\\n",
              "count            1160.000000  1160.00000    666.000000   1160.000000   \n",
              "mean                0.727905    15.01481   1159.974474   4575.301724   \n",
              "std                 0.098735    11.00475   1769.132478   3363.475857   \n",
              "min                 0.070000     2.90000      7.000000      0.000000   \n",
              "25%                 0.700000     3.94000    762.000000   1440.000000   \n",
              "50%                 0.750000    15.26000   1028.500000   3960.000000   \n",
              "75%                 0.800000    24.26000   1226.750000   6960.000000   \n",
              "max                 0.800000    54.56000  23122.000000  25920.000000   \n",
              "\n",
              "         incentive    idle_time     idle_men  no_of_style_change  \\\n",
              "count  1160.000000  1160.000000  1160.000000         1160.000000   \n",
              "mean     37.012931     0.753448     0.381034            0.155172   \n",
              "std     162.300882    12.910356     3.320081            0.433766   \n",
              "min       0.000000     0.000000     0.000000            0.000000   \n",
              "25%       0.000000     0.000000     0.000000            0.000000   \n",
              "50%       0.000000     0.000000     0.000000            0.000000   \n",
              "75%      50.000000     0.000000     0.000000            0.000000   \n",
              "max    3600.000000   300.000000    45.000000            2.000000   \n",
              "\n",
              "       no_of_workers  actual_productivity  \n",
              "count    1160.000000          1160.000000  \n",
              "mean       34.346552             0.725991  \n",
              "std        22.181174             0.169404  \n",
              "min         2.000000             0.233705  \n",
              "25%         9.000000             0.650061  \n",
              "50%        34.000000             0.754425  \n",
              "75%        57.000000             0.845167  \n",
              "max        89.000000             0.999995  "
            ],
            "text/html": [
              "\n",
              "  <div id=\"df-fa537f39-c0c1-446e-a472-312448cb2d29\">\n",
              "    <div class=\"colab-df-container\">\n",
              "      <div>\n",
              "<style scoped>\n",
              "    .dataframe tbody tr th:only-of-type {\n",
              "        vertical-align: middle;\n",
              "    }\n",
              "\n",
              "    .dataframe tbody tr th {\n",
              "        vertical-align: top;\n",
              "    }\n",
              "\n",
              "    .dataframe thead th {\n",
              "        text-align: right;\n",
              "    }\n",
              "</style>\n",
              "<table border=\"1\" class=\"dataframe\">\n",
              "  <thead>\n",
              "    <tr style=\"text-align: right;\">\n",
              "      <th></th>\n",
              "      <th>targeted_productivity</th>\n",
              "      <th>smv</th>\n",
              "      <th>wip</th>\n",
              "      <th>over_time</th>\n",
              "      <th>incentive</th>\n",
              "      <th>idle_time</th>\n",
              "      <th>idle_men</th>\n",
              "      <th>no_of_style_change</th>\n",
              "      <th>no_of_workers</th>\n",
              "      <th>actual_productivity</th>\n",
              "    </tr>\n",
              "  </thead>\n",
              "  <tbody>\n",
              "    <tr>\n",
              "      <th>count</th>\n",
              "      <td>1160.000000</td>\n",
              "      <td>1160.00000</td>\n",
              "      <td>666.000000</td>\n",
              "      <td>1160.000000</td>\n",
              "      <td>1160.000000</td>\n",
              "      <td>1160.000000</td>\n",
              "      <td>1160.000000</td>\n",
              "      <td>1160.000000</td>\n",
              "      <td>1160.000000</td>\n",
              "      <td>1160.000000</td>\n",
              "    </tr>\n",
              "    <tr>\n",
              "      <th>mean</th>\n",
              "      <td>0.727905</td>\n",
              "      <td>15.01481</td>\n",
              "      <td>1159.974474</td>\n",
              "      <td>4575.301724</td>\n",
              "      <td>37.012931</td>\n",
              "      <td>0.753448</td>\n",
              "      <td>0.381034</td>\n",
              "      <td>0.155172</td>\n",
              "      <td>34.346552</td>\n",
              "      <td>0.725991</td>\n",
              "    </tr>\n",
              "    <tr>\n",
              "      <th>std</th>\n",
              "      <td>0.098735</td>\n",
              "      <td>11.00475</td>\n",
              "      <td>1769.132478</td>\n",
              "      <td>3363.475857</td>\n",
              "      <td>162.300882</td>\n",
              "      <td>12.910356</td>\n",
              "      <td>3.320081</td>\n",
              "      <td>0.433766</td>\n",
              "      <td>22.181174</td>\n",
              "      <td>0.169404</td>\n",
              "    </tr>\n",
              "    <tr>\n",
              "      <th>min</th>\n",
              "      <td>0.070000</td>\n",
              "      <td>2.90000</td>\n",
              "      <td>7.000000</td>\n",
              "      <td>0.000000</td>\n",
              "      <td>0.000000</td>\n",
              "      <td>0.000000</td>\n",
              "      <td>0.000000</td>\n",
              "      <td>0.000000</td>\n",
              "      <td>2.000000</td>\n",
              "      <td>0.233705</td>\n",
              "    </tr>\n",
              "    <tr>\n",
              "      <th>25%</th>\n",
              "      <td>0.700000</td>\n",
              "      <td>3.94000</td>\n",
              "      <td>762.000000</td>\n",
              "      <td>1440.000000</td>\n",
              "      <td>0.000000</td>\n",
              "      <td>0.000000</td>\n",
              "      <td>0.000000</td>\n",
              "      <td>0.000000</td>\n",
              "      <td>9.000000</td>\n",
              "      <td>0.650061</td>\n",
              "    </tr>\n",
              "    <tr>\n",
              "      <th>50%</th>\n",
              "      <td>0.750000</td>\n",
              "      <td>15.26000</td>\n",
              "      <td>1028.500000</td>\n",
              "      <td>3960.000000</td>\n",
              "      <td>0.000000</td>\n",
              "      <td>0.000000</td>\n",
              "      <td>0.000000</td>\n",
              "      <td>0.000000</td>\n",
              "      <td>34.000000</td>\n",
              "      <td>0.754425</td>\n",
              "    </tr>\n",
              "    <tr>\n",
              "      <th>75%</th>\n",
              "      <td>0.800000</td>\n",
              "      <td>24.26000</td>\n",
              "      <td>1226.750000</td>\n",
              "      <td>6960.000000</td>\n",
              "      <td>50.000000</td>\n",
              "      <td>0.000000</td>\n",
              "      <td>0.000000</td>\n",
              "      <td>0.000000</td>\n",
              "      <td>57.000000</td>\n",
              "      <td>0.845167</td>\n",
              "    </tr>\n",
              "    <tr>\n",
              "      <th>max</th>\n",
              "      <td>0.800000</td>\n",
              "      <td>54.56000</td>\n",
              "      <td>23122.000000</td>\n",
              "      <td>25920.000000</td>\n",
              "      <td>3600.000000</td>\n",
              "      <td>300.000000</td>\n",
              "      <td>45.000000</td>\n",
              "      <td>2.000000</td>\n",
              "      <td>89.000000</td>\n",
              "      <td>0.999995</td>\n",
              "    </tr>\n",
              "  </tbody>\n",
              "</table>\n",
              "</div>\n",
              "      <button class=\"colab-df-convert\" onclick=\"convertToInteractive('df-fa537f39-c0c1-446e-a472-312448cb2d29')\"\n",
              "              title=\"Convert this dataframe to an interactive table.\"\n",
              "              style=\"display:none;\">\n",
              "        \n",
              "  <svg xmlns=\"http://www.w3.org/2000/svg\" height=\"24px\"viewBox=\"0 0 24 24\"\n",
              "       width=\"24px\">\n",
              "    <path d=\"M0 0h24v24H0V0z\" fill=\"none\"/>\n",
              "    <path d=\"M18.56 5.44l.94 2.06.94-2.06 2.06-.94-2.06-.94-.94-2.06-.94 2.06-2.06.94zm-11 1L8.5 8.5l.94-2.06 2.06-.94-2.06-.94L8.5 2.5l-.94 2.06-2.06.94zm10 10l.94 2.06.94-2.06 2.06-.94-2.06-.94-.94-2.06-.94 2.06-2.06.94z\"/><path d=\"M17.41 7.96l-1.37-1.37c-.4-.4-.92-.59-1.43-.59-.52 0-1.04.2-1.43.59L10.3 9.45l-7.72 7.72c-.78.78-.78 2.05 0 2.83L4 21.41c.39.39.9.59 1.41.59.51 0 1.02-.2 1.41-.59l7.78-7.78 2.81-2.81c.8-.78.8-2.07 0-2.86zM5.41 20L4 18.59l7.72-7.72 1.47 1.35L5.41 20z\"/>\n",
              "  </svg>\n",
              "      </button>\n",
              "      \n",
              "  <style>\n",
              "    .colab-df-container {\n",
              "      display:flex;\n",
              "      flex-wrap:wrap;\n",
              "      gap: 12px;\n",
              "    }\n",
              "\n",
              "    .colab-df-convert {\n",
              "      background-color: #E8F0FE;\n",
              "      border: none;\n",
              "      border-radius: 50%;\n",
              "      cursor: pointer;\n",
              "      display: none;\n",
              "      fill: #1967D2;\n",
              "      height: 32px;\n",
              "      padding: 0 0 0 0;\n",
              "      width: 32px;\n",
              "    }\n",
              "\n",
              "    .colab-df-convert:hover {\n",
              "      background-color: #E2EBFA;\n",
              "      box-shadow: 0px 1px 2px rgba(60, 64, 67, 0.3), 0px 1px 3px 1px rgba(60, 64, 67, 0.15);\n",
              "      fill: #174EA6;\n",
              "    }\n",
              "\n",
              "    [theme=dark] .colab-df-convert {\n",
              "      background-color: #3B4455;\n",
              "      fill: #D2E3FC;\n",
              "    }\n",
              "\n",
              "    [theme=dark] .colab-df-convert:hover {\n",
              "      background-color: #434B5C;\n",
              "      box-shadow: 0px 1px 3px 1px rgba(0, 0, 0, 0.15);\n",
              "      filter: drop-shadow(0px 1px 2px rgba(0, 0, 0, 0.3));\n",
              "      fill: #FFFFFF;\n",
              "    }\n",
              "  </style>\n",
              "\n",
              "      <script>\n",
              "        const buttonEl =\n",
              "          document.querySelector('#df-fa537f39-c0c1-446e-a472-312448cb2d29 button.colab-df-convert');\n",
              "        buttonEl.style.display =\n",
              "          google.colab.kernel.accessAllowed ? 'block' : 'none';\n",
              "\n",
              "        async function convertToInteractive(key) {\n",
              "          const element = document.querySelector('#df-fa537f39-c0c1-446e-a472-312448cb2d29');\n",
              "          const dataTable =\n",
              "            await google.colab.kernel.invokeFunction('convertToInteractive',\n",
              "                                                     [key], {});\n",
              "          if (!dataTable) return;\n",
              "\n",
              "          const docLinkHtml = 'Like what you see? Visit the ' +\n",
              "            '<a target=\"_blank\" href=https://colab.research.google.com/notebooks/data_table.ipynb>data table notebook</a>'\n",
              "            + ' to learn more about interactive tables.';\n",
              "          element.innerHTML = '';\n",
              "          dataTable['output_type'] = 'display_data';\n",
              "          await google.colab.output.renderOutput(dataTable, element);\n",
              "          const docLink = document.createElement('div');\n",
              "          docLink.innerHTML = docLinkHtml;\n",
              "          element.appendChild(docLink);\n",
              "        }\n",
              "      </script>\n",
              "    </div>\n",
              "  </div>\n",
              "  "
            ]
          },
          "metadata": {},
          "execution_count": 25
        }
      ],
      "source": [
        "# Let's check the statistics for the numerical columns\n",
        "garm_prod.describe()"
      ]
    },
    {
      "cell_type": "markdown",
      "metadata": {
        "id": "-5v45ItmbB0F"
      },
      "source": [
        "- To determine the outliers in our data, I would have to use a data visualization technique. I have decided to use boxplots. First, I will look at the above summary statistics (found using '.describe'), and then look at the median of each column to see if it is halfway in the middle of all the values. If the median is around halfway of all the values, then there is a chance that column does not have an outlier. Secondly, if the maximum is far away from the 75% (75th percentile) value, there is a chance that column has an outlier. Finally, if the minimum is far away from the 25% (25th percentile) value, there is a chance that column has an outlier. I have selected columns after considering the above 3 criteria stated and decided to create boxplots for each of those columns below."
      ]
    },
    {
      "cell_type": "code",
      "execution_count": 26,
      "metadata": {
        "colab": {
          "base_uri": "https://localhost:8080/",
          "height": 389
        },
        "id": "6ByGSJXOa6q0",
        "outputId": "4c479fb1-f4d1-4830-a3e8-b32776eaaa94"
      },
      "outputs": [
        {
          "output_type": "display_data",
          "data": {
            "text/plain": [
              "<Figure size 576x432 with 1 Axes>"
            ],
            "image/png": "[encoded data removed]"
          },
          "metadata": {
            "needs_background": "light"
          }
        }
      ],
      "source": [
        "# Boxplot for 'targeted_productivity' column\n",
        "plt.figure(figsize=(8,6))\n",
        "sns.boxplot(data=garm_prod, x='targeted_productivity');"
      ]
    },
    {
      "cell_type": "code",
      "execution_count": 27,
      "metadata": {
        "colab": {
          "base_uri": "https://localhost:8080/",
          "height": 388
        },
        "id": "-DdsAiTUj1h9",
        "outputId": "9669f33c-ec99-49ea-b66b-c922eded00b5"
      },
      "outputs": [
        {
          "output_type": "display_data",
          "data": {
            "text/plain": [
              "<Figure size 576x432 with 1 Axes>"
            ],
            "image/png": "[encoded data removed]"
          },
          "metadata": {
            "needs_background": "light"
          }
        }
      ],
      "source": [
        "# Boxplot for 'wip' column\n",
        "plt.figure(figsize=(8,6))\n",
        "sns.boxplot(data=garm_prod, x='wip');"
      ]
    },
    {
      "cell_type": "code",
      "execution_count": 28,
      "metadata": {
        "colab": {
          "base_uri": "https://localhost:8080/",
          "height": 389
        },
        "id": "ulB4ePsuka6I",
        "outputId": "94565c5c-21e2-4cdb-b9ea-b61585222b9a"
      },
      "outputs": [
        {
          "output_type": "display_data",
          "data": {
            "text/plain": [
              "<Figure size 576x432 with 1 Axes>"
            ],
            "image/png": "[encoded data removed]"
          },
          "metadata": {
            "needs_background": "light"
          }
        }
      ],
      "source": [
        "# Boxplot for 'over_time' column\n",
        "plt.figure(figsize=(8,6))\n",
        "sns.boxplot(data=garm_prod, x='over_time');"
      ]
    },
    {
      "cell_type": "code",
      "execution_count": 29,
      "metadata": {
        "colab": {
          "base_uri": "https://localhost:8080/",
          "height": 388
        },
        "id": "RABC7zTekj80",
        "outputId": "5fcc0236-3f9e-45f2-b3d4-d505e9617248"
      },
      "outputs": [
        {
          "output_type": "display_data",
          "data": {
            "text/plain": [
              "<Figure size 576x432 with 1 Axes>"
            ],
            "image/png": "[encoded data removed]"
          },
          "metadata": {
            "needs_background": "light"
          }
        }
      ],
      "source": [
        "# Boxplot for 'incentive' column\n",
        "plt.figure(figsize=(8,6))\n",
        "sns.boxplot(data=garm_prod, x='incentive');"
      ]
    },
    {
      "cell_type": "code",
      "execution_count": 30,
      "metadata": {
        "colab": {
          "base_uri": "https://localhost:8080/",
          "height": 389
        },
        "id": "NYaMXDOBkp3U",
        "outputId": "126852f8-1d84-487a-e5ed-f4a47ef7178c"
      },
      "outputs": [
        {
          "output_type": "display_data",
          "data": {
            "text/plain": [
              "<Figure size 576x432 with 1 Axes>"
            ],
            "image/png": "[encoded data removed]"
          },
          "metadata": {
            "needs_background": "light"
          }
        }
      ],
      "source": [
        "# Boxplot for 'idle_time' column\n",
        "plt.figure(figsize=(8,6))\n",
        "sns.boxplot(data=garm_prod, x='idle_time');"
      ]
    },
    {
      "cell_type": "code",
      "execution_count": 31,
      "metadata": {
        "colab": {
          "base_uri": "https://localhost:8080/",
          "height": 389
        },
        "id": "8M-PQbfek4yG",
        "outputId": "6e45c7e4-065c-41d5-a8bc-a07657616acb"
      },
      "outputs": [
        {
          "output_type": "display_data",
          "data": {
            "text/plain": [
              "<Figure size 576x432 with 1 Axes>"
            ],
            "image/png": "[encoded data removed]"
          },
          "metadata": {
            "needs_background": "light"
          }
        }
      ],
      "source": [
        "# Boxplot for 'idle_men' column\n",
        "plt.figure(figsize=(8,6))\n",
        "sns.boxplot(data=garm_prod, x='idle_men');"
      ]
    },
    {
      "cell_type": "code",
      "execution_count": 32,
      "metadata": {
        "colab": {
          "base_uri": "https://localhost:8080/",
          "height": 389
        },
        "id": "YV8kUIBrlBSb",
        "outputId": "87a1ed5b-bc26-4aa7-e63f-a3c0c6e9bb75"
      },
      "outputs": [
        {
          "output_type": "display_data",
          "data": {
            "text/plain": [
              "<Figure size 576x432 with 1 Axes>"
            ],
            "image/png": "[encoded data removed]"
          },
          "metadata": {
            "needs_background": "light"
          }
        }
      ],
      "source": [
        "# Boxplot for 'no_of_style_change' column\n",
        "plt.figure(figsize=(8,6))\n",
        "sns.boxplot(data=garm_prod, x='no_of_style_change');"
      ]
    },
    {
      "cell_type": "markdown",
      "metadata": {
        "id": "rvNb6sewu-8R"
      },
      "source": [
        "- We can see from the above boxplots that the following columns have outliers in them: 'targeted_productivity', 'wip', 'over_time', 'incentive', 'idle_time', 'idle_men', and 'no_of_style_change'\n",
        "\n",
        "- I have decided to keep the outliers in the 'garm_prod' data because I see no reason to believe they are errors in the dataset."
      ]
    },
    {
      "cell_type": "markdown",
      "metadata": {
        "id": "FGltp1J1R4K1"
      },
      "source": [
        "## 7) Create univariate and multivariate visualizations. \n",
        "\n",
        "a) Barchart of 'department' column. We will plot the count of each department\n",
        "\n",
        "b) Compare actual productivity for each department \n",
        "\n",
        "c) Compare actual productivity for each department for each day of the week.\n",
        "\n",
        "d) Histogram of 'targeted_productivity' column. The 'targeted_productivity' column represents targeted productivity set by the authority for each team for each day.\n",
        "\n",
        "e) Histogram of 'actual_productivity' column. The 'actual_productivity' column represents the actual % of productivity that was delivered by the workers. \n",
        "\n",
        "f) Compare the 'incentive' and 'actual_productivity' columns"
      ]
    },
    {
      "cell_type": "markdown",
      "metadata": {
        "id": "Sb7kxHqyoJXi"
      },
      "source": [
        "### a) Barchart of 'department' column. "
      ]
    },
    {
      "cell_type": "code",
      "execution_count": 33,
      "metadata": {
        "colab": {
          "base_uri": "https://localhost:8080/"
        },
        "id": "KhubFpZhJzQC",
        "outputId": "7b87a3be-19c0-4cf1-d7ef-440eaeafb1df"
      },
      "outputs": [
        {
          "output_type": "execute_result",
          "data": {
            "text/plain": [
              "sewing       666\n",
              "finishing    494\n",
              "Name: department, dtype: int64"
            ]
          },
          "metadata": {},
          "execution_count": 33
        }
      ],
      "source": [
        "# Count each department listed in the 'department' column\n",
        "dept_counts = garm_prod['department'].value_counts()\n",
        "dept_counts"
      ]
    },
    {
      "cell_type": "code",
      "execution_count": 34,
      "metadata": {
        "colab": {
          "base_uri": "https://localhost:8080/",
          "height": 359
        },
        "id": "rDpFsOJ6JuxX",
        "outputId": "b5265183-4bd9-4a06-d11b-e15235895f33"
      },
      "outputs": [
        {
          "output_type": "display_data",
          "data": {
            "text/plain": [
              "<Figure size 432x288 with 1 Axes>"
            ],
            "image/png": "[encoded data removed]"
          },
          "metadata": {
            "needs_background": "light"
          }
        },
        {
          "output_type": "execute_result",
          "data": {
            "text/plain": [
              "sewing       666\n",
              "finishing    494\n",
              "Name: department, dtype: int64"
            ]
          },
          "metadata": {},
          "execution_count": 34
        }
      ],
      "source": [
        "# Plot the counts of each department\n",
        "\n",
        "dept_counts.plot(kind = 'bar', color = ['brown','green'])\n",
        "plt.title('Count of Each Department', fontsize = 15)\n",
        "plt.ylabel('Count', fontsize = 15)\n",
        "plt.xlabel('Departments', fontsize = 15)\n",
        "plt.xticks(rotation = 0, fontsize = 12)\n",
        "\n",
        "# Show your figure\n",
        "plt.show()\n",
        "\n",
        "# Display the counts below the plot\n",
        "dept_counts"
      ]
    },
    {
      "cell_type": "markdown",
      "metadata": {
        "id": "W09PV3GgtaR_"
      },
      "source": [
        "- We can see from the above bar chart that the department 'sweing' had a higher count. There was more data obtained from the sweing department than the finishing department."
      ]
    },
    {
      "cell_type": "markdown",
      "metadata": {
        "id": "9bu9IDIyhX3t"
      },
      "source": [
        "### b) Compare actual productivity for each department "
      ]
    },
    {
      "cell_type": "code",
      "execution_count": 35,
      "metadata": {
        "colab": {
          "base_uri": "https://localhost:8080/",
          "height": 313
        },
        "id": "VtvTU6hUtpBV",
        "outputId": "13d2bf2d-8b8a-44c8-aab1-b9e6afb985d2"
      },
      "outputs": [
        {
          "output_type": "execute_result",
          "data": {
            "text/plain": [
              "Text(0.5, 1.0, 'Actual productivity for each Department')"
            ]
          },
          "metadata": {},
          "execution_count": 35
        },
        {
          "output_type": "display_data",
          "data": {
            "text/plain": [
              "<Figure size 432x288 with 1 Axes>"
            ],
            "image/png": "[encoded data removed]"
          },
          "metadata": {
            "needs_background": "light"
          }
        }
      ],
      "source": [
        "ax = sns.barplot(data=garm_prod, x = 'department', y = 'actual_productivity', ci = 68)\n",
        "ax.set_title('Actual productivity for each Department')"
      ]
    },
    {
      "cell_type": "markdown",
      "metadata": {
        "id": "Mtd8Cs5FH67C"
      },
      "source": [
        "### c) Compare actual productivity for each department for each day of the week"
      ]
    },
    {
      "cell_type": "code",
      "execution_count": 36,
      "metadata": {
        "colab": {
          "base_uri": "https://localhost:8080/"
        },
        "id": "M85G_gETl7cQ",
        "outputId": "bd81dd37-ef56-4ff9-f4d3-c3a43ff8effd"
      },
      "outputs": [
        {
          "output_type": "execute_result",
          "data": {
            "text/plain": [
              "array(['Thursday', 'Saturday', 'Sunday', 'Monday', 'Tuesday', 'Wednesday'],\n",
              "      dtype=object)"
            ]
          },
          "metadata": {},
          "execution_count": 36
        }
      ],
      "source": [
        "garm_prod['day'].unique()"
      ]
    },
    {
      "cell_type": "code",
      "execution_count": 37,
      "metadata": {
        "colab": {
          "base_uri": "https://localhost:8080/",
          "height": 313
        },
        "id": "LCwYZzI9EW5C",
        "outputId": "22a1fa80-0812-4981-ed0f-cfb85d3493a4"
      },
      "outputs": [
        {
          "output_type": "execute_result",
          "data": {
            "text/plain": [
              "Text(0.5, 1.0, 'Actual productivity for each Department per weekday')"
            ]
          },
          "metadata": {},
          "execution_count": 37
        },
        {
          "output_type": "display_data",
          "data": {
            "text/plain": [
              "<Figure size 432x288 with 1 Axes>"
            ],
            "image/png": "[encoded data removed]"
          },
          "metadata": {
            "needs_background": "light"
          }
        }
      ],
      "source": [
        "order = ['Saturday', 'Sunday', 'Monday', 'Tuesday', 'Wednesday', 'Thursday']\n",
        "ax=sns.barplot(data=garm_prod, x = 'day', y = 'actual_productivity', hue = 'department', ci = 68, order = order)\n",
        "ax.set_title('Actual productivity for each Department per weekday')"
      ]
    },
    {
      "cell_type": "markdown",
      "metadata": {
        "id": "QjIciuPSIHII"
      },
      "source": [
        "- For both departments, it looks like actual productivity is highest on Saturdays. It also looks like actual productvity was higher for the finishing department than the sweing department each day. "
      ]
    },
    {
      "cell_type": "markdown",
      "metadata": {
        "id": "8B5i6jQ-W3XB"
      },
      "source": [
        "### d) Histogram of 'targeted_productivity' column. "
      ]
    },
    {
      "cell_type": "code",
      "execution_count": 38,
      "metadata": {
        "colab": {
          "base_uri": "https://localhost:8080/",
          "height": 405
        },
        "id": "7DLWriU64zve",
        "outputId": "30bc7323-659b-45a8-d918-78a0847607ed"
      },
      "outputs": [
        {
          "output_type": "display_data",
          "data": {
            "text/plain": [
              "<Figure size 576x432 with 1 Axes>"
            ],
            "image/png": "[encoded data removed]"
          },
          "metadata": {
            "needs_background": "light"
          }
        }
      ],
      "source": [
        "# Histogram of Targeted Productivity distribution.\n",
        "plt.figure(figsize=(8,6))\n",
        "# Parameter \"edgecolor='black'\" was adapted from: https://www.youtube.com/watch?v=XDv6T4a0RNc&list=PL-osiE80TeTvipOqomVEeZ1HRrcEvtZB_&index=6\n",
        "plt.hist(garm_prod['targeted_productivity'], bins='auto', edgecolor='black')\n",
        "plt.xlabel(\"targeted_productivity\")\n",
        "plt.ylabel(\"Count\")\n",
        "plt.title(\"Targeted Productivity Distribution for Teams\")\n",
        "# \"The following Code adapted from: https://stackoverflow.com/questions/9127434/how-to-create-major-and-minor-gridlines-with-different-linestyles-in-python”\n",
        "plt.minorticks_on();"
      ]
    },
    {
      "cell_type": "markdown",
      "metadata": {
        "id": "Nh4O-4G7WOQB"
      },
      "source": [
        "- From the above histogram, targeted productivity frequency for workers was highest around approximately 0.78 - 0.80 or 78% - 80% range. This means that the number of times work teams were given set target productivity between 78% - 80% range was highest of all target productivity ranges. Since this range is the highest of all, we can say that employers expected high productivity from workers most days."
      ]
    },
    {
      "cell_type": "markdown",
      "metadata": {
        "id": "dJq9Wc2rXW74"
      },
      "source": [
        "### e) Histogram of 'actual_productivity' column."
      ]
    },
    {
      "cell_type": "code",
      "execution_count": 39,
      "metadata": {
        "colab": {
          "base_uri": "https://localhost:8080/",
          "height": 405
        },
        "id": "EoIkLqAcXgxs",
        "outputId": "b7025085-03d0-48fd-c239-81bbd592815d"
      },
      "outputs": [
        {
          "output_type": "display_data",
          "data": {
            "text/plain": [
              "<Figure size 576x432 with 1 Axes>"
            ],
            "image/png": "[encoded data removed]"
          },
          "metadata": {
            "needs_background": "light"
          }
        }
      ],
      "source": [
        "# Histogram of Targeted Productivity distribution.\n",
        "plt.figure(figsize=(8,6))\n",
        "plt.hist(garm_prod['actual_productivity'], color = 'orange', bins='auto', edgecolor='black')\n",
        "plt.xlabel(\"actual_productivity\")\n",
        "plt.ylabel(\"Count\")\n",
        "plt.title(\"Actual Productivity Distribution for Teams\")\n",
        "plt.minorticks_on();"
      ]
    },
    {
      "cell_type": "markdown",
      "metadata": {
        "id": "j3MuEV4dlLvw"
      },
      "source": [
        "- From the above histogram, actual productivity frequency for workers was highest around approximately 0.78 - 0.82 or 78% - 82% range. This means that the number of times actual percent productivity for work teams fell between 78% - 82% range was highest of all actual productivity ranges. Since this range is close to the target productivity range (78% - 80%) with highest frequency, we can say that the target productivity was met by work teams most of the time."
      ]
    },
    {
      "cell_type": "markdown",
      "metadata": {
        "id": "_j-S5CCs6qOo"
      },
      "source": [
        "### f) Compare the 'incentive' and 'actual_productivity' columns"
      ]
    },
    {
      "cell_type": "code",
      "execution_count": 40,
      "metadata": {
        "id": "3GRxbt_i6jzd"
      },
      "outputs": [],
      "source": [
        "# Compare the 'incentive' and 'actual_productivity' columns\n",
        "# plt.scatter(garm_prod['incentive'], garm_prod['actual_productivity'])\n",
        "# plt.title('Incentive and Actual Productivity Correlation')\n",
        "# plt.xlabel('incentive')\n",
        "# plt.ylabel('actual_productivity')"
      ]
    },
    {
      "cell_type": "markdown",
      "metadata": {
        "id": "wcR7nNvh7L3K"
      },
      "source": [
        "- From the above graph, we can see that majority of the teams had incentive of 0 BDT. Also, we see that there are some outliers in the data set.\n",
        "\n",
        "Let's try removing the outliers and the 0 incentives to see if there is any correlation between incentive and actual productivity."
      ]
    },
    {
      "cell_type": "code",
      "execution_count": 41,
      "metadata": {
        "id": "fmkVSov6EXnQ"
      },
      "outputs": [],
      "source": [
        "# sns.regplot(data=garm_prod, x = 'incentive', y = 'actual_productivity')"
      ]
    },
    {
      "cell_type": "code",
      "execution_count": 42,
      "metadata": {
        "id": "04eFu9Sl961k"
      },
      "outputs": [],
      "source": [
        "# Let's create a filter for actual_productivity < or = 1 \n",
        "# This should delete rows with actual_productivity > 1\n",
        "# inc_filter = garm_prod['incentive'] > 0 \n",
        "# inc_filter\n",
        "# garm_prod = garm_prod.loc[inc_filter, :]\n",
        "# inc500_filter = garm_prod['incentive'] < 500\n",
        "# garm_prod = garm_prod.loc[inc500_filter, :]"
      ]
    },
    {
      "cell_type": "code",
      "execution_count": 43,
      "metadata": {
        "id": "9Ok-VqGs_vvf"
      },
      "outputs": [],
      "source": [
        "# Compare the 'incentive' and 'actual_productivity' columns\n",
        "# plt.scatter(garm_prod['incentive'], garm_prod['actual_productivity'])\n",
        "# plt.title('Correlation Between Incentive and Actual Productivity')\n",
        "# plt.xlabel('Incentive')\n",
        "# plt.ylabel('Actual Productivity')"
      ]
    },
    {
      "cell_type": "code",
      "execution_count": 44,
      "metadata": {
        "id": "0ABq9ZeGEFbH"
      },
      "outputs": [],
      "source": [
        "# ax = sns.regplot(data=garm_prod, x = 'incentive', y = 'actual_productivity')\n",
        "# ax.set_title('Incentive and Actual Productivity Correlation (no outliers or zeros)')"
      ]
    },
    {
      "cell_type": "markdown",
      "metadata": {
        "id": "5Z1x6PR7hzNy"
      },
      "source": [
        "## 8) Classify actual_productivity column into two classes 'Yes' and 'No' based on employee teams that met their targeted productivity\n",
        "\n",
        "- In the dataset, there is a column titled 'targeted_productivity.' This column represents the targeted productivity (a number between 0 and 1) set by the Authority for each team for each day.\n",
        "\n",
        "- We will create a new column titled 'met_goal' for employee teams that met their target productivity goal\n",
        "\n",
        "- We will also drop the 'actual_productivity' column."
      ]
    },
    {
      "cell_type": "code",
      "execution_count": 45,
      "metadata": {
        "colab": {
          "base_uri": "https://localhost:8080/"
        },
        "id": "JkPJXX7cm_jH",
        "outputId": "e6346ac9-59b6-4f76-8c0f-2fac17fba6ef"
      },
      "outputs": [
        {
          "output_type": "execute_result",
          "data": {
            "text/plain": [
              "Yes    838\n",
              "No     322\n",
              "Name: met_goal, dtype: int64"
            ]
          },
          "metadata": {},
          "execution_count": 45
        }
      ],
      "source": [
        "garm_prod['met_goal'] = garm_prod['actual_productivity'] >= garm_prod['targeted_productivity']\n",
        "garm_prod['met_goal'].replace({True: 'Yes', False: 'No'}, inplace=True)\n",
        "garm_prod['met_goal'].value_counts()"
      ]
    },
    {
      "cell_type": "code",
      "execution_count": 46,
      "metadata": {
        "colab": {
          "base_uri": "https://localhost:8080/",
          "height": 313
        },
        "id": "LyiMHlqUovUg",
        "outputId": "abd9c7a2-192e-460c-9852-2a8ef69075da"
      },
      "outputs": [
        {
          "output_type": "execute_result",
          "data": {
            "text/plain": [
              "Text(0.5, 1.0, 'Number of teams that met productivity goals per weekday')"
            ]
          },
          "metadata": {},
          "execution_count": 46
        },
        {
          "output_type": "display_data",
          "data": {
            "text/plain": [
              "<Figure size 432x288 with 1 Axes>"
            ],
            "image/png": "[encoded data removed]"
          },
          "metadata": {
            "needs_background": "light"
          }
        }
      ],
      "source": [
        "ax = sns.countplot(data=garm_prod, x = 'day', hue = 'met_goal', order = order)\n",
        "ax.set_title('Number of teams that met productivity goals per weekday')"
      ]
    },
    {
      "cell_type": "code",
      "execution_count": 47,
      "metadata": {
        "colab": {
          "base_uri": "https://localhost:8080/",
          "height": 270
        },
        "id": "Y-Vsi2I9vk6K",
        "outputId": "a8b23087-3ac9-4ccf-af94-39adecd77a6e"
      },
      "outputs": [
        {
          "output_type": "execute_result",
          "data": {
            "text/plain": [
              "    quarter department       day team  targeted_productivity    smv     wip  \\\n",
              "0  Quarter1     sewing  Thursday    8                   0.80  26.16  1108.0   \n",
              "1  Quarter1  finishing  Thursday    1                   0.75   3.94     NaN   \n",
              "2  Quarter1     sewing  Thursday   11                   0.80  11.41   968.0   \n",
              "3  Quarter1     sewing  Thursday   12                   0.80  11.41   968.0   \n",
              "4  Quarter1     sewing  Thursday    6                   0.80  25.90  1170.0   \n",
              "\n",
              "   over_time  incentive  idle_time  idle_men  no_of_style_change  \\\n",
              "0       7080         98        0.0         0                   0   \n",
              "1        960          0        0.0         0                   0   \n",
              "2       3660         50        0.0         0                   0   \n",
              "3       3660         50        0.0         0                   0   \n",
              "4       1920         50        0.0         0                   0   \n",
              "\n",
              "   no_of_workers month daynum met_goal  \n",
              "0           59.0     1      1      Yes  \n",
              "1            8.0     1      1      Yes  \n",
              "2           30.5     1      1      Yes  \n",
              "3           30.5     1      1      Yes  \n",
              "4           56.0     1      1      Yes  "
            ],
            "text/html": [
              "\n",
              "  <div id=\"df-c5f5d194-69b8-4c95-924c-30d9d302745b\">\n",
              "    <div class=\"colab-df-container\">\n",
              "      <div>\n",
              "<style scoped>\n",
              "    .dataframe tbody tr th:only-of-type {\n",
              "        vertical-align: middle;\n",
              "    }\n",
              "\n",
              "    .dataframe tbody tr th {\n",
              "        vertical-align: top;\n",
              "    }\n",
              "\n",
              "    .dataframe thead th {\n",
              "        text-align: right;\n",
              "    }\n",
              "</style>\n",
              "<table border=\"1\" class=\"dataframe\">\n",
              "  <thead>\n",
              "    <tr style=\"text-align: right;\">\n",
              "      <th></th>\n",
              "      <th>quarter</th>\n",
              "      <th>department</th>\n",
              "      <th>day</th>\n",
              "      <th>team</th>\n",
              "      <th>targeted_productivity</th>\n",
              "      <th>smv</th>\n",
              "      <th>wip</th>\n",
              "      <th>over_time</th>\n",
              "      <th>incentive</th>\n",
              "      <th>idle_time</th>\n",
              "      <th>idle_men</th>\n",
              "      <th>no_of_style_change</th>\n",
              "      <th>no_of_workers</th>\n",
              "      <th>month</th>\n",
              "      <th>daynum</th>\n",
              "      <th>met_goal</th>\n",
              "    </tr>\n",
              "  </thead>\n",
              "  <tbody>\n",
              "    <tr>\n",
              "      <th>0</th>\n",
              "      <td>Quarter1</td>\n",
              "      <td>sewing</td>\n",
              "      <td>Thursday</td>\n",
              "      <td>8</td>\n",
              "      <td>0.80</td>\n",
              "      <td>26.16</td>\n",
              "      <td>1108.0</td>\n",
              "      <td>7080</td>\n",
              "      <td>98</td>\n",
              "      <td>0.0</td>\n",
              "      <td>0</td>\n",
              "      <td>0</td>\n",
              "      <td>59.0</td>\n",
              "      <td>1</td>\n",
              "      <td>1</td>\n",
              "      <td>Yes</td>\n",
              "    </tr>\n",
              "    <tr>\n",
              "      <th>1</th>\n",
              "      <td>Quarter1</td>\n",
              "      <td>finishing</td>\n",
              "      <td>Thursday</td>\n",
              "      <td>1</td>\n",
              "      <td>0.75</td>\n",
              "      <td>3.94</td>\n",
              "      <td>NaN</td>\n",
              "      <td>960</td>\n",
              "      <td>0</td>\n",
              "      <td>0.0</td>\n",
              "      <td>0</td>\n",
              "      <td>0</td>\n",
              "      <td>8.0</td>\n",
              "      <td>1</td>\n",
              "      <td>1</td>\n",
              "      <td>Yes</td>\n",
              "    </tr>\n",
              "    <tr>\n",
              "      <th>2</th>\n",
              "      <td>Quarter1</td>\n",
              "      <td>sewing</td>\n",
              "      <td>Thursday</td>\n",
              "      <td>11</td>\n",
              "      <td>0.80</td>\n",
              "      <td>11.41</td>\n",
              "      <td>968.0</td>\n",
              "      <td>3660</td>\n",
              "      <td>50</td>\n",
              "      <td>0.0</td>\n",
              "      <td>0</td>\n",
              "      <td>0</td>\n",
              "      <td>30.5</td>\n",
              "      <td>1</td>\n",
              "      <td>1</td>\n",
              "      <td>Yes</td>\n",
              "    </tr>\n",
              "    <tr>\n",
              "      <th>3</th>\n",
              "      <td>Quarter1</td>\n",
              "      <td>sewing</td>\n",
              "      <td>Thursday</td>\n",
              "      <td>12</td>\n",
              "      <td>0.80</td>\n",
              "      <td>11.41</td>\n",
              "      <td>968.0</td>\n",
              "      <td>3660</td>\n",
              "      <td>50</td>\n",
              "      <td>0.0</td>\n",
              "      <td>0</td>\n",
              "      <td>0</td>\n",
              "      <td>30.5</td>\n",
              "      <td>1</td>\n",
              "      <td>1</td>\n",
              "      <td>Yes</td>\n",
              "    </tr>\n",
              "    <tr>\n",
              "      <th>4</th>\n",
              "      <td>Quarter1</td>\n",
              "      <td>sewing</td>\n",
              "      <td>Thursday</td>\n",
              "      <td>6</td>\n",
              "      <td>0.80</td>\n",
              "      <td>25.90</td>\n",
              "      <td>1170.0</td>\n",
              "      <td>1920</td>\n",
              "      <td>50</td>\n",
              "      <td>0.0</td>\n",
              "      <td>0</td>\n",
              "      <td>0</td>\n",
              "      <td>56.0</td>\n",
              "      <td>1</td>\n",
              "      <td>1</td>\n",
              "      <td>Yes</td>\n",
              "    </tr>\n",
              "  </tbody>\n",
              "</table>\n",
              "</div>\n",
              "      <button class=\"colab-df-convert\" onclick=\"convertToInteractive('df-c5f5d194-69b8-4c95-924c-30d9d302745b')\"\n",
              "              title=\"Convert this dataframe to an interactive table.\"\n",
              "              style=\"display:none;\">\n",
              "        \n",
              "  <svg xmlns=\"http://www.w3.org/2000/svg\" height=\"24px\"viewBox=\"0 0 24 24\"\n",
              "       width=\"24px\">\n",
              "    <path d=\"M0 0h24v24H0V0z\" fill=\"none\"/>\n",
              "    <path d=\"M18.56 5.44l.94 2.06.94-2.06 2.06-.94-2.06-.94-.94-2.06-.94 2.06-2.06.94zm-11 1L8.5 8.5l.94-2.06 2.06-.94-2.06-.94L8.5 2.5l-.94 2.06-2.06.94zm10 10l.94 2.06.94-2.06 2.06-.94-2.06-.94-.94-2.06-.94 2.06-2.06.94z\"/><path d=\"M17.41 7.96l-1.37-1.37c-.4-.4-.92-.59-1.43-.59-.52 0-1.04.2-1.43.59L10.3 9.45l-7.72 7.72c-.78.78-.78 2.05 0 2.83L4 21.41c.39.39.9.59 1.41.59.51 0 1.02-.2 1.41-.59l7.78-7.78 2.81-2.81c.8-.78.8-2.07 0-2.86zM5.41 20L4 18.59l7.72-7.72 1.47 1.35L5.41 20z\"/>\n",
              "  </svg>\n",
              "      </button>\n",
              "      \n",
              "  <style>\n",
              "    .colab-df-container {\n",
              "      display:flex;\n",
              "      flex-wrap:wrap;\n",
              "      gap: 12px;\n",
              "    }\n",
              "\n",
              "    .colab-df-convert {\n",
              "      background-color: #E8F0FE;\n",
              "      border: none;\n",
              "      border-radius: 50%;\n",
              "      cursor: pointer;\n",
              "      display: none;\n",
              "      fill: #1967D2;\n",
              "      height: 32px;\n",
              "      padding: 0 0 0 0;\n",
              "      width: 32px;\n",
              "    }\n",
              "\n",
              "    .colab-df-convert:hover {\n",
              "      background-color: #E2EBFA;\n",
              "      box-shadow: 0px 1px 2px rgba(60, 64, 67, 0.3), 0px 1px 3px 1px rgba(60, 64, 67, 0.15);\n",
              "      fill: #174EA6;\n",
              "    }\n",
              "\n",
              "    [theme=dark] .colab-df-convert {\n",
              "      background-color: #3B4455;\n",
              "      fill: #D2E3FC;\n",
              "    }\n",
              "\n",
              "    [theme=dark] .colab-df-convert:hover {\n",
              "      background-color: #434B5C;\n",
              "      box-shadow: 0px 1px 3px 1px rgba(0, 0, 0, 0.15);\n",
              "      filter: drop-shadow(0px 1px 2px rgba(0, 0, 0, 0.3));\n",
              "      fill: #FFFFFF;\n",
              "    }\n",
              "  </style>\n",
              "\n",
              "      <script>\n",
              "        const buttonEl =\n",
              "          document.querySelector('#df-c5f5d194-69b8-4c95-924c-30d9d302745b button.colab-df-convert');\n",
              "        buttonEl.style.display =\n",
              "          google.colab.kernel.accessAllowed ? 'block' : 'none';\n",
              "\n",
              "        async function convertToInteractive(key) {\n",
              "          const element = document.querySelector('#df-c5f5d194-69b8-4c95-924c-30d9d302745b');\n",
              "          const dataTable =\n",
              "            await google.colab.kernel.invokeFunction('convertToInteractive',\n",
              "                                                     [key], {});\n",
              "          if (!dataTable) return;\n",
              "\n",
              "          const docLinkHtml = 'Like what you see? Visit the ' +\n",
              "            '<a target=\"_blank\" href=https://colab.research.google.com/notebooks/data_table.ipynb>data table notebook</a>'\n",
              "            + ' to learn more about interactive tables.';\n",
              "          element.innerHTML = '';\n",
              "          dataTable['output_type'] = 'display_data';\n",
              "          await google.colab.output.renderOutput(dataTable, element);\n",
              "          const docLink = document.createElement('div');\n",
              "          docLink.innerHTML = docLinkHtml;\n",
              "          element.appendChild(docLink);\n",
              "        }\n",
              "      </script>\n",
              "    </div>\n",
              "  </div>\n",
              "  "
            ]
          },
          "metadata": {},
          "execution_count": 47
        }
      ],
      "source": [
        "# Drop 'actual_productivity' column\n",
        "garm_prod.drop(columns=['actual_productivity'], inplace=True)\n",
        "garm_prod.head()"
      ]
    },
    {
      "cell_type": "markdown",
      "metadata": {
        "id": "vwPWFDCDvyRi"
      },
      "source": [
        "- As seen in the table above, the 'actual productivity' column has been dropped and a new column titled 'met_goal' has been created"
      ]
    },
    {
      "cell_type": "markdown",
      "metadata": {
        "id": "yfzHuBEjmTaL"
      },
      "source": [
        "## 8) Correlation heatmap of the 'garm_prod' dataframe"
      ]
    },
    {
      "cell_type": "code",
      "execution_count": 48,
      "metadata": {
        "colab": {
          "base_uri": "https://localhost:8080/",
          "height": 584
        },
        "id": "W3A_y-Kdlga5",
        "outputId": "f11991be-7519-4318-8c23-381bac325649"
      },
      "outputs": [
        {
          "output_type": "display_data",
          "data": {
            "text/plain": [
              "<Figure size 1080x576 with 2 Axes>"
            ],
            "image/png": "[encoded data removed]"
          },
          "metadata": {
            "needs_background": "light"
          }
        }
      ],
      "source": [
        "# Heat map of the 'garm_prod' dataframe\n",
        "corr = garm_prod.corr()\n",
        "plt.figure(figsize=(15,8))\n",
        "sns.heatmap(corr, cmap='Blues', annot=True);"
      ]
    },
    {
      "cell_type": "markdown",
      "metadata": {
        "id": "mPY6ooFQnVnC"
      },
      "source": [
        "- Low positive correlation coefficients are roughly between 0.3 and 0.5. Low negative correlation coefficients are roughly between -0.3 and -0.5.\n",
        "\n",
        "- Moderate positive correlation coefficients are between 0.5 and 0.7. Moderate negative correlation coefficients are roughly between -0.5 and -0.7.\n",
        "\n",
        "- Strong correlation coefficients are between 0.7 and 1. Strong negative correlation coefficients are between -0.7 and -1.\n",
        "\n",
        "- In general, the closer the correlation coefficient is to 0, the weaker the correlation.\n",
        "\n",
        "- The following are the moderate and strong correlations in the data:\n",
        "\n",
        "**Moderate positive Correlations:**\n",
        "\n",
        "- 'smv' and 'over_time': Correlation Coefficient is 0.68  \n",
        "\n",
        "- 'over_time' and 'no_of_workers': Correlation Coefficient is 0.74\n",
        "\n",
        "- 'idle_time' and 'idle_men': Correlation Coefficient is 0.56\n",
        "\n",
        "**Strong positive Correlations:**\n",
        "\n",
        "- 'smv' and 'no_of_workers': Correlation Coefficient is 0.91\n",
        "\n",
        "There are no moderate or strong negative correlations\n"
      ]
    },
    {
      "cell_type": "markdown",
      "metadata": {
        "id": "aN0clgkoqoE2"
      },
      "source": [
        "## 9) Identify features as numerical, ordinal, or nominal based on updates to the dataset."
      ]
    },
    {
      "cell_type": "code",
      "execution_count": 49,
      "metadata": {
        "colab": {
          "base_uri": "https://localhost:8080/"
        },
        "id": "58zDpasdAuTQ",
        "outputId": "dbe0d8cc-baf9-4304-ad0b-90d3783001a4"
      },
      "outputs": [
        {
          "output_type": "stream",
          "name": "stdout",
          "text": [
            "<class 'pandas.core.frame.DataFrame'>\n",
            "Int64Index: 1160 entries, 0 to 1196\n",
            "Data columns (total 16 columns):\n",
            " #   Column                 Non-Null Count  Dtype  \n",
            "---  ------                 --------------  -----  \n",
            " 0   quarter                1160 non-null   object \n",
            " 1   department             1160 non-null   object \n",
            " 2   day                    1160 non-null   object \n",
            " 3   team                   1160 non-null   object \n",
            " 4   targeted_productivity  1160 non-null   float64\n",
            " 5   smv                    1160 non-null   float64\n",
            " 6   wip                    666 non-null    float64\n",
            " 7   over_time              1160 non-null   int64  \n",
            " 8   incentive              1160 non-null   int64  \n",
            " 9   idle_time              1160 non-null   float64\n",
            " 10  idle_men               1160 non-null   int64  \n",
            " 11  no_of_style_change     1160 non-null   int64  \n",
            " 12  no_of_workers          1160 non-null   float64\n",
            " 13  month                  1160 non-null   object \n",
            " 14  daynum                 1160 non-null   object \n",
            " 15  met_goal               1160 non-null   object \n",
            "dtypes: float64(5), int64(4), object(7)\n",
            "memory usage: 186.4+ KB\n"
          ]
        }
      ],
      "source": [
        "garm_prod.info()"
      ]
    },
    {
      "cell_type": "markdown",
      "metadata": {
        "id": "g1EoDO5WreZE"
      },
      "source": [
        "**Numerical features:** 'targeted_productivity', 'smv', 'wip', 'over_time', 'incentive', 'idle_time', 'idle_men', 'no_of_style_change', 'no_of_workers'\n",
        "\n",
        "**Nominal features:** 'quarter', 'department', 'day', 'month', 'daynum', 'team'\n",
        "\n",
        "**Ordinal features:** There are no ordinal features"
      ]
    },
    {
      "cell_type": "markdown",
      "metadata": {
        "id": "cynknHdSyX9b"
      },
      "source": [
        "## 10) Check target (met_goal) class balance"
      ]
    },
    {
      "cell_type": "code",
      "execution_count": 50,
      "metadata": {
        "colab": {
          "base_uri": "https://localhost:8080/"
        },
        "id": "aBFfF39Ux-ov",
        "outputId": "027534b4-fe76-4551-bcf6-30eda9caf4ae"
      },
      "outputs": [
        {
          "output_type": "execute_result",
          "data": {
            "text/plain": [
              "Yes    838\n",
              "No     322\n",
              "Name: met_goal, dtype: int64"
            ]
          },
          "metadata": {},
          "execution_count": 50
        }
      ],
      "source": [
        "# Check class balance numbers\n",
        "garm_prod['met_goal'].value_counts()"
      ]
    },
    {
      "cell_type": "code",
      "execution_count": 51,
      "metadata": {
        "colab": {
          "base_uri": "https://localhost:8080/"
        },
        "id": "quIMIllwyOCn",
        "outputId": "5324985c-b627-41cd-be25-eb1fee1b0ec8"
      },
      "outputs": [
        {
          "output_type": "execute_result",
          "data": {
            "text/plain": [
              "Yes    0.722414\n",
              "No     0.277586\n",
              "Name: met_goal, dtype: float64"
            ]
          },
          "metadata": {},
          "execution_count": 51
        }
      ],
      "source": [
        "# Check class balance percentages\n",
        "garm_prod['met_goal'].value_counts(normalize=True)"
      ]
    },
    {
      "cell_type": "markdown",
      "metadata": {
        "id": "JmhSXOkPEbF9"
      },
      "source": [
        "## 11) Validation Split"
      ]
    },
    {
      "cell_type": "code",
      "execution_count": 52,
      "metadata": {
        "id": "gWnY7PqdmnWB"
      },
      "outputs": [],
      "source": [
        "X = garm_prod.drop(columns=['met_goal'])\n",
        "y = garm_prod['met_goal']\n",
        "X_train, X_test, y_train, y_test = train_test_split(X, y, random_state = 42)"
      ]
    },
    {
      "cell_type": "markdown",
      "metadata": {
        "id": "R7vgiPaDHG68"
      },
      "source": [
        "## 12) Instantiate Column Selectors"
      ]
    },
    {
      "cell_type": "code",
      "execution_count": 53,
      "metadata": {
        "id": "y55CbnkiG_b5"
      },
      "outputs": [],
      "source": [
        "cat_selector = make_column_selector(dtype_include='object')\n",
        "num_selector = make_column_selector(dtype_include='number')"
      ]
    },
    {
      "cell_type": "markdown",
      "metadata": {
        "id": "AzJMJY-AIEPa"
      },
      "source": [
        "## 13) Instantiate Transformers.\n",
        "\n",
        "We will be using 3 different transformers: SimpleImputer, StandardScaler, and OneHotEncoder. There will be one SimpleImputer with one imputation strategy: ‘median’ strategy for numeric columns. There is no categorical feature with missing value, so we won't need to use SimpleImputer for categorical columns. We will one-hot encode the nominal categorical features as well."
      ]
    },
    {
      "cell_type": "code",
      "execution_count": 54,
      "metadata": {
        "id": "1CZKRsLYHbp1"
      },
      "outputs": [],
      "source": [
        "# Imputers\n",
        "median_imputer = SimpleImputer(strategy='median')\n",
        "# Scaler\n",
        "scaler = StandardScaler()\n",
        "# One-hot encoder\n",
        "ohe = OneHotEncoder(handle_unknown='ignore', sparse=False)"
      ]
    },
    {
      "cell_type": "markdown",
      "metadata": {
        "id": "4y2ZIstRIzg-"
      },
      "source": [
        "## 14) Instantiate Pipelines\n",
        "\n",
        "We will be using ONE pipeline for numeric data."
      ]
    },
    {
      "cell_type": "code",
      "execution_count": 55,
      "metadata": {
        "colab": {
          "base_uri": "https://localhost:8080/",
          "height": 126
        },
        "id": "fHp3zf03Itip",
        "outputId": "990ac891-0c91-45e8-9540-40e5a75702d3"
      },
      "outputs": [
        {
          "output_type": "execute_result",
          "data": {
            "text/plain": [
              "Pipeline(steps=[('simpleimputer', SimpleImputer(strategy='median')),\n",
              "                ('standardscaler', StandardScaler())])"
            ],
            "text/html": [
              "<style>#sk-d1bc0d50-822f-416a-acf4-468fd1fb831e {color: black;background-color: white;}#sk-d1bc0d50-822f-416a-acf4-468fd1fb831e pre{padding: 0;}#sk-d1bc0d50-822f-416a-acf4-468fd1fb831e div.sk-toggleable {background-color: white;}#sk-d1bc0d50-822f-416a-acf4-468fd1fb831e label.sk-toggleable__label {cursor: pointer;display: block;width: 100%;margin-bottom: 0;padding: 0.3em;box-sizing: border-box;text-align: center;}#sk-d1bc0d50-822f-416a-acf4-468fd1fb831e label.sk-toggleable__label-arrow:before {content: \"▸\";float: left;margin-right: 0.25em;color: #696969;}#sk-d1bc0d50-822f-416a-acf4-468fd1fb831e label.sk-toggleable__label-arrow:hover:before {color: black;}#sk-d1bc0d50-822f-416a-acf4-468fd1fb831e div.sk-estimator:hover label.sk-toggleable__label-arrow:before {color: black;}#sk-d1bc0d50-822f-416a-acf4-468fd1fb831e div.sk-toggleable__content {max-height: 0;max-width: 0;overflow: hidden;text-align: left;background-color: #f0f8ff;}#sk-d1bc0d50-822f-416a-acf4-468fd1fb831e div.sk-toggleable__content pre {margin: 0.2em;color: black;border-radius: 0.25em;background-color: #f0f8ff;}#sk-d1bc0d50-822f-416a-acf4-468fd1fb831e input.sk-toggleable__control:checked~div.sk-toggleable__content {max-height: 200px;max-width: 100%;overflow: auto;}#sk-d1bc0d50-822f-416a-acf4-468fd1fb831e input.sk-toggleable__control:checked~label.sk-toggleable__label-arrow:before {content: \"▾\";}#sk-d1bc0d50-822f-416a-acf4-468fd1fb831e div.sk-estimator input.sk-toggleable__control:checked~label.sk-toggleable__label {background-color: #d4ebff;}#sk-d1bc0d50-822f-416a-acf4-468fd1fb831e div.sk-label input.sk-toggleable__control:checked~label.sk-toggleable__label {background-color: #d4ebff;}#sk-d1bc0d50-822f-416a-acf4-468fd1fb831e input.sk-hidden--visually {border: 0;clip: rect(1px 1px 1px 1px);clip: rect(1px, 1px, 1px, 1px);height: 1px;margin: -1px;overflow: hidden;padding: 0;position: absolute;width: 1px;}#sk-d1bc0d50-822f-416a-acf4-468fd1fb831e div.sk-estimator {font-family: monospace;background-color: #f0f8ff;border: 1px dotted black;border-radius: 0.25em;box-sizing: border-box;margin-bottom: 0.5em;}#sk-d1bc0d50-822f-416a-acf4-468fd1fb831e div.sk-estimator:hover {background-color: #d4ebff;}#sk-d1bc0d50-822f-416a-acf4-468fd1fb831e div.sk-parallel-item::after {content: \"\";width: 100%;border-bottom: 1px solid gray;flex-grow: 1;}#sk-d1bc0d50-822f-416a-acf4-468fd1fb831e div.sk-label:hover label.sk-toggleable__label {background-color: #d4ebff;}#sk-d1bc0d50-822f-416a-acf4-468fd1fb831e div.sk-serial::before {content: \"\";position: absolute;border-left: 1px solid gray;box-sizing: border-box;top: 2em;bottom: 0;left: 50%;}#sk-d1bc0d50-822f-416a-acf4-468fd1fb831e div.sk-serial {display: flex;flex-direction: column;align-items: center;background-color: white;padding-right: 0.2em;padding-left: 0.2em;}#sk-d1bc0d50-822f-416a-acf4-468fd1fb831e div.sk-item {z-index: 1;}#sk-d1bc0d50-822f-416a-acf4-468fd1fb831e div.sk-parallel {display: flex;align-items: stretch;justify-content: center;background-color: white;}#sk-d1bc0d50-822f-416a-acf4-468fd1fb831e div.sk-parallel::before {content: \"\";position: absolute;border-left: 1px solid gray;box-sizing: border-box;top: 2em;bottom: 0;left: 50%;}#sk-d1bc0d50-822f-416a-acf4-468fd1fb831e div.sk-parallel-item {display: flex;flex-direction: column;position: relative;background-color: white;}#sk-d1bc0d50-822f-416a-acf4-468fd1fb831e div.sk-parallel-item:first-child::after {align-self: flex-end;width: 50%;}#sk-d1bc0d50-822f-416a-acf4-468fd1fb831e div.sk-parallel-item:last-child::after {align-self: flex-start;width: 50%;}#sk-d1bc0d50-822f-416a-acf4-468fd1fb831e div.sk-parallel-item:only-child::after {width: 0;}#sk-d1bc0d50-822f-416a-acf4-468fd1fb831e div.sk-dashed-wrapped {border: 1px dashed gray;margin: 0 0.4em 0.5em 0.4em;box-sizing: border-box;padding-bottom: 0.4em;background-color: white;position: relative;}#sk-d1bc0d50-822f-416a-acf4-468fd1fb831e div.sk-label label {font-family: monospace;font-weight: bold;background-color: white;display: inline-block;line-height: 1.2em;}#sk-d1bc0d50-822f-416a-acf4-468fd1fb831e div.sk-label-container {position: relative;z-index: 2;text-align: center;}#sk-d1bc0d50-822f-416a-acf4-468fd1fb831e div.sk-container {/* jupyter's `normalize.less` sets `[hidden] { display: none; }` but bootstrap.min.css set `[hidden] { display: none !important; }` so we also need the `!important` here to be able to override the default hidden behavior on the sphinx rendered scikit-learn.org. See: https://github.com/scikit-learn/scikit-learn/issues/21755 */display: inline-block !important;position: relative;}#sk-d1bc0d50-822f-416a-acf4-468fd1fb831e div.sk-text-repr-fallback {display: none;}</style><div id=\"sk-d1bc0d50-822f-416a-acf4-468fd1fb831e\" class=\"sk-top-container\"><div class=\"sk-text-repr-fallback\"><pre>Pipeline(steps=[(&#x27;simpleimputer&#x27;, SimpleImputer(strategy=&#x27;median&#x27;)),\n",
              "                (&#x27;standardscaler&#x27;, StandardScaler())])</pre><b>Please rerun this cell to show the HTML repr or trust the notebook.</b></div><div class=\"sk-container\" hidden><div class=\"sk-item sk-dashed-wrapped\"><div class=\"sk-label-container\"><div class=\"sk-label sk-toggleable\"><input class=\"sk-toggleable__control sk-hidden--visually\" id=\"a6eee0b7-9f4a-429d-a040-a5b840ccae6e\" type=\"checkbox\" ><label for=\"a6eee0b7-9f4a-429d-a040-a5b840ccae6e\" class=\"sk-toggleable__label sk-toggleable__label-arrow\">Pipeline</label><div class=\"sk-toggleable__content\"><pre>Pipeline(steps=[(&#x27;simpleimputer&#x27;, SimpleImputer(strategy=&#x27;median&#x27;)),\n",
              "                (&#x27;standardscaler&#x27;, StandardScaler())])</pre></div></div></div><div class=\"sk-serial\"><div class=\"sk-item\"><div class=\"sk-estimator sk-toggleable\"><input class=\"sk-toggleable__control sk-hidden--visually\" id=\"5b9bf068-ebf0-42c4-b5d9-6bd3ac50a0eb\" type=\"checkbox\" ><label for=\"5b9bf068-ebf0-42c4-b5d9-6bd3ac50a0eb\" class=\"sk-toggleable__label sk-toggleable__label-arrow\">SimpleImputer</label><div class=\"sk-toggleable__content\"><pre>SimpleImputer(strategy=&#x27;median&#x27;)</pre></div></div></div><div class=\"sk-item\"><div class=\"sk-estimator sk-toggleable\"><input class=\"sk-toggleable__control sk-hidden--visually\" id=\"3409022d-47e2-4e6a-b90a-38f1f946b939\" type=\"checkbox\" ><label for=\"3409022d-47e2-4e6a-b90a-38f1f946b939\" class=\"sk-toggleable__label sk-toggleable__label-arrow\">StandardScaler</label><div class=\"sk-toggleable__content\"><pre>StandardScaler()</pre></div></div></div></div></div></div></div>"
            ]
          },
          "metadata": {},
          "execution_count": 55
        }
      ],
      "source": [
        "# Numeric pipeline\n",
        "numeric_pipe = make_pipeline(median_imputer, scaler)\n",
        "numeric_pipe"
      ]
    },
    {
      "cell_type": "markdown",
      "metadata": {
        "id": "o3GyvTs2JD0k"
      },
      "source": [
        "## 15) Instantiate ColumnTransformer"
      ]
    },
    {
      "cell_type": "code",
      "execution_count": 56,
      "metadata": {
        "colab": {
          "base_uri": "https://localhost:8080/",
          "height": 152
        },
        "id": "O2CPaMx2I3oC",
        "outputId": "6369bf82-f4da-4a0a-8378-48ac551db3bb"
      },
      "outputs": [
        {
          "output_type": "execute_result",
          "data": {
            "text/plain": [
              "ColumnTransformer(remainder='passthrough',\n",
              "                  transformers=[('pipeline',\n",
              "                                 Pipeline(steps=[('simpleimputer',\n",
              "                                                  SimpleImputer(strategy='median')),\n",
              "                                                 ('standardscaler',\n",
              "                                                  StandardScaler())]),\n",
              "                                 <sklearn.compose._column_transformer.make_column_selector object at 0x7f025d12c610>),\n",
              "                                ('onehotencoder',\n",
              "                                 OneHotEncoder(handle_unknown='ignore',\n",
              "                                               sparse=False),\n",
              "                                 <sklearn.compose._column_transformer.make_column_selector object at 0x7f025d12cc50>)])"
            ],
            "text/html": [
              "<style>#sk-da14693d-89fc-4e2a-b5f0-b31ec23ac751 {color: black;background-color: white;}#sk-da14693d-89fc-4e2a-b5f0-b31ec23ac751 pre{padding: 0;}#sk-da14693d-89fc-4e2a-b5f0-b31ec23ac751 div.sk-toggleable {background-color: white;}#sk-da14693d-89fc-4e2a-b5f0-b31ec23ac751 label.sk-toggleable__label {cursor: pointer;display: block;width: 100%;margin-bottom: 0;padding: 0.3em;box-sizing: border-box;text-align: center;}#sk-da14693d-89fc-4e2a-b5f0-b31ec23ac751 label.sk-toggleable__label-arrow:before {content: \"▸\";float: left;margin-right: 0.25em;color: #696969;}#sk-da14693d-89fc-4e2a-b5f0-b31ec23ac751 label.sk-toggleable__label-arrow:hover:before {color: black;}#sk-da14693d-89fc-4e2a-b5f0-b31ec23ac751 div.sk-estimator:hover label.sk-toggleable__label-arrow:before {color: black;}#sk-da14693d-89fc-4e2a-b5f0-b31ec23ac751 div.sk-toggleable__content {max-height: 0;max-width: 0;overflow: hidden;text-align: left;background-color: #f0f8ff;}#sk-da14693d-89fc-4e2a-b5f0-b31ec23ac751 div.sk-toggleable__content pre {margin: 0.2em;color: black;border-radius: 0.25em;background-color: #f0f8ff;}#sk-da14693d-89fc-4e2a-b5f0-b31ec23ac751 input.sk-toggleable__control:checked~div.sk-toggleable__content {max-height: 200px;max-width: 100%;overflow: auto;}#sk-da14693d-89fc-4e2a-b5f0-b31ec23ac751 input.sk-toggleable__control:checked~label.sk-toggleable__label-arrow:before {content: \"▾\";}#sk-da14693d-89fc-4e2a-b5f0-b31ec23ac751 div.sk-estimator input.sk-toggleable__control:checked~label.sk-toggleable__label {background-color: #d4ebff;}#sk-da14693d-89fc-4e2a-b5f0-b31ec23ac751 div.sk-label input.sk-toggleable__control:checked~label.sk-toggleable__label {background-color: #d4ebff;}#sk-da14693d-89fc-4e2a-b5f0-b31ec23ac751 input.sk-hidden--visually {border: 0;clip: rect(1px 1px 1px 1px);clip: rect(1px, 1px, 1px, 1px);height: 1px;margin: -1px;overflow: hidden;padding: 0;position: absolute;width: 1px;}#sk-da14693d-89fc-4e2a-b5f0-b31ec23ac751 div.sk-estimator {font-family: monospace;background-color: #f0f8ff;border: 1px dotted black;border-radius: 0.25em;box-sizing: border-box;margin-bottom: 0.5em;}#sk-da14693d-89fc-4e2a-b5f0-b31ec23ac751 div.sk-estimator:hover {background-color: #d4ebff;}#sk-da14693d-89fc-4e2a-b5f0-b31ec23ac751 div.sk-parallel-item::after {content: \"\";width: 100%;border-bottom: 1px solid gray;flex-grow: 1;}#sk-da14693d-89fc-4e2a-b5f0-b31ec23ac751 div.sk-label:hover label.sk-toggleable__label {background-color: #d4ebff;}#sk-da14693d-89fc-4e2a-b5f0-b31ec23ac751 div.sk-serial::before {content: \"\";position: absolute;border-left: 1px solid gray;box-sizing: border-box;top: 2em;bottom: 0;left: 50%;}#sk-da14693d-89fc-4e2a-b5f0-b31ec23ac751 div.sk-serial {display: flex;flex-direction: column;align-items: center;background-color: white;padding-right: 0.2em;padding-left: 0.2em;}#sk-da14693d-89fc-4e2a-b5f0-b31ec23ac751 div.sk-item {z-index: 1;}#sk-da14693d-89fc-4e2a-b5f0-b31ec23ac751 div.sk-parallel {display: flex;align-items: stretch;justify-content: center;background-color: white;}#sk-da14693d-89fc-4e2a-b5f0-b31ec23ac751 div.sk-parallel::before {content: \"\";position: absolute;border-left: 1px solid gray;box-sizing: border-box;top: 2em;bottom: 0;left: 50%;}#sk-da14693d-89fc-4e2a-b5f0-b31ec23ac751 div.sk-parallel-item {display: flex;flex-direction: column;position: relative;background-color: white;}#sk-da14693d-89fc-4e2a-b5f0-b31ec23ac751 div.sk-parallel-item:first-child::after {align-self: flex-end;width: 50%;}#sk-da14693d-89fc-4e2a-b5f0-b31ec23ac751 div.sk-parallel-item:last-child::after {align-self: flex-start;width: 50%;}#sk-da14693d-89fc-4e2a-b5f0-b31ec23ac751 div.sk-parallel-item:only-child::after {width: 0;}#sk-da14693d-89fc-4e2a-b5f0-b31ec23ac751 div.sk-dashed-wrapped {border: 1px dashed gray;margin: 0 0.4em 0.5em 0.4em;box-sizing: border-box;padding-bottom: 0.4em;background-color: white;position: relative;}#sk-da14693d-89fc-4e2a-b5f0-b31ec23ac751 div.sk-label label {font-family: monospace;font-weight: bold;background-color: white;display: inline-block;line-height: 1.2em;}#sk-da14693d-89fc-4e2a-b5f0-b31ec23ac751 div.sk-label-container {position: relative;z-index: 2;text-align: center;}#sk-da14693d-89fc-4e2a-b5f0-b31ec23ac751 div.sk-container {/* jupyter's `normalize.less` sets `[hidden] { display: none; }` but bootstrap.min.css set `[hidden] { display: none !important; }` so we also need the `!important` here to be able to override the default hidden behavior on the sphinx rendered scikit-learn.org. See: https://github.com/scikit-learn/scikit-learn/issues/21755 */display: inline-block !important;position: relative;}#sk-da14693d-89fc-4e2a-b5f0-b31ec23ac751 div.sk-text-repr-fallback {display: none;}</style><div id=\"sk-da14693d-89fc-4e2a-b5f0-b31ec23ac751\" class=\"sk-top-container\"><div class=\"sk-text-repr-fallback\"><pre>ColumnTransformer(remainder=&#x27;passthrough&#x27;,\n",
              "                  transformers=[(&#x27;pipeline&#x27;,\n",
              "                                 Pipeline(steps=[(&#x27;simpleimputer&#x27;,\n",
              "                                                  SimpleImputer(strategy=&#x27;median&#x27;)),\n",
              "                                                 (&#x27;standardscaler&#x27;,\n",
              "                                                  StandardScaler())]),\n",
              "                                 &lt;sklearn.compose._column_transformer.make_column_selector object at 0x7f025d12c610&gt;),\n",
              "                                (&#x27;onehotencoder&#x27;,\n",
              "                                 OneHotEncoder(handle_unknown=&#x27;ignore&#x27;,\n",
              "                                               sparse=False),\n",
              "                                 &lt;sklearn.compose._column_transformer.make_column_selector object at 0x7f025d12cc50&gt;)])</pre><b>Please rerun this cell to show the HTML repr or trust the notebook.</b></div><div class=\"sk-container\" hidden><div class=\"sk-item sk-dashed-wrapped\"><div class=\"sk-label-container\"><div class=\"sk-label sk-toggleable\"><input class=\"sk-toggleable__control sk-hidden--visually\" id=\"ad81ea21-7831-4f44-bf15-23fa1f5b8cab\" type=\"checkbox\" ><label for=\"ad81ea21-7831-4f44-bf15-23fa1f5b8cab\" class=\"sk-toggleable__label sk-toggleable__label-arrow\">ColumnTransformer</label><div class=\"sk-toggleable__content\"><pre>ColumnTransformer(remainder=&#x27;passthrough&#x27;,\n",
              "                  transformers=[(&#x27;pipeline&#x27;,\n",
              "                                 Pipeline(steps=[(&#x27;simpleimputer&#x27;,\n",
              "                                                  SimpleImputer(strategy=&#x27;median&#x27;)),\n",
              "                                                 (&#x27;standardscaler&#x27;,\n",
              "                                                  StandardScaler())]),\n",
              "                                 &lt;sklearn.compose._column_transformer.make_column_selector object at 0x7f025d12c610&gt;),\n",
              "                                (&#x27;onehotencoder&#x27;,\n",
              "                                 OneHotEncoder(handle_unknown=&#x27;ignore&#x27;,\n",
              "                                               sparse=False),\n",
              "                                 &lt;sklearn.compose._column_transformer.make_column_selector object at 0x7f025d12cc50&gt;)])</pre></div></div></div><div class=\"sk-parallel\"><div class=\"sk-parallel-item\"><div class=\"sk-item\"><div class=\"sk-label-container\"><div class=\"sk-label sk-toggleable\"><input class=\"sk-toggleable__control sk-hidden--visually\" id=\"5f5a3fb4-1443-4992-bc69-d0ee004dec83\" type=\"checkbox\" ><label for=\"5f5a3fb4-1443-4992-bc69-d0ee004dec83\" class=\"sk-toggleable__label sk-toggleable__label-arrow\">pipeline</label><div class=\"sk-toggleable__content\"><pre>&lt;sklearn.compose._column_transformer.make_column_selector object at 0x7f025d12c610&gt;</pre></div></div></div><div class=\"sk-serial\"><div class=\"sk-item\"><div class=\"sk-serial\"><div class=\"sk-item\"><div class=\"sk-estimator sk-toggleable\"><input class=\"sk-toggleable__control sk-hidden--visually\" id=\"47913847-d7f0-4805-b108-6993ddf016ed\" type=\"checkbox\" ><label for=\"47913847-d7f0-4805-b108-6993ddf016ed\" class=\"sk-toggleable__label sk-toggleable__label-arrow\">SimpleImputer</label><div class=\"sk-toggleable__content\"><pre>SimpleImputer(strategy=&#x27;median&#x27;)</pre></div></div></div><div class=\"sk-item\"><div class=\"sk-estimator sk-toggleable\"><input class=\"sk-toggleable__control sk-hidden--visually\" id=\"de57f59f-0c57-4576-8d63-9dd96d6aa52e\" type=\"checkbox\" ><label for=\"de57f59f-0c57-4576-8d63-9dd96d6aa52e\" class=\"sk-toggleable__label sk-toggleable__label-arrow\">StandardScaler</label><div class=\"sk-toggleable__content\"><pre>StandardScaler()</pre></div></div></div></div></div></div></div></div><div class=\"sk-parallel-item\"><div class=\"sk-item\"><div class=\"sk-label-container\"><div class=\"sk-label sk-toggleable\"><input class=\"sk-toggleable__control sk-hidden--visually\" id=\"ae35f9af-48cd-4e66-ba5a-fed4f4e7dfd4\" type=\"checkbox\" ><label for=\"ae35f9af-48cd-4e66-ba5a-fed4f4e7dfd4\" class=\"sk-toggleable__label sk-toggleable__label-arrow\">onehotencoder</label><div class=\"sk-toggleable__content\"><pre>&lt;sklearn.compose._column_transformer.make_column_selector object at 0x7f025d12cc50&gt;</pre></div></div></div><div class=\"sk-serial\"><div class=\"sk-item\"><div class=\"sk-estimator sk-toggleable\"><input class=\"sk-toggleable__control sk-hidden--visually\" id=\"5fc37158-b290-4018-a100-7566a05aa1a1\" type=\"checkbox\" ><label for=\"5fc37158-b290-4018-a100-7566a05aa1a1\" class=\"sk-toggleable__label sk-toggleable__label-arrow\">OneHotEncoder</label><div class=\"sk-toggleable__content\"><pre>OneHotEncoder(handle_unknown=&#x27;ignore&#x27;, sparse=False)</pre></div></div></div></div></div></div><div class=\"sk-parallel-item\"><div class=\"sk-item\"><div class=\"sk-label-container\"><div class=\"sk-label sk-toggleable\"><input class=\"sk-toggleable__control sk-hidden--visually\" id=\"6298e38a-4443-45d4-991b-22aec0856a50\" type=\"checkbox\" ><label for=\"6298e38a-4443-45d4-991b-22aec0856a50\" class=\"sk-toggleable__label sk-toggleable__label-arrow\">remainder</label><div class=\"sk-toggleable__content\"><pre></pre></div></div></div><div class=\"sk-serial\"><div class=\"sk-item\"><div class=\"sk-estimator sk-toggleable\"><input class=\"sk-toggleable__control sk-hidden--visually\" id=\"7428f30a-ca69-4c49-a6cd-1fd7db0726ce\" type=\"checkbox\" ><label for=\"7428f30a-ca69-4c49-a6cd-1fd7db0726ce\" class=\"sk-toggleable__label sk-toggleable__label-arrow\">passthrough</label><div class=\"sk-toggleable__content\"><pre>passthrough</pre></div></div></div></div></div></div></div></div></div></div>"
            ]
          },
          "metadata": {},
          "execution_count": 56
        }
      ],
      "source": [
        "# Tuples for Column Transformer\n",
        "number_tuple = (numeric_pipe, num_selector)\n",
        "category_tuple = (ohe, cat_selector)\n",
        "# ColumnTransformer\n",
        "preprocessor = make_column_transformer(number_tuple, category_tuple, remainder='passthrough')\n",
        "preprocessor"
      ]
    },
    {
      "cell_type": "markdown",
      "metadata": {
        "id": "ti_XaHcjKEGp"
      },
      "source": [
        "- We only one-hot encode nominal features. The cat_selector selects nominal categorical features before they are one-hot encoded in this section. We did not have ordinal features. If we did, we would have ordinal encoded the ordinal features. Ordinal features are ordered categorical features. Nominal features are unordered categorical features. Since computational modeling can only model numbers, we need to convert categorical data to numeric form by ordinal encoding ordinal features and one-hot encoding nominal features."
      ]
    },
    {
      "cell_type": "markdown",
      "metadata": {
        "id": "b3tH0gVBKePG"
      },
      "source": [
        "## 16) Fit the ColumnTransformer on the training data and transform both training and testing data"
      ]
    },
    {
      "cell_type": "code",
      "execution_count": 57,
      "metadata": {
        "colab": {
          "base_uri": "https://localhost:8080/",
          "height": 152
        },
        "id": "cBaE3dAqJtCu",
        "outputId": "2fecc462-402a-445d-f48f-8f88367a0fcd"
      },
      "outputs": [
        {
          "output_type": "execute_result",
          "data": {
            "text/plain": [
              "ColumnTransformer(remainder='passthrough',\n",
              "                  transformers=[('pipeline',\n",
              "                                 Pipeline(steps=[('simpleimputer',\n",
              "                                                  SimpleImputer(strategy='median')),\n",
              "                                                 ('standardscaler',\n",
              "                                                  StandardScaler())]),\n",
              "                                 <sklearn.compose._column_transformer.make_column_selector object at 0x7f025d12c610>),\n",
              "                                ('onehotencoder',\n",
              "                                 OneHotEncoder(handle_unknown='ignore',\n",
              "                                               sparse=False),\n",
              "                                 <sklearn.compose._column_transformer.make_column_selector object at 0x7f025d12cc50>)])"
            ],
            "text/html": [
              "<style>#sk-603c6c7c-5324-4944-a9a1-25a9e0e4649e {color: black;background-color: white;}#sk-603c6c7c-5324-4944-a9a1-25a9e0e4649e pre{padding: 0;}#sk-603c6c7c-5324-4944-a9a1-25a9e0e4649e div.sk-toggleable {background-color: white;}#sk-603c6c7c-5324-4944-a9a1-25a9e0e4649e label.sk-toggleable__label {cursor: pointer;display: block;width: 100%;margin-bottom: 0;padding: 0.3em;box-sizing: border-box;text-align: center;}#sk-603c6c7c-5324-4944-a9a1-25a9e0e4649e label.sk-toggleable__label-arrow:before {content: \"▸\";float: left;margin-right: 0.25em;color: #696969;}#sk-603c6c7c-5324-4944-a9a1-25a9e0e4649e label.sk-toggleable__label-arrow:hover:before {color: black;}#sk-603c6c7c-5324-4944-a9a1-25a9e0e4649e div.sk-estimator:hover label.sk-toggleable__label-arrow:before {color: black;}#sk-603c6c7c-5324-4944-a9a1-25a9e0e4649e div.sk-toggleable__content {max-height: 0;max-width: 0;overflow: hidden;text-align: left;background-color: #f0f8ff;}#sk-603c6c7c-5324-4944-a9a1-25a9e0e4649e div.sk-toggleable__content pre {margin: 0.2em;color: black;border-radius: 0.25em;background-color: #f0f8ff;}#sk-603c6c7c-5324-4944-a9a1-25a9e0e4649e input.sk-toggleable__control:checked~div.sk-toggleable__content {max-height: 200px;max-width: 100%;overflow: auto;}#sk-603c6c7c-5324-4944-a9a1-25a9e0e4649e input.sk-toggleable__control:checked~label.sk-toggleable__label-arrow:before {content: \"▾\";}#sk-603c6c7c-5324-4944-a9a1-25a9e0e4649e div.sk-estimator input.sk-toggleable__control:checked~label.sk-toggleable__label {background-color: #d4ebff;}#sk-603c6c7c-5324-4944-a9a1-25a9e0e4649e div.sk-label input.sk-toggleable__control:checked~label.sk-toggleable__label {background-color: #d4ebff;}#sk-603c6c7c-5324-4944-a9a1-25a9e0e4649e input.sk-hidden--visually {border: 0;clip: rect(1px 1px 1px 1px);clip: rect(1px, 1px, 1px, 1px);height: 1px;margin: -1px;overflow: hidden;padding: 0;position: absolute;width: 1px;}#sk-603c6c7c-5324-4944-a9a1-25a9e0e4649e div.sk-estimator {font-family: monospace;background-color: #f0f8ff;border: 1px dotted black;border-radius: 0.25em;box-sizing: border-box;margin-bottom: 0.5em;}#sk-603c6c7c-5324-4944-a9a1-25a9e0e4649e div.sk-estimator:hover {background-color: #d4ebff;}#sk-603c6c7c-5324-4944-a9a1-25a9e0e4649e div.sk-parallel-item::after {content: \"\";width: 100%;border-bottom: 1px solid gray;flex-grow: 1;}#sk-603c6c7c-5324-4944-a9a1-25a9e0e4649e div.sk-label:hover label.sk-toggleable__label {background-color: #d4ebff;}#sk-603c6c7c-5324-4944-a9a1-25a9e0e4649e div.sk-serial::before {content: \"\";position: absolute;border-left: 1px solid gray;box-sizing: border-box;top: 2em;bottom: 0;left: 50%;}#sk-603c6c7c-5324-4944-a9a1-25a9e0e4649e div.sk-serial {display: flex;flex-direction: column;align-items: center;background-color: white;padding-right: 0.2em;padding-left: 0.2em;}#sk-603c6c7c-5324-4944-a9a1-25a9e0e4649e div.sk-item {z-index: 1;}#sk-603c6c7c-5324-4944-a9a1-25a9e0e4649e div.sk-parallel {display: flex;align-items: stretch;justify-content: center;background-color: white;}#sk-603c6c7c-5324-4944-a9a1-25a9e0e4649e div.sk-parallel::before {content: \"\";position: absolute;border-left: 1px solid gray;box-sizing: border-box;top: 2em;bottom: 0;left: 50%;}#sk-603c6c7c-5324-4944-a9a1-25a9e0e4649e div.sk-parallel-item {display: flex;flex-direction: column;position: relative;background-color: white;}#sk-603c6c7c-5324-4944-a9a1-25a9e0e4649e div.sk-parallel-item:first-child::after {align-self: flex-end;width: 50%;}#sk-603c6c7c-5324-4944-a9a1-25a9e0e4649e div.sk-parallel-item:last-child::after {align-self: flex-start;width: 50%;}#sk-603c6c7c-5324-4944-a9a1-25a9e0e4649e div.sk-parallel-item:only-child::after {width: 0;}#sk-603c6c7c-5324-4944-a9a1-25a9e0e4649e div.sk-dashed-wrapped {border: 1px dashed gray;margin: 0 0.4em 0.5em 0.4em;box-sizing: border-box;padding-bottom: 0.4em;background-color: white;position: relative;}#sk-603c6c7c-5324-4944-a9a1-25a9e0e4649e div.sk-label label {font-family: monospace;font-weight: bold;background-color: white;display: inline-block;line-height: 1.2em;}#sk-603c6c7c-5324-4944-a9a1-25a9e0e4649e div.sk-label-container {position: relative;z-index: 2;text-align: center;}#sk-603c6c7c-5324-4944-a9a1-25a9e0e4649e div.sk-container {/* jupyter's `normalize.less` sets `[hidden] { display: none; }` but bootstrap.min.css set `[hidden] { display: none !important; }` so we also need the `!important` here to be able to override the default hidden behavior on the sphinx rendered scikit-learn.org. See: https://github.com/scikit-learn/scikit-learn/issues/21755 */display: inline-block !important;position: relative;}#sk-603c6c7c-5324-4944-a9a1-25a9e0e4649e div.sk-text-repr-fallback {display: none;}</style><div id=\"sk-603c6c7c-5324-4944-a9a1-25a9e0e4649e\" class=\"sk-top-container\"><div class=\"sk-text-repr-fallback\"><pre>ColumnTransformer(remainder=&#x27;passthrough&#x27;,\n",
              "                  transformers=[(&#x27;pipeline&#x27;,\n",
              "                                 Pipeline(steps=[(&#x27;simpleimputer&#x27;,\n",
              "                                                  SimpleImputer(strategy=&#x27;median&#x27;)),\n",
              "                                                 (&#x27;standardscaler&#x27;,\n",
              "                                                  StandardScaler())]),\n",
              "                                 &lt;sklearn.compose._column_transformer.make_column_selector object at 0x7f025d12c610&gt;),\n",
              "                                (&#x27;onehotencoder&#x27;,\n",
              "                                 OneHotEncoder(handle_unknown=&#x27;ignore&#x27;,\n",
              "                                               sparse=False),\n",
              "                                 &lt;sklearn.compose._column_transformer.make_column_selector object at 0x7f025d12cc50&gt;)])</pre><b>Please rerun this cell to show the HTML repr or trust the notebook.</b></div><div class=\"sk-container\" hidden><div class=\"sk-item sk-dashed-wrapped\"><div class=\"sk-label-container\"><div class=\"sk-label sk-toggleable\"><input class=\"sk-toggleable__control sk-hidden--visually\" id=\"64cea895-4e81-4ae5-98f8-eac397fc5195\" type=\"checkbox\" ><label for=\"64cea895-4e81-4ae5-98f8-eac397fc5195\" class=\"sk-toggleable__label sk-toggleable__label-arrow\">ColumnTransformer</label><div class=\"sk-toggleable__content\"><pre>ColumnTransformer(remainder=&#x27;passthrough&#x27;,\n",
              "                  transformers=[(&#x27;pipeline&#x27;,\n",
              "                                 Pipeline(steps=[(&#x27;simpleimputer&#x27;,\n",
              "                                                  SimpleImputer(strategy=&#x27;median&#x27;)),\n",
              "                                                 (&#x27;standardscaler&#x27;,\n",
              "                                                  StandardScaler())]),\n",
              "                                 &lt;sklearn.compose._column_transformer.make_column_selector object at 0x7f025d12c610&gt;),\n",
              "                                (&#x27;onehotencoder&#x27;,\n",
              "                                 OneHotEncoder(handle_unknown=&#x27;ignore&#x27;,\n",
              "                                               sparse=False),\n",
              "                                 &lt;sklearn.compose._column_transformer.make_column_selector object at 0x7f025d12cc50&gt;)])</pre></div></div></div><div class=\"sk-parallel\"><div class=\"sk-parallel-item\"><div class=\"sk-item\"><div class=\"sk-label-container\"><div class=\"sk-label sk-toggleable\"><input class=\"sk-toggleable__control sk-hidden--visually\" id=\"90d03abd-c7e6-45f0-a4ab-9c6eea2045e5\" type=\"checkbox\" ><label for=\"90d03abd-c7e6-45f0-a4ab-9c6eea2045e5\" class=\"sk-toggleable__label sk-toggleable__label-arrow\">pipeline</label><div class=\"sk-toggleable__content\"><pre>&lt;sklearn.compose._column_transformer.make_column_selector object at 0x7f025d12c610&gt;</pre></div></div></div><div class=\"sk-serial\"><div class=\"sk-item\"><div class=\"sk-serial\"><div class=\"sk-item\"><div class=\"sk-estimator sk-toggleable\"><input class=\"sk-toggleable__control sk-hidden--visually\" id=\"8a953bd3-3000-4024-bf26-a6fb35056f1e\" type=\"checkbox\" ><label for=\"8a953bd3-3000-4024-bf26-a6fb35056f1e\" class=\"sk-toggleable__label sk-toggleable__label-arrow\">SimpleImputer</label><div class=\"sk-toggleable__content\"><pre>SimpleImputer(strategy=&#x27;median&#x27;)</pre></div></div></div><div class=\"sk-item\"><div class=\"sk-estimator sk-toggleable\"><input class=\"sk-toggleable__control sk-hidden--visually\" id=\"aa4aec77-96ac-4667-b097-390d161d7cd6\" type=\"checkbox\" ><label for=\"aa4aec77-96ac-4667-b097-390d161d7cd6\" class=\"sk-toggleable__label sk-toggleable__label-arrow\">StandardScaler</label><div class=\"sk-toggleable__content\"><pre>StandardScaler()</pre></div></div></div></div></div></div></div></div><div class=\"sk-parallel-item\"><div class=\"sk-item\"><div class=\"sk-label-container\"><div class=\"sk-label sk-toggleable\"><input class=\"sk-toggleable__control sk-hidden--visually\" id=\"c93c9ecc-1931-42c4-b11d-344ee4d0b285\" type=\"checkbox\" ><label for=\"c93c9ecc-1931-42c4-b11d-344ee4d0b285\" class=\"sk-toggleable__label sk-toggleable__label-arrow\">onehotencoder</label><div class=\"sk-toggleable__content\"><pre>&lt;sklearn.compose._column_transformer.make_column_selector object at 0x7f025d12cc50&gt;</pre></div></div></div><div class=\"sk-serial\"><div class=\"sk-item\"><div class=\"sk-estimator sk-toggleable\"><input class=\"sk-toggleable__control sk-hidden--visually\" id=\"752668b3-0d19-4f9b-9cbb-09577b7d920b\" type=\"checkbox\" ><label for=\"752668b3-0d19-4f9b-9cbb-09577b7d920b\" class=\"sk-toggleable__label sk-toggleable__label-arrow\">OneHotEncoder</label><div class=\"sk-toggleable__content\"><pre>OneHotEncoder(handle_unknown=&#x27;ignore&#x27;, sparse=False)</pre></div></div></div></div></div></div><div class=\"sk-parallel-item\"><div class=\"sk-item\"><div class=\"sk-label-container\"><div class=\"sk-label sk-toggleable\"><input class=\"sk-toggleable__control sk-hidden--visually\" id=\"fe58bb11-fafe-4cfb-adca-9390e2b15771\" type=\"checkbox\" ><label for=\"fe58bb11-fafe-4cfb-adca-9390e2b15771\" class=\"sk-toggleable__label sk-toggleable__label-arrow\">remainder</label><div class=\"sk-toggleable__content\"><pre>[]</pre></div></div></div><div class=\"sk-serial\"><div class=\"sk-item\"><div class=\"sk-estimator sk-toggleable\"><input class=\"sk-toggleable__control sk-hidden--visually\" id=\"ce9859b3-b57c-4102-b27b-829b4a143d6e\" type=\"checkbox\" ><label for=\"ce9859b3-b57c-4102-b27b-829b4a143d6e\" class=\"sk-toggleable__label sk-toggleable__label-arrow\">passthrough</label><div class=\"sk-toggleable__content\"><pre>passthrough</pre></div></div></div></div></div></div></div></div></div></div>"
            ]
          },
          "metadata": {},
          "execution_count": 57
        }
      ],
      "source": [
        "preprocessor.fit(X_train)"
      ]
    },
    {
      "cell_type": "code",
      "execution_count": 58,
      "metadata": {
        "id": "jUGTYT4LKhyn"
      },
      "outputs": [],
      "source": [
        "# transform training and testing data\n",
        "X_train_processed = preprocessor.transform(X_train)\n",
        "X_test_processed = preprocessor.transform(X_test)"
      ]
    },
    {
      "cell_type": "markdown",
      "metadata": {
        "id": "rM27gQPVcvqj"
      },
      "source": [
        "## 17) Inspect the Result"
      ]
    },
    {
      "cell_type": "code",
      "execution_count": 59,
      "metadata": {
        "colab": {
          "base_uri": "https://localhost:8080/"
        },
        "id": "mdgaxImYcsnO",
        "outputId": "e953e9d7-13f0-4057-da91-8e4fd0ceee6c"
      },
      "outputs": [
        {
          "output_type": "stream",
          "name": "stdout",
          "text": [
            "0 missing values in training data\n",
            "0 missing values in testing data\n",
            "\n",
            "\n",
            "All data in X_train_processed are float64\n",
            "All data in X_test_processed are float64\n",
            "\n",
            "\n",
            "shape of data is (870, 67)\n",
            "\n",
            "\n"
          ]
        },
        {
          "output_type": "execute_result",
          "data": {
            "text/plain": [
              "array([[ 0.22079175, -0.9915077 , -0.04641955, ...,  0.        ,\n",
              "         0.        ,  0.        ],\n",
              "       [ 0.22079175, -0.9724977 , -0.04641955, ...,  0.        ,\n",
              "         0.        ,  0.        ],\n",
              "       [ 0.71637696,  0.69042539,  0.46119394, ...,  0.        ,\n",
              "         0.        ,  0.        ],\n",
              "       ...,\n",
              "       [-0.27479345,  0.10926228, -0.1058853 , ...,  0.        ,\n",
              "         0.        ,  0.        ],\n",
              "       [-0.27479345,  0.35277143,  0.48360132, ...,  0.        ,\n",
              "         0.        ,  0.        ],\n",
              "       [ 0.22079175,  0.35277143,  0.14404324, ...,  0.        ,\n",
              "         0.        ,  0.        ]])"
            ]
          },
          "metadata": {},
          "execution_count": 59
        }
      ],
      "source": [
        "print(np.isnan(X_train_processed).sum().sum(), 'missing values in training data')\n",
        "print(np.isnan(X_test_processed).sum().sum(), 'missing values in testing data')\n",
        "print('\\n')\n",
        "print('All data in X_train_processed are', X_train_processed.dtype)\n",
        "print('All data in X_test_processed are', X_test_processed.dtype)\n",
        "print('\\n')\n",
        "print('shape of data is', X_train_processed.shape)\n",
        "print('\\n')\n",
        "X_train_processed"
      ]
    },
    {
      "cell_type": "markdown",
      "metadata": {
        "id": "-6tT_Caoc-1b"
      },
      "source": [
        "- From the above, we see that there are no missing data, all data are of type float64, and there are 56 columns."
      ]
    },
    {
      "cell_type": "markdown",
      "metadata": {
        "id": "ZwRameNm95FA"
      },
      "source": [
        "## 18) Inspect Result in a dataframe with column names"
      ]
    },
    {
      "cell_type": "code",
      "execution_count": 60,
      "metadata": {
        "colab": {
          "base_uri": "https://localhost:8080/"
        },
        "id": "ik1i_a0x0kby",
        "outputId": "e87a2f99-76e0-40aa-eee5-b9c73aa6c58c"
      },
      "outputs": [
        {
          "output_type": "execute_result",
          "data": {
            "text/plain": [
              "{'onehotencoder': OneHotEncoder(handle_unknown='ignore', sparse=False),\n",
              " 'pipeline': Pipeline(steps=[('simpleimputer', SimpleImputer(strategy='median')),\n",
              "                 ('standardscaler', StandardScaler())])}"
            ]
          },
          "metadata": {},
          "execution_count": 60
        }
      ],
      "source": [
        "# Let's get out the column transformer steps\n",
        "preprocessor.named_transformers_"
      ]
    },
    {
      "cell_type": "code",
      "execution_count": 61,
      "metadata": {
        "id": "cQkyCxK00_RZ"
      },
      "outputs": [],
      "source": [
        "# Reference the one hot encoder\n",
        "cat_hot = preprocessor.named_transformers_['onehotencoder']"
      ]
    },
    {
      "cell_type": "code",
      "execution_count": 62,
      "metadata": {
        "colab": {
          "base_uri": "https://localhost:8080/"
        },
        "id": "thI8tKV31GlX",
        "outputId": "487caec9-376a-4f26-d2c3-abdf18d97c8e"
      },
      "outputs": [
        {
          "output_type": "execute_result",
          "data": {
            "text/plain": [
              "array(['quarter_Quarter1', 'quarter_Quarter2', 'quarter_Quarter3',\n",
              "       'quarter_Quarter4', 'quarter_Quarter5', 'department_finishing',\n",
              "       'department_sewing', 'day_Monday', 'day_Saturday', 'day_Sunday',\n",
              "       'day_Thursday', 'day_Tuesday', 'day_Wednesday', 'team_1', 'team_2',\n",
              "       'team_3', 'team_4', 'team_5', 'team_6', 'team_7', 'team_8',\n",
              "       'team_9', 'team_10', 'team_11', 'team_12', 'month_1', 'month_2',\n",
              "       'month_3', 'daynum_1', 'daynum_2', 'daynum_3', 'daynum_4',\n",
              "       'daynum_5', 'daynum_6', 'daynum_7', 'daynum_8', 'daynum_9',\n",
              "       'daynum_10', 'daynum_11', 'daynum_12', 'daynum_13', 'daynum_14',\n",
              "       'daynum_15', 'daynum_16', 'daynum_17', 'daynum_18', 'daynum_19',\n",
              "       'daynum_20', 'daynum_21', 'daynum_22', 'daynum_23', 'daynum_24',\n",
              "       'daynum_25', 'daynum_26', 'daynum_27', 'daynum_28', 'daynum_29',\n",
              "       'daynum_31'], dtype=object)"
            ]
          },
          "metadata": {},
          "execution_count": 62
        }
      ],
      "source": [
        "# Extract the feature names out from the one hot encoder\n",
        "cat_feature_names = cat_hot.get_feature_names_out(cat_selector(X_train))\n",
        "cat_feature_names "
      ]
    },
    {
      "cell_type": "code",
      "execution_count": 63,
      "metadata": {
        "colab": {
          "base_uri": "https://localhost:8080/"
        },
        "id": "DsIe_aqy5Z1Z",
        "outputId": "99e1d60c-47d8-4cfb-e57c-84842d7ff52c"
      },
      "outputs": [
        {
          "output_type": "execute_result",
          "data": {
            "text/plain": [
              "['targeted_productivity',\n",
              " 'smv',\n",
              " 'wip',\n",
              " 'over_time',\n",
              " 'incentive',\n",
              " 'idle_time',\n",
              " 'idle_men',\n",
              " 'no_of_style_change',\n",
              " 'no_of_workers',\n",
              " 'quarter_Quarter1',\n",
              " 'quarter_Quarter2',\n",
              " 'quarter_Quarter3',\n",
              " 'quarter_Quarter4',\n",
              " 'quarter_Quarter5',\n",
              " 'department_finishing',\n",
              " 'department_sewing',\n",
              " 'day_Monday',\n",
              " 'day_Saturday',\n",
              " 'day_Sunday',\n",
              " 'day_Thursday',\n",
              " 'day_Tuesday',\n",
              " 'day_Wednesday',\n",
              " 'team_1',\n",
              " 'team_2',\n",
              " 'team_3',\n",
              " 'team_4',\n",
              " 'team_5',\n",
              " 'team_6',\n",
              " 'team_7',\n",
              " 'team_8',\n",
              " 'team_9',\n",
              " 'team_10',\n",
              " 'team_11',\n",
              " 'team_12',\n",
              " 'month_1',\n",
              " 'month_2',\n",
              " 'month_3',\n",
              " 'daynum_1',\n",
              " 'daynum_2',\n",
              " 'daynum_3',\n",
              " 'daynum_4',\n",
              " 'daynum_5',\n",
              " 'daynum_6',\n",
              " 'daynum_7',\n",
              " 'daynum_8',\n",
              " 'daynum_9',\n",
              " 'daynum_10',\n",
              " 'daynum_11',\n",
              " 'daynum_12',\n",
              " 'daynum_13',\n",
              " 'daynum_14',\n",
              " 'daynum_15',\n",
              " 'daynum_16',\n",
              " 'daynum_17',\n",
              " 'daynum_18',\n",
              " 'daynum_19',\n",
              " 'daynum_20',\n",
              " 'daynum_21',\n",
              " 'daynum_22',\n",
              " 'daynum_23',\n",
              " 'daynum_24',\n",
              " 'daynum_25',\n",
              " 'daynum_26',\n",
              " 'daynum_27',\n",
              " 'daynum_28',\n",
              " 'daynum_29',\n",
              " 'daynum_31']"
            ]
          },
          "metadata": {},
          "execution_count": 63
        }
      ],
      "source": [
        "# Get the final column names which are numerical features + categorical features\n",
        "final_columns = num_selector(X_train) + list(cat_feature_names)\n",
        "final_columns"
      ]
    },
    {
      "cell_type": "code",
      "execution_count": 64,
      "metadata": {
        "id": "EbbQHLzJ5LSc"
      },
      "outputs": [],
      "source": [
        "# Change the X_train and X_test transformed columns to a dataframe\n",
        "X_train_df = pd.DataFrame(X_train_processed, columns = final_columns)\n",
        "X_test_df = pd.DataFrame(X_test_processed, columns = final_columns)"
      ]
    },
    {
      "cell_type": "code",
      "execution_count": 65,
      "metadata": {
        "colab": {
          "base_uri": "https://localhost:8080/",
          "height": 299
        },
        "id": "7GUMqg7y532o",
        "outputId": "4912e45b-5a7f-4d6d-bdf6-a77cf6862a97"
      },
      "outputs": [
        {
          "output_type": "execute_result",
          "data": {
            "text/plain": [
              "   targeted_productivity       smv       wip  over_time  incentive  idle_time  \\\n",
              "0               0.220792 -0.991508 -0.046420  -1.062218  -0.233135  -0.050096   \n",
              "1               0.220792 -0.972498 -0.046420  -1.277495  -0.233135  -0.050096   \n",
              "2               0.716377  0.690425  0.461194   0.677942   0.347900  -0.050096   \n",
              "3               0.220792  1.376596 -0.516113   0.785581  -0.233135  -0.050096   \n",
              "4              -0.274793 -0.315295 -0.340301  -0.344626  -0.035055  -0.050096   \n",
              "\n",
              "   idle_men  no_of_style_change  no_of_workers  quarter_Quarter1  ...  \\\n",
              "0 -0.110077           -0.354952      -1.174334               0.0  ...   \n",
              "1 -0.110077           -0.354952      -1.445149               0.0  ...   \n",
              "2 -0.110077           -0.354952       1.014751               0.0  ...   \n",
              "3 -0.110077            1.915698       1.127590               0.0  ...   \n",
              "4 -0.110077            4.186349       0.992183               0.0  ...   \n",
              "\n",
              "   daynum_21  daynum_22  daynum_23  daynum_24  daynum_25  daynum_26  \\\n",
              "0        0.0        0.0        0.0        0.0        0.0        0.0   \n",
              "1        0.0        0.0        0.0        0.0        0.0        0.0   \n",
              "2        0.0        0.0        0.0        0.0        0.0        0.0   \n",
              "3        0.0        0.0        0.0        0.0        0.0        0.0   \n",
              "4        0.0        0.0        0.0        0.0        0.0        0.0   \n",
              "\n",
              "   daynum_27  daynum_28  daynum_29  daynum_31  \n",
              "0        0.0        0.0        0.0        0.0  \n",
              "1        0.0        0.0        0.0        0.0  \n",
              "2        0.0        0.0        0.0        0.0  \n",
              "3        0.0        0.0        0.0        0.0  \n",
              "4        0.0        0.0        0.0        0.0  \n",
              "\n",
              "[5 rows x 67 columns]"
            ],
            "text/html": [
              "\n",
              "  <div id=\"df-5dda0814-20f4-4f10-a096-4bded9069bd0\">\n",
              "    <div class=\"colab-df-container\">\n",
              "      <div>\n",
              "<style scoped>\n",
              "    .dataframe tbody tr th:only-of-type {\n",
              "        vertical-align: middle;\n",
              "    }\n",
              "\n",
              "    .dataframe tbody tr th {\n",
              "        vertical-align: top;\n",
              "    }\n",
              "\n",
              "    .dataframe thead th {\n",
              "        text-align: right;\n",
              "    }\n",
              "</style>\n",
              "<table border=\"1\" class=\"dataframe\">\n",
              "  <thead>\n",
              "    <tr style=\"text-align: right;\">\n",
              "      <th></th>\n",
              "      <th>targeted_productivity</th>\n",
              "      <th>smv</th>\n",
              "      <th>wip</th>\n",
              "      <th>over_time</th>\n",
              "      <th>incentive</th>\n",
              "      <th>idle_time</th>\n",
              "      <th>idle_men</th>\n",
              "      <th>no_of_style_change</th>\n",
              "      <th>no_of_workers</th>\n",
              "      <th>quarter_Quarter1</th>\n",
              "      <th>...</th>\n",
              "      <th>daynum_21</th>\n",
              "      <th>daynum_22</th>\n",
              "      <th>daynum_23</th>\n",
              "      <th>daynum_24</th>\n",
              "      <th>daynum_25</th>\n",
              "      <th>daynum_26</th>\n",
              "      <th>daynum_27</th>\n",
              "      <th>daynum_28</th>\n",
              "      <th>daynum_29</th>\n",
              "      <th>daynum_31</th>\n",
              "    </tr>\n",
              "  </thead>\n",
              "  <tbody>\n",
              "    <tr>\n",
              "      <th>0</th>\n",
              "      <td>0.220792</td>\n",
              "      <td>-0.991508</td>\n",
              "      <td>-0.046420</td>\n",
              "      <td>-1.062218</td>\n",
              "      <td>-0.233135</td>\n",
              "      <td>-0.050096</td>\n",
              "      <td>-0.110077</td>\n",
              "      <td>-0.354952</td>\n",
              "      <td>-1.174334</td>\n",
              "      <td>0.0</td>\n",
              "      <td>...</td>\n",
              "      <td>0.0</td>\n",
              "      <td>0.0</td>\n",
              "      <td>0.0</td>\n",
              "      <td>0.0</td>\n",
              "      <td>0.0</td>\n",
              "      <td>0.0</td>\n",
              "      <td>0.0</td>\n",
              "      <td>0.0</td>\n",
              "      <td>0.0</td>\n",
              "      <td>0.0</td>\n",
              "    </tr>\n",
              "    <tr>\n",
              "      <th>1</th>\n",
              "      <td>0.220792</td>\n",
              "      <td>-0.972498</td>\n",
              "      <td>-0.046420</td>\n",
              "      <td>-1.277495</td>\n",
              "      <td>-0.233135</td>\n",
              "      <td>-0.050096</td>\n",
              "      <td>-0.110077</td>\n",
              "      <td>-0.354952</td>\n",
              "      <td>-1.445149</td>\n",
              "      <td>0.0</td>\n",
              "      <td>...</td>\n",
              "      <td>0.0</td>\n",
              "      <td>0.0</td>\n",
              "      <td>0.0</td>\n",
              "      <td>0.0</td>\n",
              "      <td>0.0</td>\n",
              "      <td>0.0</td>\n",
              "      <td>0.0</td>\n",
              "      <td>0.0</td>\n",
              "      <td>0.0</td>\n",
              "      <td>0.0</td>\n",
              "    </tr>\n",
              "    <tr>\n",
              "      <th>2</th>\n",
              "      <td>0.716377</td>\n",
              "      <td>0.690425</td>\n",
              "      <td>0.461194</td>\n",
              "      <td>0.677942</td>\n",
              "      <td>0.347900</td>\n",
              "      <td>-0.050096</td>\n",
              "      <td>-0.110077</td>\n",
              "      <td>-0.354952</td>\n",
              "      <td>1.014751</td>\n",
              "      <td>0.0</td>\n",
              "      <td>...</td>\n",
              "      <td>0.0</td>\n",
              "      <td>0.0</td>\n",
              "      <td>0.0</td>\n",
              "      <td>0.0</td>\n",
              "      <td>0.0</td>\n",
              "      <td>0.0</td>\n",
              "      <td>0.0</td>\n",
              "      <td>0.0</td>\n",
              "      <td>0.0</td>\n",
              "      <td>0.0</td>\n",
              "    </tr>\n",
              "    <tr>\n",
              "      <th>3</th>\n",
              "      <td>0.220792</td>\n",
              "      <td>1.376596</td>\n",
              "      <td>-0.516113</td>\n",
              "      <td>0.785581</td>\n",
              "      <td>-0.233135</td>\n",
              "      <td>-0.050096</td>\n",
              "      <td>-0.110077</td>\n",
              "      <td>1.915698</td>\n",
              "      <td>1.127590</td>\n",
              "      <td>0.0</td>\n",
              "      <td>...</td>\n",
              "      <td>0.0</td>\n",
              "      <td>0.0</td>\n",
              "      <td>0.0</td>\n",
              "      <td>0.0</td>\n",
              "      <td>0.0</td>\n",
              "      <td>0.0</td>\n",
              "      <td>0.0</td>\n",
              "      <td>0.0</td>\n",
              "      <td>0.0</td>\n",
              "      <td>0.0</td>\n",
              "    </tr>\n",
              "    <tr>\n",
              "      <th>4</th>\n",
              "      <td>-0.274793</td>\n",
              "      <td>-0.315295</td>\n",
              "      <td>-0.340301</td>\n",
              "      <td>-0.344626</td>\n",
              "      <td>-0.035055</td>\n",
              "      <td>-0.050096</td>\n",
              "      <td>-0.110077</td>\n",
              "      <td>4.186349</td>\n",
              "      <td>0.992183</td>\n",
              "      <td>0.0</td>\n",
              "      <td>...</td>\n",
              "      <td>0.0</td>\n",
              "      <td>0.0</td>\n",
              "      <td>0.0</td>\n",
              "      <td>0.0</td>\n",
              "      <td>0.0</td>\n",
              "      <td>0.0</td>\n",
              "      <td>0.0</td>\n",
              "      <td>0.0</td>\n",
              "      <td>0.0</td>\n",
              "      <td>0.0</td>\n",
              "    </tr>\n",
              "  </tbody>\n",
              "</table>\n",
              "<p>5 rows × 67 columns</p>\n",
              "</div>\n",
              "      <button class=\"colab-df-convert\" onclick=\"convertToInteractive('df-5dda0814-20f4-4f10-a096-4bded9069bd0')\"\n",
              "              title=\"Convert this dataframe to an interactive table.\"\n",
              "              style=\"display:none;\">\n",
              "        \n",
              "  <svg xmlns=\"http://www.w3.org/2000/svg\" height=\"24px\"viewBox=\"0 0 24 24\"\n",
              "       width=\"24px\">\n",
              "    <path d=\"M0 0h24v24H0V0z\" fill=\"none\"/>\n",
              "    <path d=\"M18.56 5.44l.94 2.06.94-2.06 2.06-.94-2.06-.94-.94-2.06-.94 2.06-2.06.94zm-11 1L8.5 8.5l.94-2.06 2.06-.94-2.06-.94L8.5 2.5l-.94 2.06-2.06.94zm10 10l.94 2.06.94-2.06 2.06-.94-2.06-.94-.94-2.06-.94 2.06-2.06.94z\"/><path d=\"M17.41 7.96l-1.37-1.37c-.4-.4-.92-.59-1.43-.59-.52 0-1.04.2-1.43.59L10.3 9.45l-7.72 7.72c-.78.78-.78 2.05 0 2.83L4 21.41c.39.39.9.59 1.41.59.51 0 1.02-.2 1.41-.59l7.78-7.78 2.81-2.81c.8-.78.8-2.07 0-2.86zM5.41 20L4 18.59l7.72-7.72 1.47 1.35L5.41 20z\"/>\n",
              "  </svg>\n",
              "      </button>\n",
              "      \n",
              "  <style>\n",
              "    .colab-df-container {\n",
              "      display:flex;\n",
              "      flex-wrap:wrap;\n",
              "      gap: 12px;\n",
              "    }\n",
              "\n",
              "    .colab-df-convert {\n",
              "      background-color: #E8F0FE;\n",
              "      border: none;\n",
              "      border-radius: 50%;\n",
              "      cursor: pointer;\n",
              "      display: none;\n",
              "      fill: #1967D2;\n",
              "      height: 32px;\n",
              "      padding: 0 0 0 0;\n",
              "      width: 32px;\n",
              "    }\n",
              "\n",
              "    .colab-df-convert:hover {\n",
              "      background-color: #E2EBFA;\n",
              "      box-shadow: 0px 1px 2px rgba(60, 64, 67, 0.3), 0px 1px 3px 1px rgba(60, 64, 67, 0.15);\n",
              "      fill: #174EA6;\n",
              "    }\n",
              "\n",
              "    [theme=dark] .colab-df-convert {\n",
              "      background-color: #3B4455;\n",
              "      fill: #D2E3FC;\n",
              "    }\n",
              "\n",
              "    [theme=dark] .colab-df-convert:hover {\n",
              "      background-color: #434B5C;\n",
              "      box-shadow: 0px 1px 3px 1px rgba(0, 0, 0, 0.15);\n",
              "      filter: drop-shadow(0px 1px 2px rgba(0, 0, 0, 0.3));\n",
              "      fill: #FFFFFF;\n",
              "    }\n",
              "  </style>\n",
              "\n",
              "      <script>\n",
              "        const buttonEl =\n",
              "          document.querySelector('#df-5dda0814-20f4-4f10-a096-4bded9069bd0 button.colab-df-convert');\n",
              "        buttonEl.style.display =\n",
              "          google.colab.kernel.accessAllowed ? 'block' : 'none';\n",
              "\n",
              "        async function convertToInteractive(key) {\n",
              "          const element = document.querySelector('#df-5dda0814-20f4-4f10-a096-4bded9069bd0');\n",
              "          const dataTable =\n",
              "            await google.colab.kernel.invokeFunction('convertToInteractive',\n",
              "                                                     [key], {});\n",
              "          if (!dataTable) return;\n",
              "\n",
              "          const docLinkHtml = 'Like what you see? Visit the ' +\n",
              "            '<a target=\"_blank\" href=https://colab.research.google.com/notebooks/data_table.ipynb>data table notebook</a>'\n",
              "            + ' to learn more about interactive tables.';\n",
              "          element.innerHTML = '';\n",
              "          dataTable['output_type'] = 'display_data';\n",
              "          await google.colab.output.renderOutput(dataTable, element);\n",
              "          const docLink = document.createElement('div');\n",
              "          docLink.innerHTML = docLinkHtml;\n",
              "          element.appendChild(docLink);\n",
              "        }\n",
              "      </script>\n",
              "    </div>\n",
              "  </div>\n",
              "  "
            ]
          },
          "metadata": {},
          "execution_count": 65
        }
      ],
      "source": [
        "# View the first five rows of the X_train transformed dataframe\n",
        "\n",
        "X_train_df.head()"
      ]
    },
    {
      "cell_type": "code",
      "execution_count": 66,
      "metadata": {
        "colab": {
          "base_uri": "https://localhost:8080/"
        },
        "id": "swW2IhK-6EVI",
        "outputId": "acf31f70-a6bb-475a-900e-01a170304d9b"
      },
      "outputs": [
        {
          "output_type": "stream",
          "name": "stdout",
          "text": [
            "<class 'pandas.core.frame.DataFrame'>\n",
            "RangeIndex: 870 entries, 0 to 869\n",
            "Data columns (total 67 columns):\n",
            " #   Column                 Non-Null Count  Dtype  \n",
            "---  ------                 --------------  -----  \n",
            " 0   targeted_productivity  870 non-null    float64\n",
            " 1   smv                    870 non-null    float64\n",
            " 2   wip                    870 non-null    float64\n",
            " 3   over_time              870 non-null    float64\n",
            " 4   incentive              870 non-null    float64\n",
            " 5   idle_time              870 non-null    float64\n",
            " 6   idle_men               870 non-null    float64\n",
            " 7   no_of_style_change     870 non-null    float64\n",
            " 8   no_of_workers          870 non-null    float64\n",
            " 9   quarter_Quarter1       870 non-null    float64\n",
            " 10  quarter_Quarter2       870 non-null    float64\n",
            " 11  quarter_Quarter3       870 non-null    float64\n",
            " 12  quarter_Quarter4       870 non-null    float64\n",
            " 13  quarter_Quarter5       870 non-null    float64\n",
            " 14  department_finishing   870 non-null    float64\n",
            " 15  department_sewing      870 non-null    float64\n",
            " 16  day_Monday             870 non-null    float64\n",
            " 17  day_Saturday           870 non-null    float64\n",
            " 18  day_Sunday             870 non-null    float64\n",
            " 19  day_Thursday           870 non-null    float64\n",
            " 20  day_Tuesday            870 non-null    float64\n",
            " 21  day_Wednesday          870 non-null    float64\n",
            " 22  team_1                 870 non-null    float64\n",
            " 23  team_2                 870 non-null    float64\n",
            " 24  team_3                 870 non-null    float64\n",
            " 25  team_4                 870 non-null    float64\n",
            " 26  team_5                 870 non-null    float64\n",
            " 27  team_6                 870 non-null    float64\n",
            " 28  team_7                 870 non-null    float64\n",
            " 29  team_8                 870 non-null    float64\n",
            " 30  team_9                 870 non-null    float64\n",
            " 31  team_10                870 non-null    float64\n",
            " 32  team_11                870 non-null    float64\n",
            " 33  team_12                870 non-null    float64\n",
            " 34  month_1                870 non-null    float64\n",
            " 35  month_2                870 non-null    float64\n",
            " 36  month_3                870 non-null    float64\n",
            " 37  daynum_1               870 non-null    float64\n",
            " 38  daynum_2               870 non-null    float64\n",
            " 39  daynum_3               870 non-null    float64\n",
            " 40  daynum_4               870 non-null    float64\n",
            " 41  daynum_5               870 non-null    float64\n",
            " 42  daynum_6               870 non-null    float64\n",
            " 43  daynum_7               870 non-null    float64\n",
            " 44  daynum_8               870 non-null    float64\n",
            " 45  daynum_9               870 non-null    float64\n",
            " 46  daynum_10              870 non-null    float64\n",
            " 47  daynum_11              870 non-null    float64\n",
            " 48  daynum_12              870 non-null    float64\n",
            " 49  daynum_13              870 non-null    float64\n",
            " 50  daynum_14              870 non-null    float64\n",
            " 51  daynum_15              870 non-null    float64\n",
            " 52  daynum_16              870 non-null    float64\n",
            " 53  daynum_17              870 non-null    float64\n",
            " 54  daynum_18              870 non-null    float64\n",
            " 55  daynum_19              870 non-null    float64\n",
            " 56  daynum_20              870 non-null    float64\n",
            " 57  daynum_21              870 non-null    float64\n",
            " 58  daynum_22              870 non-null    float64\n",
            " 59  daynum_23              870 non-null    float64\n",
            " 60  daynum_24              870 non-null    float64\n",
            " 61  daynum_25              870 non-null    float64\n",
            " 62  daynum_26              870 non-null    float64\n",
            " 63  daynum_27              870 non-null    float64\n",
            " 64  daynum_28              870 non-null    float64\n",
            " 65  daynum_29              870 non-null    float64\n",
            " 66  daynum_31              870 non-null    float64\n",
            "dtypes: float64(67)\n",
            "memory usage: 455.5 KB\n"
          ]
        }
      ],
      "source": [
        "X_train_df.info()"
      ]
    },
    {
      "cell_type": "markdown",
      "metadata": {
        "id": "4r_BkDrF_b_1"
      },
      "source": [
        "- We can see the new column names from one-hot encoding in the dataframe. We also confirm that there are 56 columns and 870 rows now."
      ]
    },
    {
      "cell_type": "markdown",
      "metadata": {
        "id": "PVlIkBm4jsW-"
      },
      "source": [
        "## 19) Logistic Regression"
      ]
    },
    {
      "cell_type": "code",
      "execution_count": 67,
      "metadata": {
        "id": "PQnNKU_xaEEQ"
      },
      "outputs": [],
      "source": [
        "# Make an instance of the model with default parameters\n",
        "logreg = LogisticRegression()\n",
        "# Create and fit pipeline\n",
        "logreg_pipe = make_pipeline(preprocessor, logreg)\n",
        "# Training the model on the data, storing the information learned from the data\n",
        "# Model is learning the relationship between X and y \n",
        "logreg_pipe.fit(X_train, y_train)\n",
        "# Save predictions \n",
        "logreg_train_predictions = logreg_pipe.predict(X_train)\n",
        "logreg_test_predictions = logreg_pipe.predict(X_test)"
      ]
    },
    {
      "cell_type": "code",
      "execution_count": 68,
      "metadata": {
        "colab": {
          "base_uri": "https://localhost:8080/"
        },
        "id": "zAz21Ppit3ad",
        "outputId": "ddc3a34a-feaf-439f-d9aa-fbf0d47d2cf3"
      },
      "outputs": [
        {
          "output_type": "stream",
          "name": "stdout",
          "text": [
            "Training Metrics\n",
            "              precision    recall  f1-score   support\n",
            "\n",
            "          No     0.6463    0.4008    0.4948       237\n",
            "         Yes     0.8036    0.9179    0.8569       633\n",
            "\n",
            "    accuracy                         0.7770       870\n",
            "   macro avg     0.7249    0.6593    0.6759       870\n",
            "weighted avg     0.7607    0.7770    0.7583       870\n",
            "\n",
            "\n",
            "Testing Metrics\n",
            "              precision    recall  f1-score   support\n",
            "\n",
            "          No     0.5600    0.3294    0.4148        85\n",
            "         Yes     0.7625    0.8927    0.8225       205\n",
            "\n",
            "    accuracy                         0.7276       290\n",
            "   macro avg     0.6613    0.6110    0.6186       290\n",
            "weighted avg     0.7031    0.7276    0.7030       290\n",
            "\n"
          ]
        }
      ],
      "source": [
        "# Run a classification report on both train and test datasets.\n",
        "print('Training Metrics')\n",
        "print(classification_report(y_train, logreg_train_predictions, digits = 4))\n",
        "print('\\nTesting Metrics')\n",
        "print(classification_report(y_test, logreg_test_predictions, digits = 4))"
      ]
    },
    {
      "cell_type": "markdown",
      "metadata": {
        "id": "x-PaSGIBm8tJ"
      },
      "source": [
        "- The results from the default logistic model are okay, but not that great. The model did better on the training set than the test set. However, the accuracy values of the training and test sets are close to each other, meaning the model is not overfit. Let's see if we can improve the accuracy on our test set by changing the value of C."
      ]
    },
    {
      "cell_type": "markdown",
      "metadata": {
        "id": "LukVvnpLnQps"
      },
      "source": [
        "**a) L1 Tuning**"
      ]
    },
    {
      "cell_type": "code",
      "execution_count": 69,
      "metadata": {
        "colab": {
          "base_uri": "https://localhost:8080/",
          "height": 430
        },
        "id": "wLmTE3J1kYBG",
        "outputId": "fc8ec0e9-ab07-4e94-9759-d63ee99cfa32"
      },
      "outputs": [
        {
          "output_type": "execute_result",
          "data": {
            "text/plain": [
              "{0.0001: 0.29310344827586204,\n",
              " 0.001: 0.29310344827586204,\n",
              " 0.01: 0.7068965517241379,\n",
              " 0.1: 0.7241379310344828,\n",
              " 1: 0.7482758620689656,\n",
              " 10: 0.7344827586206897,\n",
              " 100: 0.7344827586206897,\n",
              " 1000: 0.7344827586206897}"
            ]
          },
          "metadata": {},
          "execution_count": 69
        },
        {
          "output_type": "display_data",
          "data": {
            "text/plain": [
              "<Figure size 432x288 with 1 Axes>"
            ],
            "image/png": "[encoded data removed]"
          },
          "metadata": {
            "needs_background": "light"
          }
        }
      ],
      "source": [
        "# create a list of c values and empty lists for scores\n",
        "c_values = [0.0001, 0.001, 0.01, 0.1, 1, 10, 100, 1000]\n",
        "train_scores = []\n",
        "test_scores = []\n",
        "#iterative over the c values\n",
        "for c in c_values:\n",
        " \n",
        "  # instantiate a model with each value of c and fit it on the data\n",
        "  log_reg = LogisticRegression(C=c, max_iter=1000, solver='liblinear', penalty='l1')\n",
        "  log_reg_pipe = make_pipeline(preprocessor, log_reg)\n",
        "  log_reg_pipe.fit(X_train, y_train)\n",
        " \n",
        "  # add the training and testing scores to our scores lists\n",
        "  train_scores.append(log_reg_pipe.score(X_train, y_train))\n",
        "  test_scores.append(log_reg_pipe.score(X_test, y_test))\n",
        " \n",
        "#plot the change in accuracy as we change the value of C\n",
        "fig, ax = plt.subplots(1,1)\n",
        "ax.plot(c_values, train_scores, label='Training Accuracy')\n",
        "ax.plot(c_values, test_scores, label='Testing Accuracy')\n",
        "ax.set_xticks(c_values)\n",
        "ax.set_title('Change in accuracy over C values for l1 regularization')\n",
        "ax.legend()\n",
        " \n",
        "#set the x axis to a logarithmic scale to show the values of C in even intervals\n",
        "ax.set_xscale('log')\n",
        "# print a dictionary of values of C and accuracy scores\n",
        "{c:score for c, score in zip(c_values, test_scores)}"
      ]
    },
    {
      "cell_type": "markdown",
      "metadata": {
        "id": "qkroWKPiob3K"
      },
      "source": [
        "- According to this graph we get the best accuracy on the test set when C=1. The accuracy is 0.748. The accuracy on our test set after L1 tuning is slightly better than our default model whose test set accuracy is 0.728."
      ]
    },
    {
      "cell_type": "markdown",
      "metadata": {
        "id": "anKNu3xioyp8"
      },
      "source": [
        "**b) L2 Tuning**"
      ]
    },
    {
      "cell_type": "code",
      "execution_count": 70,
      "metadata": {
        "colab": {
          "base_uri": "https://localhost:8080/",
          "height": 430
        },
        "id": "Vwg2IY1oouxm",
        "outputId": "ecc05ec5-f6fd-4f0f-9d9d-1d757ac7a1d0"
      },
      "outputs": [
        {
          "output_type": "execute_result",
          "data": {
            "text/plain": [
              "{0.0001: 0.7137931034482758,\n",
              " 0.001: 0.7137931034482758,\n",
              " 0.01: 0.7275862068965517,\n",
              " 0.1: 0.7241379310344828,\n",
              " 1: 0.7310344827586207,\n",
              " 10: 0.7344827586206897,\n",
              " 100: 0.7344827586206897,\n",
              " 1000: 0.7344827586206897}"
            ]
          },
          "metadata": {},
          "execution_count": 70
        },
        {
          "output_type": "display_data",
          "data": {
            "text/plain": [
              "<Figure size 432x288 with 1 Axes>"
            ],
            "image/png": "[encoded data removed]"
          },
          "metadata": {
            "needs_background": "light"
          }
        }
      ],
      "source": [
        "# create a list of c values and empty lists for scores\n",
        "c_values = [0.0001, 0.001, 0.01, 0.1, 1, 10, 100, 1000]\n",
        "train_scores = []\n",
        "test_scores = []\n",
        "#iterative over the c values\n",
        "for c in c_values:\n",
        "  # instantiate a model with each value of c and fit it on the data\n",
        "  log_reg = LogisticRegression(C=c, max_iter=1000, solver='liblinear', penalty='l2')\n",
        "  log_reg_pipe = make_pipeline(preprocessor, log_reg)\n",
        "  log_reg_pipe.fit(X_train, y_train)\n",
        " \n",
        "  # add the training and testing scores to our scores lists\n",
        "  train_scores.append(log_reg_pipe.score(X_train, y_train))\n",
        "  test_scores.append(log_reg_pipe.score(X_test, y_test))\n",
        "  \n",
        "#plot the change in accuracy as we change the value of C\n",
        "fig, ax = plt.subplots(1,1)\n",
        "ax.plot(c_values, train_scores, label='Training Accuracy')\n",
        "ax.plot(c_values, test_scores, label='Testing Accuracy')\n",
        "ax.set_xticks(c_values)\n",
        "ax.set_title('Change in accuracy over C values for l2 regularization')\n",
        "ax.legend()\n",
        "#set the x axis to a logarithmic scale to show the values of C in even intervals\n",
        "ax.set_xscale('log')\n",
        "# print a dictionary of values of C and accuracy scores\n",
        "{c:score for c, score in zip(c_values, test_scores)}\n"
      ]
    },
    {
      "cell_type": "markdown",
      "metadata": {
        "id": "45l7FqAwp7Bi"
      },
      "source": [
        "- According to this graph, we get the best accuracy on the test set when C=10. This is the same accuracy when C= 100 and C=1000. The accuracy is 0.734. The accuracy on our test set after L2 tuning is better than our default model but not as good as the accuracy after L1 tuning. The test set accuracy of our default model is 0.728."
      ]
    },
    {
      "cell_type": "markdown",
      "metadata": {
        "id": "B6EKQ4aAqOiG"
      },
      "source": [
        "We can see that our L1 tuned logistic regression model works best with a C value of 1.0."
      ]
    },
    {
      "cell_type": "markdown",
      "metadata": {
        "id": "0YMjtdPU5k5A"
      },
      "source": [
        "**c) Confusion Matrices**\n",
        "\n",
        "- We will use C value of 1"
      ]
    },
    {
      "cell_type": "code",
      "execution_count": 71,
      "metadata": {
        "id": "CMvIC1h26wyk"
      },
      "outputs": [],
      "source": [
        "# Make an instance of the model\n",
        "logregC = LogisticRegression(C = 1)\n",
        "# Create and fit pipeline\n",
        "logregC_pipe = make_pipeline(preprocessor, logreg)\n",
        "# Training the model on the data, storing the information learned from the data\n",
        "# Model is learning the relationship between X and y \n",
        "logregC_pipe.fit(X_train, y_train)\n",
        "# Save predictions \n",
        "logregC_train_predictions = logreg_pipe.predict(X_train)\n",
        "logregC_test_predictions = logreg_pipe.predict(X_test)"
      ]
    },
    {
      "cell_type": "code",
      "execution_count": 72,
      "metadata": {
        "colab": {
          "base_uri": "https://localhost:8080/",
          "height": 297
        },
        "id": "nD846KY05mF8",
        "outputId": "191bf5bd-4375-4cb7-c3f5-91d00f178903"
      },
      "outputs": [
        {
          "output_type": "execute_result",
          "data": {
            "text/plain": [
              "<sklearn.metrics._plot.confusion_matrix.ConfusionMatrixDisplay at 0x7f0258d04a50>"
            ]
          },
          "metadata": {},
          "execution_count": 72
        },
        {
          "output_type": "display_data",
          "data": {
            "text/plain": [
              "<Figure size 576x288 with 2 Axes>"
            ],
            "image/png": "[encoded data removed]"
          },
          "metadata": {
            "needs_background": "light"
          }
        }
      ],
      "source": [
        "# \"The following Code (\"fig, ax\") adapted from: https://panjeh.medium.com/figure-size-plot-confusion-matrix-in-scikit-learn-2c66f3a69d81\"\n",
        "fig, ax = plt.subplots(figsize=(8, 4))\n",
        "ConfusionMatrixDisplay.from_predictions(y_test, logregC_test_predictions, cmap = 'Blues',  normalize = 'true', ax=ax)"
      ]
    },
    {
      "cell_type": "markdown",
      "metadata": {
        "id": "v-SACQIO5mF9"
      },
      "source": [
        "Our optimized logistic regression model correctly classified 89% of the samples in our test set that were class '**Yes**' (representing employee teams that met or exceeded their target productivity), and 33% of the samples in our test set that were class '**No**' (employee teams that did not meet or exceed their target productivity)."
      ]
    },
    {
      "cell_type": "markdown",
      "metadata": {
        "id": "65-5LjQyukE_"
      },
      "source": [
        "## **SMOTE** (Logistic Regression)"
      ]
    },
    {
      "cell_type": "code",
      "execution_count": 73,
      "metadata": {
        "id": "Fei7PSkgukFA"
      },
      "outputs": [],
      "source": [
        "from imblearn.over_sampling import SMOTE, SMOTENC"
      ]
    },
    {
      "cell_type": "code",
      "execution_count": 74,
      "metadata": {
        "colab": {
          "base_uri": "https://localhost:8080/"
        },
        "id": "Xd4z4c_rukFA",
        "outputId": "bda89329-37b5-4b16-9122-6fac57cd2c86"
      },
      "outputs": [
        {
          "output_type": "execute_result",
          "data": {
            "text/plain": [
              "Yes    633\n",
              "No     237\n",
              "Name: met_goal, dtype: int64"
            ]
          },
          "metadata": {},
          "execution_count": 74
        }
      ],
      "source": [
        "pd.Series(y_train).value_counts()"
      ]
    },
    {
      "cell_type": "code",
      "execution_count": 75,
      "metadata": {
        "colab": {
          "base_uri": "https://localhost:8080/"
        },
        "id": "pVA9MVgCukFB",
        "outputId": "441be79d-2bd0-4087-ee23-f6e4922c3d7b"
      },
      "outputs": [
        {
          "output_type": "execute_result",
          "data": {
            "text/plain": [
              "Yes    633\n",
              "No     633\n",
              "Name: met_goal, dtype: int64"
            ]
          },
          "metadata": {},
          "execution_count": 75
        }
      ],
      "source": [
        "smote = SMOTE(sampling_strategy = 'auto')\n",
        "\n",
        "X_train_smote, y_train_smote = smote.fit_resample(X_train_processed, y_train)\n",
        "pd.Series(y_train_smote).value_counts()"
      ]
    },
    {
      "cell_type": "code",
      "execution_count": 76,
      "metadata": {
        "colab": {
          "base_uri": "https://localhost:8080/",
          "height": 75
        },
        "id": "WmGZ50iJukFB",
        "outputId": "a1d70dca-6fad-452c-fd68-a128ceba8e34"
      },
      "outputs": [
        {
          "output_type": "execute_result",
          "data": {
            "text/plain": [
              "LogisticRegression(max_iter=1000)"
            ],
            "text/html": [
              "<style>#sk-f1085c18-4dd9-4ba7-a239-8dee6d3ad0ec {color: black;background-color: white;}#sk-f1085c18-4dd9-4ba7-a239-8dee6d3ad0ec pre{padding: 0;}#sk-f1085c18-4dd9-4ba7-a239-8dee6d3ad0ec div.sk-toggleable {background-color: white;}#sk-f1085c18-4dd9-4ba7-a239-8dee6d3ad0ec label.sk-toggleable__label {cursor: pointer;display: block;width: 100%;margin-bottom: 0;padding: 0.3em;box-sizing: border-box;text-align: center;}#sk-f1085c18-4dd9-4ba7-a239-8dee6d3ad0ec label.sk-toggleable__label-arrow:before {content: \"▸\";float: left;margin-right: 0.25em;color: #696969;}#sk-f1085c18-4dd9-4ba7-a239-8dee6d3ad0ec label.sk-toggleable__label-arrow:hover:before {color: black;}#sk-f1085c18-4dd9-4ba7-a239-8dee6d3ad0ec div.sk-estimator:hover label.sk-toggleable__label-arrow:before {color: black;}#sk-f1085c18-4dd9-4ba7-a239-8dee6d3ad0ec div.sk-toggleable__content {max-height: 0;max-width: 0;overflow: hidden;text-align: left;background-color: #f0f8ff;}#sk-f1085c18-4dd9-4ba7-a239-8dee6d3ad0ec div.sk-toggleable__content pre {margin: 0.2em;color: black;border-radius: 0.25em;background-color: #f0f8ff;}#sk-f1085c18-4dd9-4ba7-a239-8dee6d3ad0ec input.sk-toggleable__control:checked~div.sk-toggleable__content {max-height: 200px;max-width: 100%;overflow: auto;}#sk-f1085c18-4dd9-4ba7-a239-8dee6d3ad0ec input.sk-toggleable__control:checked~label.sk-toggleable__label-arrow:before {content: \"▾\";}#sk-f1085c18-4dd9-4ba7-a239-8dee6d3ad0ec div.sk-estimator input.sk-toggleable__control:checked~label.sk-toggleable__label {background-color: #d4ebff;}#sk-f1085c18-4dd9-4ba7-a239-8dee6d3ad0ec div.sk-label input.sk-toggleable__control:checked~label.sk-toggleable__label {background-color: #d4ebff;}#sk-f1085c18-4dd9-4ba7-a239-8dee6d3ad0ec input.sk-hidden--visually {border: 0;clip: rect(1px 1px 1px 1px);clip: rect(1px, 1px, 1px, 1px);height: 1px;margin: -1px;overflow: hidden;padding: 0;position: absolute;width: 1px;}#sk-f1085c18-4dd9-4ba7-a239-8dee6d3ad0ec div.sk-estimator {font-family: monospace;background-color: #f0f8ff;border: 1px dotted black;border-radius: 0.25em;box-sizing: border-box;margin-bottom: 0.5em;}#sk-f1085c18-4dd9-4ba7-a239-8dee6d3ad0ec div.sk-estimator:hover {background-color: #d4ebff;}#sk-f1085c18-4dd9-4ba7-a239-8dee6d3ad0ec div.sk-parallel-item::after {content: \"\";width: 100%;border-bottom: 1px solid gray;flex-grow: 1;}#sk-f1085c18-4dd9-4ba7-a239-8dee6d3ad0ec div.sk-label:hover label.sk-toggleable__label {background-color: #d4ebff;}#sk-f1085c18-4dd9-4ba7-a239-8dee6d3ad0ec div.sk-serial::before {content: \"\";position: absolute;border-left: 1px solid gray;box-sizing: border-box;top: 2em;bottom: 0;left: 50%;}#sk-f1085c18-4dd9-4ba7-a239-8dee6d3ad0ec div.sk-serial {display: flex;flex-direction: column;align-items: center;background-color: white;padding-right: 0.2em;padding-left: 0.2em;}#sk-f1085c18-4dd9-4ba7-a239-8dee6d3ad0ec div.sk-item {z-index: 1;}#sk-f1085c18-4dd9-4ba7-a239-8dee6d3ad0ec div.sk-parallel {display: flex;align-items: stretch;justify-content: center;background-color: white;}#sk-f1085c18-4dd9-4ba7-a239-8dee6d3ad0ec div.sk-parallel::before {content: \"\";position: absolute;border-left: 1px solid gray;box-sizing: border-box;top: 2em;bottom: 0;left: 50%;}#sk-f1085c18-4dd9-4ba7-a239-8dee6d3ad0ec div.sk-parallel-item {display: flex;flex-direction: column;position: relative;background-color: white;}#sk-f1085c18-4dd9-4ba7-a239-8dee6d3ad0ec div.sk-parallel-item:first-child::after {align-self: flex-end;width: 50%;}#sk-f1085c18-4dd9-4ba7-a239-8dee6d3ad0ec div.sk-parallel-item:last-child::after {align-self: flex-start;width: 50%;}#sk-f1085c18-4dd9-4ba7-a239-8dee6d3ad0ec div.sk-parallel-item:only-child::after {width: 0;}#sk-f1085c18-4dd9-4ba7-a239-8dee6d3ad0ec div.sk-dashed-wrapped {border: 1px dashed gray;margin: 0 0.4em 0.5em 0.4em;box-sizing: border-box;padding-bottom: 0.4em;background-color: white;position: relative;}#sk-f1085c18-4dd9-4ba7-a239-8dee6d3ad0ec div.sk-label label {font-family: monospace;font-weight: bold;background-color: white;display: inline-block;line-height: 1.2em;}#sk-f1085c18-4dd9-4ba7-a239-8dee6d3ad0ec div.sk-label-container {position: relative;z-index: 2;text-align: center;}#sk-f1085c18-4dd9-4ba7-a239-8dee6d3ad0ec div.sk-container {/* jupyter's `normalize.less` sets `[hidden] { display: none; }` but bootstrap.min.css set `[hidden] { display: none !important; }` so we also need the `!important` here to be able to override the default hidden behavior on the sphinx rendered scikit-learn.org. See: https://github.com/scikit-learn/scikit-learn/issues/21755 */display: inline-block !important;position: relative;}#sk-f1085c18-4dd9-4ba7-a239-8dee6d3ad0ec div.sk-text-repr-fallback {display: none;}</style><div id=\"sk-f1085c18-4dd9-4ba7-a239-8dee6d3ad0ec\" class=\"sk-top-container\"><div class=\"sk-text-repr-fallback\"><pre>LogisticRegression(max_iter=1000)</pre><b>Please rerun this cell to show the HTML repr or trust the notebook.</b></div><div class=\"sk-container\" hidden><div class=\"sk-item\"><div class=\"sk-estimator sk-toggleable\"><input class=\"sk-toggleable__control sk-hidden--visually\" id=\"80c1d2a4-77b0-4a66-81e7-73aebb4228f2\" type=\"checkbox\" checked><label for=\"80c1d2a4-77b0-4a66-81e7-73aebb4228f2\" class=\"sk-toggleable__label sk-toggleable__label-arrow\">LogisticRegression</label><div class=\"sk-toggleable__content\"><pre>LogisticRegression(max_iter=1000)</pre></div></div></div></div></div>"
            ]
          },
          "metadata": {},
          "execution_count": 76
        }
      ],
      "source": [
        "smote_logreg = LogisticRegression(max_iter = 1000)\n",
        "smote_logreg.fit(X_train_smote, y_train_smote)"
      ]
    },
    {
      "cell_type": "code",
      "execution_count": 77,
      "metadata": {
        "id": "3idr2lcXukFC"
      },
      "outputs": [],
      "source": [
        "# Save predictions \n",
        "smote_logreg_train_predictions = smote_logreg.predict(X_train_smote)\n",
        "smote_logreg_test_predictions = smote_logreg.predict(X_test_processed)"
      ]
    },
    {
      "cell_type": "code",
      "execution_count": 78,
      "metadata": {
        "colab": {
          "base_uri": "https://localhost:8080/"
        },
        "id": "MwlHbqAUukFC",
        "outputId": "f24d9a0a-eacb-4e2f-d8a1-d8e318968d8f"
      },
      "outputs": [
        {
          "output_type": "stream",
          "name": "stdout",
          "text": [
            "Training Metrics\n",
            "              precision    recall  f1-score   support\n",
            "\n",
            "          No     0.7489    0.8009    0.7740       633\n",
            "         Yes     0.7861    0.7314    0.7578       633\n",
            "\n",
            "    accuracy                         0.7662      1266\n",
            "   macro avg     0.7675    0.7662    0.7659      1266\n",
            "weighted avg     0.7675    0.7662    0.7659      1266\n",
            "\n",
            "\n",
            "Testing Metrics\n",
            "              precision    recall  f1-score   support\n",
            "\n",
            "          No     0.4876    0.6941    0.5728        85\n",
            "         Yes     0.8462    0.6976    0.7647       205\n",
            "\n",
            "    accuracy                         0.6966       290\n",
            "   macro avg     0.6669    0.6958    0.6688       290\n",
            "weighted avg     0.7411    0.6966    0.7085       290\n",
            "\n"
          ]
        }
      ],
      "source": [
        "# Run a classification report on both train and test datasets.\n",
        "print('Training Metrics')\n",
        "print(classification_report(y_train_smote, smote_logreg_train_predictions, digits = 4))\n",
        "print('\\nTesting Metrics')\n",
        "print(classification_report(y_test, smote_logreg_test_predictions, digits = 4))"
      ]
    },
    {
      "cell_type": "markdown",
      "metadata": {
        "id": "8S9sm67eISZL"
      },
      "source": [
        "**a) L1 Tuning**"
      ]
    },
    {
      "cell_type": "code",
      "execution_count": 79,
      "metadata": {
        "colab": {
          "base_uri": "https://localhost:8080/",
          "height": 430
        },
        "id": "kf3FoDlNISZL",
        "outputId": "bb193c19-484a-4f55-c7f9-320783f53c99"
      },
      "outputs": [
        {
          "output_type": "execute_result",
          "data": {
            "text/plain": [
              "{0.0001: 0.29310344827586204,\n",
              " 0.001: 0.29310344827586204,\n",
              " 0.01: 0.5793103448275863,\n",
              " 0.1: 0.6517241379310345,\n",
              " 1: 0.696551724137931,\n",
              " 10: 0.696551724137931,\n",
              " 100: 0.7,\n",
              " 1000: 0.7}"
            ]
          },
          "metadata": {},
          "execution_count": 79
        },
        {
          "output_type": "display_data",
          "data": {
            "text/plain": [
              "<Figure size 432x288 with 1 Axes>"
            ],
            "image/png": "[encoded data removed]"
          },
          "metadata": {
            "needs_background": "light"
          }
        }
      ],
      "source": [
        "# create a list of c values and empty lists for scores\n",
        "c_values = [0.0001, 0.001, 0.01, 0.1, 1, 10, 100, 1000]\n",
        "train_scores = []\n",
        "test_scores = []\n",
        "#iterative over the c values\n",
        "for c in c_values:\n",
        " \n",
        "  # instantiate a model with each value of c and fit it on the data\n",
        "  smote_logreg = LogisticRegression(C=c, max_iter=1000, solver='liblinear', penalty='l1')\n",
        "  smote_logreg.fit(X_train_smote, y_train_smote)\n",
        " \n",
        "  # add the training and testing scores to our scores lists\n",
        "  train_scores.append(smote_logreg.score(X_train_smote, y_train_smote))\n",
        "  test_scores.append(smote_logreg.score(X_test_processed, y_test))\n",
        " \n",
        "#plot the change in accuracy as we change the value of C\n",
        "fig, ax = plt.subplots(1,1)\n",
        "ax.plot(c_values, train_scores, label='Training Accuracy')\n",
        "ax.plot(c_values, test_scores, label='Testing Accuracy')\n",
        "ax.set_xticks(c_values)\n",
        "ax.set_title('Change in accuracy over C values for l1 regularization')\n",
        "ax.legend()\n",
        " \n",
        "#set the x axis to a logarithmic scale to show the values of C in even intervals\n",
        "ax.set_xscale('log')\n",
        "# print a dictionary of values of C and accuracy scores\n",
        "{c:score for c, score in zip(c_values, test_scores)}"
      ]
    },
    {
      "cell_type": "markdown",
      "metadata": {
        "id": "tlSVmjmHISZM"
      },
      "source": [
        "- According to this graph we get the best accuracy on the test set when C=100. We get this same accuracy when C=1000. The accuracy is 0.7. The accuracy on our test set after L1 tuning is approximately the same as our default SMOTE model whose test set accuracy is 0.6966."
      ]
    },
    {
      "cell_type": "markdown",
      "metadata": {
        "id": "Hq004nzvISZM"
      },
      "source": [
        "**b) L2 Tuning**"
      ]
    },
    {
      "cell_type": "code",
      "execution_count": 80,
      "metadata": {
        "colab": {
          "base_uri": "https://localhost:8080/",
          "height": 430
        },
        "id": "KsPbiuQYISZM",
        "outputId": "b1296061-2d72-44f9-9293-80daad4a91b7"
      },
      "outputs": [
        {
          "output_type": "execute_result",
          "data": {
            "text/plain": [
              "{0.0001: 0.6517241379310345,\n",
              " 0.001: 0.6482758620689655,\n",
              " 0.01: 0.6482758620689655,\n",
              " 0.1: 0.6862068965517242,\n",
              " 1: 0.696551724137931,\n",
              " 10: 0.7,\n",
              " 100: 0.7,\n",
              " 1000: 0.7}"
            ]
          },
          "metadata": {},
          "execution_count": 80
        },
        {
          "output_type": "display_data",
          "data": {
            "text/plain": [
              "<Figure size 432x288 with 1 Axes>"
            ],
            "image/png": "[encoded data removed]"
          },
          "metadata": {
            "needs_background": "light"
          }
        }
      ],
      "source": [
        "# create a list of c values and empty lists for scores\n",
        "c_values = [0.0001, 0.001, 0.01, 0.1, 1, 10, 100, 1000]\n",
        "train_scores = []\n",
        "test_scores = []\n",
        "#iterative over the c values\n",
        "for c in c_values:\n",
        "  # instantiate a model with each value of c and fit it on the data\n",
        "  smote_logreg = LogisticRegression(C=c, max_iter=1000, solver='liblinear', penalty='l2')\n",
        "  smote_logreg.fit(X_train_smote, y_train_smote)\n",
        " \n",
        "  # add the training and testing scores to our scores lists\n",
        "  train_scores.append(smote_logreg.score(X_train_smote, y_train_smote))\n",
        "  test_scores.append(smote_logreg.score(X_test_processed, y_test))\n",
        "  \n",
        "#plot the change in accuracy as we change the value of C\n",
        "fig, ax = plt.subplots(1,1)\n",
        "ax.plot(c_values, train_scores, label='Training Accuracy')\n",
        "ax.plot(c_values, test_scores, label='Testing Accuracy')\n",
        "ax.set_xticks(c_values)\n",
        "ax.set_title('Change in accuracy over C values for l2 regularization')\n",
        "ax.legend()\n",
        "#set the x axis to a logarithmic scale to show the values of C in even intervals\n",
        "ax.set_xscale('log')\n",
        "# print a dictionary of values of C and accuracy scores\n",
        "{c:score for c, score in zip(c_values, test_scores)}\n"
      ]
    },
    {
      "cell_type": "markdown",
      "metadata": {
        "id": "slBhVYTNISZM"
      },
      "source": [
        "- According to this graph we get the best accuracy on the test set when C=10. We get this same accuracy when C=100 and C=1000. The accuracy is 0.7. The accuracy on our test set after L2 tuning is approximately the same as the accuracy our default SMOTE model and the same as the accuracy after L1 tuning. The test set accuracy of our default SMOTE model is 0.6966."
      ]
    },
    {
      "cell_type": "markdown",
      "metadata": {
        "id": "A7oy-K3VISZM"
      },
      "source": [
        "We can use C=10 for the confusion matrix."
      ]
    },
    {
      "cell_type": "markdown",
      "metadata": {
        "id": "nohst0YqISZM"
      },
      "source": [
        "**c) Confusion Matrices**\n",
        "\n",
        "- We will use C value of 10"
      ]
    },
    {
      "cell_type": "code",
      "execution_count": 81,
      "metadata": {
        "id": "joHUwWoJISZN",
        "colab": {
          "base_uri": "https://localhost:8080/"
        },
        "outputId": "b502adc5-725a-401b-98f8-045b7eb871e2"
      },
      "outputs": [
        {
          "output_type": "stream",
          "name": "stderr",
          "text": [
            "/usr/local/lib/python3.7/dist-packages/sklearn/linear_model/_logistic.py:818: ConvergenceWarning: lbfgs failed to converge (status=1):\n",
            "STOP: TOTAL NO. of ITERATIONS REACHED LIMIT.\n",
            "\n",
            "Increase the number of iterations (max_iter) or scale the data as shown in:\n",
            "    https://scikit-learn.org/stable/modules/preprocessing.html\n",
            "Please also refer to the documentation for alternative solver options:\n",
            "    https://scikit-learn.org/stable/modules/linear_model.html#logistic-regression\n",
            "  extra_warning_msg=_LOGISTIC_SOLVER_CONVERGENCE_MSG,\n"
          ]
        }
      ],
      "source": [
        "# Make an instance of the model\n",
        "smote_logregC = LogisticRegression(C = 10)\n",
        "# Training the model on the data, storing the information learned from the data\n",
        "# Model is learning the relationship between X and y \n",
        "smote_logregC.fit(X_train_smote, y_train_smote)\n",
        "# Save predictions \n",
        "smotelogregC_train_predictions = smote_logregC.predict(X_train_smote)\n",
        "smotelogregC_test_predictions = smote_logregC.predict(X_test_processed)"
      ]
    },
    {
      "cell_type": "code",
      "execution_count": 82,
      "metadata": {
        "colab": {
          "base_uri": "https://localhost:8080/",
          "height": 300
        },
        "id": "f0h2_nfUISZN",
        "outputId": "0b93d1a7-5338-431b-965b-7fd2769cbae6"
      },
      "outputs": [
        {
          "output_type": "execute_result",
          "data": {
            "text/plain": [
              "<sklearn.metrics._plot.confusion_matrix.ConfusionMatrixDisplay at 0x7f0258e8bf50>"
            ]
          },
          "metadata": {},
          "execution_count": 82
        },
        {
          "output_type": "display_data",
          "data": {
            "text/plain": [
              "<Figure size 576x288 with 2 Axes>"
            ],
            "image/png": "[encoded data removed]"
          },
          "metadata": {
            "needs_background": "light"
          }
        }
      ],
      "source": [
        "# \"The following Code (\"fig, ax\") adapted from: https://panjeh.medium.com/figure-size-plot-confusion-matrix-in-scikit-learn-2c66f3a69d81\"\n",
        "fig, ax = plt.subplots(figsize=(8, 4))\n",
        "ConfusionMatrixDisplay.from_predictions(y_test, smotelogregC_test_predictions, cmap = 'Blues',  normalize = 'true', ax=ax)"
      ]
    },
    {
      "cell_type": "markdown",
      "metadata": {
        "id": "Estg3P0hISZN"
      },
      "source": [
        "Our SMOTE logistic regression model successfully classified 70% of the samples in our test set that were class '**Yes**' (representing employee teams that met or exceeded their target productivity), and 69% of the samples in our test set that were class '**No**' (employee teams that did not meet or exceed their target productivity)."
      ]
    },
    {
      "cell_type": "markdown",
      "metadata": {
        "id": "pS_Mp14Jqw7P"
      },
      "source": [
        "## 20) KNN"
      ]
    },
    {
      "cell_type": "code",
      "execution_count": 86,
      "metadata": {
        "id": "4hKUz_MWpOnl"
      },
      "outputs": [],
      "source": [
        "#Create a pipeline with the preprocessed data (preprocessor) and a KNeighborsClassifier\n",
        "knn = KNeighborsClassifier(n_neighbors=1)\n",
        "knn_pipe = make_pipeline(preprocessor, knn)\n",
        "#Fit KNN model pipeline and save predictions test set\n",
        "knn_pipe.fit(X_train, y_train)\n",
        "knn_train_predictions = knn_pipe.predict(X_train)\n",
        "knn_test_predictions = knn_pipe.predict(X_test)"
      ]
    },
    {
      "cell_type": "code",
      "execution_count": 87,
      "metadata": {
        "colab": {
          "base_uri": "https://localhost:8080/"
        },
        "id": "hs4bUtppHxwI",
        "outputId": "6aa26d03-3227-4b98-c8df-2cceff9640f6"
      },
      "outputs": [
        {
          "output_type": "stream",
          "name": "stdout",
          "text": [
            "Training Metrics\n",
            "              precision    recall  f1-score   support\n",
            "\n",
            "          No     1.0000    1.0000    1.0000       237\n",
            "         Yes     1.0000    1.0000    1.0000       633\n",
            "\n",
            "    accuracy                         1.0000       870\n",
            "   macro avg     1.0000    1.0000    1.0000       870\n",
            "weighted avg     1.0000    1.0000    1.0000       870\n",
            "\n",
            "\n",
            "Testing Metrics\n",
            "              precision    recall  f1-score   support\n",
            "\n",
            "          No     0.6389    0.5412    0.5860        85\n",
            "         Yes     0.8211    0.8732    0.8463       205\n",
            "\n",
            "    accuracy                         0.7759       290\n",
            "   macro avg     0.7300    0.7072    0.7162       290\n",
            "weighted avg     0.7677    0.7759    0.7700       290\n",
            "\n"
          ]
        }
      ],
      "source": [
        "# Run a classification report on both train and test datasets.\n",
        "print('Training Metrics')\n",
        "print(classification_report(y_train, knn_train_predictions, digits = 4))\n",
        "print('\\nTesting Metrics')\n",
        "print(classification_report(y_test, knn_test_predictions, digits = 4))"
      ]
    },
    {
      "cell_type": "markdown",
      "metadata": {
        "id": "nSsloT6F2izT"
      },
      "source": [
        "- The results from the default KNN model are not good. The model did much better on the training set than the test set. This means the model is overfit. The accuracy, recall, precision and F1 scores were not very good on the testing set. Let's see if we can improve results on the testing set by tuning hyperparameters."
      ]
    },
    {
      "cell_type": "markdown",
      "metadata": {
        "id": "I_BdG66R3Fa-"
      },
      "source": [
        "**a) GridSearchCV**"
      ]
    },
    {
      "cell_type": "code",
      "execution_count": 88,
      "metadata": {
        "colab": {
          "base_uri": "https://localhost:8080/"
        },
        "id": "pyo1lYua2wXB",
        "outputId": "8c3ecf19-827c-4709-ba40-bc95ebaa328e"
      },
      "outputs": [
        {
          "output_type": "execute_result",
          "data": {
            "text/plain": [
              "{'columntransformer': ColumnTransformer(remainder='passthrough',\n",
              "                   transformers=[('pipeline',\n",
              "                                  Pipeline(steps=[('simpleimputer',\n",
              "                                                   SimpleImputer(strategy='median')),\n",
              "                                                  ('standardscaler',\n",
              "                                                   StandardScaler())]),\n",
              "                                  <sklearn.compose._column_transformer.make_column_selector object at 0x7f025d12c610>),\n",
              "                                 ('onehotencoder',\n",
              "                                  OneHotEncoder(handle_unknown='ignore',\n",
              "                                                sparse=False),\n",
              "                                  <sklearn.compose._column_transformer.make_column_selector object at 0x7f025d12cc50>)]),\n",
              " 'columntransformer__n_jobs': None,\n",
              " 'columntransformer__onehotencoder': OneHotEncoder(handle_unknown='ignore', sparse=False),\n",
              " 'columntransformer__onehotencoder__categories': 'auto',\n",
              " 'columntransformer__onehotencoder__drop': None,\n",
              " 'columntransformer__onehotencoder__dtype': numpy.float64,\n",
              " 'columntransformer__onehotencoder__handle_unknown': 'ignore',\n",
              " 'columntransformer__onehotencoder__sparse': False,\n",
              " 'columntransformer__pipeline': Pipeline(steps=[('simpleimputer', SimpleImputer(strategy='median')),\n",
              "                 ('standardscaler', StandardScaler())]),\n",
              " 'columntransformer__pipeline__memory': None,\n",
              " 'columntransformer__pipeline__simpleimputer': SimpleImputer(strategy='median'),\n",
              " 'columntransformer__pipeline__simpleimputer__add_indicator': False,\n",
              " 'columntransformer__pipeline__simpleimputer__copy': True,\n",
              " 'columntransformer__pipeline__simpleimputer__fill_value': None,\n",
              " 'columntransformer__pipeline__simpleimputer__missing_values': nan,\n",
              " 'columntransformer__pipeline__simpleimputer__strategy': 'median',\n",
              " 'columntransformer__pipeline__simpleimputer__verbose': 0,\n",
              " 'columntransformer__pipeline__standardscaler': StandardScaler(),\n",
              " 'columntransformer__pipeline__standardscaler__copy': True,\n",
              " 'columntransformer__pipeline__standardscaler__with_mean': True,\n",
              " 'columntransformer__pipeline__standardscaler__with_std': True,\n",
              " 'columntransformer__pipeline__steps': [('simpleimputer',\n",
              "   SimpleImputer(strategy='median')),\n",
              "  ('standardscaler', StandardScaler())],\n",
              " 'columntransformer__pipeline__verbose': False,\n",
              " 'columntransformer__remainder': 'passthrough',\n",
              " 'columntransformer__sparse_threshold': 0.3,\n",
              " 'columntransformer__transformer_weights': None,\n",
              " 'columntransformer__transformers': [('pipeline',\n",
              "   Pipeline(steps=[('simpleimputer', SimpleImputer(strategy='median')),\n",
              "                   ('standardscaler', StandardScaler())]),\n",
              "   <sklearn.compose._column_transformer.make_column_selector at 0x7f025d12c610>),\n",
              "  ('onehotencoder',\n",
              "   OneHotEncoder(handle_unknown='ignore', sparse=False),\n",
              "   <sklearn.compose._column_transformer.make_column_selector at 0x7f025d12cc50>)],\n",
              " 'columntransformer__verbose': False,\n",
              " 'columntransformer__verbose_feature_names_out': True,\n",
              " 'kneighborsclassifier': KNeighborsClassifier(n_neighbors=1),\n",
              " 'kneighborsclassifier__algorithm': 'auto',\n",
              " 'kneighborsclassifier__leaf_size': 30,\n",
              " 'kneighborsclassifier__metric': 'minkowski',\n",
              " 'kneighborsclassifier__metric_params': None,\n",
              " 'kneighborsclassifier__n_jobs': None,\n",
              " 'kneighborsclassifier__n_neighbors': 1,\n",
              " 'kneighborsclassifier__p': 2,\n",
              " 'kneighborsclassifier__weights': 'uniform',\n",
              " 'memory': None,\n",
              " 'steps': [('columntransformer', ColumnTransformer(remainder='passthrough',\n",
              "                     transformers=[('pipeline',\n",
              "                                    Pipeline(steps=[('simpleimputer',\n",
              "                                                     SimpleImputer(strategy='median')),\n",
              "                                                    ('standardscaler',\n",
              "                                                     StandardScaler())]),\n",
              "                                    <sklearn.compose._column_transformer.make_column_selector object at 0x7f025d12c610>),\n",
              "                                   ('onehotencoder',\n",
              "                                    OneHotEncoder(handle_unknown='ignore',\n",
              "                                                  sparse=False),\n",
              "                                    <sklearn.compose._column_transformer.make_column_selector object at 0x7f025d12cc50>)])),\n",
              "  ('kneighborsclassifier', KNeighborsClassifier(n_neighbors=1))],\n",
              " 'verbose': False}"
            ]
          },
          "metadata": {},
          "execution_count": 88
        }
      ],
      "source": [
        "knn_pipe.get_params()"
      ]
    },
    {
      "cell_type": "code",
      "execution_count": 89,
      "metadata": {
        "id": "2iwt7TmA3Jhr"
      },
      "outputs": [],
      "source": [
        "#Parameters to tune\n",
        "params = {'kneighborsclassifier__n_neighbors': range(1, 20),\n",
        "          'kneighborsclassifier__weights': ['uniform', 'distance'],\n",
        "          'kneighborsclassifier__p': [2, 3, 4]}"
      ]
    },
    {
      "cell_type": "code",
      "execution_count": 90,
      "metadata": {
        "colab": {
          "base_uri": "https://localhost:8080/",
          "height": 228
        },
        "id": "PJORl8Xt3fgo",
        "outputId": "e0b7c371-6582-4963-9719-5c0cf1b52379"
      },
      "outputs": [
        {
          "output_type": "execute_result",
          "data": {
            "text/plain": [
              "GridSearchCV(estimator=Pipeline(steps=[('columntransformer',\n",
              "                                        ColumnTransformer(remainder='passthrough',\n",
              "                                                          transformers=[('pipeline',\n",
              "                                                                         Pipeline(steps=[('simpleimputer',\n",
              "                                                                                          SimpleImputer(strategy='median')),\n",
              "                                                                                         ('standardscaler',\n",
              "                                                                                          StandardScaler())]),\n",
              "                                                                         <sklearn.compose._column_transformer.make_column_selector object at 0x7f025d12c610>),\n",
              "                                                                        ('onehotencoder',\n",
              "                                                                         OneHotEncoder(handle_unknown='ignore',\n",
              "                                                                                       sparse=False),\n",
              "                                                                         <sklearn.compose._column_transformer.make_column_selector object at 0x7f025d12cc50>)])),\n",
              "                                       ('kneighborsclassifier',\n",
              "                                        KNeighborsClassifier(n_neighbors=1))]),\n",
              "             param_grid={'kneighborsclassifier__n_neighbors': range(1, 20),\n",
              "                         'kneighborsclassifier__p': [2, 3, 4],\n",
              "                         'kneighborsclassifier__weights': ['uniform',\n",
              "                                                           'distance']})"
            ],
            "text/html": [
              "<style>#sk-8709bb0a-7bde-4a57-ae0c-da0cea6a1b4c {color: black;background-color: white;}#sk-8709bb0a-7bde-4a57-ae0c-da0cea6a1b4c pre{padding: 0;}#sk-8709bb0a-7bde-4a57-ae0c-da0cea6a1b4c div.sk-toggleable {background-color: white;}#sk-8709bb0a-7bde-4a57-ae0c-da0cea6a1b4c label.sk-toggleable__label {cursor: pointer;display: block;width: 100%;margin-bottom: 0;padding: 0.3em;box-sizing: border-box;text-align: center;}#sk-8709bb0a-7bde-4a57-ae0c-da0cea6a1b4c label.sk-toggleable__label-arrow:before {content: \"▸\";float: left;margin-right: 0.25em;color: #696969;}#sk-8709bb0a-7bde-4a57-ae0c-da0cea6a1b4c label.sk-toggleable__label-arrow:hover:before {color: black;}#sk-8709bb0a-7bde-4a57-ae0c-da0cea6a1b4c div.sk-estimator:hover label.sk-toggleable__label-arrow:before {color: black;}#sk-8709bb0a-7bde-4a57-ae0c-da0cea6a1b4c div.sk-toggleable__content {max-height: 0;max-width: 0;overflow: hidden;text-align: left;background-color: #f0f8ff;}#sk-8709bb0a-7bde-4a57-ae0c-da0cea6a1b4c div.sk-toggleable__content pre {margin: 0.2em;color: black;border-radius: 0.25em;background-color: #f0f8ff;}#sk-8709bb0a-7bde-4a57-ae0c-da0cea6a1b4c input.sk-toggleable__control:checked~div.sk-toggleable__content {max-height: 200px;max-width: 100%;overflow: auto;}#sk-8709bb0a-7bde-4a57-ae0c-da0cea6a1b4c input.sk-toggleable__control:checked~label.sk-toggleable__label-arrow:before {content: \"▾\";}#sk-8709bb0a-7bde-4a57-ae0c-da0cea6a1b4c div.sk-estimator input.sk-toggleable__control:checked~label.sk-toggleable__label {background-color: #d4ebff;}#sk-8709bb0a-7bde-4a57-ae0c-da0cea6a1b4c div.sk-label input.sk-toggleable__control:checked~label.sk-toggleable__label {background-color: #d4ebff;}#sk-8709bb0a-7bde-4a57-ae0c-da0cea6a1b4c input.sk-hidden--visually {border: 0;clip: rect(1px 1px 1px 1px);clip: rect(1px, 1px, 1px, 1px);height: 1px;margin: -1px;overflow: hidden;padding: 0;position: absolute;width: 1px;}#sk-8709bb0a-7bde-4a57-ae0c-da0cea6a1b4c div.sk-estimator {font-family: monospace;background-color: #f0f8ff;border: 1px dotted black;border-radius: 0.25em;box-sizing: border-box;margin-bottom: 0.5em;}#sk-8709bb0a-7bde-4a57-ae0c-da0cea6a1b4c div.sk-estimator:hover {background-color: #d4ebff;}#sk-8709bb0a-7bde-4a57-ae0c-da0cea6a1b4c div.sk-parallel-item::after {content: \"\";width: 100%;border-bottom: 1px solid gray;flex-grow: 1;}#sk-8709bb0a-7bde-4a57-ae0c-da0cea6a1b4c div.sk-label:hover label.sk-toggleable__label {background-color: #d4ebff;}#sk-8709bb0a-7bde-4a57-ae0c-da0cea6a1b4c div.sk-serial::before {content: \"\";position: absolute;border-left: 1px solid gray;box-sizing: border-box;top: 2em;bottom: 0;left: 50%;}#sk-8709bb0a-7bde-4a57-ae0c-da0cea6a1b4c div.sk-serial {display: flex;flex-direction: column;align-items: center;background-color: white;padding-right: 0.2em;padding-left: 0.2em;}#sk-8709bb0a-7bde-4a57-ae0c-da0cea6a1b4c div.sk-item {z-index: 1;}#sk-8709bb0a-7bde-4a57-ae0c-da0cea6a1b4c div.sk-parallel {display: flex;align-items: stretch;justify-content: center;background-color: white;}#sk-8709bb0a-7bde-4a57-ae0c-da0cea6a1b4c div.sk-parallel::before {content: \"\";position: absolute;border-left: 1px solid gray;box-sizing: border-box;top: 2em;bottom: 0;left: 50%;}#sk-8709bb0a-7bde-4a57-ae0c-da0cea6a1b4c div.sk-parallel-item {display: flex;flex-direction: column;position: relative;background-color: white;}#sk-8709bb0a-7bde-4a57-ae0c-da0cea6a1b4c div.sk-parallel-item:first-child::after {align-self: flex-end;width: 50%;}#sk-8709bb0a-7bde-4a57-ae0c-da0cea6a1b4c div.sk-parallel-item:last-child::after {align-self: flex-start;width: 50%;}#sk-8709bb0a-7bde-4a57-ae0c-da0cea6a1b4c div.sk-parallel-item:only-child::after {width: 0;}#sk-8709bb0a-7bde-4a57-ae0c-da0cea6a1b4c div.sk-dashed-wrapped {border: 1px dashed gray;margin: 0 0.4em 0.5em 0.4em;box-sizing: border-box;padding-bottom: 0.4em;background-color: white;position: relative;}#sk-8709bb0a-7bde-4a57-ae0c-da0cea6a1b4c div.sk-label label {font-family: monospace;font-weight: bold;background-color: white;display: inline-block;line-height: 1.2em;}#sk-8709bb0a-7bde-4a57-ae0c-da0cea6a1b4c div.sk-label-container {position: relative;z-index: 2;text-align: center;}#sk-8709bb0a-7bde-4a57-ae0c-da0cea6a1b4c div.sk-container {/* jupyter's `normalize.less` sets `[hidden] { display: none; }` but bootstrap.min.css set `[hidden] { display: none !important; }` so we also need the `!important` here to be able to override the default hidden behavior on the sphinx rendered scikit-learn.org. See: https://github.com/scikit-learn/scikit-learn/issues/21755 */display: inline-block !important;position: relative;}#sk-8709bb0a-7bde-4a57-ae0c-da0cea6a1b4c div.sk-text-repr-fallback {display: none;}</style><div id=\"sk-8709bb0a-7bde-4a57-ae0c-da0cea6a1b4c\" class=\"sk-top-container\"><div class=\"sk-text-repr-fallback\"><pre>GridSearchCV(estimator=Pipeline(steps=[(&#x27;columntransformer&#x27;,\n",
              "                                        ColumnTransformer(remainder=&#x27;passthrough&#x27;,\n",
              "                                                          transformers=[(&#x27;pipeline&#x27;,\n",
              "                                                                         Pipeline(steps=[(&#x27;simpleimputer&#x27;,\n",
              "                                                                                          SimpleImputer(strategy=&#x27;median&#x27;)),\n",
              "                                                                                         (&#x27;standardscaler&#x27;,\n",
              "                                                                                          StandardScaler())]),\n",
              "                                                                         &lt;sklearn.compose._column_transformer.make_column_selector object at 0x7f025d12c610&gt;),\n",
              "                                                                        (&#x27;onehotencoder&#x27;,\n",
              "                                                                         OneHotEncoder(handle_unknown=&#x27;ignore&#x27;,\n",
              "                                                                                       sparse=False),\n",
              "                                                                         &lt;sklearn.compose._column_transformer.make_column_selector object at 0x7f025d12cc50&gt;)])),\n",
              "                                       (&#x27;kneighborsclassifier&#x27;,\n",
              "                                        KNeighborsClassifier(n_neighbors=1))]),\n",
              "             param_grid={&#x27;kneighborsclassifier__n_neighbors&#x27;: range(1, 20),\n",
              "                         &#x27;kneighborsclassifier__p&#x27;: [2, 3, 4],\n",
              "                         &#x27;kneighborsclassifier__weights&#x27;: [&#x27;uniform&#x27;,\n",
              "                                                           &#x27;distance&#x27;]})</pre><b>Please rerun this cell to show the HTML repr or trust the notebook.</b></div><div class=\"sk-container\" hidden><div class=\"sk-item sk-dashed-wrapped\"><div class=\"sk-label-container\"><div class=\"sk-label sk-toggleable\"><input class=\"sk-toggleable__control sk-hidden--visually\" id=\"edfe8d71-6dbe-4de9-bc52-6d43c9e01424\" type=\"checkbox\" ><label for=\"edfe8d71-6dbe-4de9-bc52-6d43c9e01424\" class=\"sk-toggleable__label sk-toggleable__label-arrow\">GridSearchCV</label><div class=\"sk-toggleable__content\"><pre>GridSearchCV(estimator=Pipeline(steps=[(&#x27;columntransformer&#x27;,\n",
              "                                        ColumnTransformer(remainder=&#x27;passthrough&#x27;,\n",
              "                                                          transformers=[(&#x27;pipeline&#x27;,\n",
              "                                                                         Pipeline(steps=[(&#x27;simpleimputer&#x27;,\n",
              "                                                                                          SimpleImputer(strategy=&#x27;median&#x27;)),\n",
              "                                                                                         (&#x27;standardscaler&#x27;,\n",
              "                                                                                          StandardScaler())]),\n",
              "                                                                         &lt;sklearn.compose._column_transformer.make_column_selector object at 0x7f025d12c610&gt;),\n",
              "                                                                        (&#x27;onehotencoder&#x27;,\n",
              "                                                                         OneHotEncoder(handle_unknown=&#x27;ignore&#x27;,\n",
              "                                                                                       sparse=False),\n",
              "                                                                         &lt;sklearn.compose._column_transformer.make_column_selector object at 0x7f025d12cc50&gt;)])),\n",
              "                                       (&#x27;kneighborsclassifier&#x27;,\n",
              "                                        KNeighborsClassifier(n_neighbors=1))]),\n",
              "             param_grid={&#x27;kneighborsclassifier__n_neighbors&#x27;: range(1, 20),\n",
              "                         &#x27;kneighborsclassifier__p&#x27;: [2, 3, 4],\n",
              "                         &#x27;kneighborsclassifier__weights&#x27;: [&#x27;uniform&#x27;,\n",
              "                                                           &#x27;distance&#x27;]})</pre></div></div></div><div class=\"sk-parallel\"><div class=\"sk-parallel-item\"><div class=\"sk-item\"><div class=\"sk-serial\"><div class=\"sk-item\"><div class=\"sk-serial\"><div class=\"sk-item sk-dashed-wrapped\"><div class=\"sk-label-container\"><div class=\"sk-label sk-toggleable\"><input class=\"sk-toggleable__control sk-hidden--visually\" id=\"25744e24-64f6-4dc2-81ae-63a5a37c005d\" type=\"checkbox\" ><label for=\"25744e24-64f6-4dc2-81ae-63a5a37c005d\" class=\"sk-toggleable__label sk-toggleable__label-arrow\">columntransformer: ColumnTransformer</label><div class=\"sk-toggleable__content\"><pre>ColumnTransformer(remainder=&#x27;passthrough&#x27;,\n",
              "                  transformers=[(&#x27;pipeline&#x27;,\n",
              "                                 Pipeline(steps=[(&#x27;simpleimputer&#x27;,\n",
              "                                                  SimpleImputer(strategy=&#x27;median&#x27;)),\n",
              "                                                 (&#x27;standardscaler&#x27;,\n",
              "                                                  StandardScaler())]),\n",
              "                                 &lt;sklearn.compose._column_transformer.make_column_selector object at 0x7f025d12c610&gt;),\n",
              "                                (&#x27;onehotencoder&#x27;,\n",
              "                                 OneHotEncoder(handle_unknown=&#x27;ignore&#x27;,\n",
              "                                               sparse=False),\n",
              "                                 &lt;sklearn.compose._column_transformer.make_column_selector object at 0x7f025d12cc50&gt;)])</pre></div></div></div><div class=\"sk-parallel\"><div class=\"sk-parallel-item\"><div class=\"sk-item\"><div class=\"sk-label-container\"><div class=\"sk-label sk-toggleable\"><input class=\"sk-toggleable__control sk-hidden--visually\" id=\"35432b41-1292-4a05-b5cd-b91a8ba6dda3\" type=\"checkbox\" ><label for=\"35432b41-1292-4a05-b5cd-b91a8ba6dda3\" class=\"sk-toggleable__label sk-toggleable__label-arrow\">pipeline</label><div class=\"sk-toggleable__content\"><pre>&lt;sklearn.compose._column_transformer.make_column_selector object at 0x7f025d12c610&gt;</pre></div></div></div><div class=\"sk-serial\"><div class=\"sk-item\"><div class=\"sk-serial\"><div class=\"sk-item\"><div class=\"sk-estimator sk-toggleable\"><input class=\"sk-toggleable__control sk-hidden--visually\" id=\"7cf00df7-8154-409d-a48a-276bb48a865e\" type=\"checkbox\" ><label for=\"7cf00df7-8154-409d-a48a-276bb48a865e\" class=\"sk-toggleable__label sk-toggleable__label-arrow\">SimpleImputer</label><div class=\"sk-toggleable__content\"><pre>SimpleImputer(strategy=&#x27;median&#x27;)</pre></div></div></div><div class=\"sk-item\"><div class=\"sk-estimator sk-toggleable\"><input class=\"sk-toggleable__control sk-hidden--visually\" id=\"16cd200d-db7e-4122-8bef-5729974d1e3a\" type=\"checkbox\" ><label for=\"16cd200d-db7e-4122-8bef-5729974d1e3a\" class=\"sk-toggleable__label sk-toggleable__label-arrow\">StandardScaler</label><div class=\"sk-toggleable__content\"><pre>StandardScaler()</pre></div></div></div></div></div></div></div></div><div class=\"sk-parallel-item\"><div class=\"sk-item\"><div class=\"sk-label-container\"><div class=\"sk-label sk-toggleable\"><input class=\"sk-toggleable__control sk-hidden--visually\" id=\"4c7cc4e7-25e3-4899-8e92-f88f1ecae8fe\" type=\"checkbox\" ><label for=\"4c7cc4e7-25e3-4899-8e92-f88f1ecae8fe\" class=\"sk-toggleable__label sk-toggleable__label-arrow\">onehotencoder</label><div class=\"sk-toggleable__content\"><pre>&lt;sklearn.compose._column_transformer.make_column_selector object at 0x7f025d12cc50&gt;</pre></div></div></div><div class=\"sk-serial\"><div class=\"sk-item\"><div class=\"sk-estimator sk-toggleable\"><input class=\"sk-toggleable__control sk-hidden--visually\" id=\"79476c6b-d6a0-4ce6-96b0-d98936510e3a\" type=\"checkbox\" ><label for=\"79476c6b-d6a0-4ce6-96b0-d98936510e3a\" class=\"sk-toggleable__label sk-toggleable__label-arrow\">OneHotEncoder</label><div class=\"sk-toggleable__content\"><pre>OneHotEncoder(handle_unknown=&#x27;ignore&#x27;, sparse=False)</pre></div></div></div></div></div></div><div class=\"sk-parallel-item\"><div class=\"sk-item\"><div class=\"sk-label-container\"><div class=\"sk-label sk-toggleable\"><input class=\"sk-toggleable__control sk-hidden--visually\" id=\"4fa35e9a-56f3-4889-83a9-1ca93fd8f1eb\" type=\"checkbox\" ><label for=\"4fa35e9a-56f3-4889-83a9-1ca93fd8f1eb\" class=\"sk-toggleable__label sk-toggleable__label-arrow\">remainder</label><div class=\"sk-toggleable__content\"><pre>[]</pre></div></div></div><div class=\"sk-serial\"><div class=\"sk-item\"><div class=\"sk-estimator sk-toggleable\"><input class=\"sk-toggleable__control sk-hidden--visually\" id=\"ddcebe6a-0949-4249-ad5e-b9ed86931f9f\" type=\"checkbox\" ><label for=\"ddcebe6a-0949-4249-ad5e-b9ed86931f9f\" class=\"sk-toggleable__label sk-toggleable__label-arrow\">passthrough</label><div class=\"sk-toggleable__content\"><pre>passthrough</pre></div></div></div></div></div></div></div></div><div class=\"sk-item\"><div class=\"sk-estimator sk-toggleable\"><input class=\"sk-toggleable__control sk-hidden--visually\" id=\"0a352a57-1814-4932-94d7-7352129df8c8\" type=\"checkbox\" ><label for=\"0a352a57-1814-4932-94d7-7352129df8c8\" class=\"sk-toggleable__label sk-toggleable__label-arrow\">KNeighborsClassifier</label><div class=\"sk-toggleable__content\"><pre>KNeighborsClassifier(n_neighbors=1)</pre></div></div></div></div></div></div></div></div></div></div></div></div>"
            ]
          },
          "metadata": {},
          "execution_count": 90
        }
      ],
      "source": [
        "# Instantiate a gridsearch with the KNN model and the hyperparamter dictionary\n",
        "knn_grid = GridSearchCV(knn_pipe, params)\n",
        "knn_grid.fit(X_train, y_train)"
      ]
    },
    {
      "cell_type": "code",
      "execution_count": 91,
      "metadata": {
        "colab": {
          "base_uri": "https://localhost:8080/"
        },
        "id": "k5bZPeVZ4GDZ",
        "outputId": "3b9413eb-599f-404b-cb08-ad562ccfd746"
      },
      "outputs": [
        {
          "output_type": "execute_result",
          "data": {
            "text/plain": [
              "{'kneighborsclassifier__n_neighbors': 12,\n",
              " 'kneighborsclassifier__p': 4,\n",
              " 'kneighborsclassifier__weights': 'uniform'}"
            ]
          },
          "metadata": {},
          "execution_count": 91
        }
      ],
      "source": [
        "# Check the optimal combinations of hyperparameters\n",
        "knn_grid.best_params_"
      ]
    },
    {
      "cell_type": "code",
      "execution_count": 92,
      "metadata": {
        "id": "gqcXJn_u4H2a"
      },
      "outputs": [],
      "source": [
        "# extract the best version of the model from the gridsearch object\n",
        "best_knn = knn_grid.best_estimator_"
      ]
    },
    {
      "cell_type": "code",
      "execution_count": 93,
      "metadata": {
        "colab": {
          "base_uri": "https://localhost:8080/"
        },
        "id": "BSzyEA5z4LQm",
        "outputId": "9a5b2212-3720-4e9f-c07b-01533fb5e51e"
      },
      "outputs": [
        {
          "output_type": "stream",
          "name": "stdout",
          "text": [
            "Best Model Training Metrics\n",
            "              precision    recall  f1-score   support\n",
            "\n",
            "          No     0.7267    0.5274    0.6112       237\n",
            "         Yes     0.8395    0.9258    0.8805       633\n",
            "\n",
            "    accuracy                         0.8172       870\n",
            "   macro avg     0.7831    0.7266    0.7459       870\n",
            "weighted avg     0.8088    0.8172    0.8072       870\n",
            "\n",
            "\n",
            "Best Model Testing Metrics\n",
            "              precision    recall  f1-score   support\n",
            "\n",
            "          No     0.6508    0.4824    0.5541        85\n",
            "         Yes     0.8062    0.8927    0.8472       205\n",
            "\n",
            "    accuracy                         0.7724       290\n",
            "   macro avg     0.7285    0.6875    0.7006       290\n",
            "weighted avg     0.7606    0.7724    0.7613       290\n",
            "\n"
          ]
        }
      ],
      "source": [
        "# Run a classification report on both train and test datasets for the best model. \n",
        "train_preds = best_knn.predict(X_train)\n",
        "test_preds = best_knn.predict(X_test)\n",
        "\n",
        "print('Best Model Training Metrics')\n",
        "print(classification_report(y_train, train_preds, digits = 4))\n",
        "print('\\nBest Model Testing Metrics')\n",
        "print(classification_report(y_test, test_preds, digits = 4))"
      ]
    },
    {
      "cell_type": "markdown",
      "metadata": {
        "id": "EL_ZRslL6wBc"
      },
      "source": [
        "- We can see from the above results that tuning our KNN model did not improve results for our testing set. The accuracy is lower in the tuned model than the default model. However, there is much less overfitting."
      ]
    },
    {
      "cell_type": "markdown",
      "metadata": {
        "id": "9YjQhZPv7fq1"
      },
      "source": [
        "**b) Confusion Matrices**"
      ]
    },
    {
      "cell_type": "code",
      "execution_count": 94,
      "metadata": {
        "colab": {
          "base_uri": "https://localhost:8080/",
          "height": 297
        },
        "id": "IITE8-go5i3r",
        "outputId": "617dbde2-3d35-4ae5-ab82-e0d107efe4ec"
      },
      "outputs": [
        {
          "output_type": "execute_result",
          "data": {
            "text/plain": [
              "<sklearn.metrics._plot.confusion_matrix.ConfusionMatrixDisplay at 0x7f02589a2e50>"
            ]
          },
          "metadata": {},
          "execution_count": 94
        },
        {
          "output_type": "display_data",
          "data": {
            "text/plain": [
              "<Figure size 576x288 with 2 Axes>"
            ],
            "image/png": "[encoded data removed]"
          },
          "metadata": {
            "needs_background": "light"
          }
        }
      ],
      "source": [
        "# \"The following Code (\"fig, ax\") adapted from: https://panjeh.medium.com/figure-size-plot-confusion-matrix-in-scikit-learn-2c66f3a69d81\"\n",
        "fig, ax = plt.subplots(figsize=(8, 4))\n",
        "ConfusionMatrixDisplay.from_predictions(y_test, test_preds, cmap = 'Blues',  normalize = 'true', ax=ax)"
      ]
    },
    {
      "cell_type": "markdown",
      "metadata": {
        "id": "BHmcQWw69xqY"
      },
      "source": [
        "Our optimized KNN model successfully classified 89% of the samples in our test set that were class 'Yes' (representing employee teams that met or exceeded their target productivity), and 39% of the samples in our test set that were class 'No' (representing employee teams that did not meet or exceed their target productivity)."
      ]
    },
    {
      "cell_type": "markdown",
      "metadata": {
        "id": "IRwbkSJ1UWLy"
      },
      "source": [
        "## **SMOTE** (KNN)"
      ]
    },
    {
      "cell_type": "code",
      "execution_count": 95,
      "metadata": {
        "colab": {
          "base_uri": "https://localhost:8080/"
        },
        "id": "9ElOF2ZQYBhu",
        "outputId": "5dafce1f-bf16-4eae-9396-50ee95ae7b46"
      },
      "outputs": [
        {
          "output_type": "execute_result",
          "data": {
            "text/plain": [
              "Yes    633\n",
              "No     237\n",
              "Name: met_goal, dtype: int64"
            ]
          },
          "metadata": {},
          "execution_count": 95
        }
      ],
      "source": [
        "pd.Series(y_train).value_counts()"
      ]
    },
    {
      "cell_type": "code",
      "execution_count": 96,
      "metadata": {
        "colab": {
          "base_uri": "https://localhost:8080/"
        },
        "id": "z-HW-i4LZPIX",
        "outputId": "435da1f0-5c8d-48da-a5f4-b35bbfe828d1"
      },
      "outputs": [
        {
          "output_type": "execute_result",
          "data": {
            "text/plain": [
              "Yes    633\n",
              "No     633\n",
              "Name: met_goal, dtype: int64"
            ]
          },
          "metadata": {},
          "execution_count": 96
        }
      ],
      "source": [
        "smote = SMOTE(sampling_strategy = 'auto')\n",
        "\n",
        "X_train_smote, y_train_smote = smote.fit_resample(X_train_processed, y_train)\n",
        "pd.Series(y_train_smote).value_counts()"
      ]
    },
    {
      "cell_type": "code",
      "execution_count": 97,
      "metadata": {
        "colab": {
          "base_uri": "https://localhost:8080/",
          "height": 75
        },
        "id": "MtZ2PvcVbO3h",
        "outputId": "8bfd8af4-182c-468d-d4b4-49aa38a244dd"
      },
      "outputs": [
        {
          "output_type": "execute_result",
          "data": {
            "text/plain": [
              "KNeighborsClassifier(n_neighbors=1)"
            ],
            "text/html": [
              "<style>#sk-58cbdce4-d1fd-4efb-8ae4-13b436c537a7 {color: black;background-color: white;}#sk-58cbdce4-d1fd-4efb-8ae4-13b436c537a7 pre{padding: 0;}#sk-58cbdce4-d1fd-4efb-8ae4-13b436c537a7 div.sk-toggleable {background-color: white;}#sk-58cbdce4-d1fd-4efb-8ae4-13b436c537a7 label.sk-toggleable__label {cursor: pointer;display: block;width: 100%;margin-bottom: 0;padding: 0.3em;box-sizing: border-box;text-align: center;}#sk-58cbdce4-d1fd-4efb-8ae4-13b436c537a7 label.sk-toggleable__label-arrow:before {content: \"▸\";float: left;margin-right: 0.25em;color: #696969;}#sk-58cbdce4-d1fd-4efb-8ae4-13b436c537a7 label.sk-toggleable__label-arrow:hover:before {color: black;}#sk-58cbdce4-d1fd-4efb-8ae4-13b436c537a7 div.sk-estimator:hover label.sk-toggleable__label-arrow:before {color: black;}#sk-58cbdce4-d1fd-4efb-8ae4-13b436c537a7 div.sk-toggleable__content {max-height: 0;max-width: 0;overflow: hidden;text-align: left;background-color: #f0f8ff;}#sk-58cbdce4-d1fd-4efb-8ae4-13b436c537a7 div.sk-toggleable__content pre {margin: 0.2em;color: black;border-radius: 0.25em;background-color: #f0f8ff;}#sk-58cbdce4-d1fd-4efb-8ae4-13b436c537a7 input.sk-toggleable__control:checked~div.sk-toggleable__content {max-height: 200px;max-width: 100%;overflow: auto;}#sk-58cbdce4-d1fd-4efb-8ae4-13b436c537a7 input.sk-toggleable__control:checked~label.sk-toggleable__label-arrow:before {content: \"▾\";}#sk-58cbdce4-d1fd-4efb-8ae4-13b436c537a7 div.sk-estimator input.sk-toggleable__control:checked~label.sk-toggleable__label {background-color: #d4ebff;}#sk-58cbdce4-d1fd-4efb-8ae4-13b436c537a7 div.sk-label input.sk-toggleable__control:checked~label.sk-toggleable__label {background-color: #d4ebff;}#sk-58cbdce4-d1fd-4efb-8ae4-13b436c537a7 input.sk-hidden--visually {border: 0;clip: rect(1px 1px 1px 1px);clip: rect(1px, 1px, 1px, 1px);height: 1px;margin: -1px;overflow: hidden;padding: 0;position: absolute;width: 1px;}#sk-58cbdce4-d1fd-4efb-8ae4-13b436c537a7 div.sk-estimator {font-family: monospace;background-color: #f0f8ff;border: 1px dotted black;border-radius: 0.25em;box-sizing: border-box;margin-bottom: 0.5em;}#sk-58cbdce4-d1fd-4efb-8ae4-13b436c537a7 div.sk-estimator:hover {background-color: #d4ebff;}#sk-58cbdce4-d1fd-4efb-8ae4-13b436c537a7 div.sk-parallel-item::after {content: \"\";width: 100%;border-bottom: 1px solid gray;flex-grow: 1;}#sk-58cbdce4-d1fd-4efb-8ae4-13b436c537a7 div.sk-label:hover label.sk-toggleable__label {background-color: #d4ebff;}#sk-58cbdce4-d1fd-4efb-8ae4-13b436c537a7 div.sk-serial::before {content: \"\";position: absolute;border-left: 1px solid gray;box-sizing: border-box;top: 2em;bottom: 0;left: 50%;}#sk-58cbdce4-d1fd-4efb-8ae4-13b436c537a7 div.sk-serial {display: flex;flex-direction: column;align-items: center;background-color: white;padding-right: 0.2em;padding-left: 0.2em;}#sk-58cbdce4-d1fd-4efb-8ae4-13b436c537a7 div.sk-item {z-index: 1;}#sk-58cbdce4-d1fd-4efb-8ae4-13b436c537a7 div.sk-parallel {display: flex;align-items: stretch;justify-content: center;background-color: white;}#sk-58cbdce4-d1fd-4efb-8ae4-13b436c537a7 div.sk-parallel::before {content: \"\";position: absolute;border-left: 1px solid gray;box-sizing: border-box;top: 2em;bottom: 0;left: 50%;}#sk-58cbdce4-d1fd-4efb-8ae4-13b436c537a7 div.sk-parallel-item {display: flex;flex-direction: column;position: relative;background-color: white;}#sk-58cbdce4-d1fd-4efb-8ae4-13b436c537a7 div.sk-parallel-item:first-child::after {align-self: flex-end;width: 50%;}#sk-58cbdce4-d1fd-4efb-8ae4-13b436c537a7 div.sk-parallel-item:last-child::after {align-self: flex-start;width: 50%;}#sk-58cbdce4-d1fd-4efb-8ae4-13b436c537a7 div.sk-parallel-item:only-child::after {width: 0;}#sk-58cbdce4-d1fd-4efb-8ae4-13b436c537a7 div.sk-dashed-wrapped {border: 1px dashed gray;margin: 0 0.4em 0.5em 0.4em;box-sizing: border-box;padding-bottom: 0.4em;background-color: white;position: relative;}#sk-58cbdce4-d1fd-4efb-8ae4-13b436c537a7 div.sk-label label {font-family: monospace;font-weight: bold;background-color: white;display: inline-block;line-height: 1.2em;}#sk-58cbdce4-d1fd-4efb-8ae4-13b436c537a7 div.sk-label-container {position: relative;z-index: 2;text-align: center;}#sk-58cbdce4-d1fd-4efb-8ae4-13b436c537a7 div.sk-container {/* jupyter's `normalize.less` sets `[hidden] { display: none; }` but bootstrap.min.css set `[hidden] { display: none !important; }` so we also need the `!important` here to be able to override the default hidden behavior on the sphinx rendered scikit-learn.org. See: https://github.com/scikit-learn/scikit-learn/issues/21755 */display: inline-block !important;position: relative;}#sk-58cbdce4-d1fd-4efb-8ae4-13b436c537a7 div.sk-text-repr-fallback {display: none;}</style><div id=\"sk-58cbdce4-d1fd-4efb-8ae4-13b436c537a7\" class=\"sk-top-container\"><div class=\"sk-text-repr-fallback\"><pre>KNeighborsClassifier(n_neighbors=1)</pre><b>Please rerun this cell to show the HTML repr or trust the notebook.</b></div><div class=\"sk-container\" hidden><div class=\"sk-item\"><div class=\"sk-estimator sk-toggleable\"><input class=\"sk-toggleable__control sk-hidden--visually\" id=\"4b7e4a1d-4427-47c1-ad67-81bb3637b82d\" type=\"checkbox\" checked><label for=\"4b7e4a1d-4427-47c1-ad67-81bb3637b82d\" class=\"sk-toggleable__label sk-toggleable__label-arrow\">KNeighborsClassifier</label><div class=\"sk-toggleable__content\"><pre>KNeighborsClassifier(n_neighbors=1)</pre></div></div></div></div></div>"
            ]
          },
          "metadata": {},
          "execution_count": 97
        }
      ],
      "source": [
        "smote_KNN = KNeighborsClassifier(n_neighbors=1)\n",
        "smote_KNN.fit(X_train_smote, y_train_smote)"
      ]
    },
    {
      "cell_type": "code",
      "execution_count": 98,
      "metadata": {
        "id": "-IQ8GazDbtlk"
      },
      "outputs": [],
      "source": [
        "# Save predictions \n",
        "smote_KNN_train_predictions = smote_KNN.predict(X_train_smote)\n",
        "smote_KNN_test_predictions = smote_KNN.predict(X_test_processed)"
      ]
    },
    {
      "cell_type": "code",
      "execution_count": 99,
      "metadata": {
        "colab": {
          "base_uri": "https://localhost:8080/"
        },
        "id": "FYjG7TIAfbb8",
        "outputId": "7bbeaf06-ac87-4045-94f2-ff949ae3c362"
      },
      "outputs": [
        {
          "output_type": "stream",
          "name": "stdout",
          "text": [
            "Training Metrics\n",
            "              precision    recall  f1-score   support\n",
            "\n",
            "          No     1.0000    1.0000    1.0000       633\n",
            "         Yes     1.0000    1.0000    1.0000       633\n",
            "\n",
            "    accuracy                         1.0000      1266\n",
            "   macro avg     1.0000    1.0000    1.0000      1266\n",
            "weighted avg     1.0000    1.0000    1.0000      1266\n",
            "\n",
            "\n",
            "Testing Metrics\n",
            "              precision    recall  f1-score   support\n",
            "\n",
            "          No     0.5096    0.6235    0.5608        85\n",
            "         Yes     0.8280    0.7512    0.7877       205\n",
            "\n",
            "    accuracy                         0.7138       290\n",
            "   macro avg     0.6688    0.6874    0.6743       290\n",
            "weighted avg     0.7346    0.7138    0.7212       290\n",
            "\n"
          ]
        }
      ],
      "source": [
        "# Run a classification report on both train and test datasets.\n",
        "print('Training Metrics')\n",
        "print(classification_report(y_train_smote, smote_KNN_train_predictions, digits = 4))\n",
        "print('\\nTesting Metrics')\n",
        "print(classification_report(y_test, smote_KNN_test_predictions, digits = 4))"
      ]
    },
    {
      "cell_type": "code",
      "execution_count": 100,
      "metadata": {
        "colab": {
          "base_uri": "https://localhost:8080/"
        },
        "id": "NLNGwnQVhjoQ",
        "outputId": "4562986a-6fc0-4096-8f6c-ae990d6eb127"
      },
      "outputs": [
        {
          "output_type": "execute_result",
          "data": {
            "text/plain": [
              "{'algorithm': 'auto',\n",
              " 'leaf_size': 30,\n",
              " 'metric': 'minkowski',\n",
              " 'metric_params': None,\n",
              " 'n_jobs': None,\n",
              " 'n_neighbors': 1,\n",
              " 'p': 2,\n",
              " 'weights': 'uniform'}"
            ]
          },
          "metadata": {},
          "execution_count": 100
        }
      ],
      "source": [
        "smote_KNN.get_params()"
      ]
    },
    {
      "cell_type": "code",
      "execution_count": 101,
      "metadata": {
        "id": "mtS_z4dviJtd"
      },
      "outputs": [],
      "source": [
        "#Parameters to tune\n",
        "smote_params = {'n_neighbors': range(1, 20),\n",
        "          'weights': ['uniform', 'distance'],\n",
        "          'p': [2, 3, 4]}"
      ]
    },
    {
      "cell_type": "code",
      "execution_count": 102,
      "metadata": {
        "colab": {
          "base_uri": "https://localhost:8080/",
          "height": 92
        },
        "id": "mN8XUqUKiPaY",
        "outputId": "e64d6848-94b2-4c32-aa11-5e5ae482a5ed"
      },
      "outputs": [
        {
          "output_type": "execute_result",
          "data": {
            "text/plain": [
              "GridSearchCV(estimator=KNeighborsClassifier(n_neighbors=1),\n",
              "             param_grid={'n_neighbors': range(1, 20), 'p': [2, 3, 4],\n",
              "                         'weights': ['uniform', 'distance']})"
            ],
            "text/html": [
              "<style>#sk-f584841a-58a8-4f35-9cb4-68c680ff63ce {color: black;background-color: white;}#sk-f584841a-58a8-4f35-9cb4-68c680ff63ce pre{padding: 0;}#sk-f584841a-58a8-4f35-9cb4-68c680ff63ce div.sk-toggleable {background-color: white;}#sk-f584841a-58a8-4f35-9cb4-68c680ff63ce label.sk-toggleable__label {cursor: pointer;display: block;width: 100%;margin-bottom: 0;padding: 0.3em;box-sizing: border-box;text-align: center;}#sk-f584841a-58a8-4f35-9cb4-68c680ff63ce label.sk-toggleable__label-arrow:before {content: \"▸\";float: left;margin-right: 0.25em;color: #696969;}#sk-f584841a-58a8-4f35-9cb4-68c680ff63ce label.sk-toggleable__label-arrow:hover:before {color: black;}#sk-f584841a-58a8-4f35-9cb4-68c680ff63ce div.sk-estimator:hover label.sk-toggleable__label-arrow:before {color: black;}#sk-f584841a-58a8-4f35-9cb4-68c680ff63ce div.sk-toggleable__content {max-height: 0;max-width: 0;overflow: hidden;text-align: left;background-color: #f0f8ff;}#sk-f584841a-58a8-4f35-9cb4-68c680ff63ce div.sk-toggleable__content pre {margin: 0.2em;color: black;border-radius: 0.25em;background-color: #f0f8ff;}#sk-f584841a-58a8-4f35-9cb4-68c680ff63ce input.sk-toggleable__control:checked~div.sk-toggleable__content {max-height: 200px;max-width: 100%;overflow: auto;}#sk-f584841a-58a8-4f35-9cb4-68c680ff63ce input.sk-toggleable__control:checked~label.sk-toggleable__label-arrow:before {content: \"▾\";}#sk-f584841a-58a8-4f35-9cb4-68c680ff63ce div.sk-estimator input.sk-toggleable__control:checked~label.sk-toggleable__label {background-color: #d4ebff;}#sk-f584841a-58a8-4f35-9cb4-68c680ff63ce div.sk-label input.sk-toggleable__control:checked~label.sk-toggleable__label {background-color: #d4ebff;}#sk-f584841a-58a8-4f35-9cb4-68c680ff63ce input.sk-hidden--visually {border: 0;clip: rect(1px 1px 1px 1px);clip: rect(1px, 1px, 1px, 1px);height: 1px;margin: -1px;overflow: hidden;padding: 0;position: absolute;width: 1px;}#sk-f584841a-58a8-4f35-9cb4-68c680ff63ce div.sk-estimator {font-family: monospace;background-color: #f0f8ff;border: 1px dotted black;border-radius: 0.25em;box-sizing: border-box;margin-bottom: 0.5em;}#sk-f584841a-58a8-4f35-9cb4-68c680ff63ce div.sk-estimator:hover {background-color: #d4ebff;}#sk-f584841a-58a8-4f35-9cb4-68c680ff63ce div.sk-parallel-item::after {content: \"\";width: 100%;border-bottom: 1px solid gray;flex-grow: 1;}#sk-f584841a-58a8-4f35-9cb4-68c680ff63ce div.sk-label:hover label.sk-toggleable__label {background-color: #d4ebff;}#sk-f584841a-58a8-4f35-9cb4-68c680ff63ce div.sk-serial::before {content: \"\";position: absolute;border-left: 1px solid gray;box-sizing: border-box;top: 2em;bottom: 0;left: 50%;}#sk-f584841a-58a8-4f35-9cb4-68c680ff63ce div.sk-serial {display: flex;flex-direction: column;align-items: center;background-color: white;padding-right: 0.2em;padding-left: 0.2em;}#sk-f584841a-58a8-4f35-9cb4-68c680ff63ce div.sk-item {z-index: 1;}#sk-f584841a-58a8-4f35-9cb4-68c680ff63ce div.sk-parallel {display: flex;align-items: stretch;justify-content: center;background-color: white;}#sk-f584841a-58a8-4f35-9cb4-68c680ff63ce div.sk-parallel::before {content: \"\";position: absolute;border-left: 1px solid gray;box-sizing: border-box;top: 2em;bottom: 0;left: 50%;}#sk-f584841a-58a8-4f35-9cb4-68c680ff63ce div.sk-parallel-item {display: flex;flex-direction: column;position: relative;background-color: white;}#sk-f584841a-58a8-4f35-9cb4-68c680ff63ce div.sk-parallel-item:first-child::after {align-self: flex-end;width: 50%;}#sk-f584841a-58a8-4f35-9cb4-68c680ff63ce div.sk-parallel-item:last-child::after {align-self: flex-start;width: 50%;}#sk-f584841a-58a8-4f35-9cb4-68c680ff63ce div.sk-parallel-item:only-child::after {width: 0;}#sk-f584841a-58a8-4f35-9cb4-68c680ff63ce div.sk-dashed-wrapped {border: 1px dashed gray;margin: 0 0.4em 0.5em 0.4em;box-sizing: border-box;padding-bottom: 0.4em;background-color: white;position: relative;}#sk-f584841a-58a8-4f35-9cb4-68c680ff63ce div.sk-label label {font-family: monospace;font-weight: bold;background-color: white;display: inline-block;line-height: 1.2em;}#sk-f584841a-58a8-4f35-9cb4-68c680ff63ce div.sk-label-container {position: relative;z-index: 2;text-align: center;}#sk-f584841a-58a8-4f35-9cb4-68c680ff63ce div.sk-container {/* jupyter's `normalize.less` sets `[hidden] { display: none; }` but bootstrap.min.css set `[hidden] { display: none !important; }` so we also need the `!important` here to be able to override the default hidden behavior on the sphinx rendered scikit-learn.org. See: https://github.com/scikit-learn/scikit-learn/issues/21755 */display: inline-block !important;position: relative;}#sk-f584841a-58a8-4f35-9cb4-68c680ff63ce div.sk-text-repr-fallback {display: none;}</style><div id=\"sk-f584841a-58a8-4f35-9cb4-68c680ff63ce\" class=\"sk-top-container\"><div class=\"sk-text-repr-fallback\"><pre>GridSearchCV(estimator=KNeighborsClassifier(n_neighbors=1),\n",
              "             param_grid={&#x27;n_neighbors&#x27;: range(1, 20), &#x27;p&#x27;: [2, 3, 4],\n",
              "                         &#x27;weights&#x27;: [&#x27;uniform&#x27;, &#x27;distance&#x27;]})</pre><b>Please rerun this cell to show the HTML repr or trust the notebook.</b></div><div class=\"sk-container\" hidden><div class=\"sk-item sk-dashed-wrapped\"><div class=\"sk-label-container\"><div class=\"sk-label sk-toggleable\"><input class=\"sk-toggleable__control sk-hidden--visually\" id=\"6da8cc16-1040-428f-be7f-4dee7b27e550\" type=\"checkbox\" ><label for=\"6da8cc16-1040-428f-be7f-4dee7b27e550\" class=\"sk-toggleable__label sk-toggleable__label-arrow\">GridSearchCV</label><div class=\"sk-toggleable__content\"><pre>GridSearchCV(estimator=KNeighborsClassifier(n_neighbors=1),\n",
              "             param_grid={&#x27;n_neighbors&#x27;: range(1, 20), &#x27;p&#x27;: [2, 3, 4],\n",
              "                         &#x27;weights&#x27;: [&#x27;uniform&#x27;, &#x27;distance&#x27;]})</pre></div></div></div><div class=\"sk-parallel\"><div class=\"sk-parallel-item\"><div class=\"sk-item\"><div class=\"sk-serial\"><div class=\"sk-item\"><div class=\"sk-estimator sk-toggleable\"><input class=\"sk-toggleable__control sk-hidden--visually\" id=\"dc63cd91-9f1c-4da2-97e7-6094f886e231\" type=\"checkbox\" ><label for=\"dc63cd91-9f1c-4da2-97e7-6094f886e231\" class=\"sk-toggleable__label sk-toggleable__label-arrow\">KNeighborsClassifier</label><div class=\"sk-toggleable__content\"><pre>KNeighborsClassifier(n_neighbors=1)</pre></div></div></div></div></div></div></div></div></div></div>"
            ]
          },
          "metadata": {},
          "execution_count": 102
        }
      ],
      "source": [
        "# Instantiate a gridsearch with the KNN model and the hyperparamter dictionary\n",
        "smote_knn_grid = GridSearchCV(smote_KNN, smote_params)\n",
        "smote_knn_grid.fit(X_train_smote, y_train_smote)"
      ]
    },
    {
      "cell_type": "code",
      "execution_count": 103,
      "metadata": {
        "colab": {
          "base_uri": "https://localhost:8080/"
        },
        "id": "uBDJdpPeonQM",
        "outputId": "c73f718b-e387-435f-9c8a-dde132f2834b"
      },
      "outputs": [
        {
          "output_type": "execute_result",
          "data": {
            "text/plain": [
              "{'n_neighbors': 1, 'p': 2, 'weights': 'uniform'}"
            ]
          },
          "metadata": {},
          "execution_count": 103
        }
      ],
      "source": [
        "smote_knn_grid.best_params_"
      ]
    },
    {
      "cell_type": "code",
      "execution_count": 104,
      "metadata": {
        "id": "DoHGD5EVow8B"
      },
      "outputs": [],
      "source": [
        "# extract the best version of the model from the gridsearch object\n",
        "best_smote_knn = smote_knn_grid.best_estimator_"
      ]
    },
    {
      "cell_type": "code",
      "execution_count": 105,
      "metadata": {
        "colab": {
          "base_uri": "https://localhost:8080/"
        },
        "id": "3faeUPQObtll",
        "outputId": "398973c1-e52a-4214-bcd6-127f9d68599b"
      },
      "outputs": [
        {
          "output_type": "stream",
          "name": "stdout",
          "text": [
            "Best Model Training Metrics\n",
            "              precision    recall  f1-score   support\n",
            "\n",
            "          No     1.0000    1.0000    1.0000       633\n",
            "         Yes     1.0000    1.0000    1.0000       633\n",
            "\n",
            "    accuracy                         1.0000      1266\n",
            "   macro avg     1.0000    1.0000    1.0000      1266\n",
            "weighted avg     1.0000    1.0000    1.0000      1266\n",
            "\n",
            "\n",
            "Best Model Testing Metrics\n",
            "              precision    recall  f1-score   support\n",
            "\n",
            "          No     0.5096    0.6235    0.5608        85\n",
            "         Yes     0.8280    0.7512    0.7877       205\n",
            "\n",
            "    accuracy                         0.7138       290\n",
            "   macro avg     0.6688    0.6874    0.6743       290\n",
            "weighted avg     0.7346    0.7138    0.7212       290\n",
            "\n"
          ]
        }
      ],
      "source": [
        "# Run a classification report on both train and test datasets for the best model. \n",
        "smote_KNN_train_preds = best_smote_knn.predict(X_train_smote)\n",
        "smote_KNN_test_preds = best_smote_knn.predict(X_test_processed)\n",
        "\n",
        "print('Best Model Training Metrics')\n",
        "print(classification_report(y_train_smote, smote_KNN_train_preds, digits = 4))\n",
        "print('\\nBest Model Testing Metrics')\n",
        "print(classification_report(y_test, smote_KNN_test_preds, digits = 4))"
      ]
    },
    {
      "cell_type": "code",
      "execution_count": 106,
      "metadata": {
        "colab": {
          "base_uri": "https://localhost:8080/",
          "height": 297
        },
        "id": "GWqlP4wSbtlm",
        "outputId": "fa6f22c1-eb76-4ffc-b100-06a39b59c35d"
      },
      "outputs": [
        {
          "output_type": "execute_result",
          "data": {
            "text/plain": [
              "<sklearn.metrics._plot.confusion_matrix.ConfusionMatrixDisplay at 0x7f025d4c3050>"
            ]
          },
          "metadata": {},
          "execution_count": 106
        },
        {
          "output_type": "display_data",
          "data": {
            "text/plain": [
              "<Figure size 576x288 with 2 Axes>"
            ],
            "image/png": "[encoded data removed]"
          },
          "metadata": {
            "needs_background": "light"
          }
        }
      ],
      "source": [
        "# \"The following Code (\"fig, ax\") adapted from: https://panjeh.medium.com/figure-size-plot-confusion-matrix-in-scikit-learn-2c66f3a69d81\"\n",
        "fig, ax = plt.subplots(figsize=(8, 4))\n",
        "ConfusionMatrixDisplay.from_predictions(y_test, smote_KNN_test_preds, cmap = 'Blues',  normalize = 'true', ax=ax)"
      ]
    },
    {
      "cell_type": "markdown",
      "metadata": {
        "id": "9MA5Y4JBGpL0"
      },
      "source": [
        "## 21. Random Forest Model"
      ]
    },
    {
      "cell_type": "code",
      "execution_count": 107,
      "metadata": {
        "id": "hCa9CDTy9jpP"
      },
      "outputs": [],
      "source": [
        "#Create a pipeline with the preprocessed data (preprocessor) and RandomForestClassifier\n",
        "rf = RandomForestClassifier(random_state = 42)\n",
        "rf_pipe = make_pipeline(preprocessor, rf)\n",
        "#Fit Random Forest model pipeline and save predictions test set\n",
        "rf_pipe.fit(X_train, y_train)\n",
        "rf_train_predictions = rf_pipe.predict(X_train)\n",
        "rf_test_predictions = rf_pipe.predict(X_test)"
      ]
    },
    {
      "cell_type": "code",
      "execution_count": 108,
      "metadata": {
        "colab": {
          "base_uri": "https://localhost:8080/"
        },
        "id": "swqt3dL1Nc_D",
        "outputId": "f332ca24-1d0e-4224-e874-81bc283d9def"
      },
      "outputs": [
        {
          "output_type": "stream",
          "name": "stdout",
          "text": [
            "Training Metrics\n",
            "              precision    recall  f1-score   support\n",
            "\n",
            "          No     1.0000    1.0000    1.0000       237\n",
            "         Yes     1.0000    1.0000    1.0000       633\n",
            "\n",
            "    accuracy                         1.0000       870\n",
            "   macro avg     1.0000    1.0000    1.0000       870\n",
            "weighted avg     1.0000    1.0000    1.0000       870\n",
            "\n",
            "\n",
            "Testing Metrics\n",
            "              precision    recall  f1-score   support\n",
            "\n",
            "          No     0.7246    0.5882    0.6494        85\n",
            "         Yes     0.8416    0.9073    0.8732       205\n",
            "\n",
            "    accuracy                         0.8138       290\n",
            "   macro avg     0.7831    0.7478    0.7613       290\n",
            "weighted avg     0.8073    0.8138    0.8076       290\n",
            "\n"
          ]
        }
      ],
      "source": [
        "# Run a classification report on both train and test datasets.\n",
        "print('Training Metrics')\n",
        "print(classification_report(y_train, rf_train_predictions, digits = 4))\n",
        "print('\\nTesting Metrics')\n",
        "print(classification_report(y_test, rf_test_predictions, digits = 4))"
      ]
    },
    {
      "cell_type": "markdown",
      "metadata": {
        "id": "eiR3g1ssHxGY"
      },
      "source": [
        "- The results from the default Random Forest model are not very good. The model did much better on the training set than the test set. This means the model is overfit. The accuracy, recall, precision and F1 scores were not very good on the testing set. Let's see if we can improve results on the testing set by tuning hyperparameters. "
      ]
    },
    {
      "cell_type": "markdown",
      "metadata": {
        "id": "T5KGEz3-IOfv"
      },
      "source": [
        "**a) GridSearchCV**"
      ]
    },
    {
      "cell_type": "code",
      "execution_count": 109,
      "metadata": {
        "colab": {
          "base_uri": "https://localhost:8080/"
        },
        "id": "OemIP5s6IOfv",
        "outputId": "0bbfe573-2ad8-4949-d552-a64e7f473ce6"
      },
      "outputs": [
        {
          "output_type": "execute_result",
          "data": {
            "text/plain": [
              "{'columntransformer': ColumnTransformer(remainder='passthrough',\n",
              "                   transformers=[('pipeline',\n",
              "                                  Pipeline(steps=[('simpleimputer',\n",
              "                                                   SimpleImputer(strategy='median')),\n",
              "                                                  ('standardscaler',\n",
              "                                                   StandardScaler())]),\n",
              "                                  <sklearn.compose._column_transformer.make_column_selector object at 0x7f025d12c610>),\n",
              "                                 ('onehotencoder',\n",
              "                                  OneHotEncoder(handle_unknown='ignore',\n",
              "                                                sparse=False),\n",
              "                                  <sklearn.compose._column_transformer.make_column_selector object at 0x7f025d12cc50>)]),\n",
              " 'columntransformer__n_jobs': None,\n",
              " 'columntransformer__onehotencoder': OneHotEncoder(handle_unknown='ignore', sparse=False),\n",
              " 'columntransformer__onehotencoder__categories': 'auto',\n",
              " 'columntransformer__onehotencoder__drop': None,\n",
              " 'columntransformer__onehotencoder__dtype': numpy.float64,\n",
              " 'columntransformer__onehotencoder__handle_unknown': 'ignore',\n",
              " 'columntransformer__onehotencoder__sparse': False,\n",
              " 'columntransformer__pipeline': Pipeline(steps=[('simpleimputer', SimpleImputer(strategy='median')),\n",
              "                 ('standardscaler', StandardScaler())]),\n",
              " 'columntransformer__pipeline__memory': None,\n",
              " 'columntransformer__pipeline__simpleimputer': SimpleImputer(strategy='median'),\n",
              " 'columntransformer__pipeline__simpleimputer__add_indicator': False,\n",
              " 'columntransformer__pipeline__simpleimputer__copy': True,\n",
              " 'columntransformer__pipeline__simpleimputer__fill_value': None,\n",
              " 'columntransformer__pipeline__simpleimputer__missing_values': nan,\n",
              " 'columntransformer__pipeline__simpleimputer__strategy': 'median',\n",
              " 'columntransformer__pipeline__simpleimputer__verbose': 0,\n",
              " 'columntransformer__pipeline__standardscaler': StandardScaler(),\n",
              " 'columntransformer__pipeline__standardscaler__copy': True,\n",
              " 'columntransformer__pipeline__standardscaler__with_mean': True,\n",
              " 'columntransformer__pipeline__standardscaler__with_std': True,\n",
              " 'columntransformer__pipeline__steps': [('simpleimputer',\n",
              "   SimpleImputer(strategy='median')),\n",
              "  ('standardscaler', StandardScaler())],\n",
              " 'columntransformer__pipeline__verbose': False,\n",
              " 'columntransformer__remainder': 'passthrough',\n",
              " 'columntransformer__sparse_threshold': 0.3,\n",
              " 'columntransformer__transformer_weights': None,\n",
              " 'columntransformer__transformers': [('pipeline',\n",
              "   Pipeline(steps=[('simpleimputer', SimpleImputer(strategy='median')),\n",
              "                   ('standardscaler', StandardScaler())]),\n",
              "   <sklearn.compose._column_transformer.make_column_selector at 0x7f025d12c610>),\n",
              "  ('onehotencoder',\n",
              "   OneHotEncoder(handle_unknown='ignore', sparse=False),\n",
              "   <sklearn.compose._column_transformer.make_column_selector at 0x7f025d12cc50>)],\n",
              " 'columntransformer__verbose': False,\n",
              " 'columntransformer__verbose_feature_names_out': True,\n",
              " 'memory': None,\n",
              " 'randomforestclassifier': RandomForestClassifier(random_state=42),\n",
              " 'randomforestclassifier__bootstrap': True,\n",
              " 'randomforestclassifier__ccp_alpha': 0.0,\n",
              " 'randomforestclassifier__class_weight': None,\n",
              " 'randomforestclassifier__criterion': 'gini',\n",
              " 'randomforestclassifier__max_depth': None,\n",
              " 'randomforestclassifier__max_features': 'auto',\n",
              " 'randomforestclassifier__max_leaf_nodes': None,\n",
              " 'randomforestclassifier__max_samples': None,\n",
              " 'randomforestclassifier__min_impurity_decrease': 0.0,\n",
              " 'randomforestclassifier__min_samples_leaf': 1,\n",
              " 'randomforestclassifier__min_samples_split': 2,\n",
              " 'randomforestclassifier__min_weight_fraction_leaf': 0.0,\n",
              " 'randomforestclassifier__n_estimators': 100,\n",
              " 'randomforestclassifier__n_jobs': None,\n",
              " 'randomforestclassifier__oob_score': False,\n",
              " 'randomforestclassifier__random_state': 42,\n",
              " 'randomforestclassifier__verbose': 0,\n",
              " 'randomforestclassifier__warm_start': False,\n",
              " 'steps': [('columntransformer', ColumnTransformer(remainder='passthrough',\n",
              "                     transformers=[('pipeline',\n",
              "                                    Pipeline(steps=[('simpleimputer',\n",
              "                                                     SimpleImputer(strategy='median')),\n",
              "                                                    ('standardscaler',\n",
              "                                                     StandardScaler())]),\n",
              "                                    <sklearn.compose._column_transformer.make_column_selector object at 0x7f025d12c610>),\n",
              "                                   ('onehotencoder',\n",
              "                                    OneHotEncoder(handle_unknown='ignore',\n",
              "                                                  sparse=False),\n",
              "                                    <sklearn.compose._column_transformer.make_column_selector object at 0x7f025d12cc50>)])),\n",
              "  ('randomforestclassifier', RandomForestClassifier(random_state=42))],\n",
              " 'verbose': False}"
            ]
          },
          "metadata": {},
          "execution_count": 109
        }
      ],
      "source": [
        "rf_pipe.get_params()"
      ]
    },
    {
      "cell_type": "code",
      "execution_count": 110,
      "metadata": {
        "id": "AFon6xavIOfw"
      },
      "outputs": [],
      "source": [
        "#Parameters to tune\n",
        "rf_params = {'randomforestclassifier__max_depth' : [None, 5],\n",
        "             'randomforestclassifier__n_estimators' : [100, 300, 500],\n",
        "             'randomforestclassifier__min_samples_split' : [2, 4]}"
      ]
    },
    {
      "cell_type": "code",
      "execution_count": 111,
      "metadata": {
        "colab": {
          "base_uri": "https://localhost:8080/",
          "height": 228
        },
        "id": "JnnzaiLpIOfw",
        "outputId": "0f9f17b9-084c-4474-dc51-985792879a74"
      },
      "outputs": [
        {
          "output_type": "execute_result",
          "data": {
            "text/plain": [
              "GridSearchCV(estimator=Pipeline(steps=[('columntransformer',\n",
              "                                        ColumnTransformer(remainder='passthrough',\n",
              "                                                          transformers=[('pipeline',\n",
              "                                                                         Pipeline(steps=[('simpleimputer',\n",
              "                                                                                          SimpleImputer(strategy='median')),\n",
              "                                                                                         ('standardscaler',\n",
              "                                                                                          StandardScaler())]),\n",
              "                                                                         <sklearn.compose._column_transformer.make_column_selector object at 0x7f025d12c610>),\n",
              "                                                                        ('onehotencoder',\n",
              "                                                                         OneHotEncoder(handle_unknown='ignore',\n",
              "                                                                                       sparse=False),\n",
              "                                                                         <sklearn.compose._column_transformer.make_column_selector object at 0x7f025d12cc50>)])),\n",
              "                                       ('randomforestclassifier',\n",
              "                                        RandomForestClassifier(random_state=42))]),\n",
              "             param_grid={'randomforestclassifier__max_depth': [None, 5],\n",
              "                         'randomforestclassifier__min_samples_split': [2, 4],\n",
              "                         'randomforestclassifier__n_estimators': [100, 300,\n",
              "                                                                  500]})"
            ],
            "text/html": [
              "<style>#sk-9f2b6582-a8ba-4acf-b74a-68925808b96f {color: black;background-color: white;}#sk-9f2b6582-a8ba-4acf-b74a-68925808b96f pre{padding: 0;}#sk-9f2b6582-a8ba-4acf-b74a-68925808b96f div.sk-toggleable {background-color: white;}#sk-9f2b6582-a8ba-4acf-b74a-68925808b96f label.sk-toggleable__label {cursor: pointer;display: block;width: 100%;margin-bottom: 0;padding: 0.3em;box-sizing: border-box;text-align: center;}#sk-9f2b6582-a8ba-4acf-b74a-68925808b96f label.sk-toggleable__label-arrow:before {content: \"▸\";float: left;margin-right: 0.25em;color: #696969;}#sk-9f2b6582-a8ba-4acf-b74a-68925808b96f label.sk-toggleable__label-arrow:hover:before {color: black;}#sk-9f2b6582-a8ba-4acf-b74a-68925808b96f div.sk-estimator:hover label.sk-toggleable__label-arrow:before {color: black;}#sk-9f2b6582-a8ba-4acf-b74a-68925808b96f div.sk-toggleable__content {max-height: 0;max-width: 0;overflow: hidden;text-align: left;background-color: #f0f8ff;}#sk-9f2b6582-a8ba-4acf-b74a-68925808b96f div.sk-toggleable__content pre {margin: 0.2em;color: black;border-radius: 0.25em;background-color: #f0f8ff;}#sk-9f2b6582-a8ba-4acf-b74a-68925808b96f input.sk-toggleable__control:checked~div.sk-toggleable__content {max-height: 200px;max-width: 100%;overflow: auto;}#sk-9f2b6582-a8ba-4acf-b74a-68925808b96f input.sk-toggleable__control:checked~label.sk-toggleable__label-arrow:before {content: \"▾\";}#sk-9f2b6582-a8ba-4acf-b74a-68925808b96f div.sk-estimator input.sk-toggleable__control:checked~label.sk-toggleable__label {background-color: #d4ebff;}#sk-9f2b6582-a8ba-4acf-b74a-68925808b96f div.sk-label input.sk-toggleable__control:checked~label.sk-toggleable__label {background-color: #d4ebff;}#sk-9f2b6582-a8ba-4acf-b74a-68925808b96f input.sk-hidden--visually {border: 0;clip: rect(1px 1px 1px 1px);clip: rect(1px, 1px, 1px, 1px);height: 1px;margin: -1px;overflow: hidden;padding: 0;position: absolute;width: 1px;}#sk-9f2b6582-a8ba-4acf-b74a-68925808b96f div.sk-estimator {font-family: monospace;background-color: #f0f8ff;border: 1px dotted black;border-radius: 0.25em;box-sizing: border-box;margin-bottom: 0.5em;}#sk-9f2b6582-a8ba-4acf-b74a-68925808b96f div.sk-estimator:hover {background-color: #d4ebff;}#sk-9f2b6582-a8ba-4acf-b74a-68925808b96f div.sk-parallel-item::after {content: \"\";width: 100%;border-bottom: 1px solid gray;flex-grow: 1;}#sk-9f2b6582-a8ba-4acf-b74a-68925808b96f div.sk-label:hover label.sk-toggleable__label {background-color: #d4ebff;}#sk-9f2b6582-a8ba-4acf-b74a-68925808b96f div.sk-serial::before {content: \"\";position: absolute;border-left: 1px solid gray;box-sizing: border-box;top: 2em;bottom: 0;left: 50%;}#sk-9f2b6582-a8ba-4acf-b74a-68925808b96f div.sk-serial {display: flex;flex-direction: column;align-items: center;background-color: white;padding-right: 0.2em;padding-left: 0.2em;}#sk-9f2b6582-a8ba-4acf-b74a-68925808b96f div.sk-item {z-index: 1;}#sk-9f2b6582-a8ba-4acf-b74a-68925808b96f div.sk-parallel {display: flex;align-items: stretch;justify-content: center;background-color: white;}#sk-9f2b6582-a8ba-4acf-b74a-68925808b96f div.sk-parallel::before {content: \"\";position: absolute;border-left: 1px solid gray;box-sizing: border-box;top: 2em;bottom: 0;left: 50%;}#sk-9f2b6582-a8ba-4acf-b74a-68925808b96f div.sk-parallel-item {display: flex;flex-direction: column;position: relative;background-color: white;}#sk-9f2b6582-a8ba-4acf-b74a-68925808b96f div.sk-parallel-item:first-child::after {align-self: flex-end;width: 50%;}#sk-9f2b6582-a8ba-4acf-b74a-68925808b96f div.sk-parallel-item:last-child::after {align-self: flex-start;width: 50%;}#sk-9f2b6582-a8ba-4acf-b74a-68925808b96f div.sk-parallel-item:only-child::after {width: 0;}#sk-9f2b6582-a8ba-4acf-b74a-68925808b96f div.sk-dashed-wrapped {border: 1px dashed gray;margin: 0 0.4em 0.5em 0.4em;box-sizing: border-box;padding-bottom: 0.4em;background-color: white;position: relative;}#sk-9f2b6582-a8ba-4acf-b74a-68925808b96f div.sk-label label {font-family: monospace;font-weight: bold;background-color: white;display: inline-block;line-height: 1.2em;}#sk-9f2b6582-a8ba-4acf-b74a-68925808b96f div.sk-label-container {position: relative;z-index: 2;text-align: center;}#sk-9f2b6582-a8ba-4acf-b74a-68925808b96f div.sk-container {/* jupyter's `normalize.less` sets `[hidden] { display: none; }` but bootstrap.min.css set `[hidden] { display: none !important; }` so we also need the `!important` here to be able to override the default hidden behavior on the sphinx rendered scikit-learn.org. See: https://github.com/scikit-learn/scikit-learn/issues/21755 */display: inline-block !important;position: relative;}#sk-9f2b6582-a8ba-4acf-b74a-68925808b96f div.sk-text-repr-fallback {display: none;}</style><div id=\"sk-9f2b6582-a8ba-4acf-b74a-68925808b96f\" class=\"sk-top-container\"><div class=\"sk-text-repr-fallback\"><pre>GridSearchCV(estimator=Pipeline(steps=[(&#x27;columntransformer&#x27;,\n",
              "                                        ColumnTransformer(remainder=&#x27;passthrough&#x27;,\n",
              "                                                          transformers=[(&#x27;pipeline&#x27;,\n",
              "                                                                         Pipeline(steps=[(&#x27;simpleimputer&#x27;,\n",
              "                                                                                          SimpleImputer(strategy=&#x27;median&#x27;)),\n",
              "                                                                                         (&#x27;standardscaler&#x27;,\n",
              "                                                                                          StandardScaler())]),\n",
              "                                                                         &lt;sklearn.compose._column_transformer.make_column_selector object at 0x7f025d12c610&gt;),\n",
              "                                                                        (&#x27;onehotencoder&#x27;,\n",
              "                                                                         OneHotEncoder(handle_unknown=&#x27;ignore&#x27;,\n",
              "                                                                                       sparse=False),\n",
              "                                                                         &lt;sklearn.compose._column_transformer.make_column_selector object at 0x7f025d12cc50&gt;)])),\n",
              "                                       (&#x27;randomforestclassifier&#x27;,\n",
              "                                        RandomForestClassifier(random_state=42))]),\n",
              "             param_grid={&#x27;randomforestclassifier__max_depth&#x27;: [None, 5],\n",
              "                         &#x27;randomforestclassifier__min_samples_split&#x27;: [2, 4],\n",
              "                         &#x27;randomforestclassifier__n_estimators&#x27;: [100, 300,\n",
              "                                                                  500]})</pre><b>Please rerun this cell to show the HTML repr or trust the notebook.</b></div><div class=\"sk-container\" hidden><div class=\"sk-item sk-dashed-wrapped\"><div class=\"sk-label-container\"><div class=\"sk-label sk-toggleable\"><input class=\"sk-toggleable__control sk-hidden--visually\" id=\"df1e4435-9df5-469b-90d4-2536f49e74d1\" type=\"checkbox\" ><label for=\"df1e4435-9df5-469b-90d4-2536f49e74d1\" class=\"sk-toggleable__label sk-toggleable__label-arrow\">GridSearchCV</label><div class=\"sk-toggleable__content\"><pre>GridSearchCV(estimator=Pipeline(steps=[(&#x27;columntransformer&#x27;,\n",
              "                                        ColumnTransformer(remainder=&#x27;passthrough&#x27;,\n",
              "                                                          transformers=[(&#x27;pipeline&#x27;,\n",
              "                                                                         Pipeline(steps=[(&#x27;simpleimputer&#x27;,\n",
              "                                                                                          SimpleImputer(strategy=&#x27;median&#x27;)),\n",
              "                                                                                         (&#x27;standardscaler&#x27;,\n",
              "                                                                                          StandardScaler())]),\n",
              "                                                                         &lt;sklearn.compose._column_transformer.make_column_selector object at 0x7f025d12c610&gt;),\n",
              "                                                                        (&#x27;onehotencoder&#x27;,\n",
              "                                                                         OneHotEncoder(handle_unknown=&#x27;ignore&#x27;,\n",
              "                                                                                       sparse=False),\n",
              "                                                                         &lt;sklearn.compose._column_transformer.make_column_selector object at 0x7f025d12cc50&gt;)])),\n",
              "                                       (&#x27;randomforestclassifier&#x27;,\n",
              "                                        RandomForestClassifier(random_state=42))]),\n",
              "             param_grid={&#x27;randomforestclassifier__max_depth&#x27;: [None, 5],\n",
              "                         &#x27;randomforestclassifier__min_samples_split&#x27;: [2, 4],\n",
              "                         &#x27;randomforestclassifier__n_estimators&#x27;: [100, 300,\n",
              "                                                                  500]})</pre></div></div></div><div class=\"sk-parallel\"><div class=\"sk-parallel-item\"><div class=\"sk-item\"><div class=\"sk-serial\"><div class=\"sk-item\"><div class=\"sk-serial\"><div class=\"sk-item sk-dashed-wrapped\"><div class=\"sk-label-container\"><div class=\"sk-label sk-toggleable\"><input class=\"sk-toggleable__control sk-hidden--visually\" id=\"5cf5d466-6727-428f-bdaf-2961c3bbeef0\" type=\"checkbox\" ><label for=\"5cf5d466-6727-428f-bdaf-2961c3bbeef0\" class=\"sk-toggleable__label sk-toggleable__label-arrow\">columntransformer: ColumnTransformer</label><div class=\"sk-toggleable__content\"><pre>ColumnTransformer(remainder=&#x27;passthrough&#x27;,\n",
              "                  transformers=[(&#x27;pipeline&#x27;,\n",
              "                                 Pipeline(steps=[(&#x27;simpleimputer&#x27;,\n",
              "                                                  SimpleImputer(strategy=&#x27;median&#x27;)),\n",
              "                                                 (&#x27;standardscaler&#x27;,\n",
              "                                                  StandardScaler())]),\n",
              "                                 &lt;sklearn.compose._column_transformer.make_column_selector object at 0x7f025d12c610&gt;),\n",
              "                                (&#x27;onehotencoder&#x27;,\n",
              "                                 OneHotEncoder(handle_unknown=&#x27;ignore&#x27;,\n",
              "                                               sparse=False),\n",
              "                                 &lt;sklearn.compose._column_transformer.make_column_selector object at 0x7f025d12cc50&gt;)])</pre></div></div></div><div class=\"sk-parallel\"><div class=\"sk-parallel-item\"><div class=\"sk-item\"><div class=\"sk-label-container\"><div class=\"sk-label sk-toggleable\"><input class=\"sk-toggleable__control sk-hidden--visually\" id=\"d7d3432b-9768-4682-bfa5-aa2f4ba055a8\" type=\"checkbox\" ><label for=\"d7d3432b-9768-4682-bfa5-aa2f4ba055a8\" class=\"sk-toggleable__label sk-toggleable__label-arrow\">pipeline</label><div class=\"sk-toggleable__content\"><pre>&lt;sklearn.compose._column_transformer.make_column_selector object at 0x7f025d12c610&gt;</pre></div></div></div><div class=\"sk-serial\"><div class=\"sk-item\"><div class=\"sk-serial\"><div class=\"sk-item\"><div class=\"sk-estimator sk-toggleable\"><input class=\"sk-toggleable__control sk-hidden--visually\" id=\"e354075b-41a4-40c3-b036-d526e731540d\" type=\"checkbox\" ><label for=\"e354075b-41a4-40c3-b036-d526e731540d\" class=\"sk-toggleable__label sk-toggleable__label-arrow\">SimpleImputer</label><div class=\"sk-toggleable__content\"><pre>SimpleImputer(strategy=&#x27;median&#x27;)</pre></div></div></div><div class=\"sk-item\"><div class=\"sk-estimator sk-toggleable\"><input class=\"sk-toggleable__control sk-hidden--visually\" id=\"86b3e4eb-2e86-4eac-948b-c88873a7cf83\" type=\"checkbox\" ><label for=\"86b3e4eb-2e86-4eac-948b-c88873a7cf83\" class=\"sk-toggleable__label sk-toggleable__label-arrow\">StandardScaler</label><div class=\"sk-toggleable__content\"><pre>StandardScaler()</pre></div></div></div></div></div></div></div></div><div class=\"sk-parallel-item\"><div class=\"sk-item\"><div class=\"sk-label-container\"><div class=\"sk-label sk-toggleable\"><input class=\"sk-toggleable__control sk-hidden--visually\" id=\"4a972ee0-e172-4d18-9ae6-d464f8320115\" type=\"checkbox\" ><label for=\"4a972ee0-e172-4d18-9ae6-d464f8320115\" class=\"sk-toggleable__label sk-toggleable__label-arrow\">onehotencoder</label><div class=\"sk-toggleable__content\"><pre>&lt;sklearn.compose._column_transformer.make_column_selector object at 0x7f025d12cc50&gt;</pre></div></div></div><div class=\"sk-serial\"><div class=\"sk-item\"><div class=\"sk-estimator sk-toggleable\"><input class=\"sk-toggleable__control sk-hidden--visually\" id=\"53dac28b-2da2-4699-af7f-e357597c08b4\" type=\"checkbox\" ><label for=\"53dac28b-2da2-4699-af7f-e357597c08b4\" class=\"sk-toggleable__label sk-toggleable__label-arrow\">OneHotEncoder</label><div class=\"sk-toggleable__content\"><pre>OneHotEncoder(handle_unknown=&#x27;ignore&#x27;, sparse=False)</pre></div></div></div></div></div></div><div class=\"sk-parallel-item\"><div class=\"sk-item\"><div class=\"sk-label-container\"><div class=\"sk-label sk-toggleable\"><input class=\"sk-toggleable__control sk-hidden--visually\" id=\"261ea536-5025-468f-aefa-4ab39b73c57d\" type=\"checkbox\" ><label for=\"261ea536-5025-468f-aefa-4ab39b73c57d\" class=\"sk-toggleable__label sk-toggleable__label-arrow\">remainder</label><div class=\"sk-toggleable__content\"><pre>[]</pre></div></div></div><div class=\"sk-serial\"><div class=\"sk-item\"><div class=\"sk-estimator sk-toggleable\"><input class=\"sk-toggleable__control sk-hidden--visually\" id=\"9c568295-c3ef-4a47-8341-a7ec1cd971bc\" type=\"checkbox\" ><label for=\"9c568295-c3ef-4a47-8341-a7ec1cd971bc\" class=\"sk-toggleable__label sk-toggleable__label-arrow\">passthrough</label><div class=\"sk-toggleable__content\"><pre>passthrough</pre></div></div></div></div></div></div></div></div><div class=\"sk-item\"><div class=\"sk-estimator sk-toggleable\"><input class=\"sk-toggleable__control sk-hidden--visually\" id=\"5b4e7d1a-cf86-4fed-9f75-bbb6244bf75b\" type=\"checkbox\" ><label for=\"5b4e7d1a-cf86-4fed-9f75-bbb6244bf75b\" class=\"sk-toggleable__label sk-toggleable__label-arrow\">RandomForestClassifier</label><div class=\"sk-toggleable__content\"><pre>RandomForestClassifier(random_state=42)</pre></div></div></div></div></div></div></div></div></div></div></div></div>"
            ]
          },
          "metadata": {},
          "execution_count": 111
        }
      ],
      "source": [
        "# Instantiate a gridsearch with the Random Forest model and the hyperparameter dictionary\n",
        "rf_grid = GridSearchCV(rf_pipe, rf_params)\n",
        "rf_grid.fit(X_train, y_train)"
      ]
    },
    {
      "cell_type": "code",
      "execution_count": 112,
      "metadata": {
        "colab": {
          "base_uri": "https://localhost:8080/"
        },
        "id": "GLCFV69qIOfw",
        "outputId": "491d0205-5d4a-47ee-9fb8-6ac1aa8a9762"
      },
      "outputs": [
        {
          "output_type": "execute_result",
          "data": {
            "text/plain": [
              "{'randomforestclassifier__max_depth': None,\n",
              " 'randomforestclassifier__min_samples_split': 4,\n",
              " 'randomforestclassifier__n_estimators': 300}"
            ]
          },
          "metadata": {},
          "execution_count": 112
        }
      ],
      "source": [
        "# Check the optimal combinations of hyperparameters\n",
        "rf_grid.best_params_"
      ]
    },
    {
      "cell_type": "code",
      "execution_count": 113,
      "metadata": {
        "id": "u8sMMbY0IOfw"
      },
      "outputs": [],
      "source": [
        "# extract the best version of the model from the gridsearch object\n",
        "best_rf = rf_grid.best_estimator_"
      ]
    },
    {
      "cell_type": "code",
      "execution_count": 114,
      "metadata": {
        "colab": {
          "base_uri": "https://localhost:8080/"
        },
        "id": "YaCkURM7IOfw",
        "outputId": "531c1674-6411-4880-b98b-6336ec2bc429"
      },
      "outputs": [
        {
          "output_type": "stream",
          "name": "stdout",
          "text": [
            "Best Model Training Metrics\n",
            "              precision    recall  f1-score   support\n",
            "\n",
            "          No     0.9870    0.9578    0.9722       237\n",
            "         Yes     0.9844    0.9953    0.9898       633\n",
            "\n",
            "    accuracy                         0.9851       870\n",
            "   macro avg     0.9857    0.9765    0.9810       870\n",
            "weighted avg     0.9851    0.9851    0.9850       870\n",
            "\n",
            "\n",
            "Best Model Testing Metrics\n",
            "              precision    recall  f1-score   support\n",
            "\n",
            "          No     0.7143    0.5882    0.6452        85\n",
            "         Yes     0.8409    0.9024    0.8706       205\n",
            "\n",
            "    accuracy                         0.8103       290\n",
            "   macro avg     0.7776    0.7453    0.7579       290\n",
            "weighted avg     0.8038    0.8103    0.8045       290\n",
            "\n"
          ]
        }
      ],
      "source": [
        "# Run a classification report on both train and test datasets for the best model. \n",
        "train_rf_preds = best_rf.predict(X_train)\n",
        "test_rf_preds = best_rf.predict(X_test)\n",
        "\n",
        "print('Best Model Training Metrics')\n",
        "print(classification_report(y_train, train_rf_preds, digits = 4))\n",
        "print('\\nBest Model Testing Metrics')\n",
        "print(classification_report(y_test, test_rf_preds, digits = 4))"
      ]
    },
    {
      "cell_type": "markdown",
      "metadata": {
        "id": "AKjfszZiLtFC"
      },
      "source": [
        "- We can see from the above results that tuning our Random Forest model did not really improve our results. The testing scores are approximately the same or slightly lower. This model is still overfit. The overfitting was only reduced slightly as well."
      ]
    },
    {
      "cell_type": "markdown",
      "metadata": {
        "id": "ssxwVr24IOfx"
      },
      "source": [
        "**b) Confusion Matrices**"
      ]
    },
    {
      "cell_type": "code",
      "execution_count": 115,
      "metadata": {
        "colab": {
          "base_uri": "https://localhost:8080/",
          "height": 301
        },
        "id": "eX4WaX0zIOfx",
        "outputId": "8f3f2103-d409-4e11-fba4-a885b95d675d"
      },
      "outputs": [
        {
          "output_type": "execute_result",
          "data": {
            "text/plain": [
              "<sklearn.metrics._plot.confusion_matrix.ConfusionMatrixDisplay at 0x7f0258ef2750>"
            ]
          },
          "metadata": {},
          "execution_count": 115
        },
        {
          "output_type": "display_data",
          "data": {
            "text/plain": [
              "<Figure size 576x288 with 2 Axes>"
            ],
            "image/png": "[encoded data removed]"
          },
          "metadata": {
            "needs_background": "light"
          }
        }
      ],
      "source": [
        "# \"The following Code (\"fig, ax\") adapted from: https://panjeh.medium.com/figure-size-plot-confusion-matrix-in-scikit-learn-2c66f3a69d81\"\n",
        "fig, ax = plt.subplots(figsize=(8, 4))\n",
        "ConfusionMatrixDisplay.from_predictions(y_test, test_rf_preds, cmap = 'Blues',  normalize = 'true', ax=ax)"
      ]
    },
    {
      "cell_type": "markdown",
      "metadata": {
        "id": "-sXDEQ0nR4sN"
      },
      "source": [
        "Our optimized Random Forest model correctly classified 90% of the samples in our test set that were class 'Yes' (representing employee teams that met or exceeded their target productivity), and 59% of the samples in our test set that were class 'No' (representing employee teams that did not meet or exceed their target productivity)."
      ]
    },
    {
      "cell_type": "markdown",
      "metadata": {
        "id": "rsOMEi3Us9l3"
      },
      "source": [
        "## **SMOTE** (Random Forest)"
      ]
    },
    {
      "cell_type": "code",
      "execution_count": 181,
      "metadata": {
        "colab": {
          "base_uri": "https://localhost:8080/"
        },
        "id": "2SpbJMX4tFVy",
        "outputId": "ddee09a1-8454-4611-c8d4-295f3e06e80b"
      },
      "outputs": [
        {
          "output_type": "execute_result",
          "data": {
            "text/plain": [
              "Yes    633\n",
              "No     237\n",
              "Name: met_goal, dtype: int64"
            ]
          },
          "metadata": {},
          "execution_count": 181
        }
      ],
      "source": [
        "pd.Series(y_train).value_counts()"
      ]
    },
    {
      "cell_type": "code",
      "execution_count": 182,
      "metadata": {
        "colab": {
          "base_uri": "https://localhost:8080/"
        },
        "id": "3WP2fuTztFVz",
        "outputId": "5034d2ec-8085-4969-cc16-91a60350a7f5"
      },
      "outputs": [
        {
          "output_type": "execute_result",
          "data": {
            "text/plain": [
              "Yes    633\n",
              "No     633\n",
              "Name: met_goal, dtype: int64"
            ]
          },
          "metadata": {},
          "execution_count": 182
        }
      ],
      "source": [
        "smote = SMOTE(sampling_strategy = 'auto')\n",
        "\n",
        "X_train_smote, y_train_smote = smote.fit_resample(X_train_processed, y_train)\n",
        "pd.Series(y_train_smote).value_counts()"
      ]
    },
    {
      "cell_type": "code",
      "execution_count": 183,
      "metadata": {
        "colab": {
          "base_uri": "https://localhost:8080/",
          "height": 75
        },
        "id": "QruTmHCbtFVz",
        "outputId": "b0bce099-7114-4dad-b686-d92b607abe99"
      },
      "outputs": [
        {
          "output_type": "execute_result",
          "data": {
            "text/plain": [
              "RandomForestClassifier(random_state=42)"
            ],
            "text/html": [
              "<style>#sk-1a24520d-ccae-48cb-b5ed-fa145e8b1791 {color: black;background-color: white;}#sk-1a24520d-ccae-48cb-b5ed-fa145e8b1791 pre{padding: 0;}#sk-1a24520d-ccae-48cb-b5ed-fa145e8b1791 div.sk-toggleable {background-color: white;}#sk-1a24520d-ccae-48cb-b5ed-fa145e8b1791 label.sk-toggleable__label {cursor: pointer;display: block;width: 100%;margin-bottom: 0;padding: 0.3em;box-sizing: border-box;text-align: center;}#sk-1a24520d-ccae-48cb-b5ed-fa145e8b1791 label.sk-toggleable__label-arrow:before {content: \"▸\";float: left;margin-right: 0.25em;color: #696969;}#sk-1a24520d-ccae-48cb-b5ed-fa145e8b1791 label.sk-toggleable__label-arrow:hover:before {color: black;}#sk-1a24520d-ccae-48cb-b5ed-fa145e8b1791 div.sk-estimator:hover label.sk-toggleable__label-arrow:before {color: black;}#sk-1a24520d-ccae-48cb-b5ed-fa145e8b1791 div.sk-toggleable__content {max-height: 0;max-width: 0;overflow: hidden;text-align: left;background-color: #f0f8ff;}#sk-1a24520d-ccae-48cb-b5ed-fa145e8b1791 div.sk-toggleable__content pre {margin: 0.2em;color: black;border-radius: 0.25em;background-color: #f0f8ff;}#sk-1a24520d-ccae-48cb-b5ed-fa145e8b1791 input.sk-toggleable__control:checked~div.sk-toggleable__content {max-height: 200px;max-width: 100%;overflow: auto;}#sk-1a24520d-ccae-48cb-b5ed-fa145e8b1791 input.sk-toggleable__control:checked~label.sk-toggleable__label-arrow:before {content: \"▾\";}#sk-1a24520d-ccae-48cb-b5ed-fa145e8b1791 div.sk-estimator input.sk-toggleable__control:checked~label.sk-toggleable__label {background-color: #d4ebff;}#sk-1a24520d-ccae-48cb-b5ed-fa145e8b1791 div.sk-label input.sk-toggleable__control:checked~label.sk-toggleable__label {background-color: #d4ebff;}#sk-1a24520d-ccae-48cb-b5ed-fa145e8b1791 input.sk-hidden--visually {border: 0;clip: rect(1px 1px 1px 1px);clip: rect(1px, 1px, 1px, 1px);height: 1px;margin: -1px;overflow: hidden;padding: 0;position: absolute;width: 1px;}#sk-1a24520d-ccae-48cb-b5ed-fa145e8b1791 div.sk-estimator {font-family: monospace;background-color: #f0f8ff;border: 1px dotted black;border-radius: 0.25em;box-sizing: border-box;margin-bottom: 0.5em;}#sk-1a24520d-ccae-48cb-b5ed-fa145e8b1791 div.sk-estimator:hover {background-color: #d4ebff;}#sk-1a24520d-ccae-48cb-b5ed-fa145e8b1791 div.sk-parallel-item::after {content: \"\";width: 100%;border-bottom: 1px solid gray;flex-grow: 1;}#sk-1a24520d-ccae-48cb-b5ed-fa145e8b1791 div.sk-label:hover label.sk-toggleable__label {background-color: #d4ebff;}#sk-1a24520d-ccae-48cb-b5ed-fa145e8b1791 div.sk-serial::before {content: \"\";position: absolute;border-left: 1px solid gray;box-sizing: border-box;top: 2em;bottom: 0;left: 50%;}#sk-1a24520d-ccae-48cb-b5ed-fa145e8b1791 div.sk-serial {display: flex;flex-direction: column;align-items: center;background-color: white;padding-right: 0.2em;padding-left: 0.2em;}#sk-1a24520d-ccae-48cb-b5ed-fa145e8b1791 div.sk-item {z-index: 1;}#sk-1a24520d-ccae-48cb-b5ed-fa145e8b1791 div.sk-parallel {display: flex;align-items: stretch;justify-content: center;background-color: white;}#sk-1a24520d-ccae-48cb-b5ed-fa145e8b1791 div.sk-parallel::before {content: \"\";position: absolute;border-left: 1px solid gray;box-sizing: border-box;top: 2em;bottom: 0;left: 50%;}#sk-1a24520d-ccae-48cb-b5ed-fa145e8b1791 div.sk-parallel-item {display: flex;flex-direction: column;position: relative;background-color: white;}#sk-1a24520d-ccae-48cb-b5ed-fa145e8b1791 div.sk-parallel-item:first-child::after {align-self: flex-end;width: 50%;}#sk-1a24520d-ccae-48cb-b5ed-fa145e8b1791 div.sk-parallel-item:last-child::after {align-self: flex-start;width: 50%;}#sk-1a24520d-ccae-48cb-b5ed-fa145e8b1791 div.sk-parallel-item:only-child::after {width: 0;}#sk-1a24520d-ccae-48cb-b5ed-fa145e8b1791 div.sk-dashed-wrapped {border: 1px dashed gray;margin: 0 0.4em 0.5em 0.4em;box-sizing: border-box;padding-bottom: 0.4em;background-color: white;position: relative;}#sk-1a24520d-ccae-48cb-b5ed-fa145e8b1791 div.sk-label label {font-family: monospace;font-weight: bold;background-color: white;display: inline-block;line-height: 1.2em;}#sk-1a24520d-ccae-48cb-b5ed-fa145e8b1791 div.sk-label-container {position: relative;z-index: 2;text-align: center;}#sk-1a24520d-ccae-48cb-b5ed-fa145e8b1791 div.sk-container {/* jupyter's `normalize.less` sets `[hidden] { display: none; }` but bootstrap.min.css set `[hidden] { display: none !important; }` so we also need the `!important` here to be able to override the default hidden behavior on the sphinx rendered scikit-learn.org. See: https://github.com/scikit-learn/scikit-learn/issues/21755 */display: inline-block !important;position: relative;}#sk-1a24520d-ccae-48cb-b5ed-fa145e8b1791 div.sk-text-repr-fallback {display: none;}</style><div id=\"sk-1a24520d-ccae-48cb-b5ed-fa145e8b1791\" class=\"sk-top-container\"><div class=\"sk-text-repr-fallback\"><pre>RandomForestClassifier(random_state=42)</pre><b>Please rerun this cell to show the HTML repr or trust the notebook.</b></div><div class=\"sk-container\" hidden><div class=\"sk-item\"><div class=\"sk-estimator sk-toggleable\"><input class=\"sk-toggleable__control sk-hidden--visually\" id=\"0d9e8afa-52ff-4a9e-97b4-aa77e4cc928a\" type=\"checkbox\" checked><label for=\"0d9e8afa-52ff-4a9e-97b4-aa77e4cc928a\" class=\"sk-toggleable__label sk-toggleable__label-arrow\">RandomForestClassifier</label><div class=\"sk-toggleable__content\"><pre>RandomForestClassifier(random_state=42)</pre></div></div></div></div></div>"
            ]
          },
          "metadata": {},
          "execution_count": 183
        }
      ],
      "source": [
        "smote_RF = RandomForestClassifier(random_state = 42)\n",
        "smote_RF.fit(X_train_smote, y_train_smote)"
      ]
    },
    {
      "cell_type": "code",
      "execution_count": 184,
      "metadata": {
        "id": "5-l9BIs6tFV0"
      },
      "outputs": [],
      "source": [
        "# Save predictions \n",
        "smote_RF_train_predictions = smote_RF.predict(X_train_smote)\n",
        "smote_RF_test_predictions = smote_RF.predict(X_test_processed)"
      ]
    },
    {
      "cell_type": "code",
      "execution_count": 185,
      "metadata": {
        "colab": {
          "base_uri": "https://localhost:8080/"
        },
        "id": "S3D8NVD7tFV0",
        "outputId": "3b3591d7-c201-49bc-c694-ade86a281350"
      },
      "outputs": [
        {
          "output_type": "stream",
          "name": "stdout",
          "text": [
            "Training Metrics\n",
            "              precision    recall  f1-score   support\n",
            "\n",
            "          No     1.0000    1.0000    1.0000       633\n",
            "         Yes     1.0000    1.0000    1.0000       633\n",
            "\n",
            "    accuracy                         1.0000      1266\n",
            "   macro avg     1.0000    1.0000    1.0000      1266\n",
            "weighted avg     1.0000    1.0000    1.0000      1266\n",
            "\n",
            "\n",
            "Testing Metrics\n",
            "              precision    recall  f1-score   support\n",
            "\n",
            "          No     0.6829    0.6588    0.6707        85\n",
            "         Yes     0.8606    0.8732    0.8668       205\n",
            "\n",
            "    accuracy                         0.8103       290\n",
            "   macro avg     0.7718    0.7660    0.7687       290\n",
            "weighted avg     0.8085    0.8103    0.8093       290\n",
            "\n"
          ]
        }
      ],
      "source": [
        "# Run a classification report on both train and test datasets.\n",
        "print('Training Metrics')\n",
        "print(classification_report(y_train_smote, smote_RF_train_predictions, digits = 4))\n",
        "print('\\nTesting Metrics')\n",
        "print(classification_report(y_test, smote_RF_test_predictions, digits = 4))"
      ]
    },
    {
      "cell_type": "code",
      "execution_count": 186,
      "metadata": {
        "colab": {
          "base_uri": "https://localhost:8080/"
        },
        "id": "JNo0u_EEtFV1",
        "outputId": "f52ac618-0334-4774-d7fa-2e5131664c22"
      },
      "outputs": [
        {
          "output_type": "execute_result",
          "data": {
            "text/plain": [
              "{'bootstrap': True,\n",
              " 'ccp_alpha': 0.0,\n",
              " 'class_weight': None,\n",
              " 'criterion': 'gini',\n",
              " 'max_depth': None,\n",
              " 'max_features': 'auto',\n",
              " 'max_leaf_nodes': None,\n",
              " 'max_samples': None,\n",
              " 'min_impurity_decrease': 0.0,\n",
              " 'min_samples_leaf': 1,\n",
              " 'min_samples_split': 2,\n",
              " 'min_weight_fraction_leaf': 0.0,\n",
              " 'n_estimators': 100,\n",
              " 'n_jobs': None,\n",
              " 'oob_score': False,\n",
              " 'random_state': 42,\n",
              " 'verbose': 0,\n",
              " 'warm_start': False}"
            ]
          },
          "metadata": {},
          "execution_count": 186
        }
      ],
      "source": [
        "smote_RF.get_params()"
      ]
    },
    {
      "cell_type": "code",
      "execution_count": 187,
      "metadata": {
        "id": "hlcKY8ubtFV1"
      },
      "outputs": [],
      "source": [
        "#Parameters to tune\n",
        "rfsmote_params = {'max_depth' : [None, 5],\n",
        "             'n_estimators' : [100, 300, 500],\n",
        "             'min_samples_split' : [2, 4]}"
      ]
    },
    {
      "cell_type": "code",
      "execution_count": 188,
      "metadata": {
        "colab": {
          "base_uri": "https://localhost:8080/",
          "height": 92
        },
        "id": "bnDJmelytFV1",
        "outputId": "c0587c40-97ac-4805-da10-28b43cc7baac"
      },
      "outputs": [
        {
          "output_type": "execute_result",
          "data": {
            "text/plain": [
              "GridSearchCV(estimator=RandomForestClassifier(random_state=42),\n",
              "             param_grid={'max_depth': [None, 5], 'min_samples_split': [2, 4],\n",
              "                         'n_estimators': [100, 300, 500]})"
            ],
            "text/html": [
              "<style>#sk-9806da1e-17d7-470b-bb28-4021320b4e6f {color: black;background-color: white;}#sk-9806da1e-17d7-470b-bb28-4021320b4e6f pre{padding: 0;}#sk-9806da1e-17d7-470b-bb28-4021320b4e6f div.sk-toggleable {background-color: white;}#sk-9806da1e-17d7-470b-bb28-4021320b4e6f label.sk-toggleable__label {cursor: pointer;display: block;width: 100%;margin-bottom: 0;padding: 0.3em;box-sizing: border-box;text-align: center;}#sk-9806da1e-17d7-470b-bb28-4021320b4e6f label.sk-toggleable__label-arrow:before {content: \"▸\";float: left;margin-right: 0.25em;color: #696969;}#sk-9806da1e-17d7-470b-bb28-4021320b4e6f label.sk-toggleable__label-arrow:hover:before {color: black;}#sk-9806da1e-17d7-470b-bb28-4021320b4e6f div.sk-estimator:hover label.sk-toggleable__label-arrow:before {color: black;}#sk-9806da1e-17d7-470b-bb28-4021320b4e6f div.sk-toggleable__content {max-height: 0;max-width: 0;overflow: hidden;text-align: left;background-color: #f0f8ff;}#sk-9806da1e-17d7-470b-bb28-4021320b4e6f div.sk-toggleable__content pre {margin: 0.2em;color: black;border-radius: 0.25em;background-color: #f0f8ff;}#sk-9806da1e-17d7-470b-bb28-4021320b4e6f input.sk-toggleable__control:checked~div.sk-toggleable__content {max-height: 200px;max-width: 100%;overflow: auto;}#sk-9806da1e-17d7-470b-bb28-4021320b4e6f input.sk-toggleable__control:checked~label.sk-toggleable__label-arrow:before {content: \"▾\";}#sk-9806da1e-17d7-470b-bb28-4021320b4e6f div.sk-estimator input.sk-toggleable__control:checked~label.sk-toggleable__label {background-color: #d4ebff;}#sk-9806da1e-17d7-470b-bb28-4021320b4e6f div.sk-label input.sk-toggleable__control:checked~label.sk-toggleable__label {background-color: #d4ebff;}#sk-9806da1e-17d7-470b-bb28-4021320b4e6f input.sk-hidden--visually {border: 0;clip: rect(1px 1px 1px 1px);clip: rect(1px, 1px, 1px, 1px);height: 1px;margin: -1px;overflow: hidden;padding: 0;position: absolute;width: 1px;}#sk-9806da1e-17d7-470b-bb28-4021320b4e6f div.sk-estimator {font-family: monospace;background-color: #f0f8ff;border: 1px dotted black;border-radius: 0.25em;box-sizing: border-box;margin-bottom: 0.5em;}#sk-9806da1e-17d7-470b-bb28-4021320b4e6f div.sk-estimator:hover {background-color: #d4ebff;}#sk-9806da1e-17d7-470b-bb28-4021320b4e6f div.sk-parallel-item::after {content: \"\";width: 100%;border-bottom: 1px solid gray;flex-grow: 1;}#sk-9806da1e-17d7-470b-bb28-4021320b4e6f div.sk-label:hover label.sk-toggleable__label {background-color: #d4ebff;}#sk-9806da1e-17d7-470b-bb28-4021320b4e6f div.sk-serial::before {content: \"\";position: absolute;border-left: 1px solid gray;box-sizing: border-box;top: 2em;bottom: 0;left: 50%;}#sk-9806da1e-17d7-470b-bb28-4021320b4e6f div.sk-serial {display: flex;flex-direction: column;align-items: center;background-color: white;padding-right: 0.2em;padding-left: 0.2em;}#sk-9806da1e-17d7-470b-bb28-4021320b4e6f div.sk-item {z-index: 1;}#sk-9806da1e-17d7-470b-bb28-4021320b4e6f div.sk-parallel {display: flex;align-items: stretch;justify-content: center;background-color: white;}#sk-9806da1e-17d7-470b-bb28-4021320b4e6f div.sk-parallel::before {content: \"\";position: absolute;border-left: 1px solid gray;box-sizing: border-box;top: 2em;bottom: 0;left: 50%;}#sk-9806da1e-17d7-470b-bb28-4021320b4e6f div.sk-parallel-item {display: flex;flex-direction: column;position: relative;background-color: white;}#sk-9806da1e-17d7-470b-bb28-4021320b4e6f div.sk-parallel-item:first-child::after {align-self: flex-end;width: 50%;}#sk-9806da1e-17d7-470b-bb28-4021320b4e6f div.sk-parallel-item:last-child::after {align-self: flex-start;width: 50%;}#sk-9806da1e-17d7-470b-bb28-4021320b4e6f div.sk-parallel-item:only-child::after {width: 0;}#sk-9806da1e-17d7-470b-bb28-4021320b4e6f div.sk-dashed-wrapped {border: 1px dashed gray;margin: 0 0.4em 0.5em 0.4em;box-sizing: border-box;padding-bottom: 0.4em;background-color: white;position: relative;}#sk-9806da1e-17d7-470b-bb28-4021320b4e6f div.sk-label label {font-family: monospace;font-weight: bold;background-color: white;display: inline-block;line-height: 1.2em;}#sk-9806da1e-17d7-470b-bb28-4021320b4e6f div.sk-label-container {position: relative;z-index: 2;text-align: center;}#sk-9806da1e-17d7-470b-bb28-4021320b4e6f div.sk-container {/* jupyter's `normalize.less` sets `[hidden] { display: none; }` but bootstrap.min.css set `[hidden] { display: none !important; }` so we also need the `!important` here to be able to override the default hidden behavior on the sphinx rendered scikit-learn.org. See: https://github.com/scikit-learn/scikit-learn/issues/21755 */display: inline-block !important;position: relative;}#sk-9806da1e-17d7-470b-bb28-4021320b4e6f div.sk-text-repr-fallback {display: none;}</style><div id=\"sk-9806da1e-17d7-470b-bb28-4021320b4e6f\" class=\"sk-top-container\"><div class=\"sk-text-repr-fallback\"><pre>GridSearchCV(estimator=RandomForestClassifier(random_state=42),\n",
              "             param_grid={&#x27;max_depth&#x27;: [None, 5], &#x27;min_samples_split&#x27;: [2, 4],\n",
              "                         &#x27;n_estimators&#x27;: [100, 300, 500]})</pre><b>Please rerun this cell to show the HTML repr or trust the notebook.</b></div><div class=\"sk-container\" hidden><div class=\"sk-item sk-dashed-wrapped\"><div class=\"sk-label-container\"><div class=\"sk-label sk-toggleable\"><input class=\"sk-toggleable__control sk-hidden--visually\" id=\"7e19ef61-83ae-4343-a11e-9a16b0de12c5\" type=\"checkbox\" ><label for=\"7e19ef61-83ae-4343-a11e-9a16b0de12c5\" class=\"sk-toggleable__label sk-toggleable__label-arrow\">GridSearchCV</label><div class=\"sk-toggleable__content\"><pre>GridSearchCV(estimator=RandomForestClassifier(random_state=42),\n",
              "             param_grid={&#x27;max_depth&#x27;: [None, 5], &#x27;min_samples_split&#x27;: [2, 4],\n",
              "                         &#x27;n_estimators&#x27;: [100, 300, 500]})</pre></div></div></div><div class=\"sk-parallel\"><div class=\"sk-parallel-item\"><div class=\"sk-item\"><div class=\"sk-serial\"><div class=\"sk-item\"><div class=\"sk-estimator sk-toggleable\"><input class=\"sk-toggleable__control sk-hidden--visually\" id=\"a01a1ef9-05ae-4700-8c54-d302d330b43a\" type=\"checkbox\" ><label for=\"a01a1ef9-05ae-4700-8c54-d302d330b43a\" class=\"sk-toggleable__label sk-toggleable__label-arrow\">RandomForestClassifier</label><div class=\"sk-toggleable__content\"><pre>RandomForestClassifier(random_state=42)</pre></div></div></div></div></div></div></div></div></div></div>"
            ]
          },
          "metadata": {},
          "execution_count": 188
        }
      ],
      "source": [
        "# Instantiate a gridsearch with the KNN model and the hyperparamter dictionary\n",
        "smote_RF_grid = GridSearchCV(smote_RF, rfsmote_params)\n",
        "smote_RF_grid.fit(X_train_smote, y_train_smote)"
      ]
    },
    {
      "cell_type": "code",
      "execution_count": 189,
      "metadata": {
        "colab": {
          "base_uri": "https://localhost:8080/"
        },
        "id": "xoR-8wdFtFV2",
        "outputId": "216ea4d5-38cf-4fbb-fa10-3c3a2050b789"
      },
      "outputs": [
        {
          "output_type": "execute_result",
          "data": {
            "text/plain": [
              "{'max_depth': None, 'min_samples_split': 4, 'n_estimators': 500}"
            ]
          },
          "metadata": {},
          "execution_count": 189
        }
      ],
      "source": [
        "smote_RF_grid.best_params_"
      ]
    },
    {
      "cell_type": "code",
      "execution_count": 190,
      "metadata": {
        "id": "-CJJQAZ6tFV2"
      },
      "outputs": [],
      "source": [
        "# extract the best version of the model from the gridsearch object\n",
        "best_smote_RF = smote_RF_grid.best_estimator_"
      ]
    },
    {
      "cell_type": "code",
      "execution_count": 191,
      "metadata": {
        "colab": {
          "base_uri": "https://localhost:8080/"
        },
        "id": "xu-2nvQTtFV3",
        "outputId": "037b4176-485a-409a-8dfe-bd2d62e0e519"
      },
      "outputs": [
        {
          "output_type": "stream",
          "name": "stdout",
          "text": [
            "Best Model Training Metrics\n",
            "              precision    recall  f1-score   support\n",
            "\n",
            "          No     0.9953    0.9968    0.9961       633\n",
            "         Yes     0.9968    0.9953    0.9960       633\n",
            "\n",
            "    accuracy                         0.9961      1266\n",
            "   macro avg     0.9961    0.9961    0.9961      1266\n",
            "weighted avg     0.9961    0.9961    0.9961      1266\n",
            "\n",
            "\n",
            "Best Model Testing Metrics\n",
            "              precision    recall  f1-score   support\n",
            "\n",
            "          No     0.7024    0.6941    0.6982        85\n",
            "         Yes     0.8738    0.8780    0.8759       205\n",
            "\n",
            "    accuracy                         0.8241       290\n",
            "   macro avg     0.7881    0.7861    0.7871       290\n",
            "weighted avg     0.8235    0.8241    0.8238       290\n",
            "\n"
          ]
        }
      ],
      "source": [
        "# Run a classification report on both train and test datasets for the best model. \n",
        "smote_RF_train_preds = best_smote_RF.predict(X_train_smote)\n",
        "smote_RF_test_preds = best_smote_RF.predict(X_test_processed)\n",
        "\n",
        "print('Best Model Training Metrics')\n",
        "print(classification_report(y_train_smote, smote_RF_train_preds, digits = 4))\n",
        "print('\\nBest Model Testing Metrics')\n",
        "print(classification_report(y_test, smote_RF_test_preds, digits = 4))"
      ]
    },
    {
      "cell_type": "code",
      "execution_count": 192,
      "metadata": {
        "colab": {
          "base_uri": "https://localhost:8080/",
          "height": 297
        },
        "id": "A5Xkq7AotFV3",
        "outputId": "d23666fe-47a5-4d0c-e06e-ebc5ef909dfa"
      },
      "outputs": [
        {
          "output_type": "execute_result",
          "data": {
            "text/plain": [
              "<sklearn.metrics._plot.confusion_matrix.ConfusionMatrixDisplay at 0x7f0258582950>"
            ]
          },
          "metadata": {},
          "execution_count": 192
        },
        {
          "output_type": "display_data",
          "data": {
            "text/plain": [
              "<Figure size 576x288 with 2 Axes>"
            ],
            "image/png": "[encoded data removed]"
          },
          "metadata": {
            "needs_background": "light"
          }
        }
      ],
      "source": [
        "# \"The following Code (\"fig, ax\") adapted from: https://panjeh.medium.com/figure-size-plot-confusion-matrix-in-scikit-learn-2c66f3a69d81\"\n",
        "fig, ax = plt.subplots(figsize=(8, 4))\n",
        "ConfusionMatrixDisplay.from_predictions(y_test, smote_RF_test_preds, cmap = 'Blues',  normalize = 'true', ax=ax)"
      ]
    },
    {
      "cell_type": "markdown",
      "metadata": {
        "id": "OQ2RHW_tK85g"
      },
      "source": [
        "## 22. Choose one final model.\n",
        "\n",
        "- All the models had some level of overfitting. The accuracy scores for all models were not that great, but were not terrible either.\n",
        "\n",
        "- Considering the target classes were imbalanced, a data augmentation technique had to be applied that synthesizes new examples from the minority class (https://machinelearningmastery.com/smote-oversampling-for-imbalanced-classification/). The name of this technique is \"Synthetic Minority Oversampling TEchnique (SMOTE).\" \n",
        "\n",
        "- I have chosen the optimized Random Forest (SMOTE) model because it's the model with the least overfitting of all the models where SMOTE was applied. It's training accuracy score was 0.9961 and its testing accuracy score was 0.8241. \n",
        "\n",
        "- Also, based on the confusion matrices, the Random Forest (SMOTE) model had the highest percentage of True Positives and True Negatives of all models where SMOTE was applied when it came to identifying employee teams that met or did not meet their target productivty, which is important for this problem. The Random Forest model was able to correctly classify 88% of the samples in our test set that were 'Yes' (representing employee teams that met or exceeded their target productivity). It was able to classify 69% of the samples in our test set that were 'No' (representing employee teams that did not meet their target productivity). \n",
        "\n",
        "- As a result of the above reasons, I would choose the Random Forest model."
      ]
    }
  ],
  "metadata": {
    "colab": {
      "collapsed_sections": [],
      "name": "Garment_Industry_Employee_Productivity.ipynb",
      "provenance": []
    },
    "kernelspec": {
      "display_name": "Python 3",
      "name": "python3"
    },
    "language_info": {
      "name": "python"
    }
  },
  "nbformat": 4,
  "nbformat_minor": 0
}
