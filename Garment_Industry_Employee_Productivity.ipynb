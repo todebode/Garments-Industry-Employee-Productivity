{
  "nbformat": 4,
  "nbformat_minor": 0,
  "metadata": {
    "colab": {
      "name": "Garment Industry Employee Productivity.ipynb",
      "provenance": [],
      "collapsed_sections": [],
      "authorship_tag": "ABX9TyOCqmZulM2mzSHXzPO1rJfJ",
      "include_colab_link": true
    },
    "kernelspec": {
      "name": "python3",
      "display_name": "Python 3"
    },
    "language_info": {
      "name": "python"
    }
  },
  "cells": [
    {
      "cell_type": "markdown",
      "metadata": {
        "id": "view-in-github",
        "colab_type": "text"
      },
      "source": [
        "<a href=\"https://colab.research.google.com/github/todebode/Garments-employee-productivity/blob/main/Garment_Industry_Employee_Productivity.ipynb\" target=\"_parent\"><img src=\"https://colab.research.google.com/assets/colab-badge.svg\" alt=\"Open In Colab\"/></a>"
      ]
    },
    {
      "cell_type": "markdown",
      "source": [
        "# Garment Industry Employee Productivity\n",
        "\n",
        "Tijesunimi Odebode\n",
        "\n",
        "04/02/2022"
      ],
      "metadata": {
        "id": "Fh9K3W-JYkrC"
      }
    },
    {
      "cell_type": "code",
      "source": [
        "from google.colab import drive\n",
        "drive.mount('/content/drive')"
      ],
      "metadata": {
        "colab": {
          "base_uri": "https://localhost:8080/"
        },
        "id": "21UR13b8ZVDo",
        "outputId": "8f4bc19a-0672-4363-c297-5477e20c2f1a"
      },
      "execution_count": 336,
      "outputs": [
        {
          "output_type": "stream",
          "name": "stdout",
          "text": [
            "Drive already mounted at /content/drive; to attempt to forcibly remount, call drive.mount(\"/content/drive\", force_remount=True).\n"
          ]
        }
      ]
    },
    {
      "cell_type": "markdown",
      "source": [
        "## 1. Import necessary packages"
      ],
      "metadata": {
        "id": "DN7FDr2SZGah"
      }
    },
    {
      "cell_type": "code",
      "source": [
        "import pandas as pd\n",
        "import numpy as np\n",
        "import matplotlib.pyplot as plt\n",
        "import seaborn as sns\n",
        "from sklearn.model_selection import train_test_split\n",
        "from sklearn.compose import make_column_transformer, make_column_selector\n",
        "from sklearn.preprocessing import StandardScaler, OneHotEncoder\n",
        "from sklearn.impute import SimpleImputer\n",
        "from sklearn.pipeline import make_pipeline\n",
        "from sklearn import set_config\n",
        "set_config(display='diagram')\n",
        "from sklearn.model_selection import GridSearchCV, RandomizedSearchCV\n",
        "#Importing the KNN Classifier\n",
        "from sklearn.neighbors import KNeighborsClassifier\n",
        "# Import random forest Classifier\n",
        "from sklearn.ensemble import RandomForestClassifier\n",
        "# Import Logistic Regression\n",
        "from sklearn.linear_model import LogisticRegression\n",
        "#import accuracy, precision, recall, classification report, and confusion matrix scoring functions\n",
        "from sklearn.metrics import accuracy_score, precision_score, f1_score, recall_score, classification_report, confusion_matrix, ConfusionMatrixDisplay"
      ],
      "metadata": {
        "id": "H4Mjes3j3CNp"
      },
      "execution_count": 337,
      "outputs": []
    },
    {
      "cell_type": "markdown",
      "source": [
        "## 2. Load and verify data"
      ],
      "metadata": {
        "id": "xYjbObBc3oWw"
      }
    },
    {
      "cell_type": "code",
      "source": [
        "filename = '/content/drive/MyDrive/Coding Dojo Bootcamp/Data/garments_worker_productivity.xlsx'\n",
        "garm_prod = pd.read_excel(filename)\n",
        "garm_prod.head()"
      ],
      "metadata": {
        "colab": {
          "base_uri": "https://localhost:8080/",
          "height": 206
        },
        "id": "XPF5Unpb2nOz",
        "outputId": "fc4cc2b8-c51e-47f9-d083-1342a70a4b91"
      },
      "execution_count": 338,
      "outputs": [
        {
          "output_type": "execute_result",
          "data": {
            "text/plain": [
              "        date   quarter  department       day  team  targeted_productivity  \\\n",
              "0 2015-01-01  Quarter1      sweing  Thursday     8                   0.80   \n",
              "1 2015-01-01  Quarter1  finishing   Thursday     1                   0.75   \n",
              "2 2015-01-01  Quarter1      sweing  Thursday    11                   0.80   \n",
              "3 2015-01-01  Quarter1      sweing  Thursday    12                   0.80   \n",
              "4 2015-01-01  Quarter1      sweing  Thursday     6                   0.80   \n",
              "\n",
              "     smv     wip  over_time  incentive  idle_time  idle_men  \\\n",
              "0  26.16  1108.0       7080         98        0.0         0   \n",
              "1   3.94     NaN        960          0        0.0         0   \n",
              "2  11.41   968.0       3660         50        0.0         0   \n",
              "3  11.41   968.0       3660         50        0.0         0   \n",
              "4  25.90  1170.0       1920         50        0.0         0   \n",
              "\n",
              "   no_of_style_change  no_of_workers  actual_productivity  \n",
              "0                   0           59.0             0.940725  \n",
              "1                   0            8.0             0.886500  \n",
              "2                   0           30.5             0.800570  \n",
              "3                   0           30.5             0.800570  \n",
              "4                   0           56.0             0.800382  "
            ],
            "text/html": [
              "\n",
              "  <div id=\"df-e83e1a8b-7bbd-4d70-b7c2-eb146a3aec1e\">\n",
              "    <div class=\"colab-df-container\">\n",
              "      <div>\n",
              "<style scoped>\n",
              "    .dataframe tbody tr th:only-of-type {\n",
              "        vertical-align: middle;\n",
              "    }\n",
              "\n",
              "    .dataframe tbody tr th {\n",
              "        vertical-align: top;\n",
              "    }\n",
              "\n",
              "    .dataframe thead th {\n",
              "        text-align: right;\n",
              "    }\n",
              "</style>\n",
              "<table border=\"1\" class=\"dataframe\">\n",
              "  <thead>\n",
              "    <tr style=\"text-align: right;\">\n",
              "      <th></th>\n",
              "      <th>date</th>\n",
              "      <th>quarter</th>\n",
              "      <th>department</th>\n",
              "      <th>day</th>\n",
              "      <th>team</th>\n",
              "      <th>targeted_productivity</th>\n",
              "      <th>smv</th>\n",
              "      <th>wip</th>\n",
              "      <th>over_time</th>\n",
              "      <th>incentive</th>\n",
              "      <th>idle_time</th>\n",
              "      <th>idle_men</th>\n",
              "      <th>no_of_style_change</th>\n",
              "      <th>no_of_workers</th>\n",
              "      <th>actual_productivity</th>\n",
              "    </tr>\n",
              "  </thead>\n",
              "  <tbody>\n",
              "    <tr>\n",
              "      <th>0</th>\n",
              "      <td>2015-01-01</td>\n",
              "      <td>Quarter1</td>\n",
              "      <td>sweing</td>\n",
              "      <td>Thursday</td>\n",
              "      <td>8</td>\n",
              "      <td>0.80</td>\n",
              "      <td>26.16</td>\n",
              "      <td>1108.0</td>\n",
              "      <td>7080</td>\n",
              "      <td>98</td>\n",
              "      <td>0.0</td>\n",
              "      <td>0</td>\n",
              "      <td>0</td>\n",
              "      <td>59.0</td>\n",
              "      <td>0.940725</td>\n",
              "    </tr>\n",
              "    <tr>\n",
              "      <th>1</th>\n",
              "      <td>2015-01-01</td>\n",
              "      <td>Quarter1</td>\n",
              "      <td>finishing</td>\n",
              "      <td>Thursday</td>\n",
              "      <td>1</td>\n",
              "      <td>0.75</td>\n",
              "      <td>3.94</td>\n",
              "      <td>NaN</td>\n",
              "      <td>960</td>\n",
              "      <td>0</td>\n",
              "      <td>0.0</td>\n",
              "      <td>0</td>\n",
              "      <td>0</td>\n",
              "      <td>8.0</td>\n",
              "      <td>0.886500</td>\n",
              "    </tr>\n",
              "    <tr>\n",
              "      <th>2</th>\n",
              "      <td>2015-01-01</td>\n",
              "      <td>Quarter1</td>\n",
              "      <td>sweing</td>\n",
              "      <td>Thursday</td>\n",
              "      <td>11</td>\n",
              "      <td>0.80</td>\n",
              "      <td>11.41</td>\n",
              "      <td>968.0</td>\n",
              "      <td>3660</td>\n",
              "      <td>50</td>\n",
              "      <td>0.0</td>\n",
              "      <td>0</td>\n",
              "      <td>0</td>\n",
              "      <td>30.5</td>\n",
              "      <td>0.800570</td>\n",
              "    </tr>\n",
              "    <tr>\n",
              "      <th>3</th>\n",
              "      <td>2015-01-01</td>\n",
              "      <td>Quarter1</td>\n",
              "      <td>sweing</td>\n",
              "      <td>Thursday</td>\n",
              "      <td>12</td>\n",
              "      <td>0.80</td>\n",
              "      <td>11.41</td>\n",
              "      <td>968.0</td>\n",
              "      <td>3660</td>\n",
              "      <td>50</td>\n",
              "      <td>0.0</td>\n",
              "      <td>0</td>\n",
              "      <td>0</td>\n",
              "      <td>30.5</td>\n",
              "      <td>0.800570</td>\n",
              "    </tr>\n",
              "    <tr>\n",
              "      <th>4</th>\n",
              "      <td>2015-01-01</td>\n",
              "      <td>Quarter1</td>\n",
              "      <td>sweing</td>\n",
              "      <td>Thursday</td>\n",
              "      <td>6</td>\n",
              "      <td>0.80</td>\n",
              "      <td>25.90</td>\n",
              "      <td>1170.0</td>\n",
              "      <td>1920</td>\n",
              "      <td>50</td>\n",
              "      <td>0.0</td>\n",
              "      <td>0</td>\n",
              "      <td>0</td>\n",
              "      <td>56.0</td>\n",
              "      <td>0.800382</td>\n",
              "    </tr>\n",
              "  </tbody>\n",
              "</table>\n",
              "</div>\n",
              "      <button class=\"colab-df-convert\" onclick=\"convertToInteractive('df-e83e1a8b-7bbd-4d70-b7c2-eb146a3aec1e')\"\n",
              "              title=\"Convert this dataframe to an interactive table.\"\n",
              "              style=\"display:none;\">\n",
              "        \n",
              "  <svg xmlns=\"http://www.w3.org/2000/svg\" height=\"24px\"viewBox=\"0 0 24 24\"\n",
              "       width=\"24px\">\n",
              "    <path d=\"M0 0h24v24H0V0z\" fill=\"none\"/>\n",
              "    <path d=\"M18.56 5.44l.94 2.06.94-2.06 2.06-.94-2.06-.94-.94-2.06-.94 2.06-2.06.94zm-11 1L8.5 8.5l.94-2.06 2.06-.94-2.06-.94L8.5 2.5l-.94 2.06-2.06.94zm10 10l.94 2.06.94-2.06 2.06-.94-2.06-.94-.94-2.06-.94 2.06-2.06.94z\"/><path d=\"M17.41 7.96l-1.37-1.37c-.4-.4-.92-.59-1.43-.59-.52 0-1.04.2-1.43.59L10.3 9.45l-7.72 7.72c-.78.78-.78 2.05 0 2.83L4 21.41c.39.39.9.59 1.41.59.51 0 1.02-.2 1.41-.59l7.78-7.78 2.81-2.81c.8-.78.8-2.07 0-2.86zM5.41 20L4 18.59l7.72-7.72 1.47 1.35L5.41 20z\"/>\n",
              "  </svg>\n",
              "      </button>\n",
              "      \n",
              "  <style>\n",
              "    .colab-df-container {\n",
              "      display:flex;\n",
              "      flex-wrap:wrap;\n",
              "      gap: 12px;\n",
              "    }\n",
              "\n",
              "    .colab-df-convert {\n",
              "      background-color: #E8F0FE;\n",
              "      border: none;\n",
              "      border-radius: 50%;\n",
              "      cursor: pointer;\n",
              "      display: none;\n",
              "      fill: #1967D2;\n",
              "      height: 32px;\n",
              "      padding: 0 0 0 0;\n",
              "      width: 32px;\n",
              "    }\n",
              "\n",
              "    .colab-df-convert:hover {\n",
              "      background-color: #E2EBFA;\n",
              "      box-shadow: 0px 1px 2px rgba(60, 64, 67, 0.3), 0px 1px 3px 1px rgba(60, 64, 67, 0.15);\n",
              "      fill: #174EA6;\n",
              "    }\n",
              "\n",
              "    [theme=dark] .colab-df-convert {\n",
              "      background-color: #3B4455;\n",
              "      fill: #D2E3FC;\n",
              "    }\n",
              "\n",
              "    [theme=dark] .colab-df-convert:hover {\n",
              "      background-color: #434B5C;\n",
              "      box-shadow: 0px 1px 3px 1px rgba(0, 0, 0, 0.15);\n",
              "      filter: drop-shadow(0px 1px 2px rgba(0, 0, 0, 0.3));\n",
              "      fill: #FFFFFF;\n",
              "    }\n",
              "  </style>\n",
              "\n",
              "      <script>\n",
              "        const buttonEl =\n",
              "          document.querySelector('#df-e83e1a8b-7bbd-4d70-b7c2-eb146a3aec1e button.colab-df-convert');\n",
              "        buttonEl.style.display =\n",
              "          google.colab.kernel.accessAllowed ? 'block' : 'none';\n",
              "\n",
              "        async function convertToInteractive(key) {\n",
              "          const element = document.querySelector('#df-e83e1a8b-7bbd-4d70-b7c2-eb146a3aec1e');\n",
              "          const dataTable =\n",
              "            await google.colab.kernel.invokeFunction('convertToInteractive',\n",
              "                                                     [key], {});\n",
              "          if (!dataTable) return;\n",
              "\n",
              "          const docLinkHtml = 'Like what you see? Visit the ' +\n",
              "            '<a target=\"_blank\" href=https://colab.research.google.com/notebooks/data_table.ipynb>data table notebook</a>'\n",
              "            + ' to learn more about interactive tables.';\n",
              "          element.innerHTML = '';\n",
              "          dataTable['output_type'] = 'display_data';\n",
              "          await google.colab.output.renderOutput(dataTable, element);\n",
              "          const docLink = document.createElement('div');\n",
              "          docLink.innerHTML = docLinkHtml;\n",
              "          element.appendChild(docLink);\n",
              "        }\n",
              "      </script>\n",
              "    </div>\n",
              "  </div>\n",
              "  "
            ]
          },
          "metadata": {},
          "execution_count": 338
        }
      ]
    },
    {
      "cell_type": "markdown",
      "source": [
        "## 3. Explore the data"
      ],
      "metadata": {
        "id": "2KuIEDCOj4XI"
      }
    },
    {
      "cell_type": "markdown",
      "source": [
        "### a) Check for missing values. \n",
        "- Missing values will not be addressed here. Missing values will be addressed further down in the notebook. However, let's check to see the missing values."
      ],
      "metadata": {
        "id": "IPFwyeMPmxpa"
      }
    },
    {
      "cell_type": "code",
      "source": [
        "garm_prod.info()"
      ],
      "metadata": {
        "colab": {
          "base_uri": "https://localhost:8080/"
        },
        "id": "2ebZZdEPkOvy",
        "outputId": "a49c3b60-5680-4530-f9b4-dd6fb3e1a10a"
      },
      "execution_count": 339,
      "outputs": [
        {
          "output_type": "stream",
          "name": "stdout",
          "text": [
            "<class 'pandas.core.frame.DataFrame'>\n",
            "RangeIndex: 1197 entries, 0 to 1196\n",
            "Data columns (total 15 columns):\n",
            " #   Column                 Non-Null Count  Dtype         \n",
            "---  ------                 --------------  -----         \n",
            " 0   date                   1197 non-null   datetime64[ns]\n",
            " 1   quarter                1197 non-null   object        \n",
            " 2   department             1197 non-null   object        \n",
            " 3   day                    1197 non-null   object        \n",
            " 4   team                   1197 non-null   int64         \n",
            " 5   targeted_productivity  1197 non-null   float64       \n",
            " 6   smv                    1197 non-null   float64       \n",
            " 7   wip                    691 non-null    float64       \n",
            " 8   over_time              1197 non-null   int64         \n",
            " 9   incentive              1197 non-null   int64         \n",
            " 10  idle_time              1197 non-null   float64       \n",
            " 11  idle_men               1197 non-null   int64         \n",
            " 12  no_of_style_change     1197 non-null   int64         \n",
            " 13  no_of_workers          1197 non-null   float64       \n",
            " 14  actual_productivity    1197 non-null   float64       \n",
            "dtypes: datetime64[ns](1), float64(6), int64(5), object(3)\n",
            "memory usage: 140.4+ KB\n"
          ]
        }
      ]
    },
    {
      "cell_type": "markdown",
      "source": [
        "- There are 1197 rows and 15 columns. There is missing data in the **'wip'** column considering there are only 691 non-null values."
      ],
      "metadata": {
        "id": "LbWod-oNmQTZ"
      }
    },
    {
      "cell_type": "markdown",
      "source": [
        "### b) Explore the 'date' column to determine how to split it in preparation for modeling"
      ],
      "metadata": {
        "id": "oQHRTz5TxslV"
      }
    },
    {
      "cell_type": "code",
      "source": [
        "# Check the unique values in the 'date' column\n",
        "garm_prod['date'].value_counts()"
      ],
      "metadata": {
        "colab": {
          "base_uri": "https://localhost:8080/"
        },
        "id": "iL0VsleywnFR",
        "outputId": "c85db890-3768-4732-b04a-07c53a7cde05"
      },
      "execution_count": 340,
      "outputs": [
        {
          "output_type": "execute_result",
          "data": {
            "text/plain": [
              "2015-03-11    24\n",
              "2015-01-31    24\n",
              "2015-01-11    23\n",
              "2015-03-10    23\n",
              "2015-01-12    23\n",
              "2015-01-24    23\n",
              "2015-01-08    22\n",
              "2015-01-10    22\n",
              "2015-01-07    22\n",
              "2015-01-13    22\n",
              "2015-01-05    22\n",
              "2015-03-09    22\n",
              "2015-03-08    22\n",
              "2015-03-03    22\n",
              "2015-01-22    22\n",
              "2015-02-25    21\n",
              "2015-02-26    21\n",
              "2015-02-28    21\n",
              "2015-01-03    21\n",
              "2015-01-04    21\n",
              "2015-01-28    21\n",
              "2015-01-27    21\n",
              "2015-03-04    21\n",
              "2015-01-25    21\n",
              "2015-01-17    21\n",
              "2015-01-14    21\n",
              "2015-01-06    21\n",
              "2015-02-18    21\n",
              "2015-01-29    20\n",
              "2015-02-17    20\n",
              "2015-03-02    20\n",
              "2015-03-01    20\n",
              "2015-02-22    20\n",
              "2015-02-19    20\n",
              "2015-03-05    19\n",
              "2015-03-07    19\n",
              "2015-02-24    19\n",
              "2015-02-23    19\n",
              "2015-01-01    19\n",
              "2015-02-03    19\n",
              "2015-02-15    19\n",
              "2015-01-15    19\n",
              "2015-01-18    19\n",
              "2015-01-19    19\n",
              "2015-01-21    19\n",
              "2015-01-26    19\n",
              "2015-02-01    19\n",
              "2015-02-02    19\n",
              "2015-02-04    19\n",
              "2015-02-07    19\n",
              "2015-02-08    19\n",
              "2015-02-10    19\n",
              "2015-02-11    19\n",
              "2015-02-12    19\n",
              "2015-02-05    18\n",
              "2015-02-09    18\n",
              "2015-02-16    18\n",
              "2015-02-14    17\n",
              "2015-01-20    15\n",
              "Name: date, dtype: int64"
            ]
          },
          "metadata": {},
          "execution_count": 340
        }
      ]
    },
    {
      "cell_type": "markdown",
      "source": [
        "- From the above, it looks like the evaluation of employees was done in the same year. As a result, we only have to split the 'date' columns into 2 columns (month and day)."
      ],
      "metadata": {
        "id": "0xHigJwRyP9-"
      }
    },
    {
      "cell_type": "markdown",
      "source": [
        "### c) Create a new column for the months listed in the 'date' column. The new column will be titled '**month**.'"
      ],
      "metadata": {
        "id": "4pNFwmxWytHP"
      }
    },
    {
      "cell_type": "code",
      "source": [
        "garm_prod['month'] = garm_prod['date'].dt.month\n",
        "garm_prod['month'] "
      ],
      "metadata": {
        "colab": {
          "base_uri": "https://localhost:8080/"
        },
        "id": "9XN2Gok2-OH3",
        "outputId": "cb4bec29-1855-4cb2-cf4c-41424efa76bf"
      },
      "execution_count": 341,
      "outputs": [
        {
          "output_type": "execute_result",
          "data": {
            "text/plain": [
              "0       1\n",
              "1       1\n",
              "2       1\n",
              "3       1\n",
              "4       1\n",
              "       ..\n",
              "1192    3\n",
              "1193    3\n",
              "1194    3\n",
              "1195    3\n",
              "1196    3\n",
              "Name: month, Length: 1197, dtype: int64"
            ]
          },
          "metadata": {},
          "execution_count": 341
        }
      ]
    },
    {
      "cell_type": "markdown",
      "source": [
        "### d) Create a new column for the numerical days listed in the 'date' column. The new column will be titled '**daynum**.'"
      ],
      "metadata": {
        "id": "cY1yXOHMzgsy"
      }
    },
    {
      "cell_type": "code",
      "source": [
        "garm_prod['daynum'] = garm_prod['date'].dt.day\n",
        "garm_prod['daynum'] "
      ],
      "metadata": {
        "colab": {
          "base_uri": "https://localhost:8080/"
        },
        "id": "tKreQbov_kIE",
        "outputId": "f6bfbb19-e8ea-4ded-e08e-fdd654b3f19e"
      },
      "execution_count": 342,
      "outputs": [
        {
          "output_type": "execute_result",
          "data": {
            "text/plain": [
              "0        1\n",
              "1        1\n",
              "2        1\n",
              "3        1\n",
              "4        1\n",
              "        ..\n",
              "1192    11\n",
              "1193    11\n",
              "1194    11\n",
              "1195    11\n",
              "1196    11\n",
              "Name: daynum, Length: 1197, dtype: int64"
            ]
          },
          "metadata": {},
          "execution_count": 342
        }
      ]
    },
    {
      "cell_type": "markdown",
      "source": [
        "### e) Drop the 'date' column and confirm that our dataset now has the new columns we just added"
      ],
      "metadata": {
        "id": "vB_GGyCYz9YR"
      }
    },
    {
      "cell_type": "code",
      "source": [
        "# Drop the 'date' column\n",
        "garm_prod.drop(columns=['date'], inplace=True)\n",
        "# Confirm that the dataset now has the new columns added\n",
        "garm_prod.info()"
      ],
      "metadata": {
        "colab": {
          "base_uri": "https://localhost:8080/"
        },
        "id": "WRkI0hzNz3lE",
        "outputId": "23950097-6332-42f0-d527-8770c3bf9d89"
      },
      "execution_count": 343,
      "outputs": [
        {
          "output_type": "stream",
          "name": "stdout",
          "text": [
            "<class 'pandas.core.frame.DataFrame'>\n",
            "RangeIndex: 1197 entries, 0 to 1196\n",
            "Data columns (total 16 columns):\n",
            " #   Column                 Non-Null Count  Dtype  \n",
            "---  ------                 --------------  -----  \n",
            " 0   quarter                1197 non-null   object \n",
            " 1   department             1197 non-null   object \n",
            " 2   day                    1197 non-null   object \n",
            " 3   team                   1197 non-null   int64  \n",
            " 4   targeted_productivity  1197 non-null   float64\n",
            " 5   smv                    1197 non-null   float64\n",
            " 6   wip                    691 non-null    float64\n",
            " 7   over_time              1197 non-null   int64  \n",
            " 8   incentive              1197 non-null   int64  \n",
            " 9   idle_time              1197 non-null   float64\n",
            " 10  idle_men               1197 non-null   int64  \n",
            " 11  no_of_style_change     1197 non-null   int64  \n",
            " 12  no_of_workers          1197 non-null   float64\n",
            " 13  actual_productivity    1197 non-null   float64\n",
            " 14  month                  1197 non-null   int64  \n",
            " 15  daynum                 1197 non-null   int64  \n",
            "dtypes: float64(6), int64(7), object(3)\n",
            "memory usage: 149.8+ KB\n"
          ]
        }
      ]
    },
    {
      "cell_type": "markdown",
      "source": [
        "- We now have 16 columns, confirming that the 'date' column has been dropped and two new columns have been added. Also, we can see the new columns in the dataset information above."
      ],
      "metadata": {
        "id": "X5-bv2oP4ASv"
      }
    },
    {
      "cell_type": "markdown",
      "source": [
        "### f. Make sure the 'month' and 'daynum' columns are 'object' datatype so they can be one-hot encoded later."
      ],
      "metadata": {
        "id": "zIi0GT0S-7m-"
      }
    },
    {
      "cell_type": "code",
      "source": [
        "garm_prod['month'] = garm_prod['month'].astype('object')\n",
        "garm_prod['daynum'] = garm_prod['daynum'].astype('object')\n",
        "garm_prod.info()"
      ],
      "metadata": {
        "colab": {
          "base_uri": "https://localhost:8080/"
        },
        "id": "XaX6DaIZ_FmU",
        "outputId": "04bc848a-0e34-424d-8ded-8383bb637f4a"
      },
      "execution_count": 344,
      "outputs": [
        {
          "output_type": "stream",
          "name": "stdout",
          "text": [
            "<class 'pandas.core.frame.DataFrame'>\n",
            "RangeIndex: 1197 entries, 0 to 1196\n",
            "Data columns (total 16 columns):\n",
            " #   Column                 Non-Null Count  Dtype  \n",
            "---  ------                 --------------  -----  \n",
            " 0   quarter                1197 non-null   object \n",
            " 1   department             1197 non-null   object \n",
            " 2   day                    1197 non-null   object \n",
            " 3   team                   1197 non-null   int64  \n",
            " 4   targeted_productivity  1197 non-null   float64\n",
            " 5   smv                    1197 non-null   float64\n",
            " 6   wip                    691 non-null    float64\n",
            " 7   over_time              1197 non-null   int64  \n",
            " 8   incentive              1197 non-null   int64  \n",
            " 9   idle_time              1197 non-null   float64\n",
            " 10  idle_men               1197 non-null   int64  \n",
            " 11  no_of_style_change     1197 non-null   int64  \n",
            " 12  no_of_workers          1197 non-null   float64\n",
            " 13  actual_productivity    1197 non-null   float64\n",
            " 14  month                  1197 non-null   object \n",
            " 15  daynum                 1197 non-null   object \n",
            "dtypes: float64(6), int64(5), object(5)\n",
            "memory usage: 149.8+ KB\n"
          ]
        }
      ]
    },
    {
      "cell_type": "markdown",
      "source": [
        "### g) Check for duplicates and address them"
      ],
      "metadata": {
        "id": "UN1yzlpqnMLf"
      }
    },
    {
      "cell_type": "code",
      "source": [
        "# Identify and address any duplicates\n",
        "garm_prod.duplicated().sum()"
      ],
      "metadata": {
        "colab": {
          "base_uri": "https://localhost:8080/"
        },
        "id": "VXhX5XfKeipD",
        "outputId": "a19fa95f-8af1-4ec7-e93d-8e8a3880d811"
      },
      "execution_count": 345,
      "outputs": [
        {
          "output_type": "execute_result",
          "data": {
            "text/plain": [
              "0"
            ]
          },
          "metadata": {},
          "execution_count": 345
        }
      ]
    },
    {
      "cell_type": "markdown",
      "source": [
        "- There are no duplicates in the dataset"
      ],
      "metadata": {
        "id": "PfAEyrdzewgQ"
      }
    },
    {
      "cell_type": "markdown",
      "source": [
        "### h) Let's check the datatypes and ensure they are all correct"
      ],
      "metadata": {
        "id": "ydYSgDzmp3-8"
      }
    },
    {
      "cell_type": "code",
      "source": [
        "gpdata_types = garm_prod.dtypes\n",
        "gpdata_types"
      ],
      "metadata": {
        "colab": {
          "base_uri": "https://localhost:8080/"
        },
        "id": "odpXS4Onfn7X",
        "outputId": "cd0365fc-1474-4815-c98b-db0e4e109fa9"
      },
      "execution_count": 346,
      "outputs": [
        {
          "output_type": "execute_result",
          "data": {
            "text/plain": [
              "quarter                   object\n",
              "department                object\n",
              "day                       object\n",
              "team                       int64\n",
              "targeted_productivity    float64\n",
              "smv                      float64\n",
              "wip                      float64\n",
              "over_time                  int64\n",
              "incentive                  int64\n",
              "idle_time                float64\n",
              "idle_men                   int64\n",
              "no_of_style_change         int64\n",
              "no_of_workers            float64\n",
              "actual_productivity      float64\n",
              "month                     object\n",
              "daynum                    object\n",
              "dtype: object"
            ]
          },
          "metadata": {},
          "execution_count": 346
        }
      ]
    },
    {
      "cell_type": "markdown",
      "source": [
        "- All the datatypes seeem to be correct."
      ],
      "metadata": {
        "id": "LV4iU-D9rb0_"
      }
    },
    {
      "cell_type": "markdown",
      "source": [
        "### i) Check for other errors/issues with the data and fix them"
      ],
      "metadata": {
        "id": "4RsrecdZns_D"
      }
    },
    {
      "cell_type": "code",
      "source": [
        "# Let's check the statistics for the numerical columns\n",
        "garm_prod.describe()"
      ],
      "metadata": {
        "colab": {
          "base_uri": "https://localhost:8080/",
          "height": 300
        },
        "id": "1Zp8R_Oiskge",
        "outputId": "203a244b-c8e8-4150-8564-cfbf6741889b"
      },
      "execution_count": 347,
      "outputs": [
        {
          "output_type": "execute_result",
          "data": {
            "text/plain": [
              "              team  targeted_productivity          smv           wip  \\\n",
              "count  1197.000000            1197.000000  1197.000000    691.000000   \n",
              "mean      6.426901               0.729632    15.062172   1190.465991   \n",
              "std       3.463963               0.097891    10.943219   1837.455001   \n",
              "min       1.000000               0.070000     2.900000      7.000000   \n",
              "25%       3.000000               0.700000     3.940000    774.500000   \n",
              "50%       6.000000               0.750000    15.260000   1039.000000   \n",
              "75%       9.000000               0.800000    24.260000   1252.500000   \n",
              "max      12.000000               0.800000    54.560000  23122.000000   \n",
              "\n",
              "          over_time    incentive    idle_time     idle_men  \\\n",
              "count   1197.000000  1197.000000  1197.000000  1197.000000   \n",
              "mean    4567.460317    38.210526     0.730159     0.369256   \n",
              "std     3348.823563   160.182643    12.709757     3.268987   \n",
              "min        0.000000     0.000000     0.000000     0.000000   \n",
              "25%     1440.000000     0.000000     0.000000     0.000000   \n",
              "50%     3960.000000     0.000000     0.000000     0.000000   \n",
              "75%     6960.000000    50.000000     0.000000     0.000000   \n",
              "max    25920.000000  3600.000000   300.000000    45.000000   \n",
              "\n",
              "       no_of_style_change  no_of_workers  actual_productivity  \n",
              "count         1197.000000    1197.000000          1197.000000  \n",
              "mean             0.150376      34.609858             0.735091  \n",
              "std              0.427848      22.197687             0.174488  \n",
              "min              0.000000       2.000000             0.233705  \n",
              "25%              0.000000       9.000000             0.650307  \n",
              "50%              0.000000      34.000000             0.773333  \n",
              "75%              0.000000      57.000000             0.850253  \n",
              "max              2.000000      89.000000             1.120437  "
            ],
            "text/html": [
              "\n",
              "  <div id=\"df-c6373ea0-9cc9-4eb9-8e0b-b58585f58808\">\n",
              "    <div class=\"colab-df-container\">\n",
              "      <div>\n",
              "<style scoped>\n",
              "    .dataframe tbody tr th:only-of-type {\n",
              "        vertical-align: middle;\n",
              "    }\n",
              "\n",
              "    .dataframe tbody tr th {\n",
              "        vertical-align: top;\n",
              "    }\n",
              "\n",
              "    .dataframe thead th {\n",
              "        text-align: right;\n",
              "    }\n",
              "</style>\n",
              "<table border=\"1\" class=\"dataframe\">\n",
              "  <thead>\n",
              "    <tr style=\"text-align: right;\">\n",
              "      <th></th>\n",
              "      <th>team</th>\n",
              "      <th>targeted_productivity</th>\n",
              "      <th>smv</th>\n",
              "      <th>wip</th>\n",
              "      <th>over_time</th>\n",
              "      <th>incentive</th>\n",
              "      <th>idle_time</th>\n",
              "      <th>idle_men</th>\n",
              "      <th>no_of_style_change</th>\n",
              "      <th>no_of_workers</th>\n",
              "      <th>actual_productivity</th>\n",
              "    </tr>\n",
              "  </thead>\n",
              "  <tbody>\n",
              "    <tr>\n",
              "      <th>count</th>\n",
              "      <td>1197.000000</td>\n",
              "      <td>1197.000000</td>\n",
              "      <td>1197.000000</td>\n",
              "      <td>691.000000</td>\n",
              "      <td>1197.000000</td>\n",
              "      <td>1197.000000</td>\n",
              "      <td>1197.000000</td>\n",
              "      <td>1197.000000</td>\n",
              "      <td>1197.000000</td>\n",
              "      <td>1197.000000</td>\n",
              "      <td>1197.000000</td>\n",
              "    </tr>\n",
              "    <tr>\n",
              "      <th>mean</th>\n",
              "      <td>6.426901</td>\n",
              "      <td>0.729632</td>\n",
              "      <td>15.062172</td>\n",
              "      <td>1190.465991</td>\n",
              "      <td>4567.460317</td>\n",
              "      <td>38.210526</td>\n",
              "      <td>0.730159</td>\n",
              "      <td>0.369256</td>\n",
              "      <td>0.150376</td>\n",
              "      <td>34.609858</td>\n",
              "      <td>0.735091</td>\n",
              "    </tr>\n",
              "    <tr>\n",
              "      <th>std</th>\n",
              "      <td>3.463963</td>\n",
              "      <td>0.097891</td>\n",
              "      <td>10.943219</td>\n",
              "      <td>1837.455001</td>\n",
              "      <td>3348.823563</td>\n",
              "      <td>160.182643</td>\n",
              "      <td>12.709757</td>\n",
              "      <td>3.268987</td>\n",
              "      <td>0.427848</td>\n",
              "      <td>22.197687</td>\n",
              "      <td>0.174488</td>\n",
              "    </tr>\n",
              "    <tr>\n",
              "      <th>min</th>\n",
              "      <td>1.000000</td>\n",
              "      <td>0.070000</td>\n",
              "      <td>2.900000</td>\n",
              "      <td>7.000000</td>\n",
              "      <td>0.000000</td>\n",
              "      <td>0.000000</td>\n",
              "      <td>0.000000</td>\n",
              "      <td>0.000000</td>\n",
              "      <td>0.000000</td>\n",
              "      <td>2.000000</td>\n",
              "      <td>0.233705</td>\n",
              "    </tr>\n",
              "    <tr>\n",
              "      <th>25%</th>\n",
              "      <td>3.000000</td>\n",
              "      <td>0.700000</td>\n",
              "      <td>3.940000</td>\n",
              "      <td>774.500000</td>\n",
              "      <td>1440.000000</td>\n",
              "      <td>0.000000</td>\n",
              "      <td>0.000000</td>\n",
              "      <td>0.000000</td>\n",
              "      <td>0.000000</td>\n",
              "      <td>9.000000</td>\n",
              "      <td>0.650307</td>\n",
              "    </tr>\n",
              "    <tr>\n",
              "      <th>50%</th>\n",
              "      <td>6.000000</td>\n",
              "      <td>0.750000</td>\n",
              "      <td>15.260000</td>\n",
              "      <td>1039.000000</td>\n",
              "      <td>3960.000000</td>\n",
              "      <td>0.000000</td>\n",
              "      <td>0.000000</td>\n",
              "      <td>0.000000</td>\n",
              "      <td>0.000000</td>\n",
              "      <td>34.000000</td>\n",
              "      <td>0.773333</td>\n",
              "    </tr>\n",
              "    <tr>\n",
              "      <th>75%</th>\n",
              "      <td>9.000000</td>\n",
              "      <td>0.800000</td>\n",
              "      <td>24.260000</td>\n",
              "      <td>1252.500000</td>\n",
              "      <td>6960.000000</td>\n",
              "      <td>50.000000</td>\n",
              "      <td>0.000000</td>\n",
              "      <td>0.000000</td>\n",
              "      <td>0.000000</td>\n",
              "      <td>57.000000</td>\n",
              "      <td>0.850253</td>\n",
              "    </tr>\n",
              "    <tr>\n",
              "      <th>max</th>\n",
              "      <td>12.000000</td>\n",
              "      <td>0.800000</td>\n",
              "      <td>54.560000</td>\n",
              "      <td>23122.000000</td>\n",
              "      <td>25920.000000</td>\n",
              "      <td>3600.000000</td>\n",
              "      <td>300.000000</td>\n",
              "      <td>45.000000</td>\n",
              "      <td>2.000000</td>\n",
              "      <td>89.000000</td>\n",
              "      <td>1.120437</td>\n",
              "    </tr>\n",
              "  </tbody>\n",
              "</table>\n",
              "</div>\n",
              "      <button class=\"colab-df-convert\" onclick=\"convertToInteractive('df-c6373ea0-9cc9-4eb9-8e0b-b58585f58808')\"\n",
              "              title=\"Convert this dataframe to an interactive table.\"\n",
              "              style=\"display:none;\">\n",
              "        \n",
              "  <svg xmlns=\"http://www.w3.org/2000/svg\" height=\"24px\"viewBox=\"0 0 24 24\"\n",
              "       width=\"24px\">\n",
              "    <path d=\"M0 0h24v24H0V0z\" fill=\"none\"/>\n",
              "    <path d=\"M18.56 5.44l.94 2.06.94-2.06 2.06-.94-2.06-.94-.94-2.06-.94 2.06-2.06.94zm-11 1L8.5 8.5l.94-2.06 2.06-.94-2.06-.94L8.5 2.5l-.94 2.06-2.06.94zm10 10l.94 2.06.94-2.06 2.06-.94-2.06-.94-.94-2.06-.94 2.06-2.06.94z\"/><path d=\"M17.41 7.96l-1.37-1.37c-.4-.4-.92-.59-1.43-.59-.52 0-1.04.2-1.43.59L10.3 9.45l-7.72 7.72c-.78.78-.78 2.05 0 2.83L4 21.41c.39.39.9.59 1.41.59.51 0 1.02-.2 1.41-.59l7.78-7.78 2.81-2.81c.8-.78.8-2.07 0-2.86zM5.41 20L4 18.59l7.72-7.72 1.47 1.35L5.41 20z\"/>\n",
              "  </svg>\n",
              "      </button>\n",
              "      \n",
              "  <style>\n",
              "    .colab-df-container {\n",
              "      display:flex;\n",
              "      flex-wrap:wrap;\n",
              "      gap: 12px;\n",
              "    }\n",
              "\n",
              "    .colab-df-convert {\n",
              "      background-color: #E8F0FE;\n",
              "      border: none;\n",
              "      border-radius: 50%;\n",
              "      cursor: pointer;\n",
              "      display: none;\n",
              "      fill: #1967D2;\n",
              "      height: 32px;\n",
              "      padding: 0 0 0 0;\n",
              "      width: 32px;\n",
              "    }\n",
              "\n",
              "    .colab-df-convert:hover {\n",
              "      background-color: #E2EBFA;\n",
              "      box-shadow: 0px 1px 2px rgba(60, 64, 67, 0.3), 0px 1px 3px 1px rgba(60, 64, 67, 0.15);\n",
              "      fill: #174EA6;\n",
              "    }\n",
              "\n",
              "    [theme=dark] .colab-df-convert {\n",
              "      background-color: #3B4455;\n",
              "      fill: #D2E3FC;\n",
              "    }\n",
              "\n",
              "    [theme=dark] .colab-df-convert:hover {\n",
              "      background-color: #434B5C;\n",
              "      box-shadow: 0px 1px 3px 1px rgba(0, 0, 0, 0.15);\n",
              "      filter: drop-shadow(0px 1px 2px rgba(0, 0, 0, 0.3));\n",
              "      fill: #FFFFFF;\n",
              "    }\n",
              "  </style>\n",
              "\n",
              "      <script>\n",
              "        const buttonEl =\n",
              "          document.querySelector('#df-c6373ea0-9cc9-4eb9-8e0b-b58585f58808 button.colab-df-convert');\n",
              "        buttonEl.style.display =\n",
              "          google.colab.kernel.accessAllowed ? 'block' : 'none';\n",
              "\n",
              "        async function convertToInteractive(key) {\n",
              "          const element = document.querySelector('#df-c6373ea0-9cc9-4eb9-8e0b-b58585f58808');\n",
              "          const dataTable =\n",
              "            await google.colab.kernel.invokeFunction('convertToInteractive',\n",
              "                                                     [key], {});\n",
              "          if (!dataTable) return;\n",
              "\n",
              "          const docLinkHtml = 'Like what you see? Visit the ' +\n",
              "            '<a target=\"_blank\" href=https://colab.research.google.com/notebooks/data_table.ipynb>data table notebook</a>'\n",
              "            + ' to learn more about interactive tables.';\n",
              "          element.innerHTML = '';\n",
              "          dataTable['output_type'] = 'display_data';\n",
              "          await google.colab.output.renderOutput(dataTable, element);\n",
              "          const docLink = document.createElement('div');\n",
              "          docLink.innerHTML = docLinkHtml;\n",
              "          element.appendChild(docLink);\n",
              "        }\n",
              "      </script>\n",
              "    </div>\n",
              "  </div>\n",
              "  "
            ]
          },
          "metadata": {},
          "execution_count": 347
        }
      ]
    },
    {
      "cell_type": "markdown",
      "source": [
        "- It looks like the 'actual_productivity' column has a maximum value of approximately 1.120. Based on the attribute information given on the dataset reference page (https://archive.ics.uci.edu/ml/datasets/Productivity+Prediction+of+Garment+Employees#), 'actual_productivity' should range between 0 and 1. \n",
        "\n",
        "Let's check how many rows contain a value greater than 1 in the 'actual_productivity' column."
      ],
      "metadata": {
        "id": "eQERpCz0n2XB"
      }
    },
    {
      "cell_type": "code",
      "source": [
        "# Let's see how many rows contain actual_productivity > 1\n",
        "prod_filter = garm_prod['actual_productivity']>1\n",
        "prod_filter.sum()"
      ],
      "metadata": {
        "colab": {
          "base_uri": "https://localhost:8080/"
        },
        "id": "flm9rc3VtX_f",
        "outputId": "134f6592-982c-4c19-81b6-651006b1d7b8"
      },
      "execution_count": 348,
      "outputs": [
        {
          "output_type": "execute_result",
          "data": {
            "text/plain": [
              "37"
            ]
          },
          "metadata": {},
          "execution_count": 348
        }
      ]
    },
    {
      "cell_type": "code",
      "source": [
        "# Let's create a filter for actual_productivity < or = 1 \n",
        "# This should delete rows with actual_productivity > 1\n",
        "prod1_filter = garm_prod['actual_productivity'] <= 1\n",
        "garm_prod = garm_prod.loc[prod1_filter, :]"
      ],
      "metadata": {
        "id": "07TKU8AkrMiE"
      },
      "execution_count": 349,
      "outputs": []
    },
    {
      "cell_type": "code",
      "source": [
        "# Let's confirm that rows with actual_productivity > 1 have been dropped\n",
        "garm_prod.info()"
      ],
      "metadata": {
        "colab": {
          "base_uri": "https://localhost:8080/"
        },
        "id": "tdjBdFK7vq77",
        "outputId": "161d4044-5a96-4e4f-fa61-e2941e8e5d26"
      },
      "execution_count": 350,
      "outputs": [
        {
          "output_type": "stream",
          "name": "stdout",
          "text": [
            "<class 'pandas.core.frame.DataFrame'>\n",
            "Int64Index: 1160 entries, 0 to 1196\n",
            "Data columns (total 16 columns):\n",
            " #   Column                 Non-Null Count  Dtype  \n",
            "---  ------                 --------------  -----  \n",
            " 0   quarter                1160 non-null   object \n",
            " 1   department             1160 non-null   object \n",
            " 2   day                    1160 non-null   object \n",
            " 3   team                   1160 non-null   int64  \n",
            " 4   targeted_productivity  1160 non-null   float64\n",
            " 5   smv                    1160 non-null   float64\n",
            " 6   wip                    666 non-null    float64\n",
            " 7   over_time              1160 non-null   int64  \n",
            " 8   incentive              1160 non-null   int64  \n",
            " 9   idle_time              1160 non-null   float64\n",
            " 10  idle_men               1160 non-null   int64  \n",
            " 11  no_of_style_change     1160 non-null   int64  \n",
            " 12  no_of_workers          1160 non-null   float64\n",
            " 13  actual_productivity    1160 non-null   float64\n",
            " 14  month                  1160 non-null   object \n",
            " 15  daynum                 1160 non-null   object \n",
            "dtypes: float64(6), int64(5), object(5)\n",
            "memory usage: 154.1+ KB\n"
          ]
        }
      ]
    },
    {
      "cell_type": "markdown",
      "source": [
        "- We now have 1160 rows instead of 1197 previously. This confirms that 37 rows have been dropped."
      ],
      "metadata": {
        "id": "Du0NkdO5v7Sv"
      }
    },
    {
      "cell_type": "markdown",
      "source": [
        "## 4) Identify each feature as numerical, ordinal, or nominal.\n",
        "\n",
        "**Numerical features:** 'team', 'targeted_productivity', 'smv', 'wip', 'over_time', 'incentive', 'idle_time', 'idle_men', 'no_of_style_change', 'no_of_workers'\n",
        "\n",
        "**Nominal features:** 'quarter', 'department', 'day'\n",
        "\n",
        "**Ordinal features:** There are no ordinal features"
      ],
      "metadata": {
        "id": "idO6uBGBvYlk"
      }
    },
    {
      "cell_type": "markdown",
      "source": [
        "## 5) Find and Fix inconsistent categories of data in the nominal feature columns"
      ],
      "metadata": {
        "id": "9gbohJIw-b_3"
      }
    },
    {
      "cell_type": "code",
      "source": [
        "# Let's assign a variable to columns that are just 'object' datatypes\n",
        "obj_col = gpdata_types[gpdata_types=='object'].index\n",
        "obj_col"
      ],
      "metadata": {
        "colab": {
          "base_uri": "https://localhost:8080/"
        },
        "id": "AoRTcCYfDCFA",
        "outputId": "01036a41-9323-41ae-80ff-c6ba14cf4dde"
      },
      "execution_count": 351,
      "outputs": [
        {
          "output_type": "execute_result",
          "data": {
            "text/plain": [
              "Index(['quarter', 'department', 'day', 'month', 'daynum'], dtype='object')"
            ]
          },
          "metadata": {},
          "execution_count": 351
        }
      ]
    },
    {
      "cell_type": "code",
      "source": [
        "# Let's loop through 'object' columns and see the unique values and counts in all 'object' columns\n",
        "for x in obj_col:\n",
        "    print(f'- {x}:')\n",
        "    print(garm_prod[x].value_counts(dropna=False))\n",
        "    print()"
      ],
      "metadata": {
        "colab": {
          "base_uri": "https://localhost:8080/"
        },
        "id": "zXoh7Ra6F_ji",
        "outputId": "73715d12-85ee-4885-8bf5-2a08f39c6854"
      },
      "execution_count": 352,
      "outputs": [
        {
          "output_type": "stream",
          "name": "stdout",
          "text": [
            "- quarter:\n",
            "Quarter1    348\n",
            "Quarter2    324\n",
            "Quarter4    243\n",
            "Quarter3    204\n",
            "Quarter5     41\n",
            "Name: quarter, dtype: int64\n",
            "\n",
            "- department:\n",
            "sweing        666\n",
            "finishing     253\n",
            "finishing     241\n",
            "Name: department, dtype: int64\n",
            "\n",
            "- day:\n",
            "Wednesday    200\n",
            "Sunday       196\n",
            "Monday       195\n",
            "Tuesday      194\n",
            "Thursday     193\n",
            "Saturday     182\n",
            "Name: day, dtype: int64\n",
            "\n",
            "- month:\n",
            "1    533\n",
            "2    415\n",
            "3    212\n",
            "Name: month, dtype: int64\n",
            "\n",
            "- daynum:\n",
            "10    63\n",
            "8     62\n",
            "11    62\n",
            "3     60\n",
            "4     59\n",
            "7     58\n",
            "5     57\n",
            "1     55\n",
            "22    42\n",
            "25    42\n",
            "24    42\n",
            "28    40\n",
            "17    40\n",
            "18    40\n",
            "9     39\n",
            "26    39\n",
            "19    39\n",
            "12    39\n",
            "2     38\n",
            "14    37\n",
            "15    35\n",
            "13    22\n",
            "31    22\n",
            "6     21\n",
            "21    19\n",
            "27    19\n",
            "29    19\n",
            "23    19\n",
            "16    17\n",
            "20    14\n",
            "Name: daynum, dtype: int64\n",
            "\n"
          ]
        }
      ]
    },
    {
      "cell_type": "markdown",
      "source": [
        "- We can see from the above that\n",
        "\n",
        "a) There are no inconsistent categories of data in the 'quarter' column.\n",
        "\n",
        "b) There are no inconsistent categories of data in the 'day' column.\n",
        "\n",
        "c) There are no inconsistent categories of data in the 'month' column.\n",
        "\n",
        "d) There are no inconsistent categories of data in the 'daynum' column.\n",
        "\n",
        "e) In the 'department' column, it seems like there are two unique ways the word 'finishing' appears. However, it is not exactly obvious why this is so. Both words seem to be spelt correctly and the same way. \n",
        "\n",
        "Let's see the unique values a different way."
      ],
      "metadata": {
        "id": "Q5lwI6Dl_S53"
      }
    },
    {
      "cell_type": "code",
      "source": [
        "# Let's see the unique values in the 'department' column\n",
        "garm_prod['department'].unique()"
      ],
      "metadata": {
        "colab": {
          "base_uri": "https://localhost:8080/"
        },
        "id": "h9xZWyon-vZB",
        "outputId": "9891dfcc-57a5-4d5f-c49f-76e97253f4e8"
      },
      "execution_count": 353,
      "outputs": [
        {
          "output_type": "execute_result",
          "data": {
            "text/plain": [
              "array(['sweing', 'finishing ', 'finishing'], dtype=object)"
            ]
          },
          "metadata": {},
          "execution_count": 353
        }
      ]
    },
    {
      "cell_type": "markdown",
      "source": [
        "- It is obvious from the above that in one case, 'finishing' is written with a white space after the word. So, the word appears in two ways: 'finishing ' and 'finishing'."
      ],
      "metadata": {
        "id": "5H7pgJfNNybV"
      }
    },
    {
      "cell_type": "code",
      "source": [
        "# Let's see the unique values in the 'department' column in a bar chart\n",
        "garm_prod['department'].value_counts().plot(kind = 'bar');"
      ],
      "metadata": {
        "colab": {
          "base_uri": "https://localhost:8080/",
          "height": 301
        },
        "id": "Fq69WFXgWkkF",
        "outputId": "c50af345-082b-436b-84a4-45ccb5980bf5"
      },
      "execution_count": 354,
      "outputs": [
        {
          "output_type": "display_data",
          "data": {
            "text/plain": [
              "<Figure size 432x288 with 1 Axes>"
            ],
            "image/png": "[encoded data removed]"
          },
          "metadata": {
            "needs_background": "light"
          }
        }
      ]
    },
    {
      "cell_type": "code",
      "source": [
        "# We can make 'finishing ' appear as 'finishing'\n",
        "garm_prod['department'] = garm_prod['department'].replace('finishing ','finishing')\n",
        "dept_replace = garm_prod['department'].unique()\n",
        "dept_replace.sort()\n",
        "dept_replace"
      ],
      "metadata": {
        "colab": {
          "base_uri": "https://localhost:8080/"
        },
        "id": "EGIQSN2TPxHR",
        "outputId": "df9148a2-aefc-432f-b779-762fee5b70c9"
      },
      "execution_count": 355,
      "outputs": [
        {
          "output_type": "execute_result",
          "data": {
            "text/plain": [
              "array(['finishing', 'sweing'], dtype=object)"
            ]
          },
          "metadata": {},
          "execution_count": 355
        }
      ]
    },
    {
      "cell_type": "markdown",
      "source": [
        "- All inconsistent 'finishing' have been corrected"
      ],
      "metadata": {
        "id": "GAfGTruaQcc1"
      }
    },
    {
      "cell_type": "code",
      "source": [
        "# Let's run value_counts also to confirm\n",
        "garm_prod['department'].value_counts()"
      ],
      "metadata": {
        "colab": {
          "base_uri": "https://localhost:8080/"
        },
        "id": "35qt-RNhQ3Qt",
        "outputId": "e96e58fc-bcd2-4fbf-d413-f1619b7a6c84"
      },
      "execution_count": 356,
      "outputs": [
        {
          "output_type": "execute_result",
          "data": {
            "text/plain": [
              "sweing       666\n",
              "finishing    494\n",
              "Name: department, dtype: int64"
            ]
          },
          "metadata": {},
          "execution_count": 356
        }
      ]
    },
    {
      "cell_type": "markdown",
      "source": [
        "- We now have a total count of 494 (253 + 241) for the word 'finishing'"
      ],
      "metadata": {
        "id": "wzwmCYS_RDIs"
      }
    },
    {
      "cell_type": "markdown",
      "source": [
        "## 6) Identify Outliers"
      ],
      "metadata": {
        "id": "OFoHwo_0ahV4"
      }
    },
    {
      "cell_type": "code",
      "source": [
        "# Let's check the statistics for the numerical columns\n",
        "garm_prod.describe()"
      ],
      "metadata": {
        "id": "eBsHIyToBYYr",
        "colab": {
          "base_uri": "https://localhost:8080/",
          "height": 300
        },
        "outputId": "d4e97583-422c-4899-9806-17d8bd9d38d1"
      },
      "execution_count": 357,
      "outputs": [
        {
          "output_type": "execute_result",
          "data": {
            "text/plain": [
              "              team  targeted_productivity         smv           wip  \\\n",
              "count  1160.000000            1160.000000  1160.00000    666.000000   \n",
              "mean      6.544828               0.727905    15.01481   1159.974474   \n",
              "std       3.422968               0.098735    11.00475   1769.132478   \n",
              "min       1.000000               0.070000     2.90000      7.000000   \n",
              "25%       4.000000               0.700000     3.94000    762.000000   \n",
              "50%       7.000000               0.750000    15.26000   1028.500000   \n",
              "75%       9.000000               0.800000    24.26000   1226.750000   \n",
              "max      12.000000               0.800000    54.56000  23122.000000   \n",
              "\n",
              "          over_time    incentive    idle_time     idle_men  \\\n",
              "count   1160.000000  1160.000000  1160.000000  1160.000000   \n",
              "mean    4575.301724    37.012931     0.753448     0.381034   \n",
              "std     3363.475857   162.300882    12.910356     3.320081   \n",
              "min        0.000000     0.000000     0.000000     0.000000   \n",
              "25%     1440.000000     0.000000     0.000000     0.000000   \n",
              "50%     3960.000000     0.000000     0.000000     0.000000   \n",
              "75%     6960.000000    50.000000     0.000000     0.000000   \n",
              "max    25920.000000  3600.000000   300.000000    45.000000   \n",
              "\n",
              "       no_of_style_change  no_of_workers  actual_productivity  \n",
              "count         1160.000000    1160.000000          1160.000000  \n",
              "mean             0.155172      34.346552             0.725991  \n",
              "std              0.433766      22.181174             0.169404  \n",
              "min              0.000000       2.000000             0.233705  \n",
              "25%              0.000000       9.000000             0.650061  \n",
              "50%              0.000000      34.000000             0.754425  \n",
              "75%              0.000000      57.000000             0.845167  \n",
              "max              2.000000      89.000000             0.999995  "
            ],
            "text/html": [
              "\n",
              "  <div id=\"df-4a5e445a-70ff-4bab-a93a-5002fe8c6197\">\n",
              "    <div class=\"colab-df-container\">\n",
              "      <div>\n",
              "<style scoped>\n",
              "    .dataframe tbody tr th:only-of-type {\n",
              "        vertical-align: middle;\n",
              "    }\n",
              "\n",
              "    .dataframe tbody tr th {\n",
              "        vertical-align: top;\n",
              "    }\n",
              "\n",
              "    .dataframe thead th {\n",
              "        text-align: right;\n",
              "    }\n",
              "</style>\n",
              "<table border=\"1\" class=\"dataframe\">\n",
              "  <thead>\n",
              "    <tr style=\"text-align: right;\">\n",
              "      <th></th>\n",
              "      <th>team</th>\n",
              "      <th>targeted_productivity</th>\n",
              "      <th>smv</th>\n",
              "      <th>wip</th>\n",
              "      <th>over_time</th>\n",
              "      <th>incentive</th>\n",
              "      <th>idle_time</th>\n",
              "      <th>idle_men</th>\n",
              "      <th>no_of_style_change</th>\n",
              "      <th>no_of_workers</th>\n",
              "      <th>actual_productivity</th>\n",
              "    </tr>\n",
              "  </thead>\n",
              "  <tbody>\n",
              "    <tr>\n",
              "      <th>count</th>\n",
              "      <td>1160.000000</td>\n",
              "      <td>1160.000000</td>\n",
              "      <td>1160.00000</td>\n",
              "      <td>666.000000</td>\n",
              "      <td>1160.000000</td>\n",
              "      <td>1160.000000</td>\n",
              "      <td>1160.000000</td>\n",
              "      <td>1160.000000</td>\n",
              "      <td>1160.000000</td>\n",
              "      <td>1160.000000</td>\n",
              "      <td>1160.000000</td>\n",
              "    </tr>\n",
              "    <tr>\n",
              "      <th>mean</th>\n",
              "      <td>6.544828</td>\n",
              "      <td>0.727905</td>\n",
              "      <td>15.01481</td>\n",
              "      <td>1159.974474</td>\n",
              "      <td>4575.301724</td>\n",
              "      <td>37.012931</td>\n",
              "      <td>0.753448</td>\n",
              "      <td>0.381034</td>\n",
              "      <td>0.155172</td>\n",
              "      <td>34.346552</td>\n",
              "      <td>0.725991</td>\n",
              "    </tr>\n",
              "    <tr>\n",
              "      <th>std</th>\n",
              "      <td>3.422968</td>\n",
              "      <td>0.098735</td>\n",
              "      <td>11.00475</td>\n",
              "      <td>1769.132478</td>\n",
              "      <td>3363.475857</td>\n",
              "      <td>162.300882</td>\n",
              "      <td>12.910356</td>\n",
              "      <td>3.320081</td>\n",
              "      <td>0.433766</td>\n",
              "      <td>22.181174</td>\n",
              "      <td>0.169404</td>\n",
              "    </tr>\n",
              "    <tr>\n",
              "      <th>min</th>\n",
              "      <td>1.000000</td>\n",
              "      <td>0.070000</td>\n",
              "      <td>2.90000</td>\n",
              "      <td>7.000000</td>\n",
              "      <td>0.000000</td>\n",
              "      <td>0.000000</td>\n",
              "      <td>0.000000</td>\n",
              "      <td>0.000000</td>\n",
              "      <td>0.000000</td>\n",
              "      <td>2.000000</td>\n",
              "      <td>0.233705</td>\n",
              "    </tr>\n",
              "    <tr>\n",
              "      <th>25%</th>\n",
              "      <td>4.000000</td>\n",
              "      <td>0.700000</td>\n",
              "      <td>3.94000</td>\n",
              "      <td>762.000000</td>\n",
              "      <td>1440.000000</td>\n",
              "      <td>0.000000</td>\n",
              "      <td>0.000000</td>\n",
              "      <td>0.000000</td>\n",
              "      <td>0.000000</td>\n",
              "      <td>9.000000</td>\n",
              "      <td>0.650061</td>\n",
              "    </tr>\n",
              "    <tr>\n",
              "      <th>50%</th>\n",
              "      <td>7.000000</td>\n",
              "      <td>0.750000</td>\n",
              "      <td>15.26000</td>\n",
              "      <td>1028.500000</td>\n",
              "      <td>3960.000000</td>\n",
              "      <td>0.000000</td>\n",
              "      <td>0.000000</td>\n",
              "      <td>0.000000</td>\n",
              "      <td>0.000000</td>\n",
              "      <td>34.000000</td>\n",
              "      <td>0.754425</td>\n",
              "    </tr>\n",
              "    <tr>\n",
              "      <th>75%</th>\n",
              "      <td>9.000000</td>\n",
              "      <td>0.800000</td>\n",
              "      <td>24.26000</td>\n",
              "      <td>1226.750000</td>\n",
              "      <td>6960.000000</td>\n",
              "      <td>50.000000</td>\n",
              "      <td>0.000000</td>\n",
              "      <td>0.000000</td>\n",
              "      <td>0.000000</td>\n",
              "      <td>57.000000</td>\n",
              "      <td>0.845167</td>\n",
              "    </tr>\n",
              "    <tr>\n",
              "      <th>max</th>\n",
              "      <td>12.000000</td>\n",
              "      <td>0.800000</td>\n",
              "      <td>54.56000</td>\n",
              "      <td>23122.000000</td>\n",
              "      <td>25920.000000</td>\n",
              "      <td>3600.000000</td>\n",
              "      <td>300.000000</td>\n",
              "      <td>45.000000</td>\n",
              "      <td>2.000000</td>\n",
              "      <td>89.000000</td>\n",
              "      <td>0.999995</td>\n",
              "    </tr>\n",
              "  </tbody>\n",
              "</table>\n",
              "</div>\n",
              "      <button class=\"colab-df-convert\" onclick=\"convertToInteractive('df-4a5e445a-70ff-4bab-a93a-5002fe8c6197')\"\n",
              "              title=\"Convert this dataframe to an interactive table.\"\n",
              "              style=\"display:none;\">\n",
              "        \n",
              "  <svg xmlns=\"http://www.w3.org/2000/svg\" height=\"24px\"viewBox=\"0 0 24 24\"\n",
              "       width=\"24px\">\n",
              "    <path d=\"M0 0h24v24H0V0z\" fill=\"none\"/>\n",
              "    <path d=\"M18.56 5.44l.94 2.06.94-2.06 2.06-.94-2.06-.94-.94-2.06-.94 2.06-2.06.94zm-11 1L8.5 8.5l.94-2.06 2.06-.94-2.06-.94L8.5 2.5l-.94 2.06-2.06.94zm10 10l.94 2.06.94-2.06 2.06-.94-2.06-.94-.94-2.06-.94 2.06-2.06.94z\"/><path d=\"M17.41 7.96l-1.37-1.37c-.4-.4-.92-.59-1.43-.59-.52 0-1.04.2-1.43.59L10.3 9.45l-7.72 7.72c-.78.78-.78 2.05 0 2.83L4 21.41c.39.39.9.59 1.41.59.51 0 1.02-.2 1.41-.59l7.78-7.78 2.81-2.81c.8-.78.8-2.07 0-2.86zM5.41 20L4 18.59l7.72-7.72 1.47 1.35L5.41 20z\"/>\n",
              "  </svg>\n",
              "      </button>\n",
              "      \n",
              "  <style>\n",
              "    .colab-df-container {\n",
              "      display:flex;\n",
              "      flex-wrap:wrap;\n",
              "      gap: 12px;\n",
              "    }\n",
              "\n",
              "    .colab-df-convert {\n",
              "      background-color: #E8F0FE;\n",
              "      border: none;\n",
              "      border-radius: 50%;\n",
              "      cursor: pointer;\n",
              "      display: none;\n",
              "      fill: #1967D2;\n",
              "      height: 32px;\n",
              "      padding: 0 0 0 0;\n",
              "      width: 32px;\n",
              "    }\n",
              "\n",
              "    .colab-df-convert:hover {\n",
              "      background-color: #E2EBFA;\n",
              "      box-shadow: 0px 1px 2px rgba(60, 64, 67, 0.3), 0px 1px 3px 1px rgba(60, 64, 67, 0.15);\n",
              "      fill: #174EA6;\n",
              "    }\n",
              "\n",
              "    [theme=dark] .colab-df-convert {\n",
              "      background-color: #3B4455;\n",
              "      fill: #D2E3FC;\n",
              "    }\n",
              "\n",
              "    [theme=dark] .colab-df-convert:hover {\n",
              "      background-color: #434B5C;\n",
              "      box-shadow: 0px 1px 3px 1px rgba(0, 0, 0, 0.15);\n",
              "      filter: drop-shadow(0px 1px 2px rgba(0, 0, 0, 0.3));\n",
              "      fill: #FFFFFF;\n",
              "    }\n",
              "  </style>\n",
              "\n",
              "      <script>\n",
              "        const buttonEl =\n",
              "          document.querySelector('#df-4a5e445a-70ff-4bab-a93a-5002fe8c6197 button.colab-df-convert');\n",
              "        buttonEl.style.display =\n",
              "          google.colab.kernel.accessAllowed ? 'block' : 'none';\n",
              "\n",
              "        async function convertToInteractive(key) {\n",
              "          const element = document.querySelector('#df-4a5e445a-70ff-4bab-a93a-5002fe8c6197');\n",
              "          const dataTable =\n",
              "            await google.colab.kernel.invokeFunction('convertToInteractive',\n",
              "                                                     [key], {});\n",
              "          if (!dataTable) return;\n",
              "\n",
              "          const docLinkHtml = 'Like what you see? Visit the ' +\n",
              "            '<a target=\"_blank\" href=https://colab.research.google.com/notebooks/data_table.ipynb>data table notebook</a>'\n",
              "            + ' to learn more about interactive tables.';\n",
              "          element.innerHTML = '';\n",
              "          dataTable['output_type'] = 'display_data';\n",
              "          await google.colab.output.renderOutput(dataTable, element);\n",
              "          const docLink = document.createElement('div');\n",
              "          docLink.innerHTML = docLinkHtml;\n",
              "          element.appendChild(docLink);\n",
              "        }\n",
              "      </script>\n",
              "    </div>\n",
              "  </div>\n",
              "  "
            ]
          },
          "metadata": {},
          "execution_count": 357
        }
      ]
    },
    {
      "cell_type": "markdown",
      "source": [
        "- To determine the outliers in our data, I would have to use a data visualization technique. I have decided to use boxplots. First, I will look at the above summary statistics (found using '.describe'), and then look at the median of each column to see if it is halfway in the middle of all the values. If the median is around halfway of all the values, then there is a chance that column does not have an outlier. Secondly, if the maximum is far away from the 75% (75th percentile) value, there is a chance that column has an outlier. Finally, if the minimum is far away from the 25% (25th percentile) value, there is a chance that column has an outlier. I have selected columns after considering the above 3 criteria stated and decided to create boxplots for each of those columns below."
      ],
      "metadata": {
        "id": "-5v45ItmbB0F"
      }
    },
    {
      "cell_type": "code",
      "source": [
        "# Boxplot for 'targeted_productivity' column\n",
        "plt.figure(figsize=(8,6))\n",
        "sns.boxplot(data=garm_prod, x='targeted_productivity');"
      ],
      "metadata": {
        "colab": {
          "base_uri": "https://localhost:8080/",
          "height": 388
        },
        "id": "6ByGSJXOa6q0",
        "outputId": "3a9970c0-110f-41c2-c1af-20206ec79351"
      },
      "execution_count": 358,
      "outputs": [
        {
          "output_type": "display_data",
          "data": {
            "text/plain": [
              "<Figure size 576x432 with 1 Axes>"
            ],
            "image/png": "[encoded data removed]"
          },
          "metadata": {
            "needs_background": "light"
          }
        }
      ]
    },
    {
      "cell_type": "code",
      "source": [
        "# Boxplot for 'wip' column\n",
        "plt.figure(figsize=(8,6))\n",
        "sns.boxplot(data=garm_prod, x='wip');"
      ],
      "metadata": {
        "colab": {
          "base_uri": "https://localhost:8080/",
          "height": 387
        },
        "id": "-DdsAiTUj1h9",
        "outputId": "2de16eae-78f0-49ea-ff73-ae150fc27364"
      },
      "execution_count": 359,
      "outputs": [
        {
          "output_type": "display_data",
          "data": {
            "text/plain": [
              "<Figure size 576x432 with 1 Axes>"
            ],
            "image/png": "[encoded data removed]"
          },
          "metadata": {
            "needs_background": "light"
          }
        }
      ]
    },
    {
      "cell_type": "code",
      "source": [
        "# Boxplot for 'over_time' column\n",
        "plt.figure(figsize=(8,6))\n",
        "sns.boxplot(data=garm_prod, x='over_time');"
      ],
      "metadata": {
        "colab": {
          "base_uri": "https://localhost:8080/",
          "height": 388
        },
        "id": "ulB4ePsuka6I",
        "outputId": "5b94aeab-c0ae-4ce3-8a38-21217eb2eab8"
      },
      "execution_count": 360,
      "outputs": [
        {
          "output_type": "display_data",
          "data": {
            "text/plain": [
              "<Figure size 576x432 with 1 Axes>"
            ],
            "image/png": "[encoded data removed]"
          },
          "metadata": {
            "needs_background": "light"
          }
        }
      ]
    },
    {
      "cell_type": "code",
      "source": [
        "# Boxplot for 'incentive' column\n",
        "plt.figure(figsize=(8,6))\n",
        "sns.boxplot(data=garm_prod, x='incentive');"
      ],
      "metadata": {
        "colab": {
          "base_uri": "https://localhost:8080/",
          "height": 387
        },
        "id": "RABC7zTekj80",
        "outputId": "22655997-1925-4dd9-f35d-a6daf3b1c1e0"
      },
      "execution_count": 361,
      "outputs": [
        {
          "output_type": "display_data",
          "data": {
            "text/plain": [
              "<Figure size 576x432 with 1 Axes>"
            ],
            "image/png": "[encoded data removed]"
          },
          "metadata": {
            "needs_background": "light"
          }
        }
      ]
    },
    {
      "cell_type": "code",
      "source": [
        "# Boxplot for 'idle_time' column\n",
        "plt.figure(figsize=(8,6))\n",
        "sns.boxplot(data=garm_prod, x='idle_time');"
      ],
      "metadata": {
        "colab": {
          "base_uri": "https://localhost:8080/",
          "height": 388
        },
        "id": "NYaMXDOBkp3U",
        "outputId": "14f9fcd5-2ece-4639-f9c9-c025dda1278a"
      },
      "execution_count": 362,
      "outputs": [
        {
          "output_type": "display_data",
          "data": {
            "text/plain": [
              "<Figure size 576x432 with 1 Axes>"
            ],
            "image/png": "[encoded data removed]"
          },
          "metadata": {
            "needs_background": "light"
          }
        }
      ]
    },
    {
      "cell_type": "code",
      "source": [
        "# Boxplot for 'idle_men' column\n",
        "plt.figure(figsize=(8,6))\n",
        "sns.boxplot(data=garm_prod, x='idle_men');"
      ],
      "metadata": {
        "colab": {
          "base_uri": "https://localhost:8080/",
          "height": 388
        },
        "id": "8M-PQbfek4yG",
        "outputId": "e00c6360-aee5-4e7f-eb5f-2725eee5f152"
      },
      "execution_count": 363,
      "outputs": [
        {
          "output_type": "display_data",
          "data": {
            "text/plain": [
              "<Figure size 576x432 with 1 Axes>"
            ],
            "image/png": "[encoded data removed]"
          },
          "metadata": {
            "needs_background": "light"
          }
        }
      ]
    },
    {
      "cell_type": "code",
      "source": [
        "# Boxplot for 'no_of_style_change' column\n",
        "plt.figure(figsize=(8,6))\n",
        "sns.boxplot(data=garm_prod, x='no_of_style_change');"
      ],
      "metadata": {
        "colab": {
          "base_uri": "https://localhost:8080/",
          "height": 388
        },
        "id": "YV8kUIBrlBSb",
        "outputId": "810aa25c-7918-4b92-b7af-8f466a24919b"
      },
      "execution_count": 364,
      "outputs": [
        {
          "output_type": "display_data",
          "data": {
            "text/plain": [
              "<Figure size 576x432 with 1 Axes>"
            ],
            "image/png": "[encoded data removed]"
          },
          "metadata": {
            "needs_background": "light"
          }
        }
      ]
    },
    {
      "cell_type": "markdown",
      "source": [
        "- We can see from the above boxplots that the following columns have outliers in them: 'targeted_productivity', 'wip', 'over_time', 'incentive', 'idle_time', 'idle_men', and 'no_of_style_change'\n",
        "\n",
        "- I have decided to keep the outliers in the 'garm_prod' data because I see no reason to believe they are errors in the dataset."
      ],
      "metadata": {
        "id": "rvNb6sewu-8R"
      }
    },
    {
      "cell_type": "markdown",
      "source": [
        "## 7) Create univariate and multivariate visualizations. \n",
        "\n",
        "a) Barchart of 'department' column. We will plot the count of each department\n",
        "\n",
        "b) Compare actual productivity for each department \n",
        "\n",
        "c) Compare actual productivity for each department for each day of the week.\n",
        "\n",
        "d) Histogram of 'targeted_productivity' column. The 'targeted_productivity' column represents targeted productivity set by the authority for each team for each day.\n",
        "\n",
        "e) Histogram of 'actual_productivity' column. The 'actual_productivity' column represents the actual % of productivity that was delivered by the workers. "
      ],
      "metadata": {
        "id": "FGltp1J1R4K1"
      }
    },
    {
      "cell_type": "markdown",
      "source": [
        "### a) Barchart of 'department' column. "
      ],
      "metadata": {
        "id": "Sb7kxHqyoJXi"
      }
    },
    {
      "cell_type": "code",
      "source": [
        "# Count each department listed in the 'department' column\n",
        "dept_counts = garm_prod['department'].value_counts()\n",
        "dept_counts"
      ],
      "metadata": {
        "colab": {
          "base_uri": "https://localhost:8080/"
        },
        "id": "KhubFpZhJzQC",
        "outputId": "ce8979cc-fa3a-461d-b9b0-c3b635d692ff"
      },
      "execution_count": 365,
      "outputs": [
        {
          "output_type": "execute_result",
          "data": {
            "text/plain": [
              "sweing       666\n",
              "finishing    494\n",
              "Name: department, dtype: int64"
            ]
          },
          "metadata": {},
          "execution_count": 365
        }
      ]
    },
    {
      "cell_type": "code",
      "source": [
        "# Plot the counts of each department\n",
        "\n",
        "dept_counts.plot(kind = 'bar', color = ['brown','green'])\n",
        "plt.title('Count of Each Department', fontsize = 15)\n",
        "plt.ylabel('Count', fontsize = 15)\n",
        "plt.xlabel('Departments', fontsize = 15)\n",
        "plt.xticks(rotation = 0, fontsize = 12)\n",
        "\n",
        "# Show your figure\n",
        "plt.show()\n",
        "\n",
        "# Display the counts below the plot\n",
        "dept_counts"
      ],
      "metadata": {
        "colab": {
          "base_uri": "https://localhost:8080/",
          "height": 360
        },
        "id": "rDpFsOJ6JuxX",
        "outputId": "ef329f4a-0a55-45b5-cbeb-cf2203a93a72"
      },
      "execution_count": 366,
      "outputs": [
        {
          "output_type": "display_data",
          "data": {
            "text/plain": [
              "<Figure size 432x288 with 1 Axes>"
            ],
            "image/png": "[encoded data removed]"
          },
          "metadata": {
            "needs_background": "light"
          }
        },
        {
          "output_type": "execute_result",
          "data": {
            "text/plain": [
              "sweing       666\n",
              "finishing    494\n",
              "Name: department, dtype: int64"
            ]
          },
          "metadata": {},
          "execution_count": 366
        }
      ]
    },
    {
      "cell_type": "markdown",
      "source": [
        "- We can see from the above bar chart that the department 'sweing' had a higher count. There was more data obtained from the sweing department than the finishing department."
      ],
      "metadata": {
        "id": "W09PV3GgtaR_"
      }
    },
    {
      "cell_type": "markdown",
      "source": [
        "### b) Compare actual productivity for each department "
      ],
      "metadata": {
        "id": "9bu9IDIyhX3t"
      }
    },
    {
      "cell_type": "code",
      "source": [
        "ax = sns.barplot(data=garm_prod, x = 'department', y = 'actual_productivity', ci = 68)\n",
        "ax.set_title('Actual productivity for each Department')"
      ],
      "metadata": {
        "colab": {
          "base_uri": "https://localhost:8080/",
          "height": 313
        },
        "id": "VtvTU6hUtpBV",
        "outputId": "7c88ca91-16b2-45cc-fe40-5f1011f6a6a8"
      },
      "execution_count": 367,
      "outputs": [
        {
          "output_type": "execute_result",
          "data": {
            "text/plain": [
              "Text(0.5, 1.0, 'Actual productivity for each Department')"
            ]
          },
          "metadata": {},
          "execution_count": 367
        },
        {
          "output_type": "display_data",
          "data": {
            "text/plain": [
              "<Figure size 432x288 with 1 Axes>"
            ],
            "image/png": "[encoded data removed]"
          },
          "metadata": {
            "needs_background": "light"
          }
        }
      ]
    },
    {
      "cell_type": "markdown",
      "source": [
        "### c) Compare actual productivity for each department for each day of the week"
      ],
      "metadata": {
        "id": "Mtd8Cs5FH67C"
      }
    },
    {
      "cell_type": "code",
      "source": [
        "garm_prod['day'].unique()"
      ],
      "metadata": {
        "colab": {
          "base_uri": "https://localhost:8080/"
        },
        "id": "M85G_gETl7cQ",
        "outputId": "e374c0d8-4525-401f-91d6-3cd20eb3fe01"
      },
      "execution_count": 368,
      "outputs": [
        {
          "output_type": "execute_result",
          "data": {
            "text/plain": [
              "array(['Thursday', 'Saturday', 'Sunday', 'Monday', 'Tuesday', 'Wednesday'],\n",
              "      dtype=object)"
            ]
          },
          "metadata": {},
          "execution_count": 368
        }
      ]
    },
    {
      "cell_type": "code",
      "source": [
        "order = ['Saturday', 'Sunday', 'Monday', 'Tuesday', 'Wednesday', 'Thursday']\n",
        "ax=sns.barplot(data=garm_prod, x = 'day', y = 'actual_productivity', hue = 'department', ci = 68, order = order)\n",
        "ax.set_title('Actual productivity for each Department per week day')"
      ],
      "metadata": {
        "colab": {
          "base_uri": "https://localhost:8080/",
          "height": 313
        },
        "id": "LCwYZzI9EW5C",
        "outputId": "8b5b3c5c-2070-4395-aea8-38da21bab227"
      },
      "execution_count": 369,
      "outputs": [
        {
          "output_type": "execute_result",
          "data": {
            "text/plain": [
              "Text(0.5, 1.0, 'Actual productivity for each Department per week day')"
            ]
          },
          "metadata": {},
          "execution_count": 369
        },
        {
          "output_type": "display_data",
          "data": {
            "text/plain": [
              "<Figure size 432x288 with 1 Axes>"
            ],
            "image/png": "[encoded data removed]"
          },
          "metadata": {
            "needs_background": "light"
          }
        }
      ]
    },
    {
      "cell_type": "markdown",
      "source": [
        "- For both departments, it looks like actual productivity is highest on Saturdays. It also looks like actual productvity was higher for the finishing department than the sweing department each day. "
      ],
      "metadata": {
        "id": "QjIciuPSIHII"
      }
    },
    {
      "cell_type": "markdown",
      "source": [
        "### d) Histogram of 'targeted_productivity' column. "
      ],
      "metadata": {
        "id": "8B5i6jQ-W3XB"
      }
    },
    {
      "cell_type": "code",
      "source": [
        "# Histogram of Targeted Productivity distribution.\n",
        "plt.figure(figsize=(8,6))\n",
        "# Parameter \"edgecolor='black'\" was adapted from: https://www.youtube.com/watch?v=XDv6T4a0RNc&list=PL-osiE80TeTvipOqomVEeZ1HRrcEvtZB_&index=6\n",
        "plt.hist(garm_prod['targeted_productivity'], bins='auto', edgecolor='black')\n",
        "plt.xlabel(\"targeted_productivity\")\n",
        "plt.ylabel(\"Count\")\n",
        "plt.title(\"Targeted Productivity Distribution for Teams\")\n",
        "# \"The following Code adapted from: https://stackoverflow.com/questions/9127434/how-to-create-major-and-minor-gridlines-with-different-linestyles-in-python”\n",
        "plt.minorticks_on();"
      ],
      "metadata": {
        "colab": {
          "base_uri": "https://localhost:8080/",
          "height": 404
        },
        "id": "7DLWriU64zve",
        "outputId": "79288f02-4897-4550-c0ae-0d42eaecf6e5"
      },
      "execution_count": 370,
      "outputs": [
        {
          "output_type": "display_data",
          "data": {
            "text/plain": [
              "<Figure size 576x432 with 1 Axes>"
            ],
            "image/png": "[encoded data removed]"
          },
          "metadata": {
            "needs_background": "light"
          }
        }
      ]
    },
    {
      "cell_type": "markdown",
      "source": [
        "- From the above histogram, targeted productivity frequency for workers was highest around approximately 0.78 - 0.80 or 78% - 80% range. This means that the number of times work teams were given set target productivity between 78% - 80% range was highest of all target productivity ranges. Since this range is the highest of all, we can say that employers expected high productivity from workers most days."
      ],
      "metadata": {
        "id": "Nh4O-4G7WOQB"
      }
    },
    {
      "cell_type": "markdown",
      "source": [
        "### e) Histogram of 'actual_productivity' column."
      ],
      "metadata": {
        "id": "dJq9Wc2rXW74"
      }
    },
    {
      "cell_type": "code",
      "source": [
        "# Histogram of Targeted Productivity distribution.\n",
        "plt.figure(figsize=(8,6))\n",
        "plt.hist(garm_prod['actual_productivity'], color = 'orange', bins='auto', edgecolor='black')\n",
        "plt.xlabel(\"actual_productivity\")\n",
        "plt.ylabel(\"Count\")\n",
        "plt.title(\"Actual Productivity Distribution for Teams\")\n",
        "plt.minorticks_on();"
      ],
      "metadata": {
        "colab": {
          "base_uri": "https://localhost:8080/",
          "height": 404
        },
        "id": "EoIkLqAcXgxs",
        "outputId": "f4081a5f-4a8c-4d84-eca8-aeb6c436079a"
      },
      "execution_count": 371,
      "outputs": [
        {
          "output_type": "display_data",
          "data": {
            "text/plain": [
              "<Figure size 576x432 with 1 Axes>"
            ],
            "image/png": "[encoded data removed]"
          },
          "metadata": {
            "needs_background": "light"
          }
        }
      ]
    },
    {
      "cell_type": "markdown",
      "source": [
        "- From the above histogram, actual productivity frequency for workers was highest around approximately 0.78 - 0.82 or 78% - 82% range. This means that the number of times actual percent productivity for work teams fell between 78% - 82% range was highest of all actual productivity ranges. Since this range is close to the target productivity range (78% - 80%) with highest frequency, we can say that the target productivity was met by work teams most of the time."
      ],
      "metadata": {
        "id": "j3MuEV4dlLvw"
      }
    },
    {
      "cell_type": "markdown",
      "source": [
        "## 8) Classify actual_productivity column into two classes 'Yes' and 'No' based on employee teams that met their targeted productivity\n",
        "\n",
        "- In the dataset, there is a column titled 'targeted_productivity.' This column represents the targeted productivity (a number between 0 and 1) set by the Authority for each team for each day.\n",
        "\n",
        "- We will create a new column titled 'met_goal' for employee teams that met their target productivity goal\n",
        "\n",
        "- We will also drop the 'actual_productivity' column."
      ],
      "metadata": {
        "id": "5Z1x6PR7hzNy"
      }
    },
    {
      "cell_type": "code",
      "source": [
        "garm_prod['met_goal'] = garm_prod['actual_productivity'] >= garm_prod['targeted_productivity']\n",
        "garm_prod['met_goal'].replace({True: 'Yes', False: 'No'}, inplace=True)\n",
        "garm_prod['met_goal'].value_counts()"
      ],
      "metadata": {
        "colab": {
          "base_uri": "https://localhost:8080/"
        },
        "id": "JkPJXX7cm_jH",
        "outputId": "77226406-e365-4b14-d3b9-8b0d0908884d"
      },
      "execution_count": 372,
      "outputs": [
        {
          "output_type": "execute_result",
          "data": {
            "text/plain": [
              "Yes    838\n",
              "No     322\n",
              "Name: met_goal, dtype: int64"
            ]
          },
          "metadata": {},
          "execution_count": 372
        }
      ]
    },
    {
      "cell_type": "code",
      "source": [
        "ax = sns.countplot(data=garm_prod, x = 'day', hue = 'met_goal', order = order)\n",
        "ax.set_title('Number of teams that met productivity goals per week day')"
      ],
      "metadata": {
        "colab": {
          "base_uri": "https://localhost:8080/",
          "height": 313
        },
        "id": "LyiMHlqUovUg",
        "outputId": "ca85402c-9f92-4ca5-f107-66caf8a75326"
      },
      "execution_count": 373,
      "outputs": [
        {
          "output_type": "execute_result",
          "data": {
            "text/plain": [
              "Text(0.5, 1.0, 'Number of teams that met productivity goals per week day')"
            ]
          },
          "metadata": {},
          "execution_count": 373
        },
        {
          "output_type": "display_data",
          "data": {
            "text/plain": [
              "<Figure size 432x288 with 1 Axes>"
            ],
            "image/png": "[encoded data removed]"
          },
          "metadata": {
            "needs_background": "light"
          }
        }
      ]
    },
    {
      "cell_type": "code",
      "source": [
        "# Drop 'actual_productivity' column\n",
        "garm_prod.drop(columns=['actual_productivity'], inplace=True)\n",
        "garm_prod.head()"
      ],
      "metadata": {
        "colab": {
          "base_uri": "https://localhost:8080/",
          "height": 206
        },
        "id": "Y-Vsi2I9vk6K",
        "outputId": "0ad7d4d5-a246-428b-a6a6-7767761fbdd5"
      },
      "execution_count": 374,
      "outputs": [
        {
          "output_type": "execute_result",
          "data": {
            "text/plain": [
              "    quarter department       day  team  targeted_productivity    smv     wip  \\\n",
              "0  Quarter1     sweing  Thursday     8                   0.80  26.16  1108.0   \n",
              "1  Quarter1  finishing  Thursday     1                   0.75   3.94     NaN   \n",
              "2  Quarter1     sweing  Thursday    11                   0.80  11.41   968.0   \n",
              "3  Quarter1     sweing  Thursday    12                   0.80  11.41   968.0   \n",
              "4  Quarter1     sweing  Thursday     6                   0.80  25.90  1170.0   \n",
              "\n",
              "   over_time  incentive  idle_time  idle_men  no_of_style_change  \\\n",
              "0       7080         98        0.0         0                   0   \n",
              "1        960          0        0.0         0                   0   \n",
              "2       3660         50        0.0         0                   0   \n",
              "3       3660         50        0.0         0                   0   \n",
              "4       1920         50        0.0         0                   0   \n",
              "\n",
              "   no_of_workers month daynum met_goal  \n",
              "0           59.0     1      1      Yes  \n",
              "1            8.0     1      1      Yes  \n",
              "2           30.5     1      1      Yes  \n",
              "3           30.5     1      1      Yes  \n",
              "4           56.0     1      1      Yes  "
            ],
            "text/html": [
              "\n",
              "  <div id=\"df-36f1c70f-2b40-4a39-90fb-20575dd7490d\">\n",
              "    <div class=\"colab-df-container\">\n",
              "      <div>\n",
              "<style scoped>\n",
              "    .dataframe tbody tr th:only-of-type {\n",
              "        vertical-align: middle;\n",
              "    }\n",
              "\n",
              "    .dataframe tbody tr th {\n",
              "        vertical-align: top;\n",
              "    }\n",
              "\n",
              "    .dataframe thead th {\n",
              "        text-align: right;\n",
              "    }\n",
              "</style>\n",
              "<table border=\"1\" class=\"dataframe\">\n",
              "  <thead>\n",
              "    <tr style=\"text-align: right;\">\n",
              "      <th></th>\n",
              "      <th>quarter</th>\n",
              "      <th>department</th>\n",
              "      <th>day</th>\n",
              "      <th>team</th>\n",
              "      <th>targeted_productivity</th>\n",
              "      <th>smv</th>\n",
              "      <th>wip</th>\n",
              "      <th>over_time</th>\n",
              "      <th>incentive</th>\n",
              "      <th>idle_time</th>\n",
              "      <th>idle_men</th>\n",
              "      <th>no_of_style_change</th>\n",
              "      <th>no_of_workers</th>\n",
              "      <th>month</th>\n",
              "      <th>daynum</th>\n",
              "      <th>met_goal</th>\n",
              "    </tr>\n",
              "  </thead>\n",
              "  <tbody>\n",
              "    <tr>\n",
              "      <th>0</th>\n",
              "      <td>Quarter1</td>\n",
              "      <td>sweing</td>\n",
              "      <td>Thursday</td>\n",
              "      <td>8</td>\n",
              "      <td>0.80</td>\n",
              "      <td>26.16</td>\n",
              "      <td>1108.0</td>\n",
              "      <td>7080</td>\n",
              "      <td>98</td>\n",
              "      <td>0.0</td>\n",
              "      <td>0</td>\n",
              "      <td>0</td>\n",
              "      <td>59.0</td>\n",
              "      <td>1</td>\n",
              "      <td>1</td>\n",
              "      <td>Yes</td>\n",
              "    </tr>\n",
              "    <tr>\n",
              "      <th>1</th>\n",
              "      <td>Quarter1</td>\n",
              "      <td>finishing</td>\n",
              "      <td>Thursday</td>\n",
              "      <td>1</td>\n",
              "      <td>0.75</td>\n",
              "      <td>3.94</td>\n",
              "      <td>NaN</td>\n",
              "      <td>960</td>\n",
              "      <td>0</td>\n",
              "      <td>0.0</td>\n",
              "      <td>0</td>\n",
              "      <td>0</td>\n",
              "      <td>8.0</td>\n",
              "      <td>1</td>\n",
              "      <td>1</td>\n",
              "      <td>Yes</td>\n",
              "    </tr>\n",
              "    <tr>\n",
              "      <th>2</th>\n",
              "      <td>Quarter1</td>\n",
              "      <td>sweing</td>\n",
              "      <td>Thursday</td>\n",
              "      <td>11</td>\n",
              "      <td>0.80</td>\n",
              "      <td>11.41</td>\n",
              "      <td>968.0</td>\n",
              "      <td>3660</td>\n",
              "      <td>50</td>\n",
              "      <td>0.0</td>\n",
              "      <td>0</td>\n",
              "      <td>0</td>\n",
              "      <td>30.5</td>\n",
              "      <td>1</td>\n",
              "      <td>1</td>\n",
              "      <td>Yes</td>\n",
              "    </tr>\n",
              "    <tr>\n",
              "      <th>3</th>\n",
              "      <td>Quarter1</td>\n",
              "      <td>sweing</td>\n",
              "      <td>Thursday</td>\n",
              "      <td>12</td>\n",
              "      <td>0.80</td>\n",
              "      <td>11.41</td>\n",
              "      <td>968.0</td>\n",
              "      <td>3660</td>\n",
              "      <td>50</td>\n",
              "      <td>0.0</td>\n",
              "      <td>0</td>\n",
              "      <td>0</td>\n",
              "      <td>30.5</td>\n",
              "      <td>1</td>\n",
              "      <td>1</td>\n",
              "      <td>Yes</td>\n",
              "    </tr>\n",
              "    <tr>\n",
              "      <th>4</th>\n",
              "      <td>Quarter1</td>\n",
              "      <td>sweing</td>\n",
              "      <td>Thursday</td>\n",
              "      <td>6</td>\n",
              "      <td>0.80</td>\n",
              "      <td>25.90</td>\n",
              "      <td>1170.0</td>\n",
              "      <td>1920</td>\n",
              "      <td>50</td>\n",
              "      <td>0.0</td>\n",
              "      <td>0</td>\n",
              "      <td>0</td>\n",
              "      <td>56.0</td>\n",
              "      <td>1</td>\n",
              "      <td>1</td>\n",
              "      <td>Yes</td>\n",
              "    </tr>\n",
              "  </tbody>\n",
              "</table>\n",
              "</div>\n",
              "      <button class=\"colab-df-convert\" onclick=\"convertToInteractive('df-36f1c70f-2b40-4a39-90fb-20575dd7490d')\"\n",
              "              title=\"Convert this dataframe to an interactive table.\"\n",
              "              style=\"display:none;\">\n",
              "        \n",
              "  <svg xmlns=\"http://www.w3.org/2000/svg\" height=\"24px\"viewBox=\"0 0 24 24\"\n",
              "       width=\"24px\">\n",
              "    <path d=\"M0 0h24v24H0V0z\" fill=\"none\"/>\n",
              "    <path d=\"M18.56 5.44l.94 2.06.94-2.06 2.06-.94-2.06-.94-.94-2.06-.94 2.06-2.06.94zm-11 1L8.5 8.5l.94-2.06 2.06-.94-2.06-.94L8.5 2.5l-.94 2.06-2.06.94zm10 10l.94 2.06.94-2.06 2.06-.94-2.06-.94-.94-2.06-.94 2.06-2.06.94z\"/><path d=\"M17.41 7.96l-1.37-1.37c-.4-.4-.92-.59-1.43-.59-.52 0-1.04.2-1.43.59L10.3 9.45l-7.72 7.72c-.78.78-.78 2.05 0 2.83L4 21.41c.39.39.9.59 1.41.59.51 0 1.02-.2 1.41-.59l7.78-7.78 2.81-2.81c.8-.78.8-2.07 0-2.86zM5.41 20L4 18.59l7.72-7.72 1.47 1.35L5.41 20z\"/>\n",
              "  </svg>\n",
              "      </button>\n",
              "      \n",
              "  <style>\n",
              "    .colab-df-container {\n",
              "      display:flex;\n",
              "      flex-wrap:wrap;\n",
              "      gap: 12px;\n",
              "    }\n",
              "\n",
              "    .colab-df-convert {\n",
              "      background-color: #E8F0FE;\n",
              "      border: none;\n",
              "      border-radius: 50%;\n",
              "      cursor: pointer;\n",
              "      display: none;\n",
              "      fill: #1967D2;\n",
              "      height: 32px;\n",
              "      padding: 0 0 0 0;\n",
              "      width: 32px;\n",
              "    }\n",
              "\n",
              "    .colab-df-convert:hover {\n",
              "      background-color: #E2EBFA;\n",
              "      box-shadow: 0px 1px 2px rgba(60, 64, 67, 0.3), 0px 1px 3px 1px rgba(60, 64, 67, 0.15);\n",
              "      fill: #174EA6;\n",
              "    }\n",
              "\n",
              "    [theme=dark] .colab-df-convert {\n",
              "      background-color: #3B4455;\n",
              "      fill: #D2E3FC;\n",
              "    }\n",
              "\n",
              "    [theme=dark] .colab-df-convert:hover {\n",
              "      background-color: #434B5C;\n",
              "      box-shadow: 0px 1px 3px 1px rgba(0, 0, 0, 0.15);\n",
              "      filter: drop-shadow(0px 1px 2px rgba(0, 0, 0, 0.3));\n",
              "      fill: #FFFFFF;\n",
              "    }\n",
              "  </style>\n",
              "\n",
              "      <script>\n",
              "        const buttonEl =\n",
              "          document.querySelector('#df-36f1c70f-2b40-4a39-90fb-20575dd7490d button.colab-df-convert');\n",
              "        buttonEl.style.display =\n",
              "          google.colab.kernel.accessAllowed ? 'block' : 'none';\n",
              "\n",
              "        async function convertToInteractive(key) {\n",
              "          const element = document.querySelector('#df-36f1c70f-2b40-4a39-90fb-20575dd7490d');\n",
              "          const dataTable =\n",
              "            await google.colab.kernel.invokeFunction('convertToInteractive',\n",
              "                                                     [key], {});\n",
              "          if (!dataTable) return;\n",
              "\n",
              "          const docLinkHtml = 'Like what you see? Visit the ' +\n",
              "            '<a target=\"_blank\" href=https://colab.research.google.com/notebooks/data_table.ipynb>data table notebook</a>'\n",
              "            + ' to learn more about interactive tables.';\n",
              "          element.innerHTML = '';\n",
              "          dataTable['output_type'] = 'display_data';\n",
              "          await google.colab.output.renderOutput(dataTable, element);\n",
              "          const docLink = document.createElement('div');\n",
              "          docLink.innerHTML = docLinkHtml;\n",
              "          element.appendChild(docLink);\n",
              "        }\n",
              "      </script>\n",
              "    </div>\n",
              "  </div>\n",
              "  "
            ]
          },
          "metadata": {},
          "execution_count": 374
        }
      ]
    },
    {
      "cell_type": "markdown",
      "source": [
        "- As seen in the table above, the 'actual productivity' column has been dropped and a new column titled 'met_goal' has been created"
      ],
      "metadata": {
        "id": "vwPWFDCDvyRi"
      }
    },
    {
      "cell_type": "markdown",
      "source": [
        "## 8) Correlation heatmap of the 'garm_prod' dataframe"
      ],
      "metadata": {
        "id": "yfzHuBEjmTaL"
      }
    },
    {
      "cell_type": "code",
      "source": [
        "# Heat map of the 'garm_prod' dataframe\n",
        "corr = garm_prod.corr()\n",
        "plt.figure(figsize=(15,8))\n",
        "sns.heatmap(corr, cmap='Blues', annot=True);"
      ],
      "metadata": {
        "id": "W3A_y-Kdlga5",
        "colab": {
          "base_uri": "https://localhost:8080/",
          "height": 584
        },
        "outputId": "5b996463-edaf-4567-b939-c01750c5ae6d"
      },
      "execution_count": 375,
      "outputs": [
        {
          "output_type": "display_data",
          "data": {
            "text/plain": [
              "<Figure size 1080x576 with 2 Axes>"
            ],
            "image/png": "[encoded data removed]"
          },
          "metadata": {
            "needs_background": "light"
          }
        }
      ]
    },
    {
      "cell_type": "markdown",
      "source": [
        "- Low positive correlation coefficients are roughly between 0.3 and 0.5. Low negative correlation coefficients are roughly between -0.3 and -0.5.\n",
        "\n",
        "- Moderate positive correlation coefficients are between 0.5 and 0.7. Moderate negative correlation coefficients are roughly between -0.5 and -0.7.\n",
        "\n",
        "- Strong correlation coefficients are between 0.7 and 1. Strong negative correlation coefficients are between -0.7 and -1.\n",
        "\n",
        "- In general, the closer the correlation coefficient is to 0, the weaker the correlation.\n",
        "\n",
        "- The following are the moderate and strong correlations in the data:\n",
        "\n",
        "**Moderate positive Correlations:**\n",
        "\n",
        "- 'smv' and 'over_time': Correlation Coefficient is 0.68  \n",
        "\n",
        "- 'over_time' and 'no_of_workers': Correlation Coefficient is 0.74\n",
        "\n",
        "- 'idle_time' and 'idle_men': Correlation Coefficient is 0.56\n",
        "\n",
        "**Strong positive Correlations:**\n",
        "\n",
        "- 'smv' and 'no_of_workers': Correlation Coefficient is 0.91\n",
        "\n",
        "There are no moderate or strong negative correlations\n"
      ],
      "metadata": {
        "id": "mPY6ooFQnVnC"
      }
    },
    {
      "cell_type": "markdown",
      "source": [
        "## 9) Identify features as numerical, ordinal, or nominal based on updates to the dataset."
      ],
      "metadata": {
        "id": "aN0clgkoqoE2"
      }
    },
    {
      "cell_type": "code",
      "source": [
        "garm_prod.info()"
      ],
      "metadata": {
        "id": "58zDpasdAuTQ",
        "colab": {
          "base_uri": "https://localhost:8080/"
        },
        "outputId": "fac362c3-6877-457d-bfd8-288c55aa42aa"
      },
      "execution_count": 376,
      "outputs": [
        {
          "output_type": "stream",
          "name": "stdout",
          "text": [
            "<class 'pandas.core.frame.DataFrame'>\n",
            "Int64Index: 1160 entries, 0 to 1196\n",
            "Data columns (total 16 columns):\n",
            " #   Column                 Non-Null Count  Dtype  \n",
            "---  ------                 --------------  -----  \n",
            " 0   quarter                1160 non-null   object \n",
            " 1   department             1160 non-null   object \n",
            " 2   day                    1160 non-null   object \n",
            " 3   team                   1160 non-null   int64  \n",
            " 4   targeted_productivity  1160 non-null   float64\n",
            " 5   smv                    1160 non-null   float64\n",
            " 6   wip                    666 non-null    float64\n",
            " 7   over_time              1160 non-null   int64  \n",
            " 8   incentive              1160 non-null   int64  \n",
            " 9   idle_time              1160 non-null   float64\n",
            " 10  idle_men               1160 non-null   int64  \n",
            " 11  no_of_style_change     1160 non-null   int64  \n",
            " 12  no_of_workers          1160 non-null   float64\n",
            " 13  month                  1160 non-null   object \n",
            " 14  daynum                 1160 non-null   object \n",
            " 15  met_goal               1160 non-null   object \n",
            "dtypes: float64(5), int64(5), object(6)\n",
            "memory usage: 186.4+ KB\n"
          ]
        }
      ]
    },
    {
      "cell_type": "markdown",
      "source": [
        "**Numerical features:** 'team', 'targeted_productivity', 'smv', 'wip', 'over_time', 'incentive', 'idle_time', 'idle_men', 'no_of_style_change', 'no_of_workers'\n",
        "\n",
        "**Nominal features:** 'quarter', 'department', 'day', 'month', 'daynum.'\n",
        "\n",
        "**Ordinal features:** There are no ordinal features"
      ],
      "metadata": {
        "id": "g1EoDO5WreZE"
      }
    },
    {
      "cell_type": "markdown",
      "source": [
        "## 10) Convert the string names of the target ('met_goal' column) classes to numeric values"
      ],
      "metadata": {
        "id": "zsy2DfoHsEfZ"
      }
    },
    {
      "cell_type": "code",
      "source": [
        "garm_prod['met_goal'] = garm_prod['met_goal'].replace({'No': 0, 'Yes': 1})"
      ],
      "metadata": {
        "id": "b8Bf_F-EsUtE"
      },
      "execution_count": 377,
      "outputs": []
    },
    {
      "cell_type": "markdown",
      "source": [
        "## 11) Check target (met_goal) class balance"
      ],
      "metadata": {
        "id": "cynknHdSyX9b"
      }
    },
    {
      "cell_type": "code",
      "source": [
        "# Check class balance numbers\n",
        "garm_prod['met_goal'].value_counts()"
      ],
      "metadata": {
        "colab": {
          "base_uri": "https://localhost:8080/"
        },
        "id": "aBFfF39Ux-ov",
        "outputId": "6f1d9e68-2776-4a94-e2ba-fd1abe8dae93"
      },
      "execution_count": 378,
      "outputs": [
        {
          "output_type": "execute_result",
          "data": {
            "text/plain": [
              "1    838\n",
              "0    322\n",
              "Name: met_goal, dtype: int64"
            ]
          },
          "metadata": {},
          "execution_count": 378
        }
      ]
    },
    {
      "cell_type": "code",
      "source": [
        "# Check class balance percentages\n",
        "garm_prod['met_goal'].value_counts(normalize=True)"
      ],
      "metadata": {
        "colab": {
          "base_uri": "https://localhost:8080/"
        },
        "id": "quIMIllwyOCn",
        "outputId": "967c42b9-cc11-4689-c072-68673a012103"
      },
      "execution_count": 379,
      "outputs": [
        {
          "output_type": "execute_result",
          "data": {
            "text/plain": [
              "1    0.722414\n",
              "0    0.277586\n",
              "Name: met_goal, dtype: float64"
            ]
          },
          "metadata": {},
          "execution_count": 379
        }
      ]
    },
    {
      "cell_type": "markdown",
      "source": [
        "## 12) Validation Split"
      ],
      "metadata": {
        "id": "JmhSXOkPEbF9"
      }
    },
    {
      "cell_type": "code",
      "source": [
        "X = garm_prod.drop(columns=['met_goal'])\n",
        "y = garm_prod['met_goal']\n",
        "X_train, X_test, y_train, y_test = train_test_split(X, y, random_state = 42)"
      ],
      "metadata": {
        "id": "gWnY7PqdmnWB"
      },
      "execution_count": 381,
      "outputs": []
    },
    {
      "cell_type": "markdown",
      "source": [
        "## 13) Instantiate Column Selectors"
      ],
      "metadata": {
        "id": "R7vgiPaDHG68"
      }
    },
    {
      "cell_type": "code",
      "source": [
        "cat_selector = make_column_selector(dtype_include='object')\n",
        "num_selector = make_column_selector(dtype_include='number')"
      ],
      "metadata": {
        "id": "y55CbnkiG_b5"
      },
      "execution_count": 382,
      "outputs": []
    },
    {
      "cell_type": "markdown",
      "source": [
        "## 14) Instantiate Transformers.\n",
        "\n",
        "We will be using 3 different transformers: SimpleImputer, StandardScaler, and OneHotEncoder. There will be one SimpleImputer with one imputation strategy: ‘median’ strategy for numeric columns. There is no categorical feature with missing value, so we won't need to use SimpleImputer for categorical columns. We will one-hot encode the nominal categorical features as well."
      ],
      "metadata": {
        "id": "AzJMJY-AIEPa"
      }
    },
    {
      "cell_type": "code",
      "source": [
        "# Imputers\n",
        "median_imputer = SimpleImputer(strategy='median')\n",
        "# Scaler\n",
        "scaler = StandardScaler()\n",
        "# One-hot encoder\n",
        "ohe = OneHotEncoder(handle_unknown='ignore', sparse=False)"
      ],
      "metadata": {
        "id": "1CZKRsLYHbp1"
      },
      "execution_count": 383,
      "outputs": []
    },
    {
      "cell_type": "markdown",
      "source": [
        "## 15) Instantiate Pipelines\n",
        "\n",
        "We will be using ONE pipeline for numeric data."
      ],
      "metadata": {
        "id": "4y2ZIstRIzg-"
      }
    },
    {
      "cell_type": "code",
      "source": [
        "# Numeric pipeline\n",
        "numeric_pipe = make_pipeline(median_imputer, scaler)\n",
        "numeric_pipe"
      ],
      "metadata": {
        "id": "fHp3zf03Itip",
        "colab": {
          "base_uri": "https://localhost:8080/",
          "height": 126
        },
        "outputId": "6a53a97a-773e-48d5-b11b-4eea70c059a4"
      },
      "execution_count": 384,
      "outputs": [
        {
          "output_type": "execute_result",
          "data": {
            "text/plain": [
              "Pipeline(steps=[('simpleimputer', SimpleImputer(strategy='median')),\n",
              "                ('standardscaler', StandardScaler())])"
            ],
            "text/html": [
              "<style>#sk-4c193c26-f654-450d-9552-bb4df5ec0c19 {color: black;background-color: white;}#sk-4c193c26-f654-450d-9552-bb4df5ec0c19 pre{padding: 0;}#sk-4c193c26-f654-450d-9552-bb4df5ec0c19 div.sk-toggleable {background-color: white;}#sk-4c193c26-f654-450d-9552-bb4df5ec0c19 label.sk-toggleable__label {cursor: pointer;display: block;width: 100%;margin-bottom: 0;padding: 0.3em;box-sizing: border-box;text-align: center;}#sk-4c193c26-f654-450d-9552-bb4df5ec0c19 label.sk-toggleable__label-arrow:before {content: \"▸\";float: left;margin-right: 0.25em;color: #696969;}#sk-4c193c26-f654-450d-9552-bb4df5ec0c19 label.sk-toggleable__label-arrow:hover:before {color: black;}#sk-4c193c26-f654-450d-9552-bb4df5ec0c19 div.sk-estimator:hover label.sk-toggleable__label-arrow:before {color: black;}#sk-4c193c26-f654-450d-9552-bb4df5ec0c19 div.sk-toggleable__content {max-height: 0;max-width: 0;overflow: hidden;text-align: left;background-color: #f0f8ff;}#sk-4c193c26-f654-450d-9552-bb4df5ec0c19 div.sk-toggleable__content pre {margin: 0.2em;color: black;border-radius: 0.25em;background-color: #f0f8ff;}#sk-4c193c26-f654-450d-9552-bb4df5ec0c19 input.sk-toggleable__control:checked~div.sk-toggleable__content {max-height: 200px;max-width: 100%;overflow: auto;}#sk-4c193c26-f654-450d-9552-bb4df5ec0c19 input.sk-toggleable__control:checked~label.sk-toggleable__label-arrow:before {content: \"▾\";}#sk-4c193c26-f654-450d-9552-bb4df5ec0c19 div.sk-estimator input.sk-toggleable__control:checked~label.sk-toggleable__label {background-color: #d4ebff;}#sk-4c193c26-f654-450d-9552-bb4df5ec0c19 div.sk-label input.sk-toggleable__control:checked~label.sk-toggleable__label {background-color: #d4ebff;}#sk-4c193c26-f654-450d-9552-bb4df5ec0c19 input.sk-hidden--visually {border: 0;clip: rect(1px 1px 1px 1px);clip: rect(1px, 1px, 1px, 1px);height: 1px;margin: -1px;overflow: hidden;padding: 0;position: absolute;width: 1px;}#sk-4c193c26-f654-450d-9552-bb4df5ec0c19 div.sk-estimator {font-family: monospace;background-color: #f0f8ff;border: 1px dotted black;border-radius: 0.25em;box-sizing: border-box;margin-bottom: 0.5em;}#sk-4c193c26-f654-450d-9552-bb4df5ec0c19 div.sk-estimator:hover {background-color: #d4ebff;}#sk-4c193c26-f654-450d-9552-bb4df5ec0c19 div.sk-parallel-item::after {content: \"\";width: 100%;border-bottom: 1px solid gray;flex-grow: 1;}#sk-4c193c26-f654-450d-9552-bb4df5ec0c19 div.sk-label:hover label.sk-toggleable__label {background-color: #d4ebff;}#sk-4c193c26-f654-450d-9552-bb4df5ec0c19 div.sk-serial::before {content: \"\";position: absolute;border-left: 1px solid gray;box-sizing: border-box;top: 2em;bottom: 0;left: 50%;}#sk-4c193c26-f654-450d-9552-bb4df5ec0c19 div.sk-serial {display: flex;flex-direction: column;align-items: center;background-color: white;padding-right: 0.2em;padding-left: 0.2em;}#sk-4c193c26-f654-450d-9552-bb4df5ec0c19 div.sk-item {z-index: 1;}#sk-4c193c26-f654-450d-9552-bb4df5ec0c19 div.sk-parallel {display: flex;align-items: stretch;justify-content: center;background-color: white;}#sk-4c193c26-f654-450d-9552-bb4df5ec0c19 div.sk-parallel::before {content: \"\";position: absolute;border-left: 1px solid gray;box-sizing: border-box;top: 2em;bottom: 0;left: 50%;}#sk-4c193c26-f654-450d-9552-bb4df5ec0c19 div.sk-parallel-item {display: flex;flex-direction: column;position: relative;background-color: white;}#sk-4c193c26-f654-450d-9552-bb4df5ec0c19 div.sk-parallel-item:first-child::after {align-self: flex-end;width: 50%;}#sk-4c193c26-f654-450d-9552-bb4df5ec0c19 div.sk-parallel-item:last-child::after {align-self: flex-start;width: 50%;}#sk-4c193c26-f654-450d-9552-bb4df5ec0c19 div.sk-parallel-item:only-child::after {width: 0;}#sk-4c193c26-f654-450d-9552-bb4df5ec0c19 div.sk-dashed-wrapped {border: 1px dashed gray;margin: 0 0.4em 0.5em 0.4em;box-sizing: border-box;padding-bottom: 0.4em;background-color: white;position: relative;}#sk-4c193c26-f654-450d-9552-bb4df5ec0c19 div.sk-label label {font-family: monospace;font-weight: bold;background-color: white;display: inline-block;line-height: 1.2em;}#sk-4c193c26-f654-450d-9552-bb4df5ec0c19 div.sk-label-container {position: relative;z-index: 2;text-align: center;}#sk-4c193c26-f654-450d-9552-bb4df5ec0c19 div.sk-container {/* jupyter's `normalize.less` sets `[hidden] { display: none; }` but bootstrap.min.css set `[hidden] { display: none !important; }` so we also need the `!important` here to be able to override the default hidden behavior on the sphinx rendered scikit-learn.org. See: https://github.com/scikit-learn/scikit-learn/issues/21755 */display: inline-block !important;position: relative;}#sk-4c193c26-f654-450d-9552-bb4df5ec0c19 div.sk-text-repr-fallback {display: none;}</style><div id=\"sk-4c193c26-f654-450d-9552-bb4df5ec0c19\" class=\"sk-top-container\"><div class=\"sk-text-repr-fallback\"><pre>Pipeline(steps=[(&#x27;simpleimputer&#x27;, SimpleImputer(strategy=&#x27;median&#x27;)),\n",
              "                (&#x27;standardscaler&#x27;, StandardScaler())])</pre><b>Please rerun this cell to show the HTML repr or trust the notebook.</b></div><div class=\"sk-container\" hidden><div class=\"sk-item sk-dashed-wrapped\"><div class=\"sk-label-container\"><div class=\"sk-label sk-toggleable\"><input class=\"sk-toggleable__control sk-hidden--visually\" id=\"e4cffe0a-85a0-4f6a-8288-e1a5be4d0628\" type=\"checkbox\" ><label for=\"e4cffe0a-85a0-4f6a-8288-e1a5be4d0628\" class=\"sk-toggleable__label sk-toggleable__label-arrow\">Pipeline</label><div class=\"sk-toggleable__content\"><pre>Pipeline(steps=[(&#x27;simpleimputer&#x27;, SimpleImputer(strategy=&#x27;median&#x27;)),\n",
              "                (&#x27;standardscaler&#x27;, StandardScaler())])</pre></div></div></div><div class=\"sk-serial\"><div class=\"sk-item\"><div class=\"sk-estimator sk-toggleable\"><input class=\"sk-toggleable__control sk-hidden--visually\" id=\"315643a0-ba3d-4223-b83c-ab032524dcca\" type=\"checkbox\" ><label for=\"315643a0-ba3d-4223-b83c-ab032524dcca\" class=\"sk-toggleable__label sk-toggleable__label-arrow\">SimpleImputer</label><div class=\"sk-toggleable__content\"><pre>SimpleImputer(strategy=&#x27;median&#x27;)</pre></div></div></div><div class=\"sk-item\"><div class=\"sk-estimator sk-toggleable\"><input class=\"sk-toggleable__control sk-hidden--visually\" id=\"e764dd76-9fe2-4fda-842d-c6e8c0d89c97\" type=\"checkbox\" ><label for=\"e764dd76-9fe2-4fda-842d-c6e8c0d89c97\" class=\"sk-toggleable__label sk-toggleable__label-arrow\">StandardScaler</label><div class=\"sk-toggleable__content\"><pre>StandardScaler()</pre></div></div></div></div></div></div></div>"
            ]
          },
          "metadata": {},
          "execution_count": 384
        }
      ]
    },
    {
      "cell_type": "markdown",
      "source": [
        "## 16) Instantiate ColumnTransformer"
      ],
      "metadata": {
        "id": "o3GyvTs2JD0k"
      }
    },
    {
      "cell_type": "code",
      "source": [
        "# Tuples for Column Transformer\n",
        "number_tuple = (numeric_pipe, num_selector)\n",
        "category_tuple = (ohe, cat_selector)\n",
        "# ColumnTransformer\n",
        "preprocessor = make_column_transformer(number_tuple, category_tuple, remainder='passthrough')\n",
        "preprocessor"
      ],
      "metadata": {
        "id": "O2CPaMx2I3oC",
        "colab": {
          "base_uri": "https://localhost:8080/",
          "height": 153
        },
        "outputId": "4e86815c-6ecd-4e29-d51a-50518eb170e9"
      },
      "execution_count": 385,
      "outputs": [
        {
          "output_type": "execute_result",
          "data": {
            "text/plain": [
              "ColumnTransformer(remainder='passthrough',\n",
              "                  transformers=[('pipeline',\n",
              "                                 Pipeline(steps=[('simpleimputer',\n",
              "                                                  SimpleImputer(strategy='median')),\n",
              "                                                 ('standardscaler',\n",
              "                                                  StandardScaler())]),\n",
              "                                 <sklearn.compose._column_transformer.make_column_selector object at 0x7fa4004217d0>),\n",
              "                                ('onehotencoder',\n",
              "                                 OneHotEncoder(handle_unknown='ignore',\n",
              "                                               sparse=False),\n",
              "                                 <sklearn.compose._column_transformer.make_column_selector object at 0x7fa400421590>)])"
            ],
            "text/html": [
              "<style>#sk-2a39865e-6f64-4ade-a842-a229a529b2a1 {color: black;background-color: white;}#sk-2a39865e-6f64-4ade-a842-a229a529b2a1 pre{padding: 0;}#sk-2a39865e-6f64-4ade-a842-a229a529b2a1 div.sk-toggleable {background-color: white;}#sk-2a39865e-6f64-4ade-a842-a229a529b2a1 label.sk-toggleable__label {cursor: pointer;display: block;width: 100%;margin-bottom: 0;padding: 0.3em;box-sizing: border-box;text-align: center;}#sk-2a39865e-6f64-4ade-a842-a229a529b2a1 label.sk-toggleable__label-arrow:before {content: \"▸\";float: left;margin-right: 0.25em;color: #696969;}#sk-2a39865e-6f64-4ade-a842-a229a529b2a1 label.sk-toggleable__label-arrow:hover:before {color: black;}#sk-2a39865e-6f64-4ade-a842-a229a529b2a1 div.sk-estimator:hover label.sk-toggleable__label-arrow:before {color: black;}#sk-2a39865e-6f64-4ade-a842-a229a529b2a1 div.sk-toggleable__content {max-height: 0;max-width: 0;overflow: hidden;text-align: left;background-color: #f0f8ff;}#sk-2a39865e-6f64-4ade-a842-a229a529b2a1 div.sk-toggleable__content pre {margin: 0.2em;color: black;border-radius: 0.25em;background-color: #f0f8ff;}#sk-2a39865e-6f64-4ade-a842-a229a529b2a1 input.sk-toggleable__control:checked~div.sk-toggleable__content {max-height: 200px;max-width: 100%;overflow: auto;}#sk-2a39865e-6f64-4ade-a842-a229a529b2a1 input.sk-toggleable__control:checked~label.sk-toggleable__label-arrow:before {content: \"▾\";}#sk-2a39865e-6f64-4ade-a842-a229a529b2a1 div.sk-estimator input.sk-toggleable__control:checked~label.sk-toggleable__label {background-color: #d4ebff;}#sk-2a39865e-6f64-4ade-a842-a229a529b2a1 div.sk-label input.sk-toggleable__control:checked~label.sk-toggleable__label {background-color: #d4ebff;}#sk-2a39865e-6f64-4ade-a842-a229a529b2a1 input.sk-hidden--visually {border: 0;clip: rect(1px 1px 1px 1px);clip: rect(1px, 1px, 1px, 1px);height: 1px;margin: -1px;overflow: hidden;padding: 0;position: absolute;width: 1px;}#sk-2a39865e-6f64-4ade-a842-a229a529b2a1 div.sk-estimator {font-family: monospace;background-color: #f0f8ff;border: 1px dotted black;border-radius: 0.25em;box-sizing: border-box;margin-bottom: 0.5em;}#sk-2a39865e-6f64-4ade-a842-a229a529b2a1 div.sk-estimator:hover {background-color: #d4ebff;}#sk-2a39865e-6f64-4ade-a842-a229a529b2a1 div.sk-parallel-item::after {content: \"\";width: 100%;border-bottom: 1px solid gray;flex-grow: 1;}#sk-2a39865e-6f64-4ade-a842-a229a529b2a1 div.sk-label:hover label.sk-toggleable__label {background-color: #d4ebff;}#sk-2a39865e-6f64-4ade-a842-a229a529b2a1 div.sk-serial::before {content: \"\";position: absolute;border-left: 1px solid gray;box-sizing: border-box;top: 2em;bottom: 0;left: 50%;}#sk-2a39865e-6f64-4ade-a842-a229a529b2a1 div.sk-serial {display: flex;flex-direction: column;align-items: center;background-color: white;padding-right: 0.2em;padding-left: 0.2em;}#sk-2a39865e-6f64-4ade-a842-a229a529b2a1 div.sk-item {z-index: 1;}#sk-2a39865e-6f64-4ade-a842-a229a529b2a1 div.sk-parallel {display: flex;align-items: stretch;justify-content: center;background-color: white;}#sk-2a39865e-6f64-4ade-a842-a229a529b2a1 div.sk-parallel::before {content: \"\";position: absolute;border-left: 1px solid gray;box-sizing: border-box;top: 2em;bottom: 0;left: 50%;}#sk-2a39865e-6f64-4ade-a842-a229a529b2a1 div.sk-parallel-item {display: flex;flex-direction: column;position: relative;background-color: white;}#sk-2a39865e-6f64-4ade-a842-a229a529b2a1 div.sk-parallel-item:first-child::after {align-self: flex-end;width: 50%;}#sk-2a39865e-6f64-4ade-a842-a229a529b2a1 div.sk-parallel-item:last-child::after {align-self: flex-start;width: 50%;}#sk-2a39865e-6f64-4ade-a842-a229a529b2a1 div.sk-parallel-item:only-child::after {width: 0;}#sk-2a39865e-6f64-4ade-a842-a229a529b2a1 div.sk-dashed-wrapped {border: 1px dashed gray;margin: 0 0.4em 0.5em 0.4em;box-sizing: border-box;padding-bottom: 0.4em;background-color: white;position: relative;}#sk-2a39865e-6f64-4ade-a842-a229a529b2a1 div.sk-label label {font-family: monospace;font-weight: bold;background-color: white;display: inline-block;line-height: 1.2em;}#sk-2a39865e-6f64-4ade-a842-a229a529b2a1 div.sk-label-container {position: relative;z-index: 2;text-align: center;}#sk-2a39865e-6f64-4ade-a842-a229a529b2a1 div.sk-container {/* jupyter's `normalize.less` sets `[hidden] { display: none; }` but bootstrap.min.css set `[hidden] { display: none !important; }` so we also need the `!important` here to be able to override the default hidden behavior on the sphinx rendered scikit-learn.org. See: https://github.com/scikit-learn/scikit-learn/issues/21755 */display: inline-block !important;position: relative;}#sk-2a39865e-6f64-4ade-a842-a229a529b2a1 div.sk-text-repr-fallback {display: none;}</style><div id=\"sk-2a39865e-6f64-4ade-a842-a229a529b2a1\" class=\"sk-top-container\"><div class=\"sk-text-repr-fallback\"><pre>ColumnTransformer(remainder=&#x27;passthrough&#x27;,\n",
              "                  transformers=[(&#x27;pipeline&#x27;,\n",
              "                                 Pipeline(steps=[(&#x27;simpleimputer&#x27;,\n",
              "                                                  SimpleImputer(strategy=&#x27;median&#x27;)),\n",
              "                                                 (&#x27;standardscaler&#x27;,\n",
              "                                                  StandardScaler())]),\n",
              "                                 &lt;sklearn.compose._column_transformer.make_column_selector object at 0x7fa4004217d0&gt;),\n",
              "                                (&#x27;onehotencoder&#x27;,\n",
              "                                 OneHotEncoder(handle_unknown=&#x27;ignore&#x27;,\n",
              "                                               sparse=False),\n",
              "                                 &lt;sklearn.compose._column_transformer.make_column_selector object at 0x7fa400421590&gt;)])</pre><b>Please rerun this cell to show the HTML repr or trust the notebook.</b></div><div class=\"sk-container\" hidden><div class=\"sk-item sk-dashed-wrapped\"><div class=\"sk-label-container\"><div class=\"sk-label sk-toggleable\"><input class=\"sk-toggleable__control sk-hidden--visually\" id=\"b2355ee2-10b3-4169-8a6d-b2bb856478f2\" type=\"checkbox\" ><label for=\"b2355ee2-10b3-4169-8a6d-b2bb856478f2\" class=\"sk-toggleable__label sk-toggleable__label-arrow\">ColumnTransformer</label><div class=\"sk-toggleable__content\"><pre>ColumnTransformer(remainder=&#x27;passthrough&#x27;,\n",
              "                  transformers=[(&#x27;pipeline&#x27;,\n",
              "                                 Pipeline(steps=[(&#x27;simpleimputer&#x27;,\n",
              "                                                  SimpleImputer(strategy=&#x27;median&#x27;)),\n",
              "                                                 (&#x27;standardscaler&#x27;,\n",
              "                                                  StandardScaler())]),\n",
              "                                 &lt;sklearn.compose._column_transformer.make_column_selector object at 0x7fa4004217d0&gt;),\n",
              "                                (&#x27;onehotencoder&#x27;,\n",
              "                                 OneHotEncoder(handle_unknown=&#x27;ignore&#x27;,\n",
              "                                               sparse=False),\n",
              "                                 &lt;sklearn.compose._column_transformer.make_column_selector object at 0x7fa400421590&gt;)])</pre></div></div></div><div class=\"sk-parallel\"><div class=\"sk-parallel-item\"><div class=\"sk-item\"><div class=\"sk-label-container\"><div class=\"sk-label sk-toggleable\"><input class=\"sk-toggleable__control sk-hidden--visually\" id=\"a8008322-c7c6-4468-990a-d60ba5d442c2\" type=\"checkbox\" ><label for=\"a8008322-c7c6-4468-990a-d60ba5d442c2\" class=\"sk-toggleable__label sk-toggleable__label-arrow\">pipeline</label><div class=\"sk-toggleable__content\"><pre>&lt;sklearn.compose._column_transformer.make_column_selector object at 0x7fa4004217d0&gt;</pre></div></div></div><div class=\"sk-serial\"><div class=\"sk-item\"><div class=\"sk-serial\"><div class=\"sk-item\"><div class=\"sk-estimator sk-toggleable\"><input class=\"sk-toggleable__control sk-hidden--visually\" id=\"54ae686e-2149-4926-8abb-00c30e7e53c6\" type=\"checkbox\" ><label for=\"54ae686e-2149-4926-8abb-00c30e7e53c6\" class=\"sk-toggleable__label sk-toggleable__label-arrow\">SimpleImputer</label><div class=\"sk-toggleable__content\"><pre>SimpleImputer(strategy=&#x27;median&#x27;)</pre></div></div></div><div class=\"sk-item\"><div class=\"sk-estimator sk-toggleable\"><input class=\"sk-toggleable__control sk-hidden--visually\" id=\"ac83d393-80e3-4134-84c0-4dc4d69013d5\" type=\"checkbox\" ><label for=\"ac83d393-80e3-4134-84c0-4dc4d69013d5\" class=\"sk-toggleable__label sk-toggleable__label-arrow\">StandardScaler</label><div class=\"sk-toggleable__content\"><pre>StandardScaler()</pre></div></div></div></div></div></div></div></div><div class=\"sk-parallel-item\"><div class=\"sk-item\"><div class=\"sk-label-container\"><div class=\"sk-label sk-toggleable\"><input class=\"sk-toggleable__control sk-hidden--visually\" id=\"96114bde-8ff3-48e9-b5a0-5688995a5d17\" type=\"checkbox\" ><label for=\"96114bde-8ff3-48e9-b5a0-5688995a5d17\" class=\"sk-toggleable__label sk-toggleable__label-arrow\">onehotencoder</label><div class=\"sk-toggleable__content\"><pre>&lt;sklearn.compose._column_transformer.make_column_selector object at 0x7fa400421590&gt;</pre></div></div></div><div class=\"sk-serial\"><div class=\"sk-item\"><div class=\"sk-estimator sk-toggleable\"><input class=\"sk-toggleable__control sk-hidden--visually\" id=\"55693a69-3ae7-480a-bb74-d39add4cbc7e\" type=\"checkbox\" ><label for=\"55693a69-3ae7-480a-bb74-d39add4cbc7e\" class=\"sk-toggleable__label sk-toggleable__label-arrow\">OneHotEncoder</label><div class=\"sk-toggleable__content\"><pre>OneHotEncoder(handle_unknown=&#x27;ignore&#x27;, sparse=False)</pre></div></div></div></div></div></div><div class=\"sk-parallel-item\"><div class=\"sk-item\"><div class=\"sk-label-container\"><div class=\"sk-label sk-toggleable\"><input class=\"sk-toggleable__control sk-hidden--visually\" id=\"98bef325-cb4f-443f-902f-49f8201682cb\" type=\"checkbox\" ><label for=\"98bef325-cb4f-443f-902f-49f8201682cb\" class=\"sk-toggleable__label sk-toggleable__label-arrow\">remainder</label><div class=\"sk-toggleable__content\"><pre></pre></div></div></div><div class=\"sk-serial\"><div class=\"sk-item\"><div class=\"sk-estimator sk-toggleable\"><input class=\"sk-toggleable__control sk-hidden--visually\" id=\"d3144656-d583-4007-9f5e-b68d891475ea\" type=\"checkbox\" ><label for=\"d3144656-d583-4007-9f5e-b68d891475ea\" class=\"sk-toggleable__label sk-toggleable__label-arrow\">passthrough</label><div class=\"sk-toggleable__content\"><pre>passthrough</pre></div></div></div></div></div></div></div></div></div></div>"
            ]
          },
          "metadata": {},
          "execution_count": 385
        }
      ]
    },
    {
      "cell_type": "markdown",
      "source": [
        "- We only one-hot encode nominal features. The cat_selector selects nominal categorical features before they are one-hot encoded in this section. We did not have ordinal features. If we did, we would have ordinal encoded the ordinal features. Ordinal features are ordered categorical features. Nominal features are unordered categorical features. Since computational modeling can only model numbers, we need to convert categorical data to numeric form by ordinal encoding ordinal features and one-hot encoding nominal features."
      ],
      "metadata": {
        "id": "ti_XaHcjKEGp"
      }
    },
    {
      "cell_type": "markdown",
      "source": [
        "## 17) Fit the ColumnTransformer on the training data and transform both training and testing data"
      ],
      "metadata": {
        "id": "b3tH0gVBKePG"
      }
    },
    {
      "cell_type": "code",
      "source": [
        "preprocessor.fit(X_train)"
      ],
      "metadata": {
        "id": "cBaE3dAqJtCu",
        "colab": {
          "base_uri": "https://localhost:8080/",
          "height": 153
        },
        "outputId": "a8e5f4fb-9cb0-4d68-ce51-f88453ecba6e"
      },
      "execution_count": 386,
      "outputs": [
        {
          "output_type": "execute_result",
          "data": {
            "text/plain": [
              "ColumnTransformer(remainder='passthrough',\n",
              "                  transformers=[('pipeline',\n",
              "                                 Pipeline(steps=[('simpleimputer',\n",
              "                                                  SimpleImputer(strategy='median')),\n",
              "                                                 ('standardscaler',\n",
              "                                                  StandardScaler())]),\n",
              "                                 <sklearn.compose._column_transformer.make_column_selector object at 0x7fa4004217d0>),\n",
              "                                ('onehotencoder',\n",
              "                                 OneHotEncoder(handle_unknown='ignore',\n",
              "                                               sparse=False),\n",
              "                                 <sklearn.compose._column_transformer.make_column_selector object at 0x7fa400421590>)])"
            ],
            "text/html": [
              "<style>#sk-80616ed3-3187-455f-8b49-e3bf90e778b7 {color: black;background-color: white;}#sk-80616ed3-3187-455f-8b49-e3bf90e778b7 pre{padding: 0;}#sk-80616ed3-3187-455f-8b49-e3bf90e778b7 div.sk-toggleable {background-color: white;}#sk-80616ed3-3187-455f-8b49-e3bf90e778b7 label.sk-toggleable__label {cursor: pointer;display: block;width: 100%;margin-bottom: 0;padding: 0.3em;box-sizing: border-box;text-align: center;}#sk-80616ed3-3187-455f-8b49-e3bf90e778b7 label.sk-toggleable__label-arrow:before {content: \"▸\";float: left;margin-right: 0.25em;color: #696969;}#sk-80616ed3-3187-455f-8b49-e3bf90e778b7 label.sk-toggleable__label-arrow:hover:before {color: black;}#sk-80616ed3-3187-455f-8b49-e3bf90e778b7 div.sk-estimator:hover label.sk-toggleable__label-arrow:before {color: black;}#sk-80616ed3-3187-455f-8b49-e3bf90e778b7 div.sk-toggleable__content {max-height: 0;max-width: 0;overflow: hidden;text-align: left;background-color: #f0f8ff;}#sk-80616ed3-3187-455f-8b49-e3bf90e778b7 div.sk-toggleable__content pre {margin: 0.2em;color: black;border-radius: 0.25em;background-color: #f0f8ff;}#sk-80616ed3-3187-455f-8b49-e3bf90e778b7 input.sk-toggleable__control:checked~div.sk-toggleable__content {max-height: 200px;max-width: 100%;overflow: auto;}#sk-80616ed3-3187-455f-8b49-e3bf90e778b7 input.sk-toggleable__control:checked~label.sk-toggleable__label-arrow:before {content: \"▾\";}#sk-80616ed3-3187-455f-8b49-e3bf90e778b7 div.sk-estimator input.sk-toggleable__control:checked~label.sk-toggleable__label {background-color: #d4ebff;}#sk-80616ed3-3187-455f-8b49-e3bf90e778b7 div.sk-label input.sk-toggleable__control:checked~label.sk-toggleable__label {background-color: #d4ebff;}#sk-80616ed3-3187-455f-8b49-e3bf90e778b7 input.sk-hidden--visually {border: 0;clip: rect(1px 1px 1px 1px);clip: rect(1px, 1px, 1px, 1px);height: 1px;margin: -1px;overflow: hidden;padding: 0;position: absolute;width: 1px;}#sk-80616ed3-3187-455f-8b49-e3bf90e778b7 div.sk-estimator {font-family: monospace;background-color: #f0f8ff;border: 1px dotted black;border-radius: 0.25em;box-sizing: border-box;margin-bottom: 0.5em;}#sk-80616ed3-3187-455f-8b49-e3bf90e778b7 div.sk-estimator:hover {background-color: #d4ebff;}#sk-80616ed3-3187-455f-8b49-e3bf90e778b7 div.sk-parallel-item::after {content: \"\";width: 100%;border-bottom: 1px solid gray;flex-grow: 1;}#sk-80616ed3-3187-455f-8b49-e3bf90e778b7 div.sk-label:hover label.sk-toggleable__label {background-color: #d4ebff;}#sk-80616ed3-3187-455f-8b49-e3bf90e778b7 div.sk-serial::before {content: \"\";position: absolute;border-left: 1px solid gray;box-sizing: border-box;top: 2em;bottom: 0;left: 50%;}#sk-80616ed3-3187-455f-8b49-e3bf90e778b7 div.sk-serial {display: flex;flex-direction: column;align-items: center;background-color: white;padding-right: 0.2em;padding-left: 0.2em;}#sk-80616ed3-3187-455f-8b49-e3bf90e778b7 div.sk-item {z-index: 1;}#sk-80616ed3-3187-455f-8b49-e3bf90e778b7 div.sk-parallel {display: flex;align-items: stretch;justify-content: center;background-color: white;}#sk-80616ed3-3187-455f-8b49-e3bf90e778b7 div.sk-parallel::before {content: \"\";position: absolute;border-left: 1px solid gray;box-sizing: border-box;top: 2em;bottom: 0;left: 50%;}#sk-80616ed3-3187-455f-8b49-e3bf90e778b7 div.sk-parallel-item {display: flex;flex-direction: column;position: relative;background-color: white;}#sk-80616ed3-3187-455f-8b49-e3bf90e778b7 div.sk-parallel-item:first-child::after {align-self: flex-end;width: 50%;}#sk-80616ed3-3187-455f-8b49-e3bf90e778b7 div.sk-parallel-item:last-child::after {align-self: flex-start;width: 50%;}#sk-80616ed3-3187-455f-8b49-e3bf90e778b7 div.sk-parallel-item:only-child::after {width: 0;}#sk-80616ed3-3187-455f-8b49-e3bf90e778b7 div.sk-dashed-wrapped {border: 1px dashed gray;margin: 0 0.4em 0.5em 0.4em;box-sizing: border-box;padding-bottom: 0.4em;background-color: white;position: relative;}#sk-80616ed3-3187-455f-8b49-e3bf90e778b7 div.sk-label label {font-family: monospace;font-weight: bold;background-color: white;display: inline-block;line-height: 1.2em;}#sk-80616ed3-3187-455f-8b49-e3bf90e778b7 div.sk-label-container {position: relative;z-index: 2;text-align: center;}#sk-80616ed3-3187-455f-8b49-e3bf90e778b7 div.sk-container {/* jupyter's `normalize.less` sets `[hidden] { display: none; }` but bootstrap.min.css set `[hidden] { display: none !important; }` so we also need the `!important` here to be able to override the default hidden behavior on the sphinx rendered scikit-learn.org. See: https://github.com/scikit-learn/scikit-learn/issues/21755 */display: inline-block !important;position: relative;}#sk-80616ed3-3187-455f-8b49-e3bf90e778b7 div.sk-text-repr-fallback {display: none;}</style><div id=\"sk-80616ed3-3187-455f-8b49-e3bf90e778b7\" class=\"sk-top-container\"><div class=\"sk-text-repr-fallback\"><pre>ColumnTransformer(remainder=&#x27;passthrough&#x27;,\n",
              "                  transformers=[(&#x27;pipeline&#x27;,\n",
              "                                 Pipeline(steps=[(&#x27;simpleimputer&#x27;,\n",
              "                                                  SimpleImputer(strategy=&#x27;median&#x27;)),\n",
              "                                                 (&#x27;standardscaler&#x27;,\n",
              "                                                  StandardScaler())]),\n",
              "                                 &lt;sklearn.compose._column_transformer.make_column_selector object at 0x7fa4004217d0&gt;),\n",
              "                                (&#x27;onehotencoder&#x27;,\n",
              "                                 OneHotEncoder(handle_unknown=&#x27;ignore&#x27;,\n",
              "                                               sparse=False),\n",
              "                                 &lt;sklearn.compose._column_transformer.make_column_selector object at 0x7fa400421590&gt;)])</pre><b>Please rerun this cell to show the HTML repr or trust the notebook.</b></div><div class=\"sk-container\" hidden><div class=\"sk-item sk-dashed-wrapped\"><div class=\"sk-label-container\"><div class=\"sk-label sk-toggleable\"><input class=\"sk-toggleable__control sk-hidden--visually\" id=\"3eefa4d7-02a4-4184-995d-606742e8eeea\" type=\"checkbox\" ><label for=\"3eefa4d7-02a4-4184-995d-606742e8eeea\" class=\"sk-toggleable__label sk-toggleable__label-arrow\">ColumnTransformer</label><div class=\"sk-toggleable__content\"><pre>ColumnTransformer(remainder=&#x27;passthrough&#x27;,\n",
              "                  transformers=[(&#x27;pipeline&#x27;,\n",
              "                                 Pipeline(steps=[(&#x27;simpleimputer&#x27;,\n",
              "                                                  SimpleImputer(strategy=&#x27;median&#x27;)),\n",
              "                                                 (&#x27;standardscaler&#x27;,\n",
              "                                                  StandardScaler())]),\n",
              "                                 &lt;sklearn.compose._column_transformer.make_column_selector object at 0x7fa4004217d0&gt;),\n",
              "                                (&#x27;onehotencoder&#x27;,\n",
              "                                 OneHotEncoder(handle_unknown=&#x27;ignore&#x27;,\n",
              "                                               sparse=False),\n",
              "                                 &lt;sklearn.compose._column_transformer.make_column_selector object at 0x7fa400421590&gt;)])</pre></div></div></div><div class=\"sk-parallel\"><div class=\"sk-parallel-item\"><div class=\"sk-item\"><div class=\"sk-label-container\"><div class=\"sk-label sk-toggleable\"><input class=\"sk-toggleable__control sk-hidden--visually\" id=\"a4852686-8a8c-422b-b3b5-30989618e097\" type=\"checkbox\" ><label for=\"a4852686-8a8c-422b-b3b5-30989618e097\" class=\"sk-toggleable__label sk-toggleable__label-arrow\">pipeline</label><div class=\"sk-toggleable__content\"><pre>&lt;sklearn.compose._column_transformer.make_column_selector object at 0x7fa4004217d0&gt;</pre></div></div></div><div class=\"sk-serial\"><div class=\"sk-item\"><div class=\"sk-serial\"><div class=\"sk-item\"><div class=\"sk-estimator sk-toggleable\"><input class=\"sk-toggleable__control sk-hidden--visually\" id=\"0f1abbf6-c30d-42f7-a2c5-0d29c183c58b\" type=\"checkbox\" ><label for=\"0f1abbf6-c30d-42f7-a2c5-0d29c183c58b\" class=\"sk-toggleable__label sk-toggleable__label-arrow\">SimpleImputer</label><div class=\"sk-toggleable__content\"><pre>SimpleImputer(strategy=&#x27;median&#x27;)</pre></div></div></div><div class=\"sk-item\"><div class=\"sk-estimator sk-toggleable\"><input class=\"sk-toggleable__control sk-hidden--visually\" id=\"c2c3e0b7-0657-4c19-8827-48be0b69a784\" type=\"checkbox\" ><label for=\"c2c3e0b7-0657-4c19-8827-48be0b69a784\" class=\"sk-toggleable__label sk-toggleable__label-arrow\">StandardScaler</label><div class=\"sk-toggleable__content\"><pre>StandardScaler()</pre></div></div></div></div></div></div></div></div><div class=\"sk-parallel-item\"><div class=\"sk-item\"><div class=\"sk-label-container\"><div class=\"sk-label sk-toggleable\"><input class=\"sk-toggleable__control sk-hidden--visually\" id=\"331e938d-51a1-424d-9cc4-6e2bd0ce7893\" type=\"checkbox\" ><label for=\"331e938d-51a1-424d-9cc4-6e2bd0ce7893\" class=\"sk-toggleable__label sk-toggleable__label-arrow\">onehotencoder</label><div class=\"sk-toggleable__content\"><pre>&lt;sklearn.compose._column_transformer.make_column_selector object at 0x7fa400421590&gt;</pre></div></div></div><div class=\"sk-serial\"><div class=\"sk-item\"><div class=\"sk-estimator sk-toggleable\"><input class=\"sk-toggleable__control sk-hidden--visually\" id=\"36b0fb18-bf20-439f-a27c-25f072786f31\" type=\"checkbox\" ><label for=\"36b0fb18-bf20-439f-a27c-25f072786f31\" class=\"sk-toggleable__label sk-toggleable__label-arrow\">OneHotEncoder</label><div class=\"sk-toggleable__content\"><pre>OneHotEncoder(handle_unknown=&#x27;ignore&#x27;, sparse=False)</pre></div></div></div></div></div></div><div class=\"sk-parallel-item\"><div class=\"sk-item\"><div class=\"sk-label-container\"><div class=\"sk-label sk-toggleable\"><input class=\"sk-toggleable__control sk-hidden--visually\" id=\"173d361b-10c9-47c8-99e3-8123a6328b78\" type=\"checkbox\" ><label for=\"173d361b-10c9-47c8-99e3-8123a6328b78\" class=\"sk-toggleable__label sk-toggleable__label-arrow\">remainder</label><div class=\"sk-toggleable__content\"><pre>[]</pre></div></div></div><div class=\"sk-serial\"><div class=\"sk-item\"><div class=\"sk-estimator sk-toggleable\"><input class=\"sk-toggleable__control sk-hidden--visually\" id=\"997caac2-3953-4a7e-9519-ae67e409328e\" type=\"checkbox\" ><label for=\"997caac2-3953-4a7e-9519-ae67e409328e\" class=\"sk-toggleable__label sk-toggleable__label-arrow\">passthrough</label><div class=\"sk-toggleable__content\"><pre>passthrough</pre></div></div></div></div></div></div></div></div></div></div>"
            ]
          },
          "metadata": {},
          "execution_count": 386
        }
      ]
    },
    {
      "cell_type": "code",
      "source": [
        "# transform training and testing data\n",
        "X_train_processed = preprocessor.transform(X_train)\n",
        "X_test_processed = preprocessor.transform(X_test)"
      ],
      "metadata": {
        "id": "jUGTYT4LKhyn"
      },
      "execution_count": 387,
      "outputs": []
    },
    {
      "cell_type": "markdown",
      "source": [
        "## 18) Inspect the Result"
      ],
      "metadata": {
        "id": "rM27gQPVcvqj"
      }
    },
    {
      "cell_type": "code",
      "source": [
        "print(np.isnan(X_train_processed).sum().sum(), 'missing values in training data')\n",
        "print(np.isnan(X_test_processed).sum().sum(), 'missing values in testing data')\n",
        "print('\\n')\n",
        "print('All data in X_train_processed are', X_train_processed.dtype)\n",
        "print('All data in X_test_processed are', X_test_processed.dtype)\n",
        "print('\\n')\n",
        "print('shape of data is', X_train_processed.shape)\n",
        "print('\\n')\n",
        "X_train_processed"
      ],
      "metadata": {
        "id": "mdgaxImYcsnO",
        "colab": {
          "base_uri": "https://localhost:8080/"
        },
        "outputId": "05bb7bc0-56e8-451e-d0c4-90400f502f77"
      },
      "execution_count": 388,
      "outputs": [
        {
          "output_type": "stream",
          "name": "stdout",
          "text": [
            "0 missing values in training data\n",
            "0 missing values in testing data\n",
            "\n",
            "\n",
            "All data in X_train_processed are float64\n",
            "All data in X_test_processed are float64\n",
            "\n",
            "\n",
            "shape of data is (870, 56)\n",
            "\n",
            "\n"
          ]
        },
        {
          "output_type": "execute_result",
          "data": {
            "text/plain": [
              "array([[-1.60256251,  0.22079175, -0.9915077 , ...,  0.        ,\n",
              "         0.        ,  0.        ],\n",
              "       [-0.44312019,  0.22079175, -0.9724977 , ...,  0.        ,\n",
              "         0.        ,  0.        ],\n",
              "       [-1.60256251,  0.71637696,  0.69042539, ...,  0.        ,\n",
              "         0.        ,  0.        ],\n",
              "       ...,\n",
              "       [-1.31270193, -0.27479345,  0.10926228, ...,  0.        ,\n",
              "         0.        ,  0.        ],\n",
              "       [ 0.71632212, -0.27479345,  0.35277143, ...,  0.        ,\n",
              "         0.        ,  0.        ],\n",
              "       [ 0.71632212,  0.22079175,  0.35277143, ...,  0.        ,\n",
              "         0.        ,  0.        ]])"
            ]
          },
          "metadata": {},
          "execution_count": 388
        }
      ]
    },
    {
      "cell_type": "markdown",
      "source": [
        "- From the above, we see that there are no missing data, all data are of type float64, and there are 56 columns."
      ],
      "metadata": {
        "id": "-6tT_Caoc-1b"
      }
    },
    {
      "cell_type": "markdown",
      "source": [
        "## 19) Inspect Result in a dataframe with column names"
      ],
      "metadata": {
        "id": "ZwRameNm95FA"
      }
    },
    {
      "cell_type": "code",
      "source": [
        "# Let's get out the column transformer steps\n",
        "preprocessor.named_transformers_"
      ],
      "metadata": {
        "colab": {
          "base_uri": "https://localhost:8080/"
        },
        "id": "ik1i_a0x0kby",
        "outputId": "51da148a-8cee-48d4-d08f-be4a88671c3d"
      },
      "execution_count": 389,
      "outputs": [
        {
          "output_type": "execute_result",
          "data": {
            "text/plain": [
              "{'onehotencoder': OneHotEncoder(handle_unknown='ignore', sparse=False),\n",
              " 'pipeline': Pipeline(steps=[('simpleimputer', SimpleImputer(strategy='median')),\n",
              "                 ('standardscaler', StandardScaler())])}"
            ]
          },
          "metadata": {},
          "execution_count": 389
        }
      ]
    },
    {
      "cell_type": "code",
      "source": [
        "# Reference the one hot encoder\n",
        "cat_hot = preprocessor.named_transformers_['onehotencoder']"
      ],
      "metadata": {
        "id": "cQkyCxK00_RZ"
      },
      "execution_count": 390,
      "outputs": []
    },
    {
      "cell_type": "code",
      "source": [
        "# Extract the feature names out from the one hot encoder\n",
        "cat_feature_names = cat_hot.get_feature_names_out(cat_selector(X_train))\n",
        "cat_feature_names "
      ],
      "metadata": {
        "colab": {
          "base_uri": "https://localhost:8080/"
        },
        "id": "thI8tKV31GlX",
        "outputId": "a5bc533c-69a1-4eef-ba13-6347bf43a745"
      },
      "execution_count": 391,
      "outputs": [
        {
          "output_type": "execute_result",
          "data": {
            "text/plain": [
              "array(['quarter_Quarter1', 'quarter_Quarter2', 'quarter_Quarter3',\n",
              "       'quarter_Quarter4', 'quarter_Quarter5', 'department_finishing',\n",
              "       'department_sweing', 'day_Monday', 'day_Saturday', 'day_Sunday',\n",
              "       'day_Thursday', 'day_Tuesday', 'day_Wednesday', 'month_1',\n",
              "       'month_2', 'month_3', 'daynum_1', 'daynum_2', 'daynum_3',\n",
              "       'daynum_4', 'daynum_5', 'daynum_6', 'daynum_7', 'daynum_8',\n",
              "       'daynum_9', 'daynum_10', 'daynum_11', 'daynum_12', 'daynum_13',\n",
              "       'daynum_14', 'daynum_15', 'daynum_16', 'daynum_17', 'daynum_18',\n",
              "       'daynum_19', 'daynum_20', 'daynum_21', 'daynum_22', 'daynum_23',\n",
              "       'daynum_24', 'daynum_25', 'daynum_26', 'daynum_27', 'daynum_28',\n",
              "       'daynum_29', 'daynum_31'], dtype=object)"
            ]
          },
          "metadata": {},
          "execution_count": 391
        }
      ]
    },
    {
      "cell_type": "code",
      "source": [
        "# Get the final column names which are numerical features + categorical features\n",
        "final_columns = num_selector(X_train) + list(cat_feature_names)\n",
        "final_columns"
      ],
      "metadata": {
        "colab": {
          "base_uri": "https://localhost:8080/"
        },
        "id": "DsIe_aqy5Z1Z",
        "outputId": "c5e3ec1d-a4db-463c-932e-5e566d9e3887"
      },
      "execution_count": 392,
      "outputs": [
        {
          "output_type": "execute_result",
          "data": {
            "text/plain": [
              "['team',\n",
              " 'targeted_productivity',\n",
              " 'smv',\n",
              " 'wip',\n",
              " 'over_time',\n",
              " 'incentive',\n",
              " 'idle_time',\n",
              " 'idle_men',\n",
              " 'no_of_style_change',\n",
              " 'no_of_workers',\n",
              " 'quarter_Quarter1',\n",
              " 'quarter_Quarter2',\n",
              " 'quarter_Quarter3',\n",
              " 'quarter_Quarter4',\n",
              " 'quarter_Quarter5',\n",
              " 'department_finishing',\n",
              " 'department_sweing',\n",
              " 'day_Monday',\n",
              " 'day_Saturday',\n",
              " 'day_Sunday',\n",
              " 'day_Thursday',\n",
              " 'day_Tuesday',\n",
              " 'day_Wednesday',\n",
              " 'month_1',\n",
              " 'month_2',\n",
              " 'month_3',\n",
              " 'daynum_1',\n",
              " 'daynum_2',\n",
              " 'daynum_3',\n",
              " 'daynum_4',\n",
              " 'daynum_5',\n",
              " 'daynum_6',\n",
              " 'daynum_7',\n",
              " 'daynum_8',\n",
              " 'daynum_9',\n",
              " 'daynum_10',\n",
              " 'daynum_11',\n",
              " 'daynum_12',\n",
              " 'daynum_13',\n",
              " 'daynum_14',\n",
              " 'daynum_15',\n",
              " 'daynum_16',\n",
              " 'daynum_17',\n",
              " 'daynum_18',\n",
              " 'daynum_19',\n",
              " 'daynum_20',\n",
              " 'daynum_21',\n",
              " 'daynum_22',\n",
              " 'daynum_23',\n",
              " 'daynum_24',\n",
              " 'daynum_25',\n",
              " 'daynum_26',\n",
              " 'daynum_27',\n",
              " 'daynum_28',\n",
              " 'daynum_29',\n",
              " 'daynum_31']"
            ]
          },
          "metadata": {},
          "execution_count": 392
        }
      ]
    },
    {
      "cell_type": "code",
      "source": [
        "# Change the X_train and X_test transformed columns to a dataframe\n",
        "X_train_df = pd.DataFrame(X_train_processed, columns = final_columns)\n",
        "X_test_df = pd.DataFrame(X_test_processed, columns = final_columns)"
      ],
      "metadata": {
        "id": "EbbQHLzJ5LSc"
      },
      "execution_count": 393,
      "outputs": []
    },
    {
      "cell_type": "code",
      "source": [
        "# View the first five rows of the X_train transformed dataframe\n",
        "\n",
        "X_train_df.head()"
      ],
      "metadata": {
        "colab": {
          "base_uri": "https://localhost:8080/",
          "height": 235
        },
        "id": "7GUMqg7y532o",
        "outputId": "4b65d146-437a-4392-b9d2-e61fb712be16"
      },
      "execution_count": 394,
      "outputs": [
        {
          "output_type": "execute_result",
          "data": {
            "text/plain": [
              "       team  targeted_productivity       smv       wip  over_time  incentive  \\\n",
              "0 -1.602563               0.220792 -0.991508 -0.046420  -1.062218  -0.233135   \n",
              "1 -0.443120               0.220792 -0.972498 -0.046420  -1.277495  -0.233135   \n",
              "2 -1.602563               0.716377  0.690425  0.461194   0.677942   0.347900   \n",
              "3 -0.732981               0.220792  1.376596 -0.516113   0.785581  -0.233135   \n",
              "4  1.296043              -0.274793 -0.315295 -0.340301  -0.344626  -0.035055   \n",
              "\n",
              "   idle_time  idle_men  no_of_style_change  no_of_workers  ...  daynum_21  \\\n",
              "0  -0.050096 -0.110077           -0.354952      -1.174334  ...        0.0   \n",
              "1  -0.050096 -0.110077           -0.354952      -1.445149  ...        0.0   \n",
              "2  -0.050096 -0.110077           -0.354952       1.014751  ...        0.0   \n",
              "3  -0.050096 -0.110077            1.915698       1.127590  ...        0.0   \n",
              "4  -0.050096 -0.110077            4.186349       0.992183  ...        0.0   \n",
              "\n",
              "   daynum_22  daynum_23  daynum_24  daynum_25  daynum_26  daynum_27  \\\n",
              "0        0.0        0.0        0.0        0.0        0.0        0.0   \n",
              "1        0.0        0.0        0.0        0.0        0.0        0.0   \n",
              "2        0.0        0.0        0.0        0.0        0.0        0.0   \n",
              "3        0.0        0.0        0.0        0.0        0.0        0.0   \n",
              "4        0.0        0.0        0.0        0.0        0.0        0.0   \n",
              "\n",
              "   daynum_28  daynum_29  daynum_31  \n",
              "0        0.0        0.0        0.0  \n",
              "1        0.0        0.0        0.0  \n",
              "2        0.0        0.0        0.0  \n",
              "3        0.0        0.0        0.0  \n",
              "4        0.0        0.0        0.0  \n",
              "\n",
              "[5 rows x 56 columns]"
            ],
            "text/html": [
              "\n",
              "  <div id=\"df-6907a6fc-986d-4d30-8ed9-a77e05493d4b\">\n",
              "    <div class=\"colab-df-container\">\n",
              "      <div>\n",
              "<style scoped>\n",
              "    .dataframe tbody tr th:only-of-type {\n",
              "        vertical-align: middle;\n",
              "    }\n",
              "\n",
              "    .dataframe tbody tr th {\n",
              "        vertical-align: top;\n",
              "    }\n",
              "\n",
              "    .dataframe thead th {\n",
              "        text-align: right;\n",
              "    }\n",
              "</style>\n",
              "<table border=\"1\" class=\"dataframe\">\n",
              "  <thead>\n",
              "    <tr style=\"text-align: right;\">\n",
              "      <th></th>\n",
              "      <th>team</th>\n",
              "      <th>targeted_productivity</th>\n",
              "      <th>smv</th>\n",
              "      <th>wip</th>\n",
              "      <th>over_time</th>\n",
              "      <th>incentive</th>\n",
              "      <th>idle_time</th>\n",
              "      <th>idle_men</th>\n",
              "      <th>no_of_style_change</th>\n",
              "      <th>no_of_workers</th>\n",
              "      <th>...</th>\n",
              "      <th>daynum_21</th>\n",
              "      <th>daynum_22</th>\n",
              "      <th>daynum_23</th>\n",
              "      <th>daynum_24</th>\n",
              "      <th>daynum_25</th>\n",
              "      <th>daynum_26</th>\n",
              "      <th>daynum_27</th>\n",
              "      <th>daynum_28</th>\n",
              "      <th>daynum_29</th>\n",
              "      <th>daynum_31</th>\n",
              "    </tr>\n",
              "  </thead>\n",
              "  <tbody>\n",
              "    <tr>\n",
              "      <th>0</th>\n",
              "      <td>-1.602563</td>\n",
              "      <td>0.220792</td>\n",
              "      <td>-0.991508</td>\n",
              "      <td>-0.046420</td>\n",
              "      <td>-1.062218</td>\n",
              "      <td>-0.233135</td>\n",
              "      <td>-0.050096</td>\n",
              "      <td>-0.110077</td>\n",
              "      <td>-0.354952</td>\n",
              "      <td>-1.174334</td>\n",
              "      <td>...</td>\n",
              "      <td>0.0</td>\n",
              "      <td>0.0</td>\n",
              "      <td>0.0</td>\n",
              "      <td>0.0</td>\n",
              "      <td>0.0</td>\n",
              "      <td>0.0</td>\n",
              "      <td>0.0</td>\n",
              "      <td>0.0</td>\n",
              "      <td>0.0</td>\n",
              "      <td>0.0</td>\n",
              "    </tr>\n",
              "    <tr>\n",
              "      <th>1</th>\n",
              "      <td>-0.443120</td>\n",
              "      <td>0.220792</td>\n",
              "      <td>-0.972498</td>\n",
              "      <td>-0.046420</td>\n",
              "      <td>-1.277495</td>\n",
              "      <td>-0.233135</td>\n",
              "      <td>-0.050096</td>\n",
              "      <td>-0.110077</td>\n",
              "      <td>-0.354952</td>\n",
              "      <td>-1.445149</td>\n",
              "      <td>...</td>\n",
              "      <td>0.0</td>\n",
              "      <td>0.0</td>\n",
              "      <td>0.0</td>\n",
              "      <td>0.0</td>\n",
              "      <td>0.0</td>\n",
              "      <td>0.0</td>\n",
              "      <td>0.0</td>\n",
              "      <td>0.0</td>\n",
              "      <td>0.0</td>\n",
              "      <td>0.0</td>\n",
              "    </tr>\n",
              "    <tr>\n",
              "      <th>2</th>\n",
              "      <td>-1.602563</td>\n",
              "      <td>0.716377</td>\n",
              "      <td>0.690425</td>\n",
              "      <td>0.461194</td>\n",
              "      <td>0.677942</td>\n",
              "      <td>0.347900</td>\n",
              "      <td>-0.050096</td>\n",
              "      <td>-0.110077</td>\n",
              "      <td>-0.354952</td>\n",
              "      <td>1.014751</td>\n",
              "      <td>...</td>\n",
              "      <td>0.0</td>\n",
              "      <td>0.0</td>\n",
              "      <td>0.0</td>\n",
              "      <td>0.0</td>\n",
              "      <td>0.0</td>\n",
              "      <td>0.0</td>\n",
              "      <td>0.0</td>\n",
              "      <td>0.0</td>\n",
              "      <td>0.0</td>\n",
              "      <td>0.0</td>\n",
              "    </tr>\n",
              "    <tr>\n",
              "      <th>3</th>\n",
              "      <td>-0.732981</td>\n",
              "      <td>0.220792</td>\n",
              "      <td>1.376596</td>\n",
              "      <td>-0.516113</td>\n",
              "      <td>0.785581</td>\n",
              "      <td>-0.233135</td>\n",
              "      <td>-0.050096</td>\n",
              "      <td>-0.110077</td>\n",
              "      <td>1.915698</td>\n",
              "      <td>1.127590</td>\n",
              "      <td>...</td>\n",
              "      <td>0.0</td>\n",
              "      <td>0.0</td>\n",
              "      <td>0.0</td>\n",
              "      <td>0.0</td>\n",
              "      <td>0.0</td>\n",
              "      <td>0.0</td>\n",
              "      <td>0.0</td>\n",
              "      <td>0.0</td>\n",
              "      <td>0.0</td>\n",
              "      <td>0.0</td>\n",
              "    </tr>\n",
              "    <tr>\n",
              "      <th>4</th>\n",
              "      <td>1.296043</td>\n",
              "      <td>-0.274793</td>\n",
              "      <td>-0.315295</td>\n",
              "      <td>-0.340301</td>\n",
              "      <td>-0.344626</td>\n",
              "      <td>-0.035055</td>\n",
              "      <td>-0.050096</td>\n",
              "      <td>-0.110077</td>\n",
              "      <td>4.186349</td>\n",
              "      <td>0.992183</td>\n",
              "      <td>...</td>\n",
              "      <td>0.0</td>\n",
              "      <td>0.0</td>\n",
              "      <td>0.0</td>\n",
              "      <td>0.0</td>\n",
              "      <td>0.0</td>\n",
              "      <td>0.0</td>\n",
              "      <td>0.0</td>\n",
              "      <td>0.0</td>\n",
              "      <td>0.0</td>\n",
              "      <td>0.0</td>\n",
              "    </tr>\n",
              "  </tbody>\n",
              "</table>\n",
              "<p>5 rows × 56 columns</p>\n",
              "</div>\n",
              "      <button class=\"colab-df-convert\" onclick=\"convertToInteractive('df-6907a6fc-986d-4d30-8ed9-a77e05493d4b')\"\n",
              "              title=\"Convert this dataframe to an interactive table.\"\n",
              "              style=\"display:none;\">\n",
              "        \n",
              "  <svg xmlns=\"http://www.w3.org/2000/svg\" height=\"24px\"viewBox=\"0 0 24 24\"\n",
              "       width=\"24px\">\n",
              "    <path d=\"M0 0h24v24H0V0z\" fill=\"none\"/>\n",
              "    <path d=\"M18.56 5.44l.94 2.06.94-2.06 2.06-.94-2.06-.94-.94-2.06-.94 2.06-2.06.94zm-11 1L8.5 8.5l.94-2.06 2.06-.94-2.06-.94L8.5 2.5l-.94 2.06-2.06.94zm10 10l.94 2.06.94-2.06 2.06-.94-2.06-.94-.94-2.06-.94 2.06-2.06.94z\"/><path d=\"M17.41 7.96l-1.37-1.37c-.4-.4-.92-.59-1.43-.59-.52 0-1.04.2-1.43.59L10.3 9.45l-7.72 7.72c-.78.78-.78 2.05 0 2.83L4 21.41c.39.39.9.59 1.41.59.51 0 1.02-.2 1.41-.59l7.78-7.78 2.81-2.81c.8-.78.8-2.07 0-2.86zM5.41 20L4 18.59l7.72-7.72 1.47 1.35L5.41 20z\"/>\n",
              "  </svg>\n",
              "      </button>\n",
              "      \n",
              "  <style>\n",
              "    .colab-df-container {\n",
              "      display:flex;\n",
              "      flex-wrap:wrap;\n",
              "      gap: 12px;\n",
              "    }\n",
              "\n",
              "    .colab-df-convert {\n",
              "      background-color: #E8F0FE;\n",
              "      border: none;\n",
              "      border-radius: 50%;\n",
              "      cursor: pointer;\n",
              "      display: none;\n",
              "      fill: #1967D2;\n",
              "      height: 32px;\n",
              "      padding: 0 0 0 0;\n",
              "      width: 32px;\n",
              "    }\n",
              "\n",
              "    .colab-df-convert:hover {\n",
              "      background-color: #E2EBFA;\n",
              "      box-shadow: 0px 1px 2px rgba(60, 64, 67, 0.3), 0px 1px 3px 1px rgba(60, 64, 67, 0.15);\n",
              "      fill: #174EA6;\n",
              "    }\n",
              "\n",
              "    [theme=dark] .colab-df-convert {\n",
              "      background-color: #3B4455;\n",
              "      fill: #D2E3FC;\n",
              "    }\n",
              "\n",
              "    [theme=dark] .colab-df-convert:hover {\n",
              "      background-color: #434B5C;\n",
              "      box-shadow: 0px 1px 3px 1px rgba(0, 0, 0, 0.15);\n",
              "      filter: drop-shadow(0px 1px 2px rgba(0, 0, 0, 0.3));\n",
              "      fill: #FFFFFF;\n",
              "    }\n",
              "  </style>\n",
              "\n",
              "      <script>\n",
              "        const buttonEl =\n",
              "          document.querySelector('#df-6907a6fc-986d-4d30-8ed9-a77e05493d4b button.colab-df-convert');\n",
              "        buttonEl.style.display =\n",
              "          google.colab.kernel.accessAllowed ? 'block' : 'none';\n",
              "\n",
              "        async function convertToInteractive(key) {\n",
              "          const element = document.querySelector('#df-6907a6fc-986d-4d30-8ed9-a77e05493d4b');\n",
              "          const dataTable =\n",
              "            await google.colab.kernel.invokeFunction('convertToInteractive',\n",
              "                                                     [key], {});\n",
              "          if (!dataTable) return;\n",
              "\n",
              "          const docLinkHtml = 'Like what you see? Visit the ' +\n",
              "            '<a target=\"_blank\" href=https://colab.research.google.com/notebooks/data_table.ipynb>data table notebook</a>'\n",
              "            + ' to learn more about interactive tables.';\n",
              "          element.innerHTML = '';\n",
              "          dataTable['output_type'] = 'display_data';\n",
              "          await google.colab.output.renderOutput(dataTable, element);\n",
              "          const docLink = document.createElement('div');\n",
              "          docLink.innerHTML = docLinkHtml;\n",
              "          element.appendChild(docLink);\n",
              "        }\n",
              "      </script>\n",
              "    </div>\n",
              "  </div>\n",
              "  "
            ]
          },
          "metadata": {},
          "execution_count": 394
        }
      ]
    },
    {
      "cell_type": "code",
      "source": [
        "X_train_df.info()"
      ],
      "metadata": {
        "colab": {
          "base_uri": "https://localhost:8080/"
        },
        "id": "swW2IhK-6EVI",
        "outputId": "c2c9852a-ab54-4efb-fe8b-8183592019c9"
      },
      "execution_count": 395,
      "outputs": [
        {
          "output_type": "stream",
          "name": "stdout",
          "text": [
            "<class 'pandas.core.frame.DataFrame'>\n",
            "RangeIndex: 870 entries, 0 to 869\n",
            "Data columns (total 56 columns):\n",
            " #   Column                 Non-Null Count  Dtype  \n",
            "---  ------                 --------------  -----  \n",
            " 0   team                   870 non-null    float64\n",
            " 1   targeted_productivity  870 non-null    float64\n",
            " 2   smv                    870 non-null    float64\n",
            " 3   wip                    870 non-null    float64\n",
            " 4   over_time              870 non-null    float64\n",
            " 5   incentive              870 non-null    float64\n",
            " 6   idle_time              870 non-null    float64\n",
            " 7   idle_men               870 non-null    float64\n",
            " 8   no_of_style_change     870 non-null    float64\n",
            " 9   no_of_workers          870 non-null    float64\n",
            " 10  quarter_Quarter1       870 non-null    float64\n",
            " 11  quarter_Quarter2       870 non-null    float64\n",
            " 12  quarter_Quarter3       870 non-null    float64\n",
            " 13  quarter_Quarter4       870 non-null    float64\n",
            " 14  quarter_Quarter5       870 non-null    float64\n",
            " 15  department_finishing   870 non-null    float64\n",
            " 16  department_sweing      870 non-null    float64\n",
            " 17  day_Monday             870 non-null    float64\n",
            " 18  day_Saturday           870 non-null    float64\n",
            " 19  day_Sunday             870 non-null    float64\n",
            " 20  day_Thursday           870 non-null    float64\n",
            " 21  day_Tuesday            870 non-null    float64\n",
            " 22  day_Wednesday          870 non-null    float64\n",
            " 23  month_1                870 non-null    float64\n",
            " 24  month_2                870 non-null    float64\n",
            " 25  month_3                870 non-null    float64\n",
            " 26  daynum_1               870 non-null    float64\n",
            " 27  daynum_2               870 non-null    float64\n",
            " 28  daynum_3               870 non-null    float64\n",
            " 29  daynum_4               870 non-null    float64\n",
            " 30  daynum_5               870 non-null    float64\n",
            " 31  daynum_6               870 non-null    float64\n",
            " 32  daynum_7               870 non-null    float64\n",
            " 33  daynum_8               870 non-null    float64\n",
            " 34  daynum_9               870 non-null    float64\n",
            " 35  daynum_10              870 non-null    float64\n",
            " 36  daynum_11              870 non-null    float64\n",
            " 37  daynum_12              870 non-null    float64\n",
            " 38  daynum_13              870 non-null    float64\n",
            " 39  daynum_14              870 non-null    float64\n",
            " 40  daynum_15              870 non-null    float64\n",
            " 41  daynum_16              870 non-null    float64\n",
            " 42  daynum_17              870 non-null    float64\n",
            " 43  daynum_18              870 non-null    float64\n",
            " 44  daynum_19              870 non-null    float64\n",
            " 45  daynum_20              870 non-null    float64\n",
            " 46  daynum_21              870 non-null    float64\n",
            " 47  daynum_22              870 non-null    float64\n",
            " 48  daynum_23              870 non-null    float64\n",
            " 49  daynum_24              870 non-null    float64\n",
            " 50  daynum_25              870 non-null    float64\n",
            " 51  daynum_26              870 non-null    float64\n",
            " 52  daynum_27              870 non-null    float64\n",
            " 53  daynum_28              870 non-null    float64\n",
            " 54  daynum_29              870 non-null    float64\n",
            " 55  daynum_31              870 non-null    float64\n",
            "dtypes: float64(56)\n",
            "memory usage: 380.8 KB\n"
          ]
        }
      ]
    },
    {
      "cell_type": "markdown",
      "source": [
        "- We can see the new column names from one-hot encoding in the dataframe. We also confirm that there are 56 columns and 870 rows now."
      ],
      "metadata": {
        "id": "4r_BkDrF_b_1"
      }
    },
    {
      "cell_type": "markdown",
      "source": [
        "## 20) Logistic Regression"
      ],
      "metadata": {
        "id": "PVlIkBm4jsW-"
      }
    },
    {
      "cell_type": "code",
      "source": [
        "# Make an instance of the model with default parameters\n",
        "logreg = LogisticRegression(class_weight='balanced')\n",
        "# Create and fit pipeline\n",
        "logreg_pipe = make_pipeline(preprocessor, logreg)\n",
        "# Training the model on the data, storing the information learned from the data\n",
        "# Model is learning the relationship between X and y \n",
        "logreg_pipe.fit(X_train, y_train)\n",
        "# Save predictions \n",
        "logreg_train_predictions = logreg_pipe.predict(X_train)\n",
        "logreg_test_predictions = logreg_pipe.predict(X_test)"
      ],
      "metadata": {
        "id": "PQnNKU_xaEEQ"
      },
      "execution_count": 396,
      "outputs": []
    },
    {
      "cell_type": "code",
      "source": [
        "# Run a classification report on both train and test datasets.\n",
        "print('Training Metrics')\n",
        "print(classification_report(y_train, logreg_train_predictions, digits = 4))\n",
        "print('\\nTesting Metrics')\n",
        "print(classification_report(y_test, logreg_test_predictions, digits = 4))"
      ],
      "metadata": {
        "colab": {
          "base_uri": "https://localhost:8080/"
        },
        "id": "zAz21Ppit3ad",
        "outputId": "e7113938-b1de-4fb0-d2f0-0b45ea1d67d7"
      },
      "execution_count": 397,
      "outputs": [
        {
          "output_type": "stream",
          "name": "stdout",
          "text": [
            "Training Metrics\n",
            "              precision    recall  f1-score   support\n",
            "\n",
            "           0     0.4986    0.7553    0.6007       237\n",
            "           1     0.8865    0.7156    0.7920       633\n",
            "\n",
            "    accuracy                         0.7264       870\n",
            "   macro avg     0.6926    0.7355    0.6963       870\n",
            "weighted avg     0.7808    0.7264    0.7398       870\n",
            "\n",
            "\n",
            "Testing Metrics\n",
            "              precision    recall  f1-score   support\n",
            "\n",
            "           0     0.4841    0.7176    0.5782        85\n",
            "           1     0.8537    0.6829    0.7588       205\n",
            "\n",
            "    accuracy                         0.6931       290\n",
            "   macro avg     0.6689    0.7003    0.6685       290\n",
            "weighted avg     0.7453    0.6931    0.7059       290\n",
            "\n"
          ]
        }
      ]
    },
    {
      "cell_type": "markdown",
      "source": [
        "- The results from the default logistic model are okay, but not that great. The model did better on the training set than the test set. However, the accuracy values of the training and test sets are close to each other, meaning the model is not overfit. Let's see if we can improve the accuracy on our test set by changing the value of C."
      ],
      "metadata": {
        "id": "x-PaSGIBm8tJ"
      }
    },
    {
      "cell_type": "markdown",
      "source": [
        "**a) L1 Tuning**"
      ],
      "metadata": {
        "id": "LukVvnpLnQps"
      }
    },
    {
      "cell_type": "code",
      "source": [
        "# create a list of c values and empty lists for scores\n",
        "c_values = [0.0001, 0.001, 0.01, 0.1, 1, 10, 100, 1000]\n",
        "train_scores = []\n",
        "test_scores = []\n",
        "#iterative over the c values\n",
        "for c in c_values:\n",
        " \n",
        "  # instantiate a model with each value of c and fit it on the data\n",
        "  log_reg = LogisticRegression(C=c, max_iter=1000, solver='liblinear', penalty='l1')\n",
        "  log_reg_pipe = make_pipeline(preprocessor, log_reg)\n",
        "  log_reg_pipe.fit(X_train, y_train)\n",
        " \n",
        "  # add the training and testing scores to our scores lists\n",
        "  train_scores.append(log_reg_pipe.score(X_train, y_train))\n",
        "  test_scores.append(log_reg_pipe.score(X_test, y_test))\n",
        " \n",
        "#plot the change in accuracy as we change the value of C\n",
        "fig, ax = plt.subplots(1,1)\n",
        "ax.plot(c_values, train_scores, label='Training Accuracy')\n",
        "ax.plot(c_values, test_scores, label='Testing Accuracy')\n",
        "ax.set_xticks(c_values)\n",
        "ax.set_title('Change in accuracy over C values for l1 regularization')\n",
        "ax.legend()\n",
        " \n",
        "#set the x axis to a logarithmic scale to show the values of C in even intervals\n",
        "ax.set_xscale('log')\n",
        "# print a dictionary of values of C and accuracy scores\n",
        "{c:score for c, score in zip(c_values, test_scores)}"
      ],
      "metadata": {
        "colab": {
          "base_uri": "https://localhost:8080/",
          "height": 432
        },
        "id": "wLmTE3J1kYBG",
        "outputId": "d9fc15a9-e177-4319-f22f-31f903020c60"
      },
      "execution_count": 398,
      "outputs": [
        {
          "output_type": "execute_result",
          "data": {
            "text/plain": [
              "{0.0001: 0.29310344827586204,\n",
              " 0.001: 0.29310344827586204,\n",
              " 0.01: 0.7068965517241379,\n",
              " 0.1: 0.7241379310344828,\n",
              " 1: 0.7206896551724138,\n",
              " 10: 0.7275862068965517,\n",
              " 100: 0.7241379310344828,\n",
              " 1000: 0.7241379310344828}"
            ]
          },
          "metadata": {},
          "execution_count": 398
        },
        {
          "output_type": "display_data",
          "data": {
            "text/plain": [
              "<Figure size 432x288 with 1 Axes>"
            ],
            "image/png": "[encoded data removed]"
          },
          "metadata": {
            "needs_background": "light"
          }
        }
      ]
    },
    {
      "cell_type": "markdown",
      "source": [
        "- According to this graph we get the best accuracy on the test set when C=10. The accuracy is 0.727. The accuracy on our test set after L1 tuning is slightly better than our default model whose test set accuracy is 0.693."
      ],
      "metadata": {
        "id": "qkroWKPiob3K"
      }
    },
    {
      "cell_type": "markdown",
      "source": [
        "**b) L2 Tuning**"
      ],
      "metadata": {
        "id": "anKNu3xioyp8"
      }
    },
    {
      "cell_type": "code",
      "source": [
        "# create a list of c values and empty lists for scores\n",
        "c_values = [0.0001, 0.001, 0.01, 0.1, 1, 10, 100, 1000]\n",
        "train_scores = []\n",
        "test_scores = []\n",
        "#iterative over the c values\n",
        "for c in c_values:\n",
        "  # instantiate a model with each value of c and fit it on the data\n",
        "  log_reg = LogisticRegression(C=c, max_iter=1000, solver='liblinear', penalty='l2')\n",
        "  log_reg_pipe = make_pipeline(preprocessor, log_reg)\n",
        "  log_reg_pipe.fit(X_train, y_train)\n",
        " \n",
        "  # add the training and testing scores to our scores lists\n",
        "  train_scores.append(log_reg_pipe.score(X_train, y_train))\n",
        "  test_scores.append(log_reg_pipe.score(X_test, y_test))\n",
        "  \n",
        "#plot the change in accuracy as we change the value of C\n",
        "fig, ax = plt.subplots(1,1)\n",
        "ax.plot(c_values, train_scores, label='Training Accuracy')\n",
        "ax.plot(c_values, test_scores, label='Testing Accuracy')\n",
        "ax.set_xticks(c_values)\n",
        "ax.set_title('Change in accuracy over C values for l2 regularization')\n",
        "ax.legend()\n",
        "#set the x axis to a logarithmic scale to show the values of C in even intervals\n",
        "ax.set_xscale('log')\n",
        "# print a dictionary of values of C and accuracy scores\n",
        "{c:score for c, score in zip(c_values, test_scores)}\n"
      ],
      "metadata": {
        "colab": {
          "base_uri": "https://localhost:8080/",
          "height": 432
        },
        "id": "Vwg2IY1oouxm",
        "outputId": "b67ef991-0287-4b1e-f164-37cb59df2fdd"
      },
      "execution_count": 399,
      "outputs": [
        {
          "output_type": "execute_result",
          "data": {
            "text/plain": [
              "{0.0001: 0.7137931034482758,\n",
              " 0.001: 0.7137931034482758,\n",
              " 0.01: 0.7275862068965517,\n",
              " 0.1: 0.7275862068965517,\n",
              " 1: 0.7344827586206897,\n",
              " 10: 0.7241379310344828,\n",
              " 100: 0.7241379310344828,\n",
              " 1000: 0.7241379310344828}"
            ]
          },
          "metadata": {},
          "execution_count": 399
        },
        {
          "output_type": "display_data",
          "data": {
            "text/plain": [
              "<Figure size 432x288 with 1 Axes>"
            ],
            "image/png": "[encoded data removed]"
          },
          "metadata": {
            "needs_background": "light"
          }
        }
      ]
    },
    {
      "cell_type": "markdown",
      "source": [
        "- According to this graph, we get the best accuracy on the test set when C=1. The accuracy is 0.734. The accuracy on our test set after L2 tuning is better than our default model and also better than the accuracy after L1 tuning. The test set accuracy of our default model is 0.693."
      ],
      "metadata": {
        "id": "45l7FqAwp7Bi"
      }
    },
    {
      "cell_type": "markdown",
      "source": [
        "We can see that our L2 tuned logistic regression model works best with a C value of 1.0."
      ],
      "metadata": {
        "id": "B6EKQ4aAqOiG"
      }
    },
    {
      "cell_type": "markdown",
      "source": [
        "**c) Confusion Matrices**\n",
        "\n",
        "- We will use C value of 1"
      ],
      "metadata": {
        "id": "0YMjtdPU5k5A"
      }
    },
    {
      "cell_type": "code",
      "source": [
        "# Make an instance of the model\n",
        "logregC = LogisticRegression(C = 1)\n",
        "# Create and fit pipeline\n",
        "logregC_pipe = make_pipeline(preprocessor, logreg)\n",
        "# Training the model on the data, storing the information learned from the data\n",
        "# Model is learning the relationship between X and y \n",
        "logregC_pipe.fit(X_train, y_train)\n",
        "# Save predictions \n",
        "logregC_train_predictions = logreg_pipe.predict(X_train)\n",
        "logregC_test_predictions = logreg_pipe.predict(X_test)"
      ],
      "metadata": {
        "id": "CMvIC1h26wyk"
      },
      "execution_count": 400,
      "outputs": []
    },
    {
      "cell_type": "code",
      "source": [
        "# \"The following Code (\"fig, ax\") adapted from: https://panjeh.medium.com/figure-size-plot-confusion-matrix-in-scikit-learn-2c66f3a69d81\"\n",
        "fig, ax = plt.subplots(figsize=(8, 4))\n",
        "ConfusionMatrixDisplay.from_predictions(y_test, logregC_test_predictions, cmap = 'Blues',  normalize = 'true', ax=ax)"
      ],
      "metadata": {
        "colab": {
          "base_uri": "https://localhost:8080/",
          "height": 297
        },
        "outputId": "270e4651-fa7b-4153-be9f-eb5cf4990fff",
        "id": "nD846KY05mF8"
      },
      "execution_count": 401,
      "outputs": [
        {
          "output_type": "execute_result",
          "data": {
            "text/plain": [
              "<sklearn.metrics._plot.confusion_matrix.ConfusionMatrixDisplay at 0x7fa3ffddc550>"
            ]
          },
          "metadata": {},
          "execution_count": 401
        },
        {
          "output_type": "display_data",
          "data": {
            "text/plain": [
              "<Figure size 576x288 with 2 Axes>"
            ],
            "image/png": "[encoded data removed]"
          },
          "metadata": {
            "needs_background": "light"
          }
        }
      ]
    },
    {
      "cell_type": "markdown",
      "source": [
        "Our optimized logistic regression model successfully classified 68% of the samples in our test set that were class 1 ('**Yes**' representing employee teams that met or exceeded their target productivity), and 72% of the samples in our test set that were class 0 ('**No**' employee teams that did not meet or exceed their target productivity)."
      ],
      "metadata": {
        "id": "v-SACQIO5mF9"
      }
    },
    {
      "cell_type": "markdown",
      "source": [
        "## 21) KNN"
      ],
      "metadata": {
        "id": "pS_Mp14Jqw7P"
      }
    },
    {
      "cell_type": "code",
      "source": [
        "#Create a pipeline with the preprocessed data (preprocessor) and a KNeighborsClassifier\n",
        "knn = KNeighborsClassifier(n_neighbors=1)\n",
        "knn_pipe = make_pipeline(preprocessor, knn)\n",
        "#Fit KNN model pipeline and save predictions test set\n",
        "knn_pipe.fit(X_train, y_train)\n",
        "knn_train_predictions = knn_pipe.predict(X_train)\n",
        "knn_test_predictions = knn_pipe.predict(X_test)"
      ],
      "metadata": {
        "id": "4hKUz_MWpOnl"
      },
      "execution_count": 403,
      "outputs": []
    },
    {
      "cell_type": "code",
      "source": [
        "# Run a classification report on both train and test datasets.\n",
        "print('Training Metrics')\n",
        "print(classification_report(y_train, knn_train_predictions, digits = 4))\n",
        "print('\\nTesting Metrics')\n",
        "print(classification_report(y_test, knn_test_predictions, digits = 4))"
      ],
      "metadata": {
        "colab": {
          "base_uri": "https://localhost:8080/"
        },
        "id": "hs4bUtppHxwI",
        "outputId": "bfdbd2bc-3832-4abc-d05e-a8e095b40957"
      },
      "execution_count": 404,
      "outputs": [
        {
          "output_type": "stream",
          "name": "stdout",
          "text": [
            "Training Metrics\n",
            "              precision    recall  f1-score   support\n",
            "\n",
            "           0     1.0000    1.0000    1.0000       237\n",
            "           1     1.0000    1.0000    1.0000       633\n",
            "\n",
            "    accuracy                         1.0000       870\n",
            "   macro avg     1.0000    1.0000    1.0000       870\n",
            "weighted avg     1.0000    1.0000    1.0000       870\n",
            "\n",
            "\n",
            "Testing Metrics\n",
            "              precision    recall  f1-score   support\n",
            "\n",
            "           0     0.5060    0.4941    0.5000        85\n",
            "           1     0.7923    0.8000    0.7961       205\n",
            "\n",
            "    accuracy                         0.7103       290\n",
            "   macro avg     0.6491    0.6471    0.6481       290\n",
            "weighted avg     0.7084    0.7103    0.7093       290\n",
            "\n"
          ]
        }
      ]
    },
    {
      "cell_type": "markdown",
      "source": [
        "- The results from the default KNN model are not good. The model did much better on the training set than the test set. This means the model is overfit. The accuracy, recall, precision and F1 scores were not very good on the testing set. Also, the accuracy on the testing set is slightlty less than the accuracy in the optimized logistic regression model. Let's see if we can improve results on the testing set by tuning hyperparameters."
      ],
      "metadata": {
        "id": "nSsloT6F2izT"
      }
    },
    {
      "cell_type": "markdown",
      "source": [
        "**a) GridSearchCV**"
      ],
      "metadata": {
        "id": "I_BdG66R3Fa-"
      }
    },
    {
      "cell_type": "code",
      "source": [
        "knn_pipe.get_params()"
      ],
      "metadata": {
        "colab": {
          "base_uri": "https://localhost:8080/"
        },
        "id": "pyo1lYua2wXB",
        "outputId": "2590427b-80d2-4055-b775-597c6d787709"
      },
      "execution_count": 405,
      "outputs": [
        {
          "output_type": "execute_result",
          "data": {
            "text/plain": [
              "{'columntransformer': ColumnTransformer(remainder='passthrough',\n",
              "                   transformers=[('pipeline',\n",
              "                                  Pipeline(steps=[('simpleimputer',\n",
              "                                                   SimpleImputer(strategy='median')),\n",
              "                                                  ('standardscaler',\n",
              "                                                   StandardScaler())]),\n",
              "                                  <sklearn.compose._column_transformer.make_column_selector object at 0x7fa4004217d0>),\n",
              "                                 ('onehotencoder',\n",
              "                                  OneHotEncoder(handle_unknown='ignore',\n",
              "                                                sparse=False),\n",
              "                                  <sklearn.compose._column_transformer.make_column_selector object at 0x7fa400421590>)]),\n",
              " 'columntransformer__n_jobs': None,\n",
              " 'columntransformer__onehotencoder': OneHotEncoder(handle_unknown='ignore', sparse=False),\n",
              " 'columntransformer__onehotencoder__categories': 'auto',\n",
              " 'columntransformer__onehotencoder__drop': None,\n",
              " 'columntransformer__onehotencoder__dtype': numpy.float64,\n",
              " 'columntransformer__onehotencoder__handle_unknown': 'ignore',\n",
              " 'columntransformer__onehotencoder__sparse': False,\n",
              " 'columntransformer__pipeline': Pipeline(steps=[('simpleimputer', SimpleImputer(strategy='median')),\n",
              "                 ('standardscaler', StandardScaler())]),\n",
              " 'columntransformer__pipeline__memory': None,\n",
              " 'columntransformer__pipeline__simpleimputer': SimpleImputer(strategy='median'),\n",
              " 'columntransformer__pipeline__simpleimputer__add_indicator': False,\n",
              " 'columntransformer__pipeline__simpleimputer__copy': True,\n",
              " 'columntransformer__pipeline__simpleimputer__fill_value': None,\n",
              " 'columntransformer__pipeline__simpleimputer__missing_values': nan,\n",
              " 'columntransformer__pipeline__simpleimputer__strategy': 'median',\n",
              " 'columntransformer__pipeline__simpleimputer__verbose': 0,\n",
              " 'columntransformer__pipeline__standardscaler': StandardScaler(),\n",
              " 'columntransformer__pipeline__standardscaler__copy': True,\n",
              " 'columntransformer__pipeline__standardscaler__with_mean': True,\n",
              " 'columntransformer__pipeline__standardscaler__with_std': True,\n",
              " 'columntransformer__pipeline__steps': [('simpleimputer',\n",
              "   SimpleImputer(strategy='median')),\n",
              "  ('standardscaler', StandardScaler())],\n",
              " 'columntransformer__pipeline__verbose': False,\n",
              " 'columntransformer__remainder': 'passthrough',\n",
              " 'columntransformer__sparse_threshold': 0.3,\n",
              " 'columntransformer__transformer_weights': None,\n",
              " 'columntransformer__transformers': [('pipeline',\n",
              "   Pipeline(steps=[('simpleimputer', SimpleImputer(strategy='median')),\n",
              "                   ('standardscaler', StandardScaler())]),\n",
              "   <sklearn.compose._column_transformer.make_column_selector at 0x7fa4004217d0>),\n",
              "  ('onehotencoder',\n",
              "   OneHotEncoder(handle_unknown='ignore', sparse=False),\n",
              "   <sklearn.compose._column_transformer.make_column_selector at 0x7fa400421590>)],\n",
              " 'columntransformer__verbose': False,\n",
              " 'columntransformer__verbose_feature_names_out': True,\n",
              " 'kneighborsclassifier': KNeighborsClassifier(n_neighbors=1),\n",
              " 'kneighborsclassifier__algorithm': 'auto',\n",
              " 'kneighborsclassifier__leaf_size': 30,\n",
              " 'kneighborsclassifier__metric': 'minkowski',\n",
              " 'kneighborsclassifier__metric_params': None,\n",
              " 'kneighborsclassifier__n_jobs': None,\n",
              " 'kneighborsclassifier__n_neighbors': 1,\n",
              " 'kneighborsclassifier__p': 2,\n",
              " 'kneighborsclassifier__weights': 'uniform',\n",
              " 'memory': None,\n",
              " 'steps': [('columntransformer', ColumnTransformer(remainder='passthrough',\n",
              "                     transformers=[('pipeline',\n",
              "                                    Pipeline(steps=[('simpleimputer',\n",
              "                                                     SimpleImputer(strategy='median')),\n",
              "                                                    ('standardscaler',\n",
              "                                                     StandardScaler())]),\n",
              "                                    <sklearn.compose._column_transformer.make_column_selector object at 0x7fa4004217d0>),\n",
              "                                   ('onehotencoder',\n",
              "                                    OneHotEncoder(handle_unknown='ignore',\n",
              "                                                  sparse=False),\n",
              "                                    <sklearn.compose._column_transformer.make_column_selector object at 0x7fa400421590>)])),\n",
              "  ('kneighborsclassifier', KNeighborsClassifier(n_neighbors=1))],\n",
              " 'verbose': False}"
            ]
          },
          "metadata": {},
          "execution_count": 405
        }
      ]
    },
    {
      "cell_type": "code",
      "source": [
        "#Parameters to tune\n",
        "params = {'kneighborsclassifier__n_neighbors': range(1, 20),\n",
        "          'kneighborsclassifier__weights': ['uniform', 'distance'],\n",
        "          'kneighborsclassifier__p': [2, 3, 4]}"
      ],
      "metadata": {
        "id": "2iwt7TmA3Jhr"
      },
      "execution_count": 406,
      "outputs": []
    },
    {
      "cell_type": "code",
      "source": [
        "# Instantiate a gridsearch with the KNN model and the hyperparamter dictionary\n",
        "knn_grid = GridSearchCV(knn_pipe, params)\n",
        "knn_grid.fit(X_train, y_train)"
      ],
      "metadata": {
        "colab": {
          "base_uri": "https://localhost:8080/",
          "height": 228
        },
        "id": "PJORl8Xt3fgo",
        "outputId": "44f130b5-af78-4da4-e351-3dd3bbafa230"
      },
      "execution_count": 407,
      "outputs": [
        {
          "output_type": "execute_result",
          "data": {
            "text/plain": [
              "GridSearchCV(estimator=Pipeline(steps=[('columntransformer',\n",
              "                                        ColumnTransformer(remainder='passthrough',\n",
              "                                                          transformers=[('pipeline',\n",
              "                                                                         Pipeline(steps=[('simpleimputer',\n",
              "                                                                                          SimpleImputer(strategy='median')),\n",
              "                                                                                         ('standardscaler',\n",
              "                                                                                          StandardScaler())]),\n",
              "                                                                         <sklearn.compose._column_transformer.make_column_selector object at 0x7fa4004217d0>),\n",
              "                                                                        ('onehotencoder',\n",
              "                                                                         OneHotEncoder(handle_unknown='ignore',\n",
              "                                                                                       sparse=False),\n",
              "                                                                         <sklearn.compose._column_transformer.make_column_selector object at 0x7fa400421590>)])),\n",
              "                                       ('kneighborsclassifier',\n",
              "                                        KNeighborsClassifier(n_neighbors=1))]),\n",
              "             param_grid={'kneighborsclassifier__n_neighbors': range(1, 20),\n",
              "                         'kneighborsclassifier__p': [2, 3, 4],\n",
              "                         'kneighborsclassifier__weights': ['uniform',\n",
              "                                                           'distance']})"
            ],
            "text/html": [
              "<style>#sk-0a2fee90-6578-49e4-bf41-cba263e46439 {color: black;background-color: white;}#sk-0a2fee90-6578-49e4-bf41-cba263e46439 pre{padding: 0;}#sk-0a2fee90-6578-49e4-bf41-cba263e46439 div.sk-toggleable {background-color: white;}#sk-0a2fee90-6578-49e4-bf41-cba263e46439 label.sk-toggleable__label {cursor: pointer;display: block;width: 100%;margin-bottom: 0;padding: 0.3em;box-sizing: border-box;text-align: center;}#sk-0a2fee90-6578-49e4-bf41-cba263e46439 label.sk-toggleable__label-arrow:before {content: \"▸\";float: left;margin-right: 0.25em;color: #696969;}#sk-0a2fee90-6578-49e4-bf41-cba263e46439 label.sk-toggleable__label-arrow:hover:before {color: black;}#sk-0a2fee90-6578-49e4-bf41-cba263e46439 div.sk-estimator:hover label.sk-toggleable__label-arrow:before {color: black;}#sk-0a2fee90-6578-49e4-bf41-cba263e46439 div.sk-toggleable__content {max-height: 0;max-width: 0;overflow: hidden;text-align: left;background-color: #f0f8ff;}#sk-0a2fee90-6578-49e4-bf41-cba263e46439 div.sk-toggleable__content pre {margin: 0.2em;color: black;border-radius: 0.25em;background-color: #f0f8ff;}#sk-0a2fee90-6578-49e4-bf41-cba263e46439 input.sk-toggleable__control:checked~div.sk-toggleable__content {max-height: 200px;max-width: 100%;overflow: auto;}#sk-0a2fee90-6578-49e4-bf41-cba263e46439 input.sk-toggleable__control:checked~label.sk-toggleable__label-arrow:before {content: \"▾\";}#sk-0a2fee90-6578-49e4-bf41-cba263e46439 div.sk-estimator input.sk-toggleable__control:checked~label.sk-toggleable__label {background-color: #d4ebff;}#sk-0a2fee90-6578-49e4-bf41-cba263e46439 div.sk-label input.sk-toggleable__control:checked~label.sk-toggleable__label {background-color: #d4ebff;}#sk-0a2fee90-6578-49e4-bf41-cba263e46439 input.sk-hidden--visually {border: 0;clip: rect(1px 1px 1px 1px);clip: rect(1px, 1px, 1px, 1px);height: 1px;margin: -1px;overflow: hidden;padding: 0;position: absolute;width: 1px;}#sk-0a2fee90-6578-49e4-bf41-cba263e46439 div.sk-estimator {font-family: monospace;background-color: #f0f8ff;border: 1px dotted black;border-radius: 0.25em;box-sizing: border-box;margin-bottom: 0.5em;}#sk-0a2fee90-6578-49e4-bf41-cba263e46439 div.sk-estimator:hover {background-color: #d4ebff;}#sk-0a2fee90-6578-49e4-bf41-cba263e46439 div.sk-parallel-item::after {content: \"\";width: 100%;border-bottom: 1px solid gray;flex-grow: 1;}#sk-0a2fee90-6578-49e4-bf41-cba263e46439 div.sk-label:hover label.sk-toggleable__label {background-color: #d4ebff;}#sk-0a2fee90-6578-49e4-bf41-cba263e46439 div.sk-serial::before {content: \"\";position: absolute;border-left: 1px solid gray;box-sizing: border-box;top: 2em;bottom: 0;left: 50%;}#sk-0a2fee90-6578-49e4-bf41-cba263e46439 div.sk-serial {display: flex;flex-direction: column;align-items: center;background-color: white;padding-right: 0.2em;padding-left: 0.2em;}#sk-0a2fee90-6578-49e4-bf41-cba263e46439 div.sk-item {z-index: 1;}#sk-0a2fee90-6578-49e4-bf41-cba263e46439 div.sk-parallel {display: flex;align-items: stretch;justify-content: center;background-color: white;}#sk-0a2fee90-6578-49e4-bf41-cba263e46439 div.sk-parallel::before {content: \"\";position: absolute;border-left: 1px solid gray;box-sizing: border-box;top: 2em;bottom: 0;left: 50%;}#sk-0a2fee90-6578-49e4-bf41-cba263e46439 div.sk-parallel-item {display: flex;flex-direction: column;position: relative;background-color: white;}#sk-0a2fee90-6578-49e4-bf41-cba263e46439 div.sk-parallel-item:first-child::after {align-self: flex-end;width: 50%;}#sk-0a2fee90-6578-49e4-bf41-cba263e46439 div.sk-parallel-item:last-child::after {align-self: flex-start;width: 50%;}#sk-0a2fee90-6578-49e4-bf41-cba263e46439 div.sk-parallel-item:only-child::after {width: 0;}#sk-0a2fee90-6578-49e4-bf41-cba263e46439 div.sk-dashed-wrapped {border: 1px dashed gray;margin: 0 0.4em 0.5em 0.4em;box-sizing: border-box;padding-bottom: 0.4em;background-color: white;position: relative;}#sk-0a2fee90-6578-49e4-bf41-cba263e46439 div.sk-label label {font-family: monospace;font-weight: bold;background-color: white;display: inline-block;line-height: 1.2em;}#sk-0a2fee90-6578-49e4-bf41-cba263e46439 div.sk-label-container {position: relative;z-index: 2;text-align: center;}#sk-0a2fee90-6578-49e4-bf41-cba263e46439 div.sk-container {/* jupyter's `normalize.less` sets `[hidden] { display: none; }` but bootstrap.min.css set `[hidden] { display: none !important; }` so we also need the `!important` here to be able to override the default hidden behavior on the sphinx rendered scikit-learn.org. See: https://github.com/scikit-learn/scikit-learn/issues/21755 */display: inline-block !important;position: relative;}#sk-0a2fee90-6578-49e4-bf41-cba263e46439 div.sk-text-repr-fallback {display: none;}</style><div id=\"sk-0a2fee90-6578-49e4-bf41-cba263e46439\" class=\"sk-top-container\"><div class=\"sk-text-repr-fallback\"><pre>GridSearchCV(estimator=Pipeline(steps=[(&#x27;columntransformer&#x27;,\n",
              "                                        ColumnTransformer(remainder=&#x27;passthrough&#x27;,\n",
              "                                                          transformers=[(&#x27;pipeline&#x27;,\n",
              "                                                                         Pipeline(steps=[(&#x27;simpleimputer&#x27;,\n",
              "                                                                                          SimpleImputer(strategy=&#x27;median&#x27;)),\n",
              "                                                                                         (&#x27;standardscaler&#x27;,\n",
              "                                                                                          StandardScaler())]),\n",
              "                                                                         &lt;sklearn.compose._column_transformer.make_column_selector object at 0x7fa4004217d0&gt;),\n",
              "                                                                        (&#x27;onehotencoder&#x27;,\n",
              "                                                                         OneHotEncoder(handle_unknown=&#x27;ignore&#x27;,\n",
              "                                                                                       sparse=False),\n",
              "                                                                         &lt;sklearn.compose._column_transformer.make_column_selector object at 0x7fa400421590&gt;)])),\n",
              "                                       (&#x27;kneighborsclassifier&#x27;,\n",
              "                                        KNeighborsClassifier(n_neighbors=1))]),\n",
              "             param_grid={&#x27;kneighborsclassifier__n_neighbors&#x27;: range(1, 20),\n",
              "                         &#x27;kneighborsclassifier__p&#x27;: [2, 3, 4],\n",
              "                         &#x27;kneighborsclassifier__weights&#x27;: [&#x27;uniform&#x27;,\n",
              "                                                           &#x27;distance&#x27;]})</pre><b>Please rerun this cell to show the HTML repr or trust the notebook.</b></div><div class=\"sk-container\" hidden><div class=\"sk-item sk-dashed-wrapped\"><div class=\"sk-label-container\"><div class=\"sk-label sk-toggleable\"><input class=\"sk-toggleable__control sk-hidden--visually\" id=\"8efe2203-a7c1-4af9-8a20-69ea5db2813f\" type=\"checkbox\" ><label for=\"8efe2203-a7c1-4af9-8a20-69ea5db2813f\" class=\"sk-toggleable__label sk-toggleable__label-arrow\">GridSearchCV</label><div class=\"sk-toggleable__content\"><pre>GridSearchCV(estimator=Pipeline(steps=[(&#x27;columntransformer&#x27;,\n",
              "                                        ColumnTransformer(remainder=&#x27;passthrough&#x27;,\n",
              "                                                          transformers=[(&#x27;pipeline&#x27;,\n",
              "                                                                         Pipeline(steps=[(&#x27;simpleimputer&#x27;,\n",
              "                                                                                          SimpleImputer(strategy=&#x27;median&#x27;)),\n",
              "                                                                                         (&#x27;standardscaler&#x27;,\n",
              "                                                                                          StandardScaler())]),\n",
              "                                                                         &lt;sklearn.compose._column_transformer.make_column_selector object at 0x7fa4004217d0&gt;),\n",
              "                                                                        (&#x27;onehotencoder&#x27;,\n",
              "                                                                         OneHotEncoder(handle_unknown=&#x27;ignore&#x27;,\n",
              "                                                                                       sparse=False),\n",
              "                                                                         &lt;sklearn.compose._column_transformer.make_column_selector object at 0x7fa400421590&gt;)])),\n",
              "                                       (&#x27;kneighborsclassifier&#x27;,\n",
              "                                        KNeighborsClassifier(n_neighbors=1))]),\n",
              "             param_grid={&#x27;kneighborsclassifier__n_neighbors&#x27;: range(1, 20),\n",
              "                         &#x27;kneighborsclassifier__p&#x27;: [2, 3, 4],\n",
              "                         &#x27;kneighborsclassifier__weights&#x27;: [&#x27;uniform&#x27;,\n",
              "                                                           &#x27;distance&#x27;]})</pre></div></div></div><div class=\"sk-parallel\"><div class=\"sk-parallel-item\"><div class=\"sk-item\"><div class=\"sk-serial\"><div class=\"sk-item\"><div class=\"sk-serial\"><div class=\"sk-item sk-dashed-wrapped\"><div class=\"sk-label-container\"><div class=\"sk-label sk-toggleable\"><input class=\"sk-toggleable__control sk-hidden--visually\" id=\"62166107-8173-405f-8e86-0148745944ed\" type=\"checkbox\" ><label for=\"62166107-8173-405f-8e86-0148745944ed\" class=\"sk-toggleable__label sk-toggleable__label-arrow\">columntransformer: ColumnTransformer</label><div class=\"sk-toggleable__content\"><pre>ColumnTransformer(remainder=&#x27;passthrough&#x27;,\n",
              "                  transformers=[(&#x27;pipeline&#x27;,\n",
              "                                 Pipeline(steps=[(&#x27;simpleimputer&#x27;,\n",
              "                                                  SimpleImputer(strategy=&#x27;median&#x27;)),\n",
              "                                                 (&#x27;standardscaler&#x27;,\n",
              "                                                  StandardScaler())]),\n",
              "                                 &lt;sklearn.compose._column_transformer.make_column_selector object at 0x7fa4004217d0&gt;),\n",
              "                                (&#x27;onehotencoder&#x27;,\n",
              "                                 OneHotEncoder(handle_unknown=&#x27;ignore&#x27;,\n",
              "                                               sparse=False),\n",
              "                                 &lt;sklearn.compose._column_transformer.make_column_selector object at 0x7fa400421590&gt;)])</pre></div></div></div><div class=\"sk-parallel\"><div class=\"sk-parallel-item\"><div class=\"sk-item\"><div class=\"sk-label-container\"><div class=\"sk-label sk-toggleable\"><input class=\"sk-toggleable__control sk-hidden--visually\" id=\"bb76d5fd-5d90-4f7f-bd35-ac0e00e1ac48\" type=\"checkbox\" ><label for=\"bb76d5fd-5d90-4f7f-bd35-ac0e00e1ac48\" class=\"sk-toggleable__label sk-toggleable__label-arrow\">pipeline</label><div class=\"sk-toggleable__content\"><pre>&lt;sklearn.compose._column_transformer.make_column_selector object at 0x7fa4004217d0&gt;</pre></div></div></div><div class=\"sk-serial\"><div class=\"sk-item\"><div class=\"sk-serial\"><div class=\"sk-item\"><div class=\"sk-estimator sk-toggleable\"><input class=\"sk-toggleable__control sk-hidden--visually\" id=\"7ec87b0a-f0e0-4962-963f-898b586cff0f\" type=\"checkbox\" ><label for=\"7ec87b0a-f0e0-4962-963f-898b586cff0f\" class=\"sk-toggleable__label sk-toggleable__label-arrow\">SimpleImputer</label><div class=\"sk-toggleable__content\"><pre>SimpleImputer(strategy=&#x27;median&#x27;)</pre></div></div></div><div class=\"sk-item\"><div class=\"sk-estimator sk-toggleable\"><input class=\"sk-toggleable__control sk-hidden--visually\" id=\"3a82b7f5-3f6f-4d6c-8345-a3840dc7a315\" type=\"checkbox\" ><label for=\"3a82b7f5-3f6f-4d6c-8345-a3840dc7a315\" class=\"sk-toggleable__label sk-toggleable__label-arrow\">StandardScaler</label><div class=\"sk-toggleable__content\"><pre>StandardScaler()</pre></div></div></div></div></div></div></div></div><div class=\"sk-parallel-item\"><div class=\"sk-item\"><div class=\"sk-label-container\"><div class=\"sk-label sk-toggleable\"><input class=\"sk-toggleable__control sk-hidden--visually\" id=\"0d1105cc-fbe0-4e29-aa30-694f308f4c43\" type=\"checkbox\" ><label for=\"0d1105cc-fbe0-4e29-aa30-694f308f4c43\" class=\"sk-toggleable__label sk-toggleable__label-arrow\">onehotencoder</label><div class=\"sk-toggleable__content\"><pre>&lt;sklearn.compose._column_transformer.make_column_selector object at 0x7fa400421590&gt;</pre></div></div></div><div class=\"sk-serial\"><div class=\"sk-item\"><div class=\"sk-estimator sk-toggleable\"><input class=\"sk-toggleable__control sk-hidden--visually\" id=\"b6c90069-0e43-4c44-9e1d-16d6ecdcdae7\" type=\"checkbox\" ><label for=\"b6c90069-0e43-4c44-9e1d-16d6ecdcdae7\" class=\"sk-toggleable__label sk-toggleable__label-arrow\">OneHotEncoder</label><div class=\"sk-toggleable__content\"><pre>OneHotEncoder(handle_unknown=&#x27;ignore&#x27;, sparse=False)</pre></div></div></div></div></div></div><div class=\"sk-parallel-item\"><div class=\"sk-item\"><div class=\"sk-label-container\"><div class=\"sk-label sk-toggleable\"><input class=\"sk-toggleable__control sk-hidden--visually\" id=\"89f77fb9-c12e-40ef-bc80-67fd2205b057\" type=\"checkbox\" ><label for=\"89f77fb9-c12e-40ef-bc80-67fd2205b057\" class=\"sk-toggleable__label sk-toggleable__label-arrow\">remainder</label><div class=\"sk-toggleable__content\"><pre>[]</pre></div></div></div><div class=\"sk-serial\"><div class=\"sk-item\"><div class=\"sk-estimator sk-toggleable\"><input class=\"sk-toggleable__control sk-hidden--visually\" id=\"8f968736-f0e1-42f7-a882-47bae23f103d\" type=\"checkbox\" ><label for=\"8f968736-f0e1-42f7-a882-47bae23f103d\" class=\"sk-toggleable__label sk-toggleable__label-arrow\">passthrough</label><div class=\"sk-toggleable__content\"><pre>passthrough</pre></div></div></div></div></div></div></div></div><div class=\"sk-item\"><div class=\"sk-estimator sk-toggleable\"><input class=\"sk-toggleable__control sk-hidden--visually\" id=\"10c76875-18d1-4469-94c0-913c3c334070\" type=\"checkbox\" ><label for=\"10c76875-18d1-4469-94c0-913c3c334070\" class=\"sk-toggleable__label sk-toggleable__label-arrow\">KNeighborsClassifier</label><div class=\"sk-toggleable__content\"><pre>KNeighborsClassifier(n_neighbors=1)</pre></div></div></div></div></div></div></div></div></div></div></div></div>"
            ]
          },
          "metadata": {},
          "execution_count": 407
        }
      ]
    },
    {
      "cell_type": "code",
      "source": [
        "# Check the optimal combinations of hyperparameters\n",
        "knn_grid.best_params_"
      ],
      "metadata": {
        "colab": {
          "base_uri": "https://localhost:8080/"
        },
        "id": "k5bZPeVZ4GDZ",
        "outputId": "f2b1e6c3-f627-4b91-a7b8-267fdc978e4d"
      },
      "execution_count": 408,
      "outputs": [
        {
          "output_type": "execute_result",
          "data": {
            "text/plain": [
              "{'kneighborsclassifier__n_neighbors': 11,\n",
              " 'kneighborsclassifier__p': 4,\n",
              " 'kneighborsclassifier__weights': 'uniform'}"
            ]
          },
          "metadata": {},
          "execution_count": 408
        }
      ]
    },
    {
      "cell_type": "code",
      "source": [
        "# extract the best version of the model from the gridsearch object\n",
        "best_knn = knn_grid.best_estimator_"
      ],
      "metadata": {
        "id": "gqcXJn_u4H2a"
      },
      "execution_count": 409,
      "outputs": []
    },
    {
      "cell_type": "code",
      "source": [
        "# Run a classification report on both train and test datasets for the best model. \n",
        "train_preds = best_knn.predict(X_train)\n",
        "test_preds = best_knn.predict(X_test)\n",
        "\n",
        "print('Best Model Training Metrics')\n",
        "print(classification_report(y_train, train_preds, digits = 4))\n",
        "print('\\nBest Model Testing Metrics')\n",
        "print(classification_report(y_test, test_preds, digits = 4))"
      ],
      "metadata": {
        "colab": {
          "base_uri": "https://localhost:8080/"
        },
        "id": "BSzyEA5z4LQm",
        "outputId": "8d90218e-3b1e-4086-b826-13361b8c87fa"
      },
      "execution_count": 410,
      "outputs": [
        {
          "output_type": "stream",
          "name": "stdout",
          "text": [
            "Best Model Training Metrics\n",
            "              precision    recall  f1-score   support\n",
            "\n",
            "           0     0.7613    0.4979    0.6020       237\n",
            "           1     0.8336    0.9415    0.8843       633\n",
            "\n",
            "    accuracy                         0.8207       870\n",
            "   macro avg     0.7974    0.7197    0.7432       870\n",
            "weighted avg     0.8139    0.8207    0.8074       870\n",
            "\n",
            "\n",
            "Best Model Testing Metrics\n",
            "              precision    recall  f1-score   support\n",
            "\n",
            "           0     0.6226    0.3882    0.4783        85\n",
            "           1     0.7806    0.9024    0.8371       205\n",
            "\n",
            "    accuracy                         0.7517       290\n",
            "   macro avg     0.7016    0.6453    0.6577       290\n",
            "weighted avg     0.7343    0.7517    0.7319       290\n",
            "\n"
          ]
        }
      ]
    },
    {
      "cell_type": "markdown",
      "source": [
        "- We can see from the above results that tuning our KNN model improved results for our testing set. The accuracy is higher in the tuned model than the default model. Also, there is much less overfitting."
      ],
      "metadata": {
        "id": "EL_ZRslL6wBc"
      }
    },
    {
      "cell_type": "markdown",
      "source": [
        "**b) Confusion Matrices**"
      ],
      "metadata": {
        "id": "9YjQhZPv7fq1"
      }
    },
    {
      "cell_type": "code",
      "source": [
        "# \"The following Code (\"fig, ax\") adapted from: https://panjeh.medium.com/figure-size-plot-confusion-matrix-in-scikit-learn-2c66f3a69d81\"\n",
        "fig, ax = plt.subplots(figsize=(8, 4))\n",
        "ConfusionMatrixDisplay.from_predictions(y_test, test_preds, cmap = 'Blues',  normalize = 'true', ax=ax)"
      ],
      "metadata": {
        "colab": {
          "base_uri": "https://localhost:8080/",
          "height": 301
        },
        "id": "IITE8-go5i3r",
        "outputId": "f35e0e69-7976-429d-9b7c-1af3020adaa9"
      },
      "execution_count": 411,
      "outputs": [
        {
          "output_type": "execute_result",
          "data": {
            "text/plain": [
              "<sklearn.metrics._plot.confusion_matrix.ConfusionMatrixDisplay at 0x7fa3ff495710>"
            ]
          },
          "metadata": {},
          "execution_count": 411
        },
        {
          "output_type": "display_data",
          "data": {
            "text/plain": [
              "<Figure size 576x288 with 2 Axes>"
            ],
            "image/png": "[encoded data removed]"
          },
          "metadata": {
            "needs_background": "light"
          }
        }
      ]
    },
    {
      "cell_type": "markdown",
      "source": [
        "Our optimized KNN model successfully classified 90% of the samples in our test set that were class 1 ('Yes' representing employee teams that met or exceeded their target productivity), and 39% of the samples in our test set that were class 0 ('No' representing employee teams that did not meet or exceed their target productivity)."
      ],
      "metadata": {
        "id": "BHmcQWw69xqY"
      }
    },
    {
      "cell_type": "markdown",
      "source": [
        "## 22. Random Forest Model"
      ],
      "metadata": {
        "id": "9MA5Y4JBGpL0"
      }
    },
    {
      "cell_type": "code",
      "source": [
        "#Create a pipeline with the preprocessed data (preprocessor) and RandomForestClassifier\n",
        "rf = RandomForestClassifier(random_state = 42, class_weight='balanced')\n",
        "rf_pipe = make_pipeline(preprocessor, rf)\n",
        "#Fit Random Forest model pipeline and save predictions test set\n",
        "rf_pipe.fit(X_train, y_train)\n",
        "rf_train_predictions = rf_pipe.predict(X_train)\n",
        "rf_test_predictions = rf_pipe.predict(X_test)"
      ],
      "metadata": {
        "id": "hCa9CDTy9jpP"
      },
      "execution_count": 422,
      "outputs": []
    },
    {
      "cell_type": "code",
      "source": [
        "# Run a classification report on both train and test datasets.\n",
        "print('Training Metrics')\n",
        "print(classification_report(y_train, rf_train_predictions, digits = 4))\n",
        "print('\\nTesting Metrics')\n",
        "print(classification_report(y_test, rf_test_predictions, digits = 4))"
      ],
      "metadata": {
        "colab": {
          "base_uri": "https://localhost:8080/"
        },
        "outputId": "27b7e70a-9179-476f-d58e-117fa40a8cae",
        "id": "swqt3dL1Nc_D"
      },
      "execution_count": 423,
      "outputs": [
        {
          "output_type": "stream",
          "name": "stdout",
          "text": [
            "Training Metrics\n",
            "              precision    recall  f1-score   support\n",
            "\n",
            "           0     1.0000    1.0000    1.0000       237\n",
            "           1     1.0000    1.0000    1.0000       633\n",
            "\n",
            "    accuracy                         1.0000       870\n",
            "   macro avg     1.0000    1.0000    1.0000       870\n",
            "weighted avg     1.0000    1.0000    1.0000       870\n",
            "\n",
            "\n",
            "Testing Metrics\n",
            "              precision    recall  f1-score   support\n",
            "\n",
            "           0     0.6571    0.5412    0.5935        85\n",
            "           1     0.8227    0.8829    0.8518       205\n",
            "\n",
            "    accuracy                         0.7828       290\n",
            "   macro avg     0.7399    0.7121    0.7227       290\n",
            "weighted avg     0.7742    0.7828    0.7761       290\n",
            "\n"
          ]
        }
      ]
    },
    {
      "cell_type": "markdown",
      "source": [
        "- TThe results from the default Random Forest model are not good. The model did much better on the training set than the test set. This means the model is overfit. The accuracy, recall, precision and F1 scores were not very good on the testing set. The accuracy on the testing set is slightlty greater than the accuracy in the optimized logistic regression model and the optimized KNN model though. Let's see if we can improve results on the testing set by tuning hyperparameters. "
      ],
      "metadata": {
        "id": "eiR3g1ssHxGY"
      }
    },
    {
      "cell_type": "markdown",
      "source": [
        "**a) GridSearchCV**"
      ],
      "metadata": {
        "id": "T5KGEz3-IOfv"
      }
    },
    {
      "cell_type": "code",
      "source": [
        "rf_pipe.get_params()"
      ],
      "metadata": {
        "colab": {
          "base_uri": "https://localhost:8080/"
        },
        "outputId": "f7fbc83c-25ea-4829-daf9-a0ac8d4995e1",
        "id": "OemIP5s6IOfv"
      },
      "execution_count": 424,
      "outputs": [
        {
          "output_type": "execute_result",
          "data": {
            "text/plain": [
              "{'columntransformer': ColumnTransformer(remainder='passthrough',\n",
              "                   transformers=[('pipeline',\n",
              "                                  Pipeline(steps=[('simpleimputer',\n",
              "                                                   SimpleImputer(strategy='median')),\n",
              "                                                  ('standardscaler',\n",
              "                                                   StandardScaler())]),\n",
              "                                  <sklearn.compose._column_transformer.make_column_selector object at 0x7fa4004217d0>),\n",
              "                                 ('onehotencoder',\n",
              "                                  OneHotEncoder(handle_unknown='ignore',\n",
              "                                                sparse=False),\n",
              "                                  <sklearn.compose._column_transformer.make_column_selector object at 0x7fa400421590>)]),\n",
              " 'columntransformer__n_jobs': None,\n",
              " 'columntransformer__onehotencoder': OneHotEncoder(handle_unknown='ignore', sparse=False),\n",
              " 'columntransformer__onehotencoder__categories': 'auto',\n",
              " 'columntransformer__onehotencoder__drop': None,\n",
              " 'columntransformer__onehotencoder__dtype': numpy.float64,\n",
              " 'columntransformer__onehotencoder__handle_unknown': 'ignore',\n",
              " 'columntransformer__onehotencoder__sparse': False,\n",
              " 'columntransformer__pipeline': Pipeline(steps=[('simpleimputer', SimpleImputer(strategy='median')),\n",
              "                 ('standardscaler', StandardScaler())]),\n",
              " 'columntransformer__pipeline__memory': None,\n",
              " 'columntransformer__pipeline__simpleimputer': SimpleImputer(strategy='median'),\n",
              " 'columntransformer__pipeline__simpleimputer__add_indicator': False,\n",
              " 'columntransformer__pipeline__simpleimputer__copy': True,\n",
              " 'columntransformer__pipeline__simpleimputer__fill_value': None,\n",
              " 'columntransformer__pipeline__simpleimputer__missing_values': nan,\n",
              " 'columntransformer__pipeline__simpleimputer__strategy': 'median',\n",
              " 'columntransformer__pipeline__simpleimputer__verbose': 0,\n",
              " 'columntransformer__pipeline__standardscaler': StandardScaler(),\n",
              " 'columntransformer__pipeline__standardscaler__copy': True,\n",
              " 'columntransformer__pipeline__standardscaler__with_mean': True,\n",
              " 'columntransformer__pipeline__standardscaler__with_std': True,\n",
              " 'columntransformer__pipeline__steps': [('simpleimputer',\n",
              "   SimpleImputer(strategy='median')),\n",
              "  ('standardscaler', StandardScaler())],\n",
              " 'columntransformer__pipeline__verbose': False,\n",
              " 'columntransformer__remainder': 'passthrough',\n",
              " 'columntransformer__sparse_threshold': 0.3,\n",
              " 'columntransformer__transformer_weights': None,\n",
              " 'columntransformer__transformers': [('pipeline',\n",
              "   Pipeline(steps=[('simpleimputer', SimpleImputer(strategy='median')),\n",
              "                   ('standardscaler', StandardScaler())]),\n",
              "   <sklearn.compose._column_transformer.make_column_selector at 0x7fa4004217d0>),\n",
              "  ('onehotencoder',\n",
              "   OneHotEncoder(handle_unknown='ignore', sparse=False),\n",
              "   <sklearn.compose._column_transformer.make_column_selector at 0x7fa400421590>)],\n",
              " 'columntransformer__verbose': False,\n",
              " 'columntransformer__verbose_feature_names_out': True,\n",
              " 'memory': None,\n",
              " 'randomforestclassifier': RandomForestClassifier(class_weight='balanced', random_state=42),\n",
              " 'randomforestclassifier__bootstrap': True,\n",
              " 'randomforestclassifier__ccp_alpha': 0.0,\n",
              " 'randomforestclassifier__class_weight': 'balanced',\n",
              " 'randomforestclassifier__criterion': 'gini',\n",
              " 'randomforestclassifier__max_depth': None,\n",
              " 'randomforestclassifier__max_features': 'auto',\n",
              " 'randomforestclassifier__max_leaf_nodes': None,\n",
              " 'randomforestclassifier__max_samples': None,\n",
              " 'randomforestclassifier__min_impurity_decrease': 0.0,\n",
              " 'randomforestclassifier__min_samples_leaf': 1,\n",
              " 'randomforestclassifier__min_samples_split': 2,\n",
              " 'randomforestclassifier__min_weight_fraction_leaf': 0.0,\n",
              " 'randomforestclassifier__n_estimators': 100,\n",
              " 'randomforestclassifier__n_jobs': None,\n",
              " 'randomforestclassifier__oob_score': False,\n",
              " 'randomforestclassifier__random_state': 42,\n",
              " 'randomforestclassifier__verbose': 0,\n",
              " 'randomforestclassifier__warm_start': False,\n",
              " 'steps': [('columntransformer', ColumnTransformer(remainder='passthrough',\n",
              "                     transformers=[('pipeline',\n",
              "                                    Pipeline(steps=[('simpleimputer',\n",
              "                                                     SimpleImputer(strategy='median')),\n",
              "                                                    ('standardscaler',\n",
              "                                                     StandardScaler())]),\n",
              "                                    <sklearn.compose._column_transformer.make_column_selector object at 0x7fa4004217d0>),\n",
              "                                   ('onehotencoder',\n",
              "                                    OneHotEncoder(handle_unknown='ignore',\n",
              "                                                  sparse=False),\n",
              "                                    <sklearn.compose._column_transformer.make_column_selector object at 0x7fa400421590>)])),\n",
              "  ('randomforestclassifier',\n",
              "   RandomForestClassifier(class_weight='balanced', random_state=42))],\n",
              " 'verbose': False}"
            ]
          },
          "metadata": {},
          "execution_count": 424
        }
      ]
    },
    {
      "cell_type": "code",
      "source": [
        "#Parameters to tune\n",
        "rf_params = {'randomforestclassifier__max_depth' : [None, 5],\n",
        "             'randomforestclassifier__n_estimators' : [100, 300, 500],\n",
        "             'randomforestclassifier__min_samples_split' : [2, 4]}"
      ],
      "metadata": {
        "id": "AFon6xavIOfw"
      },
      "execution_count": 425,
      "outputs": []
    },
    {
      "cell_type": "code",
      "source": [
        "# Instantiate a gridsearch with the Random Forest model and the hyperparameter dictionary\n",
        "rf_grid = GridSearchCV(rf_pipe, rf_params)\n",
        "rf_grid.fit(X_train, y_train)"
      ],
      "metadata": {
        "colab": {
          "base_uri": "https://localhost:8080/",
          "height": 228
        },
        "outputId": "0b55a29a-f738-4066-9426-41b0f6260dbd",
        "id": "JnnzaiLpIOfw"
      },
      "execution_count": 426,
      "outputs": [
        {
          "output_type": "execute_result",
          "data": {
            "text/plain": [
              "GridSearchCV(estimator=Pipeline(steps=[('columntransformer',\n",
              "                                        ColumnTransformer(remainder='passthrough',\n",
              "                                                          transformers=[('pipeline',\n",
              "                                                                         Pipeline(steps=[('simpleimputer',\n",
              "                                                                                          SimpleImputer(strategy='median')),\n",
              "                                                                                         ('standardscaler',\n",
              "                                                                                          StandardScaler())]),\n",
              "                                                                         <sklearn.compose._column_transformer.make_column_selector object at 0x7fa4004217d0>),\n",
              "                                                                        ('onehotencoder',\n",
              "                                                                         OneHotEncoder(hand...\n",
              "                                                                                       sparse=False),\n",
              "                                                                         <sklearn.compose._column_transformer.make_column_selector object at 0x7fa400421590>)])),\n",
              "                                       ('randomforestclassifier',\n",
              "                                        RandomForestClassifier(class_weight='balanced',\n",
              "                                                               random_state=42))]),\n",
              "             param_grid={'randomforestclassifier__max_depth': [None, 5],\n",
              "                         'randomforestclassifier__min_samples_split': [2, 4],\n",
              "                         'randomforestclassifier__n_estimators': [100, 300,\n",
              "                                                                  500]})"
            ],
            "text/html": [
              "<style>#sk-6533ff08-ccb3-4c17-b291-f6f5910e7eba {color: black;background-color: white;}#sk-6533ff08-ccb3-4c17-b291-f6f5910e7eba pre{padding: 0;}#sk-6533ff08-ccb3-4c17-b291-f6f5910e7eba div.sk-toggleable {background-color: white;}#sk-6533ff08-ccb3-4c17-b291-f6f5910e7eba label.sk-toggleable__label {cursor: pointer;display: block;width: 100%;margin-bottom: 0;padding: 0.3em;box-sizing: border-box;text-align: center;}#sk-6533ff08-ccb3-4c17-b291-f6f5910e7eba label.sk-toggleable__label-arrow:before {content: \"▸\";float: left;margin-right: 0.25em;color: #696969;}#sk-6533ff08-ccb3-4c17-b291-f6f5910e7eba label.sk-toggleable__label-arrow:hover:before {color: black;}#sk-6533ff08-ccb3-4c17-b291-f6f5910e7eba div.sk-estimator:hover label.sk-toggleable__label-arrow:before {color: black;}#sk-6533ff08-ccb3-4c17-b291-f6f5910e7eba div.sk-toggleable__content {max-height: 0;max-width: 0;overflow: hidden;text-align: left;background-color: #f0f8ff;}#sk-6533ff08-ccb3-4c17-b291-f6f5910e7eba div.sk-toggleable__content pre {margin: 0.2em;color: black;border-radius: 0.25em;background-color: #f0f8ff;}#sk-6533ff08-ccb3-4c17-b291-f6f5910e7eba input.sk-toggleable__control:checked~div.sk-toggleable__content {max-height: 200px;max-width: 100%;overflow: auto;}#sk-6533ff08-ccb3-4c17-b291-f6f5910e7eba input.sk-toggleable__control:checked~label.sk-toggleable__label-arrow:before {content: \"▾\";}#sk-6533ff08-ccb3-4c17-b291-f6f5910e7eba div.sk-estimator input.sk-toggleable__control:checked~label.sk-toggleable__label {background-color: #d4ebff;}#sk-6533ff08-ccb3-4c17-b291-f6f5910e7eba div.sk-label input.sk-toggleable__control:checked~label.sk-toggleable__label {background-color: #d4ebff;}#sk-6533ff08-ccb3-4c17-b291-f6f5910e7eba input.sk-hidden--visually {border: 0;clip: rect(1px 1px 1px 1px);clip: rect(1px, 1px, 1px, 1px);height: 1px;margin: -1px;overflow: hidden;padding: 0;position: absolute;width: 1px;}#sk-6533ff08-ccb3-4c17-b291-f6f5910e7eba div.sk-estimator {font-family: monospace;background-color: #f0f8ff;border: 1px dotted black;border-radius: 0.25em;box-sizing: border-box;margin-bottom: 0.5em;}#sk-6533ff08-ccb3-4c17-b291-f6f5910e7eba div.sk-estimator:hover {background-color: #d4ebff;}#sk-6533ff08-ccb3-4c17-b291-f6f5910e7eba div.sk-parallel-item::after {content: \"\";width: 100%;border-bottom: 1px solid gray;flex-grow: 1;}#sk-6533ff08-ccb3-4c17-b291-f6f5910e7eba div.sk-label:hover label.sk-toggleable__label {background-color: #d4ebff;}#sk-6533ff08-ccb3-4c17-b291-f6f5910e7eba div.sk-serial::before {content: \"\";position: absolute;border-left: 1px solid gray;box-sizing: border-box;top: 2em;bottom: 0;left: 50%;}#sk-6533ff08-ccb3-4c17-b291-f6f5910e7eba div.sk-serial {display: flex;flex-direction: column;align-items: center;background-color: white;padding-right: 0.2em;padding-left: 0.2em;}#sk-6533ff08-ccb3-4c17-b291-f6f5910e7eba div.sk-item {z-index: 1;}#sk-6533ff08-ccb3-4c17-b291-f6f5910e7eba div.sk-parallel {display: flex;align-items: stretch;justify-content: center;background-color: white;}#sk-6533ff08-ccb3-4c17-b291-f6f5910e7eba div.sk-parallel::before {content: \"\";position: absolute;border-left: 1px solid gray;box-sizing: border-box;top: 2em;bottom: 0;left: 50%;}#sk-6533ff08-ccb3-4c17-b291-f6f5910e7eba div.sk-parallel-item {display: flex;flex-direction: column;position: relative;background-color: white;}#sk-6533ff08-ccb3-4c17-b291-f6f5910e7eba div.sk-parallel-item:first-child::after {align-self: flex-end;width: 50%;}#sk-6533ff08-ccb3-4c17-b291-f6f5910e7eba div.sk-parallel-item:last-child::after {align-self: flex-start;width: 50%;}#sk-6533ff08-ccb3-4c17-b291-f6f5910e7eba div.sk-parallel-item:only-child::after {width: 0;}#sk-6533ff08-ccb3-4c17-b291-f6f5910e7eba div.sk-dashed-wrapped {border: 1px dashed gray;margin: 0 0.4em 0.5em 0.4em;box-sizing: border-box;padding-bottom: 0.4em;background-color: white;position: relative;}#sk-6533ff08-ccb3-4c17-b291-f6f5910e7eba div.sk-label label {font-family: monospace;font-weight: bold;background-color: white;display: inline-block;line-height: 1.2em;}#sk-6533ff08-ccb3-4c17-b291-f6f5910e7eba div.sk-label-container {position: relative;z-index: 2;text-align: center;}#sk-6533ff08-ccb3-4c17-b291-f6f5910e7eba div.sk-container {/* jupyter's `normalize.less` sets `[hidden] { display: none; }` but bootstrap.min.css set `[hidden] { display: none !important; }` so we also need the `!important` here to be able to override the default hidden behavior on the sphinx rendered scikit-learn.org. See: https://github.com/scikit-learn/scikit-learn/issues/21755 */display: inline-block !important;position: relative;}#sk-6533ff08-ccb3-4c17-b291-f6f5910e7eba div.sk-text-repr-fallback {display: none;}</style><div id=\"sk-6533ff08-ccb3-4c17-b291-f6f5910e7eba\" class=\"sk-top-container\"><div class=\"sk-text-repr-fallback\"><pre>GridSearchCV(estimator=Pipeline(steps=[(&#x27;columntransformer&#x27;,\n",
              "                                        ColumnTransformer(remainder=&#x27;passthrough&#x27;,\n",
              "                                                          transformers=[(&#x27;pipeline&#x27;,\n",
              "                                                                         Pipeline(steps=[(&#x27;simpleimputer&#x27;,\n",
              "                                                                                          SimpleImputer(strategy=&#x27;median&#x27;)),\n",
              "                                                                                         (&#x27;standardscaler&#x27;,\n",
              "                                                                                          StandardScaler())]),\n",
              "                                                                         &lt;sklearn.compose._column_transformer.make_column_selector object at 0x7fa4004217d0&gt;),\n",
              "                                                                        (&#x27;onehotencoder&#x27;,\n",
              "                                                                         OneHotEncoder(hand...\n",
              "                                                                                       sparse=False),\n",
              "                                                                         &lt;sklearn.compose._column_transformer.make_column_selector object at 0x7fa400421590&gt;)])),\n",
              "                                       (&#x27;randomforestclassifier&#x27;,\n",
              "                                        RandomForestClassifier(class_weight=&#x27;balanced&#x27;,\n",
              "                                                               random_state=42))]),\n",
              "             param_grid={&#x27;randomforestclassifier__max_depth&#x27;: [None, 5],\n",
              "                         &#x27;randomforestclassifier__min_samples_split&#x27;: [2, 4],\n",
              "                         &#x27;randomforestclassifier__n_estimators&#x27;: [100, 300,\n",
              "                                                                  500]})</pre><b>Please rerun this cell to show the HTML repr or trust the notebook.</b></div><div class=\"sk-container\" hidden><div class=\"sk-item sk-dashed-wrapped\"><div class=\"sk-label-container\"><div class=\"sk-label sk-toggleable\"><input class=\"sk-toggleable__control sk-hidden--visually\" id=\"028ca414-6b74-4f09-8b26-41c68b275a98\" type=\"checkbox\" ><label for=\"028ca414-6b74-4f09-8b26-41c68b275a98\" class=\"sk-toggleable__label sk-toggleable__label-arrow\">GridSearchCV</label><div class=\"sk-toggleable__content\"><pre>GridSearchCV(estimator=Pipeline(steps=[(&#x27;columntransformer&#x27;,\n",
              "                                        ColumnTransformer(remainder=&#x27;passthrough&#x27;,\n",
              "                                                          transformers=[(&#x27;pipeline&#x27;,\n",
              "                                                                         Pipeline(steps=[(&#x27;simpleimputer&#x27;,\n",
              "                                                                                          SimpleImputer(strategy=&#x27;median&#x27;)),\n",
              "                                                                                         (&#x27;standardscaler&#x27;,\n",
              "                                                                                          StandardScaler())]),\n",
              "                                                                         &lt;sklearn.compose._column_transformer.make_column_selector object at 0x7fa4004217d0&gt;),\n",
              "                                                                        (&#x27;onehotencoder&#x27;,\n",
              "                                                                         OneHotEncoder(hand...\n",
              "                                                                                       sparse=False),\n",
              "                                                                         &lt;sklearn.compose._column_transformer.make_column_selector object at 0x7fa400421590&gt;)])),\n",
              "                                       (&#x27;randomforestclassifier&#x27;,\n",
              "                                        RandomForestClassifier(class_weight=&#x27;balanced&#x27;,\n",
              "                                                               random_state=42))]),\n",
              "             param_grid={&#x27;randomforestclassifier__max_depth&#x27;: [None, 5],\n",
              "                         &#x27;randomforestclassifier__min_samples_split&#x27;: [2, 4],\n",
              "                         &#x27;randomforestclassifier__n_estimators&#x27;: [100, 300,\n",
              "                                                                  500]})</pre></div></div></div><div class=\"sk-parallel\"><div class=\"sk-parallel-item\"><div class=\"sk-item\"><div class=\"sk-serial\"><div class=\"sk-item\"><div class=\"sk-serial\"><div class=\"sk-item sk-dashed-wrapped\"><div class=\"sk-label-container\"><div class=\"sk-label sk-toggleable\"><input class=\"sk-toggleable__control sk-hidden--visually\" id=\"9b031bae-c133-4ff0-8f9c-d7a18426c736\" type=\"checkbox\" ><label for=\"9b031bae-c133-4ff0-8f9c-d7a18426c736\" class=\"sk-toggleable__label sk-toggleable__label-arrow\">columntransformer: ColumnTransformer</label><div class=\"sk-toggleable__content\"><pre>ColumnTransformer(remainder=&#x27;passthrough&#x27;,\n",
              "                  transformers=[(&#x27;pipeline&#x27;,\n",
              "                                 Pipeline(steps=[(&#x27;simpleimputer&#x27;,\n",
              "                                                  SimpleImputer(strategy=&#x27;median&#x27;)),\n",
              "                                                 (&#x27;standardscaler&#x27;,\n",
              "                                                  StandardScaler())]),\n",
              "                                 &lt;sklearn.compose._column_transformer.make_column_selector object at 0x7fa4004217d0&gt;),\n",
              "                                (&#x27;onehotencoder&#x27;,\n",
              "                                 OneHotEncoder(handle_unknown=&#x27;ignore&#x27;,\n",
              "                                               sparse=False),\n",
              "                                 &lt;sklearn.compose._column_transformer.make_column_selector object at 0x7fa400421590&gt;)])</pre></div></div></div><div class=\"sk-parallel\"><div class=\"sk-parallel-item\"><div class=\"sk-item\"><div class=\"sk-label-container\"><div class=\"sk-label sk-toggleable\"><input class=\"sk-toggleable__control sk-hidden--visually\" id=\"be187151-7154-4441-b0c5-e628b3aa25fc\" type=\"checkbox\" ><label for=\"be187151-7154-4441-b0c5-e628b3aa25fc\" class=\"sk-toggleable__label sk-toggleable__label-arrow\">pipeline</label><div class=\"sk-toggleable__content\"><pre>&lt;sklearn.compose._column_transformer.make_column_selector object at 0x7fa4004217d0&gt;</pre></div></div></div><div class=\"sk-serial\"><div class=\"sk-item\"><div class=\"sk-serial\"><div class=\"sk-item\"><div class=\"sk-estimator sk-toggleable\"><input class=\"sk-toggleable__control sk-hidden--visually\" id=\"39412476-4308-4528-bca7-bd4a977c3b7f\" type=\"checkbox\" ><label for=\"39412476-4308-4528-bca7-bd4a977c3b7f\" class=\"sk-toggleable__label sk-toggleable__label-arrow\">SimpleImputer</label><div class=\"sk-toggleable__content\"><pre>SimpleImputer(strategy=&#x27;median&#x27;)</pre></div></div></div><div class=\"sk-item\"><div class=\"sk-estimator sk-toggleable\"><input class=\"sk-toggleable__control sk-hidden--visually\" id=\"cc97d001-bcdc-4e85-be93-5c8e62a72fef\" type=\"checkbox\" ><label for=\"cc97d001-bcdc-4e85-be93-5c8e62a72fef\" class=\"sk-toggleable__label sk-toggleable__label-arrow\">StandardScaler</label><div class=\"sk-toggleable__content\"><pre>StandardScaler()</pre></div></div></div></div></div></div></div></div><div class=\"sk-parallel-item\"><div class=\"sk-item\"><div class=\"sk-label-container\"><div class=\"sk-label sk-toggleable\"><input class=\"sk-toggleable__control sk-hidden--visually\" id=\"78e6c282-7c2d-4d28-ab17-88aa62d1cdf3\" type=\"checkbox\" ><label for=\"78e6c282-7c2d-4d28-ab17-88aa62d1cdf3\" class=\"sk-toggleable__label sk-toggleable__label-arrow\">onehotencoder</label><div class=\"sk-toggleable__content\"><pre>&lt;sklearn.compose._column_transformer.make_column_selector object at 0x7fa400421590&gt;</pre></div></div></div><div class=\"sk-serial\"><div class=\"sk-item\"><div class=\"sk-estimator sk-toggleable\"><input class=\"sk-toggleable__control sk-hidden--visually\" id=\"eced8879-f722-4177-a249-494a5c6fb3bb\" type=\"checkbox\" ><label for=\"eced8879-f722-4177-a249-494a5c6fb3bb\" class=\"sk-toggleable__label sk-toggleable__label-arrow\">OneHotEncoder</label><div class=\"sk-toggleable__content\"><pre>OneHotEncoder(handle_unknown=&#x27;ignore&#x27;, sparse=False)</pre></div></div></div></div></div></div><div class=\"sk-parallel-item\"><div class=\"sk-item\"><div class=\"sk-label-container\"><div class=\"sk-label sk-toggleable\"><input class=\"sk-toggleable__control sk-hidden--visually\" id=\"13b29972-9e89-4a94-b18e-2698238896b5\" type=\"checkbox\" ><label for=\"13b29972-9e89-4a94-b18e-2698238896b5\" class=\"sk-toggleable__label sk-toggleable__label-arrow\">remainder</label><div class=\"sk-toggleable__content\"><pre>[]</pre></div></div></div><div class=\"sk-serial\"><div class=\"sk-item\"><div class=\"sk-estimator sk-toggleable\"><input class=\"sk-toggleable__control sk-hidden--visually\" id=\"c5fb853b-3163-4d73-aaf9-438e90e03cab\" type=\"checkbox\" ><label for=\"c5fb853b-3163-4d73-aaf9-438e90e03cab\" class=\"sk-toggleable__label sk-toggleable__label-arrow\">passthrough</label><div class=\"sk-toggleable__content\"><pre>passthrough</pre></div></div></div></div></div></div></div></div><div class=\"sk-item\"><div class=\"sk-estimator sk-toggleable\"><input class=\"sk-toggleable__control sk-hidden--visually\" id=\"7a3f6932-0dea-413a-bf3e-bbf15925a1df\" type=\"checkbox\" ><label for=\"7a3f6932-0dea-413a-bf3e-bbf15925a1df\" class=\"sk-toggleable__label sk-toggleable__label-arrow\">RandomForestClassifier</label><div class=\"sk-toggleable__content\"><pre>RandomForestClassifier(class_weight=&#x27;balanced&#x27;, random_state=42)</pre></div></div></div></div></div></div></div></div></div></div></div></div>"
            ]
          },
          "metadata": {},
          "execution_count": 426
        }
      ]
    },
    {
      "cell_type": "code",
      "source": [
        "# Check the optimal combinations of hyperparameters\n",
        "rf_grid.best_params_"
      ],
      "metadata": {
        "colab": {
          "base_uri": "https://localhost:8080/"
        },
        "outputId": "1362f208-1231-4be9-944d-e2ddad0b633c",
        "id": "GLCFV69qIOfw"
      },
      "execution_count": 427,
      "outputs": [
        {
          "output_type": "execute_result",
          "data": {
            "text/plain": [
              "{'randomforestclassifier__max_depth': None,\n",
              " 'randomforestclassifier__min_samples_split': 2,\n",
              " 'randomforestclassifier__n_estimators': 500}"
            ]
          },
          "metadata": {},
          "execution_count": 427
        }
      ]
    },
    {
      "cell_type": "code",
      "source": [
        "# extract the best version of the model from the gridsearch object\n",
        "best_rf = rf_grid.best_estimator_"
      ],
      "metadata": {
        "id": "u8sMMbY0IOfw"
      },
      "execution_count": 428,
      "outputs": []
    },
    {
      "cell_type": "code",
      "source": [
        "# Run a classification report on both train and test datasets for the best model. \n",
        "train_rf_preds = best_rf.predict(X_train)\n",
        "test_rf_preds = best_rf.predict(X_test)\n",
        "\n",
        "print('Best Model Training Metrics')\n",
        "print(classification_report(y_train, train_rf_preds, digits = 4))\n",
        "print('\\nBest Model Testing Metrics')\n",
        "print(classification_report(y_test, test_rf_preds, digits = 4))"
      ],
      "metadata": {
        "colab": {
          "base_uri": "https://localhost:8080/"
        },
        "outputId": "08ef956a-62cf-49ab-aafa-dc6907e7adc6",
        "id": "YaCkURM7IOfw"
      },
      "execution_count": 429,
      "outputs": [
        {
          "output_type": "stream",
          "name": "stdout",
          "text": [
            "Best Model Training Metrics\n",
            "              precision    recall  f1-score   support\n",
            "\n",
            "           0     1.0000    1.0000    1.0000       237\n",
            "           1     1.0000    1.0000    1.0000       633\n",
            "\n",
            "    accuracy                         1.0000       870\n",
            "   macro avg     1.0000    1.0000    1.0000       870\n",
            "weighted avg     1.0000    1.0000    1.0000       870\n",
            "\n",
            "\n",
            "Best Model Testing Metrics\n",
            "              precision    recall  f1-score   support\n",
            "\n",
            "           0     0.6712    0.5765    0.6203        85\n",
            "           1     0.8341    0.8829    0.8578       205\n",
            "\n",
            "    accuracy                         0.7931       290\n",
            "   macro avg     0.7527    0.7297    0.7390       290\n",
            "weighted avg     0.7864    0.7931    0.7882       290\n",
            "\n"
          ]
        }
      ]
    },
    {
      "cell_type": "markdown",
      "source": [
        "- We can see from the above results that tuning our Random Forest model only slightly improved results by improving the testing scores. This model is still very overfit though"
      ],
      "metadata": {
        "id": "AKjfszZiLtFC"
      }
    },
    {
      "cell_type": "markdown",
      "source": [
        "**b) Confusion Matrices**"
      ],
      "metadata": {
        "id": "ssxwVr24IOfx"
      }
    },
    {
      "cell_type": "code",
      "source": [
        "# \"The following Code (\"fig, ax\") adapted from: https://panjeh.medium.com/figure-size-plot-confusion-matrix-in-scikit-learn-2c66f3a69d81\"\n",
        "fig, ax = plt.subplots(figsize=(8, 4))\n",
        "ConfusionMatrixDisplay.from_predictions(y_test, test_rf_preds, cmap = 'Blues',  normalize = 'true', ax=ax)"
      ],
      "metadata": {
        "colab": {
          "base_uri": "https://localhost:8080/",
          "height": 297
        },
        "outputId": "f9563b1c-a3ef-4a42-a9a7-5e2029ca8d47",
        "id": "eX4WaX0zIOfx"
      },
      "execution_count": 430,
      "outputs": [
        {
          "output_type": "execute_result",
          "data": {
            "text/plain": [
              "<sklearn.metrics._plot.confusion_matrix.ConfusionMatrixDisplay at 0x7fa3ffcd5110>"
            ]
          },
          "metadata": {},
          "execution_count": 430
        },
        {
          "output_type": "display_data",
          "data": {
            "text/plain": [
              "<Figure size 576x288 with 2 Axes>"
            ],
            "image/png": "[encoded data removed]"
          },
          "metadata": {
            "needs_background": "light"
          }
        }
      ]
    },
    {
      "cell_type": "markdown",
      "source": [
        "Our optimized Random Forest model successfully classified 88% of the samples in our test set that were class 1 ('Yes' representing employee teams that met or exceeded their target productivity), and 58% of the samples in our test set that were class 0 ('No' representing employee teams that did not meet or exceed their target productivity)."
      ],
      "metadata": {
        "id": "-sXDEQ0nR4sN"
      }
    },
    {
      "cell_type": "markdown",
      "source": [
        "## 23. Choose one final model.\n",
        "\n",
        "- All the models had some level of overfitting. The accuracy scores for all models were not that great, but were not terrible either.\n",
        "\n",
        "- I have chosen the optimized KNN model because it's the model with the least overfitting. It's training accuracy score was 0.8207 and its testing accuracy score was 0.7517. It's testing score is also not significantly different from the testing scores of the optimized logistic regression model and optimized Random Forest model.\n",
        "\n",
        "- Also, based on the confusion matrices, the KNN model was better at identifying employee teams that met or exceeded their target productivty, which is important for this problem. The KNN model was able to successfully classify 90% of the samples in our test set that were class 1 ('Yes' representing employee teams that met or exceeded their target productivity).\n",
        "\n",
        "- As a result of the above reasons, I would choose the KNN model."
      ],
      "metadata": {
        "id": "OQ2RHW_tK85g"
      }
    },
    {
      "cell_type": "code",
      "source": [
        ""
      ],
      "metadata": {
        "id": "50WJ_mpEPNW3"
      },
      "execution_count": null,
      "outputs": []
    }
  ]
}