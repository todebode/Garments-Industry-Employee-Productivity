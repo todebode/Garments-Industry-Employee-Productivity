{
  "nbformat": 4,
  "nbformat_minor": 0,
  "metadata": {
    "colab": {
      "name": "Garment Industry Employee Productivity.ipynb",
      "provenance": [],
      "collapsed_sections": [],
      "authorship_tag": "ABX9TyOZ2is4SAKeKyewDeW0WJmp",
      "include_colab_link": true
    },
    "kernelspec": {
      "name": "python3",
      "display_name": "Python 3"
    },
    "language_info": {
      "name": "python"
    }
  },
  "cells": [
    {
      "cell_type": "markdown",
      "metadata": {
        "id": "view-in-github",
        "colab_type": "text"
      },
      "source": [
        "<a href=\"https://colab.research.google.com/github/todebode/Garments-employee-productivity/blob/main/Garment_Industry_Employee_Productivity.ipynb\" target=\"_parent\"><img src=\"https://colab.research.google.com/assets/colab-badge.svg\" alt=\"Open In Colab\"/></a>"
      ]
    },
    {
      "cell_type": "markdown",
      "source": [
        "# Garment Industry Employee Productivity\n",
        "\n",
        "Tijesunimi Odebode\n",
        "\n",
        "04/02/2022"
      ],
      "metadata": {
        "id": "Fh9K3W-JYkrC"
      }
    },
    {
      "cell_type": "code",
      "source": [
        "from google.colab import drive\n",
        "drive.mount('/content/drive')"
      ],
      "metadata": {
        "colab": {
          "base_uri": "https://localhost:8080/"
        },
        "id": "21UR13b8ZVDo",
        "outputId": "d26728bf-1365-4702-8ec7-eae581df112a"
      },
      "execution_count": 633,
      "outputs": [
        {
          "output_type": "stream",
          "name": "stdout",
          "text": [
            "Drive already mounted at /content/drive; to attempt to forcibly remount, call drive.mount(\"/content/drive\", force_remount=True).\n"
          ]
        }
      ]
    },
    {
      "cell_type": "markdown",
      "source": [
        "## 1. Import necessary packages"
      ],
      "metadata": {
        "id": "DN7FDr2SZGah"
      }
    },
    {
      "cell_type": "code",
      "source": [
        "import pandas as pd\n",
        "import numpy as np\n",
        "import matplotlib.pyplot as plt\n",
        "import seaborn as sns\n",
        "from sklearn.model_selection import train_test_split\n",
        "from sklearn.compose import make_column_transformer, make_column_selector\n",
        "from sklearn.preprocessing import StandardScaler, OneHotEncoder\n",
        "from sklearn.impute import SimpleImputer\n",
        "from sklearn.pipeline import make_pipeline\n",
        "from sklearn import set_config\n",
        "set_config(display='diagram')\n",
        "from sklearn.model_selection import GridSearchCV, RandomizedSearchCV\n",
        "#Importing the KNN Classifier\n",
        "from sklearn.neighbors import KNeighborsClassifier\n",
        "# Import random forest Classifier\n",
        "from sklearn.ensemble import RandomForestClassifier\n",
        "# Import Logistic Regression\n",
        "from sklearn.linear_model import LogisticRegression\n",
        "#import accuracy, precision, recall, classification report, and confusion matrix scoring functions\n",
        "from sklearn.metrics import accuracy_score, precision_score, f1_score, recall_score, classification_report, confusion_matrix, ConfusionMatrixDisplay"
      ],
      "metadata": {
        "id": "H4Mjes3j3CNp"
      },
      "execution_count": 634,
      "outputs": []
    },
    {
      "cell_type": "markdown",
      "source": [
        "## 2. Load and verify data"
      ],
      "metadata": {
        "id": "xYjbObBc3oWw"
      }
    },
    {
      "cell_type": "code",
      "source": [
        "filename = '/content/drive/MyDrive/Coding Dojo Bootcamp/Data/garments_worker_productivity.xlsx'\n",
        "garm_prod = pd.read_excel(filename)\n",
        "garm_prod.head()"
      ],
      "metadata": {
        "colab": {
          "base_uri": "https://localhost:8080/",
          "height": 357
        },
        "id": "XPF5Unpb2nOz",
        "outputId": "127892ba-536e-46b7-a94b-c3a5ee1fb933"
      },
      "execution_count": 635,
      "outputs": [
        {
          "output_type": "execute_result",
          "data": {
            "text/plain": [
              "        date   quarter  department       day  team  targeted_productivity  \\\n",
              "0 2015-01-01  Quarter1      sweing  Thursday     8                   0.80   \n",
              "1 2015-01-01  Quarter1  finishing   Thursday     1                   0.75   \n",
              "2 2015-01-01  Quarter1      sweing  Thursday    11                   0.80   \n",
              "3 2015-01-01  Quarter1      sweing  Thursday    12                   0.80   \n",
              "4 2015-01-01  Quarter1      sweing  Thursday     6                   0.80   \n",
              "\n",
              "     smv     wip  over_time  incentive  idle_time  idle_men  \\\n",
              "0  26.16  1108.0       7080         98        0.0         0   \n",
              "1   3.94     NaN        960          0        0.0         0   \n",
              "2  11.41   968.0       3660         50        0.0         0   \n",
              "3  11.41   968.0       3660         50        0.0         0   \n",
              "4  25.90  1170.0       1920         50        0.0         0   \n",
              "\n",
              "   no_of_style_change  no_of_workers  actual_productivity  \n",
              "0                   0           59.0             0.940725  \n",
              "1                   0            8.0             0.886500  \n",
              "2                   0           30.5             0.800570  \n",
              "3                   0           30.5             0.800570  \n",
              "4                   0           56.0             0.800382  "
            ],
            "text/html": [
              "\n",
              "  <div id=\"df-d84e1cd6-8f96-4139-bc9f-7dce7a021a0a\">\n",
              "    <div class=\"colab-df-container\">\n",
              "      <div>\n",
              "<style scoped>\n",
              "    .dataframe tbody tr th:only-of-type {\n",
              "        vertical-align: middle;\n",
              "    }\n",
              "\n",
              "    .dataframe tbody tr th {\n",
              "        vertical-align: top;\n",
              "    }\n",
              "\n",
              "    .dataframe thead th {\n",
              "        text-align: right;\n",
              "    }\n",
              "</style>\n",
              "<table border=\"1\" class=\"dataframe\">\n",
              "  <thead>\n",
              "    <tr style=\"text-align: right;\">\n",
              "      <th></th>\n",
              "      <th>date</th>\n",
              "      <th>quarter</th>\n",
              "      <th>department</th>\n",
              "      <th>day</th>\n",
              "      <th>team</th>\n",
              "      <th>targeted_productivity</th>\n",
              "      <th>smv</th>\n",
              "      <th>wip</th>\n",
              "      <th>over_time</th>\n",
              "      <th>incentive</th>\n",
              "      <th>idle_time</th>\n",
              "      <th>idle_men</th>\n",
              "      <th>no_of_style_change</th>\n",
              "      <th>no_of_workers</th>\n",
              "      <th>actual_productivity</th>\n",
              "    </tr>\n",
              "  </thead>\n",
              "  <tbody>\n",
              "    <tr>\n",
              "      <th>0</th>\n",
              "      <td>2015-01-01</td>\n",
              "      <td>Quarter1</td>\n",
              "      <td>sweing</td>\n",
              "      <td>Thursday</td>\n",
              "      <td>8</td>\n",
              "      <td>0.80</td>\n",
              "      <td>26.16</td>\n",
              "      <td>1108.0</td>\n",
              "      <td>7080</td>\n",
              "      <td>98</td>\n",
              "      <td>0.0</td>\n",
              "      <td>0</td>\n",
              "      <td>0</td>\n",
              "      <td>59.0</td>\n",
              "      <td>0.940725</td>\n",
              "    </tr>\n",
              "    <tr>\n",
              "      <th>1</th>\n",
              "      <td>2015-01-01</td>\n",
              "      <td>Quarter1</td>\n",
              "      <td>finishing</td>\n",
              "      <td>Thursday</td>\n",
              "      <td>1</td>\n",
              "      <td>0.75</td>\n",
              "      <td>3.94</td>\n",
              "      <td>NaN</td>\n",
              "      <td>960</td>\n",
              "      <td>0</td>\n",
              "      <td>0.0</td>\n",
              "      <td>0</td>\n",
              "      <td>0</td>\n",
              "      <td>8.0</td>\n",
              "      <td>0.886500</td>\n",
              "    </tr>\n",
              "    <tr>\n",
              "      <th>2</th>\n",
              "      <td>2015-01-01</td>\n",
              "      <td>Quarter1</td>\n",
              "      <td>sweing</td>\n",
              "      <td>Thursday</td>\n",
              "      <td>11</td>\n",
              "      <td>0.80</td>\n",
              "      <td>11.41</td>\n",
              "      <td>968.0</td>\n",
              "      <td>3660</td>\n",
              "      <td>50</td>\n",
              "      <td>0.0</td>\n",
              "      <td>0</td>\n",
              "      <td>0</td>\n",
              "      <td>30.5</td>\n",
              "      <td>0.800570</td>\n",
              "    </tr>\n",
              "    <tr>\n",
              "      <th>3</th>\n",
              "      <td>2015-01-01</td>\n",
              "      <td>Quarter1</td>\n",
              "      <td>sweing</td>\n",
              "      <td>Thursday</td>\n",
              "      <td>12</td>\n",
              "      <td>0.80</td>\n",
              "      <td>11.41</td>\n",
              "      <td>968.0</td>\n",
              "      <td>3660</td>\n",
              "      <td>50</td>\n",
              "      <td>0.0</td>\n",
              "      <td>0</td>\n",
              "      <td>0</td>\n",
              "      <td>30.5</td>\n",
              "      <td>0.800570</td>\n",
              "    </tr>\n",
              "    <tr>\n",
              "      <th>4</th>\n",
              "      <td>2015-01-01</td>\n",
              "      <td>Quarter1</td>\n",
              "      <td>sweing</td>\n",
              "      <td>Thursday</td>\n",
              "      <td>6</td>\n",
              "      <td>0.80</td>\n",
              "      <td>25.90</td>\n",
              "      <td>1170.0</td>\n",
              "      <td>1920</td>\n",
              "      <td>50</td>\n",
              "      <td>0.0</td>\n",
              "      <td>0</td>\n",
              "      <td>0</td>\n",
              "      <td>56.0</td>\n",
              "      <td>0.800382</td>\n",
              "    </tr>\n",
              "  </tbody>\n",
              "</table>\n",
              "</div>\n",
              "      <button class=\"colab-df-convert\" onclick=\"convertToInteractive('df-d84e1cd6-8f96-4139-bc9f-7dce7a021a0a')\"\n",
              "              title=\"Convert this dataframe to an interactive table.\"\n",
              "              style=\"display:none;\">\n",
              "        \n",
              "  <svg xmlns=\"http://www.w3.org/2000/svg\" height=\"24px\"viewBox=\"0 0 24 24\"\n",
              "       width=\"24px\">\n",
              "    <path d=\"M0 0h24v24H0V0z\" fill=\"none\"/>\n",
              "    <path d=\"M18.56 5.44l.94 2.06.94-2.06 2.06-.94-2.06-.94-.94-2.06-.94 2.06-2.06.94zm-11 1L8.5 8.5l.94-2.06 2.06-.94-2.06-.94L8.5 2.5l-.94 2.06-2.06.94zm10 10l.94 2.06.94-2.06 2.06-.94-2.06-.94-.94-2.06-.94 2.06-2.06.94z\"/><path d=\"M17.41 7.96l-1.37-1.37c-.4-.4-.92-.59-1.43-.59-.52 0-1.04.2-1.43.59L10.3 9.45l-7.72 7.72c-.78.78-.78 2.05 0 2.83L4 21.41c.39.39.9.59 1.41.59.51 0 1.02-.2 1.41-.59l7.78-7.78 2.81-2.81c.8-.78.8-2.07 0-2.86zM5.41 20L4 18.59l7.72-7.72 1.47 1.35L5.41 20z\"/>\n",
              "  </svg>\n",
              "      </button>\n",
              "      \n",
              "  <style>\n",
              "    .colab-df-container {\n",
              "      display:flex;\n",
              "      flex-wrap:wrap;\n",
              "      gap: 12px;\n",
              "    }\n",
              "\n",
              "    .colab-df-convert {\n",
              "      background-color: #E8F0FE;\n",
              "      border: none;\n",
              "      border-radius: 50%;\n",
              "      cursor: pointer;\n",
              "      display: none;\n",
              "      fill: #1967D2;\n",
              "      height: 32px;\n",
              "      padding: 0 0 0 0;\n",
              "      width: 32px;\n",
              "    }\n",
              "\n",
              "    .colab-df-convert:hover {\n",
              "      background-color: #E2EBFA;\n",
              "      box-shadow: 0px 1px 2px rgba(60, 64, 67, 0.3), 0px 1px 3px 1px rgba(60, 64, 67, 0.15);\n",
              "      fill: #174EA6;\n",
              "    }\n",
              "\n",
              "    [theme=dark] .colab-df-convert {\n",
              "      background-color: #3B4455;\n",
              "      fill: #D2E3FC;\n",
              "    }\n",
              "\n",
              "    [theme=dark] .colab-df-convert:hover {\n",
              "      background-color: #434B5C;\n",
              "      box-shadow: 0px 1px 3px 1px rgba(0, 0, 0, 0.15);\n",
              "      filter: drop-shadow(0px 1px 2px rgba(0, 0, 0, 0.3));\n",
              "      fill: #FFFFFF;\n",
              "    }\n",
              "  </style>\n",
              "\n",
              "      <script>\n",
              "        const buttonEl =\n",
              "          document.querySelector('#df-d84e1cd6-8f96-4139-bc9f-7dce7a021a0a button.colab-df-convert');\n",
              "        buttonEl.style.display =\n",
              "          google.colab.kernel.accessAllowed ? 'block' : 'none';\n",
              "\n",
              "        async function convertToInteractive(key) {\n",
              "          const element = document.querySelector('#df-d84e1cd6-8f96-4139-bc9f-7dce7a021a0a');\n",
              "          const dataTable =\n",
              "            await google.colab.kernel.invokeFunction('convertToInteractive',\n",
              "                                                     [key], {});\n",
              "          if (!dataTable) return;\n",
              "\n",
              "          const docLinkHtml = 'Like what you see? Visit the ' +\n",
              "            '<a target=\"_blank\" href=https://colab.research.google.com/notebooks/data_table.ipynb>data table notebook</a>'\n",
              "            + ' to learn more about interactive tables.';\n",
              "          element.innerHTML = '';\n",
              "          dataTable['output_type'] = 'display_data';\n",
              "          await google.colab.output.renderOutput(dataTable, element);\n",
              "          const docLink = document.createElement('div');\n",
              "          docLink.innerHTML = docLinkHtml;\n",
              "          element.appendChild(docLink);\n",
              "        }\n",
              "      </script>\n",
              "    </div>\n",
              "  </div>\n",
              "  "
            ]
          },
          "metadata": {},
          "execution_count": 635
        }
      ]
    },
    {
      "cell_type": "markdown",
      "source": [
        "## 3. Explore the data"
      ],
      "metadata": {
        "id": "2KuIEDCOj4XI"
      }
    },
    {
      "cell_type": "markdown",
      "source": [
        "### a) Check for missing values. \n",
        "- Missing values will not be addressed here. Missing values will be addressed further down in the notebook. However, let's check to see the missing values."
      ],
      "metadata": {
        "id": "IPFwyeMPmxpa"
      }
    },
    {
      "cell_type": "code",
      "source": [
        "garm_prod.info()"
      ],
      "metadata": {
        "colab": {
          "base_uri": "https://localhost:8080/"
        },
        "id": "2ebZZdEPkOvy",
        "outputId": "86a3f166-f36f-425b-a952-b293a7f766cb"
      },
      "execution_count": 636,
      "outputs": [
        {
          "output_type": "stream",
          "name": "stdout",
          "text": [
            "<class 'pandas.core.frame.DataFrame'>\n",
            "RangeIndex: 1197 entries, 0 to 1196\n",
            "Data columns (total 15 columns):\n",
            " #   Column                 Non-Null Count  Dtype         \n",
            "---  ------                 --------------  -----         \n",
            " 0   date                   1197 non-null   datetime64[ns]\n",
            " 1   quarter                1197 non-null   object        \n",
            " 2   department             1197 non-null   object        \n",
            " 3   day                    1197 non-null   object        \n",
            " 4   team                   1197 non-null   int64         \n",
            " 5   targeted_productivity  1197 non-null   float64       \n",
            " 6   smv                    1197 non-null   float64       \n",
            " 7   wip                    691 non-null    float64       \n",
            " 8   over_time              1197 non-null   int64         \n",
            " 9   incentive              1197 non-null   int64         \n",
            " 10  idle_time              1197 non-null   float64       \n",
            " 11  idle_men               1197 non-null   int64         \n",
            " 12  no_of_style_change     1197 non-null   int64         \n",
            " 13  no_of_workers          1197 non-null   float64       \n",
            " 14  actual_productivity    1197 non-null   float64       \n",
            "dtypes: datetime64[ns](1), float64(6), int64(5), object(3)\n",
            "memory usage: 140.4+ KB\n"
          ]
        }
      ]
    },
    {
      "cell_type": "markdown",
      "source": [
        "- There are 1197 rows and 15 columns. There is missing data in the **'wip'** column considering there are only 691 non-null values."
      ],
      "metadata": {
        "id": "LbWod-oNmQTZ"
      }
    },
    {
      "cell_type": "markdown",
      "source": [
        "### b) Explore the 'date' column to determine how to split it in preparation for modeling"
      ],
      "metadata": {
        "id": "oQHRTz5TxslV"
      }
    },
    {
      "cell_type": "code",
      "source": [
        "# Check the unique values in the 'date' column\n",
        "garm_prod['date'].value_counts()"
      ],
      "metadata": {
        "colab": {
          "base_uri": "https://localhost:8080/"
        },
        "id": "iL0VsleywnFR",
        "outputId": "8f98fafe-53a0-4d6f-96d3-c4309c8d9051"
      },
      "execution_count": 637,
      "outputs": [
        {
          "output_type": "execute_result",
          "data": {
            "text/plain": [
              "2015-03-11    24\n",
              "2015-01-31    24\n",
              "2015-01-11    23\n",
              "2015-03-10    23\n",
              "2015-01-12    23\n",
              "2015-01-24    23\n",
              "2015-01-08    22\n",
              "2015-01-10    22\n",
              "2015-01-07    22\n",
              "2015-01-13    22\n",
              "2015-01-05    22\n",
              "2015-03-09    22\n",
              "2015-03-08    22\n",
              "2015-03-03    22\n",
              "2015-01-22    22\n",
              "2015-02-25    21\n",
              "2015-02-26    21\n",
              "2015-02-28    21\n",
              "2015-01-03    21\n",
              "2015-01-04    21\n",
              "2015-01-28    21\n",
              "2015-01-27    21\n",
              "2015-03-04    21\n",
              "2015-01-25    21\n",
              "2015-01-17    21\n",
              "2015-01-14    21\n",
              "2015-01-06    21\n",
              "2015-02-18    21\n",
              "2015-01-29    20\n",
              "2015-02-17    20\n",
              "2015-03-02    20\n",
              "2015-03-01    20\n",
              "2015-02-22    20\n",
              "2015-02-19    20\n",
              "2015-03-05    19\n",
              "2015-03-07    19\n",
              "2015-02-24    19\n",
              "2015-02-23    19\n",
              "2015-01-01    19\n",
              "2015-02-03    19\n",
              "2015-02-15    19\n",
              "2015-01-15    19\n",
              "2015-01-18    19\n",
              "2015-01-19    19\n",
              "2015-01-21    19\n",
              "2015-01-26    19\n",
              "2015-02-01    19\n",
              "2015-02-02    19\n",
              "2015-02-04    19\n",
              "2015-02-07    19\n",
              "2015-02-08    19\n",
              "2015-02-10    19\n",
              "2015-02-11    19\n",
              "2015-02-12    19\n",
              "2015-02-05    18\n",
              "2015-02-09    18\n",
              "2015-02-16    18\n",
              "2015-02-14    17\n",
              "2015-01-20    15\n",
              "Name: date, dtype: int64"
            ]
          },
          "metadata": {},
          "execution_count": 637
        }
      ]
    },
    {
      "cell_type": "markdown",
      "source": [
        "- From the above, it looks like the evaluation of employees was done in the same year. As a result, we only have to split the 'date' columns into 2 columns (month and day)."
      ],
      "metadata": {
        "id": "0xHigJwRyP9-"
      }
    },
    {
      "cell_type": "markdown",
      "source": [
        "### c) Create a new column for the months listed in the 'date' column. The new column will be titled '**month**.'"
      ],
      "metadata": {
        "id": "4pNFwmxWytHP"
      }
    },
    {
      "cell_type": "code",
      "source": [
        "garm_prod['month'] = garm_prod['date'].dt.month\n",
        "garm_prod['month'] "
      ],
      "metadata": {
        "colab": {
          "base_uri": "https://localhost:8080/"
        },
        "id": "9XN2Gok2-OH3",
        "outputId": "34605f8b-ee2a-455d-85ba-3598eaf0927e"
      },
      "execution_count": 638,
      "outputs": [
        {
          "output_type": "execute_result",
          "data": {
            "text/plain": [
              "0       1\n",
              "1       1\n",
              "2       1\n",
              "3       1\n",
              "4       1\n",
              "       ..\n",
              "1192    3\n",
              "1193    3\n",
              "1194    3\n",
              "1195    3\n",
              "1196    3\n",
              "Name: month, Length: 1197, dtype: int64"
            ]
          },
          "metadata": {},
          "execution_count": 638
        }
      ]
    },
    {
      "cell_type": "markdown",
      "source": [
        "### d) Create a new column for the numerical days listed in the 'date' column. The new column will be titled '**daynum**.'"
      ],
      "metadata": {
        "id": "cY1yXOHMzgsy"
      }
    },
    {
      "cell_type": "code",
      "source": [
        "garm_prod['daynum'] = garm_prod['date'].dt.day\n",
        "garm_prod['daynum'] "
      ],
      "metadata": {
        "colab": {
          "base_uri": "https://localhost:8080/"
        },
        "id": "tKreQbov_kIE",
        "outputId": "b27acd8d-60d8-48cd-a227-dab7add175e9"
      },
      "execution_count": 639,
      "outputs": [
        {
          "output_type": "execute_result",
          "data": {
            "text/plain": [
              "0        1\n",
              "1        1\n",
              "2        1\n",
              "3        1\n",
              "4        1\n",
              "        ..\n",
              "1192    11\n",
              "1193    11\n",
              "1194    11\n",
              "1195    11\n",
              "1196    11\n",
              "Name: daynum, Length: 1197, dtype: int64"
            ]
          },
          "metadata": {},
          "execution_count": 639
        }
      ]
    },
    {
      "cell_type": "markdown",
      "source": [
        "### e) Drop the 'date' column and confirm that our dataset now has the new columns we just added"
      ],
      "metadata": {
        "id": "vB_GGyCYz9YR"
      }
    },
    {
      "cell_type": "code",
      "source": [
        "# Drop the 'date' column\n",
        "garm_prod.drop(columns=['date'], inplace=True)\n",
        "# Confirm that the dataset now has the new columns added\n",
        "garm_prod.info()"
      ],
      "metadata": {
        "colab": {
          "base_uri": "https://localhost:8080/"
        },
        "id": "WRkI0hzNz3lE",
        "outputId": "793c87f0-121e-431e-c9f9-d3b085fc2db4"
      },
      "execution_count": 640,
      "outputs": [
        {
          "output_type": "stream",
          "name": "stdout",
          "text": [
            "<class 'pandas.core.frame.DataFrame'>\n",
            "RangeIndex: 1197 entries, 0 to 1196\n",
            "Data columns (total 16 columns):\n",
            " #   Column                 Non-Null Count  Dtype  \n",
            "---  ------                 --------------  -----  \n",
            " 0   quarter                1197 non-null   object \n",
            " 1   department             1197 non-null   object \n",
            " 2   day                    1197 non-null   object \n",
            " 3   team                   1197 non-null   int64  \n",
            " 4   targeted_productivity  1197 non-null   float64\n",
            " 5   smv                    1197 non-null   float64\n",
            " 6   wip                    691 non-null    float64\n",
            " 7   over_time              1197 non-null   int64  \n",
            " 8   incentive              1197 non-null   int64  \n",
            " 9   idle_time              1197 non-null   float64\n",
            " 10  idle_men               1197 non-null   int64  \n",
            " 11  no_of_style_change     1197 non-null   int64  \n",
            " 12  no_of_workers          1197 non-null   float64\n",
            " 13  actual_productivity    1197 non-null   float64\n",
            " 14  month                  1197 non-null   int64  \n",
            " 15  daynum                 1197 non-null   int64  \n",
            "dtypes: float64(6), int64(7), object(3)\n",
            "memory usage: 149.8+ KB\n"
          ]
        }
      ]
    },
    {
      "cell_type": "markdown",
      "source": [
        "- We now have 16 columns, confirming that the 'date' column has been dropped and two new columns have been added. Also, we can see the new columns in the dataset information above."
      ],
      "metadata": {
        "id": "X5-bv2oP4ASv"
      }
    },
    {
      "cell_type": "markdown",
      "source": [
        "### f) Check for duplicates and address them"
      ],
      "metadata": {
        "id": "UN1yzlpqnMLf"
      }
    },
    {
      "cell_type": "code",
      "source": [
        "# Identify and address any duplicates\n",
        "garm_prod.duplicated().sum()"
      ],
      "metadata": {
        "colab": {
          "base_uri": "https://localhost:8080/"
        },
        "id": "VXhX5XfKeipD",
        "outputId": "4aa3de73-48a5-4baf-82c9-8a4775763bb6"
      },
      "execution_count": 641,
      "outputs": [
        {
          "output_type": "execute_result",
          "data": {
            "text/plain": [
              "0"
            ]
          },
          "metadata": {},
          "execution_count": 641
        }
      ]
    },
    {
      "cell_type": "markdown",
      "source": [
        "- There are no duplicates in the dataset"
      ],
      "metadata": {
        "id": "PfAEyrdzewgQ"
      }
    },
    {
      "cell_type": "markdown",
      "source": [
        "### g) Let's check the datatypes and ensure they are all correct"
      ],
      "metadata": {
        "id": "ydYSgDzmp3-8"
      }
    },
    {
      "cell_type": "code",
      "source": [
        "gpdata_types = garm_prod.dtypes\n",
        "gpdata_types"
      ],
      "metadata": {
        "colab": {
          "base_uri": "https://localhost:8080/"
        },
        "id": "odpXS4Onfn7X",
        "outputId": "d001e220-927d-45e9-9a6c-b737b729a523"
      },
      "execution_count": 642,
      "outputs": [
        {
          "output_type": "execute_result",
          "data": {
            "text/plain": [
              "quarter                   object\n",
              "department                object\n",
              "day                       object\n",
              "team                       int64\n",
              "targeted_productivity    float64\n",
              "smv                      float64\n",
              "wip                      float64\n",
              "over_time                  int64\n",
              "incentive                  int64\n",
              "idle_time                float64\n",
              "idle_men                   int64\n",
              "no_of_style_change         int64\n",
              "no_of_workers            float64\n",
              "actual_productivity      float64\n",
              "month                      int64\n",
              "daynum                     int64\n",
              "dtype: object"
            ]
          },
          "metadata": {},
          "execution_count": 642
        }
      ]
    },
    {
      "cell_type": "markdown",
      "source": [
        "- All the datatypes seeem to be correct."
      ],
      "metadata": {
        "id": "LV4iU-D9rb0_"
      }
    },
    {
      "cell_type": "markdown",
      "source": [
        "### h) Check for other errors/issues with the data and fix them"
      ],
      "metadata": {
        "id": "4RsrecdZns_D"
      }
    },
    {
      "cell_type": "code",
      "source": [
        "# Let's check the statistics for the numerical columns\n",
        "garm_prod.describe()"
      ],
      "metadata": {
        "colab": {
          "base_uri": "https://localhost:8080/",
          "height": 364
        },
        "id": "1Zp8R_Oiskge",
        "outputId": "1faf3e67-da49-424b-edbc-f253bed176c9"
      },
      "execution_count": 643,
      "outputs": [
        {
          "output_type": "execute_result",
          "data": {
            "text/plain": [
              "              team  targeted_productivity          smv           wip  \\\n",
              "count  1197.000000            1197.000000  1197.000000    691.000000   \n",
              "mean      6.426901               0.729632    15.062172   1190.465991   \n",
              "std       3.463963               0.097891    10.943219   1837.455001   \n",
              "min       1.000000               0.070000     2.900000      7.000000   \n",
              "25%       3.000000               0.700000     3.940000    774.500000   \n",
              "50%       6.000000               0.750000    15.260000   1039.000000   \n",
              "75%       9.000000               0.800000    24.260000   1252.500000   \n",
              "max      12.000000               0.800000    54.560000  23122.000000   \n",
              "\n",
              "          over_time    incentive    idle_time     idle_men  \\\n",
              "count   1197.000000  1197.000000  1197.000000  1197.000000   \n",
              "mean    4567.460317    38.210526     0.730159     0.369256   \n",
              "std     3348.823563   160.182643    12.709757     3.268987   \n",
              "min        0.000000     0.000000     0.000000     0.000000   \n",
              "25%     1440.000000     0.000000     0.000000     0.000000   \n",
              "50%     3960.000000     0.000000     0.000000     0.000000   \n",
              "75%     6960.000000    50.000000     0.000000     0.000000   \n",
              "max    25920.000000  3600.000000   300.000000    45.000000   \n",
              "\n",
              "       no_of_style_change  no_of_workers  actual_productivity        month  \\\n",
              "count         1197.000000    1197.000000          1197.000000  1197.000000   \n",
              "mean             0.150376      34.609858             0.735091     1.724311   \n",
              "std              0.427848      22.197687             0.174488     0.744558   \n",
              "min              0.000000       2.000000             0.233705     1.000000   \n",
              "25%              0.000000       9.000000             0.650307     1.000000   \n",
              "50%              0.000000      34.000000             0.773333     2.000000   \n",
              "75%              0.000000      57.000000             0.850253     2.000000   \n",
              "max              2.000000      89.000000             1.120437     3.000000   \n",
              "\n",
              "            daynum  \n",
              "count  1197.000000  \n",
              "mean     13.533835  \n",
              "std       8.623967  \n",
              "min       1.000000  \n",
              "25%       6.000000  \n",
              "50%      12.000000  \n",
              "75%      21.000000  \n",
              "max      31.000000  "
            ],
            "text/html": [
              "\n",
              "  <div id=\"df-e3090539-bbcf-4df3-b996-04afa8ba8f62\">\n",
              "    <div class=\"colab-df-container\">\n",
              "      <div>\n",
              "<style scoped>\n",
              "    .dataframe tbody tr th:only-of-type {\n",
              "        vertical-align: middle;\n",
              "    }\n",
              "\n",
              "    .dataframe tbody tr th {\n",
              "        vertical-align: top;\n",
              "    }\n",
              "\n",
              "    .dataframe thead th {\n",
              "        text-align: right;\n",
              "    }\n",
              "</style>\n",
              "<table border=\"1\" class=\"dataframe\">\n",
              "  <thead>\n",
              "    <tr style=\"text-align: right;\">\n",
              "      <th></th>\n",
              "      <th>team</th>\n",
              "      <th>targeted_productivity</th>\n",
              "      <th>smv</th>\n",
              "      <th>wip</th>\n",
              "      <th>over_time</th>\n",
              "      <th>incentive</th>\n",
              "      <th>idle_time</th>\n",
              "      <th>idle_men</th>\n",
              "      <th>no_of_style_change</th>\n",
              "      <th>no_of_workers</th>\n",
              "      <th>actual_productivity</th>\n",
              "      <th>month</th>\n",
              "      <th>daynum</th>\n",
              "    </tr>\n",
              "  </thead>\n",
              "  <tbody>\n",
              "    <tr>\n",
              "      <th>count</th>\n",
              "      <td>1197.000000</td>\n",
              "      <td>1197.000000</td>\n",
              "      <td>1197.000000</td>\n",
              "      <td>691.000000</td>\n",
              "      <td>1197.000000</td>\n",
              "      <td>1197.000000</td>\n",
              "      <td>1197.000000</td>\n",
              "      <td>1197.000000</td>\n",
              "      <td>1197.000000</td>\n",
              "      <td>1197.000000</td>\n",
              "      <td>1197.000000</td>\n",
              "      <td>1197.000000</td>\n",
              "      <td>1197.000000</td>\n",
              "    </tr>\n",
              "    <tr>\n",
              "      <th>mean</th>\n",
              "      <td>6.426901</td>\n",
              "      <td>0.729632</td>\n",
              "      <td>15.062172</td>\n",
              "      <td>1190.465991</td>\n",
              "      <td>4567.460317</td>\n",
              "      <td>38.210526</td>\n",
              "      <td>0.730159</td>\n",
              "      <td>0.369256</td>\n",
              "      <td>0.150376</td>\n",
              "      <td>34.609858</td>\n",
              "      <td>0.735091</td>\n",
              "      <td>1.724311</td>\n",
              "      <td>13.533835</td>\n",
              "    </tr>\n",
              "    <tr>\n",
              "      <th>std</th>\n",
              "      <td>3.463963</td>\n",
              "      <td>0.097891</td>\n",
              "      <td>10.943219</td>\n",
              "      <td>1837.455001</td>\n",
              "      <td>3348.823563</td>\n",
              "      <td>160.182643</td>\n",
              "      <td>12.709757</td>\n",
              "      <td>3.268987</td>\n",
              "      <td>0.427848</td>\n",
              "      <td>22.197687</td>\n",
              "      <td>0.174488</td>\n",
              "      <td>0.744558</td>\n",
              "      <td>8.623967</td>\n",
              "    </tr>\n",
              "    <tr>\n",
              "      <th>min</th>\n",
              "      <td>1.000000</td>\n",
              "      <td>0.070000</td>\n",
              "      <td>2.900000</td>\n",
              "      <td>7.000000</td>\n",
              "      <td>0.000000</td>\n",
              "      <td>0.000000</td>\n",
              "      <td>0.000000</td>\n",
              "      <td>0.000000</td>\n",
              "      <td>0.000000</td>\n",
              "      <td>2.000000</td>\n",
              "      <td>0.233705</td>\n",
              "      <td>1.000000</td>\n",
              "      <td>1.000000</td>\n",
              "    </tr>\n",
              "    <tr>\n",
              "      <th>25%</th>\n",
              "      <td>3.000000</td>\n",
              "      <td>0.700000</td>\n",
              "      <td>3.940000</td>\n",
              "      <td>774.500000</td>\n",
              "      <td>1440.000000</td>\n",
              "      <td>0.000000</td>\n",
              "      <td>0.000000</td>\n",
              "      <td>0.000000</td>\n",
              "      <td>0.000000</td>\n",
              "      <td>9.000000</td>\n",
              "      <td>0.650307</td>\n",
              "      <td>1.000000</td>\n",
              "      <td>6.000000</td>\n",
              "    </tr>\n",
              "    <tr>\n",
              "      <th>50%</th>\n",
              "      <td>6.000000</td>\n",
              "      <td>0.750000</td>\n",
              "      <td>15.260000</td>\n",
              "      <td>1039.000000</td>\n",
              "      <td>3960.000000</td>\n",
              "      <td>0.000000</td>\n",
              "      <td>0.000000</td>\n",
              "      <td>0.000000</td>\n",
              "      <td>0.000000</td>\n",
              "      <td>34.000000</td>\n",
              "      <td>0.773333</td>\n",
              "      <td>2.000000</td>\n",
              "      <td>12.000000</td>\n",
              "    </tr>\n",
              "    <tr>\n",
              "      <th>75%</th>\n",
              "      <td>9.000000</td>\n",
              "      <td>0.800000</td>\n",
              "      <td>24.260000</td>\n",
              "      <td>1252.500000</td>\n",
              "      <td>6960.000000</td>\n",
              "      <td>50.000000</td>\n",
              "      <td>0.000000</td>\n",
              "      <td>0.000000</td>\n",
              "      <td>0.000000</td>\n",
              "      <td>57.000000</td>\n",
              "      <td>0.850253</td>\n",
              "      <td>2.000000</td>\n",
              "      <td>21.000000</td>\n",
              "    </tr>\n",
              "    <tr>\n",
              "      <th>max</th>\n",
              "      <td>12.000000</td>\n",
              "      <td>0.800000</td>\n",
              "      <td>54.560000</td>\n",
              "      <td>23122.000000</td>\n",
              "      <td>25920.000000</td>\n",
              "      <td>3600.000000</td>\n",
              "      <td>300.000000</td>\n",
              "      <td>45.000000</td>\n",
              "      <td>2.000000</td>\n",
              "      <td>89.000000</td>\n",
              "      <td>1.120437</td>\n",
              "      <td>3.000000</td>\n",
              "      <td>31.000000</td>\n",
              "    </tr>\n",
              "  </tbody>\n",
              "</table>\n",
              "</div>\n",
              "      <button class=\"colab-df-convert\" onclick=\"convertToInteractive('df-e3090539-bbcf-4df3-b996-04afa8ba8f62')\"\n",
              "              title=\"Convert this dataframe to an interactive table.\"\n",
              "              style=\"display:none;\">\n",
              "        \n",
              "  <svg xmlns=\"http://www.w3.org/2000/svg\" height=\"24px\"viewBox=\"0 0 24 24\"\n",
              "       width=\"24px\">\n",
              "    <path d=\"M0 0h24v24H0V0z\" fill=\"none\"/>\n",
              "    <path d=\"M18.56 5.44l.94 2.06.94-2.06 2.06-.94-2.06-.94-.94-2.06-.94 2.06-2.06.94zm-11 1L8.5 8.5l.94-2.06 2.06-.94-2.06-.94L8.5 2.5l-.94 2.06-2.06.94zm10 10l.94 2.06.94-2.06 2.06-.94-2.06-.94-.94-2.06-.94 2.06-2.06.94z\"/><path d=\"M17.41 7.96l-1.37-1.37c-.4-.4-.92-.59-1.43-.59-.52 0-1.04.2-1.43.59L10.3 9.45l-7.72 7.72c-.78.78-.78 2.05 0 2.83L4 21.41c.39.39.9.59 1.41.59.51 0 1.02-.2 1.41-.59l7.78-7.78 2.81-2.81c.8-.78.8-2.07 0-2.86zM5.41 20L4 18.59l7.72-7.72 1.47 1.35L5.41 20z\"/>\n",
              "  </svg>\n",
              "      </button>\n",
              "      \n",
              "  <style>\n",
              "    .colab-df-container {\n",
              "      display:flex;\n",
              "      flex-wrap:wrap;\n",
              "      gap: 12px;\n",
              "    }\n",
              "\n",
              "    .colab-df-convert {\n",
              "      background-color: #E8F0FE;\n",
              "      border: none;\n",
              "      border-radius: 50%;\n",
              "      cursor: pointer;\n",
              "      display: none;\n",
              "      fill: #1967D2;\n",
              "      height: 32px;\n",
              "      padding: 0 0 0 0;\n",
              "      width: 32px;\n",
              "    }\n",
              "\n",
              "    .colab-df-convert:hover {\n",
              "      background-color: #E2EBFA;\n",
              "      box-shadow: 0px 1px 2px rgba(60, 64, 67, 0.3), 0px 1px 3px 1px rgba(60, 64, 67, 0.15);\n",
              "      fill: #174EA6;\n",
              "    }\n",
              "\n",
              "    [theme=dark] .colab-df-convert {\n",
              "      background-color: #3B4455;\n",
              "      fill: #D2E3FC;\n",
              "    }\n",
              "\n",
              "    [theme=dark] .colab-df-convert:hover {\n",
              "      background-color: #434B5C;\n",
              "      box-shadow: 0px 1px 3px 1px rgba(0, 0, 0, 0.15);\n",
              "      filter: drop-shadow(0px 1px 2px rgba(0, 0, 0, 0.3));\n",
              "      fill: #FFFFFF;\n",
              "    }\n",
              "  </style>\n",
              "\n",
              "      <script>\n",
              "        const buttonEl =\n",
              "          document.querySelector('#df-e3090539-bbcf-4df3-b996-04afa8ba8f62 button.colab-df-convert');\n",
              "        buttonEl.style.display =\n",
              "          google.colab.kernel.accessAllowed ? 'block' : 'none';\n",
              "\n",
              "        async function convertToInteractive(key) {\n",
              "          const element = document.querySelector('#df-e3090539-bbcf-4df3-b996-04afa8ba8f62');\n",
              "          const dataTable =\n",
              "            await google.colab.kernel.invokeFunction('convertToInteractive',\n",
              "                                                     [key], {});\n",
              "          if (!dataTable) return;\n",
              "\n",
              "          const docLinkHtml = 'Like what you see? Visit the ' +\n",
              "            '<a target=\"_blank\" href=https://colab.research.google.com/notebooks/data_table.ipynb>data table notebook</a>'\n",
              "            + ' to learn more about interactive tables.';\n",
              "          element.innerHTML = '';\n",
              "          dataTable['output_type'] = 'display_data';\n",
              "          await google.colab.output.renderOutput(dataTable, element);\n",
              "          const docLink = document.createElement('div');\n",
              "          docLink.innerHTML = docLinkHtml;\n",
              "          element.appendChild(docLink);\n",
              "        }\n",
              "      </script>\n",
              "    </div>\n",
              "  </div>\n",
              "  "
            ]
          },
          "metadata": {},
          "execution_count": 643
        }
      ]
    },
    {
      "cell_type": "markdown",
      "source": [
        "- It looks like the 'actual_productivity' column has a maximum value of approximately 1.120. Based on the attribute information given on the dataset reference page (https://archive.ics.uci.edu/ml/datasets/Productivity+Prediction+of+Garment+Employees#), 'actual_productivity' should range between 0 and 1. \n",
        "\n",
        "Let's check how many rows contain a value greater than 1 in the 'actual_productivity' column."
      ],
      "metadata": {
        "id": "eQERpCz0n2XB"
      }
    },
    {
      "cell_type": "code",
      "source": [
        "# Let's see how many rows contain actual_productivity > 1\n",
        "prod_filter = garm_prod['actual_productivity']>1\n",
        "prod_filter.sum()"
      ],
      "metadata": {
        "colab": {
          "base_uri": "https://localhost:8080/"
        },
        "id": "flm9rc3VtX_f",
        "outputId": "d86d952e-bbc7-4873-b88e-e90b0f64d6d8"
      },
      "execution_count": 644,
      "outputs": [
        {
          "output_type": "execute_result",
          "data": {
            "text/plain": [
              "37"
            ]
          },
          "metadata": {},
          "execution_count": 644
        }
      ]
    },
    {
      "cell_type": "code",
      "source": [
        "# Let's create a filter for actual_productivity < or = 1 \n",
        "# This should delete rows with actual_productivity > 1\n",
        "prod1_filter = garm_prod['actual_productivity'] <= 1\n",
        "garm_prod = garm_prod.loc[prod1_filter, :]"
      ],
      "metadata": {
        "id": "07TKU8AkrMiE"
      },
      "execution_count": 645,
      "outputs": []
    },
    {
      "cell_type": "code",
      "source": [
        "# Let's confirm that rows with actual_productivity > 1 have been dropped\n",
        "garm_prod.info()"
      ],
      "metadata": {
        "colab": {
          "base_uri": "https://localhost:8080/"
        },
        "id": "tdjBdFK7vq77",
        "outputId": "bea043e7-f1a6-4f74-a2fb-97c17dd241b1"
      },
      "execution_count": 646,
      "outputs": [
        {
          "output_type": "stream",
          "name": "stdout",
          "text": [
            "<class 'pandas.core.frame.DataFrame'>\n",
            "Int64Index: 1160 entries, 0 to 1196\n",
            "Data columns (total 16 columns):\n",
            " #   Column                 Non-Null Count  Dtype  \n",
            "---  ------                 --------------  -----  \n",
            " 0   quarter                1160 non-null   object \n",
            " 1   department             1160 non-null   object \n",
            " 2   day                    1160 non-null   object \n",
            " 3   team                   1160 non-null   int64  \n",
            " 4   targeted_productivity  1160 non-null   float64\n",
            " 5   smv                    1160 non-null   float64\n",
            " 6   wip                    666 non-null    float64\n",
            " 7   over_time              1160 non-null   int64  \n",
            " 8   incentive              1160 non-null   int64  \n",
            " 9   idle_time              1160 non-null   float64\n",
            " 10  idle_men               1160 non-null   int64  \n",
            " 11  no_of_style_change     1160 non-null   int64  \n",
            " 12  no_of_workers          1160 non-null   float64\n",
            " 13  actual_productivity    1160 non-null   float64\n",
            " 14  month                  1160 non-null   int64  \n",
            " 15  daynum                 1160 non-null   int64  \n",
            "dtypes: float64(6), int64(7), object(3)\n",
            "memory usage: 154.1+ KB\n"
          ]
        }
      ]
    },
    {
      "cell_type": "markdown",
      "source": [
        "- We now have 1160 rows instead of 1197 previously. This confirms that 37 rows have been dropped."
      ],
      "metadata": {
        "id": "Du0NkdO5v7Sv"
      }
    },
    {
      "cell_type": "markdown",
      "source": [
        "## 4) Identify each feature as numerical, ordinal, or nominal.\n",
        "\n",
        "**Numerical features:** 'team', 'targeted_productivity', 'smv', 'wip', 'over_time', 'incentive', 'idle_time', 'idle_men', 'no_of_style_change', 'no_of_workers'\n",
        "\n",
        "**Nominal features:** 'quarter', 'department', 'day'\n",
        "\n",
        "**Ordinal features:** There are no ordinal features"
      ],
      "metadata": {
        "id": "idO6uBGBvYlk"
      }
    },
    {
      "cell_type": "markdown",
      "source": [
        "## 5) Find and Fix inconsistent categories of data in the nominal feature columns"
      ],
      "metadata": {
        "id": "9gbohJIw-b_3"
      }
    },
    {
      "cell_type": "code",
      "source": [
        "# Let's assign a variable to columns that are just 'object' datatypes\n",
        "obj_col = gpdata_types[gpdata_types=='object'].index\n",
        "obj_col"
      ],
      "metadata": {
        "colab": {
          "base_uri": "https://localhost:8080/"
        },
        "id": "AoRTcCYfDCFA",
        "outputId": "b09161dd-b022-4a7c-f68e-051d88f23539"
      },
      "execution_count": 647,
      "outputs": [
        {
          "output_type": "execute_result",
          "data": {
            "text/plain": [
              "Index(['quarter', 'department', 'day'], dtype='object')"
            ]
          },
          "metadata": {},
          "execution_count": 647
        }
      ]
    },
    {
      "cell_type": "code",
      "source": [
        "# Let's loop through 'object' columns and see the unique values and counts in all 'object' columns\n",
        "for x in obj_col:\n",
        "    print(f'- {x}:')\n",
        "    print(garm_prod[x].value_counts(dropna=False))\n",
        "    print()"
      ],
      "metadata": {
        "colab": {
          "base_uri": "https://localhost:8080/"
        },
        "id": "zXoh7Ra6F_ji",
        "outputId": "07482d0c-a4d3-4840-abef-6b8146d5ecbc"
      },
      "execution_count": 648,
      "outputs": [
        {
          "output_type": "stream",
          "name": "stdout",
          "text": [
            "- quarter:\n",
            "Quarter1    348\n",
            "Quarter2    324\n",
            "Quarter4    243\n",
            "Quarter3    204\n",
            "Quarter5     41\n",
            "Name: quarter, dtype: int64\n",
            "\n",
            "- department:\n",
            "sweing        666\n",
            "finishing     253\n",
            "finishing     241\n",
            "Name: department, dtype: int64\n",
            "\n",
            "- day:\n",
            "Wednesday    200\n",
            "Sunday       196\n",
            "Monday       195\n",
            "Tuesday      194\n",
            "Thursday     193\n",
            "Saturday     182\n",
            "Name: day, dtype: int64\n",
            "\n"
          ]
        }
      ]
    },
    {
      "cell_type": "markdown",
      "source": [
        "- We can see from the above that\n",
        "\n",
        "a) There are no inconsistent categories of data in the 'day' column.\n",
        "\n",
        "b) There are no inconsistent categories of data in the 'quarter' column.\n",
        "\n",
        "c) In the 'department' column, it seems like there are two unique ways the word 'finishing' appears. However, it is not exactly obvious why this is so. Both words seem to be spelt correctly and the same way. \n",
        "\n",
        "Let's see the unique values a different way."
      ],
      "metadata": {
        "id": "Q5lwI6Dl_S53"
      }
    },
    {
      "cell_type": "code",
      "source": [
        "# Let's see the unique values in the 'department' column\n",
        "garm_prod['department'].unique()"
      ],
      "metadata": {
        "colab": {
          "base_uri": "https://localhost:8080/"
        },
        "id": "h9xZWyon-vZB",
        "outputId": "c5c860f6-0b63-451b-c6e0-063f93a5a42a"
      },
      "execution_count": 649,
      "outputs": [
        {
          "output_type": "execute_result",
          "data": {
            "text/plain": [
              "array(['sweing', 'finishing ', 'finishing'], dtype=object)"
            ]
          },
          "metadata": {},
          "execution_count": 649
        }
      ]
    },
    {
      "cell_type": "markdown",
      "source": [
        "- It is obvious from the above that in one case, 'finishing' is written with a white space after the word. So, the word appears in two ways: 'finishing ' and 'finishing'."
      ],
      "metadata": {
        "id": "5H7pgJfNNybV"
      }
    },
    {
      "cell_type": "code",
      "source": [
        "# Let's see the unique values in the 'department' column in a bar chart\n",
        "garm_prod['department'].value_counts().plot(kind = 'bar');"
      ],
      "metadata": {
        "colab": {
          "base_uri": "https://localhost:8080/",
          "height": 301
        },
        "id": "Fq69WFXgWkkF",
        "outputId": "996fcaa0-9618-4a0a-cc8c-ab2142def7ba"
      },
      "execution_count": 650,
      "outputs": [
        {
          "output_type": "display_data",
          "data": {
            "text/plain": [
              "<Figure size 432x288 with 1 Axes>"
            ],
            "image/png": "[encoded data removed]"
          },
          "metadata": {
            "needs_background": "light"
          }
        }
      ]
    },
    {
      "cell_type": "code",
      "source": [
        "# We can make 'finishing ' appear as 'finishing'\n",
        "garm_prod['department'] = garm_prod['department'].replace('finishing ','finishing')\n",
        "dept_replace = garm_prod['department'].unique()\n",
        "dept_replace.sort()\n",
        "dept_replace"
      ],
      "metadata": {
        "colab": {
          "base_uri": "https://localhost:8080/"
        },
        "id": "EGIQSN2TPxHR",
        "outputId": "49626a90-2e1f-493f-e981-e0381e651575"
      },
      "execution_count": 651,
      "outputs": [
        {
          "output_type": "execute_result",
          "data": {
            "text/plain": [
              "array(['finishing', 'sweing'], dtype=object)"
            ]
          },
          "metadata": {},
          "execution_count": 651
        }
      ]
    },
    {
      "cell_type": "markdown",
      "source": [
        "- All inconsistent 'finishing' have been corrected"
      ],
      "metadata": {
        "id": "GAfGTruaQcc1"
      }
    },
    {
      "cell_type": "code",
      "source": [
        "# Let's run value_counts also to confirm\n",
        "garm_prod['department'].value_counts()"
      ],
      "metadata": {
        "colab": {
          "base_uri": "https://localhost:8080/"
        },
        "id": "35qt-RNhQ3Qt",
        "outputId": "b571daed-8757-4569-b212-4291a3f082f6"
      },
      "execution_count": 652,
      "outputs": [
        {
          "output_type": "execute_result",
          "data": {
            "text/plain": [
              "sweing       666\n",
              "finishing    494\n",
              "Name: department, dtype: int64"
            ]
          },
          "metadata": {},
          "execution_count": 652
        }
      ]
    },
    {
      "cell_type": "markdown",
      "source": [
        "- We now have a total count of 494 (253 + 241) for the word 'finishing'"
      ],
      "metadata": {
        "id": "wzwmCYS_RDIs"
      }
    },
    {
      "cell_type": "markdown",
      "source": [
        "## 6) Identify Outliers"
      ],
      "metadata": {
        "id": "OFoHwo_0ahV4"
      }
    },
    {
      "cell_type": "code",
      "source": [
        "# Let's check the statistics for the numerical columns\n",
        "garm_prod.describe()"
      ],
      "metadata": {
        "id": "eBsHIyToBYYr",
        "colab": {
          "base_uri": "https://localhost:8080/",
          "height": 364
        },
        "outputId": "95de1ce0-650e-47af-9c30-41f8a11be98f"
      },
      "execution_count": 653,
      "outputs": [
        {
          "output_type": "execute_result",
          "data": {
            "text/plain": [
              "              team  targeted_productivity         smv           wip  \\\n",
              "count  1160.000000            1160.000000  1160.00000    666.000000   \n",
              "mean      6.544828               0.727905    15.01481   1159.974474   \n",
              "std       3.422968               0.098735    11.00475   1769.132478   \n",
              "min       1.000000               0.070000     2.90000      7.000000   \n",
              "25%       4.000000               0.700000     3.94000    762.000000   \n",
              "50%       7.000000               0.750000    15.26000   1028.500000   \n",
              "75%       9.000000               0.800000    24.26000   1226.750000   \n",
              "max      12.000000               0.800000    54.56000  23122.000000   \n",
              "\n",
              "          over_time    incentive    idle_time     idle_men  \\\n",
              "count   1160.000000  1160.000000  1160.000000  1160.000000   \n",
              "mean    4575.301724    37.012931     0.753448     0.381034   \n",
              "std     3363.475857   162.300882    12.910356     3.320081   \n",
              "min        0.000000     0.000000     0.000000     0.000000   \n",
              "25%     1440.000000     0.000000     0.000000     0.000000   \n",
              "50%     3960.000000     0.000000     0.000000     0.000000   \n",
              "75%     6960.000000    50.000000     0.000000     0.000000   \n",
              "max    25920.000000  3600.000000   300.000000    45.000000   \n",
              "\n",
              "       no_of_style_change  no_of_workers  actual_productivity        month  \\\n",
              "count         1160.000000    1160.000000          1160.000000  1160.000000   \n",
              "mean             0.155172      34.346552             0.725991     1.723276   \n",
              "std              0.433766      22.181174             0.169404     0.752432   \n",
              "min              0.000000       2.000000             0.233705     1.000000   \n",
              "25%              0.000000       9.000000             0.650061     1.000000   \n",
              "50%              0.000000      34.000000             0.754425     2.000000   \n",
              "75%              0.000000      57.000000             0.845167     2.000000   \n",
              "max              2.000000      89.000000             0.999995     3.000000   \n",
              "\n",
              "            daynum  \n",
              "count  1160.000000  \n",
              "mean     13.543966  \n",
              "std       8.602113  \n",
              "min       1.000000  \n",
              "25%       6.750000  \n",
              "50%      12.000000  \n",
              "75%      21.000000  \n",
              "max      31.000000  "
            ],
            "text/html": [
              "\n",
              "  <div id=\"df-73304617-039f-471c-b08c-b35ecdec010f\">\n",
              "    <div class=\"colab-df-container\">\n",
              "      <div>\n",
              "<style scoped>\n",
              "    .dataframe tbody tr th:only-of-type {\n",
              "        vertical-align: middle;\n",
              "    }\n",
              "\n",
              "    .dataframe tbody tr th {\n",
              "        vertical-align: top;\n",
              "    }\n",
              "\n",
              "    .dataframe thead th {\n",
              "        text-align: right;\n",
              "    }\n",
              "</style>\n",
              "<table border=\"1\" class=\"dataframe\">\n",
              "  <thead>\n",
              "    <tr style=\"text-align: right;\">\n",
              "      <th></th>\n",
              "      <th>team</th>\n",
              "      <th>targeted_productivity</th>\n",
              "      <th>smv</th>\n",
              "      <th>wip</th>\n",
              "      <th>over_time</th>\n",
              "      <th>incentive</th>\n",
              "      <th>idle_time</th>\n",
              "      <th>idle_men</th>\n",
              "      <th>no_of_style_change</th>\n",
              "      <th>no_of_workers</th>\n",
              "      <th>actual_productivity</th>\n",
              "      <th>month</th>\n",
              "      <th>daynum</th>\n",
              "    </tr>\n",
              "  </thead>\n",
              "  <tbody>\n",
              "    <tr>\n",
              "      <th>count</th>\n",
              "      <td>1160.000000</td>\n",
              "      <td>1160.000000</td>\n",
              "      <td>1160.00000</td>\n",
              "      <td>666.000000</td>\n",
              "      <td>1160.000000</td>\n",
              "      <td>1160.000000</td>\n",
              "      <td>1160.000000</td>\n",
              "      <td>1160.000000</td>\n",
              "      <td>1160.000000</td>\n",
              "      <td>1160.000000</td>\n",
              "      <td>1160.000000</td>\n",
              "      <td>1160.000000</td>\n",
              "      <td>1160.000000</td>\n",
              "    </tr>\n",
              "    <tr>\n",
              "      <th>mean</th>\n",
              "      <td>6.544828</td>\n",
              "      <td>0.727905</td>\n",
              "      <td>15.01481</td>\n",
              "      <td>1159.974474</td>\n",
              "      <td>4575.301724</td>\n",
              "      <td>37.012931</td>\n",
              "      <td>0.753448</td>\n",
              "      <td>0.381034</td>\n",
              "      <td>0.155172</td>\n",
              "      <td>34.346552</td>\n",
              "      <td>0.725991</td>\n",
              "      <td>1.723276</td>\n",
              "      <td>13.543966</td>\n",
              "    </tr>\n",
              "    <tr>\n",
              "      <th>std</th>\n",
              "      <td>3.422968</td>\n",
              "      <td>0.098735</td>\n",
              "      <td>11.00475</td>\n",
              "      <td>1769.132478</td>\n",
              "      <td>3363.475857</td>\n",
              "      <td>162.300882</td>\n",
              "      <td>12.910356</td>\n",
              "      <td>3.320081</td>\n",
              "      <td>0.433766</td>\n",
              "      <td>22.181174</td>\n",
              "      <td>0.169404</td>\n",
              "      <td>0.752432</td>\n",
              "      <td>8.602113</td>\n",
              "    </tr>\n",
              "    <tr>\n",
              "      <th>min</th>\n",
              "      <td>1.000000</td>\n",
              "      <td>0.070000</td>\n",
              "      <td>2.90000</td>\n",
              "      <td>7.000000</td>\n",
              "      <td>0.000000</td>\n",
              "      <td>0.000000</td>\n",
              "      <td>0.000000</td>\n",
              "      <td>0.000000</td>\n",
              "      <td>0.000000</td>\n",
              "      <td>2.000000</td>\n",
              "      <td>0.233705</td>\n",
              "      <td>1.000000</td>\n",
              "      <td>1.000000</td>\n",
              "    </tr>\n",
              "    <tr>\n",
              "      <th>25%</th>\n",
              "      <td>4.000000</td>\n",
              "      <td>0.700000</td>\n",
              "      <td>3.94000</td>\n",
              "      <td>762.000000</td>\n",
              "      <td>1440.000000</td>\n",
              "      <td>0.000000</td>\n",
              "      <td>0.000000</td>\n",
              "      <td>0.000000</td>\n",
              "      <td>0.000000</td>\n",
              "      <td>9.000000</td>\n",
              "      <td>0.650061</td>\n",
              "      <td>1.000000</td>\n",
              "      <td>6.750000</td>\n",
              "    </tr>\n",
              "    <tr>\n",
              "      <th>50%</th>\n",
              "      <td>7.000000</td>\n",
              "      <td>0.750000</td>\n",
              "      <td>15.26000</td>\n",
              "      <td>1028.500000</td>\n",
              "      <td>3960.000000</td>\n",
              "      <td>0.000000</td>\n",
              "      <td>0.000000</td>\n",
              "      <td>0.000000</td>\n",
              "      <td>0.000000</td>\n",
              "      <td>34.000000</td>\n",
              "      <td>0.754425</td>\n",
              "      <td>2.000000</td>\n",
              "      <td>12.000000</td>\n",
              "    </tr>\n",
              "    <tr>\n",
              "      <th>75%</th>\n",
              "      <td>9.000000</td>\n",
              "      <td>0.800000</td>\n",
              "      <td>24.26000</td>\n",
              "      <td>1226.750000</td>\n",
              "      <td>6960.000000</td>\n",
              "      <td>50.000000</td>\n",
              "      <td>0.000000</td>\n",
              "      <td>0.000000</td>\n",
              "      <td>0.000000</td>\n",
              "      <td>57.000000</td>\n",
              "      <td>0.845167</td>\n",
              "      <td>2.000000</td>\n",
              "      <td>21.000000</td>\n",
              "    </tr>\n",
              "    <tr>\n",
              "      <th>max</th>\n",
              "      <td>12.000000</td>\n",
              "      <td>0.800000</td>\n",
              "      <td>54.56000</td>\n",
              "      <td>23122.000000</td>\n",
              "      <td>25920.000000</td>\n",
              "      <td>3600.000000</td>\n",
              "      <td>300.000000</td>\n",
              "      <td>45.000000</td>\n",
              "      <td>2.000000</td>\n",
              "      <td>89.000000</td>\n",
              "      <td>0.999995</td>\n",
              "      <td>3.000000</td>\n",
              "      <td>31.000000</td>\n",
              "    </tr>\n",
              "  </tbody>\n",
              "</table>\n",
              "</div>\n",
              "      <button class=\"colab-df-convert\" onclick=\"convertToInteractive('df-73304617-039f-471c-b08c-b35ecdec010f')\"\n",
              "              title=\"Convert this dataframe to an interactive table.\"\n",
              "              style=\"display:none;\">\n",
              "        \n",
              "  <svg xmlns=\"http://www.w3.org/2000/svg\" height=\"24px\"viewBox=\"0 0 24 24\"\n",
              "       width=\"24px\">\n",
              "    <path d=\"M0 0h24v24H0V0z\" fill=\"none\"/>\n",
              "    <path d=\"M18.56 5.44l.94 2.06.94-2.06 2.06-.94-2.06-.94-.94-2.06-.94 2.06-2.06.94zm-11 1L8.5 8.5l.94-2.06 2.06-.94-2.06-.94L8.5 2.5l-.94 2.06-2.06.94zm10 10l.94 2.06.94-2.06 2.06-.94-2.06-.94-.94-2.06-.94 2.06-2.06.94z\"/><path d=\"M17.41 7.96l-1.37-1.37c-.4-.4-.92-.59-1.43-.59-.52 0-1.04.2-1.43.59L10.3 9.45l-7.72 7.72c-.78.78-.78 2.05 0 2.83L4 21.41c.39.39.9.59 1.41.59.51 0 1.02-.2 1.41-.59l7.78-7.78 2.81-2.81c.8-.78.8-2.07 0-2.86zM5.41 20L4 18.59l7.72-7.72 1.47 1.35L5.41 20z\"/>\n",
              "  </svg>\n",
              "      </button>\n",
              "      \n",
              "  <style>\n",
              "    .colab-df-container {\n",
              "      display:flex;\n",
              "      flex-wrap:wrap;\n",
              "      gap: 12px;\n",
              "    }\n",
              "\n",
              "    .colab-df-convert {\n",
              "      background-color: #E8F0FE;\n",
              "      border: none;\n",
              "      border-radius: 50%;\n",
              "      cursor: pointer;\n",
              "      display: none;\n",
              "      fill: #1967D2;\n",
              "      height: 32px;\n",
              "      padding: 0 0 0 0;\n",
              "      width: 32px;\n",
              "    }\n",
              "\n",
              "    .colab-df-convert:hover {\n",
              "      background-color: #E2EBFA;\n",
              "      box-shadow: 0px 1px 2px rgba(60, 64, 67, 0.3), 0px 1px 3px 1px rgba(60, 64, 67, 0.15);\n",
              "      fill: #174EA6;\n",
              "    }\n",
              "\n",
              "    [theme=dark] .colab-df-convert {\n",
              "      background-color: #3B4455;\n",
              "      fill: #D2E3FC;\n",
              "    }\n",
              "\n",
              "    [theme=dark] .colab-df-convert:hover {\n",
              "      background-color: #434B5C;\n",
              "      box-shadow: 0px 1px 3px 1px rgba(0, 0, 0, 0.15);\n",
              "      filter: drop-shadow(0px 1px 2px rgba(0, 0, 0, 0.3));\n",
              "      fill: #FFFFFF;\n",
              "    }\n",
              "  </style>\n",
              "\n",
              "      <script>\n",
              "        const buttonEl =\n",
              "          document.querySelector('#df-73304617-039f-471c-b08c-b35ecdec010f button.colab-df-convert');\n",
              "        buttonEl.style.display =\n",
              "          google.colab.kernel.accessAllowed ? 'block' : 'none';\n",
              "\n",
              "        async function convertToInteractive(key) {\n",
              "          const element = document.querySelector('#df-73304617-039f-471c-b08c-b35ecdec010f');\n",
              "          const dataTable =\n",
              "            await google.colab.kernel.invokeFunction('convertToInteractive',\n",
              "                                                     [key], {});\n",
              "          if (!dataTable) return;\n",
              "\n",
              "          const docLinkHtml = 'Like what you see? Visit the ' +\n",
              "            '<a target=\"_blank\" href=https://colab.research.google.com/notebooks/data_table.ipynb>data table notebook</a>'\n",
              "            + ' to learn more about interactive tables.';\n",
              "          element.innerHTML = '';\n",
              "          dataTable['output_type'] = 'display_data';\n",
              "          await google.colab.output.renderOutput(dataTable, element);\n",
              "          const docLink = document.createElement('div');\n",
              "          docLink.innerHTML = docLinkHtml;\n",
              "          element.appendChild(docLink);\n",
              "        }\n",
              "      </script>\n",
              "    </div>\n",
              "  </div>\n",
              "  "
            ]
          },
          "metadata": {},
          "execution_count": 653
        }
      ]
    },
    {
      "cell_type": "markdown",
      "source": [
        "- To determine the outliers in our data, I would have to use a data visualization technique. I have decided to use boxplots. First, I will look at the above summary statistics (found using '.describe'), and then look at the median of each column to see if it is halfway in the middle of all the values. If the median is around halfway of all the values, then there is a chance that column does not have an outlier. Secondly, if the maximum is far away from the 75% (75th percentile) value, there is a chance that column has an outlier. Finally, if the minimum is far away from the 25% (25th percentile) value, there is a chance that column has an outlier. I have selected columns after considering the above 3 criteria stated and decided to create boxplots for each of those columns below."
      ],
      "metadata": {
        "id": "-5v45ItmbB0F"
      }
    },
    {
      "cell_type": "code",
      "source": [
        "# Boxplot for 'targeted_productivity' column\n",
        "plt.figure(figsize=(8,6))\n",
        "sns.boxplot(data=garm_prod, x='targeted_productivity');"
      ],
      "metadata": {
        "colab": {
          "base_uri": "https://localhost:8080/",
          "height": 389
        },
        "id": "6ByGSJXOa6q0",
        "outputId": "606a5f7a-53c3-4afd-e9ac-ad81ed29f9a9"
      },
      "execution_count": 654,
      "outputs": [
        {
          "output_type": "display_data",
          "data": {
            "text/plain": [
              "<Figure size 576x432 with 1 Axes>"
            ],
            "image/png": "[encoded data removed]"
          },
          "metadata": {
            "needs_background": "light"
          }
        }
      ]
    },
    {
      "cell_type": "code",
      "source": [
        "# Boxplot for 'wip' column\n",
        "plt.figure(figsize=(8,6))\n",
        "sns.boxplot(data=garm_prod, x='wip');"
      ],
      "metadata": {
        "colab": {
          "base_uri": "https://localhost:8080/",
          "height": 388
        },
        "id": "-DdsAiTUj1h9",
        "outputId": "b5711693-c047-4729-cb00-f31c7c50e53b"
      },
      "execution_count": 655,
      "outputs": [
        {
          "output_type": "display_data",
          "data": {
            "text/plain": [
              "<Figure size 576x432 with 1 Axes>"
            ],
            "image/png": "[encoded data removed]"
          },
          "metadata": {
            "needs_background": "light"
          }
        }
      ]
    },
    {
      "cell_type": "code",
      "source": [
        "# Boxplot for 'over_time' column\n",
        "plt.figure(figsize=(8,6))\n",
        "sns.boxplot(data=garm_prod, x='over_time');"
      ],
      "metadata": {
        "colab": {
          "base_uri": "https://localhost:8080/",
          "height": 389
        },
        "id": "ulB4ePsuka6I",
        "outputId": "469b5a32-db15-4dc4-bf70-4cdc48af2355"
      },
      "execution_count": 656,
      "outputs": [
        {
          "output_type": "display_data",
          "data": {
            "text/plain": [
              "<Figure size 576x432 with 1 Axes>"
            ],
            "image/png": "[encoded data removed]"
          },
          "metadata": {
            "needs_background": "light"
          }
        }
      ]
    },
    {
      "cell_type": "code",
      "source": [
        "# Boxplot for 'incentive' column\n",
        "plt.figure(figsize=(8,6))\n",
        "sns.boxplot(data=garm_prod, x='incentive');"
      ],
      "metadata": {
        "colab": {
          "base_uri": "https://localhost:8080/",
          "height": 388
        },
        "id": "RABC7zTekj80",
        "outputId": "28dce49c-5fa8-472c-9912-00e8e77f19f6"
      },
      "execution_count": 657,
      "outputs": [
        {
          "output_type": "display_data",
          "data": {
            "text/plain": [
              "<Figure size 576x432 with 1 Axes>"
            ],
            "image/png": "[encoded data removed]"
          },
          "metadata": {
            "needs_background": "light"
          }
        }
      ]
    },
    {
      "cell_type": "code",
      "source": [
        "# Boxplot for 'idle_time' column\n",
        "plt.figure(figsize=(8,6))\n",
        "sns.boxplot(data=garm_prod, x='idle_time');"
      ],
      "metadata": {
        "colab": {
          "base_uri": "https://localhost:8080/",
          "height": 389
        },
        "id": "NYaMXDOBkp3U",
        "outputId": "5a4122a3-2d0a-4986-e00b-a30fac3a9cf4"
      },
      "execution_count": 658,
      "outputs": [
        {
          "output_type": "display_data",
          "data": {
            "text/plain": [
              "<Figure size 576x432 with 1 Axes>"
            ],
            "image/png": "[encoded data removed]"
          },
          "metadata": {
            "needs_background": "light"
          }
        }
      ]
    },
    {
      "cell_type": "code",
      "source": [
        "# Boxplot for 'idle_men' column\n",
        "plt.figure(figsize=(8,6))\n",
        "sns.boxplot(data=garm_prod, x='idle_men');"
      ],
      "metadata": {
        "colab": {
          "base_uri": "https://localhost:8080/",
          "height": 389
        },
        "id": "8M-PQbfek4yG",
        "outputId": "5dd22b40-50de-4bdc-e7e4-4d37dd547cc3"
      },
      "execution_count": 659,
      "outputs": [
        {
          "output_type": "display_data",
          "data": {
            "text/plain": [
              "<Figure size 576x432 with 1 Axes>"
            ],
            "image/png": "[encoded data removed]"
          },
          "metadata": {
            "needs_background": "light"
          }
        }
      ]
    },
    {
      "cell_type": "code",
      "source": [
        "# Boxplot for 'no_of_style_change' column\n",
        "plt.figure(figsize=(8,6))\n",
        "sns.boxplot(data=garm_prod, x='no_of_style_change');"
      ],
      "metadata": {
        "colab": {
          "base_uri": "https://localhost:8080/",
          "height": 389
        },
        "id": "YV8kUIBrlBSb",
        "outputId": "3ece5c11-e4b9-40d4-88f4-11d16d61f535"
      },
      "execution_count": 660,
      "outputs": [
        {
          "output_type": "display_data",
          "data": {
            "text/plain": [
              "<Figure size 576x432 with 1 Axes>"
            ],
            "image/png": "[encoded data removed]"
          },
          "metadata": {
            "needs_background": "light"
          }
        }
      ]
    },
    {
      "cell_type": "markdown",
      "source": [
        "- We can see from the above boxplots that the following columns have outliers in them: 'targeted_productivity', 'wip', 'over_time', 'incentive', 'idle_time', 'idle_men', and 'no_of_style_change'\n",
        "\n",
        "- I have decided to keep the outliers in the 'garm_prod' data because I see no reason to believe they are errors in the dataset."
      ],
      "metadata": {
        "id": "rvNb6sewu-8R"
      }
    },
    {
      "cell_type": "markdown",
      "source": [
        "## 7) Create univariate and multivariate visualizations. \n",
        "\n",
        "a) Barchart of 'department' column. We will plot the count of each department\n",
        "\n",
        "b) Compare actual productivity for each department for each day of the week.\n",
        "\n",
        "c) Histogram of 'targeted_productivity' column. The 'targeted_productivity' column represents targeted productivity set by the authority for each team for each day.\n",
        "\n",
        "d) Histogram of 'actual_productivity' column. The 'actual_productivity' column represents the actual % of productivity that was delivered by the workers. "
      ],
      "metadata": {
        "id": "FGltp1J1R4K1"
      }
    },
    {
      "cell_type": "markdown",
      "source": [
        "### a) Barchart of 'department' column. "
      ],
      "metadata": {
        "id": "Sb7kxHqyoJXi"
      }
    },
    {
      "cell_type": "code",
      "source": [
        "# Count each department listed in the 'department' column\n",
        "dept_counts = garm_prod['department'].value_counts()\n",
        "dept_counts"
      ],
      "metadata": {
        "colab": {
          "base_uri": "https://localhost:8080/"
        },
        "id": "KhubFpZhJzQC",
        "outputId": "8f65fbeb-f0f0-449d-d7b1-bbb22b55a809"
      },
      "execution_count": 661,
      "outputs": [
        {
          "output_type": "execute_result",
          "data": {
            "text/plain": [
              "sweing       666\n",
              "finishing    494\n",
              "Name: department, dtype: int64"
            ]
          },
          "metadata": {},
          "execution_count": 661
        }
      ]
    },
    {
      "cell_type": "code",
      "source": [
        "# Plot the counts of each department\n",
        "\n",
        "dept_counts.plot(kind = 'bar', color = ['brown','green'])\n",
        "plt.title('Count of Each Department', fontsize = 18)\n",
        "plt.ylabel('Count', fontsize = 15)\n",
        "plt.xlabel('Departments', fontsize = 15)\n",
        "\n",
        "# Show your figure\n",
        "plt.show()\n",
        "\n",
        "# Display the counts below the plot\n",
        "dept_counts"
      ],
      "metadata": {
        "colab": {
          "base_uri": "https://localhost:8080/",
          "height": 391
        },
        "id": "rDpFsOJ6JuxX",
        "outputId": "5ce4b897-814d-44af-dbff-fbf9e0d7035f"
      },
      "execution_count": 662,
      "outputs": [
        {
          "output_type": "display_data",
          "data": {
            "text/plain": [
              "<Figure size 432x288 with 1 Axes>"
            ],
            "image/png": "[encoded data removed]"
          },
          "metadata": {
            "needs_background": "light"
          }
        },
        {
          "output_type": "execute_result",
          "data": {
            "text/plain": [
              "sweing       666\n",
              "finishing    494\n",
              "Name: department, dtype: int64"
            ]
          },
          "metadata": {},
          "execution_count": 662
        }
      ]
    },
    {
      "cell_type": "markdown",
      "source": [
        "- We can see from the above bar chart that the department 'sweing' had a higher count. There was more data obtained from the sweing department than the finishing department."
      ],
      "metadata": {
        "id": "W09PV3GgtaR_"
      }
    },
    {
      "cell_type": "markdown",
      "source": [
        "### b) Compare actual productivity for each department for each day of the week"
      ],
      "metadata": {
        "id": "Mtd8Cs5FH67C"
      }
    },
    {
      "cell_type": "code",
      "source": [
        "sns.barplot(data=garm_prod, x = 'day', y = 'actual_productivity', hue = 'department', ci = 68)"
      ],
      "metadata": {
        "colab": {
          "base_uri": "https://localhost:8080/",
          "height": 297
        },
        "id": "LCwYZzI9EW5C",
        "outputId": "63a6d5f1-b4ca-4f31-9ec2-6b4ba4f90a1f"
      },
      "execution_count": 663,
      "outputs": [
        {
          "output_type": "execute_result",
          "data": {
            "text/plain": [
              "<matplotlib.axes._subplots.AxesSubplot at 0x7f892142d490>"
            ]
          },
          "metadata": {},
          "execution_count": 663
        },
        {
          "output_type": "display_data",
          "data": {
            "text/plain": [
              "<Figure size 432x288 with 1 Axes>"
            ],
            "image/png": "[encoded data removed]"
          },
          "metadata": {
            "needs_background": "light"
          }
        }
      ]
    },
    {
      "cell_type": "markdown",
      "source": [
        "- For both departments, it looks like actual productivity is highest on Saturdays. It also looks like actual productvity was higher for the finishing department than the sweing department each day. However, considering we have more data for the sweing department, that could have impacted the results, causing actual productivity to be less for the sweing department."
      ],
      "metadata": {
        "id": "QjIciuPSIHII"
      }
    },
    {
      "cell_type": "markdown",
      "source": [
        "### c) Histogram of 'targeted_productivity' column. "
      ],
      "metadata": {
        "id": "8B5i6jQ-W3XB"
      }
    },
    {
      "cell_type": "code",
      "source": [
        "# Histogram of Targeted Productivity distribution.\n",
        "plt.figure(figsize=(8,6))\n",
        "# Parameter \"edgecolor='black'\" was adapted from: https://www.youtube.com/watch?v=XDv6T4a0RNc&list=PL-osiE80TeTvipOqomVEeZ1HRrcEvtZB_&index=6\n",
        "plt.hist(garm_prod['targeted_productivity'], bins='auto', edgecolor='black')\n",
        "plt.xlabel(\"targeted_productivity\")\n",
        "plt.ylabel(\"Count\")\n",
        "plt.title(\"Targeted Productivity Distribution for Teams\")\n",
        "# \"The following Code adapted from: https://stackoverflow.com/questions/9127434/how-to-create-major-and-minor-gridlines-with-different-linestyles-in-python”\n",
        "plt.minorticks_on();"
      ],
      "metadata": {
        "colab": {
          "base_uri": "https://localhost:8080/",
          "height": 405
        },
        "id": "7DLWriU64zve",
        "outputId": "0508b76d-a903-4d19-ff86-ab90c267849f"
      },
      "execution_count": 664,
      "outputs": [
        {
          "output_type": "display_data",
          "data": {
            "text/plain": [
              "<Figure size 576x432 with 1 Axes>"
            ],
            "image/png": "[encoded data removed]"
          },
          "metadata": {
            "needs_background": "light"
          }
        }
      ]
    },
    {
      "cell_type": "markdown",
      "source": [
        "- From the above histogram, targeted productivity frequency for workers was highest around approximately 0.78 - 0.80 or 78% - 80% range. This means that the number of times work teams were given set target productivity between 78% - 80% range was highest of all target productivity ranges. Since this range is the highest of all, we can say that employers expected high productivity from workers most days."
      ],
      "metadata": {
        "id": "Nh4O-4G7WOQB"
      }
    },
    {
      "cell_type": "markdown",
      "source": [
        "### d) Histogram of 'actual_productivity' column."
      ],
      "metadata": {
        "id": "dJq9Wc2rXW74"
      }
    },
    {
      "cell_type": "code",
      "source": [
        "# Histogram of Targeted Productivity distribution.\n",
        "plt.figure(figsize=(8,6))\n",
        "plt.hist(garm_prod['actual_productivity'], color = 'orange', bins='auto', edgecolor='black')\n",
        "plt.xlabel(\"actual_productivity\")\n",
        "plt.ylabel(\"Count\")\n",
        "plt.title(\"Actual Productivity Distribution for Teams\")\n",
        "plt.minorticks_on();"
      ],
      "metadata": {
        "colab": {
          "base_uri": "https://localhost:8080/",
          "height": 405
        },
        "id": "EoIkLqAcXgxs",
        "outputId": "c85301f1-9d72-4379-e456-f48cb518e804"
      },
      "execution_count": 665,
      "outputs": [
        {
          "output_type": "display_data",
          "data": {
            "text/plain": [
              "<Figure size 576x432 with 1 Axes>"
            ],
            "image/png": "[encoded data removed]"
          },
          "metadata": {
            "needs_background": "light"
          }
        }
      ]
    },
    {
      "cell_type": "markdown",
      "source": [
        "- From the above histogram, actual productivity frequency for workers was highest around approximately 0.78 - 0.82 or 78% - 82% range. This means that the number of times actual percent productivity for work teams fell between 78% - 82% range was highest of all actual productivity ranges. Since this range is close to the target productivity range (78% - 80%) with highest frequency, we can say that the target productivity was met by work teams most of the time."
      ],
      "metadata": {
        "id": "j3MuEV4dlLvw"
      }
    },
    {
      "cell_type": "markdown",
      "source": [
        "Considering the above histograms, let's classify actual productivity into high and low productivity. First, let's check the statistics for the numerical columns to see the median for the actual productivity column."
      ],
      "metadata": {
        "id": "zLgl6b5VHPmw"
      }
    },
    {
      "cell_type": "code",
      "source": [
        "# Let's check the statistics for the numerical columns again\n",
        "garm_prod.describe()"
      ],
      "metadata": {
        "colab": {
          "base_uri": "https://localhost:8080/",
          "height": 364
        },
        "id": "HGIWe6ZRLOWU",
        "outputId": "eda38fa8-7c54-4a33-a5c4-d1741917ab1c"
      },
      "execution_count": 666,
      "outputs": [
        {
          "output_type": "execute_result",
          "data": {
            "text/plain": [
              "              team  targeted_productivity         smv           wip  \\\n",
              "count  1160.000000            1160.000000  1160.00000    666.000000   \n",
              "mean      6.544828               0.727905    15.01481   1159.974474   \n",
              "std       3.422968               0.098735    11.00475   1769.132478   \n",
              "min       1.000000               0.070000     2.90000      7.000000   \n",
              "25%       4.000000               0.700000     3.94000    762.000000   \n",
              "50%       7.000000               0.750000    15.26000   1028.500000   \n",
              "75%       9.000000               0.800000    24.26000   1226.750000   \n",
              "max      12.000000               0.800000    54.56000  23122.000000   \n",
              "\n",
              "          over_time    incentive    idle_time     idle_men  \\\n",
              "count   1160.000000  1160.000000  1160.000000  1160.000000   \n",
              "mean    4575.301724    37.012931     0.753448     0.381034   \n",
              "std     3363.475857   162.300882    12.910356     3.320081   \n",
              "min        0.000000     0.000000     0.000000     0.000000   \n",
              "25%     1440.000000     0.000000     0.000000     0.000000   \n",
              "50%     3960.000000     0.000000     0.000000     0.000000   \n",
              "75%     6960.000000    50.000000     0.000000     0.000000   \n",
              "max    25920.000000  3600.000000   300.000000    45.000000   \n",
              "\n",
              "       no_of_style_change  no_of_workers  actual_productivity        month  \\\n",
              "count         1160.000000    1160.000000          1160.000000  1160.000000   \n",
              "mean             0.155172      34.346552             0.725991     1.723276   \n",
              "std              0.433766      22.181174             0.169404     0.752432   \n",
              "min              0.000000       2.000000             0.233705     1.000000   \n",
              "25%              0.000000       9.000000             0.650061     1.000000   \n",
              "50%              0.000000      34.000000             0.754425     2.000000   \n",
              "75%              0.000000      57.000000             0.845167     2.000000   \n",
              "max              2.000000      89.000000             0.999995     3.000000   \n",
              "\n",
              "            daynum  \n",
              "count  1160.000000  \n",
              "mean     13.543966  \n",
              "std       8.602113  \n",
              "min       1.000000  \n",
              "25%       6.750000  \n",
              "50%      12.000000  \n",
              "75%      21.000000  \n",
              "max      31.000000  "
            ],
            "text/html": [
              "\n",
              "  <div id=\"df-271fb5a3-209f-4d76-8429-5ec3f7253add\">\n",
              "    <div class=\"colab-df-container\">\n",
              "      <div>\n",
              "<style scoped>\n",
              "    .dataframe tbody tr th:only-of-type {\n",
              "        vertical-align: middle;\n",
              "    }\n",
              "\n",
              "    .dataframe tbody tr th {\n",
              "        vertical-align: top;\n",
              "    }\n",
              "\n",
              "    .dataframe thead th {\n",
              "        text-align: right;\n",
              "    }\n",
              "</style>\n",
              "<table border=\"1\" class=\"dataframe\">\n",
              "  <thead>\n",
              "    <tr style=\"text-align: right;\">\n",
              "      <th></th>\n",
              "      <th>team</th>\n",
              "      <th>targeted_productivity</th>\n",
              "      <th>smv</th>\n",
              "      <th>wip</th>\n",
              "      <th>over_time</th>\n",
              "      <th>incentive</th>\n",
              "      <th>idle_time</th>\n",
              "      <th>idle_men</th>\n",
              "      <th>no_of_style_change</th>\n",
              "      <th>no_of_workers</th>\n",
              "      <th>actual_productivity</th>\n",
              "      <th>month</th>\n",
              "      <th>daynum</th>\n",
              "    </tr>\n",
              "  </thead>\n",
              "  <tbody>\n",
              "    <tr>\n",
              "      <th>count</th>\n",
              "      <td>1160.000000</td>\n",
              "      <td>1160.000000</td>\n",
              "      <td>1160.00000</td>\n",
              "      <td>666.000000</td>\n",
              "      <td>1160.000000</td>\n",
              "      <td>1160.000000</td>\n",
              "      <td>1160.000000</td>\n",
              "      <td>1160.000000</td>\n",
              "      <td>1160.000000</td>\n",
              "      <td>1160.000000</td>\n",
              "      <td>1160.000000</td>\n",
              "      <td>1160.000000</td>\n",
              "      <td>1160.000000</td>\n",
              "    </tr>\n",
              "    <tr>\n",
              "      <th>mean</th>\n",
              "      <td>6.544828</td>\n",
              "      <td>0.727905</td>\n",
              "      <td>15.01481</td>\n",
              "      <td>1159.974474</td>\n",
              "      <td>4575.301724</td>\n",
              "      <td>37.012931</td>\n",
              "      <td>0.753448</td>\n",
              "      <td>0.381034</td>\n",
              "      <td>0.155172</td>\n",
              "      <td>34.346552</td>\n",
              "      <td>0.725991</td>\n",
              "      <td>1.723276</td>\n",
              "      <td>13.543966</td>\n",
              "    </tr>\n",
              "    <tr>\n",
              "      <th>std</th>\n",
              "      <td>3.422968</td>\n",
              "      <td>0.098735</td>\n",
              "      <td>11.00475</td>\n",
              "      <td>1769.132478</td>\n",
              "      <td>3363.475857</td>\n",
              "      <td>162.300882</td>\n",
              "      <td>12.910356</td>\n",
              "      <td>3.320081</td>\n",
              "      <td>0.433766</td>\n",
              "      <td>22.181174</td>\n",
              "      <td>0.169404</td>\n",
              "      <td>0.752432</td>\n",
              "      <td>8.602113</td>\n",
              "    </tr>\n",
              "    <tr>\n",
              "      <th>min</th>\n",
              "      <td>1.000000</td>\n",
              "      <td>0.070000</td>\n",
              "      <td>2.90000</td>\n",
              "      <td>7.000000</td>\n",
              "      <td>0.000000</td>\n",
              "      <td>0.000000</td>\n",
              "      <td>0.000000</td>\n",
              "      <td>0.000000</td>\n",
              "      <td>0.000000</td>\n",
              "      <td>2.000000</td>\n",
              "      <td>0.233705</td>\n",
              "      <td>1.000000</td>\n",
              "      <td>1.000000</td>\n",
              "    </tr>\n",
              "    <tr>\n",
              "      <th>25%</th>\n",
              "      <td>4.000000</td>\n",
              "      <td>0.700000</td>\n",
              "      <td>3.94000</td>\n",
              "      <td>762.000000</td>\n",
              "      <td>1440.000000</td>\n",
              "      <td>0.000000</td>\n",
              "      <td>0.000000</td>\n",
              "      <td>0.000000</td>\n",
              "      <td>0.000000</td>\n",
              "      <td>9.000000</td>\n",
              "      <td>0.650061</td>\n",
              "      <td>1.000000</td>\n",
              "      <td>6.750000</td>\n",
              "    </tr>\n",
              "    <tr>\n",
              "      <th>50%</th>\n",
              "      <td>7.000000</td>\n",
              "      <td>0.750000</td>\n",
              "      <td>15.26000</td>\n",
              "      <td>1028.500000</td>\n",
              "      <td>3960.000000</td>\n",
              "      <td>0.000000</td>\n",
              "      <td>0.000000</td>\n",
              "      <td>0.000000</td>\n",
              "      <td>0.000000</td>\n",
              "      <td>34.000000</td>\n",
              "      <td>0.754425</td>\n",
              "      <td>2.000000</td>\n",
              "      <td>12.000000</td>\n",
              "    </tr>\n",
              "    <tr>\n",
              "      <th>75%</th>\n",
              "      <td>9.000000</td>\n",
              "      <td>0.800000</td>\n",
              "      <td>24.26000</td>\n",
              "      <td>1226.750000</td>\n",
              "      <td>6960.000000</td>\n",
              "      <td>50.000000</td>\n",
              "      <td>0.000000</td>\n",
              "      <td>0.000000</td>\n",
              "      <td>0.000000</td>\n",
              "      <td>57.000000</td>\n",
              "      <td>0.845167</td>\n",
              "      <td>2.000000</td>\n",
              "      <td>21.000000</td>\n",
              "    </tr>\n",
              "    <tr>\n",
              "      <th>max</th>\n",
              "      <td>12.000000</td>\n",
              "      <td>0.800000</td>\n",
              "      <td>54.56000</td>\n",
              "      <td>23122.000000</td>\n",
              "      <td>25920.000000</td>\n",
              "      <td>3600.000000</td>\n",
              "      <td>300.000000</td>\n",
              "      <td>45.000000</td>\n",
              "      <td>2.000000</td>\n",
              "      <td>89.000000</td>\n",
              "      <td>0.999995</td>\n",
              "      <td>3.000000</td>\n",
              "      <td>31.000000</td>\n",
              "    </tr>\n",
              "  </tbody>\n",
              "</table>\n",
              "</div>\n",
              "      <button class=\"colab-df-convert\" onclick=\"convertToInteractive('df-271fb5a3-209f-4d76-8429-5ec3f7253add')\"\n",
              "              title=\"Convert this dataframe to an interactive table.\"\n",
              "              style=\"display:none;\">\n",
              "        \n",
              "  <svg xmlns=\"http://www.w3.org/2000/svg\" height=\"24px\"viewBox=\"0 0 24 24\"\n",
              "       width=\"24px\">\n",
              "    <path d=\"M0 0h24v24H0V0z\" fill=\"none\"/>\n",
              "    <path d=\"M18.56 5.44l.94 2.06.94-2.06 2.06-.94-2.06-.94-.94-2.06-.94 2.06-2.06.94zm-11 1L8.5 8.5l.94-2.06 2.06-.94-2.06-.94L8.5 2.5l-.94 2.06-2.06.94zm10 10l.94 2.06.94-2.06 2.06-.94-2.06-.94-.94-2.06-.94 2.06-2.06.94z\"/><path d=\"M17.41 7.96l-1.37-1.37c-.4-.4-.92-.59-1.43-.59-.52 0-1.04.2-1.43.59L10.3 9.45l-7.72 7.72c-.78.78-.78 2.05 0 2.83L4 21.41c.39.39.9.59 1.41.59.51 0 1.02-.2 1.41-.59l7.78-7.78 2.81-2.81c.8-.78.8-2.07 0-2.86zM5.41 20L4 18.59l7.72-7.72 1.47 1.35L5.41 20z\"/>\n",
              "  </svg>\n",
              "      </button>\n",
              "      \n",
              "  <style>\n",
              "    .colab-df-container {\n",
              "      display:flex;\n",
              "      flex-wrap:wrap;\n",
              "      gap: 12px;\n",
              "    }\n",
              "\n",
              "    .colab-df-convert {\n",
              "      background-color: #E8F0FE;\n",
              "      border: none;\n",
              "      border-radius: 50%;\n",
              "      cursor: pointer;\n",
              "      display: none;\n",
              "      fill: #1967D2;\n",
              "      height: 32px;\n",
              "      padding: 0 0 0 0;\n",
              "      width: 32px;\n",
              "    }\n",
              "\n",
              "    .colab-df-convert:hover {\n",
              "      background-color: #E2EBFA;\n",
              "      box-shadow: 0px 1px 2px rgba(60, 64, 67, 0.3), 0px 1px 3px 1px rgba(60, 64, 67, 0.15);\n",
              "      fill: #174EA6;\n",
              "    }\n",
              "\n",
              "    [theme=dark] .colab-df-convert {\n",
              "      background-color: #3B4455;\n",
              "      fill: #D2E3FC;\n",
              "    }\n",
              "\n",
              "    [theme=dark] .colab-df-convert:hover {\n",
              "      background-color: #434B5C;\n",
              "      box-shadow: 0px 1px 3px 1px rgba(0, 0, 0, 0.15);\n",
              "      filter: drop-shadow(0px 1px 2px rgba(0, 0, 0, 0.3));\n",
              "      fill: #FFFFFF;\n",
              "    }\n",
              "  </style>\n",
              "\n",
              "      <script>\n",
              "        const buttonEl =\n",
              "          document.querySelector('#df-271fb5a3-209f-4d76-8429-5ec3f7253add button.colab-df-convert');\n",
              "        buttonEl.style.display =\n",
              "          google.colab.kernel.accessAllowed ? 'block' : 'none';\n",
              "\n",
              "        async function convertToInteractive(key) {\n",
              "          const element = document.querySelector('#df-271fb5a3-209f-4d76-8429-5ec3f7253add');\n",
              "          const dataTable =\n",
              "            await google.colab.kernel.invokeFunction('convertToInteractive',\n",
              "                                                     [key], {});\n",
              "          if (!dataTable) return;\n",
              "\n",
              "          const docLinkHtml = 'Like what you see? Visit the ' +\n",
              "            '<a target=\"_blank\" href=https://colab.research.google.com/notebooks/data_table.ipynb>data table notebook</a>'\n",
              "            + ' to learn more about interactive tables.';\n",
              "          element.innerHTML = '';\n",
              "          dataTable['output_type'] = 'display_data';\n",
              "          await google.colab.output.renderOutput(dataTable, element);\n",
              "          const docLink = document.createElement('div');\n",
              "          docLink.innerHTML = docLinkHtml;\n",
              "          element.appendChild(docLink);\n",
              "        }\n",
              "      </script>\n",
              "    </div>\n",
              "  </div>\n",
              "  "
            ]
          },
          "metadata": {},
          "execution_count": 666
        }
      ]
    },
    {
      "cell_type": "markdown",
      "source": [
        "- From the above table, we can see that the median for actual productivity is 0.75. We can set actual productivity values greater than 0.75 as high productivity and values less than or equal to 0.75 as low productivity."
      ],
      "metadata": {
        "id": "GpKWW7GjIt65"
      }
    },
    {
      "cell_type": "markdown",
      "source": [
        "First, let's use a vertical line on the histogram to visualize this median point."
      ],
      "metadata": {
        "id": "66fuxdtIKKtL"
      }
    },
    {
      "cell_type": "code",
      "source": [
        "# Histogram of Targeted Productivity distribution.\n",
        "plt.figure(figsize=(8,6))\n",
        "plt.hist(garm_prod['actual_productivity'], color = 'orange', bins='auto', edgecolor='black')\n",
        "plt.xlabel(\"actual_productivity\")\n",
        "plt.ylabel(\"Count\")\n",
        "plt.title(\"Actual Productivity Distribution for Teams\")\n",
        "plt.minorticks_on();\n",
        "plt.axvline(0.75, color = 'black')"
      ],
      "metadata": {
        "colab": {
          "base_uri": "https://localhost:8080/",
          "height": 423
        },
        "id": "ZXBLuEYGKkwV",
        "outputId": "dea2ddfc-004f-4c31-e84e-99cea97370f5"
      },
      "execution_count": 667,
      "outputs": [
        {
          "output_type": "execute_result",
          "data": {
            "text/plain": [
              "<matplotlib.lines.Line2D at 0x7f892092ad50>"
            ]
          },
          "metadata": {},
          "execution_count": 667
        },
        {
          "output_type": "display_data",
          "data": {
            "text/plain": [
              "<Figure size 576x432 with 1 Axes>"
            ],
            "image/png": "[encoded data removed]"
          },
          "metadata": {
            "needs_background": "light"
          }
        }
      ]
    },
    {
      "cell_type": "markdown",
      "source": [
        "Now let's set actual productivity values greater than 0.75 as high productivity and values less than or equal to 0.75 as low productivity. We will also create a new column titled 'productivity_target' to indicate that this is our target (y) column."
      ],
      "metadata": {
        "id": "lg9Yg6nnKyu9"
      }
    },
    {
      "cell_type": "code",
      "source": [
        "# Let's set values greater than 0.75 as high productivity and values less than or equal to 0.75 as low productivity. \n",
        "garm_prod['productivity_target'] = garm_prod['actual_productivity'] > 0.75\n",
        "garm_prod['productivity_target'].replace({True: 'High', False: 'Low'}, inplace=True)\n",
        "garm_prod"
      ],
      "metadata": {
        "colab": {
          "base_uri": "https://localhost:8080/",
          "height": 487
        },
        "id": "FCNqP1H7HBI6",
        "outputId": "a5cbfe70-c881-4881-f918-53d75c2bf5fe"
      },
      "execution_count": 668,
      "outputs": [
        {
          "output_type": "execute_result",
          "data": {
            "text/plain": [
              "       quarter department        day  team  targeted_productivity    smv  \\\n",
              "0     Quarter1     sweing   Thursday     8                   0.80  26.16   \n",
              "1     Quarter1  finishing   Thursday     1                   0.75   3.94   \n",
              "2     Quarter1     sweing   Thursday    11                   0.80  11.41   \n",
              "3     Quarter1     sweing   Thursday    12                   0.80  11.41   \n",
              "4     Quarter1     sweing   Thursday     6                   0.80  25.90   \n",
              "...        ...        ...        ...   ...                    ...    ...   \n",
              "1192  Quarter2  finishing  Wednesday    10                   0.75   2.90   \n",
              "1193  Quarter2  finishing  Wednesday     8                   0.70   3.90   \n",
              "1194  Quarter2  finishing  Wednesday     7                   0.65   3.90   \n",
              "1195  Quarter2  finishing  Wednesday     9                   0.75   2.90   \n",
              "1196  Quarter2  finishing  Wednesday     6                   0.70   2.90   \n",
              "\n",
              "         wip  over_time  incentive  idle_time  idle_men  no_of_style_change  \\\n",
              "0     1108.0       7080         98        0.0         0                   0   \n",
              "1        NaN        960          0        0.0         0                   0   \n",
              "2      968.0       3660         50        0.0         0                   0   \n",
              "3      968.0       3660         50        0.0         0                   0   \n",
              "4     1170.0       1920         50        0.0         0                   0   \n",
              "...      ...        ...        ...        ...       ...                 ...   \n",
              "1192     NaN        960          0        0.0         0                   0   \n",
              "1193     NaN        960          0        0.0         0                   0   \n",
              "1194     NaN        960          0        0.0         0                   0   \n",
              "1195     NaN       1800          0        0.0         0                   0   \n",
              "1196     NaN        720          0        0.0         0                   0   \n",
              "\n",
              "      no_of_workers  actual_productivity  month  daynum productivity_target  \n",
              "0              59.0             0.940725      1       1                High  \n",
              "1               8.0             0.886500      1       1                High  \n",
              "2              30.5             0.800570      1       1                High  \n",
              "3              30.5             0.800570      1       1                High  \n",
              "4              56.0             0.800382      1       1                High  \n",
              "...             ...                  ...    ...     ...                 ...  \n",
              "1192            8.0             0.628333      3      11                 Low  \n",
              "1193            8.0             0.625625      3      11                 Low  \n",
              "1194            8.0             0.625625      3      11                 Low  \n",
              "1195           15.0             0.505889      3      11                 Low  \n",
              "1196            6.0             0.394722      3      11                 Low  \n",
              "\n",
              "[1160 rows x 17 columns]"
            ],
            "text/html": [
              "\n",
              "  <div id=\"df-0064f213-fd2e-4b2b-b5c3-2c02da97e269\">\n",
              "    <div class=\"colab-df-container\">\n",
              "      <div>\n",
              "<style scoped>\n",
              "    .dataframe tbody tr th:only-of-type {\n",
              "        vertical-align: middle;\n",
              "    }\n",
              "\n",
              "    .dataframe tbody tr th {\n",
              "        vertical-align: top;\n",
              "    }\n",
              "\n",
              "    .dataframe thead th {\n",
              "        text-align: right;\n",
              "    }\n",
              "</style>\n",
              "<table border=\"1\" class=\"dataframe\">\n",
              "  <thead>\n",
              "    <tr style=\"text-align: right;\">\n",
              "      <th></th>\n",
              "      <th>quarter</th>\n",
              "      <th>department</th>\n",
              "      <th>day</th>\n",
              "      <th>team</th>\n",
              "      <th>targeted_productivity</th>\n",
              "      <th>smv</th>\n",
              "      <th>wip</th>\n",
              "      <th>over_time</th>\n",
              "      <th>incentive</th>\n",
              "      <th>idle_time</th>\n",
              "      <th>idle_men</th>\n",
              "      <th>no_of_style_change</th>\n",
              "      <th>no_of_workers</th>\n",
              "      <th>actual_productivity</th>\n",
              "      <th>month</th>\n",
              "      <th>daynum</th>\n",
              "      <th>productivity_target</th>\n",
              "    </tr>\n",
              "  </thead>\n",
              "  <tbody>\n",
              "    <tr>\n",
              "      <th>0</th>\n",
              "      <td>Quarter1</td>\n",
              "      <td>sweing</td>\n",
              "      <td>Thursday</td>\n",
              "      <td>8</td>\n",
              "      <td>0.80</td>\n",
              "      <td>26.16</td>\n",
              "      <td>1108.0</td>\n",
              "      <td>7080</td>\n",
              "      <td>98</td>\n",
              "      <td>0.0</td>\n",
              "      <td>0</td>\n",
              "      <td>0</td>\n",
              "      <td>59.0</td>\n",
              "      <td>0.940725</td>\n",
              "      <td>1</td>\n",
              "      <td>1</td>\n",
              "      <td>High</td>\n",
              "    </tr>\n",
              "    <tr>\n",
              "      <th>1</th>\n",
              "      <td>Quarter1</td>\n",
              "      <td>finishing</td>\n",
              "      <td>Thursday</td>\n",
              "      <td>1</td>\n",
              "      <td>0.75</td>\n",
              "      <td>3.94</td>\n",
              "      <td>NaN</td>\n",
              "      <td>960</td>\n",
              "      <td>0</td>\n",
              "      <td>0.0</td>\n",
              "      <td>0</td>\n",
              "      <td>0</td>\n",
              "      <td>8.0</td>\n",
              "      <td>0.886500</td>\n",
              "      <td>1</td>\n",
              "      <td>1</td>\n",
              "      <td>High</td>\n",
              "    </tr>\n",
              "    <tr>\n",
              "      <th>2</th>\n",
              "      <td>Quarter1</td>\n",
              "      <td>sweing</td>\n",
              "      <td>Thursday</td>\n",
              "      <td>11</td>\n",
              "      <td>0.80</td>\n",
              "      <td>11.41</td>\n",
              "      <td>968.0</td>\n",
              "      <td>3660</td>\n",
              "      <td>50</td>\n",
              "      <td>0.0</td>\n",
              "      <td>0</td>\n",
              "      <td>0</td>\n",
              "      <td>30.5</td>\n",
              "      <td>0.800570</td>\n",
              "      <td>1</td>\n",
              "      <td>1</td>\n",
              "      <td>High</td>\n",
              "    </tr>\n",
              "    <tr>\n",
              "      <th>3</th>\n",
              "      <td>Quarter1</td>\n",
              "      <td>sweing</td>\n",
              "      <td>Thursday</td>\n",
              "      <td>12</td>\n",
              "      <td>0.80</td>\n",
              "      <td>11.41</td>\n",
              "      <td>968.0</td>\n",
              "      <td>3660</td>\n",
              "      <td>50</td>\n",
              "      <td>0.0</td>\n",
              "      <td>0</td>\n",
              "      <td>0</td>\n",
              "      <td>30.5</td>\n",
              "      <td>0.800570</td>\n",
              "      <td>1</td>\n",
              "      <td>1</td>\n",
              "      <td>High</td>\n",
              "    </tr>\n",
              "    <tr>\n",
              "      <th>4</th>\n",
              "      <td>Quarter1</td>\n",
              "      <td>sweing</td>\n",
              "      <td>Thursday</td>\n",
              "      <td>6</td>\n",
              "      <td>0.80</td>\n",
              "      <td>25.90</td>\n",
              "      <td>1170.0</td>\n",
              "      <td>1920</td>\n",
              "      <td>50</td>\n",
              "      <td>0.0</td>\n",
              "      <td>0</td>\n",
              "      <td>0</td>\n",
              "      <td>56.0</td>\n",
              "      <td>0.800382</td>\n",
              "      <td>1</td>\n",
              "      <td>1</td>\n",
              "      <td>High</td>\n",
              "    </tr>\n",
              "    <tr>\n",
              "      <th>...</th>\n",
              "      <td>...</td>\n",
              "      <td>...</td>\n",
              "      <td>...</td>\n",
              "      <td>...</td>\n",
              "      <td>...</td>\n",
              "      <td>...</td>\n",
              "      <td>...</td>\n",
              "      <td>...</td>\n",
              "      <td>...</td>\n",
              "      <td>...</td>\n",
              "      <td>...</td>\n",
              "      <td>...</td>\n",
              "      <td>...</td>\n",
              "      <td>...</td>\n",
              "      <td>...</td>\n",
              "      <td>...</td>\n",
              "      <td>...</td>\n",
              "    </tr>\n",
              "    <tr>\n",
              "      <th>1192</th>\n",
              "      <td>Quarter2</td>\n",
              "      <td>finishing</td>\n",
              "      <td>Wednesday</td>\n",
              "      <td>10</td>\n",
              "      <td>0.75</td>\n",
              "      <td>2.90</td>\n",
              "      <td>NaN</td>\n",
              "      <td>960</td>\n",
              "      <td>0</td>\n",
              "      <td>0.0</td>\n",
              "      <td>0</td>\n",
              "      <td>0</td>\n",
              "      <td>8.0</td>\n",
              "      <td>0.628333</td>\n",
              "      <td>3</td>\n",
              "      <td>11</td>\n",
              "      <td>Low</td>\n",
              "    </tr>\n",
              "    <tr>\n",
              "      <th>1193</th>\n",
              "      <td>Quarter2</td>\n",
              "      <td>finishing</td>\n",
              "      <td>Wednesday</td>\n",
              "      <td>8</td>\n",
              "      <td>0.70</td>\n",
              "      <td>3.90</td>\n",
              "      <td>NaN</td>\n",
              "      <td>960</td>\n",
              "      <td>0</td>\n",
              "      <td>0.0</td>\n",
              "      <td>0</td>\n",
              "      <td>0</td>\n",
              "      <td>8.0</td>\n",
              "      <td>0.625625</td>\n",
              "      <td>3</td>\n",
              "      <td>11</td>\n",
              "      <td>Low</td>\n",
              "    </tr>\n",
              "    <tr>\n",
              "      <th>1194</th>\n",
              "      <td>Quarter2</td>\n",
              "      <td>finishing</td>\n",
              "      <td>Wednesday</td>\n",
              "      <td>7</td>\n",
              "      <td>0.65</td>\n",
              "      <td>3.90</td>\n",
              "      <td>NaN</td>\n",
              "      <td>960</td>\n",
              "      <td>0</td>\n",
              "      <td>0.0</td>\n",
              "      <td>0</td>\n",
              "      <td>0</td>\n",
              "      <td>8.0</td>\n",
              "      <td>0.625625</td>\n",
              "      <td>3</td>\n",
              "      <td>11</td>\n",
              "      <td>Low</td>\n",
              "    </tr>\n",
              "    <tr>\n",
              "      <th>1195</th>\n",
              "      <td>Quarter2</td>\n",
              "      <td>finishing</td>\n",
              "      <td>Wednesday</td>\n",
              "      <td>9</td>\n",
              "      <td>0.75</td>\n",
              "      <td>2.90</td>\n",
              "      <td>NaN</td>\n",
              "      <td>1800</td>\n",
              "      <td>0</td>\n",
              "      <td>0.0</td>\n",
              "      <td>0</td>\n",
              "      <td>0</td>\n",
              "      <td>15.0</td>\n",
              "      <td>0.505889</td>\n",
              "      <td>3</td>\n",
              "      <td>11</td>\n",
              "      <td>Low</td>\n",
              "    </tr>\n",
              "    <tr>\n",
              "      <th>1196</th>\n",
              "      <td>Quarter2</td>\n",
              "      <td>finishing</td>\n",
              "      <td>Wednesday</td>\n",
              "      <td>6</td>\n",
              "      <td>0.70</td>\n",
              "      <td>2.90</td>\n",
              "      <td>NaN</td>\n",
              "      <td>720</td>\n",
              "      <td>0</td>\n",
              "      <td>0.0</td>\n",
              "      <td>0</td>\n",
              "      <td>0</td>\n",
              "      <td>6.0</td>\n",
              "      <td>0.394722</td>\n",
              "      <td>3</td>\n",
              "      <td>11</td>\n",
              "      <td>Low</td>\n",
              "    </tr>\n",
              "  </tbody>\n",
              "</table>\n",
              "<p>1160 rows × 17 columns</p>\n",
              "</div>\n",
              "      <button class=\"colab-df-convert\" onclick=\"convertToInteractive('df-0064f213-fd2e-4b2b-b5c3-2c02da97e269')\"\n",
              "              title=\"Convert this dataframe to an interactive table.\"\n",
              "              style=\"display:none;\">\n",
              "        \n",
              "  <svg xmlns=\"http://www.w3.org/2000/svg\" height=\"24px\"viewBox=\"0 0 24 24\"\n",
              "       width=\"24px\">\n",
              "    <path d=\"M0 0h24v24H0V0z\" fill=\"none\"/>\n",
              "    <path d=\"M18.56 5.44l.94 2.06.94-2.06 2.06-.94-2.06-.94-.94-2.06-.94 2.06-2.06.94zm-11 1L8.5 8.5l.94-2.06 2.06-.94-2.06-.94L8.5 2.5l-.94 2.06-2.06.94zm10 10l.94 2.06.94-2.06 2.06-.94-2.06-.94-.94-2.06-.94 2.06-2.06.94z\"/><path d=\"M17.41 7.96l-1.37-1.37c-.4-.4-.92-.59-1.43-.59-.52 0-1.04.2-1.43.59L10.3 9.45l-7.72 7.72c-.78.78-.78 2.05 0 2.83L4 21.41c.39.39.9.59 1.41.59.51 0 1.02-.2 1.41-.59l7.78-7.78 2.81-2.81c.8-.78.8-2.07 0-2.86zM5.41 20L4 18.59l7.72-7.72 1.47 1.35L5.41 20z\"/>\n",
              "  </svg>\n",
              "      </button>\n",
              "      \n",
              "  <style>\n",
              "    .colab-df-container {\n",
              "      display:flex;\n",
              "      flex-wrap:wrap;\n",
              "      gap: 12px;\n",
              "    }\n",
              "\n",
              "    .colab-df-convert {\n",
              "      background-color: #E8F0FE;\n",
              "      border: none;\n",
              "      border-radius: 50%;\n",
              "      cursor: pointer;\n",
              "      display: none;\n",
              "      fill: #1967D2;\n",
              "      height: 32px;\n",
              "      padding: 0 0 0 0;\n",
              "      width: 32px;\n",
              "    }\n",
              "\n",
              "    .colab-df-convert:hover {\n",
              "      background-color: #E2EBFA;\n",
              "      box-shadow: 0px 1px 2px rgba(60, 64, 67, 0.3), 0px 1px 3px 1px rgba(60, 64, 67, 0.15);\n",
              "      fill: #174EA6;\n",
              "    }\n",
              "\n",
              "    [theme=dark] .colab-df-convert {\n",
              "      background-color: #3B4455;\n",
              "      fill: #D2E3FC;\n",
              "    }\n",
              "\n",
              "    [theme=dark] .colab-df-convert:hover {\n",
              "      background-color: #434B5C;\n",
              "      box-shadow: 0px 1px 3px 1px rgba(0, 0, 0, 0.15);\n",
              "      filter: drop-shadow(0px 1px 2px rgba(0, 0, 0, 0.3));\n",
              "      fill: #FFFFFF;\n",
              "    }\n",
              "  </style>\n",
              "\n",
              "      <script>\n",
              "        const buttonEl =\n",
              "          document.querySelector('#df-0064f213-fd2e-4b2b-b5c3-2c02da97e269 button.colab-df-convert');\n",
              "        buttonEl.style.display =\n",
              "          google.colab.kernel.accessAllowed ? 'block' : 'none';\n",
              "\n",
              "        async function convertToInteractive(key) {\n",
              "          const element = document.querySelector('#df-0064f213-fd2e-4b2b-b5c3-2c02da97e269');\n",
              "          const dataTable =\n",
              "            await google.colab.kernel.invokeFunction('convertToInteractive',\n",
              "                                                     [key], {});\n",
              "          if (!dataTable) return;\n",
              "\n",
              "          const docLinkHtml = 'Like what you see? Visit the ' +\n",
              "            '<a target=\"_blank\" href=https://colab.research.google.com/notebooks/data_table.ipynb>data table notebook</a>'\n",
              "            + ' to learn more about interactive tables.';\n",
              "          element.innerHTML = '';\n",
              "          dataTable['output_type'] = 'display_data';\n",
              "          await google.colab.output.renderOutput(dataTable, element);\n",
              "          const docLink = document.createElement('div');\n",
              "          docLink.innerHTML = docLinkHtml;\n",
              "          element.appendChild(docLink);\n",
              "        }\n",
              "      </script>\n",
              "    </div>\n",
              "  </div>\n",
              "  "
            ]
          },
          "metadata": {},
          "execution_count": 668
        }
      ]
    },
    {
      "cell_type": "markdown",
      "source": [
        "- We can see from the above that a new column (titled 'productivity_target') has been created that classifies the values in the 'actual_productivity' into '**High**' and '**Low**' (representing \"high actual productivity\" and \"low actual productivity\"). However, the previous 'actual_productivity' column still exists. Now, let's drop that column. "
      ],
      "metadata": {
        "id": "GKD6uSnRK9SJ"
      }
    },
    {
      "cell_type": "code",
      "source": [
        "garm_prod.drop(columns=['actual_productivity'], inplace=True)\n",
        "garm_prod.head()"
      ],
      "metadata": {
        "colab": {
          "base_uri": "https://localhost:8080/",
          "height": 270
        },
        "id": "UwR-aZnzJSqj",
        "outputId": "d7b8c43d-a0d9-49f2-9a96-95f79b19484e"
      },
      "execution_count": 669,
      "outputs": [
        {
          "output_type": "execute_result",
          "data": {
            "text/plain": [
              "    quarter department       day  team  targeted_productivity    smv     wip  \\\n",
              "0  Quarter1     sweing  Thursday     8                   0.80  26.16  1108.0   \n",
              "1  Quarter1  finishing  Thursday     1                   0.75   3.94     NaN   \n",
              "2  Quarter1     sweing  Thursday    11                   0.80  11.41   968.0   \n",
              "3  Quarter1     sweing  Thursday    12                   0.80  11.41   968.0   \n",
              "4  Quarter1     sweing  Thursday     6                   0.80  25.90  1170.0   \n",
              "\n",
              "   over_time  incentive  idle_time  idle_men  no_of_style_change  \\\n",
              "0       7080         98        0.0         0                   0   \n",
              "1        960          0        0.0         0                   0   \n",
              "2       3660         50        0.0         0                   0   \n",
              "3       3660         50        0.0         0                   0   \n",
              "4       1920         50        0.0         0                   0   \n",
              "\n",
              "   no_of_workers  month  daynum productivity_target  \n",
              "0           59.0      1       1                High  \n",
              "1            8.0      1       1                High  \n",
              "2           30.5      1       1                High  \n",
              "3           30.5      1       1                High  \n",
              "4           56.0      1       1                High  "
            ],
            "text/html": [
              "\n",
              "  <div id=\"df-46a577ba-0c53-400a-8d63-a7098b31eae1\">\n",
              "    <div class=\"colab-df-container\">\n",
              "      <div>\n",
              "<style scoped>\n",
              "    .dataframe tbody tr th:only-of-type {\n",
              "        vertical-align: middle;\n",
              "    }\n",
              "\n",
              "    .dataframe tbody tr th {\n",
              "        vertical-align: top;\n",
              "    }\n",
              "\n",
              "    .dataframe thead th {\n",
              "        text-align: right;\n",
              "    }\n",
              "</style>\n",
              "<table border=\"1\" class=\"dataframe\">\n",
              "  <thead>\n",
              "    <tr style=\"text-align: right;\">\n",
              "      <th></th>\n",
              "      <th>quarter</th>\n",
              "      <th>department</th>\n",
              "      <th>day</th>\n",
              "      <th>team</th>\n",
              "      <th>targeted_productivity</th>\n",
              "      <th>smv</th>\n",
              "      <th>wip</th>\n",
              "      <th>over_time</th>\n",
              "      <th>incentive</th>\n",
              "      <th>idle_time</th>\n",
              "      <th>idle_men</th>\n",
              "      <th>no_of_style_change</th>\n",
              "      <th>no_of_workers</th>\n",
              "      <th>month</th>\n",
              "      <th>daynum</th>\n",
              "      <th>productivity_target</th>\n",
              "    </tr>\n",
              "  </thead>\n",
              "  <tbody>\n",
              "    <tr>\n",
              "      <th>0</th>\n",
              "      <td>Quarter1</td>\n",
              "      <td>sweing</td>\n",
              "      <td>Thursday</td>\n",
              "      <td>8</td>\n",
              "      <td>0.80</td>\n",
              "      <td>26.16</td>\n",
              "      <td>1108.0</td>\n",
              "      <td>7080</td>\n",
              "      <td>98</td>\n",
              "      <td>0.0</td>\n",
              "      <td>0</td>\n",
              "      <td>0</td>\n",
              "      <td>59.0</td>\n",
              "      <td>1</td>\n",
              "      <td>1</td>\n",
              "      <td>High</td>\n",
              "    </tr>\n",
              "    <tr>\n",
              "      <th>1</th>\n",
              "      <td>Quarter1</td>\n",
              "      <td>finishing</td>\n",
              "      <td>Thursday</td>\n",
              "      <td>1</td>\n",
              "      <td>0.75</td>\n",
              "      <td>3.94</td>\n",
              "      <td>NaN</td>\n",
              "      <td>960</td>\n",
              "      <td>0</td>\n",
              "      <td>0.0</td>\n",
              "      <td>0</td>\n",
              "      <td>0</td>\n",
              "      <td>8.0</td>\n",
              "      <td>1</td>\n",
              "      <td>1</td>\n",
              "      <td>High</td>\n",
              "    </tr>\n",
              "    <tr>\n",
              "      <th>2</th>\n",
              "      <td>Quarter1</td>\n",
              "      <td>sweing</td>\n",
              "      <td>Thursday</td>\n",
              "      <td>11</td>\n",
              "      <td>0.80</td>\n",
              "      <td>11.41</td>\n",
              "      <td>968.0</td>\n",
              "      <td>3660</td>\n",
              "      <td>50</td>\n",
              "      <td>0.0</td>\n",
              "      <td>0</td>\n",
              "      <td>0</td>\n",
              "      <td>30.5</td>\n",
              "      <td>1</td>\n",
              "      <td>1</td>\n",
              "      <td>High</td>\n",
              "    </tr>\n",
              "    <tr>\n",
              "      <th>3</th>\n",
              "      <td>Quarter1</td>\n",
              "      <td>sweing</td>\n",
              "      <td>Thursday</td>\n",
              "      <td>12</td>\n",
              "      <td>0.80</td>\n",
              "      <td>11.41</td>\n",
              "      <td>968.0</td>\n",
              "      <td>3660</td>\n",
              "      <td>50</td>\n",
              "      <td>0.0</td>\n",
              "      <td>0</td>\n",
              "      <td>0</td>\n",
              "      <td>30.5</td>\n",
              "      <td>1</td>\n",
              "      <td>1</td>\n",
              "      <td>High</td>\n",
              "    </tr>\n",
              "    <tr>\n",
              "      <th>4</th>\n",
              "      <td>Quarter1</td>\n",
              "      <td>sweing</td>\n",
              "      <td>Thursday</td>\n",
              "      <td>6</td>\n",
              "      <td>0.80</td>\n",
              "      <td>25.90</td>\n",
              "      <td>1170.0</td>\n",
              "      <td>1920</td>\n",
              "      <td>50</td>\n",
              "      <td>0.0</td>\n",
              "      <td>0</td>\n",
              "      <td>0</td>\n",
              "      <td>56.0</td>\n",
              "      <td>1</td>\n",
              "      <td>1</td>\n",
              "      <td>High</td>\n",
              "    </tr>\n",
              "  </tbody>\n",
              "</table>\n",
              "</div>\n",
              "      <button class=\"colab-df-convert\" onclick=\"convertToInteractive('df-46a577ba-0c53-400a-8d63-a7098b31eae1')\"\n",
              "              title=\"Convert this dataframe to an interactive table.\"\n",
              "              style=\"display:none;\">\n",
              "        \n",
              "  <svg xmlns=\"http://www.w3.org/2000/svg\" height=\"24px\"viewBox=\"0 0 24 24\"\n",
              "       width=\"24px\">\n",
              "    <path d=\"M0 0h24v24H0V0z\" fill=\"none\"/>\n",
              "    <path d=\"M18.56 5.44l.94 2.06.94-2.06 2.06-.94-2.06-.94-.94-2.06-.94 2.06-2.06.94zm-11 1L8.5 8.5l.94-2.06 2.06-.94-2.06-.94L8.5 2.5l-.94 2.06-2.06.94zm10 10l.94 2.06.94-2.06 2.06-.94-2.06-.94-.94-2.06-.94 2.06-2.06.94z\"/><path d=\"M17.41 7.96l-1.37-1.37c-.4-.4-.92-.59-1.43-.59-.52 0-1.04.2-1.43.59L10.3 9.45l-7.72 7.72c-.78.78-.78 2.05 0 2.83L4 21.41c.39.39.9.59 1.41.59.51 0 1.02-.2 1.41-.59l7.78-7.78 2.81-2.81c.8-.78.8-2.07 0-2.86zM5.41 20L4 18.59l7.72-7.72 1.47 1.35L5.41 20z\"/>\n",
              "  </svg>\n",
              "      </button>\n",
              "      \n",
              "  <style>\n",
              "    .colab-df-container {\n",
              "      display:flex;\n",
              "      flex-wrap:wrap;\n",
              "      gap: 12px;\n",
              "    }\n",
              "\n",
              "    .colab-df-convert {\n",
              "      background-color: #E8F0FE;\n",
              "      border: none;\n",
              "      border-radius: 50%;\n",
              "      cursor: pointer;\n",
              "      display: none;\n",
              "      fill: #1967D2;\n",
              "      height: 32px;\n",
              "      padding: 0 0 0 0;\n",
              "      width: 32px;\n",
              "    }\n",
              "\n",
              "    .colab-df-convert:hover {\n",
              "      background-color: #E2EBFA;\n",
              "      box-shadow: 0px 1px 2px rgba(60, 64, 67, 0.3), 0px 1px 3px 1px rgba(60, 64, 67, 0.15);\n",
              "      fill: #174EA6;\n",
              "    }\n",
              "\n",
              "    [theme=dark] .colab-df-convert {\n",
              "      background-color: #3B4455;\n",
              "      fill: #D2E3FC;\n",
              "    }\n",
              "\n",
              "    [theme=dark] .colab-df-convert:hover {\n",
              "      background-color: #434B5C;\n",
              "      box-shadow: 0px 1px 3px 1px rgba(0, 0, 0, 0.15);\n",
              "      filter: drop-shadow(0px 1px 2px rgba(0, 0, 0, 0.3));\n",
              "      fill: #FFFFFF;\n",
              "    }\n",
              "  </style>\n",
              "\n",
              "      <script>\n",
              "        const buttonEl =\n",
              "          document.querySelector('#df-46a577ba-0c53-400a-8d63-a7098b31eae1 button.colab-df-convert');\n",
              "        buttonEl.style.display =\n",
              "          google.colab.kernel.accessAllowed ? 'block' : 'none';\n",
              "\n",
              "        async function convertToInteractive(key) {\n",
              "          const element = document.querySelector('#df-46a577ba-0c53-400a-8d63-a7098b31eae1');\n",
              "          const dataTable =\n",
              "            await google.colab.kernel.invokeFunction('convertToInteractive',\n",
              "                                                     [key], {});\n",
              "          if (!dataTable) return;\n",
              "\n",
              "          const docLinkHtml = 'Like what you see? Visit the ' +\n",
              "            '<a target=\"_blank\" href=https://colab.research.google.com/notebooks/data_table.ipynb>data table notebook</a>'\n",
              "            + ' to learn more about interactive tables.';\n",
              "          element.innerHTML = '';\n",
              "          dataTable['output_type'] = 'display_data';\n",
              "          await google.colab.output.renderOutput(dataTable, element);\n",
              "          const docLink = document.createElement('div');\n",
              "          docLink.innerHTML = docLinkHtml;\n",
              "          element.appendChild(docLink);\n",
              "        }\n",
              "      </script>\n",
              "    </div>\n",
              "  </div>\n",
              "  "
            ]
          },
          "metadata": {},
          "execution_count": 669
        }
      ]
    },
    {
      "cell_type": "markdown",
      "source": [
        "- The 'actual_productivity' column has been dropped."
      ],
      "metadata": {
        "id": "TkF2NyEmTa9Q"
      }
    },
    {
      "cell_type": "markdown",
      "source": [
        "## 8) Correlation heatmap of the 'garm_prod' dataframe"
      ],
      "metadata": {
        "id": "yfzHuBEjmTaL"
      }
    },
    {
      "cell_type": "code",
      "source": [
        "# Heat map of the 'garm_prod' dataframe\n",
        "corr = garm_prod.corr()\n",
        "plt.figure(figsize=(15,8))\n",
        "sns.heatmap(corr, cmap='Blues', annot=True);"
      ],
      "metadata": {
        "id": "W3A_y-Kdlga5",
        "colab": {
          "base_uri": "https://localhost:8080/",
          "height": 584
        },
        "outputId": "26e7f0ba-fabf-40f5-a2e9-44dc5011ffd8"
      },
      "execution_count": 670,
      "outputs": [
        {
          "output_type": "display_data",
          "data": {
            "text/plain": [
              "<Figure size 1080x576 with 2 Axes>"
            ],
            "image/png": "[encoded data removed]"
          },
          "metadata": {
            "needs_background": "light"
          }
        }
      ]
    },
    {
      "cell_type": "markdown",
      "source": [
        "- Low positive correlation coefficients are roughly between 0.3 and 0.5. Low negative correlation coefficients are roughly between -0.3 and -0.5.\n",
        "\n",
        "- Moderate positive correlation coefficients are between 0.5 and 0.7. Moderate negative correlation coefficients are roughly between -0.5 and -0.7.\n",
        "\n",
        "- Strong correlation coefficients are between 0.7 and 1. Strong negative correlation coefficients are between -0.7 and -1.\n",
        "\n",
        "- In general, the closer the correlation coefficient is to 0, the weaker the correlation.\n",
        "\n",
        "- The following are the moderate and strong correlations in the data:\n",
        "\n",
        "**Moderate positive Correlations:**\n",
        "\n",
        "- 'smv' and 'over_time': Correlation Coefficient is 0.68  \n",
        "\n",
        "- 'over_time' and 'no_of_workers': Correlation Coefficient is 0.74\n",
        "\n",
        "- 'idle_time' and 'idle_men': Correlation Coefficient is 0.56\n",
        "\n",
        "**Strong positive Correlations:**\n",
        "\n",
        "- 'smv' and 'no_of_workers': Correlation Coefficient is 0.91\n",
        "\n",
        "There are no moderate or strong negative correlations\n"
      ],
      "metadata": {
        "id": "mPY6ooFQnVnC"
      }
    },
    {
      "cell_type": "markdown",
      "source": [
        "## 9) Identify features as numerical, ordinal, or nominal based on updates to the dataset."
      ],
      "metadata": {
        "id": "aN0clgkoqoE2"
      }
    },
    {
      "cell_type": "code",
      "source": [
        "garm_prod.info()"
      ],
      "metadata": {
        "id": "58zDpasdAuTQ",
        "colab": {
          "base_uri": "https://localhost:8080/"
        },
        "outputId": "6748f40a-3cce-40e9-9a18-a19b81cc5394"
      },
      "execution_count": 671,
      "outputs": [
        {
          "output_type": "stream",
          "name": "stdout",
          "text": [
            "<class 'pandas.core.frame.DataFrame'>\n",
            "Int64Index: 1160 entries, 0 to 1196\n",
            "Data columns (total 16 columns):\n",
            " #   Column                 Non-Null Count  Dtype  \n",
            "---  ------                 --------------  -----  \n",
            " 0   quarter                1160 non-null   object \n",
            " 1   department             1160 non-null   object \n",
            " 2   day                    1160 non-null   object \n",
            " 3   team                   1160 non-null   int64  \n",
            " 4   targeted_productivity  1160 non-null   float64\n",
            " 5   smv                    1160 non-null   float64\n",
            " 6   wip                    666 non-null    float64\n",
            " 7   over_time              1160 non-null   int64  \n",
            " 8   incentive              1160 non-null   int64  \n",
            " 9   idle_time              1160 non-null   float64\n",
            " 10  idle_men               1160 non-null   int64  \n",
            " 11  no_of_style_change     1160 non-null   int64  \n",
            " 12  no_of_workers          1160 non-null   float64\n",
            " 13  month                  1160 non-null   int64  \n",
            " 14  daynum                 1160 non-null   int64  \n",
            " 15  productivity_target    1160 non-null   object \n",
            "dtypes: float64(5), int64(7), object(4)\n",
            "memory usage: 186.4+ KB\n"
          ]
        }
      ]
    },
    {
      "cell_type": "markdown",
      "source": [
        "**Numerical features:** 'team', 'targeted_productivity', 'smv', 'wip', 'over_time', 'incentive', 'idle_time', 'idle_men', 'no_of_style_change', 'no_of_workers', 'month', 'daynum.'\n",
        "\n",
        "**Nominal features:** 'quarter', 'department', 'day'\n",
        "\n",
        "**Ordinal features:** There are no ordinal features"
      ],
      "metadata": {
        "id": "g1EoDO5WreZE"
      }
    },
    {
      "cell_type": "markdown",
      "source": [
        "## 10) Convert the string names of the target (productivity_target) classes to numeric values"
      ],
      "metadata": {
        "id": "zsy2DfoHsEfZ"
      }
    },
    {
      "cell_type": "code",
      "source": [
        "garm_prod['productivity_target'] = garm_prod['productivity_target'].replace({'Low': 0, 'High': 1})"
      ],
      "metadata": {
        "id": "b8Bf_F-EsUtE"
      },
      "execution_count": 672,
      "outputs": []
    },
    {
      "cell_type": "markdown",
      "source": [
        "## 11) Check target (productivity_target) class balance"
      ],
      "metadata": {
        "id": "cynknHdSyX9b"
      }
    },
    {
      "cell_type": "code",
      "source": [
        "# Check class balance numbers\n",
        "garm_prod['productivity_target'].value_counts()"
      ],
      "metadata": {
        "colab": {
          "base_uri": "https://localhost:8080/"
        },
        "id": "aBFfF39Ux-ov",
        "outputId": "cfda8fab-5d66-4370-e8b0-0c409f193af6"
      },
      "execution_count": 673,
      "outputs": [
        {
          "output_type": "execute_result",
          "data": {
            "text/plain": [
              "1    679\n",
              "0    481\n",
              "Name: productivity_target, dtype: int64"
            ]
          },
          "metadata": {},
          "execution_count": 673
        }
      ]
    },
    {
      "cell_type": "code",
      "source": [
        "# Check class balance percentages\n",
        "garm_prod['productivity_target'].value_counts(normalize=True)"
      ],
      "metadata": {
        "colab": {
          "base_uri": "https://localhost:8080/"
        },
        "id": "quIMIllwyOCn",
        "outputId": "2e669729-358b-4075-a5f6-11be96d77146"
      },
      "execution_count": 674,
      "outputs": [
        {
          "output_type": "execute_result",
          "data": {
            "text/plain": [
              "1    0.585345\n",
              "0    0.414655\n",
              "Name: productivity_target, dtype: float64"
            ]
          },
          "metadata": {},
          "execution_count": 674
        }
      ]
    },
    {
      "cell_type": "markdown",
      "source": [
        "## 12) Validation Split"
      ],
      "metadata": {
        "id": "JmhSXOkPEbF9"
      }
    },
    {
      "cell_type": "code",
      "source": [
        "X = garm_prod.drop(columns=['productivity_target'])\n",
        "y = garm_prod['productivity_target']\n",
        "X_train, X_test, y_train, y_test = train_test_split(X, y, random_state = 42)"
      ],
      "metadata": {
        "id": "gWnY7PqdmnWB"
      },
      "execution_count": 675,
      "outputs": []
    },
    {
      "cell_type": "markdown",
      "source": [
        "## 13) Instantiate Column Selectors"
      ],
      "metadata": {
        "id": "R7vgiPaDHG68"
      }
    },
    {
      "cell_type": "code",
      "source": [
        "cat_selector = make_column_selector(dtype_include='object')\n",
        "num_selector = make_column_selector(dtype_include='number')"
      ],
      "metadata": {
        "id": "y55CbnkiG_b5"
      },
      "execution_count": 676,
      "outputs": []
    },
    {
      "cell_type": "markdown",
      "source": [
        "## 14) Instantiate Transformers.\n",
        "\n",
        "We will be using 3 different transformers: SimpleImputer, StandardScaler, and OneHotEncoder. There will be one SimpleImputer with one imputation strategy: ‘median’ strategy for numeric columns. There is no categorical feature with missing value, so we won't need to use SimpleImputer for categorical columns. We will one-hot encode the nominal categorical features as well."
      ],
      "metadata": {
        "id": "AzJMJY-AIEPa"
      }
    },
    {
      "cell_type": "code",
      "source": [
        "# Imputers\n",
        "median_imputer = SimpleImputer(strategy='median')\n",
        "# Scaler\n",
        "scaler = StandardScaler()\n",
        "# One-hot encoder\n",
        "ohe = OneHotEncoder(handle_unknown='ignore', sparse=False)"
      ],
      "metadata": {
        "id": "1CZKRsLYHbp1"
      },
      "execution_count": 677,
      "outputs": []
    },
    {
      "cell_type": "markdown",
      "source": [
        "## 15) Instantiate Pipelines\n",
        "\n",
        "We will be using ONE pipeline for numeric data."
      ],
      "metadata": {
        "id": "4y2ZIstRIzg-"
      }
    },
    {
      "cell_type": "code",
      "source": [
        "# Numeric pipeline\n",
        "numeric_pipe = make_pipeline(median_imputer, scaler)\n",
        "numeric_pipe"
      ],
      "metadata": {
        "id": "fHp3zf03Itip",
        "colab": {
          "base_uri": "https://localhost:8080/",
          "height": 126
        },
        "outputId": "83590c4f-ec9a-4256-8940-b2cf99e3d373"
      },
      "execution_count": 678,
      "outputs": [
        {
          "output_type": "execute_result",
          "data": {
            "text/plain": [
              "Pipeline(steps=[('simpleimputer', SimpleImputer(strategy='median')),\n",
              "                ('standardscaler', StandardScaler())])"
            ],
            "text/html": [
              "<style>#sk-c1067c24-c5bc-4636-8e07-88f967fe02bb {color: black;background-color: white;}#sk-c1067c24-c5bc-4636-8e07-88f967fe02bb pre{padding: 0;}#sk-c1067c24-c5bc-4636-8e07-88f967fe02bb div.sk-toggleable {background-color: white;}#sk-c1067c24-c5bc-4636-8e07-88f967fe02bb label.sk-toggleable__label {cursor: pointer;display: block;width: 100%;margin-bottom: 0;padding: 0.3em;box-sizing: border-box;text-align: center;}#sk-c1067c24-c5bc-4636-8e07-88f967fe02bb label.sk-toggleable__label-arrow:before {content: \"▸\";float: left;margin-right: 0.25em;color: #696969;}#sk-c1067c24-c5bc-4636-8e07-88f967fe02bb label.sk-toggleable__label-arrow:hover:before {color: black;}#sk-c1067c24-c5bc-4636-8e07-88f967fe02bb div.sk-estimator:hover label.sk-toggleable__label-arrow:before {color: black;}#sk-c1067c24-c5bc-4636-8e07-88f967fe02bb div.sk-toggleable__content {max-height: 0;max-width: 0;overflow: hidden;text-align: left;background-color: #f0f8ff;}#sk-c1067c24-c5bc-4636-8e07-88f967fe02bb div.sk-toggleable__content pre {margin: 0.2em;color: black;border-radius: 0.25em;background-color: #f0f8ff;}#sk-c1067c24-c5bc-4636-8e07-88f967fe02bb input.sk-toggleable__control:checked~div.sk-toggleable__content {max-height: 200px;max-width: 100%;overflow: auto;}#sk-c1067c24-c5bc-4636-8e07-88f967fe02bb input.sk-toggleable__control:checked~label.sk-toggleable__label-arrow:before {content: \"▾\";}#sk-c1067c24-c5bc-4636-8e07-88f967fe02bb div.sk-estimator input.sk-toggleable__control:checked~label.sk-toggleable__label {background-color: #d4ebff;}#sk-c1067c24-c5bc-4636-8e07-88f967fe02bb div.sk-label input.sk-toggleable__control:checked~label.sk-toggleable__label {background-color: #d4ebff;}#sk-c1067c24-c5bc-4636-8e07-88f967fe02bb input.sk-hidden--visually {border: 0;clip: rect(1px 1px 1px 1px);clip: rect(1px, 1px, 1px, 1px);height: 1px;margin: -1px;overflow: hidden;padding: 0;position: absolute;width: 1px;}#sk-c1067c24-c5bc-4636-8e07-88f967fe02bb div.sk-estimator {font-family: monospace;background-color: #f0f8ff;border: 1px dotted black;border-radius: 0.25em;box-sizing: border-box;margin-bottom: 0.5em;}#sk-c1067c24-c5bc-4636-8e07-88f967fe02bb div.sk-estimator:hover {background-color: #d4ebff;}#sk-c1067c24-c5bc-4636-8e07-88f967fe02bb div.sk-parallel-item::after {content: \"\";width: 100%;border-bottom: 1px solid gray;flex-grow: 1;}#sk-c1067c24-c5bc-4636-8e07-88f967fe02bb div.sk-label:hover label.sk-toggleable__label {background-color: #d4ebff;}#sk-c1067c24-c5bc-4636-8e07-88f967fe02bb div.sk-serial::before {content: \"\";position: absolute;border-left: 1px solid gray;box-sizing: border-box;top: 2em;bottom: 0;left: 50%;}#sk-c1067c24-c5bc-4636-8e07-88f967fe02bb div.sk-serial {display: flex;flex-direction: column;align-items: center;background-color: white;padding-right: 0.2em;padding-left: 0.2em;}#sk-c1067c24-c5bc-4636-8e07-88f967fe02bb div.sk-item {z-index: 1;}#sk-c1067c24-c5bc-4636-8e07-88f967fe02bb div.sk-parallel {display: flex;align-items: stretch;justify-content: center;background-color: white;}#sk-c1067c24-c5bc-4636-8e07-88f967fe02bb div.sk-parallel::before {content: \"\";position: absolute;border-left: 1px solid gray;box-sizing: border-box;top: 2em;bottom: 0;left: 50%;}#sk-c1067c24-c5bc-4636-8e07-88f967fe02bb div.sk-parallel-item {display: flex;flex-direction: column;position: relative;background-color: white;}#sk-c1067c24-c5bc-4636-8e07-88f967fe02bb div.sk-parallel-item:first-child::after {align-self: flex-end;width: 50%;}#sk-c1067c24-c5bc-4636-8e07-88f967fe02bb div.sk-parallel-item:last-child::after {align-self: flex-start;width: 50%;}#sk-c1067c24-c5bc-4636-8e07-88f967fe02bb div.sk-parallel-item:only-child::after {width: 0;}#sk-c1067c24-c5bc-4636-8e07-88f967fe02bb div.sk-dashed-wrapped {border: 1px dashed gray;margin: 0 0.4em 0.5em 0.4em;box-sizing: border-box;padding-bottom: 0.4em;background-color: white;position: relative;}#sk-c1067c24-c5bc-4636-8e07-88f967fe02bb div.sk-label label {font-family: monospace;font-weight: bold;background-color: white;display: inline-block;line-height: 1.2em;}#sk-c1067c24-c5bc-4636-8e07-88f967fe02bb div.sk-label-container {position: relative;z-index: 2;text-align: center;}#sk-c1067c24-c5bc-4636-8e07-88f967fe02bb div.sk-container {/* jupyter's `normalize.less` sets `[hidden] { display: none; }` but bootstrap.min.css set `[hidden] { display: none !important; }` so we also need the `!important` here to be able to override the default hidden behavior on the sphinx rendered scikit-learn.org. See: https://github.com/scikit-learn/scikit-learn/issues/21755 */display: inline-block !important;position: relative;}#sk-c1067c24-c5bc-4636-8e07-88f967fe02bb div.sk-text-repr-fallback {display: none;}</style><div id=\"sk-c1067c24-c5bc-4636-8e07-88f967fe02bb\" class=\"sk-top-container\"><div class=\"sk-text-repr-fallback\"><pre>Pipeline(steps=[(&#x27;simpleimputer&#x27;, SimpleImputer(strategy=&#x27;median&#x27;)),\n",
              "                (&#x27;standardscaler&#x27;, StandardScaler())])</pre><b>Please rerun this cell to show the HTML repr or trust the notebook.</b></div><div class=\"sk-container\" hidden><div class=\"sk-item sk-dashed-wrapped\"><div class=\"sk-label-container\"><div class=\"sk-label sk-toggleable\"><input class=\"sk-toggleable__control sk-hidden--visually\" id=\"0da29aa7-33dd-44d8-aab1-42c5494e0a54\" type=\"checkbox\" ><label for=\"0da29aa7-33dd-44d8-aab1-42c5494e0a54\" class=\"sk-toggleable__label sk-toggleable__label-arrow\">Pipeline</label><div class=\"sk-toggleable__content\"><pre>Pipeline(steps=[(&#x27;simpleimputer&#x27;, SimpleImputer(strategy=&#x27;median&#x27;)),\n",
              "                (&#x27;standardscaler&#x27;, StandardScaler())])</pre></div></div></div><div class=\"sk-serial\"><div class=\"sk-item\"><div class=\"sk-estimator sk-toggleable\"><input class=\"sk-toggleable__control sk-hidden--visually\" id=\"f91862f5-279d-4f67-abde-8363a209aa4d\" type=\"checkbox\" ><label for=\"f91862f5-279d-4f67-abde-8363a209aa4d\" class=\"sk-toggleable__label sk-toggleable__label-arrow\">SimpleImputer</label><div class=\"sk-toggleable__content\"><pre>SimpleImputer(strategy=&#x27;median&#x27;)</pre></div></div></div><div class=\"sk-item\"><div class=\"sk-estimator sk-toggleable\"><input class=\"sk-toggleable__control sk-hidden--visually\" id=\"85b91428-ca07-439f-a9ee-44fc2e8f0249\" type=\"checkbox\" ><label for=\"85b91428-ca07-439f-a9ee-44fc2e8f0249\" class=\"sk-toggleable__label sk-toggleable__label-arrow\">StandardScaler</label><div class=\"sk-toggleable__content\"><pre>StandardScaler()</pre></div></div></div></div></div></div></div>"
            ]
          },
          "metadata": {},
          "execution_count": 678
        }
      ]
    },
    {
      "cell_type": "markdown",
      "source": [
        "## 16) Instantiate ColumnTransformer"
      ],
      "metadata": {
        "id": "o3GyvTs2JD0k"
      }
    },
    {
      "cell_type": "code",
      "source": [
        "# Tuples for Column Transformer\n",
        "number_tuple = (numeric_pipe, num_selector)\n",
        "category_tuple = (ohe, cat_selector)\n",
        "# ColumnTransformer\n",
        "preprocessor = make_column_transformer(number_tuple, category_tuple, remainder='passthrough')\n",
        "preprocessor"
      ],
      "metadata": {
        "id": "O2CPaMx2I3oC",
        "colab": {
          "base_uri": "https://localhost:8080/",
          "height": 152
        },
        "outputId": "e772ab79-42e3-4a50-96df-3bff391ae585"
      },
      "execution_count": 679,
      "outputs": [
        {
          "output_type": "execute_result",
          "data": {
            "text/plain": [
              "ColumnTransformer(remainder='passthrough',\n",
              "                  transformers=[('pipeline',\n",
              "                                 Pipeline(steps=[('simpleimputer',\n",
              "                                                  SimpleImputer(strategy='median')),\n",
              "                                                 ('standardscaler',\n",
              "                                                  StandardScaler())]),\n",
              "                                 <sklearn.compose._column_transformer.make_column_selector object at 0x7f8921551e90>),\n",
              "                                ('onehotencoder',\n",
              "                                 OneHotEncoder(handle_unknown='ignore',\n",
              "                                               sparse=False),\n",
              "                                 <sklearn.compose._column_transformer.make_column_selector object at 0x7f8921551590>)])"
            ],
            "text/html": [
              "<style>#sk-01e2bc6e-7d19-4527-bb98-0708b83f4da1 {color: black;background-color: white;}#sk-01e2bc6e-7d19-4527-bb98-0708b83f4da1 pre{padding: 0;}#sk-01e2bc6e-7d19-4527-bb98-0708b83f4da1 div.sk-toggleable {background-color: white;}#sk-01e2bc6e-7d19-4527-bb98-0708b83f4da1 label.sk-toggleable__label {cursor: pointer;display: block;width: 100%;margin-bottom: 0;padding: 0.3em;box-sizing: border-box;text-align: center;}#sk-01e2bc6e-7d19-4527-bb98-0708b83f4da1 label.sk-toggleable__label-arrow:before {content: \"▸\";float: left;margin-right: 0.25em;color: #696969;}#sk-01e2bc6e-7d19-4527-bb98-0708b83f4da1 label.sk-toggleable__label-arrow:hover:before {color: black;}#sk-01e2bc6e-7d19-4527-bb98-0708b83f4da1 div.sk-estimator:hover label.sk-toggleable__label-arrow:before {color: black;}#sk-01e2bc6e-7d19-4527-bb98-0708b83f4da1 div.sk-toggleable__content {max-height: 0;max-width: 0;overflow: hidden;text-align: left;background-color: #f0f8ff;}#sk-01e2bc6e-7d19-4527-bb98-0708b83f4da1 div.sk-toggleable__content pre {margin: 0.2em;color: black;border-radius: 0.25em;background-color: #f0f8ff;}#sk-01e2bc6e-7d19-4527-bb98-0708b83f4da1 input.sk-toggleable__control:checked~div.sk-toggleable__content {max-height: 200px;max-width: 100%;overflow: auto;}#sk-01e2bc6e-7d19-4527-bb98-0708b83f4da1 input.sk-toggleable__control:checked~label.sk-toggleable__label-arrow:before {content: \"▾\";}#sk-01e2bc6e-7d19-4527-bb98-0708b83f4da1 div.sk-estimator input.sk-toggleable__control:checked~label.sk-toggleable__label {background-color: #d4ebff;}#sk-01e2bc6e-7d19-4527-bb98-0708b83f4da1 div.sk-label input.sk-toggleable__control:checked~label.sk-toggleable__label {background-color: #d4ebff;}#sk-01e2bc6e-7d19-4527-bb98-0708b83f4da1 input.sk-hidden--visually {border: 0;clip: rect(1px 1px 1px 1px);clip: rect(1px, 1px, 1px, 1px);height: 1px;margin: -1px;overflow: hidden;padding: 0;position: absolute;width: 1px;}#sk-01e2bc6e-7d19-4527-bb98-0708b83f4da1 div.sk-estimator {font-family: monospace;background-color: #f0f8ff;border: 1px dotted black;border-radius: 0.25em;box-sizing: border-box;margin-bottom: 0.5em;}#sk-01e2bc6e-7d19-4527-bb98-0708b83f4da1 div.sk-estimator:hover {background-color: #d4ebff;}#sk-01e2bc6e-7d19-4527-bb98-0708b83f4da1 div.sk-parallel-item::after {content: \"\";width: 100%;border-bottom: 1px solid gray;flex-grow: 1;}#sk-01e2bc6e-7d19-4527-bb98-0708b83f4da1 div.sk-label:hover label.sk-toggleable__label {background-color: #d4ebff;}#sk-01e2bc6e-7d19-4527-bb98-0708b83f4da1 div.sk-serial::before {content: \"\";position: absolute;border-left: 1px solid gray;box-sizing: border-box;top: 2em;bottom: 0;left: 50%;}#sk-01e2bc6e-7d19-4527-bb98-0708b83f4da1 div.sk-serial {display: flex;flex-direction: column;align-items: center;background-color: white;padding-right: 0.2em;padding-left: 0.2em;}#sk-01e2bc6e-7d19-4527-bb98-0708b83f4da1 div.sk-item {z-index: 1;}#sk-01e2bc6e-7d19-4527-bb98-0708b83f4da1 div.sk-parallel {display: flex;align-items: stretch;justify-content: center;background-color: white;}#sk-01e2bc6e-7d19-4527-bb98-0708b83f4da1 div.sk-parallel::before {content: \"\";position: absolute;border-left: 1px solid gray;box-sizing: border-box;top: 2em;bottom: 0;left: 50%;}#sk-01e2bc6e-7d19-4527-bb98-0708b83f4da1 div.sk-parallel-item {display: flex;flex-direction: column;position: relative;background-color: white;}#sk-01e2bc6e-7d19-4527-bb98-0708b83f4da1 div.sk-parallel-item:first-child::after {align-self: flex-end;width: 50%;}#sk-01e2bc6e-7d19-4527-bb98-0708b83f4da1 div.sk-parallel-item:last-child::after {align-self: flex-start;width: 50%;}#sk-01e2bc6e-7d19-4527-bb98-0708b83f4da1 div.sk-parallel-item:only-child::after {width: 0;}#sk-01e2bc6e-7d19-4527-bb98-0708b83f4da1 div.sk-dashed-wrapped {border: 1px dashed gray;margin: 0 0.4em 0.5em 0.4em;box-sizing: border-box;padding-bottom: 0.4em;background-color: white;position: relative;}#sk-01e2bc6e-7d19-4527-bb98-0708b83f4da1 div.sk-label label {font-family: monospace;font-weight: bold;background-color: white;display: inline-block;line-height: 1.2em;}#sk-01e2bc6e-7d19-4527-bb98-0708b83f4da1 div.sk-label-container {position: relative;z-index: 2;text-align: center;}#sk-01e2bc6e-7d19-4527-bb98-0708b83f4da1 div.sk-container {/* jupyter's `normalize.less` sets `[hidden] { display: none; }` but bootstrap.min.css set `[hidden] { display: none !important; }` so we also need the `!important` here to be able to override the default hidden behavior on the sphinx rendered scikit-learn.org. See: https://github.com/scikit-learn/scikit-learn/issues/21755 */display: inline-block !important;position: relative;}#sk-01e2bc6e-7d19-4527-bb98-0708b83f4da1 div.sk-text-repr-fallback {display: none;}</style><div id=\"sk-01e2bc6e-7d19-4527-bb98-0708b83f4da1\" class=\"sk-top-container\"><div class=\"sk-text-repr-fallback\"><pre>ColumnTransformer(remainder=&#x27;passthrough&#x27;,\n",
              "                  transformers=[(&#x27;pipeline&#x27;,\n",
              "                                 Pipeline(steps=[(&#x27;simpleimputer&#x27;,\n",
              "                                                  SimpleImputer(strategy=&#x27;median&#x27;)),\n",
              "                                                 (&#x27;standardscaler&#x27;,\n",
              "                                                  StandardScaler())]),\n",
              "                                 &lt;sklearn.compose._column_transformer.make_column_selector object at 0x7f8921551e90&gt;),\n",
              "                                (&#x27;onehotencoder&#x27;,\n",
              "                                 OneHotEncoder(handle_unknown=&#x27;ignore&#x27;,\n",
              "                                               sparse=False),\n",
              "                                 &lt;sklearn.compose._column_transformer.make_column_selector object at 0x7f8921551590&gt;)])</pre><b>Please rerun this cell to show the HTML repr or trust the notebook.</b></div><div class=\"sk-container\" hidden><div class=\"sk-item sk-dashed-wrapped\"><div class=\"sk-label-container\"><div class=\"sk-label sk-toggleable\"><input class=\"sk-toggleable__control sk-hidden--visually\" id=\"02c030b8-f2f7-44c7-9997-4db3047d11ee\" type=\"checkbox\" ><label for=\"02c030b8-f2f7-44c7-9997-4db3047d11ee\" class=\"sk-toggleable__label sk-toggleable__label-arrow\">ColumnTransformer</label><div class=\"sk-toggleable__content\"><pre>ColumnTransformer(remainder=&#x27;passthrough&#x27;,\n",
              "                  transformers=[(&#x27;pipeline&#x27;,\n",
              "                                 Pipeline(steps=[(&#x27;simpleimputer&#x27;,\n",
              "                                                  SimpleImputer(strategy=&#x27;median&#x27;)),\n",
              "                                                 (&#x27;standardscaler&#x27;,\n",
              "                                                  StandardScaler())]),\n",
              "                                 &lt;sklearn.compose._column_transformer.make_column_selector object at 0x7f8921551e90&gt;),\n",
              "                                (&#x27;onehotencoder&#x27;,\n",
              "                                 OneHotEncoder(handle_unknown=&#x27;ignore&#x27;,\n",
              "                                               sparse=False),\n",
              "                                 &lt;sklearn.compose._column_transformer.make_column_selector object at 0x7f8921551590&gt;)])</pre></div></div></div><div class=\"sk-parallel\"><div class=\"sk-parallel-item\"><div class=\"sk-item\"><div class=\"sk-label-container\"><div class=\"sk-label sk-toggleable\"><input class=\"sk-toggleable__control sk-hidden--visually\" id=\"bf227ab8-8b33-40a5-9953-2bb1b6db750c\" type=\"checkbox\" ><label for=\"bf227ab8-8b33-40a5-9953-2bb1b6db750c\" class=\"sk-toggleable__label sk-toggleable__label-arrow\">pipeline</label><div class=\"sk-toggleable__content\"><pre>&lt;sklearn.compose._column_transformer.make_column_selector object at 0x7f8921551e90&gt;</pre></div></div></div><div class=\"sk-serial\"><div class=\"sk-item\"><div class=\"sk-serial\"><div class=\"sk-item\"><div class=\"sk-estimator sk-toggleable\"><input class=\"sk-toggleable__control sk-hidden--visually\" id=\"69668dec-c1d4-4f67-b6f3-452ab1cda218\" type=\"checkbox\" ><label for=\"69668dec-c1d4-4f67-b6f3-452ab1cda218\" class=\"sk-toggleable__label sk-toggleable__label-arrow\">SimpleImputer</label><div class=\"sk-toggleable__content\"><pre>SimpleImputer(strategy=&#x27;median&#x27;)</pre></div></div></div><div class=\"sk-item\"><div class=\"sk-estimator sk-toggleable\"><input class=\"sk-toggleable__control sk-hidden--visually\" id=\"76838694-a6c0-446b-98b2-6009ba42365f\" type=\"checkbox\" ><label for=\"76838694-a6c0-446b-98b2-6009ba42365f\" class=\"sk-toggleable__label sk-toggleable__label-arrow\">StandardScaler</label><div class=\"sk-toggleable__content\"><pre>StandardScaler()</pre></div></div></div></div></div></div></div></div><div class=\"sk-parallel-item\"><div class=\"sk-item\"><div class=\"sk-label-container\"><div class=\"sk-label sk-toggleable\"><input class=\"sk-toggleable__control sk-hidden--visually\" id=\"dac382bd-e378-4cd7-ae4b-e605b7b684c5\" type=\"checkbox\" ><label for=\"dac382bd-e378-4cd7-ae4b-e605b7b684c5\" class=\"sk-toggleable__label sk-toggleable__label-arrow\">onehotencoder</label><div class=\"sk-toggleable__content\"><pre>&lt;sklearn.compose._column_transformer.make_column_selector object at 0x7f8921551590&gt;</pre></div></div></div><div class=\"sk-serial\"><div class=\"sk-item\"><div class=\"sk-estimator sk-toggleable\"><input class=\"sk-toggleable__control sk-hidden--visually\" id=\"5d10292d-6944-4968-81da-349baa5da60f\" type=\"checkbox\" ><label for=\"5d10292d-6944-4968-81da-349baa5da60f\" class=\"sk-toggleable__label sk-toggleable__label-arrow\">OneHotEncoder</label><div class=\"sk-toggleable__content\"><pre>OneHotEncoder(handle_unknown=&#x27;ignore&#x27;, sparse=False)</pre></div></div></div></div></div></div><div class=\"sk-parallel-item\"><div class=\"sk-item\"><div class=\"sk-label-container\"><div class=\"sk-label sk-toggleable\"><input class=\"sk-toggleable__control sk-hidden--visually\" id=\"80ef4772-0595-4b9a-891f-b6265dddddf3\" type=\"checkbox\" ><label for=\"80ef4772-0595-4b9a-891f-b6265dddddf3\" class=\"sk-toggleable__label sk-toggleable__label-arrow\">remainder</label><div class=\"sk-toggleable__content\"><pre></pre></div></div></div><div class=\"sk-serial\"><div class=\"sk-item\"><div class=\"sk-estimator sk-toggleable\"><input class=\"sk-toggleable__control sk-hidden--visually\" id=\"127dadf2-20a4-47b2-8ab4-f0df823764d5\" type=\"checkbox\" ><label for=\"127dadf2-20a4-47b2-8ab4-f0df823764d5\" class=\"sk-toggleable__label sk-toggleable__label-arrow\">passthrough</label><div class=\"sk-toggleable__content\"><pre>passthrough</pre></div></div></div></div></div></div></div></div></div></div>"
            ]
          },
          "metadata": {},
          "execution_count": 679
        }
      ]
    },
    {
      "cell_type": "markdown",
      "source": [
        "- We only one-hot encode nominal features. The cat_selector selects nominal categorical features before they are one-hot encoded in this section. We did not have ordinal features. If we did, we would have ordinal encoded the ordinal features. Ordinal features are ordered categorical features. Nominal features are unordered categorical features. Since computational modeling can only model numbers, we need to convert categorical data to numeric form by ordinal encoding ordinal features and one-hot encoding nominal features."
      ],
      "metadata": {
        "id": "ti_XaHcjKEGp"
      }
    },
    {
      "cell_type": "markdown",
      "source": [
        "## 17) Fit the ColumnTransformer on the training data and transform both training and testing data"
      ],
      "metadata": {
        "id": "b3tH0gVBKePG"
      }
    },
    {
      "cell_type": "code",
      "source": [
        "preprocessor.fit(X_train)"
      ],
      "metadata": {
        "id": "cBaE3dAqJtCu",
        "colab": {
          "base_uri": "https://localhost:8080/",
          "height": 152
        },
        "outputId": "436cc8ce-9114-479f-d8f0-30e7c40fd5e5"
      },
      "execution_count": 680,
      "outputs": [
        {
          "output_type": "execute_result",
          "data": {
            "text/plain": [
              "ColumnTransformer(remainder='passthrough',\n",
              "                  transformers=[('pipeline',\n",
              "                                 Pipeline(steps=[('simpleimputer',\n",
              "                                                  SimpleImputer(strategy='median')),\n",
              "                                                 ('standardscaler',\n",
              "                                                  StandardScaler())]),\n",
              "                                 <sklearn.compose._column_transformer.make_column_selector object at 0x7f8921551e90>),\n",
              "                                ('onehotencoder',\n",
              "                                 OneHotEncoder(handle_unknown='ignore',\n",
              "                                               sparse=False),\n",
              "                                 <sklearn.compose._column_transformer.make_column_selector object at 0x7f8921551590>)])"
            ],
            "text/html": [
              "<style>#sk-db99f9e0-240c-4465-a44b-dd6345056ee9 {color: black;background-color: white;}#sk-db99f9e0-240c-4465-a44b-dd6345056ee9 pre{padding: 0;}#sk-db99f9e0-240c-4465-a44b-dd6345056ee9 div.sk-toggleable {background-color: white;}#sk-db99f9e0-240c-4465-a44b-dd6345056ee9 label.sk-toggleable__label {cursor: pointer;display: block;width: 100%;margin-bottom: 0;padding: 0.3em;box-sizing: border-box;text-align: center;}#sk-db99f9e0-240c-4465-a44b-dd6345056ee9 label.sk-toggleable__label-arrow:before {content: \"▸\";float: left;margin-right: 0.25em;color: #696969;}#sk-db99f9e0-240c-4465-a44b-dd6345056ee9 label.sk-toggleable__label-arrow:hover:before {color: black;}#sk-db99f9e0-240c-4465-a44b-dd6345056ee9 div.sk-estimator:hover label.sk-toggleable__label-arrow:before {color: black;}#sk-db99f9e0-240c-4465-a44b-dd6345056ee9 div.sk-toggleable__content {max-height: 0;max-width: 0;overflow: hidden;text-align: left;background-color: #f0f8ff;}#sk-db99f9e0-240c-4465-a44b-dd6345056ee9 div.sk-toggleable__content pre {margin: 0.2em;color: black;border-radius: 0.25em;background-color: #f0f8ff;}#sk-db99f9e0-240c-4465-a44b-dd6345056ee9 input.sk-toggleable__control:checked~div.sk-toggleable__content {max-height: 200px;max-width: 100%;overflow: auto;}#sk-db99f9e0-240c-4465-a44b-dd6345056ee9 input.sk-toggleable__control:checked~label.sk-toggleable__label-arrow:before {content: \"▾\";}#sk-db99f9e0-240c-4465-a44b-dd6345056ee9 div.sk-estimator input.sk-toggleable__control:checked~label.sk-toggleable__label {background-color: #d4ebff;}#sk-db99f9e0-240c-4465-a44b-dd6345056ee9 div.sk-label input.sk-toggleable__control:checked~label.sk-toggleable__label {background-color: #d4ebff;}#sk-db99f9e0-240c-4465-a44b-dd6345056ee9 input.sk-hidden--visually {border: 0;clip: rect(1px 1px 1px 1px);clip: rect(1px, 1px, 1px, 1px);height: 1px;margin: -1px;overflow: hidden;padding: 0;position: absolute;width: 1px;}#sk-db99f9e0-240c-4465-a44b-dd6345056ee9 div.sk-estimator {font-family: monospace;background-color: #f0f8ff;border: 1px dotted black;border-radius: 0.25em;box-sizing: border-box;margin-bottom: 0.5em;}#sk-db99f9e0-240c-4465-a44b-dd6345056ee9 div.sk-estimator:hover {background-color: #d4ebff;}#sk-db99f9e0-240c-4465-a44b-dd6345056ee9 div.sk-parallel-item::after {content: \"\";width: 100%;border-bottom: 1px solid gray;flex-grow: 1;}#sk-db99f9e0-240c-4465-a44b-dd6345056ee9 div.sk-label:hover label.sk-toggleable__label {background-color: #d4ebff;}#sk-db99f9e0-240c-4465-a44b-dd6345056ee9 div.sk-serial::before {content: \"\";position: absolute;border-left: 1px solid gray;box-sizing: border-box;top: 2em;bottom: 0;left: 50%;}#sk-db99f9e0-240c-4465-a44b-dd6345056ee9 div.sk-serial {display: flex;flex-direction: column;align-items: center;background-color: white;padding-right: 0.2em;padding-left: 0.2em;}#sk-db99f9e0-240c-4465-a44b-dd6345056ee9 div.sk-item {z-index: 1;}#sk-db99f9e0-240c-4465-a44b-dd6345056ee9 div.sk-parallel {display: flex;align-items: stretch;justify-content: center;background-color: white;}#sk-db99f9e0-240c-4465-a44b-dd6345056ee9 div.sk-parallel::before {content: \"\";position: absolute;border-left: 1px solid gray;box-sizing: border-box;top: 2em;bottom: 0;left: 50%;}#sk-db99f9e0-240c-4465-a44b-dd6345056ee9 div.sk-parallel-item {display: flex;flex-direction: column;position: relative;background-color: white;}#sk-db99f9e0-240c-4465-a44b-dd6345056ee9 div.sk-parallel-item:first-child::after {align-self: flex-end;width: 50%;}#sk-db99f9e0-240c-4465-a44b-dd6345056ee9 div.sk-parallel-item:last-child::after {align-self: flex-start;width: 50%;}#sk-db99f9e0-240c-4465-a44b-dd6345056ee9 div.sk-parallel-item:only-child::after {width: 0;}#sk-db99f9e0-240c-4465-a44b-dd6345056ee9 div.sk-dashed-wrapped {border: 1px dashed gray;margin: 0 0.4em 0.5em 0.4em;box-sizing: border-box;padding-bottom: 0.4em;background-color: white;position: relative;}#sk-db99f9e0-240c-4465-a44b-dd6345056ee9 div.sk-label label {font-family: monospace;font-weight: bold;background-color: white;display: inline-block;line-height: 1.2em;}#sk-db99f9e0-240c-4465-a44b-dd6345056ee9 div.sk-label-container {position: relative;z-index: 2;text-align: center;}#sk-db99f9e0-240c-4465-a44b-dd6345056ee9 div.sk-container {/* jupyter's `normalize.less` sets `[hidden] { display: none; }` but bootstrap.min.css set `[hidden] { display: none !important; }` so we also need the `!important` here to be able to override the default hidden behavior on the sphinx rendered scikit-learn.org. See: https://github.com/scikit-learn/scikit-learn/issues/21755 */display: inline-block !important;position: relative;}#sk-db99f9e0-240c-4465-a44b-dd6345056ee9 div.sk-text-repr-fallback {display: none;}</style><div id=\"sk-db99f9e0-240c-4465-a44b-dd6345056ee9\" class=\"sk-top-container\"><div class=\"sk-text-repr-fallback\"><pre>ColumnTransformer(remainder=&#x27;passthrough&#x27;,\n",
              "                  transformers=[(&#x27;pipeline&#x27;,\n",
              "                                 Pipeline(steps=[(&#x27;simpleimputer&#x27;,\n",
              "                                                  SimpleImputer(strategy=&#x27;median&#x27;)),\n",
              "                                                 (&#x27;standardscaler&#x27;,\n",
              "                                                  StandardScaler())]),\n",
              "                                 &lt;sklearn.compose._column_transformer.make_column_selector object at 0x7f8921551e90&gt;),\n",
              "                                (&#x27;onehotencoder&#x27;,\n",
              "                                 OneHotEncoder(handle_unknown=&#x27;ignore&#x27;,\n",
              "                                               sparse=False),\n",
              "                                 &lt;sklearn.compose._column_transformer.make_column_selector object at 0x7f8921551590&gt;)])</pre><b>Please rerun this cell to show the HTML repr or trust the notebook.</b></div><div class=\"sk-container\" hidden><div class=\"sk-item sk-dashed-wrapped\"><div class=\"sk-label-container\"><div class=\"sk-label sk-toggleable\"><input class=\"sk-toggleable__control sk-hidden--visually\" id=\"198fa106-e7db-4ad4-9e06-ab810c5d796f\" type=\"checkbox\" ><label for=\"198fa106-e7db-4ad4-9e06-ab810c5d796f\" class=\"sk-toggleable__label sk-toggleable__label-arrow\">ColumnTransformer</label><div class=\"sk-toggleable__content\"><pre>ColumnTransformer(remainder=&#x27;passthrough&#x27;,\n",
              "                  transformers=[(&#x27;pipeline&#x27;,\n",
              "                                 Pipeline(steps=[(&#x27;simpleimputer&#x27;,\n",
              "                                                  SimpleImputer(strategy=&#x27;median&#x27;)),\n",
              "                                                 (&#x27;standardscaler&#x27;,\n",
              "                                                  StandardScaler())]),\n",
              "                                 &lt;sklearn.compose._column_transformer.make_column_selector object at 0x7f8921551e90&gt;),\n",
              "                                (&#x27;onehotencoder&#x27;,\n",
              "                                 OneHotEncoder(handle_unknown=&#x27;ignore&#x27;,\n",
              "                                               sparse=False),\n",
              "                                 &lt;sklearn.compose._column_transformer.make_column_selector object at 0x7f8921551590&gt;)])</pre></div></div></div><div class=\"sk-parallel\"><div class=\"sk-parallel-item\"><div class=\"sk-item\"><div class=\"sk-label-container\"><div class=\"sk-label sk-toggleable\"><input class=\"sk-toggleable__control sk-hidden--visually\" id=\"38a6d3c3-bc3f-4e85-adc8-91ae564d68d0\" type=\"checkbox\" ><label for=\"38a6d3c3-bc3f-4e85-adc8-91ae564d68d0\" class=\"sk-toggleable__label sk-toggleable__label-arrow\">pipeline</label><div class=\"sk-toggleable__content\"><pre>&lt;sklearn.compose._column_transformer.make_column_selector object at 0x7f8921551e90&gt;</pre></div></div></div><div class=\"sk-serial\"><div class=\"sk-item\"><div class=\"sk-serial\"><div class=\"sk-item\"><div class=\"sk-estimator sk-toggleable\"><input class=\"sk-toggleable__control sk-hidden--visually\" id=\"d2601784-ea31-41df-851b-71488e6ee453\" type=\"checkbox\" ><label for=\"d2601784-ea31-41df-851b-71488e6ee453\" class=\"sk-toggleable__label sk-toggleable__label-arrow\">SimpleImputer</label><div class=\"sk-toggleable__content\"><pre>SimpleImputer(strategy=&#x27;median&#x27;)</pre></div></div></div><div class=\"sk-item\"><div class=\"sk-estimator sk-toggleable\"><input class=\"sk-toggleable__control sk-hidden--visually\" id=\"ee3bb739-39c0-431e-a1b2-2c90c24cd05e\" type=\"checkbox\" ><label for=\"ee3bb739-39c0-431e-a1b2-2c90c24cd05e\" class=\"sk-toggleable__label sk-toggleable__label-arrow\">StandardScaler</label><div class=\"sk-toggleable__content\"><pre>StandardScaler()</pre></div></div></div></div></div></div></div></div><div class=\"sk-parallel-item\"><div class=\"sk-item\"><div class=\"sk-label-container\"><div class=\"sk-label sk-toggleable\"><input class=\"sk-toggleable__control sk-hidden--visually\" id=\"3484a38d-b28a-483c-a582-7fd41611d3b3\" type=\"checkbox\" ><label for=\"3484a38d-b28a-483c-a582-7fd41611d3b3\" class=\"sk-toggleable__label sk-toggleable__label-arrow\">onehotencoder</label><div class=\"sk-toggleable__content\"><pre>&lt;sklearn.compose._column_transformer.make_column_selector object at 0x7f8921551590&gt;</pre></div></div></div><div class=\"sk-serial\"><div class=\"sk-item\"><div class=\"sk-estimator sk-toggleable\"><input class=\"sk-toggleable__control sk-hidden--visually\" id=\"521ad9f5-e926-46ae-9d13-541ef6c085f6\" type=\"checkbox\" ><label for=\"521ad9f5-e926-46ae-9d13-541ef6c085f6\" class=\"sk-toggleable__label sk-toggleable__label-arrow\">OneHotEncoder</label><div class=\"sk-toggleable__content\"><pre>OneHotEncoder(handle_unknown=&#x27;ignore&#x27;, sparse=False)</pre></div></div></div></div></div></div><div class=\"sk-parallel-item\"><div class=\"sk-item\"><div class=\"sk-label-container\"><div class=\"sk-label sk-toggleable\"><input class=\"sk-toggleable__control sk-hidden--visually\" id=\"7fba4d0f-2259-42d7-838b-570af13460ee\" type=\"checkbox\" ><label for=\"7fba4d0f-2259-42d7-838b-570af13460ee\" class=\"sk-toggleable__label sk-toggleable__label-arrow\">remainder</label><div class=\"sk-toggleable__content\"><pre>[]</pre></div></div></div><div class=\"sk-serial\"><div class=\"sk-item\"><div class=\"sk-estimator sk-toggleable\"><input class=\"sk-toggleable__control sk-hidden--visually\" id=\"cc91b372-9b14-47d2-8a39-06a878c655be\" type=\"checkbox\" ><label for=\"cc91b372-9b14-47d2-8a39-06a878c655be\" class=\"sk-toggleable__label sk-toggleable__label-arrow\">passthrough</label><div class=\"sk-toggleable__content\"><pre>passthrough</pre></div></div></div></div></div></div></div></div></div></div>"
            ]
          },
          "metadata": {},
          "execution_count": 680
        }
      ]
    },
    {
      "cell_type": "code",
      "source": [
        "# transform training and testing data\n",
        "X_train_processed = preprocessor.transform(X_train)\n",
        "X_test_processed = preprocessor.transform(X_test)"
      ],
      "metadata": {
        "id": "jUGTYT4LKhyn"
      },
      "execution_count": 681,
      "outputs": []
    },
    {
      "cell_type": "markdown",
      "source": [
        "## 18) Inspect the Result"
      ],
      "metadata": {
        "id": "rM27gQPVcvqj"
      }
    },
    {
      "cell_type": "code",
      "source": [
        "print(np.isnan(X_train_processed).sum().sum(), 'missing values in training data')\n",
        "print(np.isnan(X_test_processed).sum().sum(), 'missing values in testing data')\n",
        "print('\\n')\n",
        "print('All data in X_train_processed are', X_train_processed.dtype)\n",
        "print('All data in X_test_processed are', X_test_processed.dtype)\n",
        "print('\\n')\n",
        "print('shape of data is', X_train_processed.shape)\n",
        "print('\\n')\n",
        "X_train_processed"
      ],
      "metadata": {
        "id": "mdgaxImYcsnO",
        "colab": {
          "base_uri": "https://localhost:8080/"
        },
        "outputId": "d10ec161-f816-448e-b5b1-7fb6333f1102"
      },
      "execution_count": 682,
      "outputs": [
        {
          "output_type": "stream",
          "name": "stdout",
          "text": [
            "0 missing values in training data\n",
            "0 missing values in testing data\n",
            "\n",
            "\n",
            "All data in X_train_processed are float64\n",
            "All data in X_test_processed are float64\n",
            "\n",
            "\n",
            "shape of data is (870, 25)\n",
            "\n",
            "\n"
          ]
        },
        {
          "output_type": "execute_result",
          "data": {
            "text/plain": [
              "array([[-1.60256251,  0.22079175, -0.9915077 , ...,  0.        ,\n",
              "         1.        ,  0.        ],\n",
              "       [-0.44312019,  0.22079175, -0.9724977 , ...,  0.        ,\n",
              "         0.        ,  0.        ],\n",
              "       [-1.60256251,  0.71637696,  0.69042539, ...,  0.        ,\n",
              "         0.        ,  0.        ],\n",
              "       ...,\n",
              "       [-1.31270193, -0.27479345,  0.10926228, ...,  0.        ,\n",
              "         1.        ,  0.        ],\n",
              "       [ 0.71632212, -0.27479345,  0.35277143, ...,  0.        ,\n",
              "         0.        ,  0.        ],\n",
              "       [ 0.71632212,  0.22079175,  0.35277143, ...,  0.        ,\n",
              "         1.        ,  0.        ]])"
            ]
          },
          "metadata": {},
          "execution_count": 682
        }
      ]
    },
    {
      "cell_type": "markdown",
      "source": [
        "- From the above, we see that there are no missing data, all data are of type float64, and there are 25 columns."
      ],
      "metadata": {
        "id": "-6tT_Caoc-1b"
      }
    },
    {
      "cell_type": "markdown",
      "source": [
        "## 19) Inspect Result in a dataframe with column names"
      ],
      "metadata": {
        "id": "ZwRameNm95FA"
      }
    },
    {
      "cell_type": "code",
      "source": [
        "# Let's get out the column transformer steps\n",
        "preprocessor.named_transformers_"
      ],
      "metadata": {
        "colab": {
          "base_uri": "https://localhost:8080/"
        },
        "id": "ik1i_a0x0kby",
        "outputId": "7772aef3-bfca-4f48-ee2a-9142c824fcfe"
      },
      "execution_count": 683,
      "outputs": [
        {
          "output_type": "execute_result",
          "data": {
            "text/plain": [
              "{'onehotencoder': OneHotEncoder(handle_unknown='ignore', sparse=False),\n",
              " 'pipeline': Pipeline(steps=[('simpleimputer', SimpleImputer(strategy='median')),\n",
              "                 ('standardscaler', StandardScaler())])}"
            ]
          },
          "metadata": {},
          "execution_count": 683
        }
      ]
    },
    {
      "cell_type": "code",
      "source": [
        "# Reference the one hot encoder\n",
        "cat_hot = preprocessor.named_transformers_['onehotencoder']"
      ],
      "metadata": {
        "id": "cQkyCxK00_RZ"
      },
      "execution_count": 684,
      "outputs": []
    },
    {
      "cell_type": "code",
      "source": [
        "# Extract the feature names out from the one hot encoder\n",
        "cat_feature_names = cat_hot.get_feature_names_out(cat_selector(X_train))\n",
        "cat_feature_names "
      ],
      "metadata": {
        "colab": {
          "base_uri": "https://localhost:8080/"
        },
        "id": "thI8tKV31GlX",
        "outputId": "273d1321-c628-4b77-805e-603939344e3e"
      },
      "execution_count": 685,
      "outputs": [
        {
          "output_type": "execute_result",
          "data": {
            "text/plain": [
              "array(['quarter_Quarter1', 'quarter_Quarter2', 'quarter_Quarter3',\n",
              "       'quarter_Quarter4', 'quarter_Quarter5', 'department_finishing',\n",
              "       'department_sweing', 'day_Monday', 'day_Saturday', 'day_Sunday',\n",
              "       'day_Thursday', 'day_Tuesday', 'day_Wednesday'], dtype=object)"
            ]
          },
          "metadata": {},
          "execution_count": 685
        }
      ]
    },
    {
      "cell_type": "code",
      "source": [
        "# Get the final column names which are numerical features + categorical features\n",
        "final_columns = num_selector(X_train) + list(cat_feature_names)\n",
        "final_columns"
      ],
      "metadata": {
        "colab": {
          "base_uri": "https://localhost:8080/"
        },
        "id": "DsIe_aqy5Z1Z",
        "outputId": "13b79025-0cda-43ec-abfb-13b73c8ca640"
      },
      "execution_count": 686,
      "outputs": [
        {
          "output_type": "execute_result",
          "data": {
            "text/plain": [
              "['team',\n",
              " 'targeted_productivity',\n",
              " 'smv',\n",
              " 'wip',\n",
              " 'over_time',\n",
              " 'incentive',\n",
              " 'idle_time',\n",
              " 'idle_men',\n",
              " 'no_of_style_change',\n",
              " 'no_of_workers',\n",
              " 'month',\n",
              " 'daynum',\n",
              " 'quarter_Quarter1',\n",
              " 'quarter_Quarter2',\n",
              " 'quarter_Quarter3',\n",
              " 'quarter_Quarter4',\n",
              " 'quarter_Quarter5',\n",
              " 'department_finishing',\n",
              " 'department_sweing',\n",
              " 'day_Monday',\n",
              " 'day_Saturday',\n",
              " 'day_Sunday',\n",
              " 'day_Thursday',\n",
              " 'day_Tuesday',\n",
              " 'day_Wednesday']"
            ]
          },
          "metadata": {},
          "execution_count": 686
        }
      ]
    },
    {
      "cell_type": "code",
      "source": [
        "# Change the X_train and X_test transformed columns to a dataframe\n",
        "X_train_df = pd.DataFrame(X_train_processed, columns = final_columns)\n",
        "X_test_df = pd.DataFrame(X_test_processed, columns = final_columns)"
      ],
      "metadata": {
        "id": "EbbQHLzJ5LSc"
      },
      "execution_count": 687,
      "outputs": []
    },
    {
      "cell_type": "code",
      "source": [
        "# View the first five rows of the X_train transformed dataframe\n",
        "\n",
        "X_train_df.head()"
      ],
      "metadata": {
        "colab": {
          "base_uri": "https://localhost:8080/",
          "height": 299
        },
        "id": "7GUMqg7y532o",
        "outputId": "bb45d7cf-4eec-4e4d-9f93-9dbfd4724f36"
      },
      "execution_count": 688,
      "outputs": [
        {
          "output_type": "execute_result",
          "data": {
            "text/plain": [
              "       team  targeted_productivity       smv       wip  over_time  incentive  \\\n",
              "0 -1.602563               0.220792 -0.991508 -0.046420  -1.062218  -0.233135   \n",
              "1 -0.443120               0.220792 -0.972498 -0.046420  -1.277495  -0.233135   \n",
              "2 -1.602563               0.716377  0.690425  0.461194   0.677942   0.347900   \n",
              "3 -0.732981               0.220792  1.376596 -0.516113   0.785581  -0.233135   \n",
              "4  1.296043              -0.274793 -0.315295 -0.340301  -0.344626  -0.035055   \n",
              "\n",
              "   idle_time  idle_men  no_of_style_change  no_of_workers  ...  \\\n",
              "0  -0.050096 -0.110077           -0.354952      -1.174334  ...   \n",
              "1  -0.050096 -0.110077           -0.354952      -1.445149  ...   \n",
              "2  -0.050096 -0.110077           -0.354952       1.014751  ...   \n",
              "3  -0.050096 -0.110077            1.915698       1.127590  ...   \n",
              "4  -0.050096 -0.110077            4.186349       0.992183  ...   \n",
              "\n",
              "   quarter_Quarter4  quarter_Quarter5  department_finishing  \\\n",
              "0               0.0               0.0                   1.0   \n",
              "1               0.0               0.0                   1.0   \n",
              "2               0.0               0.0                   0.0   \n",
              "3               0.0               0.0                   0.0   \n",
              "4               0.0               0.0                   0.0   \n",
              "\n",
              "   department_sweing  day_Monday  day_Saturday  day_Sunday  day_Thursday  \\\n",
              "0                0.0         0.0           0.0         0.0           0.0   \n",
              "1                0.0         0.0           0.0         1.0           0.0   \n",
              "2                1.0         0.0           0.0         1.0           0.0   \n",
              "3                1.0         0.0           1.0         0.0           0.0   \n",
              "4                1.0         0.0           0.0         0.0           0.0   \n",
              "\n",
              "   day_Tuesday  day_Wednesday  \n",
              "0          1.0            0.0  \n",
              "1          0.0            0.0  \n",
              "2          0.0            0.0  \n",
              "3          0.0            0.0  \n",
              "4          0.0            1.0  \n",
              "\n",
              "[5 rows x 25 columns]"
            ],
            "text/html": [
              "\n",
              "  <div id=\"df-f8e2df49-ff24-468f-bd67-4ef7aca0dcbe\">\n",
              "    <div class=\"colab-df-container\">\n",
              "      <div>\n",
              "<style scoped>\n",
              "    .dataframe tbody tr th:only-of-type {\n",
              "        vertical-align: middle;\n",
              "    }\n",
              "\n",
              "    .dataframe tbody tr th {\n",
              "        vertical-align: top;\n",
              "    }\n",
              "\n",
              "    .dataframe thead th {\n",
              "        text-align: right;\n",
              "    }\n",
              "</style>\n",
              "<table border=\"1\" class=\"dataframe\">\n",
              "  <thead>\n",
              "    <tr style=\"text-align: right;\">\n",
              "      <th></th>\n",
              "      <th>team</th>\n",
              "      <th>targeted_productivity</th>\n",
              "      <th>smv</th>\n",
              "      <th>wip</th>\n",
              "      <th>over_time</th>\n",
              "      <th>incentive</th>\n",
              "      <th>idle_time</th>\n",
              "      <th>idle_men</th>\n",
              "      <th>no_of_style_change</th>\n",
              "      <th>no_of_workers</th>\n",
              "      <th>...</th>\n",
              "      <th>quarter_Quarter4</th>\n",
              "      <th>quarter_Quarter5</th>\n",
              "      <th>department_finishing</th>\n",
              "      <th>department_sweing</th>\n",
              "      <th>day_Monday</th>\n",
              "      <th>day_Saturday</th>\n",
              "      <th>day_Sunday</th>\n",
              "      <th>day_Thursday</th>\n",
              "      <th>day_Tuesday</th>\n",
              "      <th>day_Wednesday</th>\n",
              "    </tr>\n",
              "  </thead>\n",
              "  <tbody>\n",
              "    <tr>\n",
              "      <th>0</th>\n",
              "      <td>-1.602563</td>\n",
              "      <td>0.220792</td>\n",
              "      <td>-0.991508</td>\n",
              "      <td>-0.046420</td>\n",
              "      <td>-1.062218</td>\n",
              "      <td>-0.233135</td>\n",
              "      <td>-0.050096</td>\n",
              "      <td>-0.110077</td>\n",
              "      <td>-0.354952</td>\n",
              "      <td>-1.174334</td>\n",
              "      <td>...</td>\n",
              "      <td>0.0</td>\n",
              "      <td>0.0</td>\n",
              "      <td>1.0</td>\n",
              "      <td>0.0</td>\n",
              "      <td>0.0</td>\n",
              "      <td>0.0</td>\n",
              "      <td>0.0</td>\n",
              "      <td>0.0</td>\n",
              "      <td>1.0</td>\n",
              "      <td>0.0</td>\n",
              "    </tr>\n",
              "    <tr>\n",
              "      <th>1</th>\n",
              "      <td>-0.443120</td>\n",
              "      <td>0.220792</td>\n",
              "      <td>-0.972498</td>\n",
              "      <td>-0.046420</td>\n",
              "      <td>-1.277495</td>\n",
              "      <td>-0.233135</td>\n",
              "      <td>-0.050096</td>\n",
              "      <td>-0.110077</td>\n",
              "      <td>-0.354952</td>\n",
              "      <td>-1.445149</td>\n",
              "      <td>...</td>\n",
              "      <td>0.0</td>\n",
              "      <td>0.0</td>\n",
              "      <td>1.0</td>\n",
              "      <td>0.0</td>\n",
              "      <td>0.0</td>\n",
              "      <td>0.0</td>\n",
              "      <td>1.0</td>\n",
              "      <td>0.0</td>\n",
              "      <td>0.0</td>\n",
              "      <td>0.0</td>\n",
              "    </tr>\n",
              "    <tr>\n",
              "      <th>2</th>\n",
              "      <td>-1.602563</td>\n",
              "      <td>0.716377</td>\n",
              "      <td>0.690425</td>\n",
              "      <td>0.461194</td>\n",
              "      <td>0.677942</td>\n",
              "      <td>0.347900</td>\n",
              "      <td>-0.050096</td>\n",
              "      <td>-0.110077</td>\n",
              "      <td>-0.354952</td>\n",
              "      <td>1.014751</td>\n",
              "      <td>...</td>\n",
              "      <td>0.0</td>\n",
              "      <td>0.0</td>\n",
              "      <td>0.0</td>\n",
              "      <td>1.0</td>\n",
              "      <td>0.0</td>\n",
              "      <td>0.0</td>\n",
              "      <td>1.0</td>\n",
              "      <td>0.0</td>\n",
              "      <td>0.0</td>\n",
              "      <td>0.0</td>\n",
              "    </tr>\n",
              "    <tr>\n",
              "      <th>3</th>\n",
              "      <td>-0.732981</td>\n",
              "      <td>0.220792</td>\n",
              "      <td>1.376596</td>\n",
              "      <td>-0.516113</td>\n",
              "      <td>0.785581</td>\n",
              "      <td>-0.233135</td>\n",
              "      <td>-0.050096</td>\n",
              "      <td>-0.110077</td>\n",
              "      <td>1.915698</td>\n",
              "      <td>1.127590</td>\n",
              "      <td>...</td>\n",
              "      <td>0.0</td>\n",
              "      <td>0.0</td>\n",
              "      <td>0.0</td>\n",
              "      <td>1.0</td>\n",
              "      <td>0.0</td>\n",
              "      <td>1.0</td>\n",
              "      <td>0.0</td>\n",
              "      <td>0.0</td>\n",
              "      <td>0.0</td>\n",
              "      <td>0.0</td>\n",
              "    </tr>\n",
              "    <tr>\n",
              "      <th>4</th>\n",
              "      <td>1.296043</td>\n",
              "      <td>-0.274793</td>\n",
              "      <td>-0.315295</td>\n",
              "      <td>-0.340301</td>\n",
              "      <td>-0.344626</td>\n",
              "      <td>-0.035055</td>\n",
              "      <td>-0.050096</td>\n",
              "      <td>-0.110077</td>\n",
              "      <td>4.186349</td>\n",
              "      <td>0.992183</td>\n",
              "      <td>...</td>\n",
              "      <td>0.0</td>\n",
              "      <td>0.0</td>\n",
              "      <td>0.0</td>\n",
              "      <td>1.0</td>\n",
              "      <td>0.0</td>\n",
              "      <td>0.0</td>\n",
              "      <td>0.0</td>\n",
              "      <td>0.0</td>\n",
              "      <td>0.0</td>\n",
              "      <td>1.0</td>\n",
              "    </tr>\n",
              "  </tbody>\n",
              "</table>\n",
              "<p>5 rows × 25 columns</p>\n",
              "</div>\n",
              "      <button class=\"colab-df-convert\" onclick=\"convertToInteractive('df-f8e2df49-ff24-468f-bd67-4ef7aca0dcbe')\"\n",
              "              title=\"Convert this dataframe to an interactive table.\"\n",
              "              style=\"display:none;\">\n",
              "        \n",
              "  <svg xmlns=\"http://www.w3.org/2000/svg\" height=\"24px\"viewBox=\"0 0 24 24\"\n",
              "       width=\"24px\">\n",
              "    <path d=\"M0 0h24v24H0V0z\" fill=\"none\"/>\n",
              "    <path d=\"M18.56 5.44l.94 2.06.94-2.06 2.06-.94-2.06-.94-.94-2.06-.94 2.06-2.06.94zm-11 1L8.5 8.5l.94-2.06 2.06-.94-2.06-.94L8.5 2.5l-.94 2.06-2.06.94zm10 10l.94 2.06.94-2.06 2.06-.94-2.06-.94-.94-2.06-.94 2.06-2.06.94z\"/><path d=\"M17.41 7.96l-1.37-1.37c-.4-.4-.92-.59-1.43-.59-.52 0-1.04.2-1.43.59L10.3 9.45l-7.72 7.72c-.78.78-.78 2.05 0 2.83L4 21.41c.39.39.9.59 1.41.59.51 0 1.02-.2 1.41-.59l7.78-7.78 2.81-2.81c.8-.78.8-2.07 0-2.86zM5.41 20L4 18.59l7.72-7.72 1.47 1.35L5.41 20z\"/>\n",
              "  </svg>\n",
              "      </button>\n",
              "      \n",
              "  <style>\n",
              "    .colab-df-container {\n",
              "      display:flex;\n",
              "      flex-wrap:wrap;\n",
              "      gap: 12px;\n",
              "    }\n",
              "\n",
              "    .colab-df-convert {\n",
              "      background-color: #E8F0FE;\n",
              "      border: none;\n",
              "      border-radius: 50%;\n",
              "      cursor: pointer;\n",
              "      display: none;\n",
              "      fill: #1967D2;\n",
              "      height: 32px;\n",
              "      padding: 0 0 0 0;\n",
              "      width: 32px;\n",
              "    }\n",
              "\n",
              "    .colab-df-convert:hover {\n",
              "      background-color: #E2EBFA;\n",
              "      box-shadow: 0px 1px 2px rgba(60, 64, 67, 0.3), 0px 1px 3px 1px rgba(60, 64, 67, 0.15);\n",
              "      fill: #174EA6;\n",
              "    }\n",
              "\n",
              "    [theme=dark] .colab-df-convert {\n",
              "      background-color: #3B4455;\n",
              "      fill: #D2E3FC;\n",
              "    }\n",
              "\n",
              "    [theme=dark] .colab-df-convert:hover {\n",
              "      background-color: #434B5C;\n",
              "      box-shadow: 0px 1px 3px 1px rgba(0, 0, 0, 0.15);\n",
              "      filter: drop-shadow(0px 1px 2px rgba(0, 0, 0, 0.3));\n",
              "      fill: #FFFFFF;\n",
              "    }\n",
              "  </style>\n",
              "\n",
              "      <script>\n",
              "        const buttonEl =\n",
              "          document.querySelector('#df-f8e2df49-ff24-468f-bd67-4ef7aca0dcbe button.colab-df-convert');\n",
              "        buttonEl.style.display =\n",
              "          google.colab.kernel.accessAllowed ? 'block' : 'none';\n",
              "\n",
              "        async function convertToInteractive(key) {\n",
              "          const element = document.querySelector('#df-f8e2df49-ff24-468f-bd67-4ef7aca0dcbe');\n",
              "          const dataTable =\n",
              "            await google.colab.kernel.invokeFunction('convertToInteractive',\n",
              "                                                     [key], {});\n",
              "          if (!dataTable) return;\n",
              "\n",
              "          const docLinkHtml = 'Like what you see? Visit the ' +\n",
              "            '<a target=\"_blank\" href=https://colab.research.google.com/notebooks/data_table.ipynb>data table notebook</a>'\n",
              "            + ' to learn more about interactive tables.';\n",
              "          element.innerHTML = '';\n",
              "          dataTable['output_type'] = 'display_data';\n",
              "          await google.colab.output.renderOutput(dataTable, element);\n",
              "          const docLink = document.createElement('div');\n",
              "          docLink.innerHTML = docLinkHtml;\n",
              "          element.appendChild(docLink);\n",
              "        }\n",
              "      </script>\n",
              "    </div>\n",
              "  </div>\n",
              "  "
            ]
          },
          "metadata": {},
          "execution_count": 688
        }
      ]
    },
    {
      "cell_type": "code",
      "source": [
        "X_train_df.info()"
      ],
      "metadata": {
        "colab": {
          "base_uri": "https://localhost:8080/"
        },
        "id": "swW2IhK-6EVI",
        "outputId": "089657ae-b621-4224-89f9-bb441d84304a"
      },
      "execution_count": 689,
      "outputs": [
        {
          "output_type": "stream",
          "name": "stdout",
          "text": [
            "<class 'pandas.core.frame.DataFrame'>\n",
            "RangeIndex: 870 entries, 0 to 869\n",
            "Data columns (total 25 columns):\n",
            " #   Column                 Non-Null Count  Dtype  \n",
            "---  ------                 --------------  -----  \n",
            " 0   team                   870 non-null    float64\n",
            " 1   targeted_productivity  870 non-null    float64\n",
            " 2   smv                    870 non-null    float64\n",
            " 3   wip                    870 non-null    float64\n",
            " 4   over_time              870 non-null    float64\n",
            " 5   incentive              870 non-null    float64\n",
            " 6   idle_time              870 non-null    float64\n",
            " 7   idle_men               870 non-null    float64\n",
            " 8   no_of_style_change     870 non-null    float64\n",
            " 9   no_of_workers          870 non-null    float64\n",
            " 10  month                  870 non-null    float64\n",
            " 11  daynum                 870 non-null    float64\n",
            " 12  quarter_Quarter1       870 non-null    float64\n",
            " 13  quarter_Quarter2       870 non-null    float64\n",
            " 14  quarter_Quarter3       870 non-null    float64\n",
            " 15  quarter_Quarter4       870 non-null    float64\n",
            " 16  quarter_Quarter5       870 non-null    float64\n",
            " 17  department_finishing   870 non-null    float64\n",
            " 18  department_sweing      870 non-null    float64\n",
            " 19  day_Monday             870 non-null    float64\n",
            " 20  day_Saturday           870 non-null    float64\n",
            " 21  day_Sunday             870 non-null    float64\n",
            " 22  day_Thursday           870 non-null    float64\n",
            " 23  day_Tuesday            870 non-null    float64\n",
            " 24  day_Wednesday          870 non-null    float64\n",
            "dtypes: float64(25)\n",
            "memory usage: 170.0 KB\n"
          ]
        }
      ]
    },
    {
      "cell_type": "markdown",
      "source": [
        "- We can see the new column names from one-hot encoding in the dataframe. We also confirm that there are 25 columns and 870 rows now."
      ],
      "metadata": {
        "id": "4r_BkDrF_b_1"
      }
    },
    {
      "cell_type": "markdown",
      "source": [
        "### 20) Logistic Regression"
      ],
      "metadata": {
        "id": "PVlIkBm4jsW-"
      }
    },
    {
      "cell_type": "code",
      "source": [
        "# Make an instance of the model with default parameters\n",
        "logreg = LogisticRegression()\n",
        "# Create and fit pipeline\n",
        "logreg_pipe = make_pipeline(preprocessor, logreg)\n",
        "# Training the model on the data, storing the information learned from the data\n",
        "# Model is learning the relationship between X and y \n",
        "logreg_pipe.fit(X_train, y_train)\n",
        "# Save predictions \n",
        "logreg_train_predictions = logreg_pipe.predict(X_train)\n",
        "logreg_test_predictions = logreg_pipe.predict(X_test)"
      ],
      "metadata": {
        "id": "PQnNKU_xaEEQ"
      },
      "execution_count": 690,
      "outputs": []
    },
    {
      "cell_type": "code",
      "source": [
        "# Run a classification report on both train and test datasets.\n",
        "print('Training Metrics')\n",
        "print(classification_report(y_train, logreg_train_predictions, digits = 4))\n",
        "print('\\nTesting Metrics')\n",
        "print(classification_report(y_test, logreg_test_predictions, digits = 4))"
      ],
      "metadata": {
        "colab": {
          "base_uri": "https://localhost:8080/"
        },
        "id": "zAz21Ppit3ad",
        "outputId": "70800484-2b16-40c5-c6a1-9911fe00f2bb"
      },
      "execution_count": 691,
      "outputs": [
        {
          "output_type": "stream",
          "name": "stdout",
          "text": [
            "Training Metrics\n",
            "              precision    recall  f1-score   support\n",
            "\n",
            "           0     0.7563    0.5927    0.6646       356\n",
            "           1     0.7547    0.8677    0.8072       514\n",
            "\n",
            "    accuracy                         0.7552       870\n",
            "   macro avg     0.7555    0.7302    0.7359       870\n",
            "weighted avg     0.7553    0.7552    0.7489       870\n",
            "\n",
            "\n",
            "Testing Metrics\n",
            "              precision    recall  f1-score   support\n",
            "\n",
            "           0     0.7553    0.5680    0.6484       125\n",
            "           1     0.7245    0.8606    0.7867       165\n",
            "\n",
            "    accuracy                         0.7345       290\n",
            "   macro avg     0.7399    0.7143    0.7176       290\n",
            "weighted avg     0.7378    0.7345    0.7271       290\n",
            "\n"
          ]
        }
      ]
    },
    {
      "cell_type": "markdown",
      "source": [
        "- The results from the default logistic model are okay. The model did better on the training set than the test set. However, the accuracy values of the training and test sets are close to each other, meaning the model is not overfit. Let's see if we can improve the accuracy on our test set\\ by changing the value of C."
      ],
      "metadata": {
        "id": "x-PaSGIBm8tJ"
      }
    },
    {
      "cell_type": "markdown",
      "source": [
        "**a) L1 Tuning**"
      ],
      "metadata": {
        "id": "LukVvnpLnQps"
      }
    },
    {
      "cell_type": "code",
      "source": [
        "# create a list of c values and empty lists for scores\n",
        "c_values = [0.0001, 0.001, 0.01, 0.1, 1, 10, 100, 1000]\n",
        "train_scores = []\n",
        "test_scores = []\n",
        "#iterative over the c values\n",
        "for c in c_values:\n",
        " \n",
        "  # instantiate a model with each value of c and fit it on the data\n",
        "  log_reg = LogisticRegression(C=c, max_iter=1000, solver='liblinear', penalty='l1')\n",
        "  log_reg_pipe = make_pipeline(preprocessor, log_reg)\n",
        "  log_reg_pipe.fit(X_train, y_train)\n",
        " \n",
        "  # add the training and testing scores to our scores lists\n",
        "  train_scores.append(log_reg_pipe.score(X_train, y_train))\n",
        "  test_scores.append(log_reg_pipe.score(X_test, y_test))\n",
        " \n",
        "#plot the change in accuracy as we change the value of C\n",
        "fig, ax = plt.subplots(1,1)\n",
        "ax.plot(c_values, train_scores, label='Training Accuracy')\n",
        "ax.plot(c_values, test_scores, label='Testing Accuracy')\n",
        "ax.set_xticks(c_values)\n",
        "ax.set_title('Change in accuracy over C values for l1 regularization')\n",
        "ax.legend()\n",
        " \n",
        "#set the x axis to a logarithmic scale to show the values of C in even intervals\n",
        "ax.set_xscale('log')\n",
        "# print a dictionary of values of C and accuracy scores\n",
        "{c:score for c, score in zip(c_values, test_scores)}"
      ],
      "metadata": {
        "colab": {
          "base_uri": "https://localhost:8080/",
          "height": 430
        },
        "id": "wLmTE3J1kYBG",
        "outputId": "e35b8ec9-4ff4-4707-f1c8-d19cac53a342"
      },
      "execution_count": 692,
      "outputs": [
        {
          "output_type": "execute_result",
          "data": {
            "text/plain": [
              "{0.0001: 0.43103448275862066,\n",
              " 0.001: 0.43103448275862066,\n",
              " 0.01: 0.7448275862068966,\n",
              " 0.1: 0.7379310344827587,\n",
              " 1: 0.7310344827586207,\n",
              " 10: 0.7379310344827587,\n",
              " 100: 0.7379310344827587,\n",
              " 1000: 0.7379310344827587}"
            ]
          },
          "metadata": {},
          "execution_count": 692
        },
        {
          "output_type": "display_data",
          "data": {
            "text/plain": [
              "<Figure size 432x288 with 1 Axes>"
            ],
            "image/png": "[encoded data removed]"
          },
          "metadata": {
            "needs_background": "light"
          }
        }
      ]
    },
    {
      "cell_type": "markdown",
      "source": [
        "- According to this graph we get the best accuracy on the test set when C=0.01 (10^-2). The accuracy is 0.745. The accuracy on our test set after L1 tuning is slightly better than our default model whose test set accuracy is 0.734."
      ],
      "metadata": {
        "id": "qkroWKPiob3K"
      }
    },
    {
      "cell_type": "markdown",
      "source": [
        "**b) L2 Tuning**"
      ],
      "metadata": {
        "id": "anKNu3xioyp8"
      }
    },
    {
      "cell_type": "code",
      "source": [
        "# create a list of c values and empty lists for scores\n",
        "c_values = [0.0001, 0.001, 0.01, 0.1, 1, 10, 100, 1000]\n",
        "train_scores = []\n",
        "test_scores = []\n",
        "#iterative over the c values\n",
        "for c in c_values:\n",
        "  # instantiate a model with each value of c and fit it on the data\n",
        "  log_reg = LogisticRegression(C=c, max_iter=1000, solver='liblinear', penalty='l2')\n",
        "  log_reg_pipe = make_pipeline(preprocessor, log_reg)\n",
        "  log_reg_pipe.fit(X_train, y_train)\n",
        " \n",
        "  # add the training and testing scores to our scores lists\n",
        "  train_scores.append(log_reg_pipe.score(X_train, y_train))\n",
        "  test_scores.append(log_reg_pipe.score(X_test, y_test))\n",
        "  \n",
        "#plot the change in accuracy as we change the value of C\n",
        "fig, ax = plt.subplots(1,1)\n",
        "ax.plot(c_values, train_scores, label='Training Accuracy')\n",
        "ax.plot(c_values, test_scores, label='Testing Accuracy')\n",
        "ax.set_xticks(c_values)\n",
        "ax.set_title('Change in accuracy over C values for l2 regularization')\n",
        "ax.legend()\n",
        "#set the x axis to a logarithmic scale to show the values of C in even intervals\n",
        "ax.set_xscale('log')\n",
        "# print a dictionary of values of C and accuracy scores\n",
        "{c:score for c, score in zip(c_values, test_scores)}\n"
      ],
      "metadata": {
        "colab": {
          "base_uri": "https://localhost:8080/",
          "height": 430
        },
        "id": "Vwg2IY1oouxm",
        "outputId": "bf9842ef-02eb-4ece-e8f3-53ae0ea131ac"
      },
      "execution_count": 693,
      "outputs": [
        {
          "output_type": "execute_result",
          "data": {
            "text/plain": [
              "{0.0001: 0.6724137931034483,\n",
              " 0.001: 0.6655172413793103,\n",
              " 0.01: 0.7,\n",
              " 0.1: 0.7137931034482758,\n",
              " 1: 0.7344827586206897,\n",
              " 10: 0.7379310344827587,\n",
              " 100: 0.7379310344827587,\n",
              " 1000: 0.7344827586206897}"
            ]
          },
          "metadata": {},
          "execution_count": 693
        },
        {
          "output_type": "display_data",
          "data": {
            "text/plain": [
              "<Figure size 432x288 with 1 Axes>"
            ],
            "image/png": "[encoded data removed]"
          },
          "metadata": {
            "needs_background": "light"
          }
        }
      ]
    },
    {
      "cell_type": "markdown",
      "source": [
        "- According to this graph we get the best accuracy on the test set when C=10 (10^1) and C=100 (10^2). The accuracy for both C values is 0.738. The accuracy on our test set after L2 tuning is slightly better but very close to our default model whose test set accuracy is 0.734."
      ],
      "metadata": {
        "id": "45l7FqAwp7Bi"
      }
    },
    {
      "cell_type": "markdown",
      "source": [
        "We can see that our L1 tuned logistic regression model works best. The default C value is 1.0, but a C value of 0.01 seems to work best using L1 tuning."
      ],
      "metadata": {
        "id": "B6EKQ4aAqOiG"
      }
    },
    {
      "cell_type": "markdown",
      "source": [
        "**c) Heat Map to see feature correlations**"
      ],
      "metadata": {
        "id": "TBM5eIHMq8z0"
      }
    },
    {
      "cell_type": "code",
      "source": [
        "#Use sns.heatmap() to plot the feature correlations for the garm_prod dataset\n",
        "corr_X = X.corr()\n",
        "plt.figure(figsize=(10,8))\n",
        "sns.heatmap(corr_X, cmap='Blues', annot=True);"
      ],
      "metadata": {
        "colab": {
          "base_uri": "https://localhost:8080/",
          "height": 584
        },
        "id": "WQWvC25qrCsu",
        "outputId": "4b38bcf2-7b07-434c-bd86-aaf03545b5b7"
      },
      "execution_count": 694,
      "outputs": [
        {
          "output_type": "display_data",
          "data": {
            "text/plain": [
              "<Figure size 720x576 with 2 Axes>"
            ],
            "image/png": "[encoded data removed]"
          },
          "metadata": {
            "needs_background": "light"
          }
        }
      ]
    },
    {
      "cell_type": "markdown",
      "source": [
        "- The heatmap above does not show many highly correlated features, which confirms why L1 tuning worked better than L2 tuning. We know that L2 tuning is very helpful in modeling datasets with highly correlated features."
      ],
      "metadata": {
        "id": "Ebs6npzMrh14"
      }
    },
    {
      "cell_type": "markdown",
      "source": [
        "**d) Confusion Matrices**\n",
        "\n",
        "- We will use C value of 0.01"
      ],
      "metadata": {
        "id": "0YMjtdPU5k5A"
      }
    },
    {
      "cell_type": "code",
      "source": [
        "# Make an instance of the model\n",
        "logregC = LogisticRegression(C = 0.01)\n",
        "# Create and fit pipeline\n",
        "logregC_pipe = make_pipeline(preprocessor, logreg)\n",
        "# Training the model on the data, storing the information learned from the data\n",
        "# Model is learning the relationship between X and y \n",
        "logregC_pipe.fit(X_train, y_train)\n",
        "# Save predictions \n",
        "logregC_train_predictions = logreg_pipe.predict(X_train)\n",
        "logregC_test_predictions = logreg_pipe.predict(X_test)"
      ],
      "metadata": {
        "id": "CMvIC1h26wyk"
      },
      "execution_count": 695,
      "outputs": []
    },
    {
      "cell_type": "code",
      "source": [
        "# \"The following Code (\"fig, ax\") adapted from: https://panjeh.medium.com/figure-size-plot-confusion-matrix-in-scikit-learn-2c66f3a69d81\"\n",
        "fig, ax = plt.subplots(figsize=(8, 4))\n",
        "ConfusionMatrixDisplay.from_predictions(y_test, logregC_test_predictions, cmap = 'Blues',  normalize = 'true', ax=ax)"
      ],
      "metadata": {
        "colab": {
          "base_uri": "https://localhost:8080/",
          "height": 297
        },
        "outputId": "67591051-46db-4688-bd33-7a136f57621e",
        "id": "nD846KY05mF8"
      },
      "execution_count": 696,
      "outputs": [
        {
          "output_type": "execute_result",
          "data": {
            "text/plain": [
              "<sklearn.metrics._plot.confusion_matrix.ConfusionMatrixDisplay at 0x7f892024bc10>"
            ]
          },
          "metadata": {},
          "execution_count": 696
        },
        {
          "output_type": "display_data",
          "data": {
            "text/plain": [
              "<Figure size 576x288 with 2 Axes>"
            ],
            "image/png": "[encoded data removed]"
          },
          "metadata": {
            "needs_background": "light"
          }
        }
      ]
    },
    {
      "cell_type": "markdown",
      "source": [
        "Our optimized logistic regression model successfully classified 86% of the samples in our test set that were class 1 ('**High**' representing \"high actual productivity\"), and 57% of the samples in our test set that were class 0 ('**Low**' representing \"low actual productivity\")."
      ],
      "metadata": {
        "id": "v-SACQIO5mF9"
      }
    },
    {
      "cell_type": "markdown",
      "source": [
        "### 21) KNN"
      ],
      "metadata": {
        "id": "pS_Mp14Jqw7P"
      }
    },
    {
      "cell_type": "code",
      "source": [
        "#Create a pipeline with the preprocessed data (preprocessor) and a KNeighborsClassifier\n",
        "knn = KNeighborsClassifier(n_neighbors=1)\n",
        "knn_pipe = make_pipeline(preprocessor, knn)\n",
        "#Fit KNN model pipeline and save predictions test set\n",
        "knn_pipe.fit(X_train, y_train)\n",
        "knn_train_predictions = knn_pipe.predict(X_train)\n",
        "knn_test_predictions = knn_pipe.predict(X_test)"
      ],
      "metadata": {
        "id": "4hKUz_MWpOnl"
      },
      "execution_count": 697,
      "outputs": []
    },
    {
      "cell_type": "code",
      "source": [
        "# Run a classification report on both train and test datasets.\n",
        "print('Training Metrics')\n",
        "print(classification_report(y_train, knn_train_predictions, digits = 4))\n",
        "print('\\nTesting Metrics')\n",
        "print(classification_report(y_test, knn_test_predictions, digits = 4))"
      ],
      "metadata": {
        "colab": {
          "base_uri": "https://localhost:8080/"
        },
        "id": "hs4bUtppHxwI",
        "outputId": "965b958b-7f26-46ee-f045-47cba0b742ae"
      },
      "execution_count": 698,
      "outputs": [
        {
          "output_type": "stream",
          "name": "stdout",
          "text": [
            "Training Metrics\n",
            "              precision    recall  f1-score   support\n",
            "\n",
            "           0     1.0000    1.0000    1.0000       356\n",
            "           1     1.0000    1.0000    1.0000       514\n",
            "\n",
            "    accuracy                         1.0000       870\n",
            "   macro avg     1.0000    1.0000    1.0000       870\n",
            "weighted avg     1.0000    1.0000    1.0000       870\n",
            "\n",
            "\n",
            "Testing Metrics\n",
            "              precision    recall  f1-score   support\n",
            "\n",
            "           0     0.6308    0.6560    0.6431       125\n",
            "           1     0.7312    0.7091    0.7200       165\n",
            "\n",
            "    accuracy                         0.6862       290\n",
            "   macro avg     0.6810    0.6825    0.6816       290\n",
            "weighted avg     0.6879    0.6862    0.6869       290\n",
            "\n"
          ]
        }
      ]
    },
    {
      "cell_type": "markdown",
      "source": [
        "- The results from the default KNN model are not good. The model did much better on the training set than the test set. This means the model is overfit. The accuracy, recall, precision and F1 scores were not good on the testing set. Let's see if we can improve results on the testing set by tuning hyperparameters."
      ],
      "metadata": {
        "id": "nSsloT6F2izT"
      }
    },
    {
      "cell_type": "markdown",
      "source": [
        "**a) GridSearchCV**"
      ],
      "metadata": {
        "id": "I_BdG66R3Fa-"
      }
    },
    {
      "cell_type": "code",
      "source": [
        "knn_pipe.get_params()"
      ],
      "metadata": {
        "colab": {
          "base_uri": "https://localhost:8080/"
        },
        "id": "pyo1lYua2wXB",
        "outputId": "ff1b5a6a-688f-4241-9bc5-9f0dea4246dc"
      },
      "execution_count": 699,
      "outputs": [
        {
          "output_type": "execute_result",
          "data": {
            "text/plain": [
              "{'columntransformer': ColumnTransformer(remainder='passthrough',\n",
              "                   transformers=[('pipeline',\n",
              "                                  Pipeline(steps=[('simpleimputer',\n",
              "                                                   SimpleImputer(strategy='median')),\n",
              "                                                  ('standardscaler',\n",
              "                                                   StandardScaler())]),\n",
              "                                  <sklearn.compose._column_transformer.make_column_selector object at 0x7f8921551e90>),\n",
              "                                 ('onehotencoder',\n",
              "                                  OneHotEncoder(handle_unknown='ignore',\n",
              "                                                sparse=False),\n",
              "                                  <sklearn.compose._column_transformer.make_column_selector object at 0x7f8921551590>)]),\n",
              " 'columntransformer__n_jobs': None,\n",
              " 'columntransformer__onehotencoder': OneHotEncoder(handle_unknown='ignore', sparse=False),\n",
              " 'columntransformer__onehotencoder__categories': 'auto',\n",
              " 'columntransformer__onehotencoder__drop': None,\n",
              " 'columntransformer__onehotencoder__dtype': numpy.float64,\n",
              " 'columntransformer__onehotencoder__handle_unknown': 'ignore',\n",
              " 'columntransformer__onehotencoder__sparse': False,\n",
              " 'columntransformer__pipeline': Pipeline(steps=[('simpleimputer', SimpleImputer(strategy='median')),\n",
              "                 ('standardscaler', StandardScaler())]),\n",
              " 'columntransformer__pipeline__memory': None,\n",
              " 'columntransformer__pipeline__simpleimputer': SimpleImputer(strategy='median'),\n",
              " 'columntransformer__pipeline__simpleimputer__add_indicator': False,\n",
              " 'columntransformer__pipeline__simpleimputer__copy': True,\n",
              " 'columntransformer__pipeline__simpleimputer__fill_value': None,\n",
              " 'columntransformer__pipeline__simpleimputer__missing_values': nan,\n",
              " 'columntransformer__pipeline__simpleimputer__strategy': 'median',\n",
              " 'columntransformer__pipeline__simpleimputer__verbose': 0,\n",
              " 'columntransformer__pipeline__standardscaler': StandardScaler(),\n",
              " 'columntransformer__pipeline__standardscaler__copy': True,\n",
              " 'columntransformer__pipeline__standardscaler__with_mean': True,\n",
              " 'columntransformer__pipeline__standardscaler__with_std': True,\n",
              " 'columntransformer__pipeline__steps': [('simpleimputer',\n",
              "   SimpleImputer(strategy='median')),\n",
              "  ('standardscaler', StandardScaler())],\n",
              " 'columntransformer__pipeline__verbose': False,\n",
              " 'columntransformer__remainder': 'passthrough',\n",
              " 'columntransformer__sparse_threshold': 0.3,\n",
              " 'columntransformer__transformer_weights': None,\n",
              " 'columntransformer__transformers': [('pipeline',\n",
              "   Pipeline(steps=[('simpleimputer', SimpleImputer(strategy='median')),\n",
              "                   ('standardscaler', StandardScaler())]),\n",
              "   <sklearn.compose._column_transformer.make_column_selector at 0x7f8921551e90>),\n",
              "  ('onehotencoder',\n",
              "   OneHotEncoder(handle_unknown='ignore', sparse=False),\n",
              "   <sklearn.compose._column_transformer.make_column_selector at 0x7f8921551590>)],\n",
              " 'columntransformer__verbose': False,\n",
              " 'columntransformer__verbose_feature_names_out': True,\n",
              " 'kneighborsclassifier': KNeighborsClassifier(n_neighbors=1),\n",
              " 'kneighborsclassifier__algorithm': 'auto',\n",
              " 'kneighborsclassifier__leaf_size': 30,\n",
              " 'kneighborsclassifier__metric': 'minkowski',\n",
              " 'kneighborsclassifier__metric_params': None,\n",
              " 'kneighborsclassifier__n_jobs': None,\n",
              " 'kneighborsclassifier__n_neighbors': 1,\n",
              " 'kneighborsclassifier__p': 2,\n",
              " 'kneighborsclassifier__weights': 'uniform',\n",
              " 'memory': None,\n",
              " 'steps': [('columntransformer', ColumnTransformer(remainder='passthrough',\n",
              "                     transformers=[('pipeline',\n",
              "                                    Pipeline(steps=[('simpleimputer',\n",
              "                                                     SimpleImputer(strategy='median')),\n",
              "                                                    ('standardscaler',\n",
              "                                                     StandardScaler())]),\n",
              "                                    <sklearn.compose._column_transformer.make_column_selector object at 0x7f8921551e90>),\n",
              "                                   ('onehotencoder',\n",
              "                                    OneHotEncoder(handle_unknown='ignore',\n",
              "                                                  sparse=False),\n",
              "                                    <sklearn.compose._column_transformer.make_column_selector object at 0x7f8921551590>)])),\n",
              "  ('kneighborsclassifier', KNeighborsClassifier(n_neighbors=1))],\n",
              " 'verbose': False}"
            ]
          },
          "metadata": {},
          "execution_count": 699
        }
      ]
    },
    {
      "cell_type": "code",
      "source": [
        "#Parameters to tune\n",
        "params = {'kneighborsclassifier__n_neighbors': range(1, 20),\n",
        "          'kneighborsclassifier__weights': ['uniform', 'distance'],\n",
        "          'kneighborsclassifier__p': [2, 3, 4]}"
      ],
      "metadata": {
        "id": "2iwt7TmA3Jhr"
      },
      "execution_count": 700,
      "outputs": []
    },
    {
      "cell_type": "code",
      "source": [
        "# Instantiate a gridsearch with the KNN model and the hyperparamter dictionary\n",
        "knn_grid = GridSearchCV(knn_pipe, params)\n",
        "knn_grid.fit(X_train, y_train)"
      ],
      "metadata": {
        "colab": {
          "base_uri": "https://localhost:8080/",
          "height": 228
        },
        "id": "PJORl8Xt3fgo",
        "outputId": "4305396a-2e12-4ce7-f611-0cf4c7d06b44"
      },
      "execution_count": 701,
      "outputs": [
        {
          "output_type": "execute_result",
          "data": {
            "text/plain": [
              "GridSearchCV(estimator=Pipeline(steps=[('columntransformer',\n",
              "                                        ColumnTransformer(remainder='passthrough',\n",
              "                                                          transformers=[('pipeline',\n",
              "                                                                         Pipeline(steps=[('simpleimputer',\n",
              "                                                                                          SimpleImputer(strategy='median')),\n",
              "                                                                                         ('standardscaler',\n",
              "                                                                                          StandardScaler())]),\n",
              "                                                                         <sklearn.compose._column_transformer.make_column_selector object at 0x7f8921551e90>),\n",
              "                                                                        ('onehotencoder',\n",
              "                                                                         OneHotEncoder(handle_unknown='ignore',\n",
              "                                                                                       sparse=False),\n",
              "                                                                         <sklearn.compose._column_transformer.make_column_selector object at 0x7f8921551590>)])),\n",
              "                                       ('kneighborsclassifier',\n",
              "                                        KNeighborsClassifier(n_neighbors=1))]),\n",
              "             param_grid={'kneighborsclassifier__n_neighbors': range(1, 20),\n",
              "                         'kneighborsclassifier__p': [2, 3, 4],\n",
              "                         'kneighborsclassifier__weights': ['uniform',\n",
              "                                                           'distance']})"
            ],
            "text/html": [
              "<style>#sk-f459f366-06ca-4900-bcec-0157b6b8bfda {color: black;background-color: white;}#sk-f459f366-06ca-4900-bcec-0157b6b8bfda pre{padding: 0;}#sk-f459f366-06ca-4900-bcec-0157b6b8bfda div.sk-toggleable {background-color: white;}#sk-f459f366-06ca-4900-bcec-0157b6b8bfda label.sk-toggleable__label {cursor: pointer;display: block;width: 100%;margin-bottom: 0;padding: 0.3em;box-sizing: border-box;text-align: center;}#sk-f459f366-06ca-4900-bcec-0157b6b8bfda label.sk-toggleable__label-arrow:before {content: \"▸\";float: left;margin-right: 0.25em;color: #696969;}#sk-f459f366-06ca-4900-bcec-0157b6b8bfda label.sk-toggleable__label-arrow:hover:before {color: black;}#sk-f459f366-06ca-4900-bcec-0157b6b8bfda div.sk-estimator:hover label.sk-toggleable__label-arrow:before {color: black;}#sk-f459f366-06ca-4900-bcec-0157b6b8bfda div.sk-toggleable__content {max-height: 0;max-width: 0;overflow: hidden;text-align: left;background-color: #f0f8ff;}#sk-f459f366-06ca-4900-bcec-0157b6b8bfda div.sk-toggleable__content pre {margin: 0.2em;color: black;border-radius: 0.25em;background-color: #f0f8ff;}#sk-f459f366-06ca-4900-bcec-0157b6b8bfda input.sk-toggleable__control:checked~div.sk-toggleable__content {max-height: 200px;max-width: 100%;overflow: auto;}#sk-f459f366-06ca-4900-bcec-0157b6b8bfda input.sk-toggleable__control:checked~label.sk-toggleable__label-arrow:before {content: \"▾\";}#sk-f459f366-06ca-4900-bcec-0157b6b8bfda div.sk-estimator input.sk-toggleable__control:checked~label.sk-toggleable__label {background-color: #d4ebff;}#sk-f459f366-06ca-4900-bcec-0157b6b8bfda div.sk-label input.sk-toggleable__control:checked~label.sk-toggleable__label {background-color: #d4ebff;}#sk-f459f366-06ca-4900-bcec-0157b6b8bfda input.sk-hidden--visually {border: 0;clip: rect(1px 1px 1px 1px);clip: rect(1px, 1px, 1px, 1px);height: 1px;margin: -1px;overflow: hidden;padding: 0;position: absolute;width: 1px;}#sk-f459f366-06ca-4900-bcec-0157b6b8bfda div.sk-estimator {font-family: monospace;background-color: #f0f8ff;border: 1px dotted black;border-radius: 0.25em;box-sizing: border-box;margin-bottom: 0.5em;}#sk-f459f366-06ca-4900-bcec-0157b6b8bfda div.sk-estimator:hover {background-color: #d4ebff;}#sk-f459f366-06ca-4900-bcec-0157b6b8bfda div.sk-parallel-item::after {content: \"\";width: 100%;border-bottom: 1px solid gray;flex-grow: 1;}#sk-f459f366-06ca-4900-bcec-0157b6b8bfda div.sk-label:hover label.sk-toggleable__label {background-color: #d4ebff;}#sk-f459f366-06ca-4900-bcec-0157b6b8bfda div.sk-serial::before {content: \"\";position: absolute;border-left: 1px solid gray;box-sizing: border-box;top: 2em;bottom: 0;left: 50%;}#sk-f459f366-06ca-4900-bcec-0157b6b8bfda div.sk-serial {display: flex;flex-direction: column;align-items: center;background-color: white;padding-right: 0.2em;padding-left: 0.2em;}#sk-f459f366-06ca-4900-bcec-0157b6b8bfda div.sk-item {z-index: 1;}#sk-f459f366-06ca-4900-bcec-0157b6b8bfda div.sk-parallel {display: flex;align-items: stretch;justify-content: center;background-color: white;}#sk-f459f366-06ca-4900-bcec-0157b6b8bfda div.sk-parallel::before {content: \"\";position: absolute;border-left: 1px solid gray;box-sizing: border-box;top: 2em;bottom: 0;left: 50%;}#sk-f459f366-06ca-4900-bcec-0157b6b8bfda div.sk-parallel-item {display: flex;flex-direction: column;position: relative;background-color: white;}#sk-f459f366-06ca-4900-bcec-0157b6b8bfda div.sk-parallel-item:first-child::after {align-self: flex-end;width: 50%;}#sk-f459f366-06ca-4900-bcec-0157b6b8bfda div.sk-parallel-item:last-child::after {align-self: flex-start;width: 50%;}#sk-f459f366-06ca-4900-bcec-0157b6b8bfda div.sk-parallel-item:only-child::after {width: 0;}#sk-f459f366-06ca-4900-bcec-0157b6b8bfda div.sk-dashed-wrapped {border: 1px dashed gray;margin: 0 0.4em 0.5em 0.4em;box-sizing: border-box;padding-bottom: 0.4em;background-color: white;position: relative;}#sk-f459f366-06ca-4900-bcec-0157b6b8bfda div.sk-label label {font-family: monospace;font-weight: bold;background-color: white;display: inline-block;line-height: 1.2em;}#sk-f459f366-06ca-4900-bcec-0157b6b8bfda div.sk-label-container {position: relative;z-index: 2;text-align: center;}#sk-f459f366-06ca-4900-bcec-0157b6b8bfda div.sk-container {/* jupyter's `normalize.less` sets `[hidden] { display: none; }` but bootstrap.min.css set `[hidden] { display: none !important; }` so we also need the `!important` here to be able to override the default hidden behavior on the sphinx rendered scikit-learn.org. See: https://github.com/scikit-learn/scikit-learn/issues/21755 */display: inline-block !important;position: relative;}#sk-f459f366-06ca-4900-bcec-0157b6b8bfda div.sk-text-repr-fallback {display: none;}</style><div id=\"sk-f459f366-06ca-4900-bcec-0157b6b8bfda\" class=\"sk-top-container\"><div class=\"sk-text-repr-fallback\"><pre>GridSearchCV(estimator=Pipeline(steps=[(&#x27;columntransformer&#x27;,\n",
              "                                        ColumnTransformer(remainder=&#x27;passthrough&#x27;,\n",
              "                                                          transformers=[(&#x27;pipeline&#x27;,\n",
              "                                                                         Pipeline(steps=[(&#x27;simpleimputer&#x27;,\n",
              "                                                                                          SimpleImputer(strategy=&#x27;median&#x27;)),\n",
              "                                                                                         (&#x27;standardscaler&#x27;,\n",
              "                                                                                          StandardScaler())]),\n",
              "                                                                         &lt;sklearn.compose._column_transformer.make_column_selector object at 0x7f8921551e90&gt;),\n",
              "                                                                        (&#x27;onehotencoder&#x27;,\n",
              "                                                                         OneHotEncoder(handle_unknown=&#x27;ignore&#x27;,\n",
              "                                                                                       sparse=False),\n",
              "                                                                         &lt;sklearn.compose._column_transformer.make_column_selector object at 0x7f8921551590&gt;)])),\n",
              "                                       (&#x27;kneighborsclassifier&#x27;,\n",
              "                                        KNeighborsClassifier(n_neighbors=1))]),\n",
              "             param_grid={&#x27;kneighborsclassifier__n_neighbors&#x27;: range(1, 20),\n",
              "                         &#x27;kneighborsclassifier__p&#x27;: [2, 3, 4],\n",
              "                         &#x27;kneighborsclassifier__weights&#x27;: [&#x27;uniform&#x27;,\n",
              "                                                           &#x27;distance&#x27;]})</pre><b>Please rerun this cell to show the HTML repr or trust the notebook.</b></div><div class=\"sk-container\" hidden><div class=\"sk-item sk-dashed-wrapped\"><div class=\"sk-label-container\"><div class=\"sk-label sk-toggleable\"><input class=\"sk-toggleable__control sk-hidden--visually\" id=\"4ec0b3dd-861f-4be3-819b-c90ba3958e74\" type=\"checkbox\" ><label for=\"4ec0b3dd-861f-4be3-819b-c90ba3958e74\" class=\"sk-toggleable__label sk-toggleable__label-arrow\">GridSearchCV</label><div class=\"sk-toggleable__content\"><pre>GridSearchCV(estimator=Pipeline(steps=[(&#x27;columntransformer&#x27;,\n",
              "                                        ColumnTransformer(remainder=&#x27;passthrough&#x27;,\n",
              "                                                          transformers=[(&#x27;pipeline&#x27;,\n",
              "                                                                         Pipeline(steps=[(&#x27;simpleimputer&#x27;,\n",
              "                                                                                          SimpleImputer(strategy=&#x27;median&#x27;)),\n",
              "                                                                                         (&#x27;standardscaler&#x27;,\n",
              "                                                                                          StandardScaler())]),\n",
              "                                                                         &lt;sklearn.compose._column_transformer.make_column_selector object at 0x7f8921551e90&gt;),\n",
              "                                                                        (&#x27;onehotencoder&#x27;,\n",
              "                                                                         OneHotEncoder(handle_unknown=&#x27;ignore&#x27;,\n",
              "                                                                                       sparse=False),\n",
              "                                                                         &lt;sklearn.compose._column_transformer.make_column_selector object at 0x7f8921551590&gt;)])),\n",
              "                                       (&#x27;kneighborsclassifier&#x27;,\n",
              "                                        KNeighborsClassifier(n_neighbors=1))]),\n",
              "             param_grid={&#x27;kneighborsclassifier__n_neighbors&#x27;: range(1, 20),\n",
              "                         &#x27;kneighborsclassifier__p&#x27;: [2, 3, 4],\n",
              "                         &#x27;kneighborsclassifier__weights&#x27;: [&#x27;uniform&#x27;,\n",
              "                                                           &#x27;distance&#x27;]})</pre></div></div></div><div class=\"sk-parallel\"><div class=\"sk-parallel-item\"><div class=\"sk-item\"><div class=\"sk-serial\"><div class=\"sk-item\"><div class=\"sk-serial\"><div class=\"sk-item sk-dashed-wrapped\"><div class=\"sk-label-container\"><div class=\"sk-label sk-toggleable\"><input class=\"sk-toggleable__control sk-hidden--visually\" id=\"574a99a1-96ed-4e35-8c98-9b552fd6c100\" type=\"checkbox\" ><label for=\"574a99a1-96ed-4e35-8c98-9b552fd6c100\" class=\"sk-toggleable__label sk-toggleable__label-arrow\">columntransformer: ColumnTransformer</label><div class=\"sk-toggleable__content\"><pre>ColumnTransformer(remainder=&#x27;passthrough&#x27;,\n",
              "                  transformers=[(&#x27;pipeline&#x27;,\n",
              "                                 Pipeline(steps=[(&#x27;simpleimputer&#x27;,\n",
              "                                                  SimpleImputer(strategy=&#x27;median&#x27;)),\n",
              "                                                 (&#x27;standardscaler&#x27;,\n",
              "                                                  StandardScaler())]),\n",
              "                                 &lt;sklearn.compose._column_transformer.make_column_selector object at 0x7f8921551e90&gt;),\n",
              "                                (&#x27;onehotencoder&#x27;,\n",
              "                                 OneHotEncoder(handle_unknown=&#x27;ignore&#x27;,\n",
              "                                               sparse=False),\n",
              "                                 &lt;sklearn.compose._column_transformer.make_column_selector object at 0x7f8921551590&gt;)])</pre></div></div></div><div class=\"sk-parallel\"><div class=\"sk-parallel-item\"><div class=\"sk-item\"><div class=\"sk-label-container\"><div class=\"sk-label sk-toggleable\"><input class=\"sk-toggleable__control sk-hidden--visually\" id=\"45622f5c-ad78-485a-9536-9a5333e2de11\" type=\"checkbox\" ><label for=\"45622f5c-ad78-485a-9536-9a5333e2de11\" class=\"sk-toggleable__label sk-toggleable__label-arrow\">pipeline</label><div class=\"sk-toggleable__content\"><pre>&lt;sklearn.compose._column_transformer.make_column_selector object at 0x7f8921551e90&gt;</pre></div></div></div><div class=\"sk-serial\"><div class=\"sk-item\"><div class=\"sk-serial\"><div class=\"sk-item\"><div class=\"sk-estimator sk-toggleable\"><input class=\"sk-toggleable__control sk-hidden--visually\" id=\"8ba0e126-a26d-45cc-9f3f-f15c076594d2\" type=\"checkbox\" ><label for=\"8ba0e126-a26d-45cc-9f3f-f15c076594d2\" class=\"sk-toggleable__label sk-toggleable__label-arrow\">SimpleImputer</label><div class=\"sk-toggleable__content\"><pre>SimpleImputer(strategy=&#x27;median&#x27;)</pre></div></div></div><div class=\"sk-item\"><div class=\"sk-estimator sk-toggleable\"><input class=\"sk-toggleable__control sk-hidden--visually\" id=\"833fd8e9-4dd6-450a-a1ef-628b9738c41d\" type=\"checkbox\" ><label for=\"833fd8e9-4dd6-450a-a1ef-628b9738c41d\" class=\"sk-toggleable__label sk-toggleable__label-arrow\">StandardScaler</label><div class=\"sk-toggleable__content\"><pre>StandardScaler()</pre></div></div></div></div></div></div></div></div><div class=\"sk-parallel-item\"><div class=\"sk-item\"><div class=\"sk-label-container\"><div class=\"sk-label sk-toggleable\"><input class=\"sk-toggleable__control sk-hidden--visually\" id=\"0127a898-275d-409d-8d6f-15a30c8b1052\" type=\"checkbox\" ><label for=\"0127a898-275d-409d-8d6f-15a30c8b1052\" class=\"sk-toggleable__label sk-toggleable__label-arrow\">onehotencoder</label><div class=\"sk-toggleable__content\"><pre>&lt;sklearn.compose._column_transformer.make_column_selector object at 0x7f8921551590&gt;</pre></div></div></div><div class=\"sk-serial\"><div class=\"sk-item\"><div class=\"sk-estimator sk-toggleable\"><input class=\"sk-toggleable__control sk-hidden--visually\" id=\"9604f84b-735b-404c-be15-48246d7d28d5\" type=\"checkbox\" ><label for=\"9604f84b-735b-404c-be15-48246d7d28d5\" class=\"sk-toggleable__label sk-toggleable__label-arrow\">OneHotEncoder</label><div class=\"sk-toggleable__content\"><pre>OneHotEncoder(handle_unknown=&#x27;ignore&#x27;, sparse=False)</pre></div></div></div></div></div></div><div class=\"sk-parallel-item\"><div class=\"sk-item\"><div class=\"sk-label-container\"><div class=\"sk-label sk-toggleable\"><input class=\"sk-toggleable__control sk-hidden--visually\" id=\"d5a2c192-354f-4424-8429-98d7e45b0e19\" type=\"checkbox\" ><label for=\"d5a2c192-354f-4424-8429-98d7e45b0e19\" class=\"sk-toggleable__label sk-toggleable__label-arrow\">remainder</label><div class=\"sk-toggleable__content\"><pre>[]</pre></div></div></div><div class=\"sk-serial\"><div class=\"sk-item\"><div class=\"sk-estimator sk-toggleable\"><input class=\"sk-toggleable__control sk-hidden--visually\" id=\"95601873-e666-4440-af20-4a6494fb77e4\" type=\"checkbox\" ><label for=\"95601873-e666-4440-af20-4a6494fb77e4\" class=\"sk-toggleable__label sk-toggleable__label-arrow\">passthrough</label><div class=\"sk-toggleable__content\"><pre>passthrough</pre></div></div></div></div></div></div></div></div><div class=\"sk-item\"><div class=\"sk-estimator sk-toggleable\"><input class=\"sk-toggleable__control sk-hidden--visually\" id=\"4e04bbc5-bb94-4fee-9a4d-3136a7e27caa\" type=\"checkbox\" ><label for=\"4e04bbc5-bb94-4fee-9a4d-3136a7e27caa\" class=\"sk-toggleable__label sk-toggleable__label-arrow\">KNeighborsClassifier</label><div class=\"sk-toggleable__content\"><pre>KNeighborsClassifier(n_neighbors=1)</pre></div></div></div></div></div></div></div></div></div></div></div></div>"
            ]
          },
          "metadata": {},
          "execution_count": 701
        }
      ]
    },
    {
      "cell_type": "code",
      "source": [
        "# Check the optimal combinations of hyperparameters\n",
        "knn_grid.best_params_"
      ],
      "metadata": {
        "colab": {
          "base_uri": "https://localhost:8080/"
        },
        "id": "k5bZPeVZ4GDZ",
        "outputId": "88825970-f763-4631-be34-1647e42d3803"
      },
      "execution_count": 702,
      "outputs": [
        {
          "output_type": "execute_result",
          "data": {
            "text/plain": [
              "{'kneighborsclassifier__n_neighbors': 5,\n",
              " 'kneighborsclassifier__p': 4,\n",
              " 'kneighborsclassifier__weights': 'uniform'}"
            ]
          },
          "metadata": {},
          "execution_count": 702
        }
      ]
    },
    {
      "cell_type": "code",
      "source": [
        "# extract the best version of the model from the gridsearch object\n",
        "best_knn = knn_grid.best_estimator_"
      ],
      "metadata": {
        "id": "gqcXJn_u4H2a"
      },
      "execution_count": 703,
      "outputs": []
    },
    {
      "cell_type": "code",
      "source": [
        "# Run a classification report on both train and test datasets for the best model. \n",
        "train_preds = best_knn.predict(X_train)\n",
        "test_preds = best_knn.predict(X_test)\n",
        "\n",
        "print('Best Model Training Metrics')\n",
        "print(classification_report(y_train, train_preds, digits = 4))\n",
        "print('\\nBest Model Testing Metrics')\n",
        "print(classification_report(y_test, test_preds, digits = 4))"
      ],
      "metadata": {
        "colab": {
          "base_uri": "https://localhost:8080/"
        },
        "id": "BSzyEA5z4LQm",
        "outputId": "8de8f5d2-2914-49b8-f511-4c68ba7be861"
      },
      "execution_count": 704,
      "outputs": [
        {
          "output_type": "stream",
          "name": "stdout",
          "text": [
            "Best Model Training Metrics\n",
            "              precision    recall  f1-score   support\n",
            "\n",
            "           0     0.8482    0.8006    0.8237       356\n",
            "           1     0.8670    0.9008    0.8836       514\n",
            "\n",
            "    accuracy                         0.8598       870\n",
            "   macro avg     0.8576    0.8507    0.8536       870\n",
            "weighted avg     0.8593    0.8598    0.8591       870\n",
            "\n",
            "\n",
            "Best Model Testing Metrics\n",
            "              precision    recall  f1-score   support\n",
            "\n",
            "           0     0.6783    0.6240    0.6500       125\n",
            "           1     0.7314    0.7758    0.7529       165\n",
            "\n",
            "    accuracy                         0.7103       290\n",
            "   macro avg     0.7048    0.6999    0.7015       290\n",
            "weighted avg     0.7085    0.7103    0.7086       290\n",
            "\n"
          ]
        }
      ]
    },
    {
      "cell_type": "markdown",
      "source": [
        "- We can see from the above results that tuning our KNN model slightly improved results for our testing set. The scores for all the metrics are higher in the tuned model than the default model."
      ],
      "metadata": {
        "id": "EL_ZRslL6wBc"
      }
    },
    {
      "cell_type": "markdown",
      "source": [
        "**b) Confusion Matrices**"
      ],
      "metadata": {
        "id": "9YjQhZPv7fq1"
      }
    },
    {
      "cell_type": "code",
      "source": [
        "# \"The following Code (\"fig, ax\") adapted from: https://panjeh.medium.com/figure-size-plot-confusion-matrix-in-scikit-learn-2c66f3a69d81\"\n",
        "fig, ax = plt.subplots(figsize=(8, 4))\n",
        "ConfusionMatrixDisplay.from_predictions(y_test, test_preds, cmap = 'Blues',  normalize = 'true', ax=ax)"
      ],
      "metadata": {
        "colab": {
          "base_uri": "https://localhost:8080/",
          "height": 297
        },
        "id": "IITE8-go5i3r",
        "outputId": "f78d4ca0-f140-40e5-a386-c71e61a5c741"
      },
      "execution_count": 705,
      "outputs": [
        {
          "output_type": "execute_result",
          "data": {
            "text/plain": [
              "<sklearn.metrics._plot.confusion_matrix.ConfusionMatrixDisplay at 0x7f8921064e10>"
            ]
          },
          "metadata": {},
          "execution_count": 705
        },
        {
          "output_type": "display_data",
          "data": {
            "text/plain": [
              "<Figure size 576x288 with 2 Axes>"
            ],
            "image/png": "[encoded data removed]"
          },
          "metadata": {
            "needs_background": "light"
          }
        }
      ]
    },
    {
      "cell_type": "markdown",
      "source": [
        "Our optimized KNN model successfully classified 78% of the samples in our test set that were class 1 ('**High**' representing \"high actual productivity\"), and 62% of the samples in our test set that were class 0 ('**Low**' representing \"low actual productivity\")."
      ],
      "metadata": {
        "id": "BHmcQWw69xqY"
      }
    },
    {
      "cell_type": "markdown",
      "source": [
        "### 22. Random Forest Model"
      ],
      "metadata": {
        "id": "9MA5Y4JBGpL0"
      }
    },
    {
      "cell_type": "code",
      "source": [
        "#Create a pipeline with the preprocessed data (preprocessor) and RandomForestClassifier\n",
        "rf = RandomForestClassifier(random_state = 42)\n",
        "rf_pipe = make_pipeline(preprocessor, rf)\n",
        "#Fit Random Forest model pipeline and save predictions test set\n",
        "rf_pipe.fit(X_train, y_train)\n",
        "rf_train_predictions = rf_pipe.predict(X_train)\n",
        "rf_test_predictions = rf_pipe.predict(X_test)"
      ],
      "metadata": {
        "id": "hCa9CDTy9jpP"
      },
      "execution_count": 706,
      "outputs": []
    },
    {
      "cell_type": "code",
      "source": [
        "# Run a classification report on both train and test datasets.\n",
        "print('Training Metrics')\n",
        "print(classification_report(y_train, rf_train_predictions, digits = 4))\n",
        "print('\\nTesting Metrics')\n",
        "print(classification_report(y_test, rf_test_predictions, digits = 4))"
      ],
      "metadata": {
        "colab": {
          "base_uri": "https://localhost:8080/"
        },
        "outputId": "699c4db4-963d-449d-a3df-ba5cec104a66",
        "id": "swqt3dL1Nc_D"
      },
      "execution_count": 707,
      "outputs": [
        {
          "output_type": "stream",
          "name": "stdout",
          "text": [
            "Training Metrics\n",
            "              precision    recall  f1-score   support\n",
            "\n",
            "           0     1.0000    1.0000    1.0000       356\n",
            "           1     1.0000    1.0000    1.0000       514\n",
            "\n",
            "    accuracy                         1.0000       870\n",
            "   macro avg     1.0000    1.0000    1.0000       870\n",
            "weighted avg     1.0000    1.0000    1.0000       870\n",
            "\n",
            "\n",
            "Testing Metrics\n",
            "              precision    recall  f1-score   support\n",
            "\n",
            "           0     0.7937    0.8000    0.7968       125\n",
            "           1     0.8476    0.8424    0.8450       165\n",
            "\n",
            "    accuracy                         0.8241       290\n",
            "   macro avg     0.8206    0.8212    0.8209       290\n",
            "weighted avg     0.8243    0.8241    0.8242       290\n",
            "\n"
          ]
        }
      ]
    },
    {
      "cell_type": "markdown",
      "source": [
        "- The accuracy, recall, precision and F1 score were good on both the training and testing set for the random forest model. The scores for the training set are not very close to the testing set, meaning our model is slightly overfit. Let's see if we can improve results on the testing set by tuning hyperparameters"
      ],
      "metadata": {
        "id": "eiR3g1ssHxGY"
      }
    },
    {
      "cell_type": "markdown",
      "source": [
        "**a) GridSearchCV**"
      ],
      "metadata": {
        "id": "T5KGEz3-IOfv"
      }
    },
    {
      "cell_type": "code",
      "source": [
        "rf_pipe.get_params()"
      ],
      "metadata": {
        "colab": {
          "base_uri": "https://localhost:8080/"
        },
        "outputId": "013a8c28-2307-41ab-fdc8-20a7dd1827fb",
        "id": "OemIP5s6IOfv"
      },
      "execution_count": 708,
      "outputs": [
        {
          "output_type": "execute_result",
          "data": {
            "text/plain": [
              "{'columntransformer': ColumnTransformer(remainder='passthrough',\n",
              "                   transformers=[('pipeline',\n",
              "                                  Pipeline(steps=[('simpleimputer',\n",
              "                                                   SimpleImputer(strategy='median')),\n",
              "                                                  ('standardscaler',\n",
              "                                                   StandardScaler())]),\n",
              "                                  <sklearn.compose._column_transformer.make_column_selector object at 0x7f8921551e90>),\n",
              "                                 ('onehotencoder',\n",
              "                                  OneHotEncoder(handle_unknown='ignore',\n",
              "                                                sparse=False),\n",
              "                                  <sklearn.compose._column_transformer.make_column_selector object at 0x7f8921551590>)]),\n",
              " 'columntransformer__n_jobs': None,\n",
              " 'columntransformer__onehotencoder': OneHotEncoder(handle_unknown='ignore', sparse=False),\n",
              " 'columntransformer__onehotencoder__categories': 'auto',\n",
              " 'columntransformer__onehotencoder__drop': None,\n",
              " 'columntransformer__onehotencoder__dtype': numpy.float64,\n",
              " 'columntransformer__onehotencoder__handle_unknown': 'ignore',\n",
              " 'columntransformer__onehotencoder__sparse': False,\n",
              " 'columntransformer__pipeline': Pipeline(steps=[('simpleimputer', SimpleImputer(strategy='median')),\n",
              "                 ('standardscaler', StandardScaler())]),\n",
              " 'columntransformer__pipeline__memory': None,\n",
              " 'columntransformer__pipeline__simpleimputer': SimpleImputer(strategy='median'),\n",
              " 'columntransformer__pipeline__simpleimputer__add_indicator': False,\n",
              " 'columntransformer__pipeline__simpleimputer__copy': True,\n",
              " 'columntransformer__pipeline__simpleimputer__fill_value': None,\n",
              " 'columntransformer__pipeline__simpleimputer__missing_values': nan,\n",
              " 'columntransformer__pipeline__simpleimputer__strategy': 'median',\n",
              " 'columntransformer__pipeline__simpleimputer__verbose': 0,\n",
              " 'columntransformer__pipeline__standardscaler': StandardScaler(),\n",
              " 'columntransformer__pipeline__standardscaler__copy': True,\n",
              " 'columntransformer__pipeline__standardscaler__with_mean': True,\n",
              " 'columntransformer__pipeline__standardscaler__with_std': True,\n",
              " 'columntransformer__pipeline__steps': [('simpleimputer',\n",
              "   SimpleImputer(strategy='median')),\n",
              "  ('standardscaler', StandardScaler())],\n",
              " 'columntransformer__pipeline__verbose': False,\n",
              " 'columntransformer__remainder': 'passthrough',\n",
              " 'columntransformer__sparse_threshold': 0.3,\n",
              " 'columntransformer__transformer_weights': None,\n",
              " 'columntransformer__transformers': [('pipeline',\n",
              "   Pipeline(steps=[('simpleimputer', SimpleImputer(strategy='median')),\n",
              "                   ('standardscaler', StandardScaler())]),\n",
              "   <sklearn.compose._column_transformer.make_column_selector at 0x7f8921551e90>),\n",
              "  ('onehotencoder',\n",
              "   OneHotEncoder(handle_unknown='ignore', sparse=False),\n",
              "   <sklearn.compose._column_transformer.make_column_selector at 0x7f8921551590>)],\n",
              " 'columntransformer__verbose': False,\n",
              " 'columntransformer__verbose_feature_names_out': True,\n",
              " 'memory': None,\n",
              " 'randomforestclassifier': RandomForestClassifier(random_state=42),\n",
              " 'randomforestclassifier__bootstrap': True,\n",
              " 'randomforestclassifier__ccp_alpha': 0.0,\n",
              " 'randomforestclassifier__class_weight': None,\n",
              " 'randomforestclassifier__criterion': 'gini',\n",
              " 'randomforestclassifier__max_depth': None,\n",
              " 'randomforestclassifier__max_features': 'auto',\n",
              " 'randomforestclassifier__max_leaf_nodes': None,\n",
              " 'randomforestclassifier__max_samples': None,\n",
              " 'randomforestclassifier__min_impurity_decrease': 0.0,\n",
              " 'randomforestclassifier__min_samples_leaf': 1,\n",
              " 'randomforestclassifier__min_samples_split': 2,\n",
              " 'randomforestclassifier__min_weight_fraction_leaf': 0.0,\n",
              " 'randomforestclassifier__n_estimators': 100,\n",
              " 'randomforestclassifier__n_jobs': None,\n",
              " 'randomforestclassifier__oob_score': False,\n",
              " 'randomforestclassifier__random_state': 42,\n",
              " 'randomforestclassifier__verbose': 0,\n",
              " 'randomforestclassifier__warm_start': False,\n",
              " 'steps': [('columntransformer', ColumnTransformer(remainder='passthrough',\n",
              "                     transformers=[('pipeline',\n",
              "                                    Pipeline(steps=[('simpleimputer',\n",
              "                                                     SimpleImputer(strategy='median')),\n",
              "                                                    ('standardscaler',\n",
              "                                                     StandardScaler())]),\n",
              "                                    <sklearn.compose._column_transformer.make_column_selector object at 0x7f8921551e90>),\n",
              "                                   ('onehotencoder',\n",
              "                                    OneHotEncoder(handle_unknown='ignore',\n",
              "                                                  sparse=False),\n",
              "                                    <sklearn.compose._column_transformer.make_column_selector object at 0x7f8921551590>)])),\n",
              "  ('randomforestclassifier', RandomForestClassifier(random_state=42))],\n",
              " 'verbose': False}"
            ]
          },
          "metadata": {},
          "execution_count": 708
        }
      ]
    },
    {
      "cell_type": "code",
      "source": [
        "#Parameters to tune\n",
        "rf_params = {'randomforestclassifier__max_depth' : [None, 5],\n",
        "             'randomforestclassifier__n_estimators' : [100, 300, 500],\n",
        "             'randomforestclassifier__min_samples_split' : [2, 4]}"
      ],
      "metadata": {
        "id": "AFon6xavIOfw"
      },
      "execution_count": 709,
      "outputs": []
    },
    {
      "cell_type": "code",
      "source": [
        "# Instantiate a gridsearch with the Random Forest model and the hyperparameter dictionary\n",
        "rf_grid = GridSearchCV(rf_pipe, rf_params)\n",
        "rf_grid.fit(X_train, y_train)"
      ],
      "metadata": {
        "colab": {
          "base_uri": "https://localhost:8080/",
          "height": 228
        },
        "outputId": "e0ab1d51-abd1-4613-e64f-16ae02871ef2",
        "id": "JnnzaiLpIOfw"
      },
      "execution_count": 710,
      "outputs": [
        {
          "output_type": "execute_result",
          "data": {
            "text/plain": [
              "GridSearchCV(estimator=Pipeline(steps=[('columntransformer',\n",
              "                                        ColumnTransformer(remainder='passthrough',\n",
              "                                                          transformers=[('pipeline',\n",
              "                                                                         Pipeline(steps=[('simpleimputer',\n",
              "                                                                                          SimpleImputer(strategy='median')),\n",
              "                                                                                         ('standardscaler',\n",
              "                                                                                          StandardScaler())]),\n",
              "                                                                         <sklearn.compose._column_transformer.make_column_selector object at 0x7f8921551e90>),\n",
              "                                                                        ('onehotencoder',\n",
              "                                                                         OneHotEncoder(handle_unknown='ignore',\n",
              "                                                                                       sparse=False),\n",
              "                                                                         <sklearn.compose._column_transformer.make_column_selector object at 0x7f8921551590>)])),\n",
              "                                       ('randomforestclassifier',\n",
              "                                        RandomForestClassifier(random_state=42))]),\n",
              "             param_grid={'randomforestclassifier__max_depth': [None, 5],\n",
              "                         'randomforestclassifier__min_samples_split': [2, 4],\n",
              "                         'randomforestclassifier__n_estimators': [100, 300,\n",
              "                                                                  500]})"
            ],
            "text/html": [
              "<style>#sk-7bf15333-f1e5-41af-a4da-380ceaeabec3 {color: black;background-color: white;}#sk-7bf15333-f1e5-41af-a4da-380ceaeabec3 pre{padding: 0;}#sk-7bf15333-f1e5-41af-a4da-380ceaeabec3 div.sk-toggleable {background-color: white;}#sk-7bf15333-f1e5-41af-a4da-380ceaeabec3 label.sk-toggleable__label {cursor: pointer;display: block;width: 100%;margin-bottom: 0;padding: 0.3em;box-sizing: border-box;text-align: center;}#sk-7bf15333-f1e5-41af-a4da-380ceaeabec3 label.sk-toggleable__label-arrow:before {content: \"▸\";float: left;margin-right: 0.25em;color: #696969;}#sk-7bf15333-f1e5-41af-a4da-380ceaeabec3 label.sk-toggleable__label-arrow:hover:before {color: black;}#sk-7bf15333-f1e5-41af-a4da-380ceaeabec3 div.sk-estimator:hover label.sk-toggleable__label-arrow:before {color: black;}#sk-7bf15333-f1e5-41af-a4da-380ceaeabec3 div.sk-toggleable__content {max-height: 0;max-width: 0;overflow: hidden;text-align: left;background-color: #f0f8ff;}#sk-7bf15333-f1e5-41af-a4da-380ceaeabec3 div.sk-toggleable__content pre {margin: 0.2em;color: black;border-radius: 0.25em;background-color: #f0f8ff;}#sk-7bf15333-f1e5-41af-a4da-380ceaeabec3 input.sk-toggleable__control:checked~div.sk-toggleable__content {max-height: 200px;max-width: 100%;overflow: auto;}#sk-7bf15333-f1e5-41af-a4da-380ceaeabec3 input.sk-toggleable__control:checked~label.sk-toggleable__label-arrow:before {content: \"▾\";}#sk-7bf15333-f1e5-41af-a4da-380ceaeabec3 div.sk-estimator input.sk-toggleable__control:checked~label.sk-toggleable__label {background-color: #d4ebff;}#sk-7bf15333-f1e5-41af-a4da-380ceaeabec3 div.sk-label input.sk-toggleable__control:checked~label.sk-toggleable__label {background-color: #d4ebff;}#sk-7bf15333-f1e5-41af-a4da-380ceaeabec3 input.sk-hidden--visually {border: 0;clip: rect(1px 1px 1px 1px);clip: rect(1px, 1px, 1px, 1px);height: 1px;margin: -1px;overflow: hidden;padding: 0;position: absolute;width: 1px;}#sk-7bf15333-f1e5-41af-a4da-380ceaeabec3 div.sk-estimator {font-family: monospace;background-color: #f0f8ff;border: 1px dotted black;border-radius: 0.25em;box-sizing: border-box;margin-bottom: 0.5em;}#sk-7bf15333-f1e5-41af-a4da-380ceaeabec3 div.sk-estimator:hover {background-color: #d4ebff;}#sk-7bf15333-f1e5-41af-a4da-380ceaeabec3 div.sk-parallel-item::after {content: \"\";width: 100%;border-bottom: 1px solid gray;flex-grow: 1;}#sk-7bf15333-f1e5-41af-a4da-380ceaeabec3 div.sk-label:hover label.sk-toggleable__label {background-color: #d4ebff;}#sk-7bf15333-f1e5-41af-a4da-380ceaeabec3 div.sk-serial::before {content: \"\";position: absolute;border-left: 1px solid gray;box-sizing: border-box;top: 2em;bottom: 0;left: 50%;}#sk-7bf15333-f1e5-41af-a4da-380ceaeabec3 div.sk-serial {display: flex;flex-direction: column;align-items: center;background-color: white;padding-right: 0.2em;padding-left: 0.2em;}#sk-7bf15333-f1e5-41af-a4da-380ceaeabec3 div.sk-item {z-index: 1;}#sk-7bf15333-f1e5-41af-a4da-380ceaeabec3 div.sk-parallel {display: flex;align-items: stretch;justify-content: center;background-color: white;}#sk-7bf15333-f1e5-41af-a4da-380ceaeabec3 div.sk-parallel::before {content: \"\";position: absolute;border-left: 1px solid gray;box-sizing: border-box;top: 2em;bottom: 0;left: 50%;}#sk-7bf15333-f1e5-41af-a4da-380ceaeabec3 div.sk-parallel-item {display: flex;flex-direction: column;position: relative;background-color: white;}#sk-7bf15333-f1e5-41af-a4da-380ceaeabec3 div.sk-parallel-item:first-child::after {align-self: flex-end;width: 50%;}#sk-7bf15333-f1e5-41af-a4da-380ceaeabec3 div.sk-parallel-item:last-child::after {align-self: flex-start;width: 50%;}#sk-7bf15333-f1e5-41af-a4da-380ceaeabec3 div.sk-parallel-item:only-child::after {width: 0;}#sk-7bf15333-f1e5-41af-a4da-380ceaeabec3 div.sk-dashed-wrapped {border: 1px dashed gray;margin: 0 0.4em 0.5em 0.4em;box-sizing: border-box;padding-bottom: 0.4em;background-color: white;position: relative;}#sk-7bf15333-f1e5-41af-a4da-380ceaeabec3 div.sk-label label {font-family: monospace;font-weight: bold;background-color: white;display: inline-block;line-height: 1.2em;}#sk-7bf15333-f1e5-41af-a4da-380ceaeabec3 div.sk-label-container {position: relative;z-index: 2;text-align: center;}#sk-7bf15333-f1e5-41af-a4da-380ceaeabec3 div.sk-container {/* jupyter's `normalize.less` sets `[hidden] { display: none; }` but bootstrap.min.css set `[hidden] { display: none !important; }` so we also need the `!important` here to be able to override the default hidden behavior on the sphinx rendered scikit-learn.org. See: https://github.com/scikit-learn/scikit-learn/issues/21755 */display: inline-block !important;position: relative;}#sk-7bf15333-f1e5-41af-a4da-380ceaeabec3 div.sk-text-repr-fallback {display: none;}</style><div id=\"sk-7bf15333-f1e5-41af-a4da-380ceaeabec3\" class=\"sk-top-container\"><div class=\"sk-text-repr-fallback\"><pre>GridSearchCV(estimator=Pipeline(steps=[(&#x27;columntransformer&#x27;,\n",
              "                                        ColumnTransformer(remainder=&#x27;passthrough&#x27;,\n",
              "                                                          transformers=[(&#x27;pipeline&#x27;,\n",
              "                                                                         Pipeline(steps=[(&#x27;simpleimputer&#x27;,\n",
              "                                                                                          SimpleImputer(strategy=&#x27;median&#x27;)),\n",
              "                                                                                         (&#x27;standardscaler&#x27;,\n",
              "                                                                                          StandardScaler())]),\n",
              "                                                                         &lt;sklearn.compose._column_transformer.make_column_selector object at 0x7f8921551e90&gt;),\n",
              "                                                                        (&#x27;onehotencoder&#x27;,\n",
              "                                                                         OneHotEncoder(handle_unknown=&#x27;ignore&#x27;,\n",
              "                                                                                       sparse=False),\n",
              "                                                                         &lt;sklearn.compose._column_transformer.make_column_selector object at 0x7f8921551590&gt;)])),\n",
              "                                       (&#x27;randomforestclassifier&#x27;,\n",
              "                                        RandomForestClassifier(random_state=42))]),\n",
              "             param_grid={&#x27;randomforestclassifier__max_depth&#x27;: [None, 5],\n",
              "                         &#x27;randomforestclassifier__min_samples_split&#x27;: [2, 4],\n",
              "                         &#x27;randomforestclassifier__n_estimators&#x27;: [100, 300,\n",
              "                                                                  500]})</pre><b>Please rerun this cell to show the HTML repr or trust the notebook.</b></div><div class=\"sk-container\" hidden><div class=\"sk-item sk-dashed-wrapped\"><div class=\"sk-label-container\"><div class=\"sk-label sk-toggleable\"><input class=\"sk-toggleable__control sk-hidden--visually\" id=\"afa339fc-217f-45d1-bf67-abaa4663d121\" type=\"checkbox\" ><label for=\"afa339fc-217f-45d1-bf67-abaa4663d121\" class=\"sk-toggleable__label sk-toggleable__label-arrow\">GridSearchCV</label><div class=\"sk-toggleable__content\"><pre>GridSearchCV(estimator=Pipeline(steps=[(&#x27;columntransformer&#x27;,\n",
              "                                        ColumnTransformer(remainder=&#x27;passthrough&#x27;,\n",
              "                                                          transformers=[(&#x27;pipeline&#x27;,\n",
              "                                                                         Pipeline(steps=[(&#x27;simpleimputer&#x27;,\n",
              "                                                                                          SimpleImputer(strategy=&#x27;median&#x27;)),\n",
              "                                                                                         (&#x27;standardscaler&#x27;,\n",
              "                                                                                          StandardScaler())]),\n",
              "                                                                         &lt;sklearn.compose._column_transformer.make_column_selector object at 0x7f8921551e90&gt;),\n",
              "                                                                        (&#x27;onehotencoder&#x27;,\n",
              "                                                                         OneHotEncoder(handle_unknown=&#x27;ignore&#x27;,\n",
              "                                                                                       sparse=False),\n",
              "                                                                         &lt;sklearn.compose._column_transformer.make_column_selector object at 0x7f8921551590&gt;)])),\n",
              "                                       (&#x27;randomforestclassifier&#x27;,\n",
              "                                        RandomForestClassifier(random_state=42))]),\n",
              "             param_grid={&#x27;randomforestclassifier__max_depth&#x27;: [None, 5],\n",
              "                         &#x27;randomforestclassifier__min_samples_split&#x27;: [2, 4],\n",
              "                         &#x27;randomforestclassifier__n_estimators&#x27;: [100, 300,\n",
              "                                                                  500]})</pre></div></div></div><div class=\"sk-parallel\"><div class=\"sk-parallel-item\"><div class=\"sk-item\"><div class=\"sk-serial\"><div class=\"sk-item\"><div class=\"sk-serial\"><div class=\"sk-item sk-dashed-wrapped\"><div class=\"sk-label-container\"><div class=\"sk-label sk-toggleable\"><input class=\"sk-toggleable__control sk-hidden--visually\" id=\"1bef3259-68d9-4cd6-9daa-c135c738449c\" type=\"checkbox\" ><label for=\"1bef3259-68d9-4cd6-9daa-c135c738449c\" class=\"sk-toggleable__label sk-toggleable__label-arrow\">columntransformer: ColumnTransformer</label><div class=\"sk-toggleable__content\"><pre>ColumnTransformer(remainder=&#x27;passthrough&#x27;,\n",
              "                  transformers=[(&#x27;pipeline&#x27;,\n",
              "                                 Pipeline(steps=[(&#x27;simpleimputer&#x27;,\n",
              "                                                  SimpleImputer(strategy=&#x27;median&#x27;)),\n",
              "                                                 (&#x27;standardscaler&#x27;,\n",
              "                                                  StandardScaler())]),\n",
              "                                 &lt;sklearn.compose._column_transformer.make_column_selector object at 0x7f8921551e90&gt;),\n",
              "                                (&#x27;onehotencoder&#x27;,\n",
              "                                 OneHotEncoder(handle_unknown=&#x27;ignore&#x27;,\n",
              "                                               sparse=False),\n",
              "                                 &lt;sklearn.compose._column_transformer.make_column_selector object at 0x7f8921551590&gt;)])</pre></div></div></div><div class=\"sk-parallel\"><div class=\"sk-parallel-item\"><div class=\"sk-item\"><div class=\"sk-label-container\"><div class=\"sk-label sk-toggleable\"><input class=\"sk-toggleable__control sk-hidden--visually\" id=\"e9379ba2-9666-422b-a42a-c908a8f1ce63\" type=\"checkbox\" ><label for=\"e9379ba2-9666-422b-a42a-c908a8f1ce63\" class=\"sk-toggleable__label sk-toggleable__label-arrow\">pipeline</label><div class=\"sk-toggleable__content\"><pre>&lt;sklearn.compose._column_transformer.make_column_selector object at 0x7f8921551e90&gt;</pre></div></div></div><div class=\"sk-serial\"><div class=\"sk-item\"><div class=\"sk-serial\"><div class=\"sk-item\"><div class=\"sk-estimator sk-toggleable\"><input class=\"sk-toggleable__control sk-hidden--visually\" id=\"aaf4ca89-7253-49c9-a189-fb092e8af971\" type=\"checkbox\" ><label for=\"aaf4ca89-7253-49c9-a189-fb092e8af971\" class=\"sk-toggleable__label sk-toggleable__label-arrow\">SimpleImputer</label><div class=\"sk-toggleable__content\"><pre>SimpleImputer(strategy=&#x27;median&#x27;)</pre></div></div></div><div class=\"sk-item\"><div class=\"sk-estimator sk-toggleable\"><input class=\"sk-toggleable__control sk-hidden--visually\" id=\"ff37d672-b8a8-40a4-807c-ec81ac0e8f47\" type=\"checkbox\" ><label for=\"ff37d672-b8a8-40a4-807c-ec81ac0e8f47\" class=\"sk-toggleable__label sk-toggleable__label-arrow\">StandardScaler</label><div class=\"sk-toggleable__content\"><pre>StandardScaler()</pre></div></div></div></div></div></div></div></div><div class=\"sk-parallel-item\"><div class=\"sk-item\"><div class=\"sk-label-container\"><div class=\"sk-label sk-toggleable\"><input class=\"sk-toggleable__control sk-hidden--visually\" id=\"2ad067b8-e8dc-4a1f-8e46-06c049d0b4ed\" type=\"checkbox\" ><label for=\"2ad067b8-e8dc-4a1f-8e46-06c049d0b4ed\" class=\"sk-toggleable__label sk-toggleable__label-arrow\">onehotencoder</label><div class=\"sk-toggleable__content\"><pre>&lt;sklearn.compose._column_transformer.make_column_selector object at 0x7f8921551590&gt;</pre></div></div></div><div class=\"sk-serial\"><div class=\"sk-item\"><div class=\"sk-estimator sk-toggleable\"><input class=\"sk-toggleable__control sk-hidden--visually\" id=\"d8732a34-4d72-464b-b0a2-5721fac5949a\" type=\"checkbox\" ><label for=\"d8732a34-4d72-464b-b0a2-5721fac5949a\" class=\"sk-toggleable__label sk-toggleable__label-arrow\">OneHotEncoder</label><div class=\"sk-toggleable__content\"><pre>OneHotEncoder(handle_unknown=&#x27;ignore&#x27;, sparse=False)</pre></div></div></div></div></div></div><div class=\"sk-parallel-item\"><div class=\"sk-item\"><div class=\"sk-label-container\"><div class=\"sk-label sk-toggleable\"><input class=\"sk-toggleable__control sk-hidden--visually\" id=\"dd0a6775-c659-4d83-94ad-2cecf9e9135f\" type=\"checkbox\" ><label for=\"dd0a6775-c659-4d83-94ad-2cecf9e9135f\" class=\"sk-toggleable__label sk-toggleable__label-arrow\">remainder</label><div class=\"sk-toggleable__content\"><pre>[]</pre></div></div></div><div class=\"sk-serial\"><div class=\"sk-item\"><div class=\"sk-estimator sk-toggleable\"><input class=\"sk-toggleable__control sk-hidden--visually\" id=\"678093d2-1c82-4c61-99e3-1a670ab3c4a2\" type=\"checkbox\" ><label for=\"678093d2-1c82-4c61-99e3-1a670ab3c4a2\" class=\"sk-toggleable__label sk-toggleable__label-arrow\">passthrough</label><div class=\"sk-toggleable__content\"><pre>passthrough</pre></div></div></div></div></div></div></div></div><div class=\"sk-item\"><div class=\"sk-estimator sk-toggleable\"><input class=\"sk-toggleable__control sk-hidden--visually\" id=\"79dcf527-0c3f-41fa-87d4-42e322e96e1d\" type=\"checkbox\" ><label for=\"79dcf527-0c3f-41fa-87d4-42e322e96e1d\" class=\"sk-toggleable__label sk-toggleable__label-arrow\">RandomForestClassifier</label><div class=\"sk-toggleable__content\"><pre>RandomForestClassifier(random_state=42)</pre></div></div></div></div></div></div></div></div></div></div></div></div>"
            ]
          },
          "metadata": {},
          "execution_count": 710
        }
      ]
    },
    {
      "cell_type": "code",
      "source": [
        "# Check the optimal combinations of hyperparameters\n",
        "rf_grid.best_params_"
      ],
      "metadata": {
        "colab": {
          "base_uri": "https://localhost:8080/"
        },
        "outputId": "18bcc126-29be-4b25-ee64-3c764f008103",
        "id": "GLCFV69qIOfw"
      },
      "execution_count": 711,
      "outputs": [
        {
          "output_type": "execute_result",
          "data": {
            "text/plain": [
              "{'randomforestclassifier__max_depth': None,\n",
              " 'randomforestclassifier__min_samples_split': 4,\n",
              " 'randomforestclassifier__n_estimators': 100}"
            ]
          },
          "metadata": {},
          "execution_count": 711
        }
      ]
    },
    {
      "cell_type": "code",
      "source": [
        "# extract the best version of the model from the gridsearch object\n",
        "best_rf = rf_grid.best_estimator_"
      ],
      "metadata": {
        "id": "u8sMMbY0IOfw"
      },
      "execution_count": 712,
      "outputs": []
    },
    {
      "cell_type": "code",
      "source": [
        "# Run a classification report on both train and test datasets for the best model. \n",
        "train_rf_preds = best_rf.predict(X_train)\n",
        "test_rf_preds = best_rf.predict(X_test)\n",
        "\n",
        "print('Best Model Training Metrics')\n",
        "print(classification_report(y_train, train_rf_preds, digits = 4))\n",
        "print('\\nBest Model Testing Metrics')\n",
        "print(classification_report(y_test, test_rf_preds, digits = 4))"
      ],
      "metadata": {
        "colab": {
          "base_uri": "https://localhost:8080/"
        },
        "outputId": "665a3b67-d758-401a-be5e-8bd78664fc54",
        "id": "YaCkURM7IOfw"
      },
      "execution_count": 714,
      "outputs": [
        {
          "output_type": "stream",
          "name": "stdout",
          "text": [
            "Best Model Training Metrics\n",
            "              precision    recall  f1-score   support\n",
            "\n",
            "           0     0.9915    0.9775    0.9844       356\n",
            "           1     0.9846    0.9942    0.9894       514\n",
            "\n",
            "    accuracy                         0.9874       870\n",
            "   macro avg     0.9880    0.9858    0.9869       870\n",
            "weighted avg     0.9874    0.9874    0.9873       870\n",
            "\n",
            "\n",
            "Best Model Testing Metrics\n",
            "              precision    recall  f1-score   support\n",
            "\n",
            "           0     0.8136    0.7680    0.7901       125\n",
            "           1     0.8314    0.8667    0.8487       165\n",
            "\n",
            "    accuracy                         0.8241       290\n",
            "   macro avg     0.8225    0.8173    0.8194       290\n",
            "weighted avg     0.8237    0.8241    0.8234       290\n",
            "\n"
          ]
        }
      ]
    },
    {
      "cell_type": "markdown",
      "source": [
        "- We can see from the above results that tuning our Random Forest model only slightly improved results by bringing the scores for the training set closer to the testing set. This slightly reduces overfitting."
      ],
      "metadata": {
        "id": "AKjfszZiLtFC"
      }
    },
    {
      "cell_type": "markdown",
      "source": [
        "**b) Confusion Matrices**"
      ],
      "metadata": {
        "id": "ssxwVr24IOfx"
      }
    },
    {
      "cell_type": "code",
      "source": [
        "# \"The following Code (\"fig, ax\") adapted from: https://panjeh.medium.com/figure-size-plot-confusion-matrix-in-scikit-learn-2c66f3a69d81\"\n",
        "fig, ax = plt.subplots(figsize=(8, 4))\n",
        "ConfusionMatrixDisplay.from_predictions(y_test, test_rf_preds, cmap = 'Blues',  normalize = 'true', ax=ax)"
      ],
      "metadata": {
        "colab": {
          "base_uri": "https://localhost:8080/",
          "height": 297
        },
        "outputId": "80927baf-6149-4434-d19a-8eff37ab1085",
        "id": "eX4WaX0zIOfx"
      },
      "execution_count": 715,
      "outputs": [
        {
          "output_type": "execute_result",
          "data": {
            "text/plain": [
              "<sklearn.metrics._plot.confusion_matrix.ConfusionMatrixDisplay at 0x7f8921146110>"
            ]
          },
          "metadata": {},
          "execution_count": 715
        },
        {
          "output_type": "display_data",
          "data": {
            "text/plain": [
              "<Figure size 576x288 with 2 Axes>"
            ],
            "image/png": "[encoded data removed]"
          },
          "metadata": {
            "needs_background": "light"
          }
        }
      ]
    },
    {
      "cell_type": "markdown",
      "source": [
        "Our optimized Random Forest model successfully classified 87% of the samples in our test set that were class 1 ('**High**' representing \"high actual productivity\"), and 77% of the samples in our test set that were class 0 ('**Low**' representing \"low actual productivity\")."
      ],
      "metadata": {
        "id": "-sXDEQ0nR4sN"
      }
    },
    {
      "cell_type": "markdown",
      "source": [
        "### 23. Choose one final model.\n",
        "\n",
        "- Based on accuracy scores, I would choose the optimized Random Forest model. It seems to have the highest accuracy (0.824) on the testing set of all the three models (Logistic regression, KNN and Random Forest) I compared.  The optimized logistic regression model had an accuracy of 0.745. The optimized KNN had an accuracy of 0.710.\n",
        "\n",
        "- Also, based on the confusion matrices, our optimized Random Forest model successfully classified 87% of the samples in our test set that were class 1 ('High' representing \"high actual productivity\"), and 77% of the samples in our test set that were class 0 ('Low' representing \"low actual productivity\"). Our optimized KNN model successfully classified 78% of the samples in our test set that were class 1 ('**High**' representing \"high actual productivity\"), and 62% of the samples in our test set that were class 0 ('**Low**' representing \"low actual productivity\"). Our optimized logistic regression model successfully classified 86% of the samples in our test set that were class 1 ('**High**' representing \"high actual productivity\"), and 57% of the samples in our test set that were class 0 ('**Low**' representing \"low actual productivity\"). Since the optimized Random Forest model was successful at correctly classifying a higher percentage of samples in our test set, I would choose the Random Forest model.\n",
        "\n",
        "- As a result of the above reasons, I would choose the Random Forest model."
      ],
      "metadata": {
        "id": "OQ2RHW_tK85g"
      }
    }
  ]
}